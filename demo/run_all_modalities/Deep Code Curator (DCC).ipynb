{
 "cells": [
  {
   "cell_type": "markdown",
   "metadata": {},
   "source": [
    "# Deep Code Curator\n",
    "\n",
    "## Prerequisites"
   ]
  },
  {
   "cell_type": "markdown",
   "metadata": {},
   "source": [
    "Please check our [readme](https://github.com/deepcurator/DCC/tree/new_demo/demo/run_all_modalities) for the requirements file and other prerequisites."
   ]
  },
  {
   "cell_type": "markdown",
   "metadata": {},
   "source": [
    "## Import Modules"
   ]
  },
  {
   "cell_type": "code",
   "execution_count": null,
   "metadata": {},
   "outputs": [],
   "source": [
    "import sys\n",
    "import os\n",
    "\n",
    "sys.path.append(os.path.abspath('../../src'))\n",
    "\n",
    "import text2graph\n",
    "import shlex\n",
    "import diagram2graph\n",
    "import pytesseract\n",
    "import code2graph\n",
    "\n",
    "print(\"Necessary modules have been successfully imported!\")\n",
    "\n",
    "%load_ext autoreload\n",
    "%autoreload 2\n",
    "\n",
    "# Comment below line for LINUX - Update below path for WINDOWS\n",
    "pytesseract.pytesseract.tesseract_cmd = r\"C:\\Program Files\\Tesseract-OCR\\tesseract.exe\""
   ]
  },
  {
   "cell_type": "markdown",
   "metadata": {},
   "source": [
    "## Specify Input and Output Folders"
   ]
  },
  {
   "cell_type": "code",
   "execution_count": null,
   "metadata": {},
   "outputs": [],
   "source": [
    "inputFolder = 'demo_input'\n",
    "outputFolder = 'demo_output'\n",
    "ontology_file = \"DeepSciKG.nt\"\n",
    "text2graph_models_dir = \"text2graph_models\"\n",
    "image2graph_models_dir = \"image2graph_models\"\n",
    "\n",
    "# You can replace the following path with the path to the code repository you want to generate RDF graph for.\n",
    "code_repository_path = \"demo_code/condensenet-tensorflow-master\""
   ]
  },
  {
   "cell_type": "markdown",
   "metadata": {},
   "source": [
    "## Run Text2Graph!"
   ]
  },
  {
   "cell_type": "code",
   "execution_count": null,
   "metadata": {},
   "outputs": [],
   "source": [
    "from text2graph import t2graph\n",
    "\n",
    "os.environ['http_proxy'] = \"\"\n",
    "os.environ['https_proxy'] = \"\"\n",
    "\n",
    "t2graph.run(inputFolder, outputFolder, ontology_file, text2graph_models_dir)"
   ]
  },
  {
   "cell_type": "markdown",
   "metadata": {},
   "source": [
    "## Run Code2Graph!"
   ]
  },
  {
   "cell_type": "code",
   "execution_count": null,
   "metadata": {},
   "outputs": [],
   "source": [
    "os.environ['http_proxy'] = \"194.138.0.9:9400\" \n",
    "os.environ['https_proxy'] = \"194.138.0.9:9400\" \n",
    "\n",
    "from code2graph.script import script_lightweight\n",
    "\n",
    "# The following command runs the script on input code repository and generates an RDF graph in turtle format.\n",
    "# The generated RDF graph file is placed inside the input code repository path.\n",
    "command = \"python script_lightweight.py -ip %s -opt 3 --arg --url\" % code_repository_path\n",
    "\n",
    "argv = shlex.split(command)\n",
    "script_lightweight.pipeline_the_lightweight_approach(argv[2:])\n",
    "\n",
    "#try:\n",
    " #   os.remove(outputFolder + \"/code2graph.rdf\")\n",
    "#except:\n",
    " #   pass\n",
    "\n",
    "#os.rename(code_repository_path + \"/rdf_graph.rdf\", outputFolder + \"/code2graph.rdf\")\n"
   ]
  },
  {
   "cell_type": "markdown",
   "metadata": {},
   "source": [
    "## Run Image2Graph!"
   ]
  },
  {
   "cell_type": "code",
   "execution_count": null,
   "metadata": {},
   "outputs": [],
   "source": [
    "from diagram2graph.FigAnalysis.ShapeExtraction import image2graph\n",
    "\n",
    "image2graph.run(inputFolder, outputFolder, ontology_file, image2graph_models_dir)"
   ]
  }
 ],
 "metadata": {
  "kernelspec": {
   "display_name": "all4",
   "language": "python",
   "name": "all4"
  },
  "language_info": {
   "codemirror_mode": {
    "name": "ipython",
    "version": 3
   },
   "file_extension": ".py",
   "mimetype": "text/x-python",
   "name": "python",
   "nbconvert_exporter": "python",
   "pygments_lexer": "ipython3",
   "version": "3.7.3"
  }
 },
 "nbformat": 4,
 "nbformat_minor": 2
}

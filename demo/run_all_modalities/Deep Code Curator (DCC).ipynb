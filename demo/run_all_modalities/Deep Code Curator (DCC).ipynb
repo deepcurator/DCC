{
 "cells": [
  {
   "cell_type": "markdown",
   "metadata": {},
   "source": [
    "# Deep Code Curator\n",
    "\n",
    "## Prerequisites"
   ]
  },
  {
   "cell_type": "markdown",
   "metadata": {},
   "source": [
    "Please check our [readme](https://github.com/deepcurator/DCC/tree/new_demo/demo/run_all_modalities) for the requirements file and other prerequisites."
   ]
  },
  {
   "cell_type": "markdown",
   "metadata": {},
   "source": [
    "## Import Modules"
   ]
  },
  {
   "cell_type": "code",
   "execution_count": 120,
   "metadata": {},
   "outputs": [
    {
     "name": "stdout",
     "output_type": "stream",
     "text": [
      "Necessary modules have been successfully imported!\n",
      "The autoreload extension is already loaded. To reload it, use:\n",
      "  %reload_ext autoreload\n"
     ]
    }
   ],
   "source": [
    "import sys\n",
    "import os\n",
    "\n",
    "sys.path.append(os.path.abspath('../../src'))\n",
    "\n",
    "import text2graph\n",
    "import shlex\n",
    "import diagram2graph\n",
    "import pytesseract\n",
    "import code2graph\n",
    "\n",
    "from visualize import get_code2graph_vis, get_text2graph_vis, get_image2graph_vis\n",
    "import pyvis\n",
    "from rdflib import Graph\n",
    "\n",
    "print(\"Necessary modules have been successfully imported!\")\n",
    "\n",
    "%load_ext autoreload\n",
    "%autoreload 2\n",
    "\n",
    "# Comment below line for LINUX - Update below path for WINDOWS\n",
    "pytesseract.pytesseract.tesseract_cmd = r\"C:\\Program Files\\Tesseract-OCR\\tesseract.exe\"\n",
    "\n",
    "grobid_client = \"grobid-client-python\""
   ]
  },
  {
   "cell_type": "markdown",
   "metadata": {},
   "source": [
    "## Specify Input /Output Folders and Required Dependencies"
   ]
  },
  {
   "cell_type": "code",
   "execution_count": 121,
   "metadata": {},
   "outputs": [],
   "source": [
    "# --------- INPUT ---------\n",
    "# Path to the folder which contains the input pdf file(s)\n",
    "inputFolder = 'demo_input'\n",
    "# Path to the folder which contains the code repository of the paper in the inputFolder\n",
    "code_repository_path = \"demo_code/condensenet-tensorflow-master\"\n",
    "\n",
    "# --------- OUTPUT ---------\n",
    "# Path to the folder to which output from all three modalities will be placed\n",
    "outputFolder = 'demo_output'\n",
    "\n",
    "# --------- DEPENDENCIES ---------\n",
    "# The dependencies that you have downloaded following the instructions from README\n",
    "ontology_file = \"DeepSciKG.nt\"\n",
    "text2graph_models_dir = \"text2graph_models\"\n",
    "image2graph_models_dir = \"image2graph_models\n"
   ]
  },
  {
   "cell_type": "markdown",
   "metadata": {},
   "source": [
    "## Run Text2Graph!"
   ]
  },
  {
   "cell_type": "code",
   "execution_count": 122,
   "metadata": {},
   "outputs": [
    {
     "name": "stdout",
     "output_type": "stream",
     "text": [
      "[Info] Extracting XML from PDF's...\n",
      "[Info] Extracting abstracts from XML's...\n",
      "[Info] Extracting entities/relationships and generating RDF's...\n",
      "Completed processing file 1802.06006v2.txt\n",
      "Saving rdf file demo_output/text2graph.ttl\n",
      "[Info] Completed text2graph pipeline!\n"
     ]
    }
   ],
   "source": [
    "from text2graph import t2graph\n",
    "\n",
    "# Uncomment below two lines if you have a proxy in your network\n",
    "os.environ['http_proxy'] = \"\"\n",
    "os.environ['https_proxy'] = \"\"\n",
    "\n",
    "t2graph.run(inputFolder, outputFolder, ontology_file, text2graph_models_dir, grobid_client)"
   ]
  },
  {
   "cell_type": "markdown",
   "metadata": {},
   "source": [
    "## Run Code2Graph!"
   ]
  },
  {
   "cell_type": "code",
   "execution_count": 3,
   "metadata": {},
   "outputs": [
    {
     "name": "stdout",
     "output_type": "stream",
     "text": [
      "Reading cached tf types file\n",
      "Listing 'C:\\\\aske-2\\\\demo\\\\new\\\\DCC\\\\demo\\\\run_all_modalities\\\\demo_code\\\\condensenet-tensorflow-master'...\n",
      "Compiling 'C:\\\\aske-2\\\\demo\\\\new\\\\DCC\\\\demo\\\\run_all_modalities\\\\demo_code\\\\condensenet-tensorflow-master\\\\cifar10.py'...\n",
      "Listing 'C:\\\\aske-2\\\\demo\\\\new\\\\DCC\\\\demo\\\\run_all_modalities\\\\demo_code\\\\condensenet-tensorflow-master\\\\data'...\n",
      "Compiling 'C:\\\\aske-2\\\\demo\\\\new\\\\DCC\\\\demo\\\\run_all_modalities\\\\demo_code\\\\condensenet-tensorflow-master\\\\data\\\\generate_cifar10_tfrecords.py'...\n",
      "Compiling 'C:\\\\aske-2\\\\demo\\\\new\\\\DCC\\\\demo\\\\run_all_modalities\\\\demo_code\\\\condensenet-tensorflow-master\\\\experiment.py'...\n",
      "Compiling 'C:\\\\aske-2\\\\demo\\\\new\\\\DCC\\\\demo\\\\run_all_modalities\\\\demo_code\\\\condensenet-tensorflow-master\\\\main.py'...\n",
      "Compiling 'C:\\\\aske-2\\\\demo\\\\new\\\\DCC\\\\demo\\\\run_all_modalities\\\\demo_code\\\\condensenet-tensorflow-master\\\\model.py'...\n",
      "C:\\aske-2\\demo\\new\\DCC\\demo\\run_all_modalities\\demo_code\\condensenet-tensorflow-master\\cifar10.py\n",
      "C:\\aske-2\\demo\\new\\DCC\\demo\\run_all_modalities\\demo_code\\condensenet-tensorflow-master\\experiment.py\n",
      "C:\\aske-2\\demo\\new\\DCC\\demo\\run_all_modalities\\demo_code\\condensenet-tensorflow-master\\main.py\n",
      "C:\\aske-2\\demo\\new\\DCC\\demo\\run_all_modalities\\demo_code\\condensenet-tensorflow-master\\model.py\n",
      "C:\\aske-2\\demo\\new\\DCC\\demo\\run_all_modalities\\demo_code\\condensenet-tensorflow-master\\data\\generate_cifar10_tfrecords.py\n",
      "C:\\aske-2\\demo\\new\\DCC\\demo\\run_all_modalities\\demo_code\\condensenet-tensorflow-master\\cifar10.py\n",
      "C:\\aske-2\\demo\\new\\DCC\\demo\\run_all_modalities\\demo_code\\condensenet-tensorflow-master\\experiment.py\n",
      "C:\\aske-2\\demo\\new\\DCC\\demo\\run_all_modalities\\demo_code\\condensenet-tensorflow-master\\main.py\n",
      "C:\\aske-2\\demo\\new\\DCC\\demo\\run_all_modalities\\demo_code\\condensenet-tensorflow-master\\model.py\n",
      "C:\\aske-2\\demo\\new\\DCC\\demo\\run_all_modalities\\demo_code\\condensenet-tensorflow-master\\data\\generate_cifar10_tfrecords.py\n",
      "Start from root: <Node module:main>\n",
      "Start from root: <Node module:generate_cifar10_tfrecords>\n",
      "dump info with option 6: dump_rdf\n"
     ]
    }
   ],
   "source": [
    "# Uncomment below two lines if you have a proxy in your network\n",
    "# Update the ip address and the port number with your proxy information\n",
    "os.environ['http_proxy'] = \"194.138.0.9:9400\" \n",
    "os.environ['https_proxy'] = \"194.138.0.9:9400\" \n",
    "\n",
    "from code2graph.script import script_lightweight\n",
    "\n",
    "# The following command runs the script on input code repository and generates an RDF graph in turtle format.\n",
    "# The generated RDF graph file is placed inside the input code repository path.\n",
    "command = \"python script_lightweight.py -ip %s -opt 6 --arg --url\" % code_repository_path\n",
    "\n",
    "argv = shlex.split(command)\n",
    "script_lightweight.pipeline_the_lightweight_approach(argv[2:])\n",
    "\n",
    "try:\n",
    "    os.remove(outputFolder + \"/code2graph.rdf\")\n",
    "except:\n",
    "    pass\n",
    "\n",
    "os.rename(code_repository_path + \"/rdf_graph.rdf\", outputFolder + \"/code2graph.rdf\")"
   ]
  },
  {
   "cell_type": "markdown",
   "metadata": {},
   "source": [
    "## Run Image2Graph!"
   ]
  },
  {
   "cell_type": "code",
   "execution_count": null,
   "metadata": {},
   "outputs": [],
   "source": [
    "from diagram2graph.FigAnalysis.ShapeExtraction import image2graph\n",
    "\n",
    "image2graph.run(inputFolder, outputFolder, ontology_file, image2graph_models_dir)"
   ]
  }
 ],
 "metadata": {
  "kernelspec": {
   "display_name": "all4",
   "language": "python",
   "name": "all4"
  },
  "language_info": {
   "codemirror_mode": {
    "name": "ipython",
    "version": 3
   },
   "file_extension": ".py",
   "mimetype": "text/x-python",
   "name": "python",
   "nbconvert_exporter": "python",
   "pygments_lexer": "ipython3",
   "version": "3.7.3"
  }
 },
 "nbformat": 4,
 "nbformat_minor": 2
}

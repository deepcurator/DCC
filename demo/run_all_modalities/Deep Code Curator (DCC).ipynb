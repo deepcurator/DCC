{
 "cells": [
  {
   "cell_type": "markdown",
   "metadata": {},
   "source": [
    "# Deep Code Curator\n",
    "\n",
    "## Prerequisites"
   ]
  },
  {
   "cell_type": "markdown",
   "metadata": {},
   "source": [
    "Please check our [readme](./) for the requirements file and other prerequisites."
   ]
  },
  {
   "cell_type": "markdown",
   "metadata": {},
   "source": [
    "## Import Modules"
   ]
  },
  {
   "cell_type": "code",
   "execution_count": 1,
   "metadata": {},
   "outputs": [
    {
     "name": "stdout",
     "output_type": "stream",
     "text": [
      "Necessary modules have been successfully imported!\n"
     ]
    }
   ],
   "source": [
    "import sys\n",
    "import os\n",
    "\n",
    "sys.path.append(os.path.abspath('../../src'))\n",
    "\n",
    "import text2graph\n",
    "import diagram2graph\n",
    "import code2graph\n",
    "import pytesseract\n",
    "import IPython\n",
    "\n",
    "%load_ext autoreload\n",
    "%autoreload 2\n",
    "\n",
    "print(\"Necessary modules have been successfully imported!\")"
   ]
  },
  {
   "cell_type": "markdown",
   "metadata": {},
   "source": [
    "## Specify Input /Output Folders and Required Dependencies\n",
    "<a id=\"input\"></a>"
   ]
  },
  {
   "cell_type": "code",
   "execution_count": 33,
   "metadata": {},
   "outputs": [],
   "source": [
    "# --------- INPUT ---------\n",
    "# Path to the folder which contains the input pdf file(s)\n",
    "### We included a sample paper in the demo_input folder\n",
    "inputFolder = 'demo_input'\n",
    "# Path to the folder which contains the code repository of the paper in the inputFolder\n",
    "### For the sample paper we provided, you can download the project code \n",
    "### as a zip from https://github.com/mikacuy/pointnetvlad and extract to the folder demo_code\n",
    "code_repository_path = \"demo_code/pointnetvlad-master\"\n",
    "\n",
    "# --------- OUTPUT ---------\n",
    "# Path to the folder to which the output from all three modalities will be placed\n",
    "outputFolder = 'demo_output'\n",
    "\n",
    "# --------- DEPENDENCIES ---------\n",
    "# The dependencies that you have downloaded following the instructions from README\n",
    "ontology_file = \"DeepSciKG.nt\"\n",
    "text2graph_models_dir = \"text2graph_models\"\n",
    "image2graph_models_dir = \"image2graph_models\"\n",
    "grobid_client = \"grobid-client-python\"\n",
    "# Comment below line for LINUX - Update below path for WINDOWS\n",
    "pytesseract.pytesseract.tesseract_cmd = r\"C:\\Program Files\\Tesseract-OCR\\tesseract.exe\""
   ]
  },
  {
   "cell_type": "markdown",
   "metadata": {},
   "source": [
    "## Run Text2Graph!\n",
    "Reminders: Make sure that Grobid Server is running! (cd into the grobid-0.5.5 folder and run `gradle run`)"
   ]
  },
  {
   "cell_type": "code",
   "execution_count": 4,
   "metadata": {},
   "outputs": [
    {
     "name": "stdout",
     "output_type": "stream",
     "text": [
      "[Info] Extracting XML from PDF's...\n",
      "[Info] Extracting abstracts from XML's...\n",
      "[Info] Extracting entities/relationships and generating RDF's...\n",
      "Completed processing file Uy_PointNetVLAD_Deep_Point_CVPR_2018_paper.txt\n",
      "Saving rdf file demo_output/text2graph/text2graph.ttl\n",
      "[Info] Completed text2graph pipeline!\n"
     ]
    }
   ],
   "source": [
    "from text2graph import t2graph\n",
    "\n",
    "# Uncomment below two lines if you have a proxy in your network\n",
    "# os.environ['http_proxy'] = \"\"\n",
    "# os.environ['https_proxy'] = \"\"\n",
    "\n",
    "t2graph.run(inputFolder, outputFolder, ontology_file, text2graph_models_dir, grobid_client)"
   ]
  },
  {
   "cell_type": "markdown",
   "metadata": {},
   "source": [
    "If you have seen the message \"[Info] Completed text2graph pipeline!\", this means you can now explore the output of the text2graph module in the outputFolder you specified. The file `text2graph.ttl` contains the output graph!"
   ]
  },
  {
   "cell_type": "markdown",
   "metadata": {},
   "source": [
    "## Run Code2Graph!"
   ]
  },
  {
   "cell_type": "code",
   "execution_count": 34,
   "metadata": {},
   "outputs": [
    {
     "name": "stdout",
     "output_type": "stream",
     "text": [
      "Listing 'C:\\\\aske-2\\\\demo\\\\new\\\\DCC\\\\demo\\\\run_all_modalities\\\\demo_code\\\\pointnetvlad-master'...\n",
      "Compiling 'C:\\\\aske-2\\\\demo\\\\new\\\\DCC\\\\demo\\\\run_all_modalities\\\\demo_code\\\\pointnetvlad-master\\\\evaluate.py'...\n",
      "Listing 'C:\\\\aske-2\\\\demo\\\\new\\\\DCC\\\\demo\\\\run_all_modalities\\\\demo_code\\\\pointnetvlad-master\\\\generating_queries'...\n",
      "Compiling 'C:\\\\aske-2\\\\demo\\\\new\\\\DCC\\\\demo\\\\run_all_modalities\\\\demo_code\\\\pointnetvlad-master\\\\generating_queries\\\\generate_test_sets.py'...\n",
      "Compiling 'C:\\\\aske-2\\\\demo\\\\new\\\\DCC\\\\demo\\\\run_all_modalities\\\\demo_code\\\\pointnetvlad-master\\\\generating_queries\\\\generate_training_tuples_baseline.py'...\n",
      "Compiling 'C:\\\\aske-2\\\\demo\\\\new\\\\DCC\\\\demo\\\\run_all_modalities\\\\demo_code\\\\pointnetvlad-master\\\\generating_queries\\\\generate_training_tuples_refine.py'...\n",
      "Compiling 'C:\\\\aske-2\\\\demo\\\\new\\\\DCC\\\\demo\\\\run_all_modalities\\\\demo_code\\\\pointnetvlad-master\\\\loading_pointclouds.py'...\n",
      "Compiling 'C:\\\\aske-2\\\\demo\\\\new\\\\DCC\\\\demo\\\\run_all_modalities\\\\demo_code\\\\pointnetvlad-master\\\\loupe.py'...\n",
      "Compiling 'C:\\\\aske-2\\\\demo\\\\new\\\\DCC\\\\demo\\\\run_all_modalities\\\\demo_code\\\\pointnetvlad-master\\\\pointnetvlad_cls.py'...\n",
      "Listing 'C:\\\\aske-2\\\\demo\\\\new\\\\DCC\\\\demo\\\\run_all_modalities\\\\demo_code\\\\pointnetvlad-master\\\\submap_generation'...\n",
      "Compiling 'C:\\\\aske-2\\\\demo\\\\new\\\\DCC\\\\demo\\\\run_all_modalities\\\\demo_code\\\\pointnetvlad-master\\\\tf_util.py'...\n",
      "Compiling 'C:\\\\aske-2\\\\demo\\\\new\\\\DCC\\\\demo\\\\run_all_modalities\\\\demo_code\\\\pointnetvlad-master\\\\train_pointnetvlad.py'...\n",
      "Compiling 'C:\\\\aske-2\\\\demo\\\\new\\\\DCC\\\\demo\\\\run_all_modalities\\\\demo_code\\\\pointnetvlad-master\\\\transform_nets.py'...\n",
      "C:\\aske-2\\demo\\new\\DCC\\demo\\run_all_modalities\\demo_code\\pointnetvlad-master\\evaluate.py\n",
      "C:\\aske-2\\demo\\new\\DCC\\demo\\run_all_modalities\\demo_code\\pointnetvlad-master\\loading_pointclouds.py\n",
      "C:\\aske-2\\demo\\new\\DCC\\demo\\run_all_modalities\\demo_code\\pointnetvlad-master\\loupe.py\n",
      "C:\\aske-2\\demo\\new\\DCC\\demo\\run_all_modalities\\demo_code\\pointnetvlad-master\\pointnetvlad_cls.py\n",
      "C:\\aske-2\\demo\\new\\DCC\\demo\\run_all_modalities\\demo_code\\pointnetvlad-master\\tf_util.py\n",
      "C:\\aske-2\\demo\\new\\DCC\\demo\\run_all_modalities\\demo_code\\pointnetvlad-master\\train_pointnetvlad.py\n",
      "C:\\aske-2\\demo\\new\\DCC\\demo\\run_all_modalities\\demo_code\\pointnetvlad-master\\transform_nets.py\n",
      "C:\\aske-2\\demo\\new\\DCC\\demo\\run_all_modalities\\demo_code\\pointnetvlad-master\\generating_queries\\generate_test_sets.py\n",
      "C:\\aske-2\\demo\\new\\DCC\\demo\\run_all_modalities\\demo_code\\pointnetvlad-master\\generating_queries\\generate_training_tuples_baseline.py\n",
      "C:\\aske-2\\demo\\new\\DCC\\demo\\run_all_modalities\\demo_code\\pointnetvlad-master\\generating_queries\\generate_training_tuples_refine.py\n",
      "C:\\aske-2\\demo\\new\\DCC\\demo\\run_all_modalities\\demo_code\\pointnetvlad-master\\evaluate.py\n",
      "C:\\aske-2\\demo\\new\\DCC\\demo\\run_all_modalities\\demo_code\\pointnetvlad-master\\loading_pointclouds.py\n",
      "C:\\aske-2\\demo\\new\\DCC\\demo\\run_all_modalities\\demo_code\\pointnetvlad-master\\loupe.py\n",
      "C:\\aske-2\\demo\\new\\DCC\\demo\\run_all_modalities\\demo_code\\pointnetvlad-master\\pointnetvlad_cls.py\n",
      "C:\\aske-2\\demo\\new\\DCC\\demo\\run_all_modalities\\demo_code\\pointnetvlad-master\\tf_util.py\n",
      "C:\\aske-2\\demo\\new\\DCC\\demo\\run_all_modalities\\demo_code\\pointnetvlad-master\\train_pointnetvlad.py\n",
      "C:\\aske-2\\demo\\new\\DCC\\demo\\run_all_modalities\\demo_code\\pointnetvlad-master\\transform_nets.py\n",
      "C:\\aske-2\\demo\\new\\DCC\\demo\\run_all_modalities\\demo_code\\pointnetvlad-master\\generating_queries\\generate_test_sets.py\n",
      "C:\\aske-2\\demo\\new\\DCC\\demo\\run_all_modalities\\demo_code\\pointnetvlad-master\\generating_queries\\generate_training_tuples_baseline.py\n",
      "C:\\aske-2\\demo\\new\\DCC\\demo\\run_all_modalities\\demo_code\\pointnetvlad-master\\generating_queries\\generate_training_tuples_refine.py\n",
      "Start from root: <Node function:loading_pointclouds.get_jittered_tuple>\n",
      "Start from root: <Node function:pointnetvlad_cls.lazy_quadruplet_loss_sm>\n",
      "Start from root: <Node namespace:tf_util.dropout.lambda>\n",
      "Start from root: <Node module:evaluate>\n",
      "Start from root: <Node module:generate_test_sets>\n",
      "Start from root: <Node module:generate_training_tuples_refine>\n",
      "Start from root: <Node module:train_pointnetvlad>\n",
      "Start from root: <Node module:generate_training_tuples_baseline>\n",
      "Start from root: <Node function:pointnetvlad_cls.quadruplet_loss_sm>\n",
      "Start from root: <Node function:loading_pointclouds.get_rotated_tuple>\n",
      "Start from root: <Node function:pointnetvlad_cls.quadruplet_loss>\n",
      "dump info with option 3: dump_rdf_graphs\n",
      "[Info] Completed code2graph pipeline!\n"
     ]
    }
   ],
   "source": [
    "from code2graph import c2graph\n",
    "\n",
    "# Uncomment below two lines if you have a proxy in your network\n",
    "# Update the ip address and the port number with your proxy information\n",
    "# os.environ['http_proxy'] = \"194.138.0.9:9400\" \n",
    "# os.environ['https_proxy'] = \"194.138.0.9:9400\" \n",
    "\n",
    "c2graph.run(code_repository_path, outputFolder)"
   ]
  },
  {
   "cell_type": "markdown",
   "metadata": {},
   "source": [
    "If you have seen the message \"[Info] Completed code2graph pipeline!\", this means you can now explore the output of the code2graph module in the outputFolder you specified. The file `code2graph.ttl` contains the output graph!\n",
    "\n",
    "There is a graph visualization created for each of the input python files from the repository. Change the filename in the below cell to display different graph visualizations."
   ]
  },
  {
   "cell_type": "code",
   "execution_count": 39,
   "metadata": {},
   "outputs": [
    {
     "data": {
      "text/html": [
       "<iframe src=demo_output/code2graph/pointnetvlad_clsquadruplet_loss.html width=100% height=350></iframe>"
      ],
      "text/plain": [
       "<IPython.core.display.HTML object>"
      ]
     },
     "execution_count": 39,
     "metadata": {},
     "output_type": "execute_result"
    }
   ],
   "source": [
    "# Visualize code2graph results\n",
    "# You may change the below file name to display graphs for other python files\n",
    "vis_file_to_display = outputFolder + \"/code2graph/pointnetvlad_clsquadruplet_loss.html\"\n",
    "iframe = '<iframe src=' + vis_file_to_display + ' width=100% height=350></iframe>'\n",
    "IPython.display.HTML(iframe)"
   ]
  },
  {
   "cell_type": "markdown",
   "metadata": {},
   "source": [
    "## Run Image2Graph!"
   ]
  },
  {
   "cell_type": "code",
   "execution_count": 40,
   "metadata": {},
   "outputs": [
    {
     "name": "stderr",
     "output_type": "stream",
     "text": [
      "Using TensorFlow backend.\n"
     ]
    },
    {
     "name": "stdout",
     "output_type": "stream",
     "text": [
      "[INFO] Loading trained models ...\n",
      "WARNING:tensorflow:From C:\\Users\\z002ftnu\\AppData\\Local\\Continuum\\anaconda3\\envs\\all4\\lib\\site-packages\\keras\\backend\\tensorflow_backend.py:74: The name tf.get_default_graph is deprecated. Please use tf.compat.v1.get_default_graph instead.\n",
      "\n",
      "WARNING:tensorflow:From C:\\Users\\z002ftnu\\AppData\\Local\\Continuum\\anaconda3\\envs\\all4\\lib\\site-packages\\keras\\backend\\tensorflow_backend.py:517: The name tf.placeholder is deprecated. Please use tf.compat.v1.placeholder instead.\n",
      "\n",
      "WARNING:tensorflow:From C:\\Users\\z002ftnu\\AppData\\Local\\Continuum\\anaconda3\\envs\\all4\\lib\\site-packages\\keras\\backend\\tensorflow_backend.py:4138: The name tf.random_uniform is deprecated. Please use tf.random.uniform instead.\n",
      "\n",
      "WARNING:tensorflow:From C:\\Users\\z002ftnu\\AppData\\Local\\Continuum\\anaconda3\\envs\\all4\\lib\\site-packages\\keras\\backend\\tensorflow_backend.py:133: The name tf.placeholder_with_default is deprecated. Please use tf.compat.v1.placeholder_with_default instead.\n",
      "\n",
      "WARNING:tensorflow:From C:\\Users\\z002ftnu\\AppData\\Local\\Continuum\\anaconda3\\envs\\all4\\lib\\site-packages\\keras\\backend\\tensorflow_backend.py:3445: calling dropout (from tensorflow.python.ops.nn_ops) with keep_prob is deprecated and will be removed in a future version.\n",
      "Instructions for updating:\n",
      "Please use `rate` instead of `keep_prob`. Rate should be set to `rate = 1 - keep_prob`.\n",
      "WARNING:tensorflow:From C:\\Users\\z002ftnu\\AppData\\Local\\Continuum\\anaconda3\\envs\\all4\\lib\\site-packages\\keras\\backend\\tensorflow_backend.py:174: The name tf.get_default_session is deprecated. Please use tf.compat.v1.get_default_session instead.\n",
      "\n",
      "Loaded binary classifier model from disk\n",
      "Loaded multiclass classifier model from disk\n",
      "[INFO] Loading and analyzing images ...\n",
      "WARNING:tensorflow:From C:\\Users\\z002ftnu\\AppData\\Local\\Continuum\\anaconda3\\envs\\all4\\lib\\site-packages\\keras\\backend\\tensorflow_backend.py:3976: The name tf.nn.max_pool is deprecated. Please use tf.nn.max_pool2d instead.\n",
      "\n",
      "[INFO] Creating RDF graph ...\n",
      "Processing paper: Uy_PointNetVLAD_Deep_Point_CVPR_2018_paper.pdf\n",
      "demo_output/image2graph/Uy_PointNetVLAD_Deep_Point_CVPR_2018_paper/diag2graph\n",
      "['demo_output/image2graph/Uy_PointNetVLAD_Deep_Point_CVPR_2018_paper/diag2graph\\\\Uy_PointNetVLAD_Deep_Point_CVPR_2018_paper-Figure2-1.txt']\n",
      "[Info] Completed image2graph pipeline!\n"
     ]
    }
   ],
   "source": [
    "from diagram2graph.FigAnalysis.ShapeExtraction import i2graph\n",
    "\n",
    "i2graph.run(inputFolder, outputFolder, ontology_file, image2graph_models_dir)"
   ]
  },
  {
   "cell_type": "markdown",
   "metadata": {},
   "source": [
    "If you have seen the message \"[Info] Completed image2graph pipeline!\", this means you can now explore the output of the image2graph module in the outputFolder you specified. The file `image2graph.ttl` contains the output graph!"
   ]
  }
 ],
 "metadata": {
  "kernelspec": {
   "display_name": "all4",
   "language": "python",
   "name": "all4"
  },
  "language_info": {
   "codemirror_mode": {
    "name": "ipython",
    "version": 3
   },
   "file_extension": ".py",
   "mimetype": "text/x-python",
   "name": "python",
   "nbconvert_exporter": "python",
   "pygments_lexer": "ipython3",
   "version": "3.7.3"
  }
 },
 "nbformat": 4,
 "nbformat_minor": 2
}

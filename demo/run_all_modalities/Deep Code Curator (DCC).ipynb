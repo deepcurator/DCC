{
 "cells": [
  {
   "cell_type": "markdown",
   "metadata": {},
   "source": [
    "# Deep Code Curator\n",
    "\n",
    "## Prerequisites"
   ]
  },
  {
   "cell_type": "markdown",
   "metadata": {},
   "source": [
    "Please check our [readme](https://github.com/deepcurator/DCC/tree/new_demo/demo/run_all_modalities) for the requirements file and other prerequisites."
   ]
  },
  {
   "cell_type": "markdown",
   "metadata": {},
   "source": [
    "## Import Modules"
   ]
  },
  {
   "cell_type": "code",
   "execution_count": 23,
   "metadata": {},
   "outputs": [
    {
     "name": "stdout",
     "output_type": "stream",
     "text": [
      "Reading cached tf types file\n",
      "The autoreload extension is already loaded. To reload it, use:\n",
      "  %reload_ext autoreload\n",
      "Necessary modules have been successfully imported!\n"
     ]
    }
   ],
   "source": [
    "import sys\n",
    "import os\n",
    "\n",
    "sys.path.append(os.path.abspath('../../src'))\n",
    "\n",
    "import text2graph\n",
    "import diagram2graph\n",
    "import code2graph\n",
    "import pytesseract\n",
    "\n",
    "%load_ext autoreload\n",
    "%autoreload 2\n",
    "\n",
    "print(\"Necessary modules have been successfully imported!\")"
   ]
  },
  {
   "cell_type": "markdown",
   "metadata": {},
   "source": [
    "## Specify Input /Output Folders and Required Dependencies\n",
    "<a id=\"input\"></a>"
   ]
  },
  {
   "cell_type": "code",
   "execution_count": 24,
   "metadata": {},
   "outputs": [],
   "source": [
    "# --------- INPUT ---------\n",
    "# Path to the folder which contains the input pdf file(s)\n",
    "inputFolder = 'demo_input'\n",
    "# Path to the folder which contains the code repository of the paper in the inputFolder\n",
    "code_repository_path = \"demo_code/condensenet-tensorflow-master\"\n",
    "\n",
    "# --------- OUTPUT ---------\n",
    "# Path to the folder to which output from all three modalities will be placed\n",
    "outputFolder = 'demo_output'\n",
    "\n",
    "# --------- DEPENDENCIES ---------\n",
    "# The dependencies that you have downloaded following the instructions from README\n",
    "ontology_file = \"DeepSciKG.nt\"\n",
    "text2graph_models_dir = \"text2graph_models\"\n",
    "image2graph_models_dir = \"image2graph_models\"\n",
    "grobid_client = \"grobid-client-python\"\n",
    "# Comment below line for LINUX - Update below path for WINDOWS\n",
    "pytesseract.pytesseract.tesseract_cmd = r\"C:\\Program Files\\Tesseract-OCR\\tesseract.exe\""
   ]
  },
  {
   "cell_type": "markdown",
   "metadata": {},
   "source": [
    "## Run Text2Graph!"
   ]
  },
  {
   "cell_type": "code",
   "execution_count": null,
   "metadata": {},
   "outputs": [],
   "source": [
    "from text2graph import t2graph\n",
    "\n",
    "# Uncomment below two lines if you have a proxy in your network\n",
    "os.environ['http_proxy'] = \"\"\n",
    "os.environ['https_proxy'] = \"\"\n",
    "\n",
    "t2graph.run(inputFolder, outputFolder, ontology_file, text2graph_models_dir, grobid_client)"
   ]
  },
  {
   "cell_type": "markdown",
   "metadata": {},
   "source": [
    "## Run Code2Graph!"
   ]
  },
  {
   "cell_type": "code",
   "execution_count": 25,
   "metadata": {},
   "outputs": [
    {
     "name": "stdout",
     "output_type": "stream",
     "text": [
      "Listing 'C:\\\\aske-2\\\\demo\\\\new\\\\DCC\\\\demo\\\\run_all_modalities\\\\demo_code\\\\condensenet-tensorflow-master'...\n",
      "Compiling 'C:\\\\aske-2\\\\demo\\\\new\\\\DCC\\\\demo\\\\run_all_modalities\\\\demo_code\\\\condensenet-tensorflow-master\\\\cifar10.py'...\n",
      "Listing 'C:\\\\aske-2\\\\demo\\\\new\\\\DCC\\\\demo\\\\run_all_modalities\\\\demo_code\\\\condensenet-tensorflow-master\\\\data'...\n",
      "Compiling 'C:\\\\aske-2\\\\demo\\\\new\\\\DCC\\\\demo\\\\run_all_modalities\\\\demo_code\\\\condensenet-tensorflow-master\\\\data\\\\generate_cifar10_tfrecords.py'...\n",
      "Compiling 'C:\\\\aske-2\\\\demo\\\\new\\\\DCC\\\\demo\\\\run_all_modalities\\\\demo_code\\\\condensenet-tensorflow-master\\\\experiment.py'...\n",
      "Compiling 'C:\\\\aske-2\\\\demo\\\\new\\\\DCC\\\\demo\\\\run_all_modalities\\\\demo_code\\\\condensenet-tensorflow-master\\\\main.py'...\n",
      "Compiling 'C:\\\\aske-2\\\\demo\\\\new\\\\DCC\\\\demo\\\\run_all_modalities\\\\demo_code\\\\condensenet-tensorflow-master\\\\model.py'...\n",
      "C:\\aske-2\\demo\\new\\DCC\\demo\\run_all_modalities\\demo_code\\condensenet-tensorflow-master\\cifar10.py\n",
      "C:\\aske-2\\demo\\new\\DCC\\demo\\run_all_modalities\\demo_code\\condensenet-tensorflow-master\\experiment.py\n",
      "C:\\aske-2\\demo\\new\\DCC\\demo\\run_all_modalities\\demo_code\\condensenet-tensorflow-master\\main.py\n",
      "C:\\aske-2\\demo\\new\\DCC\\demo\\run_all_modalities\\demo_code\\condensenet-tensorflow-master\\model.py\n",
      "C:\\aske-2\\demo\\new\\DCC\\demo\\run_all_modalities\\demo_code\\condensenet-tensorflow-master\\data\\generate_cifar10_tfrecords.py\n",
      "C:\\aske-2\\demo\\new\\DCC\\demo\\run_all_modalities\\demo_code\\condensenet-tensorflow-master\\cifar10.py\n",
      "C:\\aske-2\\demo\\new\\DCC\\demo\\run_all_modalities\\demo_code\\condensenet-tensorflow-master\\experiment.py\n",
      "C:\\aske-2\\demo\\new\\DCC\\demo\\run_all_modalities\\demo_code\\condensenet-tensorflow-master\\main.py\n",
      "C:\\aske-2\\demo\\new\\DCC\\demo\\run_all_modalities\\demo_code\\condensenet-tensorflow-master\\model.py\n",
      "C:\\aske-2\\demo\\new\\DCC\\demo\\run_all_modalities\\demo_code\\condensenet-tensorflow-master\\data\\generate_cifar10_tfrecords.py\n",
      "Start from root: <Node module:main>\n",
      "Start from root: <Node module:generate_cifar10_tfrecords>\n",
      "dump info with option 3: dump_rdf_graphs\n",
      "[Info] Completed code2graph pipeline!\n"
     ]
    }
   ],
   "source": [
    "from code2graph import c2graph\n",
    "\n",
    "# Uncomment below two lines if you have a proxy in your network\n",
    "# Update the ip address and the port number with your proxy information\n",
    "os.environ['http_proxy'] = \"194.138.0.9:9400\" \n",
    "os.environ['https_proxy'] = \"194.138.0.9:9400\" \n",
    "\n",
    "c2graph.run(code_repository_path, outputFolder)"
   ]
  },
  {
   "cell_type": "code",
   "execution_count": 29,
   "metadata": {},
   "outputs": [
    {
     "data": {
      "text/html": [
       "<iframe src=demo_output/code2graph/main.html width=100% height=350></iframe>"
      ],
      "text/plain": [
       "<IPython.core.display.HTML object>"
      ]
     },
     "execution_count": 29,
     "metadata": {},
     "output_type": "execute_result"
    }
   ],
   "source": [
    "import IPython\n",
    "\n",
    "vis_file_to_display = outputFolder + \"/code2graph/main.html\"\n",
    "iframe = '<iframe src=' + vis_file_to_display + ' width=100% height=350></iframe>'\n",
    "IPython.display.HTML(iframe)"
   ]
  },
  {
   "cell_type": "markdown",
   "metadata": {},
   "source": [
    "## Run Image2Graph!"
   ]
  },
  {
   "cell_type": "code",
   "execution_count": 3,
   "metadata": {},
   "outputs": [
    {
     "name": "stderr",
     "output_type": "stream",
     "text": [
      "Using TensorFlow backend.\n"
     ]
    },
    {
     "name": "stdout",
     "output_type": "stream",
     "text": [
      "[INFO] Loading trained models ...\n",
      "WARNING:tensorflow:From C:\\Users\\z002ftnu\\AppData\\Local\\Continuum\\anaconda3\\envs\\all4\\lib\\site-packages\\keras\\backend\\tensorflow_backend.py:74: The name tf.get_default_graph is deprecated. Please use tf.compat.v1.get_default_graph instead.\n",
      "\n",
      "WARNING:tensorflow:From C:\\Users\\z002ftnu\\AppData\\Local\\Continuum\\anaconda3\\envs\\all4\\lib\\site-packages\\keras\\backend\\tensorflow_backend.py:517: The name tf.placeholder is deprecated. Please use tf.compat.v1.placeholder instead.\n",
      "\n",
      "WARNING:tensorflow:From C:\\Users\\z002ftnu\\AppData\\Local\\Continuum\\anaconda3\\envs\\all4\\lib\\site-packages\\keras\\backend\\tensorflow_backend.py:4138: The name tf.random_uniform is deprecated. Please use tf.random.uniform instead.\n",
      "\n",
      "WARNING:tensorflow:From C:\\Users\\z002ftnu\\AppData\\Local\\Continuum\\anaconda3\\envs\\all4\\lib\\site-packages\\keras\\backend\\tensorflow_backend.py:133: The name tf.placeholder_with_default is deprecated. Please use tf.compat.v1.placeholder_with_default instead.\n",
      "\n",
      "WARNING:tensorflow:From C:\\Users\\z002ftnu\\AppData\\Local\\Continuum\\anaconda3\\envs\\all4\\lib\\site-packages\\keras\\backend\\tensorflow_backend.py:3445: calling dropout (from tensorflow.python.ops.nn_ops) with keep_prob is deprecated and will be removed in a future version.\n",
      "Instructions for updating:\n",
      "Please use `rate` instead of `keep_prob`. Rate should be set to `rate = 1 - keep_prob`.\n",
      "WARNING:tensorflow:From C:\\Users\\z002ftnu\\AppData\\Local\\Continuum\\anaconda3\\envs\\all4\\lib\\site-packages\\keras\\backend\\tensorflow_backend.py:174: The name tf.get_default_session is deprecated. Please use tf.compat.v1.get_default_session instead.\n",
      "\n",
      "Loaded binary classifier model from disk\n",
      "Loaded multiclass classifier model from disk\n",
      "[INFO] Loading and analyzing images ...\n",
      "WARNING:tensorflow:From C:\\Users\\z002ftnu\\AppData\\Local\\Continuum\\anaconda3\\envs\\all4\\lib\\site-packages\\keras\\backend\\tensorflow_backend.py:3976: The name tf.nn.max_pool is deprecated. Please use tf.nn.max_pool2d instead.\n",
      "\n",
      "[INFO] Creating RDF graph ...\n",
      "Processing paper: 1802.06006v2.pdf\n",
      "demo_output/image2graph/1802.06006v2/diag2graph\n",
      "['demo_output/image2graph/1802.06006v2/diag2graph\\\\1802.06006v2-Figure2-1.txt', 'demo_output/image2graph/1802.06006v2/diag2graph\\\\1802.06006v2-Figure7-1.txt', 'demo_output/image2graph/1802.06006v2/diag2graph\\\\1802.06006v2-Figure9-1.txt']\n",
      "[Info] Completed image2graph pipeline!\n"
     ]
    }
   ],
   "source": [
    "from diagram2graph.FigAnalysis.ShapeExtraction import i2graph\n",
    "\n",
    "i2graph.run(inputFolder, outputFolder, ontology_file, image2graph_models_dir)"
   ]
  }
 ],
 "metadata": {
  "kernelspec": {
   "display_name": "all4",
   "language": "python",
   "name": "all4"
  },
  "language_info": {
   "codemirror_mode": {
    "name": "ipython",
    "version": 3
   },
   "file_extension": ".py",
   "mimetype": "text/x-python",
   "name": "python",
   "nbconvert_exporter": "python",
   "pygments_lexer": "ipython3",
   "version": "3.7.3"
  }
 },
 "nbformat": 4,
 "nbformat_minor": 2
}

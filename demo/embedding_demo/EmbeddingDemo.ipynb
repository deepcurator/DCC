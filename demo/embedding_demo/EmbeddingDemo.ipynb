{
 "cells": [
  {
   "cell_type": "markdown",
   "metadata": {},
   "source": [
    "## Imports "
   ]
  },
  {
   "cell_type": "code",
   "execution_count": 1,
   "metadata": {},
   "outputs": [
    {
     "data": {
      "text/html": [
       "        <script type=\"text/javascript\">\n",
       "        window.PlotlyConfig = {MathJaxConfig: 'local'};\n",
       "        if (window.MathJax) {MathJax.Hub.Config({SVG: {font: \"STIX-Web\"}});}\n",
       "        if (typeof require !== 'undefined') {\n",
       "        require.undef(\"plotly\");\n",
       "        requirejs.config({\n",
       "            paths: {\n",
       "                'plotly': ['https://cdn.plot.ly/plotly-latest.min']\n",
       "            }\n",
       "        });\n",
       "        require(['plotly'], function(Plotly) {\n",
       "            window._Plotly = Plotly;\n",
       "        });\n",
       "        }\n",
       "        </script>\n",
       "        "
      ]
     },
     "metadata": {},
     "output_type": "display_data"
    }
   ],
   "source": [
    "import os\n",
    "import numpy as np\n",
    "import pandas as pd\n",
    "import yaml\n",
    "\n",
    "import cufflinks as cf\n",
    "import plotly.offline\n",
    "cf.go_offline()\n",
    "cf.set_config_file(offline=False, world_readable=True)"
   ]
  },
  {
   "cell_type": "code",
   "execution_count": 6,
   "metadata": {},
   "outputs": [],
   "source": [
    "from sklearn.manifold import SpectralEmbedding, TSNE, LocallyLinearEmbedding, MDS\n",
    "from sklearn.decomposition import PCA\n",
    "\n",
    "config = yaml.safe_load(open('../../conf/conf.yaml'))\n",
    "data_path=os.path.join(config['DATA_PATH'],'embedding_results')\n",
    "\n",
    "# load supernode embedding and metadata:\n",
    "def load_emb_data(tag, data_path=data_path):\n",
    "    #emb=pd.read_csv('dcc_supernodes_combo.csv',header=None,sep='\\t')\n",
    "    emb=np.loadtxt(os.path.join(data_path,'dcc_supernodes_{}.csv'.format(tag)))\n",
    "    meta=pd.read_csv(os.path.join(data_path,'dcc_supernodes_labels_{}.txt'.format(tag)),encoding='latin1',sep='\\t')\n",
    "    return(emb,meta)\n",
    "\n",
    "### generate visualization\n",
    "def visualize(emb,meta,method='TSNE',dim=2, n_iter=300, title=\"\"):\n",
    "    if method == 'TSNE':   \n",
    "        tsne = TSNE(n_components=dim, verbose=1, perplexity=5, n_iter=n_iter, init='pca')\n",
    "        results = tsne.fit_transform(emb)\n",
    "    elif method == 'PCA':\n",
    "        pca = PCA(n_components=dim)\n",
    "        results=pca.fit_transform(emb)\n",
    "    elif method == 'SpectralEmbedding':\n",
    "        speb = SpectralEmbedding(n_components=dim)\n",
    "        results = speb.fit_transform(emb)\n",
    "    elif method == 'MDS':\n",
    "        mds=MDS(n_components=dim)\n",
    "        results = mds.fit_transform(emb)\n",
    "    elif method == 'LLE':\n",
    "        lle = LocallyLinearEmbedding(n_components=dim)\n",
    "        results = lle.fit_transform(emb)\n",
    "    else:\n",
    "        print('Unknown method')\n",
    "        return\n",
    "    meta['x']=results[:,0]\n",
    "    meta['y']=results[:,1]\n",
    "    if(dim==2):\n",
    "        meta.iplot(kind='scatter',x=\"x\",y=\"y\", text=\"Title\", categories=\"Conference\", title=title)\n",
    "    elif(dim==3):\n",
    "        meta['z']=results[:,2]\n",
    "        meta.iplot(kind='scatter3d',x=\"x\",y=\"y\",z=\"z\", text=\"Title\", categories=\"Conference\", title=title)\n",
    "    else:\n",
    "        print('Dimension is not right')"
   ]
  },
  {
   "cell_type": "markdown",
   "metadata": {},
   "source": [
    "## Visualizing Embeddings of Single Modalities"
   ]
  },
  {
   "cell_type": "code",
   "execution_count": 7,
   "metadata": {},
   "outputs": [
    {
     "name": "stdout",
     "output_type": "stream",
     "text": [
      "[t-SNE] Computing 16 nearest neighbors...\n",
      "[t-SNE] Indexed 410 samples in 0.001s...\n",
      "[t-SNE] Computed neighbors for 410 samples in 0.006s...\n",
      "[t-SNE] Computed conditional probabilities for sample 410 / 410\n",
      "[t-SNE] Mean sigma: 0.442954\n",
      "[t-SNE] KL divergence after 250 iterations with early exaggeration: 82.101074\n",
      "[t-SNE] KL divergence after 500 iterations: 0.958247\n"
     ]
    },
    {
     "data": {
      "application/vnd.plotly.v1+json": {
       "config": {
        "linkText": "Export to plot.ly",
        "plotlyServerURL": "https://plot.ly",
        "showLink": true
       },
       "data": [
        {
         "marker": {
          "color": "rgba(255, 153, 51, 1.0)",
          "line": {
           "width": 1.3
          },
          "opacity": 0.8,
          "size": 12,
          "symbol": "circle"
         },
         "mode": "markers",
         "name": "NIPS",
         "text": [
          "Visualizing the Loss Landscape of Neural Nets",
          "PointCNN",
          "L4: Practical loss-based stepsize adaptation for deep learning",
          "Multimodal Generative Models for Scalable Weakly-Supervised Learning",
          "Neural Voice Cloning with a Few Samples",
          "The Description Length of Deep Learning models",
          "Deep Defense: Training DNNs with Improved Adversarial Robustness",
          "Adversarial Logit Pairing",
          "Realistic Evaluation of Deep Semi-Supervised Learning Algorithms",
          "DVAE#: Discrete Variational Autoencoders with Relaxed Boltzmann Priors",
          "BourGAN: Generative Networks with Metric Embeddings",
          "Bilinear Attention Networks",
          "Breaking the Activation Function Bottleneck through Adaptive Parameterization",
          "Hyperbolic Neural Networks",
          "Learning towards Minimum Hyperspherical Energy",
          "Generalizing to Unseen Domains via Adversarial Data Augmentation",
          "On GANs and GMMs",
          "Assessing Generative Models via Precision and Recall",
          "Relational recurrent neural networks",
          "Unsupervised Attention-guided Image-to-Image Translation",
          "Speaker-Follower Models for Vision-and-Language Navigation",
          "ATOMO: Communication-efficient Learning via Atomic Sparsification",
          "Generative Neural Machine Translation",
          "Banach Wasserstein GAN",
          "Neural Code Comprehension: A Learnable Representation of Code Semantics",
          "3D Steerable CNNs: Learning Rotationally Equivariant Features in Volumetric Data",
          "Discovery of Latent 3D Keypoints via End-to-end Geometric Reasoning",
          "An intriguing failing of convolutional neural networks and the CoordConv solution",
          "Latent Alignment and Variational Attention",
          "Neural Arithmetic Logic Units",
          "Adaptive Skip Intervals: Temporal Abstraction for Recurrent Dynamical Models",
          "Video-to-Video Synthesis",
          "Generalisation in humans and deep neural networks",
          "A Unified Feature Disentangler for Multi-Domain Image Translation and Manipulation",
          "Neural Guided Constraint Logic Programming for Program Synthesis",
          "Deep Subspace Clustering Networks",
          "Dilated Recurrent Neural Networks",
          "Structured Embedding Models for Grouped Data",
          "Best of Both Worlds: Transferring Knowledge from Discriminative Learning to a Generative Visual Dialog Model",
          "Learning a Multi-View Stereo Machine",
          "Universal Style Transfer via Feature Transforms",
          "f-GANs in an Information Geometric Nutshell",
          "Toward Multimodal Image-to-Image Translation",
          "One-Sided Unsupervised Domain Mapping",
          "Deep Mean-Shift Priors for Image Restoration",
          "SchNet: A continuous-filter convolutional neural network for modeling quantum interactions",
          "Inductive Representation Learning on Large Graphs",
          "Mean teachers are better role models: Weight-averaged consistency targets improve semi-supervised deep learning results",
          "TernGrad: Ternary Gradients to Reduce Communication in Distributed Deep Learning",
          "NeuralFDR: Learning Discovery Thresholds from Hypothesis Features",
          "Learning Multiple Tasks with Multilinear Relationship Networks",
          "Train longer, generalize better: closing the generalization gap in large batch training of neural networks",
          "The Numerics of GANs",
          "Stabilizing Training of Generative Adversarial Networks through Regularization",
          "Training Deep Networks without Learning Rates Through Coin Betting",
          "MMD GAN: Towards Deeper Understanding of Moment Matching Network",
          "Few-Shot Learning Through an Information Retrieval  Lens",
          "Differentiable Learning of Logical Rules for Knowledge Base Reasoning",
          "OnACID: Online Analysis of Calcium Imaging Data in Real Time",
          "Fisher GAN",
          "Toward Goal-Driven Neural Network Models for the Rodent Whisker-Trigeminal System",
          "Predicting Organic Reaction Outcomes with Weisfeiler-Lehman Network",
          "REBAR: Low-variance, unbiased gradient estimates for discrete latent variable models",
          "ELF: An Extensive, Lightweight and Flexible Research Platform for Real-time Strategy Games",
          "Dual Discriminator Generative Adversarial Nets",
          "Bridging the Gap Between Value and Policy Based Reinforcement Learning",
          "Convolutional Gaussian Processes",
          "Deep Lattice Networks and Partial Monotonic Functions",
          "Hierarchical Attentive Recurrent Tracking",
          "Learning to Compose Domain-Specific Transformations for Data Augmentation",
          "Language Modeling with Recurrent Highway Hypernetworks",
          "Bayesian Compression for Deep Learning",
          "Streaming Sparse Gaussian Process Approximations",
          "Spherical convolutions and their application in molecular modelling",
          "Neural system identification for large populations separating what and where",
          "A Disentangled Recognition and Nonlinear Dynamics Model for Unsupervised Learning",
          "Bayesian GAN",
          "Geometric Matrix Completion with Recurrent Multi-Graph Neural Networks",
          "Diving into the shallows: a computational perspective on large-scale shallow learning",
          "InfoGAIL: Interpretable Imitation Learning from Visual Demonstrations",
          "Deep Hyperspherical Learning",
          "On-the-fly Operation Batching in Dynamic Computation Graphs",
          "Streaming Weak Submodularity: Interpreting Neural Networks on the Fly",
          "Prototypical Networks for Few-shot Learning",
          "Multi-Information Source Optimization",
          "Dual Path Networks",
          "Doubly Stochastic Variational Inference for Deep Gaussian Processes",
          "QMDP-Net: Deep Learning for Planning under Partial Observability",
          "A Unified Approach to Interpreting Model Predictions",
          "Context Selection for Embedding Models",
          "Working hard to know your neighbor's margins: Local descriptor learning loss",
          "Learning to Prune Deep Neural Networks via Layer-wise Optimal Brain Surgeon",
          "DropoutNet: Addressing Cold Start in Recommender Systems",
          "PointNet++: Deep Hierarchical Feature Learning on Point Sets in a Metric Space",
          "A-NICE-MC: Adversarial Training for MCMC",
          "Riemannian approach to batch normalization",
          "Triangle Generative Adversarial Networks",
          "Scalable trust-region method for deep reinforcement learning using Kronecker-factored approximation",
          "Hybrid Reward Architecture for Reinforcement Learning",
          "AdaGAN: Boosting Generative Models",
          "Task-based End-to-end Model Learning in Stochastic Optimization",
          "Gradient descent GAN optimization is locally stable",
          "Do Deep Neural Networks Suffer from Crowding?",
          "Improved Training of Wasserstein GANs",
          "Learning Disentangled Representations with Semi-Supervised Deep Generative Models",
          "Attention is All you Need",
          "Value Prediction Network",
          "Causal Effect Inference with Deep Latent-Variable Models",
          "Good Semi-supervised Learning That Requires a Bad GAN",
          "Modulating early visual processing by language",
          "GANs Trained by a Two Time-Scale Update Rule Converge to a Local Nash Equilibrium",
          "Neural Expectation Maximization",
          "Attend and Predict: Understanding Gene Regulation by Selective Attention on Chromatin",
          "Style Transfer from Non-Parallel Text by Cross-Alignment",
          "Real Time Image Saliency for Black Box Classifiers",
          "COLA: Decentralized Linear Learning",
          "A Simple Unified Framework for Detecting Out-of-Distribution Samples and Adversarial Attacks",
          "Mapping Images to Scene Graphs with Permutation-Invariant Structured Prediction",
          "Learning Conditioned Graph Structures for Interpretable Visual Question Answering",
          "Reversible Recurrent Neural Networks"
         ],
         "textfont": {
          "color": "#4D5663"
         },
         "type": "scatter",
         "x": [
          -7.529718399047852,
          3.4798080921173096,
          -5.151712417602539,
          -29.79294204711914,
          37.99027633666992,
          -30.77606201171875,
          -11.515345573425293,
          -12.105371475219727,
          2.5449397563934326,
          2.9536592960357666,
          7.2216796875,
          4.76102352142334,
          33.21915817260742,
          31.692956924438477,
          10.256170272827148,
          -11.881388664245605,
          9.63072681427002,
          1.0443507432937622,
          -6.242461204528809,
          30.299091339111328,
          46.4463005065918,
          -8.77016544342041,
          0.2518481910228729,
          -1.0731103420257568,
          -0.36767521500587463,
          46.04963684082031,
          46.70500564575195,
          44.59377670288086,
          45.77661895751953,
          9.128873825073242,
          35.780601501464844,
          35.68476867675781,
          41.714393615722656,
          38.1632080078125,
          42.46538543701172,
          30.30560302734375,
          31.89376449584961,
          50.337100982666016,
          45.95189666748047,
          18.0502986907959,
          42.28813552856445,
          31.610265731811523,
          9.875579833984375,
          42.271671295166016,
          24.208660125732422,
          31.595548629760742,
          18.42946434020996,
          51.103973388671875,
          17.829286575317383,
          38.41672897338867,
          20.57076644897461,
          50.796443939208984,
          15.885982513427734,
          27.89790153503418,
          33.41183853149414,
          29.26815414428711,
          18.58421516418457,
          26.316335678100586,
          42.20063781738281,
          26.611289978027344,
          35.05076217651367,
          32.75116729736328,
          0.6541048288345337,
          44.18715286254883,
          32.22300720214844,
          28.53288459777832,
          31.933929443359375,
          34.32154846191406,
          30.70130157470703,
          29.97840118408203,
          33.94865417480469,
          38.56732940673828,
          21.886642456054688,
          29.231891632080078,
          39.4204216003418,
          40.32985305786133,
          31.997102737426758,
          38.19586944580078,
          30.65195655822754,
          11.018157958984375,
          41.42303466796875,
          14.7552490234375,
          28.44144058227539,
          44.33965301513672,
          26.096956253051758,
          29.31729507446289,
          30.277326583862305,
          26.409236907958984,
          41.99879455566406,
          50.21923065185547,
          32.329280853271484,
          32.025142669677734,
          29.791810989379883,
          29.098731994628906,
          19.068614959716797,
          30.286060333251953,
          24.154489517211914,
          16.266258239746094,
          32.811038970947266,
          21.42190170288086,
          45.60807418823242,
          15.59494400024414,
          29.418994903564453,
          23.0344295501709,
          40.11479568481445,
          30.34201431274414,
          16.152687072753906,
          27.00416374206543,
          37.38420486450195,
          43.54985046386719,
          30.364431381225586,
          31.648588180541992,
          44.8919677734375,
          37.92888641357422,
          45.655853271484375,
          0.4229414463043213,
          32.57356643676758,
          45.9083366394043,
          45.53201675415039,
          45.384681701660156
         ],
         "y": [
          -20.601919174194336,
          20.423871994018555,
          27.73102569580078,
          -9.99496078491211,
          -15.498981475830078,
          -10.347196578979492,
          17.865821838378906,
          15.428890228271484,
          18.296566009521484,
          39.50517272949219,
          -0.8019381761550903,
          39.60415267944336,
          -13.84942626953125,
          -24.575105667114258,
          38.284427642822266,
          33.970314025878906,
          38.823062896728516,
          -13.98913288116455,
          -35.96157455444336,
          -30.24127960205078,
          -20.340604782104492,
          -23.120901107788086,
          -32.9139289855957,
          -36.03325653076172,
          -36.00983810424805,
          -13.908806800842285,
          -3.4459972381591797,
          -15.65774154663086,
          -19.447969436645508,
          39.92848587036133,
          30.597387313842773,
          29.884220123291016,
          2.192748546600342,
          -14.779690742492676,
          -14.378997802734375,
          5.2832841873168945,
          -0.7108482718467712,
          5.164572715759277,
          -7.864116668701172,
          13.350547790527344,
          8.68887996673584,
          4.300822734832764,
          -17.483905792236328,
          7.225983619689941,
          24.884334564208984,
          19.070581436157227,
          17.431859970092773,
          7.28834867477417,
          17.350299835205078,
          -12.83896255493164,
          2.1973392963409424,
          6.434501647949219,
          -0.05711778998374939,
          16.74064064025879,
          19.757904052734375,
          24.747756958007812,
          16.473859786987305,
          -2.2196619510650635,
          7.736624240875244,
          15.589834213256836,
          19.770748138427734,
          28.501140594482422,
          -3.3614296913146973,
          -0.5640773177146912,
          20.922670364379883,
          -23.486120223999023,
          27.25541114807129,
          19.926998138427734,
          -2.8371589183807373,
          28.371967315673828,
          -1.0441324710845947,
          -12.01710319519043,
          -18.556867599487305,
          27.15143585205078,
          2.600968599319458,
          -0.4652300477027893,
          17.961524963378906,
          -9.11868953704834,
          0.6681268811225891,
          37.7166633605957,
          8.396445274353027,
          31.86080551147461,
          29.614299774169922,
          -14.96101188659668,
          -2.6505415439605713,
          20.87813377380371,
          6.834756851196289,
          -3.969731569290161,
          1.1586662530899048,
          4.75186824798584,
          -24.28988265991211,
          4.659489154815674,
          7.616852760314941,
          8.147619247436523,
          18.296911239624023,
          -24.858034133911133,
          -1.892132043838501,
          -1.1771479845046997,
          -24.386783599853516,
          -1.4176841974258423,
          -7.832879066467285,
          -23.75563621520996,
          18.530471801757812,
          -1.6909211874008179,
          2.4018609523773193,
          3.7686901092529297,
          -32.844093322753906,
          25.07510757446289,
          -12.482460975646973,
          0.23402541875839233,
          18.53953742980957,
          1.757629632949829,
          -14.191128730773926,
          -8.337774276733398,
          -2.4042389392852783,
          -36.4107780456543,
          16.978748321533203,
          -2.72373104095459,
          -19.813758850097656,
          -8.813231468200684
         ]
        },
        {
         "marker": {
          "color": "rgba(55, 128, 191, 1.0)",
          "line": {
           "width": 1.3
          },
          "opacity": 0.8,
          "size": 12,
          "symbol": "circle"
         },
         "mode": "markers",
         "name": "ECCV",
         "text": [
          "Improving Shape Deformation in Unsupervised Image-to-Image Translation",
          "Pairwise Confusion for Fine-Grained Visual Classification",
          "GANimation: Anatomically-aware Facial Animation from a Single Image",
          "Deep Expander Networks: Efficient Deep Networks from Graph Theory",
          "3DMV: Joint 3D-Multi-View Prediction for 3D Semantic Scene Segmentation",
          "Learning Category-Specific Mesh Reconstruction from Image Collections",
          "Zero-Shot Object Detection",
          "A Style-Aware Content Loss for Real-time HD Style Transfer",
          "Piggyback: Adapting a Single Network to Multiple Tasks by Learning to Mask Weights",
          "Semi-supervised Adversarial Learning to Generate Photorealistic Face Images of New Identities from 3D Morphable Model",
          "Simple Baselines for Human Pose Estimation and Tracking",
          "Toward Characteristic-Preserving Image-based Virtual Try-On Network",
          "Acquisition of Localization Confidence for Accurate Object Detection",
          "Conditional Image-Text Embedding Networks",
          "SketchyScene: Richly-Annotated Scene Sketches",
          "Progressive Neural Architecture Search",
          "Image Manipulation with Perceptual Discriminators",
          "Unsupervised holistic image generation from key local patches",
          "LQ-Nets: Learned Quantization for Highly Accurate and Compact Deep Neural Networks",
          "Is Robustness the Cost of Accuracy? -- A Comprehensive Study on the Robustness of 18 Deep Image Classification Models",
          "Dynamic Multimodal Instance Segmentation Guided by Natural Language Queries",
          "Dynamic Conditional Networks for Few-Shot Learning",
          "Recovering 3D Planes from a Single Image via Convolutional Neural Networks",
          "Learning Single-View 3D Reconstruction with Limited Pose Supervision",
          "Image Inpainting for Irregular Holes Using Partial Convolutions",
          "Unsupervised Geometry-Aware Representation for 3D Human Pose Estimation",
          "PSANet: Point-wise Spatial Attention Network for Scene Parsing",
          "Predicting Gaze in Egocentric Video by Learning Task-dependent Attention Transition",
          "Coloring with Words: Guiding Image Colorization Through Text-based Palette Generation",
          "Fighting Fake News: Image Splice Detection via Learned Self-Consistency",
          "HiDDeN: Hiding Data with Deep Networks",
          "Multi-scale Residual Network for Image Super-Resolution",
          "Adaptive Affinity Fields for Semantic Segmentation",
          "Statistically-motivated Second-order Pooling",
          "Stacked Cross Attention for Image-Text Matching",
          "Open Set Domain Adaptation by Backpropagation",
          "DeepVS: A Deep Learning Based Video Saliency Prediction Approach",
          "Encoder-Decoder with Atrous Separable Convolution for Semantic Image Segmentation",
          "Estimating the Success of Unsupervised Image to Image Translation",
          "Single Shot Scene Text Retrieval",
          "Learning Type-Aware Embeddings for Fashion Compatibility",
          "Learning Visual Question Answering by Bootstrapping Hard Attention",
          "Deep Clustering for Unsupervised Learning of Visual Features",
          "Joint Person Segmentation and Identification in Synchronized First- and Third-person Videos",
          "ECO: Efficient Convolutional Network for Online Video Understanding",
          "Diverse and Coherent Paragraph Generation from Images",
          "MultiPoseNet: Fast Multi-Person Pose Estimation using Pose Residual Network",
          "ShapeStacks: Learning Vision-Based Physical Intuition for Generalised Object Stacking",
          "Towards Realistic Predictors",
          "Choose Your Neuron: Incorporating Domain Knowledge through Neuron-Importance",
          "Learning to Separate Object Sounds by Watching Unlabeled Video",
          "ESPNet: Efficient Spatial Pyramid of Dilated Convolutions for Semantic Segmentation",
          "Visual Coreference Resolution in Visual Dialog using Neural Module Networks",
          "License Plate Detection and Recognition in Unconstrained Scenarios",
          "Deep High Dynamic Range Imaging with Large Foreground Motions",
          "Multi-view to Novel view: Synthesizing novel views with Self-Learned Confidence",
          "Layer-structured 3D Scene Inference via View Synthesis",
          "3D-CODED: 3D Correspondences by Deep Deformation",
          "HybridNet: Classification and Reconstruction Cooperation for Semi-Supervised Learning",
          "Learning Dynamic Memory Networks for Object Tracking",
          "Interpretable Intuitive Physics Model",
          "Gray-box Adversarial Training",
          "Depth-aware CNN for RGB-D Segmentation",
          "Learning Efficient Single-stage Pedestrian Detectors by Asymptotic Localization Fitting",
          "A Modulation Module for Multi-task Learning with Applications in Image Retrieval",
          "Single Image Water Hazard Detection using FCN with Reflection Attention Units",
          "Integral Human Pose Regression",
          "Recurrent Squeeze-and-Excitation Context Aggregation Net for Single Image Deraining",
          "Quaternion Convolutional Neural Networks",
          "Mutual Learning to Adapt for Joint Human Parsing and Pose Estimation",
          "Pose Partition Networks for Multi-Person Pose Estimation",
          "Video Re-localization",
          "Joint 3D Face Reconstruction and Dense Alignment with Position Map Regression Network",
          "MVSNet: Depth Inference for Unstructured Multi-view Stereo",
          "Audio-Visual Event Localization in Unconstrained Videos",
          "Macro-Micro Adversarial Network for Human Parsing",
          "SpiderCNN: Deep Learning on Point Sets with Parameterized Convolutional Filters",
          "PlaneMatch: Patch Coplanarity Prediction for Robust RGB-D Reconstruction",
          "Factorizable Net: An Efficient Subgraph-based Framework for Scene Graph Generation",
          "Group Normalization",
          "Learning to Navigate for Fine-grained Classification",
          "Partial Adversarial Domain Adaptation",
          "Distractor-aware Siamese Networks for Visual Object Tracking",
          "Improving Generalization via  Scalable Neighborhood Component Analysis",
          "Saliency Detection in 360° Videos"
         ],
         "textfont": {
          "color": "#4D5663"
         },
         "type": "scatter",
         "x": [
          -31.03519058227539,
          -22.139728546142578,
          -23.903522491455078,
          -38.02139663696289,
          -23.86566925048828,
          -23.564884185791016,
          -32.142906188964844,
          -18.407432556152344,
          -20.624195098876953,
          -16.09237289428711,
          -32.600433349609375,
          -19.34566879272461,
          -24.052278518676758,
          -3.2035670280456543,
          -27.366649627685547,
          -14.396636009216309,
          -48.7995491027832,
          -27.372703552246094,
          -11.195454597473145,
          -40.10244369506836,
          -28.694669723510742,
          -6.841202259063721,
          -18.838626861572266,
          -38.189884185791016,
          -34.87263107299805,
          -12.335494041442871,
          -36.1203727722168,
          -44.82646179199219,
          -54.22380065917969,
          -25.738176345825195,
          -22.05074691772461,
          -24.56795883178711,
          -52.06666946411133,
          -28.076820373535156,
          -17.469770431518555,
          -38.202911376953125,
          -39.41348648071289,
          -48.04751968383789,
          -23.415834426879883,
          -49.23712921142578,
          -27.42669105529785,
          -27.3634033203125,
          -36.298675537109375,
          -18.946002960205078,
          -44.96389389038086,
          -26.95252227783203,
          -18.03158950805664,
          -20.81721305847168,
          -46.6678581237793,
          -41.5786247253418,
          -35.525760650634766,
          -27.352807998657227,
          -29.072614669799805,
          -46.67890167236328,
          -4.022064208984375,
          -27.89678192138672,
          -28.28611183166504,
          -27.73929786682129,
          -41.300682067871094,
          -34.89042663574219,
          -28.661388397216797,
          -37.06451416015625,
          -18.489234924316406,
          -13.551432609558105,
          -30.324495315551758,
          -37.20293045043945,
          -36.35276412963867,
          -37.6786994934082,
          0.3978011906147003,
          -32.97385025024414,
          -33.29067611694336,
          -30.318756103515625,
          -40.7115364074707,
          -32.76033020019531,
          -51.8894157409668,
          -27.373247146606445,
          -3.734121799468994,
          -36.729469299316406,
          -24.562803268432617,
          -14.703388214111328,
          -35.280269622802734,
          -19.2894344329834,
          -6.597264766693115,
          -37.502593994140625,
          -23.85466766357422
         ],
         "y": [
          8.585636138916016,
          4.186142444610596,
          -0.4856932759284973,
          -20.554330825805664,
          -24.13855743408203,
          -0.5475919246673584,
          8.532994270324707,
          11.925145149230957,
          4.478212833404541,
          18.986570358276367,
          -20.366060256958008,
          2.836276054382324,
          -17.250099182128906,
          8.249773979187012,
          14.153553009033203,
          26.920345306396484,
          0.0749405100941658,
          9.451552391052246,
          16.82771110534668,
          1.2267627716064453,
          -24.227262496948242,
          -33.575931549072266,
          29.258769989013672,
          18.705589294433594,
          -12.643836975097656,
          -19.76376724243164,
          -29.720205307006836,
          1.1997854709625244,
          1.236829400062561,
          4.22910737991333,
          -10.660713195800781,
          4.2567853927612305,
          3.28760027885437,
          12.891498565673828,
          0.7252099514007568,
          -20.31041717529297,
          1.3634023666381836,
          1.8518486022949219,
          3.9527454376220703,
          1.2972546815872192,
          -25.385862350463867,
          -23.462034225463867,
          -30.346071243286133,
          -21.83662986755371,
          0.016340231522917747,
          -23.731861114501953,
          -22.50171661376953,
          24.919824600219727,
          2.058260440826416,
          0.9710012674331665,
          -22.439729690551758,
          -12.628567695617676,
          10.942453384399414,
          2.5429821014404297,
          -30.109180450439453,
          9.791770935058594,
          12.278402328491211,
          -10.239151954650879,
          -0.19157549738883972,
          23.3502254486084,
          -23.257104873657227,
          -0.25492411851882935,
          -20.064794540405273,
          25.9334659576416,
          8.048323631286621,
          22.064533233642578,
          -22.14141082763672,
          -30.660327911376953,
          32.963077545166016,
          -28.244768142700195,
          -22.848127365112305,
          11.696761131286621,
          -0.7317960262298584,
          -21.712976455688477,
          2.9925012588500977,
          -12.113086700439453,
          7.871062278747559,
          -0.540084183216095,
          -0.2830752730369568,
          27.35947036743164,
          -30.36585235595703,
          -18.072071075439453,
          -35.17258071899414,
          -11.618696212768555,
          -23.39054298400879
         ]
        },
        {
         "marker": {
          "color": "rgba(50, 171, 96, 1.0)",
          "line": {
           "width": 1.3
          },
          "opacity": 0.8,
          "size": 12,
          "symbol": "circle"
         },
         "mode": "markers",
         "name": "CVPR",
         "text": [
          "An Improved Deep Learning Architecture for Person Re-Identification",
          "SST: Single-Stream Temporal Action Proposals",
          "One-Shot Video Object Segmentation",
          "Neural Sign Language Translation",
          "Annotating Object Instances With a Polygon-RNN",
          "Pyramid Stereo Matching Network",
          "AON: Towards Arbitrarily-Oriented Text Recognition",
          "LiDAR-Video Driving Dataset: Learning Driving Policies Effectively",
          "VidLoc: A Deep Spatio-Temporal Model for 6-DoF Video-Clip Relocalization",
          "Large Scale Fine-Grained Categorization and Domain-Specific Transfer Learning",
          "Learning to Evaluate Image Captioning",
          "ScanComplete: Large-Scale Scene Completion and Semantic Segmentation for 3D Scans",
          "Supervision-by-Registration: An Unsupervised Approach to Improve the Precision of Facial Landmark Detectors",
          "GraphBit: Bitwise Interaction Mining via Deep Reinforcement Learning",
          "Who Let the Dogs Out? Modeling Dog Behavior From Visual Data",
          "Robust Physical-World Attacks on Deep Learning Visual Classification",
          "A Point Set Generation Network for 3D Object Reconstruction From a Single Image",
          "End-to-End Learning of Motion Representation for Video Understanding",
          "Deep Pyramidal Residual Networks",
          "Deep Residual Learning for Image Recognition",
          "Deeply Supervised Salient Object Detection With Short Connections",
          "DeepMVS: Learning Multi-View Stereopsis",
          "Densely Connected Convolutional Networks",
          "Learning Deep Representation for Imbalanced Classification",
          "Fast and Accurate Single Image Super-Resolution via Information Distillation Network",
          "LiteFlowNet: A Lightweight Convolutional Neural Network for Optical Flow Estimation",
          "Deep 360 Pilot: Learning a Deep Agent for Piloting Through 360deg Sports Videos",
          "FC4: Fully Convolutional Color Constancy With Confidence-Weighted Pooling",
          "Image Specificity",
          "Perturbative Neural Networks",
          "End-to-End Recovery of Human Shape and Pose",
          "Convolutional Neural Networks for No-Reference Image Quality Assessment",
          "Deeply-Recursive Convolutional Network for Image Super-Resolution",
          "Stochastic Downsampling for Cost-Adjustable Inference and Improved Regularization in Convolutional Networks",
          "Deep Laplacian Pyramid Networks for Fast and Accurate Super-Resolution",
          "TI-Pooling: Transformation-Invariant Pooling for Feature Learning in Convolutional Neural Networks",
          "Recurrent Convolutional Neural Network for Object Recognition",
          "Deep Marching Cubes: Learning Explicit Surface Representations",
          "ST-GAN: Spatial Transformer Generative Adversarial Networks for Image Compositing",
          "Decoupled Networks",
          "PlaneNet: Piece-Wise Planar Reconstruction From a Single RGB Image",
          "Predicting Salient Face in Multiple-Face Videos",
          "Recognizing Human Actions as the Evolution of Pose Estimation Maps",
          "Towards Faster Training of Global Covariance Pooling Networks by Iterative Matrix Square Root Normalization",
          "Fully Convolutional Networks for Semantic Segmentation",
          "Cross-Stitch Networks for Multi-Task Learning",
          "Beyond the Pixel-Wise Loss for Topology-Aware Delineation",
          "3D Bounding Box Estimation Using Deep Learning and Geometry",
          "Learning Dual Convolutional Neural Networks for Low-Level Vision",
          "Jointly Optimize Data Augmentation and Network Training: Adversarial Data Augmentation in Human Pose Estimation",
          "Learning Latent Super-Events to Detect Multiple Activities in Videos",
          "Learning Pose Specific Representations by Predicting Different Views",
          "Frustum PointNets for 3D Object Detection From RGB-D Data",
          "GeoNet: Geometric Neural Network for Joint Depth and Surface Normal Estimation",
          "Semi-Parametric Image Synthesis",
          "End-To-End Instance Segmentation With Recurrent Attention",
          "Adversarially Learned One-Class Classifier for Novelty Detection",
          "Pixels, Voxels, and Views: A Study of Shape Representations for Single View 3D Object Shape Prediction",
          "Actor and Observer: Joint Modeling of First and Third-Person Videos",
          "VITAL: VIsual Tracking via Adversarial Learning",
          "Pix3D: Dataset and Methods for Single-Image 3D Shape Modeling",
          "Multiple Instance Detection Network With Online Instance Classifier Refinement",
          "Real-Time Seamless Single Shot 6D Object Pose Prediction",
          "Lifting From the Deep: Convolutional 3D Pose Estimation From a Single Image",
          "Learning to Adapt Structured Output Space for Semantic Segmentation",
          "Learning Shape Abstractions by Assembling Volumetric Primitives",
          "Learning Superpixels With Segmentation-Aware Affinity Loss",
          "Show and Tell: A Neural Image Caption Generator",
          "Adversarial Feature Augmentation for Unsupervised Domain Adaptation",
          "High-Resolution Image Synthesis and Semantic Manipulation With Conditional GANs",
          "Learning a Discriminative Filter Bank Within a CNN for Fine-Grained Recognition",
          "Min-Entropy Latent Model for Weakly Supervised Object Detection",
          "Rethinking Feature Distribution for Loss Functions in Image Classification",
          "Dense Human Body Correspondences Using Convolutional Networks",
          "Gibson Env: Real-World Perception for Embodied Agents",
          "AttnGAN: Fine-Grained Text to Image Generation With Attentional Generative Adversarial Networks",
          "Object Contour Detection With a Fully Convolutional Encoder-Decoder Network",
          "Robust Classification With Convolutional Prototype Learning",
          "GeoNet: Unsupervised Learning of Dense Depth, Optical Flow and Camera Pose",
          "Generative Image Inpainting With Contextual Attention",
          "Video Paragraph Captioning Using Hierarchical Recurrent Neural Networks",
          "Adversarial Complementary Learning for Weakly Supervised Object Localization",
          "Densely Connected Pyramid Dehazing Network",
          "Residual Dense Network for Image Super-Resolution",
          "Visual Translation Embedding Network for Visual Relation Detection"
         ],
         "textfont": {
          "color": "#4D5663"
         },
         "type": "scatter",
         "x": [
          15.02527141571045,
          -10.23542308807373,
          29.15672492980957,
          -2.0268056392669678,
          -0.639643669128418,
          -25.96987533569336,
          -18.39451026916504,
          -12.68448543548584,
          8.197239875793457,
          -21.24085807800293,
          -33.00797653198242,
          -21.811479568481445,
          -36.52529525756836,
          -20.174636840820312,
          -18.62582778930664,
          6.600882053375244,
          7.309479236602783,
          -19.309524536132812,
          -0.14774245023727417,
          -22.331554412841797,
          4.068353652954102,
          -34.75209045410156,
          -18.6693115234375,
          -21.686227798461914,
          0.008453293703496456,
          -25.37145233154297,
          5.218813896179199,
          5.2533769607543945,
          -19.495262145996094,
          -24.169328689575195,
          -11.869771957397461,
          8.978926658630371,
          -21.195938110351562,
          0.5054138898849487,
          -34.38474655151367,
          -3.276489734649658,
          9.822371482849121,
          -35.50640869140625,
          -2.608755111694336,
          0.03820432350039482,
          -2.6030914783477783,
          5.733585834503174,
          -38.64652633666992,
          -2.146716833114624,
          23.801074981689453,
          -50.82221221923828,
          -30.728132247924805,
          -20.25729751586914,
          -21.370773315429688,
          -30.45242691040039,
          -10.876352310180664,
          -18.948116302490234,
          -19.72812843322754,
          5.482910633087158,
          -37.730403900146484,
          25.906885147094727,
          -12.571627616882324,
          -10.480185508728027,
          -19.38204002380371,
          -38.87291717529297,
          -25.563602447509766,
          37.66183853149414,
          -32.66660690307617,
          12.461238861083984,
          -34.35426330566406,
          -32.97791290283203,
          -28.87957191467285,
          36.13601303100586,
          7.607667922973633,
          6.048399448394775,
          -9.645059585571289,
          -18.585905075073242,
          -3.3591561317443848,
          6.762729644775391,
          1.1214665174484253,
          -3.485471248626709,
          3.912477970123291,
          0.7616621255874634,
          -17.639806747436523,
          -2.321636438369751,
          1.4088488817214966,
          -29.962644577026367,
          -15.602437019348145,
          1.9424946308135986,
          -18.950435638427734
         ],
         "y": [
          31.639612197875977,
          -19.776290893554688,
          25.685937881469727,
          33.64534378051758,
          28.99526023864746,
          -9.289450645446777,
          11.900988578796387,
          14.865290641784668,
          28.754329681396484,
          34.8358268737793,
          23.77019691467285,
          34.529258728027344,
          -11.573695182800293,
          34.493927001953125,
          1.4048534631729126,
          29.334030151367188,
          29.929012298583984,
          33.90667724609375,
          -42.50912094116211,
          36.13204574584961,
          31.929861068725586,
          -11.429157257080078,
          35.17444610595703,
          -10.873993873596191,
          36.44343948364258,
          -8.165691375732422,
          31.44890022277832,
          39.550411224365234,
          21.656932830810547,
          33.02141571044922,
          33.315635681152344,
          19.78805923461914,
          26.409957885742188,
          38.9378547668457,
          23.522367477416992,
          35.21590042114258,
          19.716552734375,
          -11.752677917480469,
          30.974185943603516,
          36.90560531616211,
          33.8480339050293,
          30.498441696166992,
          2.0691111087799072,
          29.549686431884766,
          24.897859573364258,
          0.7308261394500732,
          -4.279872417449951,
          28.359975814819336,
          24.71351432800293,
          -3.4690113067626953,
          -19.61972427368164,
          7.241312026977539,
          28.81858253479004,
          28.809070587158203,
          22.21906089782715,
          -21.560163497924805,
          18.294492721557617,
          16.42707633972168,
          1.2112846374511719,
          22.398761749267578,
          22.777299880981445,
          -11.599504470825195,
          -3.818863868713379,
          35.83592224121094,
          -2.9650638103485107,
          -24.02301597595215,
          -8.935331344604492,
          31.519060134887695,
          20.20673942565918,
          19.776317596435547,
          -18.565523147583008,
          8.202322959899902,
          31.257226943969727,
          18.690053939819336,
          21.70207405090332,
          27.96510124206543,
          20.74480438232422,
          33.46696472167969,
          19.499568939208984,
          32.8310432434082,
          34.65406036376953,
          -4.339682579040527,
          18.896108627319336,
          21.308849334716797,
          21.095550537109375
         ]
        },
        {
         "marker": {
          "color": "rgba(128, 0, 128, 1.0)",
          "line": {
           "width": 1.3
          },
          "opacity": 0.8,
          "size": 12,
          "symbol": "circle"
         },
         "mode": "markers",
         "name": "ICML",
         "text": [
          "OptNet: Differentiable Optimization as a Layer in Neural Networks",
          "Input Convex Neural Networks",
          "Differentially Private Database Release via Kernel Mean Embeddings",
          "Optimizing the Latent Space of Generative Networks",
          "NetGAN: Generating Graphs via Random Walks",
          "Compressed Sensing using Generative Models",
          "Predict and Constrain: Modeling Cardinality in Deep Structured Prediction",
          "Path-Level Network Transformation for Efficient Architecture Search",
          "Adversarial Learning with Local Coordinate Coding",
          "Adversarial Time-to-Event Modeling",
          "Learning K-way D-dimensional Discrete Codes for Compact Embedding Representations",
          "DRACO: Byzantine-resilient Distributed Training via Redundant Gradients",
          "AdaNet: Adaptive Structural Learning of Artificial Neural Networks",
          "Inference Suboptimality in Variational Autoencoders",
          "Stochastic Generative Hashing",
          "Adversarial Attack on Graph Structured Data",
          "Language Modeling with Gated Convolutional Networks",
          "Stochastic Video Generation with a Learned Prior",
          "Dance Dance Convolution",
          "Model-Agnostic Meta-Learning for Fast Adaptation of Deep Networks",
          "Input Switched Affine Networks: An RNN Architecture Designed for Interpretability",
          "Bilevel Programming for Hyperparameter Optimization and Meta-Learning",
          "Convolutional Sequence to Sequence Learning",
          "Visualizing and Understanding Atari Agents",
          "On Calibration of Modern Neural Networks",
          "DeepBach: a Steerable Model for Bach Chorales Generation",
          "Learning unknown ODE models with Gaussian processes",
          "Toward Controlled Generation of Text",
          "Neural Autoregressive Flows",
          "Decoupled Parallel Backpropagation with Convergence Guarantee",
          "Attention-based Deep Multiple Instance Learning",
          "Black-box Adversarial Attacks with Limited Queries and Information",
          "Decoupled Neural Interfaces using Synthetic Gradients",
          "Efficient end-to-end learning for quantizable representations",
          "Composite Functional Gradient Learning of Generative  Adversarial Models",
          "Video Pixel Networks",
          "Efficient Neural Audio Synthesis",
          "Learning to Discover Cross-Domain Relations with Generative Adversarial Networks",
          "SplitNet: Learning to Semantically Split Deep Networks for Parameter Reduction and Model Parallelization",
          "Disentangling by Factorising",
          "Neural Relational Inference for Interacting Systems",
          "Grammar Variational Autoencoder",
          "Deep Spectral Clustering Learning",
          "Hierarchical Imitation and Reinforcement Learning",
          "Confident Multiple Choice Learning",
          "Gated Path Planning Networks",
          "Noise2Noise: Learning Image Restoration without Clean Data",
          "Dropout Inference in Bayesian Neural Networks with Alpha-divergences",
          "Explicit Inductive Bias for Transfer Learning with Convolutional Networks",
          "Towards Binary-Valued Gates for Robust LSTM Training",
          "Zero-Inflated Exponential Family Embeddings",
          "Dimensionality-Driven Learning with Noisy Labels",
          "Adversarial Variational Bayes: Unifying Variational Autoencoders and Generative Adversarial Networks",
          "Device Placement Optimization with Reinforcement Learning",
          "SparseMAP: Differentiable Sparse Structured Inference",
          "A Theoretical Explanation for Perplexing Behaviors of Backpropagation-based Visualizations",
          "The Statistical Recurrent Unit",
          "Efficient Neural Architecture Search via Parameters Sharing",
          "Robust Adversarial Reinforcement Learning",
          "Neural Episodic Control",
          "Online and Linear-Time Attention by Enforcing Monotonic Alignments",
          "Learning to Reweight Examples for Robust Deep Learning",
          "Deep One-Class Classification",
          "First Order Generative Adversarial Networks",
          "Finding Influential Training Samples for Gradient Boosted Decision Trees",
          "A Spectral Approach to Gradient Estimation for Implicit Distributions",
          "Bottleneck Conditional Density Estimation",
          "The Predictron:  End-To-End Learning and Planning",
          "Accelerating Natural Gradient with Higher-Order Invariance",
          "Exploiting the Potential of Standard Convolutional Autoencoders for Image Restoration by Evolutionary Search",
          "Neural Program Synthesis from Diverse Demonstration Videos",
          "Differentiable Compositional Kernel Learning for Gaussian Processes",
          "Axiomatic Attribution for Deep Networks",
          "Black Box FDR",
          "Learning Longer-term Dependencies in RNNs with Auxiliary Losses",
          "The Mirage of Action-Dependent Baselines in Reinforcement Learning",
          "Learning to Generate Long-term Future via Hierarchical Prediction",
          "PredRNN++: Towards A Resolution of the Deep-in-Time Dilemma in Spatiotemporal Predictive Learning",
          "Style Tokens: Unsupervised Style Modeling, Control and Transfer in End-to-End Speech Synthesis",
          "Transfer Learning via Learning to Transfer",
          "Hierarchical Long-term Video Prediction without Supervision",
          "Variance Regularized Counterfactual Risk Minimization via Variational Divergence Minimization",
          "Deep k-Means: Re-Training and Parameter Sharing with Harder Cluster Assignments for Compressing Deep Convolutions",
          "Learning Semantic Representations for Unsupervised Domain Adaptation",
          "Improved Variational Autoencoders for Text Modeling using Dilated Convolutions",
          "Mean Field Multi-Agent Reinforcement Learning",
          "Combined Group and Exclusive Sparsity for Deep Neural Networks",
          "GraphRNN: Generating Realistic Graphs with Deep Auto-regressive Models",
          "Continual Learning Through Synaptic Intelligence",
          "Adversarial Feature Matching for Text Generation",
          "Convexified Convolutional Neural Networks",
          "Noisy Natural Gradient as Variational Inference",
          "Recurrent Highway Networks"
         ],
         "textfont": {
          "color": "#4D5663"
         },
         "type": "scatter",
         "x": [
          2.75349760055542,
          15.17946720123291,
          -13.938828468322754,
          -20.923412322998047,
          -24.00613021850586,
          1.8888126611709595,
          -30.962249755859375,
          -8.038656234741211,
          -21.971071243286133,
          -27.037063598632812,
          21.546770095825195,
          2.2598540782928467,
          13.094911575317383,
          -14.02054500579834,
          16.414936065673828,
          30.27215576171875,
          15.581101417541504,
          -3.4802305698394775,
          3.04363751411438,
          13.934958457946777,
          3.4205944538116455,
          10.583632469177246,
          15.659891128540039,
          3.0791525840759277,
          4.96766471862793,
          0.9391369819641113,
          4.679348468780518,
          -13.655780792236328,
          -14.136940956115723,
          -19.44426918029785,
          -14.644335746765137,
          -13.46941089630127,
          33.4658317565918,
          -15.40827465057373,
          0.8052814602851868,
          4.007294178009033,
          -51.870208740234375,
          16.428842544555664,
          29.16726303100586,
          -16.924074172973633,
          -32.034236907958984,
          -21.1336727142334,
          -25.304439544677734,
          2.423478841781616,
          17.782804489135742,
          -20.694242477416992,
          -2.130505084991455,
          9.029839515686035,
          -29.85918617248535,
          -1.0347713232040405,
          2.7979888916015625,
          5.546726703643799,
          14.948986053466797,
          4.172469139099121,
          -17.175756454467773,
          3.327376365661621,
          9.072763442993164,
          -16.43914794921875,
          28.111360549926758,
          2.5790035724639893,
          16.123077392578125,
          -32.981483459472656,
          -8.892888069152832,
          -13.2122802734375,
          -25.54957389831543,
          10.015746116638184,
          26.282001495361328,
          16.257566452026367,
          -0.4439871609210968,
          -53.14641189575195,
          9.168863296508789,
          -18.02178955078125,
          14.753846168518066,
          -8.424639701843262,
          30.08587646484375,
          -7.066771984100342,
          9.93036937713623,
          4.143395900726318,
          -0.5920632481575012,
          -29.67806625366211,
          -13.842507362365723,
          -32.56483459472656,
          -0.2747219204902649,
          1.8730778694152832,
          3.1859185695648193,
          -20.39164161682129,
          12.690473556518555,
          -6.61410665512085,
          15.263973236083984,
          19.408437728881836,
          2.3527040481567383,
          -21.971452713012695,
          15.996752738952637
         ],
         "y": [
          -17.418455123901367,
          -28.16377067565918,
          -12.65159797668457,
          -17.54676055908203,
          -17.14334487915039,
          -3.5494372844696045,
          12.852412223815918,
          -20.7691650390625,
          -17.41573143005371,
          22.1442813873291,
          -18.42795181274414,
          -13.220565795898438,
          34.556358337402344,
          -11.838950157165527,
          -17.28323745727539,
          -30.555696487426758,
          -18.758342742919922,
          -30.442182540893555,
          -3.266806125640869,
          -28.443994522094727,
          -6.7389020919799805,
          -25.445701599121094,
          -28.649063110351562,
          -14.55349349975586,
          -1.2401527166366577,
          -30.052316665649414,
          -13.125423431396484,
          -30.13831901550293,
          -11.006478309631348,
          -20.348398208618164,
          -32.56832504272461,
          32.999271392822266,
          -13.81922721862793,
          33.485679626464844,
          7.228066921234131,
          -19.465755462646484,
          -0.2754487097263336,
          4.343151569366455,
          27.963178634643555,
          -22.72336769104004,
          -30.52128791809082,
          -11.720245361328125,
          18.8730411529541,
          -8.402756690979004,
          2.0869858264923096,
          -20.321496963500977,
          8.19085693359375,
          -6.937269687652588,
          19.106096267700195,
          -30.643753051757812,
          -5.552783489227295,
          -1.1522525548934937,
          0.8723633885383606,
          -19.478158950805664,
          -25.681976318359375,
          -15.99244213104248,
          -6.36146879196167,
          -26.689647674560547,
          -23.230579376220703,
          -6.335204601287842,
          -32.6328239440918,
          -31.133752822875977,
          -22.089250564575195,
          32.79934310913086,
          19.119754791259766,
          -26.148143768310547,
          15.382145881652832,
          -15.425886154174805,
          7.155738353729248,
          2.0673394203186035,
          -27.02639389038086,
          18.381614685058594,
          -21.58557891845703,
          -30.05021858215332,
          -31.65462875366211,
          -31.25359535217285,
          -22.537769317626953,
          -16.22981834411621,
          8.23696231842041,
          19.330341339111328,
          -30.97989845275879,
          -27.823532104492188,
          -42.441802978515625,
          16.49094009399414,
          -29.23514175415039,
          -15.781723976135254,
          35.44580841064453,
          -32.22587203979492,
          -19.464996337890625,
          2.514704704284668,
          1.1945812702178955,
          -21.83074951171875,
          -26.135791778564453
         ]
        },
        {
         "marker": {
          "color": "rgba(219, 64, 82, 1.0)",
          "line": {
           "width": 1.3
          },
          "opacity": 0.8,
          "size": 12,
          "symbol": "circle"
         },
         "mode": "markers",
         "name": "ICCV",
         "text": [
          "VQA: Visual Question Answering",
          "Convolutional Color Constancy",
          "Deep TextSpotter: An End-To-End Trainable Scene Text Localization and Recognition Framework",
          "SubUNets: End-To-End Hand Shape and Continuous Sign Language Recognition",
          "Deep Adaptive Image Clustering",
          "Photographic Image Synthesis With Cascaded Refinement Networks",
          "Deformable Convolutional Networks",
          "Attributes2Classname: A Discriminative Model for Attribute-Based Unsupervised Zero-Shot Learning",
          "RPAN: An End-To-End Recurrent Pose-Attention Network for Action Recognition in Videos",
          "Associative Domain Adaptation",
          "Mask R-CNN",
          "Wavelet-SRNet: A Wavelet-Based CNN for Multi-Scale Face Super Resolution",
          "PoseNet: A Convolutional Network for Real-Time 6-DOF Camera Relocalization",
          "Escape From Cells: Deep Kd-Networks for the Recognition of 3D Point Cloud Models",
          "Introspective Neural Networks for Generative Modeling",
          "Learning Efficient Convolutional Networks Through Network Slimming",
          "No Fuss Distance Metric Learning Using Proxies",
          "GANs for Biological Image Synthesis",
          "Following Gaze in Video",
          "EnhanceNet: Single Image Super-Resolution Through Automated Texture Synthesis",
          "Hide-And-Seek: Forcing a Network to Be Meticulous for Weakly-Supervised Object and Action Localization",
          "Face Flow",
          "MemNet: A Persistent Memory Network for Image Restoration",
          "Unsupervised Learning of Object Landmarks by Factorized Spatial Embeddings",
          "Unsupervised Adaptation for Deep Stereo",
          "Learning Blind Motion Deblurring",
          "Unlabeled Samples Generated by GAN Improve the Person Re-Identification Baseline in Vitro"
         ],
         "textfont": {
          "color": "#4D5663"
         },
         "type": "scatter",
         "x": [
          15.385116577148438,
          -26.1251163482666,
          10.701472282409668,
          16.28598403930664,
          25.594968795776367,
          -0.04965166002511978,
          8.981489181518555,
          16.77606201171875,
          9.898719787597656,
          15.356277465820312,
          10.458864212036133,
          0.6642863154411316,
          -27.833892822265625,
          2.623443603515625,
          14.575297355651855,
          -14.16293716430664,
          -0.10880877077579498,
          16.669143676757812,
          0.7223369479179382,
          6.347777366638184,
          18.060150146484375,
          15.694674491882324,
          3.64003324508667,
          24.816139221191406,
          31.483409881591797,
          15.903721809387207,
          19.318178176879883
         ],
         "y": [
          -13.1238374710083,
          22.490991592407227,
          -23.867782592773438,
          -30.129905700683594,
          -21.31595802307129,
          9.450693130493164,
          -5.415616512298584,
          -15.15333366394043,
          -17.387540817260742,
          -26.92483139038086,
          -23.610492706298828,
          -29.362873077392578,
          22.813344955444336,
          -29.822738647460938,
          1.3954719305038452,
          -31.984251022338867,
          -30.980735778808594,
          3.8307549953460693,
          -14.174976348876953,
          -12.502392768859863,
          13.153066635131836,
          -16.448631286621094,
          -2.506744146347046,
          -20.753429412841797,
          -1.221777081489563,
          -13.658806800842285,
          2.984177827835083
         ]
        }
       ],
       "layout": {
        "legend": {
         "bgcolor": "#F5F6F9",
         "font": {
          "color": "#4D5663"
         }
        },
        "paper_bgcolor": "#F5F6F9",
        "plot_bgcolor": "#F5F6F9",
        "template": {
         "data": {
          "bar": [
           {
            "error_x": {
             "color": "#2a3f5f"
            },
            "error_y": {
             "color": "#2a3f5f"
            },
            "marker": {
             "line": {
              "color": "#E5ECF6",
              "width": 0.5
             }
            },
            "type": "bar"
           }
          ],
          "barpolar": [
           {
            "marker": {
             "line": {
              "color": "#E5ECF6",
              "width": 0.5
             }
            },
            "type": "barpolar"
           }
          ],
          "carpet": [
           {
            "aaxis": {
             "endlinecolor": "#2a3f5f",
             "gridcolor": "white",
             "linecolor": "white",
             "minorgridcolor": "white",
             "startlinecolor": "#2a3f5f"
            },
            "baxis": {
             "endlinecolor": "#2a3f5f",
             "gridcolor": "white",
             "linecolor": "white",
             "minorgridcolor": "white",
             "startlinecolor": "#2a3f5f"
            },
            "type": "carpet"
           }
          ],
          "choropleth": [
           {
            "colorbar": {
             "outlinewidth": 0,
             "ticks": ""
            },
            "type": "choropleth"
           }
          ],
          "contour": [
           {
            "colorbar": {
             "outlinewidth": 0,
             "ticks": ""
            },
            "colorscale": [
             [
              0,
              "#0d0887"
             ],
             [
              0.1111111111111111,
              "#46039f"
             ],
             [
              0.2222222222222222,
              "#7201a8"
             ],
             [
              0.3333333333333333,
              "#9c179e"
             ],
             [
              0.4444444444444444,
              "#bd3786"
             ],
             [
              0.5555555555555556,
              "#d8576b"
             ],
             [
              0.6666666666666666,
              "#ed7953"
             ],
             [
              0.7777777777777778,
              "#fb9f3a"
             ],
             [
              0.8888888888888888,
              "#fdca26"
             ],
             [
              1,
              "#f0f921"
             ]
            ],
            "type": "contour"
           }
          ],
          "contourcarpet": [
           {
            "colorbar": {
             "outlinewidth": 0,
             "ticks": ""
            },
            "type": "contourcarpet"
           }
          ],
          "heatmap": [
           {
            "colorbar": {
             "outlinewidth": 0,
             "ticks": ""
            },
            "colorscale": [
             [
              0,
              "#0d0887"
             ],
             [
              0.1111111111111111,
              "#46039f"
             ],
             [
              0.2222222222222222,
              "#7201a8"
             ],
             [
              0.3333333333333333,
              "#9c179e"
             ],
             [
              0.4444444444444444,
              "#bd3786"
             ],
             [
              0.5555555555555556,
              "#d8576b"
             ],
             [
              0.6666666666666666,
              "#ed7953"
             ],
             [
              0.7777777777777778,
              "#fb9f3a"
             ],
             [
              0.8888888888888888,
              "#fdca26"
             ],
             [
              1,
              "#f0f921"
             ]
            ],
            "type": "heatmap"
           }
          ],
          "heatmapgl": [
           {
            "colorbar": {
             "outlinewidth": 0,
             "ticks": ""
            },
            "colorscale": [
             [
              0,
              "#0d0887"
             ],
             [
              0.1111111111111111,
              "#46039f"
             ],
             [
              0.2222222222222222,
              "#7201a8"
             ],
             [
              0.3333333333333333,
              "#9c179e"
             ],
             [
              0.4444444444444444,
              "#bd3786"
             ],
             [
              0.5555555555555556,
              "#d8576b"
             ],
             [
              0.6666666666666666,
              "#ed7953"
             ],
             [
              0.7777777777777778,
              "#fb9f3a"
             ],
             [
              0.8888888888888888,
              "#fdca26"
             ],
             [
              1,
              "#f0f921"
             ]
            ],
            "type": "heatmapgl"
           }
          ],
          "histogram": [
           {
            "marker": {
             "colorbar": {
              "outlinewidth": 0,
              "ticks": ""
             }
            },
            "type": "histogram"
           }
          ],
          "histogram2d": [
           {
            "colorbar": {
             "outlinewidth": 0,
             "ticks": ""
            },
            "colorscale": [
             [
              0,
              "#0d0887"
             ],
             [
              0.1111111111111111,
              "#46039f"
             ],
             [
              0.2222222222222222,
              "#7201a8"
             ],
             [
              0.3333333333333333,
              "#9c179e"
             ],
             [
              0.4444444444444444,
              "#bd3786"
             ],
             [
              0.5555555555555556,
              "#d8576b"
             ],
             [
              0.6666666666666666,
              "#ed7953"
             ],
             [
              0.7777777777777778,
              "#fb9f3a"
             ],
             [
              0.8888888888888888,
              "#fdca26"
             ],
             [
              1,
              "#f0f921"
             ]
            ],
            "type": "histogram2d"
           }
          ],
          "histogram2dcontour": [
           {
            "colorbar": {
             "outlinewidth": 0,
             "ticks": ""
            },
            "colorscale": [
             [
              0,
              "#0d0887"
             ],
             [
              0.1111111111111111,
              "#46039f"
             ],
             [
              0.2222222222222222,
              "#7201a8"
             ],
             [
              0.3333333333333333,
              "#9c179e"
             ],
             [
              0.4444444444444444,
              "#bd3786"
             ],
             [
              0.5555555555555556,
              "#d8576b"
             ],
             [
              0.6666666666666666,
              "#ed7953"
             ],
             [
              0.7777777777777778,
              "#fb9f3a"
             ],
             [
              0.8888888888888888,
              "#fdca26"
             ],
             [
              1,
              "#f0f921"
             ]
            ],
            "type": "histogram2dcontour"
           }
          ],
          "mesh3d": [
           {
            "colorbar": {
             "outlinewidth": 0,
             "ticks": ""
            },
            "type": "mesh3d"
           }
          ],
          "parcoords": [
           {
            "line": {
             "colorbar": {
              "outlinewidth": 0,
              "ticks": ""
             }
            },
            "type": "parcoords"
           }
          ],
          "pie": [
           {
            "automargin": true,
            "type": "pie"
           }
          ],
          "scatter": [
           {
            "marker": {
             "colorbar": {
              "outlinewidth": 0,
              "ticks": ""
             }
            },
            "type": "scatter"
           }
          ],
          "scatter3d": [
           {
            "line": {
             "colorbar": {
              "outlinewidth": 0,
              "ticks": ""
             }
            },
            "marker": {
             "colorbar": {
              "outlinewidth": 0,
              "ticks": ""
             }
            },
            "type": "scatter3d"
           }
          ],
          "scattercarpet": [
           {
            "marker": {
             "colorbar": {
              "outlinewidth": 0,
              "ticks": ""
             }
            },
            "type": "scattercarpet"
           }
          ],
          "scattergeo": [
           {
            "marker": {
             "colorbar": {
              "outlinewidth": 0,
              "ticks": ""
             }
            },
            "type": "scattergeo"
           }
          ],
          "scattergl": [
           {
            "marker": {
             "colorbar": {
              "outlinewidth": 0,
              "ticks": ""
             }
            },
            "type": "scattergl"
           }
          ],
          "scattermapbox": [
           {
            "marker": {
             "colorbar": {
              "outlinewidth": 0,
              "ticks": ""
             }
            },
            "type": "scattermapbox"
           }
          ],
          "scatterpolar": [
           {
            "marker": {
             "colorbar": {
              "outlinewidth": 0,
              "ticks": ""
             }
            },
            "type": "scatterpolar"
           }
          ],
          "scatterpolargl": [
           {
            "marker": {
             "colorbar": {
              "outlinewidth": 0,
              "ticks": ""
             }
            },
            "type": "scatterpolargl"
           }
          ],
          "scatterternary": [
           {
            "marker": {
             "colorbar": {
              "outlinewidth": 0,
              "ticks": ""
             }
            },
            "type": "scatterternary"
           }
          ],
          "surface": [
           {
            "colorbar": {
             "outlinewidth": 0,
             "ticks": ""
            },
            "colorscale": [
             [
              0,
              "#0d0887"
             ],
             [
              0.1111111111111111,
              "#46039f"
             ],
             [
              0.2222222222222222,
              "#7201a8"
             ],
             [
              0.3333333333333333,
              "#9c179e"
             ],
             [
              0.4444444444444444,
              "#bd3786"
             ],
             [
              0.5555555555555556,
              "#d8576b"
             ],
             [
              0.6666666666666666,
              "#ed7953"
             ],
             [
              0.7777777777777778,
              "#fb9f3a"
             ],
             [
              0.8888888888888888,
              "#fdca26"
             ],
             [
              1,
              "#f0f921"
             ]
            ],
            "type": "surface"
           }
          ],
          "table": [
           {
            "cells": {
             "fill": {
              "color": "#EBF0F8"
             },
             "line": {
              "color": "white"
             }
            },
            "header": {
             "fill": {
              "color": "#C8D4E3"
             },
             "line": {
              "color": "white"
             }
            },
            "type": "table"
           }
          ]
         },
         "layout": {
          "annotationdefaults": {
           "arrowcolor": "#2a3f5f",
           "arrowhead": 0,
           "arrowwidth": 1
          },
          "coloraxis": {
           "colorbar": {
            "outlinewidth": 0,
            "ticks": ""
           }
          },
          "colorscale": {
           "diverging": [
            [
             0,
             "#8e0152"
            ],
            [
             0.1,
             "#c51b7d"
            ],
            [
             0.2,
             "#de77ae"
            ],
            [
             0.3,
             "#f1b6da"
            ],
            [
             0.4,
             "#fde0ef"
            ],
            [
             0.5,
             "#f7f7f7"
            ],
            [
             0.6,
             "#e6f5d0"
            ],
            [
             0.7,
             "#b8e186"
            ],
            [
             0.8,
             "#7fbc41"
            ],
            [
             0.9,
             "#4d9221"
            ],
            [
             1,
             "#276419"
            ]
           ],
           "sequential": [
            [
             0,
             "#0d0887"
            ],
            [
             0.1111111111111111,
             "#46039f"
            ],
            [
             0.2222222222222222,
             "#7201a8"
            ],
            [
             0.3333333333333333,
             "#9c179e"
            ],
            [
             0.4444444444444444,
             "#bd3786"
            ],
            [
             0.5555555555555556,
             "#d8576b"
            ],
            [
             0.6666666666666666,
             "#ed7953"
            ],
            [
             0.7777777777777778,
             "#fb9f3a"
            ],
            [
             0.8888888888888888,
             "#fdca26"
            ],
            [
             1,
             "#f0f921"
            ]
           ],
           "sequentialminus": [
            [
             0,
             "#0d0887"
            ],
            [
             0.1111111111111111,
             "#46039f"
            ],
            [
             0.2222222222222222,
             "#7201a8"
            ],
            [
             0.3333333333333333,
             "#9c179e"
            ],
            [
             0.4444444444444444,
             "#bd3786"
            ],
            [
             0.5555555555555556,
             "#d8576b"
            ],
            [
             0.6666666666666666,
             "#ed7953"
            ],
            [
             0.7777777777777778,
             "#fb9f3a"
            ],
            [
             0.8888888888888888,
             "#fdca26"
            ],
            [
             1,
             "#f0f921"
            ]
           ]
          },
          "colorway": [
           "#636efa",
           "#EF553B",
           "#00cc96",
           "#ab63fa",
           "#FFA15A",
           "#19d3f3",
           "#FF6692",
           "#B6E880",
           "#FF97FF",
           "#FECB52"
          ],
          "font": {
           "color": "#2a3f5f"
          },
          "geo": {
           "bgcolor": "white",
           "lakecolor": "white",
           "landcolor": "#E5ECF6",
           "showlakes": true,
           "showland": true,
           "subunitcolor": "white"
          },
          "hoverlabel": {
           "align": "left"
          },
          "hovermode": "closest",
          "mapbox": {
           "style": "light"
          },
          "paper_bgcolor": "white",
          "plot_bgcolor": "#E5ECF6",
          "polar": {
           "angularaxis": {
            "gridcolor": "white",
            "linecolor": "white",
            "ticks": ""
           },
           "bgcolor": "#E5ECF6",
           "radialaxis": {
            "gridcolor": "white",
            "linecolor": "white",
            "ticks": ""
           }
          },
          "scene": {
           "xaxis": {
            "backgroundcolor": "#E5ECF6",
            "gridcolor": "white",
            "gridwidth": 2,
            "linecolor": "white",
            "showbackground": true,
            "ticks": "",
            "zerolinecolor": "white"
           },
           "yaxis": {
            "backgroundcolor": "#E5ECF6",
            "gridcolor": "white",
            "gridwidth": 2,
            "linecolor": "white",
            "showbackground": true,
            "ticks": "",
            "zerolinecolor": "white"
           },
           "zaxis": {
            "backgroundcolor": "#E5ECF6",
            "gridcolor": "white",
            "gridwidth": 2,
            "linecolor": "white",
            "showbackground": true,
            "ticks": "",
            "zerolinecolor": "white"
           }
          },
          "shapedefaults": {
           "line": {
            "color": "#2a3f5f"
           }
          },
          "ternary": {
           "aaxis": {
            "gridcolor": "white",
            "linecolor": "white",
            "ticks": ""
           },
           "baxis": {
            "gridcolor": "white",
            "linecolor": "white",
            "ticks": ""
           },
           "bgcolor": "#E5ECF6",
           "caxis": {
            "gridcolor": "white",
            "linecolor": "white",
            "ticks": ""
           }
          },
          "title": {
           "x": 0.05
          },
          "xaxis": {
           "automargin": true,
           "gridcolor": "white",
           "linecolor": "white",
           "ticks": "",
           "title": {
            "standoff": 15
           },
           "zerolinecolor": "white",
           "zerolinewidth": 2
          },
          "yaxis": {
           "automargin": true,
           "gridcolor": "white",
           "linecolor": "white",
           "ticks": "",
           "title": {
            "standoff": 15
           },
           "zerolinecolor": "white",
           "zerolinewidth": 2
          }
         }
        },
        "title": {
         "font": {
          "color": "#4D5663"
         },
         "text": "Text2Graph (TSNE)"
        },
        "xaxis": {
         "gridcolor": "#E1E5ED",
         "showgrid": true,
         "tickfont": {
          "color": "#4D5663"
         },
         "title": {
          "font": {
           "color": "#4D5663"
          },
          "text": ""
         },
         "zerolinecolor": "#E1E5ED"
        },
        "yaxis": {
         "gridcolor": "#E1E5ED",
         "showgrid": true,
         "tickfont": {
          "color": "#4D5663"
         },
         "title": {
          "font": {
           "color": "#4D5663"
          },
          "text": ""
         },
         "zerolinecolor": "#E1E5ED"
        }
       }
      },
      "text/html": [
       "<div>\n",
       "        \n",
       "        \n",
       "            <div id=\"7eb1147c-8d4d-44f4-852b-19cc3b985268\" class=\"plotly-graph-div\" style=\"height:525px; width:100%;\"></div>\n",
       "            <script type=\"text/javascript\">\n",
       "                require([\"plotly\"], function(Plotly) {\n",
       "                    window.PLOTLYENV=window.PLOTLYENV || {};\n",
       "                    window.PLOTLYENV.BASE_URL='https://plot.ly';\n",
       "                    \n",
       "                if (document.getElementById(\"7eb1147c-8d4d-44f4-852b-19cc3b985268\")) {\n",
       "                    Plotly.newPlot(\n",
       "                        '7eb1147c-8d4d-44f4-852b-19cc3b985268',\n",
       "                        [{\"marker\": {\"color\": \"rgba(255, 153, 51, 1.0)\", \"line\": {\"width\": 1.3}, \"opacity\": 0.8, \"size\": 12, \"symbol\": \"circle\"}, \"mode\": \"markers\", \"name\": \"NIPS\", \"text\": [\"Visualizing the Loss Landscape of Neural Nets\", \"PointCNN\", \"L4: Practical loss-based stepsize adaptation for deep learning\", \"Multimodal Generative Models for Scalable Weakly-Supervised Learning\", \"Neural Voice Cloning with a Few Samples\", \"The Description Length of Deep Learning models\", \"Deep Defense: Training DNNs with Improved Adversarial Robustness\", \"Adversarial Logit Pairing\", \"Realistic Evaluation of Deep Semi-Supervised Learning Algorithms\", \"DVAE#: Discrete Variational Autoencoders with Relaxed Boltzmann Priors\", \"BourGAN: Generative Networks with Metric Embeddings\", \"Bilinear Attention Networks\", \"Breaking the Activation Function Bottleneck through Adaptive Parameterization\", \"Hyperbolic Neural Networks\", \"Learning towards Minimum Hyperspherical Energy\", \"Generalizing to Unseen Domains via Adversarial Data Augmentation\", \"On GANs and GMMs\", \"Assessing Generative Models via Precision and Recall\", \"Relational recurrent neural networks\", \"Unsupervised Attention-guided Image-to-Image Translation\", \"Speaker-Follower Models for Vision-and-Language Navigation\", \"ATOMO: Communication-efficient Learning via Atomic Sparsification\", \"Generative Neural Machine Translation\", \"Banach Wasserstein GAN\", \"Neural Code Comprehension: A Learnable Representation of Code Semantics\", \"3D Steerable CNNs: Learning Rotationally Equivariant Features in Volumetric Data\", \"Discovery of Latent 3D Keypoints via End-to-end Geometric Reasoning\", \"An intriguing failing of convolutional neural networks and the CoordConv solution\", \"Latent Alignment and Variational Attention\", \"Neural Arithmetic Logic Units\", \"Adaptive Skip Intervals: Temporal Abstraction for Recurrent Dynamical Models\", \"Video-to-Video Synthesis\", \"Generalisation in humans and deep neural networks\", \"A Unified Feature Disentangler for Multi-Domain Image Translation and Manipulation\", \"Neural Guided Constraint Logic Programming for Program Synthesis\", \"Deep Subspace Clustering Networks\", \"Dilated Recurrent Neural Networks\", \"Structured Embedding Models for Grouped Data\", \"Best of Both Worlds: Transferring Knowledge from Discriminative Learning to a Generative Visual Dialog Model\", \"Learning a Multi-View Stereo Machine\", \"Universal Style Transfer via Feature Transforms\", \"f-GANs in an Information Geometric Nutshell\", \"Toward Multimodal Image-to-Image Translation\", \"One-Sided Unsupervised Domain Mapping\", \"Deep Mean-Shift Priors for Image Restoration\", \"SchNet: A continuous-filter convolutional neural network for modeling quantum interactions\", \"Inductive Representation Learning on Large Graphs\", \"Mean teachers are better role models: Weight-averaged consistency targets improve semi-supervised deep learning results\", \"TernGrad: Ternary Gradients to Reduce Communication in Distributed Deep Learning\", \"NeuralFDR: Learning Discovery Thresholds from Hypothesis Features\", \"Learning Multiple Tasks with Multilinear Relationship Networks\", \"Train longer, generalize better: closing the generalization gap in large batch training of neural networks\", \"The Numerics of GANs\", \"Stabilizing Training of Generative Adversarial Networks through Regularization\", \"Training Deep Networks without Learning Rates Through Coin Betting\", \"MMD GAN: Towards Deeper Understanding of Moment Matching Network\", \"Few-Shot Learning Through an Information Retrieval  Lens\", \"Differentiable Learning of Logical Rules for Knowledge Base Reasoning\", \"OnACID: Online Analysis of Calcium Imaging Data in Real Time\", \"Fisher GAN\", \"Toward Goal-Driven Neural Network Models for the Rodent Whisker-Trigeminal System\", \"Predicting Organic Reaction Outcomes with Weisfeiler-Lehman Network\", \"REBAR: Low-variance, unbiased gradient estimates for discrete latent variable models\", \"ELF: An Extensive, Lightweight and Flexible Research Platform for Real-time Strategy Games\", \"Dual Discriminator Generative Adversarial Nets\", \"Bridging the Gap Between Value and Policy Based Reinforcement Learning\", \"Convolutional Gaussian Processes\", \"Deep Lattice Networks and Partial Monotonic Functions\", \"Hierarchical Attentive Recurrent Tracking\", \"Learning to Compose Domain-Specific Transformations for Data Augmentation\", \"Language Modeling with Recurrent Highway Hypernetworks\", \"Bayesian Compression for Deep Learning\", \"Streaming Sparse Gaussian Process Approximations\", \"Spherical convolutions and their application in molecular modelling\", \"Neural system identification for large populations separating \\u0093what\\u0094 and \\u0093where\\u0094\", \"A Disentangled Recognition and Nonlinear Dynamics Model for Unsupervised Learning\", \"Bayesian GAN\", \"Geometric Matrix Completion with Recurrent Multi-Graph Neural Networks\", \"Diving into the shallows: a computational perspective on large-scale shallow learning\", \"InfoGAIL: Interpretable Imitation Learning from Visual Demonstrations\", \"Deep Hyperspherical Learning\", \"On-the-fly Operation Batching in Dynamic Computation Graphs\", \"Streaming Weak Submodularity: Interpreting Neural Networks on the Fly\", \"Prototypical Networks for Few-shot Learning\", \"Multi-Information Source Optimization\", \"Dual Path Networks\", \"Doubly Stochastic Variational Inference for Deep Gaussian Processes\", \"QMDP-Net: Deep Learning for Planning under Partial Observability\", \"A Unified Approach to Interpreting Model Predictions\", \"Context Selection for Embedding Models\", \"Working hard to know your neighbor's margins: Local descriptor learning loss\", \"Learning to Prune Deep Neural Networks via Layer-wise Optimal Brain Surgeon\", \"DropoutNet: Addressing Cold Start in Recommender Systems\", \"PointNet++: Deep Hierarchical Feature Learning on Point Sets in a Metric Space\", \"A-NICE-MC: Adversarial Training for MCMC\", \"Riemannian approach to batch normalization\", \"Triangle Generative Adversarial Networks\", \"Scalable trust-region method for deep reinforcement learning using Kronecker-factored approximation\", \"Hybrid Reward Architecture for Reinforcement Learning\", \"AdaGAN: Boosting Generative Models\", \"Task-based End-to-end Model Learning in Stochastic Optimization\", \"Gradient descent GAN optimization is locally stable\", \"Do Deep Neural Networks Suffer from Crowding?\", \"Improved Training of Wasserstein GANs\", \"Learning Disentangled Representations with Semi-Supervised Deep Generative Models\", \"Attention is All you Need\", \"Value Prediction Network\", \"Causal Effect Inference with Deep Latent-Variable Models\", \"Good Semi-supervised Learning That Requires a Bad GAN\", \"Modulating early visual processing by language\", \"GANs Trained by a Two Time-Scale Update Rule Converge to a Local Nash Equilibrium\", \"Neural Expectation Maximization\", \"Attend and Predict: Understanding Gene Regulation by Selective Attention on Chromatin\", \"Style Transfer from Non-Parallel Text by Cross-Alignment\", \"Real Time Image Saliency for Black Box Classifiers\", \"COLA: Decentralized Linear Learning\", \"A Simple Unified Framework for Detecting Out-of-Distribution Samples and Adversarial Attacks\", \"Mapping Images to Scene Graphs with Permutation-Invariant Structured Prediction\", \"Learning Conditioned Graph Structures for Interpretable Visual Question Answering\", \"Reversible Recurrent Neural Networks\"], \"textfont\": {\"color\": \"#4D5663\"}, \"type\": \"scatter\", \"x\": [-7.529718399047852, 3.4798080921173096, -5.151712417602539, -29.79294204711914, 37.99027633666992, -30.77606201171875, -11.515345573425293, -12.105371475219727, 2.5449397563934326, 2.9536592960357666, 7.2216796875, 4.76102352142334, 33.21915817260742, 31.692956924438477, 10.256170272827148, -11.881388664245605, 9.63072681427002, 1.0443507432937622, -6.242461204528809, 30.299091339111328, 46.4463005065918, -8.77016544342041, 0.2518481910228729, -1.0731103420257568, -0.36767521500587463, 46.04963684082031, 46.70500564575195, 44.59377670288086, 45.77661895751953, 9.128873825073242, 35.780601501464844, 35.68476867675781, 41.714393615722656, 38.1632080078125, 42.46538543701172, 30.30560302734375, 31.89376449584961, 50.337100982666016, 45.95189666748047, 18.0502986907959, 42.28813552856445, 31.610265731811523, 9.875579833984375, 42.271671295166016, 24.208660125732422, 31.595548629760742, 18.42946434020996, 51.103973388671875, 17.829286575317383, 38.41672897338867, 20.57076644897461, 50.796443939208984, 15.885982513427734, 27.89790153503418, 33.41183853149414, 29.26815414428711, 18.58421516418457, 26.316335678100586, 42.20063781738281, 26.611289978027344, 35.05076217651367, 32.75116729736328, 0.6541048288345337, 44.18715286254883, 32.22300720214844, 28.53288459777832, 31.933929443359375, 34.32154846191406, 30.70130157470703, 29.97840118408203, 33.94865417480469, 38.56732940673828, 21.886642456054688, 29.231891632080078, 39.4204216003418, 40.32985305786133, 31.997102737426758, 38.19586944580078, 30.65195655822754, 11.018157958984375, 41.42303466796875, 14.7552490234375, 28.44144058227539, 44.33965301513672, 26.096956253051758, 29.31729507446289, 30.277326583862305, 26.409236907958984, 41.99879455566406, 50.21923065185547, 32.329280853271484, 32.025142669677734, 29.791810989379883, 29.098731994628906, 19.068614959716797, 30.286060333251953, 24.154489517211914, 16.266258239746094, 32.811038970947266, 21.42190170288086, 45.60807418823242, 15.59494400024414, 29.418994903564453, 23.0344295501709, 40.11479568481445, 30.34201431274414, 16.152687072753906, 27.00416374206543, 37.38420486450195, 43.54985046386719, 30.364431381225586, 31.648588180541992, 44.8919677734375, 37.92888641357422, 45.655853271484375, 0.4229414463043213, 32.57356643676758, 45.9083366394043, 45.53201675415039, 45.384681701660156], \"y\": [-20.601919174194336, 20.423871994018555, 27.73102569580078, -9.99496078491211, -15.498981475830078, -10.347196578979492, 17.865821838378906, 15.428890228271484, 18.296566009521484, 39.50517272949219, -0.8019381761550903, 39.60415267944336, -13.84942626953125, -24.575105667114258, 38.284427642822266, 33.970314025878906, 38.823062896728516, -13.98913288116455, -35.96157455444336, -30.24127960205078, -20.340604782104492, -23.120901107788086, -32.9139289855957, -36.03325653076172, -36.00983810424805, -13.908806800842285, -3.4459972381591797, -15.65774154663086, -19.447969436645508, 39.92848587036133, 30.597387313842773, 29.884220123291016, 2.192748546600342, -14.779690742492676, -14.378997802734375, 5.2832841873168945, -0.7108482718467712, 5.164572715759277, -7.864116668701172, 13.350547790527344, 8.68887996673584, 4.300822734832764, -17.483905792236328, 7.225983619689941, 24.884334564208984, 19.070581436157227, 17.431859970092773, 7.28834867477417, 17.350299835205078, -12.83896255493164, 2.1973392963409424, 6.434501647949219, -0.05711778998374939, 16.74064064025879, 19.757904052734375, 24.747756958007812, 16.473859786987305, -2.2196619510650635, 7.736624240875244, 15.589834213256836, 19.770748138427734, 28.501140594482422, -3.3614296913146973, -0.5640773177146912, 20.922670364379883, -23.486120223999023, 27.25541114807129, 19.926998138427734, -2.8371589183807373, 28.371967315673828, -1.0441324710845947, -12.01710319519043, -18.556867599487305, 27.15143585205078, 2.600968599319458, -0.4652300477027893, 17.961524963378906, -9.11868953704834, 0.6681268811225891, 37.7166633605957, 8.396445274353027, 31.86080551147461, 29.614299774169922, -14.96101188659668, -2.6505415439605713, 20.87813377380371, 6.834756851196289, -3.969731569290161, 1.1586662530899048, 4.75186824798584, -24.28988265991211, 4.659489154815674, 7.616852760314941, 8.147619247436523, 18.296911239624023, -24.858034133911133, -1.892132043838501, -1.1771479845046997, -24.386783599853516, -1.4176841974258423, -7.832879066467285, -23.75563621520996, 18.530471801757812, -1.6909211874008179, 2.4018609523773193, 3.7686901092529297, -32.844093322753906, 25.07510757446289, -12.482460975646973, 0.23402541875839233, 18.53953742980957, 1.757629632949829, -14.191128730773926, -8.337774276733398, -2.4042389392852783, -36.4107780456543, 16.978748321533203, -2.72373104095459, -19.813758850097656, -8.813231468200684]}, {\"marker\": {\"color\": \"rgba(55, 128, 191, 1.0)\", \"line\": {\"width\": 1.3}, \"opacity\": 0.8, \"size\": 12, \"symbol\": \"circle\"}, \"mode\": \"markers\", \"name\": \"ECCV\", \"text\": [\"Improving Shape Deformation in Unsupervised Image-to-Image Translation\", \"Pairwise Confusion for Fine-Grained Visual Classification\", \"GANimation: Anatomically-aware Facial Animation from a Single Image\", \"Deep Expander Networks: Efficient Deep Networks from Graph Theory\", \"3DMV: Joint 3D-Multi-View Prediction for 3D Semantic Scene Segmentation\", \"Learning Category-Specific Mesh Reconstruction from Image Collections\", \"Zero-Shot Object Detection\", \"A Style-Aware Content Loss for Real-time HD Style Transfer\", \"Piggyback: Adapting a Single Network to Multiple Tasks by Learning to Mask Weights\", \"Semi-supervised Adversarial Learning to Generate Photorealistic Face Images of New Identities from 3D Morphable Model\", \"Simple Baselines for Human Pose Estimation and Tracking\", \"Toward Characteristic-Preserving Image-based Virtual Try-On Network\", \"Acquisition of Localization Confidence for Accurate Object Detection\", \"Conditional Image-Text Embedding Networks\", \"SketchyScene: Richly-Annotated Scene Sketches\", \"Progressive Neural Architecture Search\", \"Image Manipulation with Perceptual Discriminators\", \"Unsupervised holistic image generation from key local patches\", \"LQ-Nets: Learned Quantization for Highly Accurate and Compact Deep Neural Networks\", \"Is Robustness the Cost of Accuracy? -- A Comprehensive Study on the Robustness of 18 Deep Image Classification Models\", \"Dynamic Multimodal Instance Segmentation Guided by Natural Language Queries\", \"Dynamic Conditional Networks for Few-Shot Learning\", \"Recovering 3D Planes from a Single Image via Convolutional Neural Networks\", \"Learning Single-View 3D Reconstruction with Limited Pose Supervision\", \"Image Inpainting for Irregular Holes Using Partial Convolutions\", \"Unsupervised Geometry-Aware Representation for 3D Human Pose Estimation\", \"PSANet: Point-wise Spatial Attention Network for Scene Parsing\", \"Predicting Gaze in Egocentric Video by Learning Task-dependent Attention Transition\", \"Coloring with Words: Guiding Image Colorization Through Text-based Palette Generation\", \"Fighting Fake News: Image Splice Detection via Learned Self-Consistency\", \"HiDDeN: Hiding Data with Deep Networks\", \"Multi-scale Residual Network for Image Super-Resolution\", \"Adaptive Affinity Fields for Semantic Segmentation\", \"Statistically-motivated Second-order Pooling\", \"Stacked Cross Attention for Image-Text Matching\", \"Open Set Domain Adaptation by Backpropagation\", \"DeepVS: A Deep Learning Based Video Saliency Prediction Approach\", \"Encoder-Decoder with Atrous Separable Convolution for Semantic Image Segmentation\", \"Estimating the Success of Unsupervised Image to Image Translation\", \"Single Shot Scene Text Retrieval\", \"Learning Type-Aware Embeddings for Fashion Compatibility\", \"Learning Visual Question Answering by Bootstrapping Hard Attention\", \"Deep Clustering for Unsupervised Learning of Visual Features\", \"Joint Person Segmentation and Identification in Synchronized First- and Third-person Videos\", \"ECO: Efficient Convolutional Network for Online Video Understanding\", \"Diverse and Coherent Paragraph Generation from Images\", \"MultiPoseNet: Fast Multi-Person Pose Estimation using Pose Residual Network\", \"ShapeStacks: Learning Vision-Based Physical Intuition for Generalised Object Stacking\", \"Towards Realistic Predictors\", \"Choose Your Neuron: Incorporating Domain Knowledge through Neuron-Importance\", \"Learning to Separate Object Sounds by Watching Unlabeled Video\", \"ESPNet: Efficient Spatial Pyramid of Dilated Convolutions for Semantic Segmentation\", \"Visual Coreference Resolution in Visual Dialog using Neural Module Networks\", \"License Plate Detection and Recognition in Unconstrained Scenarios\", \"Deep High Dynamic Range Imaging with Large Foreground Motions\", \"Multi-view to Novel view: Synthesizing novel views with Self-Learned Confidence\", \"Layer-structured 3D Scene Inference via View Synthesis\", \"3D-CODED: 3D Correspondences by Deep Deformation\", \"HybridNet: Classification and Reconstruction Cooperation for Semi-Supervised Learning\", \"Learning Dynamic Memory Networks for Object Tracking\", \"Interpretable Intuitive Physics Model\", \"Gray-box Adversarial Training\", \"Depth-aware CNN for RGB-D Segmentation\", \"Learning Efficient Single-stage Pedestrian Detectors by Asymptotic Localization Fitting\", \"A Modulation Module for Multi-task Learning with Applications in Image Retrieval\", \"Single Image Water Hazard Detection using FCN with Reflection Attention Units\", \"Integral Human Pose Regression\", \"Recurrent Squeeze-and-Excitation Context Aggregation Net for Single Image Deraining\", \"Quaternion Convolutional Neural Networks\", \"Mutual Learning to Adapt for Joint Human Parsing and Pose Estimation\", \"Pose Partition Networks for Multi-Person Pose Estimation\", \"Video Re-localization\", \"Joint 3D Face Reconstruction and Dense Alignment with Position Map Regression Network\", \"MVSNet: Depth Inference for Unstructured Multi-view Stereo\", \"Audio-Visual Event Localization in Unconstrained Videos\", \"Macro-Micro Adversarial Network for Human Parsing\", \"SpiderCNN: Deep Learning on Point Sets with Parameterized Convolutional Filters\", \"PlaneMatch: Patch Coplanarity Prediction for Robust RGB-D Reconstruction\", \"Factorizable Net: An Efficient Subgraph-based Framework for Scene Graph Generation\", \"Group Normalization\", \"Learning to Navigate for Fine-grained Classification\", \"Partial Adversarial Domain Adaptation\", \"Distractor-aware Siamese Networks for Visual Object Tracking\", \"Improving Generalization via  Scalable Neighborhood Component Analysis\", \"Saliency Detection in 360\\u00b0 Videos\"], \"textfont\": {\"color\": \"#4D5663\"}, \"type\": \"scatter\", \"x\": [-31.03519058227539, -22.139728546142578, -23.903522491455078, -38.02139663696289, -23.86566925048828, -23.564884185791016, -32.142906188964844, -18.407432556152344, -20.624195098876953, -16.09237289428711, -32.600433349609375, -19.34566879272461, -24.052278518676758, -3.2035670280456543, -27.366649627685547, -14.396636009216309, -48.7995491027832, -27.372703552246094, -11.195454597473145, -40.10244369506836, -28.694669723510742, -6.841202259063721, -18.838626861572266, -38.189884185791016, -34.87263107299805, -12.335494041442871, -36.1203727722168, -44.82646179199219, -54.22380065917969, -25.738176345825195, -22.05074691772461, -24.56795883178711, -52.06666946411133, -28.076820373535156, -17.469770431518555, -38.202911376953125, -39.41348648071289, -48.04751968383789, -23.415834426879883, -49.23712921142578, -27.42669105529785, -27.3634033203125, -36.298675537109375, -18.946002960205078, -44.96389389038086, -26.95252227783203, -18.03158950805664, -20.81721305847168, -46.6678581237793, -41.5786247253418, -35.525760650634766, -27.352807998657227, -29.072614669799805, -46.67890167236328, -4.022064208984375, -27.89678192138672, -28.28611183166504, -27.73929786682129, -41.300682067871094, -34.89042663574219, -28.661388397216797, -37.06451416015625, -18.489234924316406, -13.551432609558105, -30.324495315551758, -37.20293045043945, -36.35276412963867, -37.6786994934082, 0.3978011906147003, -32.97385025024414, -33.29067611694336, -30.318756103515625, -40.7115364074707, -32.76033020019531, -51.8894157409668, -27.373247146606445, -3.734121799468994, -36.729469299316406, -24.562803268432617, -14.703388214111328, -35.280269622802734, -19.2894344329834, -6.597264766693115, -37.502593994140625, -23.85466766357422], \"y\": [8.585636138916016, 4.186142444610596, -0.4856932759284973, -20.554330825805664, -24.13855743408203, -0.5475919246673584, 8.532994270324707, 11.925145149230957, 4.478212833404541, 18.986570358276367, -20.366060256958008, 2.836276054382324, -17.250099182128906, 8.249773979187012, 14.153553009033203, 26.920345306396484, 0.0749405100941658, 9.451552391052246, 16.82771110534668, 1.2267627716064453, -24.227262496948242, -33.575931549072266, 29.258769989013672, 18.705589294433594, -12.643836975097656, -19.76376724243164, -29.720205307006836, 1.1997854709625244, 1.236829400062561, 4.22910737991333, -10.660713195800781, 4.2567853927612305, 3.28760027885437, 12.891498565673828, 0.7252099514007568, -20.31041717529297, 1.3634023666381836, 1.8518486022949219, 3.9527454376220703, 1.2972546815872192, -25.385862350463867, -23.462034225463867, -30.346071243286133, -21.83662986755371, 0.016340231522917747, -23.731861114501953, -22.50171661376953, 24.919824600219727, 2.058260440826416, 0.9710012674331665, -22.439729690551758, -12.628567695617676, 10.942453384399414, 2.5429821014404297, -30.109180450439453, 9.791770935058594, 12.278402328491211, -10.239151954650879, -0.19157549738883972, 23.3502254486084, -23.257104873657227, -0.25492411851882935, -20.064794540405273, 25.9334659576416, 8.048323631286621, 22.064533233642578, -22.14141082763672, -30.660327911376953, 32.963077545166016, -28.244768142700195, -22.848127365112305, 11.696761131286621, -0.7317960262298584, -21.712976455688477, 2.9925012588500977, -12.113086700439453, 7.871062278747559, -0.540084183216095, -0.2830752730369568, 27.35947036743164, -30.36585235595703, -18.072071075439453, -35.17258071899414, -11.618696212768555, -23.39054298400879]}, {\"marker\": {\"color\": \"rgba(50, 171, 96, 1.0)\", \"line\": {\"width\": 1.3}, \"opacity\": 0.8, \"size\": 12, \"symbol\": \"circle\"}, \"mode\": \"markers\", \"name\": \"CVPR\", \"text\": [\"An Improved Deep Learning Architecture for Person Re-Identification\", \"SST: Single-Stream Temporal Action Proposals\", \"One-Shot Video Object Segmentation\", \"Neural Sign Language Translation\", \"Annotating Object Instances With a Polygon-RNN\", \"Pyramid Stereo Matching Network\", \"AON: Towards Arbitrarily-Oriented Text Recognition\", \"LiDAR-Video Driving Dataset: Learning Driving Policies Effectively\", \"VidLoc: A Deep Spatio-Temporal Model for 6-DoF Video-Clip Relocalization\", \"Large Scale Fine-Grained Categorization and Domain-Specific Transfer Learning\", \"Learning to Evaluate Image Captioning\", \"ScanComplete: Large-Scale Scene Completion and Semantic Segmentation for 3D Scans\", \"Supervision-by-Registration: An Unsupervised Approach to Improve the Precision of Facial Landmark Detectors\", \"GraphBit: Bitwise Interaction Mining via Deep Reinforcement Learning\", \"Who Let the Dogs Out? Modeling Dog Behavior From Visual Data\", \"Robust Physical-World Attacks on Deep Learning Visual Classification\", \"A Point Set Generation Network for 3D Object Reconstruction From a Single Image\", \"End-to-End Learning of Motion Representation for Video Understanding\", \"Deep Pyramidal Residual Networks\", \"Deep Residual Learning for Image Recognition\", \"Deeply Supervised Salient Object Detection With Short Connections\", \"DeepMVS: Learning Multi-View Stereopsis\", \"Densely Connected Convolutional Networks\", \"Learning Deep Representation for Imbalanced Classification\", \"Fast and Accurate Single Image Super-Resolution via Information Distillation Network\", \"LiteFlowNet: A Lightweight Convolutional Neural Network for Optical Flow Estimation\", \"Deep 360 Pilot: Learning a Deep Agent for Piloting Through 360deg Sports Videos\", \"FC4: Fully Convolutional Color Constancy With Confidence-Weighted Pooling\", \"Image Specificity\", \"Perturbative Neural Networks\", \"End-to-End Recovery of Human Shape and Pose\", \"Convolutional Neural Networks for No-Reference Image Quality Assessment\", \"Deeply-Recursive Convolutional Network for Image Super-Resolution\", \"Stochastic Downsampling for Cost-Adjustable Inference and Improved Regularization in Convolutional Networks\", \"Deep Laplacian Pyramid Networks for Fast and Accurate Super-Resolution\", \"TI-Pooling: Transformation-Invariant Pooling for Feature Learning in Convolutional Neural Networks\", \"Recurrent Convolutional Neural Network for Object Recognition\", \"Deep Marching Cubes: Learning Explicit Surface Representations\", \"ST-GAN: Spatial Transformer Generative Adversarial Networks for Image Compositing\", \"Decoupled Networks\", \"PlaneNet: Piece-Wise Planar Reconstruction From a Single RGB Image\", \"Predicting Salient Face in Multiple-Face Videos\", \"Recognizing Human Actions as the Evolution of Pose Estimation Maps\", \"Towards Faster Training of Global Covariance Pooling Networks by Iterative Matrix Square Root Normalization\", \"Fully Convolutional Networks for Semantic Segmentation\", \"Cross-Stitch Networks for Multi-Task Learning\", \"Beyond the Pixel-Wise Loss for Topology-Aware Delineation\", \"3D Bounding Box Estimation Using Deep Learning and Geometry\", \"Learning Dual Convolutional Neural Networks for Low-Level Vision\", \"Jointly Optimize Data Augmentation and Network Training: Adversarial Data Augmentation in Human Pose Estimation\", \"Learning Latent Super-Events to Detect Multiple Activities in Videos\", \"Learning Pose Specific Representations by Predicting Different Views\", \"Frustum PointNets for 3D Object Detection From RGB-D Data\", \"GeoNet: Geometric Neural Network for Joint Depth and Surface Normal Estimation\", \"Semi-Parametric Image Synthesis\", \"End-To-End Instance Segmentation With Recurrent Attention\", \"Adversarially Learned One-Class Classifier for Novelty Detection\", \"Pixels, Voxels, and Views: A Study of Shape Representations for Single View 3D Object Shape Prediction\", \"Actor and Observer: Joint Modeling of First and Third-Person Videos\", \"VITAL: VIsual Tracking via Adversarial Learning\", \"Pix3D: Dataset and Methods for Single-Image 3D Shape Modeling\", \"Multiple Instance Detection Network With Online Instance Classifier Refinement\", \"Real-Time Seamless Single Shot 6D Object Pose Prediction\", \"Lifting From the Deep: Convolutional 3D Pose Estimation From a Single Image\", \"Learning to Adapt Structured Output Space for Semantic Segmentation\", \"Learning Shape Abstractions by Assembling Volumetric Primitives\", \"Learning Superpixels With Segmentation-Aware Affinity Loss\", \"Show and Tell: A Neural Image Caption Generator\", \"Adversarial Feature Augmentation for Unsupervised Domain Adaptation\", \"High-Resolution Image Synthesis and Semantic Manipulation With Conditional GANs\", \"Learning a Discriminative Filter Bank Within a CNN for Fine-Grained Recognition\", \"Min-Entropy Latent Model for Weakly Supervised Object Detection\", \"Rethinking Feature Distribution for Loss Functions in Image Classification\", \"Dense Human Body Correspondences Using Convolutional Networks\", \"Gibson Env: Real-World Perception for Embodied Agents\", \"AttnGAN: Fine-Grained Text to Image Generation With Attentional Generative Adversarial Networks\", \"Object Contour Detection With a Fully Convolutional Encoder-Decoder Network\", \"Robust Classification With Convolutional Prototype Learning\", \"GeoNet: Unsupervised Learning of Dense Depth, Optical Flow and Camera Pose\", \"Generative Image Inpainting With Contextual Attention\", \"Video Paragraph Captioning Using Hierarchical Recurrent Neural Networks\", \"Adversarial Complementary Learning for Weakly Supervised Object Localization\", \"Densely Connected Pyramid Dehazing Network\", \"Residual Dense Network for Image Super-Resolution\", \"Visual Translation Embedding Network for Visual Relation Detection\"], \"textfont\": {\"color\": \"#4D5663\"}, \"type\": \"scatter\", \"x\": [15.02527141571045, -10.23542308807373, 29.15672492980957, -2.0268056392669678, -0.639643669128418, -25.96987533569336, -18.39451026916504, -12.68448543548584, 8.197239875793457, -21.24085807800293, -33.00797653198242, -21.811479568481445, -36.52529525756836, -20.174636840820312, -18.62582778930664, 6.600882053375244, 7.309479236602783, -19.309524536132812, -0.14774245023727417, -22.331554412841797, 4.068353652954102, -34.75209045410156, -18.6693115234375, -21.686227798461914, 0.008453293703496456, -25.37145233154297, 5.218813896179199, 5.2533769607543945, -19.495262145996094, -24.169328689575195, -11.869771957397461, 8.978926658630371, -21.195938110351562, 0.5054138898849487, -34.38474655151367, -3.276489734649658, 9.822371482849121, -35.50640869140625, -2.608755111694336, 0.03820432350039482, -2.6030914783477783, 5.733585834503174, -38.64652633666992, -2.146716833114624, 23.801074981689453, -50.82221221923828, -30.728132247924805, -20.25729751586914, -21.370773315429688, -30.45242691040039, -10.876352310180664, -18.948116302490234, -19.72812843322754, 5.482910633087158, -37.730403900146484, 25.906885147094727, -12.571627616882324, -10.480185508728027, -19.38204002380371, -38.87291717529297, -25.563602447509766, 37.66183853149414, -32.66660690307617, 12.461238861083984, -34.35426330566406, -32.97791290283203, -28.87957191467285, 36.13601303100586, 7.607667922973633, 6.048399448394775, -9.645059585571289, -18.585905075073242, -3.3591561317443848, 6.762729644775391, 1.1214665174484253, -3.485471248626709, 3.912477970123291, 0.7616621255874634, -17.639806747436523, -2.321636438369751, 1.4088488817214966, -29.962644577026367, -15.602437019348145, 1.9424946308135986, -18.950435638427734], \"y\": [31.639612197875977, -19.776290893554688, 25.685937881469727, 33.64534378051758, 28.99526023864746, -9.289450645446777, 11.900988578796387, 14.865290641784668, 28.754329681396484, 34.8358268737793, 23.77019691467285, 34.529258728027344, -11.573695182800293, 34.493927001953125, 1.4048534631729126, 29.334030151367188, 29.929012298583984, 33.90667724609375, -42.50912094116211, 36.13204574584961, 31.929861068725586, -11.429157257080078, 35.17444610595703, -10.873993873596191, 36.44343948364258, -8.165691375732422, 31.44890022277832, 39.550411224365234, 21.656932830810547, 33.02141571044922, 33.315635681152344, 19.78805923461914, 26.409957885742188, 38.9378547668457, 23.522367477416992, 35.21590042114258, 19.716552734375, -11.752677917480469, 30.974185943603516, 36.90560531616211, 33.8480339050293, 30.498441696166992, 2.0691111087799072, 29.549686431884766, 24.897859573364258, 0.7308261394500732, -4.279872417449951, 28.359975814819336, 24.71351432800293, -3.4690113067626953, -19.61972427368164, 7.241312026977539, 28.81858253479004, 28.809070587158203, 22.21906089782715, -21.560163497924805, 18.294492721557617, 16.42707633972168, 1.2112846374511719, 22.398761749267578, 22.777299880981445, -11.599504470825195, -3.818863868713379, 35.83592224121094, -2.9650638103485107, -24.02301597595215, -8.935331344604492, 31.519060134887695, 20.20673942565918, 19.776317596435547, -18.565523147583008, 8.202322959899902, 31.257226943969727, 18.690053939819336, 21.70207405090332, 27.96510124206543, 20.74480438232422, 33.46696472167969, 19.499568939208984, 32.8310432434082, 34.65406036376953, -4.339682579040527, 18.896108627319336, 21.308849334716797, 21.095550537109375]}, {\"marker\": {\"color\": \"rgba(128, 0, 128, 1.0)\", \"line\": {\"width\": 1.3}, \"opacity\": 0.8, \"size\": 12, \"symbol\": \"circle\"}, \"mode\": \"markers\", \"name\": \"ICML\", \"text\": [\"OptNet: Differentiable Optimization as a Layer in Neural Networks\", \"Input Convex Neural Networks\", \"Differentially Private Database Release via Kernel Mean Embeddings\", \"Optimizing the Latent Space of Generative Networks\", \"NetGAN: Generating Graphs via Random Walks\", \"Compressed Sensing using Generative Models\", \"Predict and Constrain: Modeling Cardinality in Deep Structured Prediction\", \"Path-Level Network Transformation for Efficient Architecture Search\", \"Adversarial Learning with Local Coordinate Coding\", \"Adversarial Time-to-Event Modeling\", \"Learning K-way D-dimensional Discrete Codes for Compact Embedding Representations\", \"DRACO: Byzantine-resilient Distributed Training via Redundant Gradients\", \"AdaNet: Adaptive Structural Learning of Artificial Neural Networks\", \"Inference Suboptimality in Variational Autoencoders\", \"Stochastic Generative Hashing\", \"Adversarial Attack on Graph Structured Data\", \"Language Modeling with Gated Convolutional Networks\", \"Stochastic Video Generation with a Learned Prior\", \"Dance Dance Convolution\", \"Model-Agnostic Meta-Learning for Fast Adaptation of Deep Networks\", \"Input Switched Affine Networks: An RNN Architecture Designed for Interpretability\", \"Bilevel Programming for Hyperparameter Optimization and Meta-Learning\", \"Convolutional Sequence to Sequence Learning\", \"Visualizing and Understanding Atari Agents\", \"On Calibration of Modern Neural Networks\", \"DeepBach: a Steerable Model for Bach Chorales Generation\", \"Learning unknown ODE models with Gaussian processes\", \"Toward Controlled Generation of Text\", \"Neural Autoregressive Flows\", \"Decoupled Parallel Backpropagation with Convergence Guarantee\", \"Attention-based Deep Multiple Instance Learning\", \"Black-box Adversarial Attacks with Limited Queries and Information\", \"Decoupled Neural Interfaces using Synthetic Gradients\", \"Efficient end-to-end learning for quantizable representations\", \"Composite Functional Gradient Learning of Generative  Adversarial Models\", \"Video Pixel Networks\", \"Efficient Neural Audio Synthesis\", \"Learning to Discover Cross-Domain Relations with Generative Adversarial Networks\", \"SplitNet: Learning to Semantically Split Deep Networks for Parameter Reduction and Model Parallelization\", \"Disentangling by Factorising\", \"Neural Relational Inference for Interacting Systems\", \"Grammar Variational Autoencoder\", \"Deep Spectral Clustering Learning\", \"Hierarchical Imitation and Reinforcement Learning\", \"Confident Multiple Choice Learning\", \"Gated Path Planning Networks\", \"Noise2Noise: Learning Image Restoration without Clean Data\", \"Dropout Inference in Bayesian Neural Networks with Alpha-divergences\", \"Explicit Inductive Bias for Transfer Learning with Convolutional Networks\", \"Towards Binary-Valued Gates for Robust LSTM Training\", \"Zero-Inflated Exponential Family Embeddings\", \"Dimensionality-Driven Learning with Noisy Labels\", \"Adversarial Variational Bayes: Unifying Variational Autoencoders and Generative Adversarial Networks\", \"Device Placement Optimization with Reinforcement Learning\", \"SparseMAP: Differentiable Sparse Structured Inference\", \"A Theoretical Explanation for Perplexing Behaviors of Backpropagation-based Visualizations\", \"The Statistical Recurrent Unit\", \"Efficient Neural Architecture Search via Parameters Sharing\", \"Robust Adversarial Reinforcement Learning\", \"Neural Episodic Control\", \"Online and Linear-Time Attention by Enforcing Monotonic Alignments\", \"Learning to Reweight Examples for Robust Deep Learning\", \"Deep One-Class Classification\", \"First Order Generative Adversarial Networks\", \"Finding Influential Training Samples for Gradient Boosted Decision Trees\", \"A Spectral Approach to Gradient Estimation for Implicit Distributions\", \"Bottleneck Conditional Density Estimation\", \"The Predictron:  End-To-End Learning and Planning\", \"Accelerating Natural Gradient with Higher-Order Invariance\", \"Exploiting the Potential of Standard Convolutional Autoencoders for Image Restoration by Evolutionary Search\", \"Neural Program Synthesis from Diverse Demonstration Videos\", \"Differentiable Compositional Kernel Learning for Gaussian Processes\", \"Axiomatic Attribution for Deep Networks\", \"Black Box FDR\", \"Learning Longer-term Dependencies in RNNs with Auxiliary Losses\", \"The Mirage of Action-Dependent Baselines in Reinforcement Learning\", \"Learning to Generate Long-term Future via Hierarchical Prediction\", \"PredRNN++: Towards A Resolution of the Deep-in-Time Dilemma in Spatiotemporal Predictive Learning\", \"Style Tokens: Unsupervised Style Modeling, Control and Transfer in End-to-End Speech Synthesis\", \"Transfer Learning via Learning to Transfer\", \"Hierarchical Long-term Video Prediction without Supervision\", \"Variance Regularized Counterfactual Risk Minimization via Variational Divergence Minimization\", \"Deep k-Means: Re-Training and Parameter Sharing with Harder Cluster Assignments for Compressing Deep Convolutions\", \"Learning Semantic Representations for Unsupervised Domain Adaptation\", \"Improved Variational Autoencoders for Text Modeling using Dilated Convolutions\", \"Mean Field Multi-Agent Reinforcement Learning\", \"Combined Group and Exclusive Sparsity for Deep Neural Networks\", \"GraphRNN: Generating Realistic Graphs with Deep Auto-regressive Models\", \"Continual Learning Through Synaptic Intelligence\", \"Adversarial Feature Matching for Text Generation\", \"Convexified Convolutional Neural Networks\", \"Noisy Natural Gradient as Variational Inference\", \"Recurrent Highway Networks\"], \"textfont\": {\"color\": \"#4D5663\"}, \"type\": \"scatter\", \"x\": [2.75349760055542, 15.17946720123291, -13.938828468322754, -20.923412322998047, -24.00613021850586, 1.8888126611709595, -30.962249755859375, -8.038656234741211, -21.971071243286133, -27.037063598632812, 21.546770095825195, 2.2598540782928467, 13.094911575317383, -14.02054500579834, 16.414936065673828, 30.27215576171875, 15.581101417541504, -3.4802305698394775, 3.04363751411438, 13.934958457946777, 3.4205944538116455, 10.583632469177246, 15.659891128540039, 3.0791525840759277, 4.96766471862793, 0.9391369819641113, 4.679348468780518, -13.655780792236328, -14.136940956115723, -19.44426918029785, -14.644335746765137, -13.46941089630127, 33.4658317565918, -15.40827465057373, 0.8052814602851868, 4.007294178009033, -51.870208740234375, 16.428842544555664, 29.16726303100586, -16.924074172973633, -32.034236907958984, -21.1336727142334, -25.304439544677734, 2.423478841781616, 17.782804489135742, -20.694242477416992, -2.130505084991455, 9.029839515686035, -29.85918617248535, -1.0347713232040405, 2.7979888916015625, 5.546726703643799, 14.948986053466797, 4.172469139099121, -17.175756454467773, 3.327376365661621, 9.072763442993164, -16.43914794921875, 28.111360549926758, 2.5790035724639893, 16.123077392578125, -32.981483459472656, -8.892888069152832, -13.2122802734375, -25.54957389831543, 10.015746116638184, 26.282001495361328, 16.257566452026367, -0.4439871609210968, -53.14641189575195, 9.168863296508789, -18.02178955078125, 14.753846168518066, -8.424639701843262, 30.08587646484375, -7.066771984100342, 9.93036937713623, 4.143395900726318, -0.5920632481575012, -29.67806625366211, -13.842507362365723, -32.56483459472656, -0.2747219204902649, 1.8730778694152832, 3.1859185695648193, -20.39164161682129, 12.690473556518555, -6.61410665512085, 15.263973236083984, 19.408437728881836, 2.3527040481567383, -21.971452713012695, 15.996752738952637], \"y\": [-17.418455123901367, -28.16377067565918, -12.65159797668457, -17.54676055908203, -17.14334487915039, -3.5494372844696045, 12.852412223815918, -20.7691650390625, -17.41573143005371, 22.1442813873291, -18.42795181274414, -13.220565795898438, 34.556358337402344, -11.838950157165527, -17.28323745727539, -30.555696487426758, -18.758342742919922, -30.442182540893555, -3.266806125640869, -28.443994522094727, -6.7389020919799805, -25.445701599121094, -28.649063110351562, -14.55349349975586, -1.2401527166366577, -30.052316665649414, -13.125423431396484, -30.13831901550293, -11.006478309631348, -20.348398208618164, -32.56832504272461, 32.999271392822266, -13.81922721862793, 33.485679626464844, 7.228066921234131, -19.465755462646484, -0.2754487097263336, 4.343151569366455, 27.963178634643555, -22.72336769104004, -30.52128791809082, -11.720245361328125, 18.8730411529541, -8.402756690979004, 2.0869858264923096, -20.321496963500977, 8.19085693359375, -6.937269687652588, 19.106096267700195, -30.643753051757812, -5.552783489227295, -1.1522525548934937, 0.8723633885383606, -19.478158950805664, -25.681976318359375, -15.99244213104248, -6.36146879196167, -26.689647674560547, -23.230579376220703, -6.335204601287842, -32.6328239440918, -31.133752822875977, -22.089250564575195, 32.79934310913086, 19.119754791259766, -26.148143768310547, 15.382145881652832, -15.425886154174805, 7.155738353729248, 2.0673394203186035, -27.02639389038086, 18.381614685058594, -21.58557891845703, -30.05021858215332, -31.65462875366211, -31.25359535217285, -22.537769317626953, -16.22981834411621, 8.23696231842041, 19.330341339111328, -30.97989845275879, -27.823532104492188, -42.441802978515625, 16.49094009399414, -29.23514175415039, -15.781723976135254, 35.44580841064453, -32.22587203979492, -19.464996337890625, 2.514704704284668, 1.1945812702178955, -21.83074951171875, -26.135791778564453]}, {\"marker\": {\"color\": \"rgba(219, 64, 82, 1.0)\", \"line\": {\"width\": 1.3}, \"opacity\": 0.8, \"size\": 12, \"symbol\": \"circle\"}, \"mode\": \"markers\", \"name\": \"ICCV\", \"text\": [\"VQA: Visual Question Answering\", \"Convolutional Color Constancy\", \"Deep TextSpotter: An End-To-End Trainable Scene Text Localization and Recognition Framework\", \"SubUNets: End-To-End Hand Shape and Continuous Sign Language Recognition\", \"Deep Adaptive Image Clustering\", \"Photographic Image Synthesis With Cascaded Refinement Networks\", \"Deformable Convolutional Networks\", \"Attributes2Classname: A Discriminative Model for Attribute-Based Unsupervised Zero-Shot Learning\", \"RPAN: An End-To-End Recurrent Pose-Attention Network for Action Recognition in Videos\", \"Associative Domain Adaptation\", \"Mask R-CNN\", \"Wavelet-SRNet: A Wavelet-Based CNN for Multi-Scale Face Super Resolution\", \"PoseNet: A Convolutional Network for Real-Time 6-DOF Camera Relocalization\", \"Escape From Cells: Deep Kd-Networks for the Recognition of 3D Point Cloud Models\", \"Introspective Neural Networks for Generative Modeling\", \"Learning Efficient Convolutional Networks Through Network Slimming\", \"No Fuss Distance Metric Learning Using Proxies\", \"GANs for Biological Image Synthesis\", \"Following Gaze in Video\", \"EnhanceNet: Single Image Super-Resolution Through Automated Texture Synthesis\", \"Hide-And-Seek: Forcing a Network to Be Meticulous for Weakly-Supervised Object and Action Localization\", \"Face Flow\", \"MemNet: A Persistent Memory Network for Image Restoration\", \"Unsupervised Learning of Object Landmarks by Factorized Spatial Embeddings\", \"Unsupervised Adaptation for Deep Stereo\", \"Learning Blind Motion Deblurring\", \"Unlabeled Samples Generated by GAN Improve the Person Re-Identification Baseline in Vitro\"], \"textfont\": {\"color\": \"#4D5663\"}, \"type\": \"scatter\", \"x\": [15.385116577148438, -26.1251163482666, 10.701472282409668, 16.28598403930664, 25.594968795776367, -0.04965166002511978, 8.981489181518555, 16.77606201171875, 9.898719787597656, 15.356277465820312, 10.458864212036133, 0.6642863154411316, -27.833892822265625, 2.623443603515625, 14.575297355651855, -14.16293716430664, -0.10880877077579498, 16.669143676757812, 0.7223369479179382, 6.347777366638184, 18.060150146484375, 15.694674491882324, 3.64003324508667, 24.816139221191406, 31.483409881591797, 15.903721809387207, 19.318178176879883], \"y\": [-13.1238374710083, 22.490991592407227, -23.867782592773438, -30.129905700683594, -21.31595802307129, 9.450693130493164, -5.415616512298584, -15.15333366394043, -17.387540817260742, -26.92483139038086, -23.610492706298828, -29.362873077392578, 22.813344955444336, -29.822738647460938, 1.3954719305038452, -31.984251022338867, -30.980735778808594, 3.8307549953460693, -14.174976348876953, -12.502392768859863, 13.153066635131836, -16.448631286621094, -2.506744146347046, -20.753429412841797, -1.221777081489563, -13.658806800842285, 2.984177827835083]}],\n",
       "                        {\"legend\": {\"bgcolor\": \"#F5F6F9\", \"font\": {\"color\": \"#4D5663\"}}, \"paper_bgcolor\": \"#F5F6F9\", \"plot_bgcolor\": \"#F5F6F9\", \"template\": {\"data\": {\"bar\": [{\"error_x\": {\"color\": \"#2a3f5f\"}, \"error_y\": {\"color\": \"#2a3f5f\"}, \"marker\": {\"line\": {\"color\": \"#E5ECF6\", \"width\": 0.5}}, \"type\": \"bar\"}], \"barpolar\": [{\"marker\": {\"line\": {\"color\": \"#E5ECF6\", \"width\": 0.5}}, \"type\": \"barpolar\"}], \"carpet\": [{\"aaxis\": {\"endlinecolor\": \"#2a3f5f\", \"gridcolor\": \"white\", \"linecolor\": \"white\", \"minorgridcolor\": \"white\", \"startlinecolor\": \"#2a3f5f\"}, \"baxis\": {\"endlinecolor\": \"#2a3f5f\", \"gridcolor\": \"white\", \"linecolor\": \"white\", \"minorgridcolor\": \"white\", \"startlinecolor\": \"#2a3f5f\"}, \"type\": \"carpet\"}], \"choropleth\": [{\"colorbar\": {\"outlinewidth\": 0, \"ticks\": \"\"}, \"type\": \"choropleth\"}], \"contour\": [{\"colorbar\": {\"outlinewidth\": 0, \"ticks\": \"\"}, \"colorscale\": [[0.0, \"#0d0887\"], [0.1111111111111111, \"#46039f\"], [0.2222222222222222, \"#7201a8\"], [0.3333333333333333, \"#9c179e\"], [0.4444444444444444, \"#bd3786\"], [0.5555555555555556, \"#d8576b\"], [0.6666666666666666, \"#ed7953\"], [0.7777777777777778, \"#fb9f3a\"], [0.8888888888888888, \"#fdca26\"], [1.0, \"#f0f921\"]], \"type\": \"contour\"}], \"contourcarpet\": [{\"colorbar\": {\"outlinewidth\": 0, \"ticks\": \"\"}, \"type\": \"contourcarpet\"}], \"heatmap\": [{\"colorbar\": {\"outlinewidth\": 0, \"ticks\": \"\"}, \"colorscale\": [[0.0, \"#0d0887\"], [0.1111111111111111, \"#46039f\"], [0.2222222222222222, \"#7201a8\"], [0.3333333333333333, \"#9c179e\"], [0.4444444444444444, \"#bd3786\"], [0.5555555555555556, \"#d8576b\"], [0.6666666666666666, \"#ed7953\"], [0.7777777777777778, \"#fb9f3a\"], [0.8888888888888888, \"#fdca26\"], [1.0, \"#f0f921\"]], \"type\": \"heatmap\"}], \"heatmapgl\": [{\"colorbar\": {\"outlinewidth\": 0, \"ticks\": \"\"}, \"colorscale\": [[0.0, \"#0d0887\"], [0.1111111111111111, \"#46039f\"], [0.2222222222222222, \"#7201a8\"], [0.3333333333333333, \"#9c179e\"], [0.4444444444444444, \"#bd3786\"], [0.5555555555555556, \"#d8576b\"], [0.6666666666666666, \"#ed7953\"], [0.7777777777777778, \"#fb9f3a\"], [0.8888888888888888, \"#fdca26\"], [1.0, \"#f0f921\"]], \"type\": \"heatmapgl\"}], \"histogram\": [{\"marker\": {\"colorbar\": {\"outlinewidth\": 0, \"ticks\": \"\"}}, \"type\": \"histogram\"}], \"histogram2d\": [{\"colorbar\": {\"outlinewidth\": 0, \"ticks\": \"\"}, \"colorscale\": [[0.0, \"#0d0887\"], [0.1111111111111111, \"#46039f\"], [0.2222222222222222, \"#7201a8\"], [0.3333333333333333, \"#9c179e\"], [0.4444444444444444, \"#bd3786\"], [0.5555555555555556, \"#d8576b\"], [0.6666666666666666, \"#ed7953\"], [0.7777777777777778, \"#fb9f3a\"], [0.8888888888888888, \"#fdca26\"], [1.0, \"#f0f921\"]], \"type\": \"histogram2d\"}], \"histogram2dcontour\": [{\"colorbar\": {\"outlinewidth\": 0, \"ticks\": \"\"}, \"colorscale\": [[0.0, \"#0d0887\"], [0.1111111111111111, \"#46039f\"], [0.2222222222222222, \"#7201a8\"], [0.3333333333333333, \"#9c179e\"], [0.4444444444444444, \"#bd3786\"], [0.5555555555555556, \"#d8576b\"], [0.6666666666666666, \"#ed7953\"], [0.7777777777777778, \"#fb9f3a\"], [0.8888888888888888, \"#fdca26\"], [1.0, \"#f0f921\"]], \"type\": \"histogram2dcontour\"}], \"mesh3d\": [{\"colorbar\": {\"outlinewidth\": 0, \"ticks\": \"\"}, \"type\": \"mesh3d\"}], \"parcoords\": [{\"line\": {\"colorbar\": {\"outlinewidth\": 0, \"ticks\": \"\"}}, \"type\": \"parcoords\"}], \"pie\": [{\"automargin\": true, \"type\": \"pie\"}], \"scatter\": [{\"marker\": {\"colorbar\": {\"outlinewidth\": 0, \"ticks\": \"\"}}, \"type\": \"scatter\"}], \"scatter3d\": [{\"line\": {\"colorbar\": {\"outlinewidth\": 0, \"ticks\": \"\"}}, \"marker\": {\"colorbar\": {\"outlinewidth\": 0, \"ticks\": \"\"}}, \"type\": \"scatter3d\"}], \"scattercarpet\": [{\"marker\": {\"colorbar\": {\"outlinewidth\": 0, \"ticks\": \"\"}}, \"type\": \"scattercarpet\"}], \"scattergeo\": [{\"marker\": {\"colorbar\": {\"outlinewidth\": 0, \"ticks\": \"\"}}, \"type\": \"scattergeo\"}], \"scattergl\": [{\"marker\": {\"colorbar\": {\"outlinewidth\": 0, \"ticks\": \"\"}}, \"type\": \"scattergl\"}], \"scattermapbox\": [{\"marker\": {\"colorbar\": {\"outlinewidth\": 0, \"ticks\": \"\"}}, \"type\": \"scattermapbox\"}], \"scatterpolar\": [{\"marker\": {\"colorbar\": {\"outlinewidth\": 0, \"ticks\": \"\"}}, \"type\": \"scatterpolar\"}], \"scatterpolargl\": [{\"marker\": {\"colorbar\": {\"outlinewidth\": 0, \"ticks\": \"\"}}, \"type\": \"scatterpolargl\"}], \"scatterternary\": [{\"marker\": {\"colorbar\": {\"outlinewidth\": 0, \"ticks\": \"\"}}, \"type\": \"scatterternary\"}], \"surface\": [{\"colorbar\": {\"outlinewidth\": 0, \"ticks\": \"\"}, \"colorscale\": [[0.0, \"#0d0887\"], [0.1111111111111111, \"#46039f\"], [0.2222222222222222, \"#7201a8\"], [0.3333333333333333, \"#9c179e\"], [0.4444444444444444, \"#bd3786\"], [0.5555555555555556, \"#d8576b\"], [0.6666666666666666, \"#ed7953\"], [0.7777777777777778, \"#fb9f3a\"], [0.8888888888888888, \"#fdca26\"], [1.0, \"#f0f921\"]], \"type\": \"surface\"}], \"table\": [{\"cells\": {\"fill\": {\"color\": \"#EBF0F8\"}, \"line\": {\"color\": \"white\"}}, \"header\": {\"fill\": {\"color\": \"#C8D4E3\"}, \"line\": {\"color\": \"white\"}}, \"type\": \"table\"}]}, \"layout\": {\"annotationdefaults\": {\"arrowcolor\": \"#2a3f5f\", \"arrowhead\": 0, \"arrowwidth\": 1}, \"coloraxis\": {\"colorbar\": {\"outlinewidth\": 0, \"ticks\": \"\"}}, \"colorscale\": {\"diverging\": [[0, \"#8e0152\"], [0.1, \"#c51b7d\"], [0.2, \"#de77ae\"], [0.3, \"#f1b6da\"], [0.4, \"#fde0ef\"], [0.5, \"#f7f7f7\"], [0.6, \"#e6f5d0\"], [0.7, \"#b8e186\"], [0.8, \"#7fbc41\"], [0.9, \"#4d9221\"], [1, \"#276419\"]], \"sequential\": [[0.0, \"#0d0887\"], [0.1111111111111111, \"#46039f\"], [0.2222222222222222, \"#7201a8\"], [0.3333333333333333, \"#9c179e\"], [0.4444444444444444, \"#bd3786\"], [0.5555555555555556, \"#d8576b\"], [0.6666666666666666, \"#ed7953\"], [0.7777777777777778, \"#fb9f3a\"], [0.8888888888888888, \"#fdca26\"], [1.0, \"#f0f921\"]], \"sequentialminus\": [[0.0, \"#0d0887\"], [0.1111111111111111, \"#46039f\"], [0.2222222222222222, \"#7201a8\"], [0.3333333333333333, \"#9c179e\"], [0.4444444444444444, \"#bd3786\"], [0.5555555555555556, \"#d8576b\"], [0.6666666666666666, \"#ed7953\"], [0.7777777777777778, \"#fb9f3a\"], [0.8888888888888888, \"#fdca26\"], [1.0, \"#f0f921\"]]}, \"colorway\": [\"#636efa\", \"#EF553B\", \"#00cc96\", \"#ab63fa\", \"#FFA15A\", \"#19d3f3\", \"#FF6692\", \"#B6E880\", \"#FF97FF\", \"#FECB52\"], \"font\": {\"color\": \"#2a3f5f\"}, \"geo\": {\"bgcolor\": \"white\", \"lakecolor\": \"white\", \"landcolor\": \"#E5ECF6\", \"showlakes\": true, \"showland\": true, \"subunitcolor\": \"white\"}, \"hoverlabel\": {\"align\": \"left\"}, \"hovermode\": \"closest\", \"mapbox\": {\"style\": \"light\"}, \"paper_bgcolor\": \"white\", \"plot_bgcolor\": \"#E5ECF6\", \"polar\": {\"angularaxis\": {\"gridcolor\": \"white\", \"linecolor\": \"white\", \"ticks\": \"\"}, \"bgcolor\": \"#E5ECF6\", \"radialaxis\": {\"gridcolor\": \"white\", \"linecolor\": \"white\", \"ticks\": \"\"}}, \"scene\": {\"xaxis\": {\"backgroundcolor\": \"#E5ECF6\", \"gridcolor\": \"white\", \"gridwidth\": 2, \"linecolor\": \"white\", \"showbackground\": true, \"ticks\": \"\", \"zerolinecolor\": \"white\"}, \"yaxis\": {\"backgroundcolor\": \"#E5ECF6\", \"gridcolor\": \"white\", \"gridwidth\": 2, \"linecolor\": \"white\", \"showbackground\": true, \"ticks\": \"\", \"zerolinecolor\": \"white\"}, \"zaxis\": {\"backgroundcolor\": \"#E5ECF6\", \"gridcolor\": \"white\", \"gridwidth\": 2, \"linecolor\": \"white\", \"showbackground\": true, \"ticks\": \"\", \"zerolinecolor\": \"white\"}}, \"shapedefaults\": {\"line\": {\"color\": \"#2a3f5f\"}}, \"ternary\": {\"aaxis\": {\"gridcolor\": \"white\", \"linecolor\": \"white\", \"ticks\": \"\"}, \"baxis\": {\"gridcolor\": \"white\", \"linecolor\": \"white\", \"ticks\": \"\"}, \"bgcolor\": \"#E5ECF6\", \"caxis\": {\"gridcolor\": \"white\", \"linecolor\": \"white\", \"ticks\": \"\"}}, \"title\": {\"x\": 0.05}, \"xaxis\": {\"automargin\": true, \"gridcolor\": \"white\", \"linecolor\": \"white\", \"ticks\": \"\", \"title\": {\"standoff\": 15}, \"zerolinecolor\": \"white\", \"zerolinewidth\": 2}, \"yaxis\": {\"automargin\": true, \"gridcolor\": \"white\", \"linecolor\": \"white\", \"ticks\": \"\", \"title\": {\"standoff\": 15}, \"zerolinecolor\": \"white\", \"zerolinewidth\": 2}}}, \"title\": {\"font\": {\"color\": \"#4D5663\"}, \"text\": \"Text2Graph (TSNE)\"}, \"xaxis\": {\"gridcolor\": \"#E1E5ED\", \"showgrid\": true, \"tickfont\": {\"color\": \"#4D5663\"}, \"title\": {\"font\": {\"color\": \"#4D5663\"}, \"text\": \"\"}, \"zerolinecolor\": \"#E1E5ED\"}, \"yaxis\": {\"gridcolor\": \"#E1E5ED\", \"showgrid\": true, \"tickfont\": {\"color\": \"#4D5663\"}, \"title\": {\"font\": {\"color\": \"#4D5663\"}, \"text\": \"\"}, \"zerolinecolor\": \"#E1E5ED\"}},\n",
       "                        {\"showLink\": true, \"linkText\": \"Export to plot.ly\", \"plotlyServerURL\": \"https://plot.ly\", \"responsive\": true}\n",
       "                    ).then(function(){\n",
       "                            \n",
       "var gd = document.getElementById('7eb1147c-8d4d-44f4-852b-19cc3b985268');\n",
       "var x = new MutationObserver(function (mutations, observer) {{\n",
       "        var display = window.getComputedStyle(gd).display;\n",
       "        if (!display || display === 'none') {{\n",
       "            console.log([gd, 'removed!']);\n",
       "            Plotly.purge(gd);\n",
       "            observer.disconnect();\n",
       "        }}\n",
       "}});\n",
       "\n",
       "// Listen for the removal of the full notebook cells\n",
       "var notebookContainer = gd.closest('#notebook-container');\n",
       "if (notebookContainer) {{\n",
       "    x.observe(notebookContainer, {childList: true});\n",
       "}}\n",
       "\n",
       "// Listen for the clearing of the current output cell\n",
       "var outputEl = gd.closest('.output');\n",
       "if (outputEl) {{\n",
       "    x.observe(outputEl, {childList: true});\n",
       "}}\n",
       "\n",
       "                        })\n",
       "                };\n",
       "                });\n",
       "            </script>\n",
       "        </div>"
      ]
     },
     "metadata": {},
     "output_type": "display_data"
    }
   ],
   "source": [
    "### Text2Graph\n",
    "emb,meta=load_emb_data('t2g')\n",
    "visualize(emb,meta,method='TSNE',dim=2, n_iter=500, title='Text2Graph (TSNE)')"
   ]
  },
  {
   "cell_type": "code",
   "execution_count": 8,
   "metadata": {},
   "outputs": [
    {
     "name": "stdout",
     "output_type": "stream",
     "text": [
      "[t-SNE] Computing 16 nearest neighbors...\n",
      "[t-SNE] Indexed 213 samples in 0.001s...\n",
      "[t-SNE] Computed neighbors for 213 samples in 0.004s...\n",
      "[t-SNE] Computed conditional probabilities for sample 213 / 213\n",
      "[t-SNE] Mean sigma: 0.603516\n",
      "[t-SNE] KL divergence after 250 iterations with early exaggeration: 72.060509\n",
      "[t-SNE] KL divergence after 300 iterations: 0.882869\n"
     ]
    },
    {
     "data": {
      "application/vnd.plotly.v1+json": {
       "config": {
        "linkText": "Export to plot.ly",
        "plotlyServerURL": "https://plot.ly",
        "showLink": true
       },
       "data": [
        {
         "marker": {
          "color": "rgba(255, 153, 51, 1.0)",
          "line": {
           "width": 1.3
          },
          "opacity": 0.8,
          "size": 12,
          "symbol": "circle"
         },
         "mode": "markers",
         "name": "NIPS",
         "text": [
          "Neural Voice Cloning with a Few Samples",
          "Neural Voice Cloning with a Few Samples",
          "Neural Voice Cloning with a Few Samples",
          "Neural Architecture Search with Bayesian Optimisation and Optimal Transport",
          "Neural Architecture Search with Bayesian Optimisation and Optimal Transport",
          "Neural Architecture Search with Bayesian Optimisation and Optimal Transport",
          "Glow: Generative Flow with Invertible 1x1 Convolutions",
          "Universal Style Transfer via Feature Transforms",
          "Toward Multimodal Image-to-Image Translation",
          "Dual Discriminator Generative Adversarial Nets",
          "Hierarchical Attentive Recurrent Tracking",
          "On-the-fly Operation Batching in Dynamic Computation Graphs",
          "Dual Path Networks",
          "DropoutNet: Addressing Cold Start in Recommender Systems",
          "Attention is All you Need",
          "Attention is All you Need",
          "Value Prediction Network",
          "Modulating early visual processing by language",
          "Modulating early visual processing by language",
          "Real Time Image Saliency for Black Box Classifiers"
         ],
         "textfont": {
          "color": "#4D5663"
         },
         "type": "scatter",
         "x": [
          -20.175561904907227,
          -18.567564010620117,
          -21.205141067504883,
          -7.783560752868652,
          -6.90899658203125,
          -7.6961259841918945,
          -7.695133686065674,
          -3.8912413120269775,
          0.03345946595072746,
          -5.804984092712402,
          -1.9905697107315063,
          23.752748489379883,
          -1.2717971801757812,
          -0.7001081705093384,
          6.63504695892334,
          15.22249698638916,
          -3.8730759620666504,
          22.607877731323242,
          22.65237045288086,
          -14.805541038513184
         ],
         "y": [
          12.300756454467773,
          8.299843788146973,
          10.93509292602539,
          8.680436134338379,
          8.63435173034668,
          8.396515846252441,
          -9.561482429504395,
          20.97049903869629,
          -18.151559829711914,
          -14.236695289611816,
          -8.3276948928833,
          1.2852768898010254,
          -24.587324142456055,
          -7.4773783683776855,
          -18.371353149414062,
          20.06836700439453,
          6.4931721687316895,
          14.630948066711426,
          14.434582710266113,
          -13.230509757995605
         ]
        },
        {
         "marker": {
          "color": "rgba(55, 128, 191, 1.0)",
          "line": {
           "width": 1.3
          },
          "opacity": 0.8,
          "size": 12,
          "symbol": "circle"
         },
         "mode": "markers",
         "name": "CVPR",
         "text": [
          "Light Field Intrinsics With a Deep Encoder-Decoder Network",
          "Neural Module Networks",
          "Hierarchical Boundary-Aware Neural Encoder for Video Captioning",
          "In-Place Activated BatchNorm for Memory-Optimized Training of DNNs",
          "AON: Towards Arbitrarily-Oriented Text Recognition",
          "AON: Towards Arbitrarily-Oriented Text Recognition",
          "CartoonGAN: Generative Adversarial Networks for Photo Cartoonization",
          "Deep Photo Enhancer: Unpaired Learning for Image Enhancement From Photographs With GANs",
          "LiDAR-Video Driving Dataset: Learning Driving Policies Effectively",
          "Multi-View 3D Object Detection Network for Autonomous Driving",
          "Zero-Shot Visual Recognition Using Semantics-Preserving Adversarial Embedding Networks",
          "Xception: Deep Learning With Depthwise Separable Convolutions",
          "Xception: Deep Learning With Depthwise Separable Convolutions",
          "Xception: Deep Learning With Depthwise Separable Convolutions",
          "Xception: Deep Learning With Depthwise Separable Convolutions",
          "Xception: Deep Learning With Depthwise Separable Convolutions",
          "Lip Reading Sentences in the Wild",
          "Lip Reading Sentences in the Wild",
          "Style Aggregated Network for Facial Landmark Detection",
          "Style Aggregated Network for Facial Landmark Detection",
          "Supervision-by-Registration: An Unsupervised Approach to Improve the Precision of Facial Landmark Detectors",
          "Who Let the Dogs Out? Modeling Dog Behavior From Visual Data",
          "Who Let the Dogs Out? Modeling Dog Behavior From Visual Data",
          "Who Let the Dogs Out? Modeling Dog Behavior From Visual Data",
          "AMNet: Memorability Estimation With Attention",
          "A Point Set Generation Network for 3D Object Reconstruction From a Single Image",
          "StyleNet: Generating Attractive Visual Captions With Styles",
          "Dynamic Few-Shot Visual Learning Without Forgetting",
          "Social GAN: Socially Acceptable Trajectories With Generative Adversarial Networks",
          "DeLiGAN : Generative Adversarial Networks for Diverse and Limited Data",
          "Deep Pyramidal Residual Networks",
          "Deep Pyramidal Residual Networks",
          "Deep Pyramidal Residual Networks",
          "Can Spatiotemporal 3D CNNs Retrace the History of 2D CNNs and ImageNet?",
          "Deep Back-Projection Networks for Super-Resolution",
          "Deep Back-Projection Networks for Super-Resolution",
          "Deep Back-Projection Networks for Super-Resolution",
          "Deep Residual Learning for Image Recognition",
          "Deep Residual Learning for Image Recognition",
          "Deep Residual Learning for Image Recognition",
          "CondenseNet: An Efficient DenseNet Using Learned Group Convolutions",
          "Densely Connected Convolutional Networks",
          "Real-Time Neural Style Transfer for Videos",
          "Fast and Accurate Single Image Super-Resolution via Information Distillation Network",
          "Squeeze-and-Excitation Networks",
          "Squeeze-and-Excitation Networks",
          "Perturbative Neural Networks",
          "RON: Reverse Connection With Objectness Prior Networks for Object Detection",
          "Surface Networks",
          "Photo-Realistic Single Image Super-Resolution Using a Generative Adversarial Network",
          "A Memory Network Approach for Story-Based Temporal Summarization of 360° Videos",
          "CleanNet: Transfer Learning for Scalable Image Classifier Training With Label Noise",
          "Future Frame Prediction for Anomaly Detection  A New Baseline",
          "SphereFace: Deep Hypersphere Embedding for Face Recognition",
          "Structure Inference Net: Object Detection Using Scene-Level Context and Instance-Level Relationships",
          "SO-Net: Self-Organizing Network for Point Cloud Analysis",
          "Efficient Deep Learning for Stereo Matching",
          "Neural Baby Talk",
          "Unsupervised Video Summarization With Adversarial LSTM Networks",
          "Unsupervised Video Summarization With Adversarial LSTM Networks",
          "Transparency by Design: Closing the Gap Between Performance and Interpretability in Visual Reasoning",
          "Conditional Probability Models for Deep Image Compression",
          "Conditional Probability Models for Deep Image Compression",
          "3D Bounding Box Estimation Using Deep Learning and Geometry",
          "Human Pose Estimation With Parsing Induced Learner",
          "Human Pose Estimation With Parsing Induced Learner",
          "Fast Video Object Segmentation by Reference-Guided Mask Propagation",
          "PieAPP: Perceptual Image-Error Assessment Through Pairwise Preference",
          "PieAPP: Perceptual Image-Error Assessment Through Pairwise Preference",
          "Attentive Generative Adversarial Network for Raindrop Removal From a Single Image",
          "Attentive Generative Adversarial Network for Raindrop Removal From a Single Image",
          "Low-Shot Learning With Imprinted Weights",
          "PointNet: Deep Learning on Point Sets for 3D Classification and Segmentation",
          "Avatar-Net: Multi-Scale Zero-Shot Style Transfer by Feature Decoration",
          "Learning to Compare: Relation Network for Few-Shot Learning",
          "Rethinking the Inception Architecture for Computer Vision",
          "Rethinking the Inception Architecture for Computer Vision",
          "Rethinking the Inception Architecture for Computer Vision",
          "Rethinking the Inception Architecture for Computer Vision",
          "Rethinking the Inception Architecture for Computer Vision",
          "Rethinking the Inception Architecture for Computer Vision",
          "Rethinking the Inception Architecture for Computer Vision",
          "Image Super-Resolution via Deep Recursive Residual Network",
          "Image Super-Resolution via Deep Recursive Residual Network",
          "Image Super-Resolution via Deep Recursive Residual Network",
          "Image Super-Resolution via Deep Recursive Residual Network",
          "Scale-Recurrent Network for Deep Image Deblurring",
          "Tangent Convolutions for Dense Prediction in 3D",
          "Two-Stream Convolutional Networks for Dynamic Texture Synthesis",
          "Full Resolution Image Compression With Recurrent Neural Networks",
          "Full Resolution Image Compression With Recurrent Neural Networks",
          "A Closer Look at Spatiotemporal Convolutions for Action Recognition",
          "Learning Superpixels With Segmentation-Aware Affinity Loss",
          "Adversarial Discriminative Domain Adaptation",
          "PointNetVLAD: Deep Point Cloud Based Retrieval for Large-Scale Place Recognition",
          "Learning a Discriminative Filter Bank Within a CNN for Fine-Grained Recognition",
          "Learning a Discriminative Filter Bank Within a CNN for Fine-Grained Recognition",
          "Learning a Discriminative Filter Bank Within a CNN for Fine-Grained Recognition",
          "Recovering Realistic Texture in Image Super-Resolution by Deep Spatial Feature Transform",
          "Bidirectional Retrieval Made Simple",
          "Aggregated Residual Transformations for Deep Neural Networks",
          "Aggregated Residual Transformations for Deep Neural Networks",
          "Aggregated Residual Transformations for Deep Neural Networks",
          "Deep Texture Manifold for Ground Terrain Recognition",
          "Deep Texture Manifold for Ground Terrain Recognition",
          "Scene Graph Generation by Iterative Message Passing",
          "DenseASPP for Semantic Segmentation in Street Scenes",
          "Dilated Residual Networks",
          "MAttNet: Modular Attention Network for Referring Expression Comprehension",
          "Deep Mutual Learning",
          "Density-Aware Single Image De-Raining Using a Multi-Stream Dense Network",
          "Density-Aware Single Image De-Raining Using a Multi-Stream Dense Network",
          "EAST: An Efficient and Accurate Scene Text Detector",
          "EAST: An Efficient and Accurate Scene Text Detector"
         ],
         "textfont": {
          "color": "#4D5663"
         },
         "type": "scatter",
         "x": [
          22.131450653076172,
          24.16000747680664,
          23.985746383666992,
          23.247617721557617,
          2.17535662651062,
          2.189209461212158,
          10.292267799377441,
          -4.237742900848389,
          -4.852413654327393,
          2.299856424331665,
          15.362506866455078,
          -30.843576431274414,
          -32.00525665283203,
          -31.74946403503418,
          -31.166236877441406,
          -24.49106788635254,
          -1.897026538848877,
          -9.096171379089355,
          -2.0046801567077637,
          -8.028915405273438,
          18.813026428222656,
          8.680668830871582,
          9.22398567199707,
          -3.009730815887451,
          11.495415687561035,
          -3.5755763053894043,
          10.220895767211914,
          2.130784511566162,
          17.37142562866211,
          -1.0551813840866089,
          -6.092202663421631,
          -6.439483642578125,
          -1.9249401092529297,
          -1.3885900974273682,
          -19.457780838012695,
          -19.41881561279297,
          -18.92670249938965,
          17.031740188598633,
          0.6254864931106567,
          16.693010330200195,
          -13.139006614685059,
          12.888811111450195,
          -8.111885070800781,
          1.4562571048736572,
          7.8653788566589355,
          7.801903247833252,
          6.701316833496094,
          -24.064207077026367,
          8.999479293823242,
          -20.3931941986084,
          -18.49939727783203,
          -16.791213989257812,
          -3.8572800159454346,
          -18.00185775756836,
          18.681116104125977,
          -11.89059066772461,
          11.39583683013916,
          9.166892051696777,
          21.855789184570312,
          23.266252517700195,
          -8.771827697753906,
          21.653608322143555,
          23.968027114868164,
          -13.52444839477539,
          3.034897804260254,
          -5.964892864227295,
          -1.4883971214294434,
          -0.4131582975387573,
          -0.9548119306564331,
          -8.672527313232422,
          -13.260210990905762,
          -24.4910888671875,
          7.6785101890563965,
          -0.6985595226287842,
          21.87226104736328,
          -25.12590217590332,
          -25.38681411743164,
          -25.854419708251953,
          -24.809669494628906,
          -26.15699577331543,
          -24.29848289489746,
          -25.15215492248535,
          -13.878387451171875,
          -15.1133394241333,
          -14.992009162902832,
          -14.876374244689941,
          -1.243798017501831,
          0.3118442893028259,
          -17.56606674194336,
          -19.296175003051758,
          -17.40793800354004,
          -2.650864362716675,
          16.134910583496094,
          8.519750595092773,
          8.509187698364258,
          -3.415278434753418,
          -1.1191842555999756,
          -4.635985374450684,
          -14.980311393737793,
          -13.055289268493652,
          -20.594165802001953,
          -20.379558563232422,
          -23.16974639892578,
          -1.0227513313293457,
          -1.4486302137374878,
          7.653670787811279,
          18.525930404663086,
          -1.5543338060379028,
          23.193828582763672,
          -19.10452651977539,
          12.591787338256836,
          10.797687530517578,
          8.575424194335938,
          17.607017517089844
         ],
         "y": [
          -3.271641254425049,
          1.5692521333694458,
          7.796581268310547,
          9.085820198059082,
          10.819340705871582,
          10.730270385742188,
          16.611722946166992,
          2.7726807594299316,
          -4.75147008895874,
          -5.740231513977051,
          -6.391168117523193,
          2.274825096130371,
          3.1746742725372314,
          2.9321200847625732,
          2.5189907550811768,
          -15.937233924865723,
          19.816627502441406,
          10.325572967529297,
          18.517526626586914,
          18.486217498779297,
          16.46602439880371,
          -21.87995147705078,
          -21.252532958984375,
          -22.283775329589844,
          -3.3284897804260254,
          2.164860725402832,
          16.022214889526367,
          0.4999132752418518,
          14.019729614257812,
          17.517091751098633,
          18.07822608947754,
          19.459362030029297,
          22.41094207763672,
          22.814611434936523,
          9.07796573638916,
          8.864636421203613,
          7.652999401092529,
          4.709743499755859,
          23.07862091064453,
          4.7881178855896,
          4.007481098175049,
          -1.4897689819335938,
          -10.968584060668945,
          -9.654960632324219,
          -13.461626052856445,
          -13.087995529174805,
          16.050411224365234,
          8.744108200073242,
          4.344682216644287,
          17.23316764831543,
          -12.490017890930176,
          -12.636125564575195,
          -5.551205635070801,
          -12.689485549926758,
          -7.270712375640869,
          -7.3398237228393555,
          -14.141369819641113,
          -14.461931228637695,
          4.281265735626221,
          -0.3495996594429016,
          10.084551811218262,
          11.561444282531738,
          10.44239330291748,
          -9.882506370544434,
          -12.552517890930176,
          -13.522631645202637,
          17.148298263549805,
          -13.375617027282715,
          -13.491971015930176,
          -10.44228458404541,
          -7.807272434234619,
          1.9066909551620483,
          5.903543949127197,
          23.246713638305664,
          3.7092888355255127,
          3.071211338043213,
          4.996579647064209,
          4.416006088256836,
          5.119454860687256,
          3.222304344177246,
          8.4489164352417,
          6.592600345611572,
          -8.275762557983398,
          -13.211369514465332,
          -8.780574798583984,
          -8.915487289428711,
          16.17784309387207,
          -21.593481063842773,
          -10.086417198181152,
          -2.2570528984069824,
          -10.12881851196289,
          20.76203727722168,
          14.01705551147461,
          -14.353128433227539,
          13.71753978729248,
          -13.4881591796875,
          -15.519903182983398,
          -14.130108833312988,
          0.5868499279022217,
          3.6511969566345215,
          1.206055998802185,
          1.3413878679275513,
          0.3148217499256134,
          -10.600672721862793,
          -11.454980850219727,
          -22.38384246826172,
          15.489209175109863,
          19.593772888183594,
          -1.411011815071106,
          0.11060115694999695,
          -2.296581745147705,
          -15.49445629119873,
          15.779061317443848,
          13.947772979736328
         ]
        },
        {
         "marker": {
          "color": "rgba(50, 171, 96, 1.0)",
          "line": {
           "width": 1.3
          },
          "opacity": 0.8,
          "size": 12,
          "symbol": "circle"
         },
         "mode": "markers",
         "name": "ICML",
         "text": [
          "Input Convex Neural Networks",
          "Input Convex Neural Networks",
          "Predict and Constrain: Modeling Cardinality in Deep Structured Prediction",
          "Path-Level Network Transformation for Efficient Architecture Search",
          "Path-Level Network Transformation for Efficient Architecture Search",
          "Dance Dance Convolution",
          "Dance Dance Convolution",
          "Video Pixel Networks",
          "Device Placement Optimization with Reinforcement Learning",
          "Device Placement Optimization with Reinforcement Learning",
          "Efficient Neural Architecture Search via Parameters Sharing",
          "Efficient Neural Architecture Search via Parameters Sharing",
          "Efficient Neural Architecture Search via Parameters Sharing",
          "Efficient Neural Architecture Search via Parameters Sharing",
          "Efficient Neural Architecture Search via Parameters Sharing",
          "Efficient Neural Architecture Search via Parameters Sharing",
          "Attentive Recurrent Comparators",
          "Exploiting the Potential of Standard Convolutional Autoencoders for Image Restoration by Evolutionary Search",
          "Exploiting the Potential of Standard Convolutional Autoencoders for Image Restoration by Evolutionary Search",
          "Style Tokens: Unsupervised Style Modeling, Control and Transfer in End-to-End Speech Synthesis"
         ],
         "textfont": {
          "color": "#4D5663"
         },
         "type": "scatter",
         "x": [
          21.18602180480957,
          23.06233787536621,
          23.230140686035156,
          2.729588747024536,
          2.6267099380493164,
          -2.9856157302856445,
          -2.785128355026245,
          9.747262001037598,
          3.2602760791778564,
          3.3874337673187256,
          -18.271120071411133,
          -21.04475212097168,
          -15.320021629333496,
          -20.11817741394043,
          -21.442705154418945,
          -21.254213333129883,
          19.856550216674805,
          -3.5169522762298584,
          -2.7673330307006836,
          -6.452203750610352
         ],
         "y": [
          4.07543420791626,
          -0.6197527050971985,
          5.288789749145508,
          -9.023369789123535,
          -6.280464172363281,
          1.122054934501648,
          0.8728706240653992,
          -14.364246368408203,
          -0.10696634650230408,
          -0.17059528827667236,
          -0.6863604187965393,
          -3.1274333000183105,
          0.3193286955356598,
          -12.303316116333008,
          -2.9028589725494385,
          -3.6739537715911865,
          14.745031356811523,
          -5.955971717834473,
          -7.723635673522949,
          16.548110961914062
         ]
        },
        {
         "marker": {
          "color": "rgba(128, 0, 128, 1.0)",
          "line": {
           "width": 1.3
          },
          "opacity": 0.8,
          "size": 12,
          "symbol": "circle"
         },
         "mode": "markers",
         "name": "ECCV",
         "text": [
          "Disentangling Factors of Variation with Cycle-Consistent Variational Auto-Encoders",
          "Disentangling Factors of Variation with Cycle-Consistent Variational Auto-Encoders",
          "Conditional Image-Text Embedding Networks",
          "Progressive Neural Architecture Search",
          "Geolocation Estimation of Photos using a Hierarchical Model and Scene Classification",
          "Dynamic Conditional Networks for Few-Shot Learning",
          "Dynamic Conditional Networks for Few-Shot Learning",
          "Dynamic Conditional Networks for Few-Shot Learning",
          "Dynamic Conditional Networks for Few-Shot Learning",
          "Recovering 3D Planes from a Single Image via Convolutional Neural Networks",
          "Learning Single-View 3D Reconstruction with Limited Pose Supervision",
          "PSANet: Point-wise Spatial Attention Network for Scene Parsing",
          "Multi-scale Residual Network for Image Super-Resolution",
          "Multi-scale Residual Network for Image Super-Resolution",
          "Bidirectional Feature Pyramid Network with Recurrent Attention Residual Modules for Shadow Detection",
          "EC-Net: an Edge-aware Point set Consolidation Network",
          "Learning Visual Question Answering by Bootstrapping Hard Attention",
          "ECO: Efficient Convolutional Network for Online Video Understanding",
          "Diverse and Coherent Paragraph Generation from Images",
          "Diverse and Coherent Paragraph Generation from Images",
          "Diverse and Coherent Paragraph Generation from Images",
          "Diverse and Coherent Paragraph Generation from Images",
          "Pixel2Mesh: Generating 3D Mesh Models from Single RGB Images",
          "Towards Realistic Predictors",
          "License Plate Detection and Recognition in Unconstrained Scenarios",
          "A Modulation Module for Multi-task Learning with Applications in Image Retrieval",
          "Mutual Learning to Adapt for Joint Human Parsing and Pose Estimation",
          "Mutual Learning to Adapt for Joint Human Parsing and Pose Estimation",
          "Multimodal Unsupervised Image-to-image Translation",
          "Audio-Visual Event Localization in Unconstrained Videos",
          "Audio-Visual Event Localization in Unconstrained Videos",
          "DF-Net: Unsupervised Joint Learning of Depth and Flow using Cross-Task Consistency",
          "Learning Rigidity in Dynamic Scenes with a Moving Camera for 3D Motion Field Estimation",
          "Generalizing A Person Retrieval Model Hetero- and Homogeneously"
         ],
         "textfont": {
          "color": "#4D5663"
         },
         "type": "scatter",
         "x": [
          -6.405484199523926,
          -6.128750324249268,
          0.12256844341754913,
          19.287439346313477,
          15.509499549865723,
          -1.095923662185669,
          -0.8869202733039856,
          -17.028554916381836,
          -2.9109041690826416,
          -5.902587413787842,
          -7.1626152992248535,
          -8.410353660583496,
          23.833694458007812,
          23.964447021484375,
          19.354984283447266,
          7.751053333282471,
          13.136404037475586,
          22.544960021972656,
          14.409622192382812,
          13.844359397888184,
          6.3305888175964355,
          5.840606212615967,
          12.204129219055176,
          7.335792541503906,
          -13.033323287963867,
          12.018933296203613,
          17.248241424560547,
          16.115371704101562,
          15.922663688659668,
          -18.13438606262207,
          -23.69538688659668,
          14.905155181884766,
          -13.096355438232422,
          -13.236174583435059
         ],
         "y": [
          -19.443859100341797,
          -19.3018741607666,
          -17.66963005065918,
          4.2210001945495605,
          13.961593627929688,
          -22.087474822998047,
          -22.052160263061523,
          -2.9525792598724365,
          -24.724409103393555,
          18.092784881591797,
          15.23035717010498,
          -10.206413269042969,
          7.096102237701416,
          8.873480796813965,
          14.752169609069824,
          5.859228134155273,
          -13.571504592895508,
          -1.9116462469100952,
          -7.589739799499512,
          -7.1692376136779785,
          -1.7364600896835327,
          -2.058800220489502,
          -13.580459594726562,
          -14.484235763549805,
          -5.821490287780762,
          -2.890763998031616,
          -9.648133277893066,
          -5.350420951843262,
          -5.794880390167236,
          -0.7356632947921753,
          3.9895687103271484,
          -8.049171447753906,
          -5.8292083740234375,
          4.643182277679443
         ]
        },
        {
         "marker": {
          "color": "rgba(219, 64, 82, 1.0)",
          "line": {
           "width": 1.3
          },
          "opacity": 0.8,
          "size": 12,
          "symbol": "circle"
         },
         "mode": "markers",
         "name": "ICCV",
         "text": [
          "Deep TextSpotter: An End-To-End Trainable Scene Text Localization and Recognition Framework",
          "SubUNets: End-To-End Hand Shape and Continuous Sign Language Recognition",
          "SubUNets: End-To-End Hand Shape and Continuous Sign Language Recognition",
          "SubUNets: End-To-End Hand Shape and Continuous Sign Language Recognition",
          "SubUNets: End-To-End Hand Shape and Continuous Sign Language Recognition",
          "SubUNets: End-To-End Hand Shape and Continuous Sign Language Recognition",
          "Query-Guided Regression Network With Context Policy for Phrase Grounding",
          "Show, Adapt and Tell: Adversarial Training of Cross-Domain Image Captioner",
          "Long Short-Term Memory Kalman Filters: Recurrent Neural Estimators for Pose Regularization",
          "Arbitrary Style Transfer in Real-Time With Adaptive Instance Normalization",
          "Wavelet-SRNet: A Wavelet-Based CNN for Multi-Scale Face Super Resolution",
          "Learning to Reason: End-To-End Module Networks for Visual Question Answering",
          "DSLR-Quality Photos on Mobile Devices With Deep Convolutional Networks",
          "Learning Efficient Convolutional Networks Through Network Slimming",
          "Attentive Semantic Video Generation Using Captions",
          "GANs for Biological Image Synthesis",
          "MemNet: A Persistent Memory Network for Image Restoration",
          "MemNet: A Persistent Memory Network for Image Restoration",
          "Simultaneous Deep Transfer Across Domains and Tasks",
          "Sequence to Sequence - Video to Text",
          "Revisiting IM2GPS in the Deep Learning Era",
          "Genetic CNN",
          "Genetic CNN",
          "Curriculum Domain Adaptation for Semantic Segmentation of Urban Scenes",
          "Unlabeled Samples Generated by GAN Improve the Person Re-Identification Baseline in Vitro"
         ],
         "textfont": {
          "color": "#4D5663"
         },
         "type": "scatter",
         "x": [
          8.076133728027344,
          10.584817886352539,
          11.603999137878418,
          11.493290901184082,
          11.96386432647705,
          7.829286575317383,
          9.155016899108887,
          3.2047598361968994,
          -4.7211689949035645,
          18.067495346069336,
          18.150955200195312,
          21.29690170288086,
          -1.627797245979309,
          17.640092849731445,
          9.779683113098145,
          -2.269404649734497,
          -2.1265311241149902,
          -1.9376888275146484,
          9.598640441894531,
          9.353775024414062,
          4.448802471160889,
          -12.848998069763184,
          -15.930279731750488,
          9.354803085327148,
          -1.830430030822754
         ],
         "y": [
          -22.490009307861328,
          6.6882734298706055,
          6.106749534606934,
          5.495449542999268,
          5.849341869354248,
          15.637054443359375,
          18.3614559173584,
          -9.180086135864258,
          -4.906091690063477,
          -7.740219593048096,
          -9.670675277709961,
          14.86972427368164,
          23.778776168823242,
          -9.175592422485352,
          18.31502914428711,
          14.902925491333008,
          -24.009902954101562,
          -23.07515525817871,
          18.94513511657715,
          15.369504928588867,
          -0.44735461473464966,
          10.115250587463379,
          -17.013721466064453,
          4.212087631225586,
          -12.628952980041504
         ]
        }
       ],
       "layout": {
        "legend": {
         "bgcolor": "#F5F6F9",
         "font": {
          "color": "#4D5663"
         }
        },
        "paper_bgcolor": "#F5F6F9",
        "plot_bgcolor": "#F5F6F9",
        "template": {
         "data": {
          "bar": [
           {
            "error_x": {
             "color": "#2a3f5f"
            },
            "error_y": {
             "color": "#2a3f5f"
            },
            "marker": {
             "line": {
              "color": "#E5ECF6",
              "width": 0.5
             }
            },
            "type": "bar"
           }
          ],
          "barpolar": [
           {
            "marker": {
             "line": {
              "color": "#E5ECF6",
              "width": 0.5
             }
            },
            "type": "barpolar"
           }
          ],
          "carpet": [
           {
            "aaxis": {
             "endlinecolor": "#2a3f5f",
             "gridcolor": "white",
             "linecolor": "white",
             "minorgridcolor": "white",
             "startlinecolor": "#2a3f5f"
            },
            "baxis": {
             "endlinecolor": "#2a3f5f",
             "gridcolor": "white",
             "linecolor": "white",
             "minorgridcolor": "white",
             "startlinecolor": "#2a3f5f"
            },
            "type": "carpet"
           }
          ],
          "choropleth": [
           {
            "colorbar": {
             "outlinewidth": 0,
             "ticks": ""
            },
            "type": "choropleth"
           }
          ],
          "contour": [
           {
            "colorbar": {
             "outlinewidth": 0,
             "ticks": ""
            },
            "colorscale": [
             [
              0,
              "#0d0887"
             ],
             [
              0.1111111111111111,
              "#46039f"
             ],
             [
              0.2222222222222222,
              "#7201a8"
             ],
             [
              0.3333333333333333,
              "#9c179e"
             ],
             [
              0.4444444444444444,
              "#bd3786"
             ],
             [
              0.5555555555555556,
              "#d8576b"
             ],
             [
              0.6666666666666666,
              "#ed7953"
             ],
             [
              0.7777777777777778,
              "#fb9f3a"
             ],
             [
              0.8888888888888888,
              "#fdca26"
             ],
             [
              1,
              "#f0f921"
             ]
            ],
            "type": "contour"
           }
          ],
          "contourcarpet": [
           {
            "colorbar": {
             "outlinewidth": 0,
             "ticks": ""
            },
            "type": "contourcarpet"
           }
          ],
          "heatmap": [
           {
            "colorbar": {
             "outlinewidth": 0,
             "ticks": ""
            },
            "colorscale": [
             [
              0,
              "#0d0887"
             ],
             [
              0.1111111111111111,
              "#46039f"
             ],
             [
              0.2222222222222222,
              "#7201a8"
             ],
             [
              0.3333333333333333,
              "#9c179e"
             ],
             [
              0.4444444444444444,
              "#bd3786"
             ],
             [
              0.5555555555555556,
              "#d8576b"
             ],
             [
              0.6666666666666666,
              "#ed7953"
             ],
             [
              0.7777777777777778,
              "#fb9f3a"
             ],
             [
              0.8888888888888888,
              "#fdca26"
             ],
             [
              1,
              "#f0f921"
             ]
            ],
            "type": "heatmap"
           }
          ],
          "heatmapgl": [
           {
            "colorbar": {
             "outlinewidth": 0,
             "ticks": ""
            },
            "colorscale": [
             [
              0,
              "#0d0887"
             ],
             [
              0.1111111111111111,
              "#46039f"
             ],
             [
              0.2222222222222222,
              "#7201a8"
             ],
             [
              0.3333333333333333,
              "#9c179e"
             ],
             [
              0.4444444444444444,
              "#bd3786"
             ],
             [
              0.5555555555555556,
              "#d8576b"
             ],
             [
              0.6666666666666666,
              "#ed7953"
             ],
             [
              0.7777777777777778,
              "#fb9f3a"
             ],
             [
              0.8888888888888888,
              "#fdca26"
             ],
             [
              1,
              "#f0f921"
             ]
            ],
            "type": "heatmapgl"
           }
          ],
          "histogram": [
           {
            "marker": {
             "colorbar": {
              "outlinewidth": 0,
              "ticks": ""
             }
            },
            "type": "histogram"
           }
          ],
          "histogram2d": [
           {
            "colorbar": {
             "outlinewidth": 0,
             "ticks": ""
            },
            "colorscale": [
             [
              0,
              "#0d0887"
             ],
             [
              0.1111111111111111,
              "#46039f"
             ],
             [
              0.2222222222222222,
              "#7201a8"
             ],
             [
              0.3333333333333333,
              "#9c179e"
             ],
             [
              0.4444444444444444,
              "#bd3786"
             ],
             [
              0.5555555555555556,
              "#d8576b"
             ],
             [
              0.6666666666666666,
              "#ed7953"
             ],
             [
              0.7777777777777778,
              "#fb9f3a"
             ],
             [
              0.8888888888888888,
              "#fdca26"
             ],
             [
              1,
              "#f0f921"
             ]
            ],
            "type": "histogram2d"
           }
          ],
          "histogram2dcontour": [
           {
            "colorbar": {
             "outlinewidth": 0,
             "ticks": ""
            },
            "colorscale": [
             [
              0,
              "#0d0887"
             ],
             [
              0.1111111111111111,
              "#46039f"
             ],
             [
              0.2222222222222222,
              "#7201a8"
             ],
             [
              0.3333333333333333,
              "#9c179e"
             ],
             [
              0.4444444444444444,
              "#bd3786"
             ],
             [
              0.5555555555555556,
              "#d8576b"
             ],
             [
              0.6666666666666666,
              "#ed7953"
             ],
             [
              0.7777777777777778,
              "#fb9f3a"
             ],
             [
              0.8888888888888888,
              "#fdca26"
             ],
             [
              1,
              "#f0f921"
             ]
            ],
            "type": "histogram2dcontour"
           }
          ],
          "mesh3d": [
           {
            "colorbar": {
             "outlinewidth": 0,
             "ticks": ""
            },
            "type": "mesh3d"
           }
          ],
          "parcoords": [
           {
            "line": {
             "colorbar": {
              "outlinewidth": 0,
              "ticks": ""
             }
            },
            "type": "parcoords"
           }
          ],
          "pie": [
           {
            "automargin": true,
            "type": "pie"
           }
          ],
          "scatter": [
           {
            "marker": {
             "colorbar": {
              "outlinewidth": 0,
              "ticks": ""
             }
            },
            "type": "scatter"
           }
          ],
          "scatter3d": [
           {
            "line": {
             "colorbar": {
              "outlinewidth": 0,
              "ticks": ""
             }
            },
            "marker": {
             "colorbar": {
              "outlinewidth": 0,
              "ticks": ""
             }
            },
            "type": "scatter3d"
           }
          ],
          "scattercarpet": [
           {
            "marker": {
             "colorbar": {
              "outlinewidth": 0,
              "ticks": ""
             }
            },
            "type": "scattercarpet"
           }
          ],
          "scattergeo": [
           {
            "marker": {
             "colorbar": {
              "outlinewidth": 0,
              "ticks": ""
             }
            },
            "type": "scattergeo"
           }
          ],
          "scattergl": [
           {
            "marker": {
             "colorbar": {
              "outlinewidth": 0,
              "ticks": ""
             }
            },
            "type": "scattergl"
           }
          ],
          "scattermapbox": [
           {
            "marker": {
             "colorbar": {
              "outlinewidth": 0,
              "ticks": ""
             }
            },
            "type": "scattermapbox"
           }
          ],
          "scatterpolar": [
           {
            "marker": {
             "colorbar": {
              "outlinewidth": 0,
              "ticks": ""
             }
            },
            "type": "scatterpolar"
           }
          ],
          "scatterpolargl": [
           {
            "marker": {
             "colorbar": {
              "outlinewidth": 0,
              "ticks": ""
             }
            },
            "type": "scatterpolargl"
           }
          ],
          "scatterternary": [
           {
            "marker": {
             "colorbar": {
              "outlinewidth": 0,
              "ticks": ""
             }
            },
            "type": "scatterternary"
           }
          ],
          "surface": [
           {
            "colorbar": {
             "outlinewidth": 0,
             "ticks": ""
            },
            "colorscale": [
             [
              0,
              "#0d0887"
             ],
             [
              0.1111111111111111,
              "#46039f"
             ],
             [
              0.2222222222222222,
              "#7201a8"
             ],
             [
              0.3333333333333333,
              "#9c179e"
             ],
             [
              0.4444444444444444,
              "#bd3786"
             ],
             [
              0.5555555555555556,
              "#d8576b"
             ],
             [
              0.6666666666666666,
              "#ed7953"
             ],
             [
              0.7777777777777778,
              "#fb9f3a"
             ],
             [
              0.8888888888888888,
              "#fdca26"
             ],
             [
              1,
              "#f0f921"
             ]
            ],
            "type": "surface"
           }
          ],
          "table": [
           {
            "cells": {
             "fill": {
              "color": "#EBF0F8"
             },
             "line": {
              "color": "white"
             }
            },
            "header": {
             "fill": {
              "color": "#C8D4E3"
             },
             "line": {
              "color": "white"
             }
            },
            "type": "table"
           }
          ]
         },
         "layout": {
          "annotationdefaults": {
           "arrowcolor": "#2a3f5f",
           "arrowhead": 0,
           "arrowwidth": 1
          },
          "coloraxis": {
           "colorbar": {
            "outlinewidth": 0,
            "ticks": ""
           }
          },
          "colorscale": {
           "diverging": [
            [
             0,
             "#8e0152"
            ],
            [
             0.1,
             "#c51b7d"
            ],
            [
             0.2,
             "#de77ae"
            ],
            [
             0.3,
             "#f1b6da"
            ],
            [
             0.4,
             "#fde0ef"
            ],
            [
             0.5,
             "#f7f7f7"
            ],
            [
             0.6,
             "#e6f5d0"
            ],
            [
             0.7,
             "#b8e186"
            ],
            [
             0.8,
             "#7fbc41"
            ],
            [
             0.9,
             "#4d9221"
            ],
            [
             1,
             "#276419"
            ]
           ],
           "sequential": [
            [
             0,
             "#0d0887"
            ],
            [
             0.1111111111111111,
             "#46039f"
            ],
            [
             0.2222222222222222,
             "#7201a8"
            ],
            [
             0.3333333333333333,
             "#9c179e"
            ],
            [
             0.4444444444444444,
             "#bd3786"
            ],
            [
             0.5555555555555556,
             "#d8576b"
            ],
            [
             0.6666666666666666,
             "#ed7953"
            ],
            [
             0.7777777777777778,
             "#fb9f3a"
            ],
            [
             0.8888888888888888,
             "#fdca26"
            ],
            [
             1,
             "#f0f921"
            ]
           ],
           "sequentialminus": [
            [
             0,
             "#0d0887"
            ],
            [
             0.1111111111111111,
             "#46039f"
            ],
            [
             0.2222222222222222,
             "#7201a8"
            ],
            [
             0.3333333333333333,
             "#9c179e"
            ],
            [
             0.4444444444444444,
             "#bd3786"
            ],
            [
             0.5555555555555556,
             "#d8576b"
            ],
            [
             0.6666666666666666,
             "#ed7953"
            ],
            [
             0.7777777777777778,
             "#fb9f3a"
            ],
            [
             0.8888888888888888,
             "#fdca26"
            ],
            [
             1,
             "#f0f921"
            ]
           ]
          },
          "colorway": [
           "#636efa",
           "#EF553B",
           "#00cc96",
           "#ab63fa",
           "#FFA15A",
           "#19d3f3",
           "#FF6692",
           "#B6E880",
           "#FF97FF",
           "#FECB52"
          ],
          "font": {
           "color": "#2a3f5f"
          },
          "geo": {
           "bgcolor": "white",
           "lakecolor": "white",
           "landcolor": "#E5ECF6",
           "showlakes": true,
           "showland": true,
           "subunitcolor": "white"
          },
          "hoverlabel": {
           "align": "left"
          },
          "hovermode": "closest",
          "mapbox": {
           "style": "light"
          },
          "paper_bgcolor": "white",
          "plot_bgcolor": "#E5ECF6",
          "polar": {
           "angularaxis": {
            "gridcolor": "white",
            "linecolor": "white",
            "ticks": ""
           },
           "bgcolor": "#E5ECF6",
           "radialaxis": {
            "gridcolor": "white",
            "linecolor": "white",
            "ticks": ""
           }
          },
          "scene": {
           "xaxis": {
            "backgroundcolor": "#E5ECF6",
            "gridcolor": "white",
            "gridwidth": 2,
            "linecolor": "white",
            "showbackground": true,
            "ticks": "",
            "zerolinecolor": "white"
           },
           "yaxis": {
            "backgroundcolor": "#E5ECF6",
            "gridcolor": "white",
            "gridwidth": 2,
            "linecolor": "white",
            "showbackground": true,
            "ticks": "",
            "zerolinecolor": "white"
           },
           "zaxis": {
            "backgroundcolor": "#E5ECF6",
            "gridcolor": "white",
            "gridwidth": 2,
            "linecolor": "white",
            "showbackground": true,
            "ticks": "",
            "zerolinecolor": "white"
           }
          },
          "shapedefaults": {
           "line": {
            "color": "#2a3f5f"
           }
          },
          "ternary": {
           "aaxis": {
            "gridcolor": "white",
            "linecolor": "white",
            "ticks": ""
           },
           "baxis": {
            "gridcolor": "white",
            "linecolor": "white",
            "ticks": ""
           },
           "bgcolor": "#E5ECF6",
           "caxis": {
            "gridcolor": "white",
            "linecolor": "white",
            "ticks": ""
           }
          },
          "title": {
           "x": 0.05
          },
          "xaxis": {
           "automargin": true,
           "gridcolor": "white",
           "linecolor": "white",
           "ticks": "",
           "title": {
            "standoff": 15
           },
           "zerolinecolor": "white",
           "zerolinewidth": 2
          },
          "yaxis": {
           "automargin": true,
           "gridcolor": "white",
           "linecolor": "white",
           "ticks": "",
           "title": {
            "standoff": 15
           },
           "zerolinecolor": "white",
           "zerolinewidth": 2
          }
         }
        },
        "title": {
         "font": {
          "color": "#4D5663"
         },
         "text": "Image2Graph (TSNE)"
        },
        "xaxis": {
         "gridcolor": "#E1E5ED",
         "showgrid": true,
         "tickfont": {
          "color": "#4D5663"
         },
         "title": {
          "font": {
           "color": "#4D5663"
          },
          "text": ""
         },
         "zerolinecolor": "#E1E5ED"
        },
        "yaxis": {
         "gridcolor": "#E1E5ED",
         "showgrid": true,
         "tickfont": {
          "color": "#4D5663"
         },
         "title": {
          "font": {
           "color": "#4D5663"
          },
          "text": ""
         },
         "zerolinecolor": "#E1E5ED"
        }
       }
      },
      "text/html": [
       "<div>\n",
       "        \n",
       "        \n",
       "            <div id=\"5a5e8d43-fc12-4cae-be35-092c78d477e1\" class=\"plotly-graph-div\" style=\"height:525px; width:100%;\"></div>\n",
       "            <script type=\"text/javascript\">\n",
       "                require([\"plotly\"], function(Plotly) {\n",
       "                    window.PLOTLYENV=window.PLOTLYENV || {};\n",
       "                    window.PLOTLYENV.BASE_URL='https://plot.ly';\n",
       "                    \n",
       "                if (document.getElementById(\"5a5e8d43-fc12-4cae-be35-092c78d477e1\")) {\n",
       "                    Plotly.newPlot(\n",
       "                        '5a5e8d43-fc12-4cae-be35-092c78d477e1',\n",
       "                        [{\"marker\": {\"color\": \"rgba(255, 153, 51, 1.0)\", \"line\": {\"width\": 1.3}, \"opacity\": 0.8, \"size\": 12, \"symbol\": \"circle\"}, \"mode\": \"markers\", \"name\": \"NIPS\", \"text\": [\"Neural Voice Cloning with a Few Samples\", \"Neural Voice Cloning with a Few Samples\", \"Neural Voice Cloning with a Few Samples\", \"Neural Architecture Search with Bayesian Optimisation and Optimal Transport\", \"Neural Architecture Search with Bayesian Optimisation and Optimal Transport\", \"Neural Architecture Search with Bayesian Optimisation and Optimal Transport\", \"Glow: Generative Flow with Invertible 1x1 Convolutions\", \"Universal Style Transfer via Feature Transforms\", \"Toward Multimodal Image-to-Image Translation\", \"Dual Discriminator Generative Adversarial Nets\", \"Hierarchical Attentive Recurrent Tracking\", \"On-the-fly Operation Batching in Dynamic Computation Graphs\", \"Dual Path Networks\", \"DropoutNet: Addressing Cold Start in Recommender Systems\", \"Attention is All you Need\", \"Attention is All you Need\", \"Value Prediction Network\", \"Modulating early visual processing by language\", \"Modulating early visual processing by language\", \"Real Time Image Saliency for Black Box Classifiers\"], \"textfont\": {\"color\": \"#4D5663\"}, \"type\": \"scatter\", \"x\": [-20.175561904907227, -18.567564010620117, -21.205141067504883, -7.783560752868652, -6.90899658203125, -7.6961259841918945, -7.695133686065674, -3.8912413120269775, 0.03345946595072746, -5.804984092712402, -1.9905697107315063, 23.752748489379883, -1.2717971801757812, -0.7001081705093384, 6.63504695892334, 15.22249698638916, -3.8730759620666504, 22.607877731323242, 22.65237045288086, -14.805541038513184], \"y\": [12.300756454467773, 8.299843788146973, 10.93509292602539, 8.680436134338379, 8.63435173034668, 8.396515846252441, -9.561482429504395, 20.97049903869629, -18.151559829711914, -14.236695289611816, -8.3276948928833, 1.2852768898010254, -24.587324142456055, -7.4773783683776855, -18.371353149414062, 20.06836700439453, 6.4931721687316895, 14.630948066711426, 14.434582710266113, -13.230509757995605]}, {\"marker\": {\"color\": \"rgba(55, 128, 191, 1.0)\", \"line\": {\"width\": 1.3}, \"opacity\": 0.8, \"size\": 12, \"symbol\": \"circle\"}, \"mode\": \"markers\", \"name\": \"CVPR\", \"text\": [\"Light Field Intrinsics With a Deep Encoder-Decoder Network\", \"Neural Module Networks\", \"Hierarchical Boundary-Aware Neural Encoder for Video Captioning\", \"In-Place Activated BatchNorm for Memory-Optimized Training of DNNs\", \"AON: Towards Arbitrarily-Oriented Text Recognition\", \"AON: Towards Arbitrarily-Oriented Text Recognition\", \"CartoonGAN: Generative Adversarial Networks for Photo Cartoonization\", \"Deep Photo Enhancer: Unpaired Learning for Image Enhancement From Photographs With GANs\", \"LiDAR-Video Driving Dataset: Learning Driving Policies Effectively\", \"Multi-View 3D Object Detection Network for Autonomous Driving\", \"Zero-Shot Visual Recognition Using Semantics-Preserving Adversarial Embedding Networks\", \"Xception: Deep Learning With Depthwise Separable Convolutions\", \"Xception: Deep Learning With Depthwise Separable Convolutions\", \"Xception: Deep Learning With Depthwise Separable Convolutions\", \"Xception: Deep Learning With Depthwise Separable Convolutions\", \"Xception: Deep Learning With Depthwise Separable Convolutions\", \"Lip Reading Sentences in the Wild\", \"Lip Reading Sentences in the Wild\", \"Style Aggregated Network for Facial Landmark Detection\", \"Style Aggregated Network for Facial Landmark Detection\", \"Supervision-by-Registration: An Unsupervised Approach to Improve the Precision of Facial Landmark Detectors\", \"Who Let the Dogs Out? Modeling Dog Behavior From Visual Data\", \"Who Let the Dogs Out? Modeling Dog Behavior From Visual Data\", \"Who Let the Dogs Out? Modeling Dog Behavior From Visual Data\", \"AMNet: Memorability Estimation With Attention\", \"A Point Set Generation Network for 3D Object Reconstruction From a Single Image\", \"StyleNet: Generating Attractive Visual Captions With Styles\", \"Dynamic Few-Shot Visual Learning Without Forgetting\", \"Social GAN: Socially Acceptable Trajectories With Generative Adversarial Networks\", \"DeLiGAN : Generative Adversarial Networks for Diverse and Limited Data\", \"Deep Pyramidal Residual Networks\", \"Deep Pyramidal Residual Networks\", \"Deep Pyramidal Residual Networks\", \"Can Spatiotemporal 3D CNNs Retrace the History of 2D CNNs and ImageNet?\", \"Deep Back-Projection Networks for Super-Resolution\", \"Deep Back-Projection Networks for Super-Resolution\", \"Deep Back-Projection Networks for Super-Resolution\", \"Deep Residual Learning for Image Recognition\", \"Deep Residual Learning for Image Recognition\", \"Deep Residual Learning for Image Recognition\", \"CondenseNet: An Efficient DenseNet Using Learned Group Convolutions\", \"Densely Connected Convolutional Networks\", \"Real-Time Neural Style Transfer for Videos\", \"Fast and Accurate Single Image Super-Resolution via Information Distillation Network\", \"Squeeze-and-Excitation Networks\", \"Squeeze-and-Excitation Networks\", \"Perturbative Neural Networks\", \"RON: Reverse Connection With Objectness Prior Networks for Object Detection\", \"Surface Networks\", \"Photo-Realistic Single Image Super-Resolution Using a Generative Adversarial Network\", \"A Memory Network Approach for Story-Based Temporal Summarization of 360\\u00b0 Videos\", \"CleanNet: Transfer Learning for Scalable Image Classifier Training With Label Noise\", \"Future Frame Prediction for Anomaly Detection \\u0096 A New Baseline\", \"SphereFace: Deep Hypersphere Embedding for Face Recognition\", \"Structure Inference Net: Object Detection Using Scene-Level Context and Instance-Level Relationships\", \"SO-Net: Self-Organizing Network for Point Cloud Analysis\", \"Efficient Deep Learning for Stereo Matching\", \"Neural Baby Talk\", \"Unsupervised Video Summarization With Adversarial LSTM Networks\", \"Unsupervised Video Summarization With Adversarial LSTM Networks\", \"Transparency by Design: Closing the Gap Between Performance and Interpretability in Visual Reasoning\", \"Conditional Probability Models for Deep Image Compression\", \"Conditional Probability Models for Deep Image Compression\", \"3D Bounding Box Estimation Using Deep Learning and Geometry\", \"Human Pose Estimation With Parsing Induced Learner\", \"Human Pose Estimation With Parsing Induced Learner\", \"Fast Video Object Segmentation by Reference-Guided Mask Propagation\", \"PieAPP: Perceptual Image-Error Assessment Through Pairwise Preference\", \"PieAPP: Perceptual Image-Error Assessment Through Pairwise Preference\", \"Attentive Generative Adversarial Network for Raindrop Removal From a Single Image\", \"Attentive Generative Adversarial Network for Raindrop Removal From a Single Image\", \"Low-Shot Learning With Imprinted Weights\", \"PointNet: Deep Learning on Point Sets for 3D Classification and Segmentation\", \"Avatar-Net: Multi-Scale Zero-Shot Style Transfer by Feature Decoration\", \"Learning to Compare: Relation Network for Few-Shot Learning\", \"Rethinking the Inception Architecture for Computer Vision\", \"Rethinking the Inception Architecture for Computer Vision\", \"Rethinking the Inception Architecture for Computer Vision\", \"Rethinking the Inception Architecture for Computer Vision\", \"Rethinking the Inception Architecture for Computer Vision\", \"Rethinking the Inception Architecture for Computer Vision\", \"Rethinking the Inception Architecture for Computer Vision\", \"Image Super-Resolution via Deep Recursive Residual Network\", \"Image Super-Resolution via Deep Recursive Residual Network\", \"Image Super-Resolution via Deep Recursive Residual Network\", \"Image Super-Resolution via Deep Recursive Residual Network\", \"Scale-Recurrent Network for Deep Image Deblurring\", \"Tangent Convolutions for Dense Prediction in 3D\", \"Two-Stream Convolutional Networks for Dynamic Texture Synthesis\", \"Full Resolution Image Compression With Recurrent Neural Networks\", \"Full Resolution Image Compression With Recurrent Neural Networks\", \"A Closer Look at Spatiotemporal Convolutions for Action Recognition\", \"Learning Superpixels With Segmentation-Aware Affinity Loss\", \"Adversarial Discriminative Domain Adaptation\", \"PointNetVLAD: Deep Point Cloud Based Retrieval for Large-Scale Place Recognition\", \"Learning a Discriminative Filter Bank Within a CNN for Fine-Grained Recognition\", \"Learning a Discriminative Filter Bank Within a CNN for Fine-Grained Recognition\", \"Learning a Discriminative Filter Bank Within a CNN for Fine-Grained Recognition\", \"Recovering Realistic Texture in Image Super-Resolution by Deep Spatial Feature Transform\", \"Bidirectional Retrieval Made Simple\", \"Aggregated Residual Transformations for Deep Neural Networks\", \"Aggregated Residual Transformations for Deep Neural Networks\", \"Aggregated Residual Transformations for Deep Neural Networks\", \"Deep Texture Manifold for Ground Terrain Recognition\", \"Deep Texture Manifold for Ground Terrain Recognition\", \"Scene Graph Generation by Iterative Message Passing\", \"DenseASPP for Semantic Segmentation in Street Scenes\", \"Dilated Residual Networks\", \"MAttNet: Modular Attention Network for Referring Expression Comprehension\", \"Deep Mutual Learning\", \"Density-Aware Single Image De-Raining Using a Multi-Stream Dense Network\", \"Density-Aware Single Image De-Raining Using a Multi-Stream Dense Network\", \"EAST: An Efficient and Accurate Scene Text Detector\", \"EAST: An Efficient and Accurate Scene Text Detector\"], \"textfont\": {\"color\": \"#4D5663\"}, \"type\": \"scatter\", \"x\": [22.131450653076172, 24.16000747680664, 23.985746383666992, 23.247617721557617, 2.17535662651062, 2.189209461212158, 10.292267799377441, -4.237742900848389, -4.852413654327393, 2.299856424331665, 15.362506866455078, -30.843576431274414, -32.00525665283203, -31.74946403503418, -31.166236877441406, -24.49106788635254, -1.897026538848877, -9.096171379089355, -2.0046801567077637, -8.028915405273438, 18.813026428222656, 8.680668830871582, 9.22398567199707, -3.009730815887451, 11.495415687561035, -3.5755763053894043, 10.220895767211914, 2.130784511566162, 17.37142562866211, -1.0551813840866089, -6.092202663421631, -6.439483642578125, -1.9249401092529297, -1.3885900974273682, -19.457780838012695, -19.41881561279297, -18.92670249938965, 17.031740188598633, 0.6254864931106567, 16.693010330200195, -13.139006614685059, 12.888811111450195, -8.111885070800781, 1.4562571048736572, 7.8653788566589355, 7.801903247833252, 6.701316833496094, -24.064207077026367, 8.999479293823242, -20.3931941986084, -18.49939727783203, -16.791213989257812, -3.8572800159454346, -18.00185775756836, 18.681116104125977, -11.89059066772461, 11.39583683013916, 9.166892051696777, 21.855789184570312, 23.266252517700195, -8.771827697753906, 21.653608322143555, 23.968027114868164, -13.52444839477539, 3.034897804260254, -5.964892864227295, -1.4883971214294434, -0.4131582975387573, -0.9548119306564331, -8.672527313232422, -13.260210990905762, -24.4910888671875, 7.6785101890563965, -0.6985595226287842, 21.87226104736328, -25.12590217590332, -25.38681411743164, -25.854419708251953, -24.809669494628906, -26.15699577331543, -24.29848289489746, -25.15215492248535, -13.878387451171875, -15.1133394241333, -14.992009162902832, -14.876374244689941, -1.243798017501831, 0.3118442893028259, -17.56606674194336, -19.296175003051758, -17.40793800354004, -2.650864362716675, 16.134910583496094, 8.519750595092773, 8.509187698364258, -3.415278434753418, -1.1191842555999756, -4.635985374450684, -14.980311393737793, -13.055289268493652, -20.594165802001953, -20.379558563232422, -23.16974639892578, -1.0227513313293457, -1.4486302137374878, 7.653670787811279, 18.525930404663086, -1.5543338060379028, 23.193828582763672, -19.10452651977539, 12.591787338256836, 10.797687530517578, 8.575424194335938, 17.607017517089844], \"y\": [-3.271641254425049, 1.5692521333694458, 7.796581268310547, 9.085820198059082, 10.819340705871582, 10.730270385742188, 16.611722946166992, 2.7726807594299316, -4.75147008895874, -5.740231513977051, -6.391168117523193, 2.274825096130371, 3.1746742725372314, 2.9321200847625732, 2.5189907550811768, -15.937233924865723, 19.816627502441406, 10.325572967529297, 18.517526626586914, 18.486217498779297, 16.46602439880371, -21.87995147705078, -21.252532958984375, -22.283775329589844, -3.3284897804260254, 2.164860725402832, 16.022214889526367, 0.4999132752418518, 14.019729614257812, 17.517091751098633, 18.07822608947754, 19.459362030029297, 22.41094207763672, 22.814611434936523, 9.07796573638916, 8.864636421203613, 7.652999401092529, 4.709743499755859, 23.07862091064453, 4.7881178855896, 4.007481098175049, -1.4897689819335938, -10.968584060668945, -9.654960632324219, -13.461626052856445, -13.087995529174805, 16.050411224365234, 8.744108200073242, 4.344682216644287, 17.23316764831543, -12.490017890930176, -12.636125564575195, -5.551205635070801, -12.689485549926758, -7.270712375640869, -7.3398237228393555, -14.141369819641113, -14.461931228637695, 4.281265735626221, -0.3495996594429016, 10.084551811218262, 11.561444282531738, 10.44239330291748, -9.882506370544434, -12.552517890930176, -13.522631645202637, 17.148298263549805, -13.375617027282715, -13.491971015930176, -10.44228458404541, -7.807272434234619, 1.9066909551620483, 5.903543949127197, 23.246713638305664, 3.7092888355255127, 3.071211338043213, 4.996579647064209, 4.416006088256836, 5.119454860687256, 3.222304344177246, 8.4489164352417, 6.592600345611572, -8.275762557983398, -13.211369514465332, -8.780574798583984, -8.915487289428711, 16.17784309387207, -21.593481063842773, -10.086417198181152, -2.2570528984069824, -10.12881851196289, 20.76203727722168, 14.01705551147461, -14.353128433227539, 13.71753978729248, -13.4881591796875, -15.519903182983398, -14.130108833312988, 0.5868499279022217, 3.6511969566345215, 1.206055998802185, 1.3413878679275513, 0.3148217499256134, -10.600672721862793, -11.454980850219727, -22.38384246826172, 15.489209175109863, 19.593772888183594, -1.411011815071106, 0.11060115694999695, -2.296581745147705, -15.49445629119873, 15.779061317443848, 13.947772979736328]}, {\"marker\": {\"color\": \"rgba(50, 171, 96, 1.0)\", \"line\": {\"width\": 1.3}, \"opacity\": 0.8, \"size\": 12, \"symbol\": \"circle\"}, \"mode\": \"markers\", \"name\": \"ICML\", \"text\": [\"Input Convex Neural Networks\", \"Input Convex Neural Networks\", \"Predict and Constrain: Modeling Cardinality in Deep Structured Prediction\", \"Path-Level Network Transformation for Efficient Architecture Search\", \"Path-Level Network Transformation for Efficient Architecture Search\", \"Dance Dance Convolution\", \"Dance Dance Convolution\", \"Video Pixel Networks\", \"Device Placement Optimization with Reinforcement Learning\", \"Device Placement Optimization with Reinforcement Learning\", \"Efficient Neural Architecture Search via Parameters Sharing\", \"Efficient Neural Architecture Search via Parameters Sharing\", \"Efficient Neural Architecture Search via Parameters Sharing\", \"Efficient Neural Architecture Search via Parameters Sharing\", \"Efficient Neural Architecture Search via Parameters Sharing\", \"Efficient Neural Architecture Search via Parameters Sharing\", \"Attentive Recurrent Comparators\", \"Exploiting the Potential of Standard Convolutional Autoencoders for Image Restoration by Evolutionary Search\", \"Exploiting the Potential of Standard Convolutional Autoencoders for Image Restoration by Evolutionary Search\", \"Style Tokens: Unsupervised Style Modeling, Control and Transfer in End-to-End Speech Synthesis\"], \"textfont\": {\"color\": \"#4D5663\"}, \"type\": \"scatter\", \"x\": [21.18602180480957, 23.06233787536621, 23.230140686035156, 2.729588747024536, 2.6267099380493164, -2.9856157302856445, -2.785128355026245, 9.747262001037598, 3.2602760791778564, 3.3874337673187256, -18.271120071411133, -21.04475212097168, -15.320021629333496, -20.11817741394043, -21.442705154418945, -21.254213333129883, 19.856550216674805, -3.5169522762298584, -2.7673330307006836, -6.452203750610352], \"y\": [4.07543420791626, -0.6197527050971985, 5.288789749145508, -9.023369789123535, -6.280464172363281, 1.122054934501648, 0.8728706240653992, -14.364246368408203, -0.10696634650230408, -0.17059528827667236, -0.6863604187965393, -3.1274333000183105, 0.3193286955356598, -12.303316116333008, -2.9028589725494385, -3.6739537715911865, 14.745031356811523, -5.955971717834473, -7.723635673522949, 16.548110961914062]}, {\"marker\": {\"color\": \"rgba(128, 0, 128, 1.0)\", \"line\": {\"width\": 1.3}, \"opacity\": 0.8, \"size\": 12, \"symbol\": \"circle\"}, \"mode\": \"markers\", \"name\": \"ECCV\", \"text\": [\"Disentangling Factors of Variation with Cycle-Consistent Variational Auto-Encoders\", \"Disentangling Factors of Variation with Cycle-Consistent Variational Auto-Encoders\", \"Conditional Image-Text Embedding Networks\", \"Progressive Neural Architecture Search\", \"Geolocation Estimation of Photos using a Hierarchical Model and Scene Classification\", \"Dynamic Conditional Networks for Few-Shot Learning\", \"Dynamic Conditional Networks for Few-Shot Learning\", \"Dynamic Conditional Networks for Few-Shot Learning\", \"Dynamic Conditional Networks for Few-Shot Learning\", \"Recovering 3D Planes from a Single Image via Convolutional Neural Networks\", \"Learning Single-View 3D Reconstruction with Limited Pose Supervision\", \"PSANet: Point-wise Spatial Attention Network for Scene Parsing\", \"Multi-scale Residual Network for Image Super-Resolution\", \"Multi-scale Residual Network for Image Super-Resolution\", \"Bidirectional Feature Pyramid Network with Recurrent Attention Residual Modules for Shadow Detection\", \"EC-Net: an Edge-aware Point set Consolidation Network\", \"Learning Visual Question Answering by Bootstrapping Hard Attention\", \"ECO: Efficient Convolutional Network for Online Video Understanding\", \"Diverse and Coherent Paragraph Generation from Images\", \"Diverse and Coherent Paragraph Generation from Images\", \"Diverse and Coherent Paragraph Generation from Images\", \"Diverse and Coherent Paragraph Generation from Images\", \"Pixel2Mesh: Generating 3D Mesh Models from Single RGB Images\", \"Towards Realistic Predictors\", \"License Plate Detection and Recognition in Unconstrained Scenarios\", \"A Modulation Module for Multi-task Learning with Applications in Image Retrieval\", \"Mutual Learning to Adapt for Joint Human Parsing and Pose Estimation\", \"Mutual Learning to Adapt for Joint Human Parsing and Pose Estimation\", \"Multimodal Unsupervised Image-to-image Translation\", \"Audio-Visual Event Localization in Unconstrained Videos\", \"Audio-Visual Event Localization in Unconstrained Videos\", \"DF-Net: Unsupervised Joint Learning of Depth and Flow using Cross-Task Consistency\", \"Learning Rigidity in Dynamic Scenes with a Moving Camera for 3D Motion Field Estimation\", \"Generalizing A Person Retrieval Model Hetero- and Homogeneously\"], \"textfont\": {\"color\": \"#4D5663\"}, \"type\": \"scatter\", \"x\": [-6.405484199523926, -6.128750324249268, 0.12256844341754913, 19.287439346313477, 15.509499549865723, -1.095923662185669, -0.8869202733039856, -17.028554916381836, -2.9109041690826416, -5.902587413787842, -7.1626152992248535, -8.410353660583496, 23.833694458007812, 23.964447021484375, 19.354984283447266, 7.751053333282471, 13.136404037475586, 22.544960021972656, 14.409622192382812, 13.844359397888184, 6.3305888175964355, 5.840606212615967, 12.204129219055176, 7.335792541503906, -13.033323287963867, 12.018933296203613, 17.248241424560547, 16.115371704101562, 15.922663688659668, -18.13438606262207, -23.69538688659668, 14.905155181884766, -13.096355438232422, -13.236174583435059], \"y\": [-19.443859100341797, -19.3018741607666, -17.66963005065918, 4.2210001945495605, 13.961593627929688, -22.087474822998047, -22.052160263061523, -2.9525792598724365, -24.724409103393555, 18.092784881591797, 15.23035717010498, -10.206413269042969, 7.096102237701416, 8.873480796813965, 14.752169609069824, 5.859228134155273, -13.571504592895508, -1.9116462469100952, -7.589739799499512, -7.1692376136779785, -1.7364600896835327, -2.058800220489502, -13.580459594726562, -14.484235763549805, -5.821490287780762, -2.890763998031616, -9.648133277893066, -5.350420951843262, -5.794880390167236, -0.7356632947921753, 3.9895687103271484, -8.049171447753906, -5.8292083740234375, 4.643182277679443]}, {\"marker\": {\"color\": \"rgba(219, 64, 82, 1.0)\", \"line\": {\"width\": 1.3}, \"opacity\": 0.8, \"size\": 12, \"symbol\": \"circle\"}, \"mode\": \"markers\", \"name\": \"ICCV\", \"text\": [\"Deep TextSpotter: An End-To-End Trainable Scene Text Localization and Recognition Framework\", \"SubUNets: End-To-End Hand Shape and Continuous Sign Language Recognition\", \"SubUNets: End-To-End Hand Shape and Continuous Sign Language Recognition\", \"SubUNets: End-To-End Hand Shape and Continuous Sign Language Recognition\", \"SubUNets: End-To-End Hand Shape and Continuous Sign Language Recognition\", \"SubUNets: End-To-End Hand Shape and Continuous Sign Language Recognition\", \"Query-Guided Regression Network With Context Policy for Phrase Grounding\", \"Show, Adapt and Tell: Adversarial Training of Cross-Domain Image Captioner\", \"Long Short-Term Memory Kalman Filters: Recurrent Neural Estimators for Pose Regularization\", \"Arbitrary Style Transfer in Real-Time With Adaptive Instance Normalization\", \"Wavelet-SRNet: A Wavelet-Based CNN for Multi-Scale Face Super Resolution\", \"Learning to Reason: End-To-End Module Networks for Visual Question Answering\", \"DSLR-Quality Photos on Mobile Devices With Deep Convolutional Networks\", \"Learning Efficient Convolutional Networks Through Network Slimming\", \"Attentive Semantic Video Generation Using Captions\", \"GANs for Biological Image Synthesis\", \"MemNet: A Persistent Memory Network for Image Restoration\", \"MemNet: A Persistent Memory Network for Image Restoration\", \"Simultaneous Deep Transfer Across Domains and Tasks\", \"Sequence to Sequence - Video to Text\", \"Revisiting IM2GPS in the Deep Learning Era\", \"Genetic CNN\", \"Genetic CNN\", \"Curriculum Domain Adaptation for Semantic Segmentation of Urban Scenes\", \"Unlabeled Samples Generated by GAN Improve the Person Re-Identification Baseline in Vitro\"], \"textfont\": {\"color\": \"#4D5663\"}, \"type\": \"scatter\", \"x\": [8.076133728027344, 10.584817886352539, 11.603999137878418, 11.493290901184082, 11.96386432647705, 7.829286575317383, 9.155016899108887, 3.2047598361968994, -4.7211689949035645, 18.067495346069336, 18.150955200195312, 21.29690170288086, -1.627797245979309, 17.640092849731445, 9.779683113098145, -2.269404649734497, -2.1265311241149902, -1.9376888275146484, 9.598640441894531, 9.353775024414062, 4.448802471160889, -12.848998069763184, -15.930279731750488, 9.354803085327148, -1.830430030822754], \"y\": [-22.490009307861328, 6.6882734298706055, 6.106749534606934, 5.495449542999268, 5.849341869354248, 15.637054443359375, 18.3614559173584, -9.180086135864258, -4.906091690063477, -7.740219593048096, -9.670675277709961, 14.86972427368164, 23.778776168823242, -9.175592422485352, 18.31502914428711, 14.902925491333008, -24.009902954101562, -23.07515525817871, 18.94513511657715, 15.369504928588867, -0.44735461473464966, 10.115250587463379, -17.013721466064453, 4.212087631225586, -12.628952980041504]}],\n",
       "                        {\"legend\": {\"bgcolor\": \"#F5F6F9\", \"font\": {\"color\": \"#4D5663\"}}, \"paper_bgcolor\": \"#F5F6F9\", \"plot_bgcolor\": \"#F5F6F9\", \"template\": {\"data\": {\"bar\": [{\"error_x\": {\"color\": \"#2a3f5f\"}, \"error_y\": {\"color\": \"#2a3f5f\"}, \"marker\": {\"line\": {\"color\": \"#E5ECF6\", \"width\": 0.5}}, \"type\": \"bar\"}], \"barpolar\": [{\"marker\": {\"line\": {\"color\": \"#E5ECF6\", \"width\": 0.5}}, \"type\": \"barpolar\"}], \"carpet\": [{\"aaxis\": {\"endlinecolor\": \"#2a3f5f\", \"gridcolor\": \"white\", \"linecolor\": \"white\", \"minorgridcolor\": \"white\", \"startlinecolor\": \"#2a3f5f\"}, \"baxis\": {\"endlinecolor\": \"#2a3f5f\", \"gridcolor\": \"white\", \"linecolor\": \"white\", \"minorgridcolor\": \"white\", \"startlinecolor\": \"#2a3f5f\"}, \"type\": \"carpet\"}], \"choropleth\": [{\"colorbar\": {\"outlinewidth\": 0, \"ticks\": \"\"}, \"type\": \"choropleth\"}], \"contour\": [{\"colorbar\": {\"outlinewidth\": 0, \"ticks\": \"\"}, \"colorscale\": [[0.0, \"#0d0887\"], [0.1111111111111111, \"#46039f\"], [0.2222222222222222, \"#7201a8\"], [0.3333333333333333, \"#9c179e\"], [0.4444444444444444, \"#bd3786\"], [0.5555555555555556, \"#d8576b\"], [0.6666666666666666, \"#ed7953\"], [0.7777777777777778, \"#fb9f3a\"], [0.8888888888888888, \"#fdca26\"], [1.0, \"#f0f921\"]], \"type\": \"contour\"}], \"contourcarpet\": [{\"colorbar\": {\"outlinewidth\": 0, \"ticks\": \"\"}, \"type\": \"contourcarpet\"}], \"heatmap\": [{\"colorbar\": {\"outlinewidth\": 0, \"ticks\": \"\"}, \"colorscale\": [[0.0, \"#0d0887\"], [0.1111111111111111, \"#46039f\"], [0.2222222222222222, \"#7201a8\"], [0.3333333333333333, \"#9c179e\"], [0.4444444444444444, \"#bd3786\"], [0.5555555555555556, \"#d8576b\"], [0.6666666666666666, \"#ed7953\"], [0.7777777777777778, \"#fb9f3a\"], [0.8888888888888888, \"#fdca26\"], [1.0, \"#f0f921\"]], \"type\": \"heatmap\"}], \"heatmapgl\": [{\"colorbar\": {\"outlinewidth\": 0, \"ticks\": \"\"}, \"colorscale\": [[0.0, \"#0d0887\"], [0.1111111111111111, \"#46039f\"], [0.2222222222222222, \"#7201a8\"], [0.3333333333333333, \"#9c179e\"], [0.4444444444444444, \"#bd3786\"], [0.5555555555555556, \"#d8576b\"], [0.6666666666666666, \"#ed7953\"], [0.7777777777777778, \"#fb9f3a\"], [0.8888888888888888, \"#fdca26\"], [1.0, \"#f0f921\"]], \"type\": \"heatmapgl\"}], \"histogram\": [{\"marker\": {\"colorbar\": {\"outlinewidth\": 0, \"ticks\": \"\"}}, \"type\": \"histogram\"}], \"histogram2d\": [{\"colorbar\": {\"outlinewidth\": 0, \"ticks\": \"\"}, \"colorscale\": [[0.0, \"#0d0887\"], [0.1111111111111111, \"#46039f\"], [0.2222222222222222, \"#7201a8\"], [0.3333333333333333, \"#9c179e\"], [0.4444444444444444, \"#bd3786\"], [0.5555555555555556, \"#d8576b\"], [0.6666666666666666, \"#ed7953\"], [0.7777777777777778, \"#fb9f3a\"], [0.8888888888888888, \"#fdca26\"], [1.0, \"#f0f921\"]], \"type\": \"histogram2d\"}], \"histogram2dcontour\": [{\"colorbar\": {\"outlinewidth\": 0, \"ticks\": \"\"}, \"colorscale\": [[0.0, \"#0d0887\"], [0.1111111111111111, \"#46039f\"], [0.2222222222222222, \"#7201a8\"], [0.3333333333333333, \"#9c179e\"], [0.4444444444444444, \"#bd3786\"], [0.5555555555555556, \"#d8576b\"], [0.6666666666666666, \"#ed7953\"], [0.7777777777777778, \"#fb9f3a\"], [0.8888888888888888, \"#fdca26\"], [1.0, \"#f0f921\"]], \"type\": \"histogram2dcontour\"}], \"mesh3d\": [{\"colorbar\": {\"outlinewidth\": 0, \"ticks\": \"\"}, \"type\": \"mesh3d\"}], \"parcoords\": [{\"line\": {\"colorbar\": {\"outlinewidth\": 0, \"ticks\": \"\"}}, \"type\": \"parcoords\"}], \"pie\": [{\"automargin\": true, \"type\": \"pie\"}], \"scatter\": [{\"marker\": {\"colorbar\": {\"outlinewidth\": 0, \"ticks\": \"\"}}, \"type\": \"scatter\"}], \"scatter3d\": [{\"line\": {\"colorbar\": {\"outlinewidth\": 0, \"ticks\": \"\"}}, \"marker\": {\"colorbar\": {\"outlinewidth\": 0, \"ticks\": \"\"}}, \"type\": \"scatter3d\"}], \"scattercarpet\": [{\"marker\": {\"colorbar\": {\"outlinewidth\": 0, \"ticks\": \"\"}}, \"type\": \"scattercarpet\"}], \"scattergeo\": [{\"marker\": {\"colorbar\": {\"outlinewidth\": 0, \"ticks\": \"\"}}, \"type\": \"scattergeo\"}], \"scattergl\": [{\"marker\": {\"colorbar\": {\"outlinewidth\": 0, \"ticks\": \"\"}}, \"type\": \"scattergl\"}], \"scattermapbox\": [{\"marker\": {\"colorbar\": {\"outlinewidth\": 0, \"ticks\": \"\"}}, \"type\": \"scattermapbox\"}], \"scatterpolar\": [{\"marker\": {\"colorbar\": {\"outlinewidth\": 0, \"ticks\": \"\"}}, \"type\": \"scatterpolar\"}], \"scatterpolargl\": [{\"marker\": {\"colorbar\": {\"outlinewidth\": 0, \"ticks\": \"\"}}, \"type\": \"scatterpolargl\"}], \"scatterternary\": [{\"marker\": {\"colorbar\": {\"outlinewidth\": 0, \"ticks\": \"\"}}, \"type\": \"scatterternary\"}], \"surface\": [{\"colorbar\": {\"outlinewidth\": 0, \"ticks\": \"\"}, \"colorscale\": [[0.0, \"#0d0887\"], [0.1111111111111111, \"#46039f\"], [0.2222222222222222, \"#7201a8\"], [0.3333333333333333, \"#9c179e\"], [0.4444444444444444, \"#bd3786\"], [0.5555555555555556, \"#d8576b\"], [0.6666666666666666, \"#ed7953\"], [0.7777777777777778, \"#fb9f3a\"], [0.8888888888888888, \"#fdca26\"], [1.0, \"#f0f921\"]], \"type\": \"surface\"}], \"table\": [{\"cells\": {\"fill\": {\"color\": \"#EBF0F8\"}, \"line\": {\"color\": \"white\"}}, \"header\": {\"fill\": {\"color\": \"#C8D4E3\"}, \"line\": {\"color\": \"white\"}}, \"type\": \"table\"}]}, \"layout\": {\"annotationdefaults\": {\"arrowcolor\": \"#2a3f5f\", \"arrowhead\": 0, \"arrowwidth\": 1}, \"coloraxis\": {\"colorbar\": {\"outlinewidth\": 0, \"ticks\": \"\"}}, \"colorscale\": {\"diverging\": [[0, \"#8e0152\"], [0.1, \"#c51b7d\"], [0.2, \"#de77ae\"], [0.3, \"#f1b6da\"], [0.4, \"#fde0ef\"], [0.5, \"#f7f7f7\"], [0.6, \"#e6f5d0\"], [0.7, \"#b8e186\"], [0.8, \"#7fbc41\"], [0.9, \"#4d9221\"], [1, \"#276419\"]], \"sequential\": [[0.0, \"#0d0887\"], [0.1111111111111111, \"#46039f\"], [0.2222222222222222, \"#7201a8\"], [0.3333333333333333, \"#9c179e\"], [0.4444444444444444, \"#bd3786\"], [0.5555555555555556, \"#d8576b\"], [0.6666666666666666, \"#ed7953\"], [0.7777777777777778, \"#fb9f3a\"], [0.8888888888888888, \"#fdca26\"], [1.0, \"#f0f921\"]], \"sequentialminus\": [[0.0, \"#0d0887\"], [0.1111111111111111, \"#46039f\"], [0.2222222222222222, \"#7201a8\"], [0.3333333333333333, \"#9c179e\"], [0.4444444444444444, \"#bd3786\"], [0.5555555555555556, \"#d8576b\"], [0.6666666666666666, \"#ed7953\"], [0.7777777777777778, \"#fb9f3a\"], [0.8888888888888888, \"#fdca26\"], [1.0, \"#f0f921\"]]}, \"colorway\": [\"#636efa\", \"#EF553B\", \"#00cc96\", \"#ab63fa\", \"#FFA15A\", \"#19d3f3\", \"#FF6692\", \"#B6E880\", \"#FF97FF\", \"#FECB52\"], \"font\": {\"color\": \"#2a3f5f\"}, \"geo\": {\"bgcolor\": \"white\", \"lakecolor\": \"white\", \"landcolor\": \"#E5ECF6\", \"showlakes\": true, \"showland\": true, \"subunitcolor\": \"white\"}, \"hoverlabel\": {\"align\": \"left\"}, \"hovermode\": \"closest\", \"mapbox\": {\"style\": \"light\"}, \"paper_bgcolor\": \"white\", \"plot_bgcolor\": \"#E5ECF6\", \"polar\": {\"angularaxis\": {\"gridcolor\": \"white\", \"linecolor\": \"white\", \"ticks\": \"\"}, \"bgcolor\": \"#E5ECF6\", \"radialaxis\": {\"gridcolor\": \"white\", \"linecolor\": \"white\", \"ticks\": \"\"}}, \"scene\": {\"xaxis\": {\"backgroundcolor\": \"#E5ECF6\", \"gridcolor\": \"white\", \"gridwidth\": 2, \"linecolor\": \"white\", \"showbackground\": true, \"ticks\": \"\", \"zerolinecolor\": \"white\"}, \"yaxis\": {\"backgroundcolor\": \"#E5ECF6\", \"gridcolor\": \"white\", \"gridwidth\": 2, \"linecolor\": \"white\", \"showbackground\": true, \"ticks\": \"\", \"zerolinecolor\": \"white\"}, \"zaxis\": {\"backgroundcolor\": \"#E5ECF6\", \"gridcolor\": \"white\", \"gridwidth\": 2, \"linecolor\": \"white\", \"showbackground\": true, \"ticks\": \"\", \"zerolinecolor\": \"white\"}}, \"shapedefaults\": {\"line\": {\"color\": \"#2a3f5f\"}}, \"ternary\": {\"aaxis\": {\"gridcolor\": \"white\", \"linecolor\": \"white\", \"ticks\": \"\"}, \"baxis\": {\"gridcolor\": \"white\", \"linecolor\": \"white\", \"ticks\": \"\"}, \"bgcolor\": \"#E5ECF6\", \"caxis\": {\"gridcolor\": \"white\", \"linecolor\": \"white\", \"ticks\": \"\"}}, \"title\": {\"x\": 0.05}, \"xaxis\": {\"automargin\": true, \"gridcolor\": \"white\", \"linecolor\": \"white\", \"ticks\": \"\", \"title\": {\"standoff\": 15}, \"zerolinecolor\": \"white\", \"zerolinewidth\": 2}, \"yaxis\": {\"automargin\": true, \"gridcolor\": \"white\", \"linecolor\": \"white\", \"ticks\": \"\", \"title\": {\"standoff\": 15}, \"zerolinecolor\": \"white\", \"zerolinewidth\": 2}}}, \"title\": {\"font\": {\"color\": \"#4D5663\"}, \"text\": \"Image2Graph (TSNE)\"}, \"xaxis\": {\"gridcolor\": \"#E1E5ED\", \"showgrid\": true, \"tickfont\": {\"color\": \"#4D5663\"}, \"title\": {\"font\": {\"color\": \"#4D5663\"}, \"text\": \"\"}, \"zerolinecolor\": \"#E1E5ED\"}, \"yaxis\": {\"gridcolor\": \"#E1E5ED\", \"showgrid\": true, \"tickfont\": {\"color\": \"#4D5663\"}, \"title\": {\"font\": {\"color\": \"#4D5663\"}, \"text\": \"\"}, \"zerolinecolor\": \"#E1E5ED\"}},\n",
       "                        {\"showLink\": true, \"linkText\": \"Export to plot.ly\", \"plotlyServerURL\": \"https://plot.ly\", \"responsive\": true}\n",
       "                    ).then(function(){\n",
       "                            \n",
       "var gd = document.getElementById('5a5e8d43-fc12-4cae-be35-092c78d477e1');\n",
       "var x = new MutationObserver(function (mutations, observer) {{\n",
       "        var display = window.getComputedStyle(gd).display;\n",
       "        if (!display || display === 'none') {{\n",
       "            console.log([gd, 'removed!']);\n",
       "            Plotly.purge(gd);\n",
       "            observer.disconnect();\n",
       "        }}\n",
       "}});\n",
       "\n",
       "// Listen for the removal of the full notebook cells\n",
       "var notebookContainer = gd.closest('#notebook-container');\n",
       "if (notebookContainer) {{\n",
       "    x.observe(notebookContainer, {childList: true});\n",
       "}}\n",
       "\n",
       "// Listen for the clearing of the current output cell\n",
       "var outputEl = gd.closest('.output');\n",
       "if (outputEl) {{\n",
       "    x.observe(outputEl, {childList: true});\n",
       "}}\n",
       "\n",
       "                        })\n",
       "                };\n",
       "                });\n",
       "            </script>\n",
       "        </div>"
      ]
     },
     "metadata": {},
     "output_type": "display_data"
    }
   ],
   "source": [
    "### Image2Graph\n",
    "emb,meta=load_emb_data('i2g')\n",
    "visualize(emb,meta,method='TSNE',dim=2, title='Image2Graph (TSNE)')"
   ]
  },
  {
   "cell_type": "code",
   "execution_count": 9,
   "metadata": {},
   "outputs": [
    {
     "name": "stdout",
     "output_type": "stream",
     "text": [
      "[t-SNE] Computing 16 nearest neighbors...\n",
      "[t-SNE] Indexed 32 samples in 0.000s...\n",
      "[t-SNE] Computed neighbors for 32 samples in 0.002s...\n",
      "[t-SNE] Computed conditional probabilities for sample 32 / 32\n",
      "[t-SNE] Mean sigma: 4.091255\n",
      "[t-SNE] KL divergence after 250 iterations with early exaggeration: 68.172462\n",
      "[t-SNE] KL divergence after 500 iterations: 0.705384\n"
     ]
    },
    {
     "data": {
      "application/vnd.plotly.v1+json": {
       "config": {
        "linkText": "Export to plot.ly",
        "plotlyServerURL": "https://plot.ly",
        "showLink": true
       },
       "data": [
        {
         "marker": {
          "color": "rgba(255, 153, 51, 1.0)",
          "line": {
           "width": 1.3
          },
          "opacity": 0.8,
          "size": 12,
          "symbol": "circle"
         },
         "mode": "markers",
         "name": "NIPS",
         "text": [
          "DropoutNet: Addressing Cold Start in Recommender Systems"
         ],
         "textfont": {
          "color": "#4D5663"
         },
         "type": "scatter",
         "x": [
          25.92603302001953
         ],
         "y": [
          -321.40472412109375
         ]
        },
        {
         "marker": {
          "color": "rgba(55, 128, 191, 1.0)",
          "line": {
           "width": 1.3
          },
          "opacity": 0.8,
          "size": 12,
          "symbol": "circle"
         },
         "mode": "markers",
         "name": "ICML",
         "text": [
          "Predict and Constrain: Modeling Cardinality in Deep Structured Prediction",
          "Video Pixel Networks",
          "Device Placement Optimization with Reinforcement Learning"
         ],
         "textfont": {
          "color": "#4D5663"
         },
         "type": "scatter",
         "x": [
          90.03044128417969,
          -4.70175313949585,
          91.21336364746094
         ],
         "y": [
          -105.54969024658203,
          -33.94697189331055,
          117.54501342773438
         ]
        },
        {
         "marker": {
          "color": "rgba(50, 171, 96, 1.0)",
          "line": {
           "width": 1.3
          },
          "opacity": 0.8,
          "size": 12,
          "symbol": "circle"
         },
         "mode": "markers",
         "name": "ECCV",
         "text": [
          "Conditional Image-Text Embedding Networks",
          "Progressive Neural Architecture Search",
          "Geolocation Estimation of Photos using a Hierarchical Model and Scene Classification",
          "Recovering 3D Planes from a Single Image via Convolutional Neural Networks",
          "Learning Single-View 3D Reconstruction with Limited Pose Supervision",
          "EC-Net: an Edge-aware Point set Consolidation Network",
          "License Plate Detection and Recognition in Unconstrained Scenarios",
          "Audio-Visual Event Localization in Unconstrained Videos"
         ],
         "textfont": {
          "color": "#4D5663"
         },
         "type": "scatter",
         "x": [
          -105.0475845336914,
          107.00784301757812,
          18.852535247802734,
          -149.28280639648438,
          142.23802185058594,
          190.9498748779297,
          -125.42005920410156,
          -58.26534652709961
         ],
         "y": [
          -108.43667602539062,
          -7.650047302246094,
          -288.61383056640625,
          150.24851989746094,
          -76.2254409790039,
          -190.18707275390625,
          48.80154800415039,
          101.94137573242188
         ]
        },
        {
         "marker": {
          "color": "rgba(128, 0, 128, 1.0)",
          "line": {
           "width": 1.3
          },
          "opacity": 0.8,
          "size": 12,
          "symbol": "circle"
         },
         "mode": "markers",
         "name": "ICCV",
         "text": [
          "Deep TextSpotter: An End-To-End Trainable Scene Text Localization and Recognition Framework",
          "Query-Guided Regression Network With Context Policy for Phrase Grounding",
          "DSLR-Quality Photos on Mobile Devices With Deep Convolutional Networks",
          "Sequence to Sequence - Video to Text",
          "Genetic CNN",
          "Curriculum Domain Adaptation for Semantic Segmentation of Urban Scenes"
         ],
         "textfont": {
          "color": "#4D5663"
         },
         "type": "scatter",
         "x": [
          -0.6829843521118164,
          185.06610107421875,
          -38.695945739746094,
          73.19281768798828,
          40.18064498901367,
          -77.57080078125
         ],
         "y": [
          -230.31460571289062,
          104.02159118652344,
          -217.42922973632812,
          -47.900814056396484,
          -66.28106689453125,
          58.67558288574219
         ]
        },
        {
         "marker": {
          "color": "rgba(219, 64, 82, 1.0)",
          "line": {
           "width": 1.3
          },
          "opacity": 0.8,
          "size": 12,
          "symbol": "circle"
         },
         "mode": "markers",
         "name": "CVPR",
         "text": [
          "AON: Towards Arbitrarily-Oriented Text Recognition",
          "CartoonGAN: Generative Adversarial Networks for Photo Cartoonization",
          "A Point Set Generation Network for 3D Object Reconstruction From a Single Image",
          "Dynamic Few-Shot Visual Learning Without Forgetting",
          "CondenseNet: An Efficient DenseNet Using Learned Group Convolutions",
          "Efficient Deep Learning for Stereo Matching",
          "3D Bounding Box Estimation Using Deep Learning and Geometry",
          "PieAPP: Perceptual Image-Error Assessment Through Pairwise Preference",
          "Rethinking the Inception Architecture for Computer Vision",
          "Scale-Recurrent Network for Deep Image Deblurring",
          "Two-Stream Convolutional Networks for Dynamic Texture Synthesis",
          "Full Resolution Image Compression With Recurrent Neural Networks",
          "PointNetVLAD: Deep Point Cloud Based Retrieval for Large-Scale Place Recognition",
          "Deep Mutual Learning"
         ],
         "textfont": {
          "color": "#4D5663"
         },
         "type": "scatter",
         "x": [
          171.25144958496094,
          63.7933349609375,
          81.2288589477539,
          -63.233970642089844,
          2.1301376819610596,
          -7.818683624267578,
          -50.19468688964844,
          -145.06893920898438,
          -31.759519577026367,
          -64.20958709716797,
          75.55903625488281,
          -81.32946014404297,
          -169.46722412109375,
          14.684334754943848
         ],
         "y": [
          136.39491271972656,
          94.57768249511719,
          175.33853149414062,
          -41.578948974609375,
          -86.1987533569336,
          -126.85193634033203,
          35.07476806640625,
          -19.73224449157715,
          268.0039978027344,
          268.0390930175781,
          -158.99136352539062,
          -79.97600555419922,
          -175.40234375,
          10.371476173400879
         ]
        }
       ],
       "layout": {
        "legend": {
         "bgcolor": "#F5F6F9",
         "font": {
          "color": "#4D5663"
         }
        },
        "paper_bgcolor": "#F5F6F9",
        "plot_bgcolor": "#F5F6F9",
        "template": {
         "data": {
          "bar": [
           {
            "error_x": {
             "color": "#2a3f5f"
            },
            "error_y": {
             "color": "#2a3f5f"
            },
            "marker": {
             "line": {
              "color": "#E5ECF6",
              "width": 0.5
             }
            },
            "type": "bar"
           }
          ],
          "barpolar": [
           {
            "marker": {
             "line": {
              "color": "#E5ECF6",
              "width": 0.5
             }
            },
            "type": "barpolar"
           }
          ],
          "carpet": [
           {
            "aaxis": {
             "endlinecolor": "#2a3f5f",
             "gridcolor": "white",
             "linecolor": "white",
             "minorgridcolor": "white",
             "startlinecolor": "#2a3f5f"
            },
            "baxis": {
             "endlinecolor": "#2a3f5f",
             "gridcolor": "white",
             "linecolor": "white",
             "minorgridcolor": "white",
             "startlinecolor": "#2a3f5f"
            },
            "type": "carpet"
           }
          ],
          "choropleth": [
           {
            "colorbar": {
             "outlinewidth": 0,
             "ticks": ""
            },
            "type": "choropleth"
           }
          ],
          "contour": [
           {
            "colorbar": {
             "outlinewidth": 0,
             "ticks": ""
            },
            "colorscale": [
             [
              0,
              "#0d0887"
             ],
             [
              0.1111111111111111,
              "#46039f"
             ],
             [
              0.2222222222222222,
              "#7201a8"
             ],
             [
              0.3333333333333333,
              "#9c179e"
             ],
             [
              0.4444444444444444,
              "#bd3786"
             ],
             [
              0.5555555555555556,
              "#d8576b"
             ],
             [
              0.6666666666666666,
              "#ed7953"
             ],
             [
              0.7777777777777778,
              "#fb9f3a"
             ],
             [
              0.8888888888888888,
              "#fdca26"
             ],
             [
              1,
              "#f0f921"
             ]
            ],
            "type": "contour"
           }
          ],
          "contourcarpet": [
           {
            "colorbar": {
             "outlinewidth": 0,
             "ticks": ""
            },
            "type": "contourcarpet"
           }
          ],
          "heatmap": [
           {
            "colorbar": {
             "outlinewidth": 0,
             "ticks": ""
            },
            "colorscale": [
             [
              0,
              "#0d0887"
             ],
             [
              0.1111111111111111,
              "#46039f"
             ],
             [
              0.2222222222222222,
              "#7201a8"
             ],
             [
              0.3333333333333333,
              "#9c179e"
             ],
             [
              0.4444444444444444,
              "#bd3786"
             ],
             [
              0.5555555555555556,
              "#d8576b"
             ],
             [
              0.6666666666666666,
              "#ed7953"
             ],
             [
              0.7777777777777778,
              "#fb9f3a"
             ],
             [
              0.8888888888888888,
              "#fdca26"
             ],
             [
              1,
              "#f0f921"
             ]
            ],
            "type": "heatmap"
           }
          ],
          "heatmapgl": [
           {
            "colorbar": {
             "outlinewidth": 0,
             "ticks": ""
            },
            "colorscale": [
             [
              0,
              "#0d0887"
             ],
             [
              0.1111111111111111,
              "#46039f"
             ],
             [
              0.2222222222222222,
              "#7201a8"
             ],
             [
              0.3333333333333333,
              "#9c179e"
             ],
             [
              0.4444444444444444,
              "#bd3786"
             ],
             [
              0.5555555555555556,
              "#d8576b"
             ],
             [
              0.6666666666666666,
              "#ed7953"
             ],
             [
              0.7777777777777778,
              "#fb9f3a"
             ],
             [
              0.8888888888888888,
              "#fdca26"
             ],
             [
              1,
              "#f0f921"
             ]
            ],
            "type": "heatmapgl"
           }
          ],
          "histogram": [
           {
            "marker": {
             "colorbar": {
              "outlinewidth": 0,
              "ticks": ""
             }
            },
            "type": "histogram"
           }
          ],
          "histogram2d": [
           {
            "colorbar": {
             "outlinewidth": 0,
             "ticks": ""
            },
            "colorscale": [
             [
              0,
              "#0d0887"
             ],
             [
              0.1111111111111111,
              "#46039f"
             ],
             [
              0.2222222222222222,
              "#7201a8"
             ],
             [
              0.3333333333333333,
              "#9c179e"
             ],
             [
              0.4444444444444444,
              "#bd3786"
             ],
             [
              0.5555555555555556,
              "#d8576b"
             ],
             [
              0.6666666666666666,
              "#ed7953"
             ],
             [
              0.7777777777777778,
              "#fb9f3a"
             ],
             [
              0.8888888888888888,
              "#fdca26"
             ],
             [
              1,
              "#f0f921"
             ]
            ],
            "type": "histogram2d"
           }
          ],
          "histogram2dcontour": [
           {
            "colorbar": {
             "outlinewidth": 0,
             "ticks": ""
            },
            "colorscale": [
             [
              0,
              "#0d0887"
             ],
             [
              0.1111111111111111,
              "#46039f"
             ],
             [
              0.2222222222222222,
              "#7201a8"
             ],
             [
              0.3333333333333333,
              "#9c179e"
             ],
             [
              0.4444444444444444,
              "#bd3786"
             ],
             [
              0.5555555555555556,
              "#d8576b"
             ],
             [
              0.6666666666666666,
              "#ed7953"
             ],
             [
              0.7777777777777778,
              "#fb9f3a"
             ],
             [
              0.8888888888888888,
              "#fdca26"
             ],
             [
              1,
              "#f0f921"
             ]
            ],
            "type": "histogram2dcontour"
           }
          ],
          "mesh3d": [
           {
            "colorbar": {
             "outlinewidth": 0,
             "ticks": ""
            },
            "type": "mesh3d"
           }
          ],
          "parcoords": [
           {
            "line": {
             "colorbar": {
              "outlinewidth": 0,
              "ticks": ""
             }
            },
            "type": "parcoords"
           }
          ],
          "pie": [
           {
            "automargin": true,
            "type": "pie"
           }
          ],
          "scatter": [
           {
            "marker": {
             "colorbar": {
              "outlinewidth": 0,
              "ticks": ""
             }
            },
            "type": "scatter"
           }
          ],
          "scatter3d": [
           {
            "line": {
             "colorbar": {
              "outlinewidth": 0,
              "ticks": ""
             }
            },
            "marker": {
             "colorbar": {
              "outlinewidth": 0,
              "ticks": ""
             }
            },
            "type": "scatter3d"
           }
          ],
          "scattercarpet": [
           {
            "marker": {
             "colorbar": {
              "outlinewidth": 0,
              "ticks": ""
             }
            },
            "type": "scattercarpet"
           }
          ],
          "scattergeo": [
           {
            "marker": {
             "colorbar": {
              "outlinewidth": 0,
              "ticks": ""
             }
            },
            "type": "scattergeo"
           }
          ],
          "scattergl": [
           {
            "marker": {
             "colorbar": {
              "outlinewidth": 0,
              "ticks": ""
             }
            },
            "type": "scattergl"
           }
          ],
          "scattermapbox": [
           {
            "marker": {
             "colorbar": {
              "outlinewidth": 0,
              "ticks": ""
             }
            },
            "type": "scattermapbox"
           }
          ],
          "scatterpolar": [
           {
            "marker": {
             "colorbar": {
              "outlinewidth": 0,
              "ticks": ""
             }
            },
            "type": "scatterpolar"
           }
          ],
          "scatterpolargl": [
           {
            "marker": {
             "colorbar": {
              "outlinewidth": 0,
              "ticks": ""
             }
            },
            "type": "scatterpolargl"
           }
          ],
          "scatterternary": [
           {
            "marker": {
             "colorbar": {
              "outlinewidth": 0,
              "ticks": ""
             }
            },
            "type": "scatterternary"
           }
          ],
          "surface": [
           {
            "colorbar": {
             "outlinewidth": 0,
             "ticks": ""
            },
            "colorscale": [
             [
              0,
              "#0d0887"
             ],
             [
              0.1111111111111111,
              "#46039f"
             ],
             [
              0.2222222222222222,
              "#7201a8"
             ],
             [
              0.3333333333333333,
              "#9c179e"
             ],
             [
              0.4444444444444444,
              "#bd3786"
             ],
             [
              0.5555555555555556,
              "#d8576b"
             ],
             [
              0.6666666666666666,
              "#ed7953"
             ],
             [
              0.7777777777777778,
              "#fb9f3a"
             ],
             [
              0.8888888888888888,
              "#fdca26"
             ],
             [
              1,
              "#f0f921"
             ]
            ],
            "type": "surface"
           }
          ],
          "table": [
           {
            "cells": {
             "fill": {
              "color": "#EBF0F8"
             },
             "line": {
              "color": "white"
             }
            },
            "header": {
             "fill": {
              "color": "#C8D4E3"
             },
             "line": {
              "color": "white"
             }
            },
            "type": "table"
           }
          ]
         },
         "layout": {
          "annotationdefaults": {
           "arrowcolor": "#2a3f5f",
           "arrowhead": 0,
           "arrowwidth": 1
          },
          "coloraxis": {
           "colorbar": {
            "outlinewidth": 0,
            "ticks": ""
           }
          },
          "colorscale": {
           "diverging": [
            [
             0,
             "#8e0152"
            ],
            [
             0.1,
             "#c51b7d"
            ],
            [
             0.2,
             "#de77ae"
            ],
            [
             0.3,
             "#f1b6da"
            ],
            [
             0.4,
             "#fde0ef"
            ],
            [
             0.5,
             "#f7f7f7"
            ],
            [
             0.6,
             "#e6f5d0"
            ],
            [
             0.7,
             "#b8e186"
            ],
            [
             0.8,
             "#7fbc41"
            ],
            [
             0.9,
             "#4d9221"
            ],
            [
             1,
             "#276419"
            ]
           ],
           "sequential": [
            [
             0,
             "#0d0887"
            ],
            [
             0.1111111111111111,
             "#46039f"
            ],
            [
             0.2222222222222222,
             "#7201a8"
            ],
            [
             0.3333333333333333,
             "#9c179e"
            ],
            [
             0.4444444444444444,
             "#bd3786"
            ],
            [
             0.5555555555555556,
             "#d8576b"
            ],
            [
             0.6666666666666666,
             "#ed7953"
            ],
            [
             0.7777777777777778,
             "#fb9f3a"
            ],
            [
             0.8888888888888888,
             "#fdca26"
            ],
            [
             1,
             "#f0f921"
            ]
           ],
           "sequentialminus": [
            [
             0,
             "#0d0887"
            ],
            [
             0.1111111111111111,
             "#46039f"
            ],
            [
             0.2222222222222222,
             "#7201a8"
            ],
            [
             0.3333333333333333,
             "#9c179e"
            ],
            [
             0.4444444444444444,
             "#bd3786"
            ],
            [
             0.5555555555555556,
             "#d8576b"
            ],
            [
             0.6666666666666666,
             "#ed7953"
            ],
            [
             0.7777777777777778,
             "#fb9f3a"
            ],
            [
             0.8888888888888888,
             "#fdca26"
            ],
            [
             1,
             "#f0f921"
            ]
           ]
          },
          "colorway": [
           "#636efa",
           "#EF553B",
           "#00cc96",
           "#ab63fa",
           "#FFA15A",
           "#19d3f3",
           "#FF6692",
           "#B6E880",
           "#FF97FF",
           "#FECB52"
          ],
          "font": {
           "color": "#2a3f5f"
          },
          "geo": {
           "bgcolor": "white",
           "lakecolor": "white",
           "landcolor": "#E5ECF6",
           "showlakes": true,
           "showland": true,
           "subunitcolor": "white"
          },
          "hoverlabel": {
           "align": "left"
          },
          "hovermode": "closest",
          "mapbox": {
           "style": "light"
          },
          "paper_bgcolor": "white",
          "plot_bgcolor": "#E5ECF6",
          "polar": {
           "angularaxis": {
            "gridcolor": "white",
            "linecolor": "white",
            "ticks": ""
           },
           "bgcolor": "#E5ECF6",
           "radialaxis": {
            "gridcolor": "white",
            "linecolor": "white",
            "ticks": ""
           }
          },
          "scene": {
           "xaxis": {
            "backgroundcolor": "#E5ECF6",
            "gridcolor": "white",
            "gridwidth": 2,
            "linecolor": "white",
            "showbackground": true,
            "ticks": "",
            "zerolinecolor": "white"
           },
           "yaxis": {
            "backgroundcolor": "#E5ECF6",
            "gridcolor": "white",
            "gridwidth": 2,
            "linecolor": "white",
            "showbackground": true,
            "ticks": "",
            "zerolinecolor": "white"
           },
           "zaxis": {
            "backgroundcolor": "#E5ECF6",
            "gridcolor": "white",
            "gridwidth": 2,
            "linecolor": "white",
            "showbackground": true,
            "ticks": "",
            "zerolinecolor": "white"
           }
          },
          "shapedefaults": {
           "line": {
            "color": "#2a3f5f"
           }
          },
          "ternary": {
           "aaxis": {
            "gridcolor": "white",
            "linecolor": "white",
            "ticks": ""
           },
           "baxis": {
            "gridcolor": "white",
            "linecolor": "white",
            "ticks": ""
           },
           "bgcolor": "#E5ECF6",
           "caxis": {
            "gridcolor": "white",
            "linecolor": "white",
            "ticks": ""
           }
          },
          "title": {
           "x": 0.05
          },
          "xaxis": {
           "automargin": true,
           "gridcolor": "white",
           "linecolor": "white",
           "ticks": "",
           "title": {
            "standoff": 15
           },
           "zerolinecolor": "white",
           "zerolinewidth": 2
          },
          "yaxis": {
           "automargin": true,
           "gridcolor": "white",
           "linecolor": "white",
           "ticks": "",
           "title": {
            "standoff": 15
           },
           "zerolinecolor": "white",
           "zerolinewidth": 2
          }
         }
        },
        "title": {
         "font": {
          "color": "#4D5663"
         },
         "text": "Code2Graph (TSNE)"
        },
        "xaxis": {
         "gridcolor": "#E1E5ED",
         "showgrid": true,
         "tickfont": {
          "color": "#4D5663"
         },
         "title": {
          "font": {
           "color": "#4D5663"
          },
          "text": ""
         },
         "zerolinecolor": "#E1E5ED"
        },
        "yaxis": {
         "gridcolor": "#E1E5ED",
         "showgrid": true,
         "tickfont": {
          "color": "#4D5663"
         },
         "title": {
          "font": {
           "color": "#4D5663"
          },
          "text": ""
         },
         "zerolinecolor": "#E1E5ED"
        }
       }
      },
      "text/html": [
       "<div>\n",
       "        \n",
       "        \n",
       "            <div id=\"a6ae562c-7a56-4243-ad1a-199cfeef5b6d\" class=\"plotly-graph-div\" style=\"height:525px; width:100%;\"></div>\n",
       "            <script type=\"text/javascript\">\n",
       "                require([\"plotly\"], function(Plotly) {\n",
       "                    window.PLOTLYENV=window.PLOTLYENV || {};\n",
       "                    window.PLOTLYENV.BASE_URL='https://plot.ly';\n",
       "                    \n",
       "                if (document.getElementById(\"a6ae562c-7a56-4243-ad1a-199cfeef5b6d\")) {\n",
       "                    Plotly.newPlot(\n",
       "                        'a6ae562c-7a56-4243-ad1a-199cfeef5b6d',\n",
       "                        [{\"marker\": {\"color\": \"rgba(255, 153, 51, 1.0)\", \"line\": {\"width\": 1.3}, \"opacity\": 0.8, \"size\": 12, \"symbol\": \"circle\"}, \"mode\": \"markers\", \"name\": \"NIPS\", \"text\": [\"DropoutNet: Addressing Cold Start in Recommender Systems\"], \"textfont\": {\"color\": \"#4D5663\"}, \"type\": \"scatter\", \"x\": [25.92603302001953], \"y\": [-321.40472412109375]}, {\"marker\": {\"color\": \"rgba(55, 128, 191, 1.0)\", \"line\": {\"width\": 1.3}, \"opacity\": 0.8, \"size\": 12, \"symbol\": \"circle\"}, \"mode\": \"markers\", \"name\": \"ICML\", \"text\": [\"Predict and Constrain: Modeling Cardinality in Deep Structured Prediction\", \"Video Pixel Networks\", \"Device Placement Optimization with Reinforcement Learning\"], \"textfont\": {\"color\": \"#4D5663\"}, \"type\": \"scatter\", \"x\": [90.03044128417969, -4.70175313949585, 91.21336364746094], \"y\": [-105.54969024658203, -33.94697189331055, 117.54501342773438]}, {\"marker\": {\"color\": \"rgba(50, 171, 96, 1.0)\", \"line\": {\"width\": 1.3}, \"opacity\": 0.8, \"size\": 12, \"symbol\": \"circle\"}, \"mode\": \"markers\", \"name\": \"ECCV\", \"text\": [\"Conditional Image-Text Embedding Networks\", \"Progressive Neural Architecture Search\", \"Geolocation Estimation of Photos using a Hierarchical Model and Scene Classification\", \"Recovering 3D Planes from a Single Image via Convolutional Neural Networks\", \"Learning Single-View 3D Reconstruction with Limited Pose Supervision\", \"EC-Net: an Edge-aware Point set Consolidation Network\", \"License Plate Detection and Recognition in Unconstrained Scenarios\", \"Audio-Visual Event Localization in Unconstrained Videos\"], \"textfont\": {\"color\": \"#4D5663\"}, \"type\": \"scatter\", \"x\": [-105.0475845336914, 107.00784301757812, 18.852535247802734, -149.28280639648438, 142.23802185058594, 190.9498748779297, -125.42005920410156, -58.26534652709961], \"y\": [-108.43667602539062, -7.650047302246094, -288.61383056640625, 150.24851989746094, -76.2254409790039, -190.18707275390625, 48.80154800415039, 101.94137573242188]}, {\"marker\": {\"color\": \"rgba(128, 0, 128, 1.0)\", \"line\": {\"width\": 1.3}, \"opacity\": 0.8, \"size\": 12, \"symbol\": \"circle\"}, \"mode\": \"markers\", \"name\": \"ICCV\", \"text\": [\"Deep TextSpotter: An End-To-End Trainable Scene Text Localization and Recognition Framework\", \"Query-Guided Regression Network With Context Policy for Phrase Grounding\", \"DSLR-Quality Photos on Mobile Devices With Deep Convolutional Networks\", \"Sequence to Sequence - Video to Text\", \"Genetic CNN\", \"Curriculum Domain Adaptation for Semantic Segmentation of Urban Scenes\"], \"textfont\": {\"color\": \"#4D5663\"}, \"type\": \"scatter\", \"x\": [-0.6829843521118164, 185.06610107421875, -38.695945739746094, 73.19281768798828, 40.18064498901367, -77.57080078125], \"y\": [-230.31460571289062, 104.02159118652344, -217.42922973632812, -47.900814056396484, -66.28106689453125, 58.67558288574219]}, {\"marker\": {\"color\": \"rgba(219, 64, 82, 1.0)\", \"line\": {\"width\": 1.3}, \"opacity\": 0.8, \"size\": 12, \"symbol\": \"circle\"}, \"mode\": \"markers\", \"name\": \"CVPR\", \"text\": [\"AON: Towards Arbitrarily-Oriented Text Recognition\", \"CartoonGAN: Generative Adversarial Networks for Photo Cartoonization\", \"A Point Set Generation Network for 3D Object Reconstruction From a Single Image\", \"Dynamic Few-Shot Visual Learning Without Forgetting\", \"CondenseNet: An Efficient DenseNet Using Learned Group Convolutions\", \"Efficient Deep Learning for Stereo Matching\", \"3D Bounding Box Estimation Using Deep Learning and Geometry\", \"PieAPP: Perceptual Image-Error Assessment Through Pairwise Preference\", \"Rethinking the Inception Architecture for Computer Vision\", \"Scale-Recurrent Network for Deep Image Deblurring\", \"Two-Stream Convolutional Networks for Dynamic Texture Synthesis\", \"Full Resolution Image Compression With Recurrent Neural Networks\", \"PointNetVLAD: Deep Point Cloud Based Retrieval for Large-Scale Place Recognition\", \"Deep Mutual Learning\"], \"textfont\": {\"color\": \"#4D5663\"}, \"type\": \"scatter\", \"x\": [171.25144958496094, 63.7933349609375, 81.2288589477539, -63.233970642089844, 2.1301376819610596, -7.818683624267578, -50.19468688964844, -145.06893920898438, -31.759519577026367, -64.20958709716797, 75.55903625488281, -81.32946014404297, -169.46722412109375, 14.684334754943848], \"y\": [136.39491271972656, 94.57768249511719, 175.33853149414062, -41.578948974609375, -86.1987533569336, -126.85193634033203, 35.07476806640625, -19.73224449157715, 268.0039978027344, 268.0390930175781, -158.99136352539062, -79.97600555419922, -175.40234375, 10.371476173400879]}],\n",
       "                        {\"legend\": {\"bgcolor\": \"#F5F6F9\", \"font\": {\"color\": \"#4D5663\"}}, \"paper_bgcolor\": \"#F5F6F9\", \"plot_bgcolor\": \"#F5F6F9\", \"template\": {\"data\": {\"bar\": [{\"error_x\": {\"color\": \"#2a3f5f\"}, \"error_y\": {\"color\": \"#2a3f5f\"}, \"marker\": {\"line\": {\"color\": \"#E5ECF6\", \"width\": 0.5}}, \"type\": \"bar\"}], \"barpolar\": [{\"marker\": {\"line\": {\"color\": \"#E5ECF6\", \"width\": 0.5}}, \"type\": \"barpolar\"}], \"carpet\": [{\"aaxis\": {\"endlinecolor\": \"#2a3f5f\", \"gridcolor\": \"white\", \"linecolor\": \"white\", \"minorgridcolor\": \"white\", \"startlinecolor\": \"#2a3f5f\"}, \"baxis\": {\"endlinecolor\": \"#2a3f5f\", \"gridcolor\": \"white\", \"linecolor\": \"white\", \"minorgridcolor\": \"white\", \"startlinecolor\": \"#2a3f5f\"}, \"type\": \"carpet\"}], \"choropleth\": [{\"colorbar\": {\"outlinewidth\": 0, \"ticks\": \"\"}, \"type\": \"choropleth\"}], \"contour\": [{\"colorbar\": {\"outlinewidth\": 0, \"ticks\": \"\"}, \"colorscale\": [[0.0, \"#0d0887\"], [0.1111111111111111, \"#46039f\"], [0.2222222222222222, \"#7201a8\"], [0.3333333333333333, \"#9c179e\"], [0.4444444444444444, \"#bd3786\"], [0.5555555555555556, \"#d8576b\"], [0.6666666666666666, \"#ed7953\"], [0.7777777777777778, \"#fb9f3a\"], [0.8888888888888888, \"#fdca26\"], [1.0, \"#f0f921\"]], \"type\": \"contour\"}], \"contourcarpet\": [{\"colorbar\": {\"outlinewidth\": 0, \"ticks\": \"\"}, \"type\": \"contourcarpet\"}], \"heatmap\": [{\"colorbar\": {\"outlinewidth\": 0, \"ticks\": \"\"}, \"colorscale\": [[0.0, \"#0d0887\"], [0.1111111111111111, \"#46039f\"], [0.2222222222222222, \"#7201a8\"], [0.3333333333333333, \"#9c179e\"], [0.4444444444444444, \"#bd3786\"], [0.5555555555555556, \"#d8576b\"], [0.6666666666666666, \"#ed7953\"], [0.7777777777777778, \"#fb9f3a\"], [0.8888888888888888, \"#fdca26\"], [1.0, \"#f0f921\"]], \"type\": \"heatmap\"}], \"heatmapgl\": [{\"colorbar\": {\"outlinewidth\": 0, \"ticks\": \"\"}, \"colorscale\": [[0.0, \"#0d0887\"], [0.1111111111111111, \"#46039f\"], [0.2222222222222222, \"#7201a8\"], [0.3333333333333333, \"#9c179e\"], [0.4444444444444444, \"#bd3786\"], [0.5555555555555556, \"#d8576b\"], [0.6666666666666666, \"#ed7953\"], [0.7777777777777778, \"#fb9f3a\"], [0.8888888888888888, \"#fdca26\"], [1.0, \"#f0f921\"]], \"type\": \"heatmapgl\"}], \"histogram\": [{\"marker\": {\"colorbar\": {\"outlinewidth\": 0, \"ticks\": \"\"}}, \"type\": \"histogram\"}], \"histogram2d\": [{\"colorbar\": {\"outlinewidth\": 0, \"ticks\": \"\"}, \"colorscale\": [[0.0, \"#0d0887\"], [0.1111111111111111, \"#46039f\"], [0.2222222222222222, \"#7201a8\"], [0.3333333333333333, \"#9c179e\"], [0.4444444444444444, \"#bd3786\"], [0.5555555555555556, \"#d8576b\"], [0.6666666666666666, \"#ed7953\"], [0.7777777777777778, \"#fb9f3a\"], [0.8888888888888888, \"#fdca26\"], [1.0, \"#f0f921\"]], \"type\": \"histogram2d\"}], \"histogram2dcontour\": [{\"colorbar\": {\"outlinewidth\": 0, \"ticks\": \"\"}, \"colorscale\": [[0.0, \"#0d0887\"], [0.1111111111111111, \"#46039f\"], [0.2222222222222222, \"#7201a8\"], [0.3333333333333333, \"#9c179e\"], [0.4444444444444444, \"#bd3786\"], [0.5555555555555556, \"#d8576b\"], [0.6666666666666666, \"#ed7953\"], [0.7777777777777778, \"#fb9f3a\"], [0.8888888888888888, \"#fdca26\"], [1.0, \"#f0f921\"]], \"type\": \"histogram2dcontour\"}], \"mesh3d\": [{\"colorbar\": {\"outlinewidth\": 0, \"ticks\": \"\"}, \"type\": \"mesh3d\"}], \"parcoords\": [{\"line\": {\"colorbar\": {\"outlinewidth\": 0, \"ticks\": \"\"}}, \"type\": \"parcoords\"}], \"pie\": [{\"automargin\": true, \"type\": \"pie\"}], \"scatter\": [{\"marker\": {\"colorbar\": {\"outlinewidth\": 0, \"ticks\": \"\"}}, \"type\": \"scatter\"}], \"scatter3d\": [{\"line\": {\"colorbar\": {\"outlinewidth\": 0, \"ticks\": \"\"}}, \"marker\": {\"colorbar\": {\"outlinewidth\": 0, \"ticks\": \"\"}}, \"type\": \"scatter3d\"}], \"scattercarpet\": [{\"marker\": {\"colorbar\": {\"outlinewidth\": 0, \"ticks\": \"\"}}, \"type\": \"scattercarpet\"}], \"scattergeo\": [{\"marker\": {\"colorbar\": {\"outlinewidth\": 0, \"ticks\": \"\"}}, \"type\": \"scattergeo\"}], \"scattergl\": [{\"marker\": {\"colorbar\": {\"outlinewidth\": 0, \"ticks\": \"\"}}, \"type\": \"scattergl\"}], \"scattermapbox\": [{\"marker\": {\"colorbar\": {\"outlinewidth\": 0, \"ticks\": \"\"}}, \"type\": \"scattermapbox\"}], \"scatterpolar\": [{\"marker\": {\"colorbar\": {\"outlinewidth\": 0, \"ticks\": \"\"}}, \"type\": \"scatterpolar\"}], \"scatterpolargl\": [{\"marker\": {\"colorbar\": {\"outlinewidth\": 0, \"ticks\": \"\"}}, \"type\": \"scatterpolargl\"}], \"scatterternary\": [{\"marker\": {\"colorbar\": {\"outlinewidth\": 0, \"ticks\": \"\"}}, \"type\": \"scatterternary\"}], \"surface\": [{\"colorbar\": {\"outlinewidth\": 0, \"ticks\": \"\"}, \"colorscale\": [[0.0, \"#0d0887\"], [0.1111111111111111, \"#46039f\"], [0.2222222222222222, \"#7201a8\"], [0.3333333333333333, \"#9c179e\"], [0.4444444444444444, \"#bd3786\"], [0.5555555555555556, \"#d8576b\"], [0.6666666666666666, \"#ed7953\"], [0.7777777777777778, \"#fb9f3a\"], [0.8888888888888888, \"#fdca26\"], [1.0, \"#f0f921\"]], \"type\": \"surface\"}], \"table\": [{\"cells\": {\"fill\": {\"color\": \"#EBF0F8\"}, \"line\": {\"color\": \"white\"}}, \"header\": {\"fill\": {\"color\": \"#C8D4E3\"}, \"line\": {\"color\": \"white\"}}, \"type\": \"table\"}]}, \"layout\": {\"annotationdefaults\": {\"arrowcolor\": \"#2a3f5f\", \"arrowhead\": 0, \"arrowwidth\": 1}, \"coloraxis\": {\"colorbar\": {\"outlinewidth\": 0, \"ticks\": \"\"}}, \"colorscale\": {\"diverging\": [[0, \"#8e0152\"], [0.1, \"#c51b7d\"], [0.2, \"#de77ae\"], [0.3, \"#f1b6da\"], [0.4, \"#fde0ef\"], [0.5, \"#f7f7f7\"], [0.6, \"#e6f5d0\"], [0.7, \"#b8e186\"], [0.8, \"#7fbc41\"], [0.9, \"#4d9221\"], [1, \"#276419\"]], \"sequential\": [[0.0, \"#0d0887\"], [0.1111111111111111, \"#46039f\"], [0.2222222222222222, \"#7201a8\"], [0.3333333333333333, \"#9c179e\"], [0.4444444444444444, \"#bd3786\"], [0.5555555555555556, \"#d8576b\"], [0.6666666666666666, \"#ed7953\"], [0.7777777777777778, \"#fb9f3a\"], [0.8888888888888888, \"#fdca26\"], [1.0, \"#f0f921\"]], \"sequentialminus\": [[0.0, \"#0d0887\"], [0.1111111111111111, \"#46039f\"], [0.2222222222222222, \"#7201a8\"], [0.3333333333333333, \"#9c179e\"], [0.4444444444444444, \"#bd3786\"], [0.5555555555555556, \"#d8576b\"], [0.6666666666666666, \"#ed7953\"], [0.7777777777777778, \"#fb9f3a\"], [0.8888888888888888, \"#fdca26\"], [1.0, \"#f0f921\"]]}, \"colorway\": [\"#636efa\", \"#EF553B\", \"#00cc96\", \"#ab63fa\", \"#FFA15A\", \"#19d3f3\", \"#FF6692\", \"#B6E880\", \"#FF97FF\", \"#FECB52\"], \"font\": {\"color\": \"#2a3f5f\"}, \"geo\": {\"bgcolor\": \"white\", \"lakecolor\": \"white\", \"landcolor\": \"#E5ECF6\", \"showlakes\": true, \"showland\": true, \"subunitcolor\": \"white\"}, \"hoverlabel\": {\"align\": \"left\"}, \"hovermode\": \"closest\", \"mapbox\": {\"style\": \"light\"}, \"paper_bgcolor\": \"white\", \"plot_bgcolor\": \"#E5ECF6\", \"polar\": {\"angularaxis\": {\"gridcolor\": \"white\", \"linecolor\": \"white\", \"ticks\": \"\"}, \"bgcolor\": \"#E5ECF6\", \"radialaxis\": {\"gridcolor\": \"white\", \"linecolor\": \"white\", \"ticks\": \"\"}}, \"scene\": {\"xaxis\": {\"backgroundcolor\": \"#E5ECF6\", \"gridcolor\": \"white\", \"gridwidth\": 2, \"linecolor\": \"white\", \"showbackground\": true, \"ticks\": \"\", \"zerolinecolor\": \"white\"}, \"yaxis\": {\"backgroundcolor\": \"#E5ECF6\", \"gridcolor\": \"white\", \"gridwidth\": 2, \"linecolor\": \"white\", \"showbackground\": true, \"ticks\": \"\", \"zerolinecolor\": \"white\"}, \"zaxis\": {\"backgroundcolor\": \"#E5ECF6\", \"gridcolor\": \"white\", \"gridwidth\": 2, \"linecolor\": \"white\", \"showbackground\": true, \"ticks\": \"\", \"zerolinecolor\": \"white\"}}, \"shapedefaults\": {\"line\": {\"color\": \"#2a3f5f\"}}, \"ternary\": {\"aaxis\": {\"gridcolor\": \"white\", \"linecolor\": \"white\", \"ticks\": \"\"}, \"baxis\": {\"gridcolor\": \"white\", \"linecolor\": \"white\", \"ticks\": \"\"}, \"bgcolor\": \"#E5ECF6\", \"caxis\": {\"gridcolor\": \"white\", \"linecolor\": \"white\", \"ticks\": \"\"}}, \"title\": {\"x\": 0.05}, \"xaxis\": {\"automargin\": true, \"gridcolor\": \"white\", \"linecolor\": \"white\", \"ticks\": \"\", \"title\": {\"standoff\": 15}, \"zerolinecolor\": \"white\", \"zerolinewidth\": 2}, \"yaxis\": {\"automargin\": true, \"gridcolor\": \"white\", \"linecolor\": \"white\", \"ticks\": \"\", \"title\": {\"standoff\": 15}, \"zerolinecolor\": \"white\", \"zerolinewidth\": 2}}}, \"title\": {\"font\": {\"color\": \"#4D5663\"}, \"text\": \"Code2Graph (TSNE)\"}, \"xaxis\": {\"gridcolor\": \"#E1E5ED\", \"showgrid\": true, \"tickfont\": {\"color\": \"#4D5663\"}, \"title\": {\"font\": {\"color\": \"#4D5663\"}, \"text\": \"\"}, \"zerolinecolor\": \"#E1E5ED\"}, \"yaxis\": {\"gridcolor\": \"#E1E5ED\", \"showgrid\": true, \"tickfont\": {\"color\": \"#4D5663\"}, \"title\": {\"font\": {\"color\": \"#4D5663\"}, \"text\": \"\"}, \"zerolinecolor\": \"#E1E5ED\"}},\n",
       "                        {\"showLink\": true, \"linkText\": \"Export to plot.ly\", \"plotlyServerURL\": \"https://plot.ly\", \"responsive\": true}\n",
       "                    ).then(function(){\n",
       "                            \n",
       "var gd = document.getElementById('a6ae562c-7a56-4243-ad1a-199cfeef5b6d');\n",
       "var x = new MutationObserver(function (mutations, observer) {{\n",
       "        var display = window.getComputedStyle(gd).display;\n",
       "        if (!display || display === 'none') {{\n",
       "            console.log([gd, 'removed!']);\n",
       "            Plotly.purge(gd);\n",
       "            observer.disconnect();\n",
       "        }}\n",
       "}});\n",
       "\n",
       "// Listen for the removal of the full notebook cells\n",
       "var notebookContainer = gd.closest('#notebook-container');\n",
       "if (notebookContainer) {{\n",
       "    x.observe(notebookContainer, {childList: true});\n",
       "}}\n",
       "\n",
       "// Listen for the clearing of the current output cell\n",
       "var outputEl = gd.closest('.output');\n",
       "if (outputEl) {{\n",
       "    x.observe(outputEl, {childList: true});\n",
       "}}\n",
       "\n",
       "                        })\n",
       "                };\n",
       "                });\n",
       "            </script>\n",
       "        </div>"
      ]
     },
     "metadata": {},
     "output_type": "display_data"
    }
   ],
   "source": [
    "### Code2Graph (on subset of repositories)\n",
    "emb,meta=load_emb_data('c2g')\n",
    "visualize(emb,meta,method='TSNE',dim=2, n_iter=500, title='Code2Graph (TSNE)')"
   ]
  },
  {
   "cell_type": "markdown",
   "metadata": {},
   "source": [
    "## Visualizing Embedding of the Combined Graph "
   ]
  },
  {
   "cell_type": "code",
   "execution_count": 10,
   "metadata": {},
   "outputs": [
    {
     "name": "stdout",
     "output_type": "stream",
     "text": [
      "[t-SNE] Computing 16 nearest neighbors...\n",
      "[t-SNE] Indexed 654 samples in 0.001s...\n",
      "[t-SNE] Computed neighbors for 654 samples in 0.012s...\n",
      "[t-SNE] Computed conditional probabilities for sample 654 / 654\n",
      "[t-SNE] Mean sigma: 0.000000\n",
      "[t-SNE] KL divergence after 250 iterations with early exaggeration: 71.061691\n",
      "[t-SNE] KL divergence after 300 iterations: 1.110954\n"
     ]
    },
    {
     "data": {
      "application/vnd.plotly.v1+json": {
       "config": {
        "linkText": "Export to plot.ly",
        "plotlyServerURL": "https://plot.ly",
        "showLink": true
       },
       "data": [
        {
         "marker": {
          "color": "rgba(255, 153, 51, 1.0)",
          "line": {
           "width": 1.3
          },
          "opacity": 0.8,
          "size": 12,
          "symbol": "circle"
         },
         "mode": "markers",
         "name": "NIPS",
         "text": [
          "Visualizing the Loss Landscape of Neural Nets",
          "PointCNN",
          "L4: Practical loss-based stepsize adaptation for deep learning",
          "Multimodal Generative Models for Scalable Weakly-Supervised Learning",
          "Neural Voice Cloning with a Few Samples",
          "The Description Length of Deep Learning models",
          "Deep Defense: Training DNNs with Improved Adversarial Robustness",
          "Adversarial Logit Pairing",
          "Realistic Evaluation of Deep Semi-Supervised Learning Algorithms",
          "DVAE#: Discrete Variational Autoencoders with Relaxed Boltzmann Priors",
          "BourGAN: Generative Networks with Metric Embeddings",
          "Bilinear Attention Networks",
          "Breaking the Activation Function Bottleneck through Adaptive Parameterization",
          "Hyperbolic Neural Networks",
          "Learning towards Minimum Hyperspherical Energy",
          "Generalizing to Unseen Domains via Adversarial Data Augmentation",
          "On GANs and GMMs",
          "Assessing Generative Models via Precision and Recall",
          "Relational recurrent neural networks",
          "Unsupervised Attention-guided Image-to-Image Translation",
          "Speaker-Follower Models for Vision-and-Language Navigation",
          "ATOMO: Communication-efficient Learning via Atomic Sparsification",
          "Generative Neural Machine Translation",
          "One-Shot Unsupervised Cross Domain Translation",
          "Banach Wasserstein GAN",
          "Neural Code Comprehension: A Learnable Representation of Code Semantics",
          "3D Steerable CNNs: Learning Rotationally Equivariant Features in Volumetric Data",
          "Glow: Generative Flow with Invertible 1x1 Convolutions",
          "Discovery of Latent 3D Keypoints via End-to-end Geometric Reasoning",
          "An intriguing failing of convolutional neural networks and the CoordConv solution",
          "Latent Alignment and Variational Attention",
          "Neural Arithmetic Logic Units",
          "Adaptive Skip Intervals: Temporal Abstraction for Recurrent Dynamical Models",
          "Video-to-Video Synthesis",
          "Generalisation in humans and deep neural networks",
          "A Unified Feature Disentangler for Multi-Domain Image Translation and Manipulation",
          "Neural Guided Constraint Logic Programming for Program Synthesis",
          "Deep Subspace Clustering Networks",
          "Dilated Recurrent Neural Networks",
          "Structured Embedding Models for Grouped Data",
          "Best of Both Worlds: Transferring Knowledge from Discriminative Learning to a Generative Visual Dialog Model",
          "Learning a Multi-View Stereo Machine",
          "Universal Style Transfer via Feature Transforms",
          "f-GANs in an Information Geometric Nutshell",
          "Toward Multimodal Image-to-Image Translation",
          "One-Sided Unsupervised Domain Mapping",
          "Deep Mean-Shift Priors for Image Restoration",
          "SchNet: A continuous-filter convolutional neural network for modeling quantum interactions",
          "Inductive Representation Learning on Large Graphs",
          "Mean teachers are better role models: Weight-averaged consistency targets improve semi-supervised deep learning results",
          "TernGrad: Ternary Gradients to Reduce Communication in Distributed Deep Learning",
          "NeuralFDR: Learning Discovery Thresholds from Hypothesis Features",
          "Learning Multiple Tasks with Multilinear Relationship Networks",
          "Train longer, generalize better: closing the generalization gap in large batch training of neural networks",
          "The Numerics of GANs",
          "Stabilizing Training of Generative Adversarial Networks through Regularization",
          "Training Deep Networks without Learning Rates Through Coin Betting",
          "MMD GAN: Towards Deeper Understanding of Moment Matching Network",
          "Few-Shot Learning Through an Information Retrieval  Lens",
          "Differentiable Learning of Logical Rules for Knowledge Base Reasoning",
          "OnACID: Online Analysis of Calcium Imaging Data in Real Time",
          "Fisher GAN",
          "Toward Goal-Driven Neural Network Models for the Rodent Whisker-Trigeminal System",
          "Predicting Organic Reaction Outcomes with Weisfeiler-Lehman Network",
          "REBAR: Low-variance, unbiased gradient estimates for discrete latent variable models",
          "ELF: An Extensive, Lightweight and Flexible Research Platform for Real-time Strategy Games",
          "Dual Discriminator Generative Adversarial Nets",
          "Bridging the Gap Between Value and Policy Based Reinforcement Learning",
          "Convolutional Gaussian Processes",
          "Deep Lattice Networks and Partial Monotonic Functions",
          "Hierarchical Attentive Recurrent Tracking",
          "Learning to Compose Domain-Specific Transformations for Data Augmentation",
          "Language Modeling with Recurrent Highway Hypernetworks",
          "Bayesian Compression for Deep Learning",
          "Streaming Sparse Gaussian Process Approximations",
          "Spherical convolutions and their application in molecular modelling",
          "Neural system identification for large populations separating what and where",
          "A Disentangled Recognition and Nonlinear Dynamics Model for Unsupervised Learning",
          "Bayesian GAN",
          "Geometric Matrix Completion with Recurrent Multi-Graph Neural Networks",
          "Diving into the shallows: a computational perspective on large-scale shallow learning",
          "InfoGAIL: Interpretable Imitation Learning from Visual Demonstrations",
          "Deep Hyperspherical Learning",
          "On-the-fly Operation Batching in Dynamic Computation Graphs",
          "Streaming Weak Submodularity: Interpreting Neural Networks on the Fly",
          "Prototypical Networks for Few-shot Learning",
          "Multi-Information Source Optimization",
          "Dual Path Networks",
          "Doubly Stochastic Variational Inference for Deep Gaussian Processes",
          "QMDP-Net: Deep Learning for Planning under Partial Observability",
          "A Unified Approach to Interpreting Model Predictions",
          "Context Selection for Embedding Models",
          "Working hard to know your neighbor's margins: Local descriptor learning loss",
          "Learning to Prune Deep Neural Networks via Layer-wise Optimal Brain Surgeon",
          "DropoutNet: Addressing Cold Start in Recommender Systems",
          "PointNet++: Deep Hierarchical Feature Learning on Point Sets in a Metric Space",
          "A-NICE-MC: Adversarial Training for MCMC",
          "Riemannian approach to batch normalization",
          "Triangle Generative Adversarial Networks",
          "Scalable trust-region method for deep reinforcement learning using Kronecker-factored approximation",
          "Hybrid Reward Architecture for Reinforcement Learning",
          "AdaGAN: Boosting Generative Models",
          "Task-based End-to-end Model Learning in Stochastic Optimization",
          "Gradient descent GAN optimization is locally stable",
          "Do Deep Neural Networks Suffer from Crowding?",
          "Improved Training of Wasserstein GANs",
          "Learning Disentangled Representations with Semi-Supervised Deep Generative Models",
          "Attention is All you Need",
          "Value Prediction Network",
          "Causal Effect Inference with Deep Latent-Variable Models",
          "Good Semi-supervised Learning That Requires a Bad GAN",
          "Modulating early visual processing by language",
          "GANs Trained by a Two Time-Scale Update Rule Converge to a Local Nash Equilibrium",
          "Neural Expectation Maximization",
          "Attend and Predict: Understanding Gene Regulation by Selective Attention on Chromatin",
          "Style Transfer from Non-Parallel Text by Cross-Alignment",
          "Real Time Image Saliency for Black Box Classifiers",
          "On Word Embedding Dimensionality",
          "COLA: Decentralized Linear Learning",
          "A Simple Unified Framework for Detecting Out-of-Distribution Samples and Adversarial Attacks",
          "Mapping Images to Scene Graphs with Permutation-Invariant Structured Prediction",
          "Learning Conditioned Graph Structures for Interpretable Visual Question Answering",
          "Reversible Recurrent Neural Networks"
         ],
         "textfont": {
          "color": "#4D5663"
         },
         "type": "scatter",
         "x": [
          -2.684140682220459,
          -2.189919948577881,
          0.19421616196632385,
          0.49825507402420044,
          9.316398620605469,
          0.32123181223869324,
          2.955179452896118,
          -5.919807434082031,
          -7.84990119934082,
          -18.39105796813965,
          -15.369030952453613,
          -18.640644073486328,
          -14.469246864318848,
          -18.548913955688477,
          -18.383708953857422,
          -18.369211196899414,
          -18.44209098815918,
          -18.6081600189209,
          -15.301263809204102,
          -1.412048578262329,
          -14.186448097229004,
          -18.572532653808594,
          -15.244853973388672,
          -3.4132814407348633,
          -15.459623336791992,
          -15.099018096923828,
          0.8316057324409485,
          13.024003982543945,
          0.7075896859169006,
          -5.064718723297119,
          -5.223972320556641,
          -16.22689437866211,
          -18.399381637573242,
          -2.232414960861206,
          -18.813478469848633,
          -16.56171417236328,
          -14.874223709106445,
          -16.920894622802734,
          -13.465667724609375,
          -11.911425590515137,
          -13.5542573928833,
          -8.039220809936523,
          8.07717227935791,
          -11.535679817199707,
          8.821043968200684,
          -11.348140716552734,
          -0.44597139954566956,
          -4.663900375366211,
          -12.12221908569336,
          7.9855427742004395,
          -7.7117695808410645,
          -1.9284207820892334,
          1.1385022401809692,
          2.1756160259246826,
          -11.014185905456543,
          -17.063081741333008,
          -10.974980354309082,
          2.5636987686157227,
          -11.951091766357422,
          -16.55898094177246,
          -11.962207794189453,
          0.2520822286605835,
          -4.95864725112915,
          -16.567045211791992,
          -12.056787490844727,
          -18.34830093383789,
          3.4570417404174805,
          -12.005603790283203,
          -7.999208450317383,
          -16.947336196899414,
          -19.805301666259766,
          -17.45829200744629,
          -6.9692511558532715,
          -11.231633186340332,
          -13.017743110656738,
          -16.18168830871582,
          -18.64440155029297,
          -19.104475021362305,
          0.9814276695251465,
          -18.025632858276367,
          -7.768580436706543,
          -18.922576904296875,
          -1.907932162284851,
          13.21394157409668,
          -11.573507308959961,
          1.2970401048660278,
          -15.465407371520996,
          8.685247421264648,
          -11.918251037597656,
          -19.390033721923828,
          -17.095827102661133,
          -11.857887268066406,
          -3.918154001235962,
          -4.870555877685547,
          12.310755729675293,
          -11.366103172302246,
          -17.420122146606445,
          -11.544601440429688,
          0.9736019968986511,
          -17.278549194335938,
          -11.992996215820312,
          -13.547507286071777,
          -7.351520538330078,
          -7.065663814544678,
          -6.931591510772705,
          2.2324771881103516,
          -16.966537475585938,
          6.972418308258057,
          3.6126723289489746,
          -15.456270217895508,
          -4.933010101318359,
          7.98380184173584,
          -0.3066578805446625,
          -18.134714126586914,
          -0.6958796977996826,
          -16.65462303161621,
          7.966084957122803,
          3.4791910648345947,
          -7.039394378662109,
          -7.720957279205322,
          -11.17391300201416,
          -10.506808280944824,
          -4.648492336273193
         ],
         "y": [
          -9.076362609863281,
          -7.7997517585754395,
          -12.959405899047852,
          -11.790557861328125,
          -10.981833457946777,
          -11.704024314880371,
          -16.725404739379883,
          -19.10828399658203,
          2.617610216140747,
          3.1588122844696045,
          6.785719871520996,
          -10.755471229553223,
          -0.0631733313202858,
          -10.768166542053223,
          3.101494073867798,
          3.196906089782715,
          1.5189131498336792,
          0.5196926593780518,
          4.304014682769775,
          -0.47862130403518677,
          -14.635096549987793,
          0.4816434979438782,
          6.389065742492676,
          9.653363227844238,
          4.318670749664307,
          6.297945022583008,
          -3.941148519515991,
          -14.848029136657715,
          -5.00602912902832,
          -13.566780090332031,
          -13.462061882019043,
          4.189144134521484,
          2.536543130874634,
          -7.5811967849731445,
          0.32843756675720215,
          4.1154069900512695,
          -13.367066383361816,
          10.072733879089355,
          11.920884132385254,
          17.852214813232422,
          -5.71966028213501,
          10.570630073547363,
          -9.089581489562988,
          10.363505363464355,
          -9.630202293395996,
          12.070815086364746,
          -5.0203776359558105,
          -21.819440841674805,
          12.355313301086426,
          2.9923508167266846,
          5.0492048263549805,
          -5.561746120452881,
          -5.0420613288879395,
          -5.84678840637207,
          9.605534553527832,
          -13.89624309539795,
          12.060453414916992,
          -18.102375030517578,
          12.410764694213867,
          12.373987197875977,
          17.466264724731445,
          -12.71772575378418,
          2.675769090652466,
          11.001311302185059,
          17.098793029785156,
          10.938164710998535,
          -17.93828773498535,
          16.92033576965332,
          -20.427906036376953,
          12.05924129486084,
          -10.430854797363281,
          10.188042640686035,
          4.530798435211182,
          9.823363304138184,
          12.032051086425781,
          -13.557616233825684,
          10.904153823852539,
          11.488810539245605,
          -20.82765007019043,
          10.337010383605957,
          5.179768085479736,
          11.549772262573242,
          -6.797656536102295,
          -16.17452049255371,
          15.150601387023926,
          -0.8077804446220398,
          7.066312313079834,
          -11.38918685913086,
          17.921220779418945,
          11.00617790222168,
          11.425276756286621,
          18.176767349243164,
          1.7338002920150757,
          2.602457046508789,
          0.3566659986972809,
          11.896879196166992,
          10.825928688049316,
          15.165264129638672,
          -20.825857162475586,
          12.52448558807373,
          17.105314254760742,
          -5.847721576690674,
          4.18464994430542,
          4.503591060638428,
          -4.702475070953369,
          -5.950303077697754,
          -13.808900833129883,
          -10.845426559448242,
          -17.190990447998047,
          7.180487155914307,
          2.699838399887085,
          -9.771724700927734,
          -5.0332417488098145,
          10.290654182434082,
          -5.3269171714782715,
          10.187776565551758,
          -9.067055702209473,
          18.029253005981445,
          9.654850959777832,
          -19.7283878326416,
          9.531071662902832,
          -13.04228687286377,
          -21.863630294799805
         ]
        },
        {
         "marker": {
          "color": "rgba(55, 128, 191, 1.0)",
          "line": {
           "width": 1.3
          },
          "opacity": 0.8,
          "size": 12,
          "symbol": "circle"
         },
         "mode": "markers",
         "name": "ECCV",
         "text": [
          "Improving Shape Deformation in Unsupervised Image-to-Image Translation",
          "Pairwise Confusion for Fine-Grained Visual Classification",
          "GANimation: Anatomically-aware Facial Animation from a Single Image",
          "Deep Expander Networks: Efficient Deep Networks from Graph Theory",
          "3DMV: Joint 3D-Multi-View Prediction for 3D Semantic Scene Segmentation",
          "Learning Category-Specific Mesh Reconstruction from Image Collections",
          "Zero-Shot Object Detection",
          "A Style-Aware Content Loss for Real-time HD Style Transfer",
          "Piggyback: Adapting a Single Network to Multiple Tasks by Learning to Mask Weights",
          "Semi-supervised Adversarial Learning to Generate Photorealistic Face Images of New Identities from 3D Morphable Model",
          "Simple Baselines for Human Pose Estimation and Tracking",
          "Toward Characteristic-Preserving Image-based Virtual Try-On Network",
          "Acquisition of Localization Confidence for Accurate Object Detection",
          "Conditional Image-Text Embedding Networks",
          "SketchyScene: Richly-Annotated Scene Sketches",
          "Progressive Neural Architecture Search",
          "Image Manipulation with Perceptual Discriminators",
          "Repeatability Is Not Enough: Learning Affine Regions via Discriminability",
          "Unsupervised holistic image generation from key local patches",
          "LQ-Nets: Learned Quantization for Highly Accurate and Compact Deep Neural Networks",
          "Is Robustness the Cost of Accuracy? -- A Comprehensive Study on the Robustness of 18 Deep Image Classification Models",
          "Dynamic Multimodal Instance Segmentation Guided by Natural Language Queries",
          "Dynamic Conditional Networks for Few-Shot Learning",
          "Recovering 3D Planes from a Single Image via Convolutional Neural Networks",
          "Learning Single-View 3D Reconstruction with Limited Pose Supervision",
          "Image Inpainting for Irregular Holes Using Partial Convolutions",
          "Unsupervised Geometry-Aware Representation for 3D Human Pose Estimation",
          "PSANet: Point-wise Spatial Attention Network for Scene Parsing",
          "Deep Randomized Ensembles for Metric Learning",
          "Predicting Gaze in Egocentric Video by Learning Task-dependent Attention Transition",
          "Coloring with Words: Guiding Image Colorization Through Text-based Palette Generation",
          "Fighting Fake News: Image Splice Detection via Learned Self-Consistency",
          "HiDDeN: Hiding Data with Deep Networks",
          "Multi-scale Residual Network for Image Super-Resolution",
          "Adaptive Affinity Fields for Semantic Segmentation",
          "Statistically-motivated Second-order Pooling",
          "Stacked Cross Attention for Image-Text Matching",
          "Open Set Domain Adaptation by Backpropagation",
          "DeepVS: A Deep Learning Based Video Saliency Prediction Approach",
          "EC-Net: an Edge-aware Point set Consolidation Network",
          "Encoder-Decoder with Atrous Separable Convolution for Semantic Image Segmentation",
          "Estimating the Success of Unsupervised Image to Image Translation",
          "Single Shot Scene Text Retrieval",
          "Learning Type-Aware Embeddings for Fashion Compatibility",
          "Learning Visual Question Answering by Bootstrapping Hard Attention",
          "Deep Clustering for Unsupervised Learning of Visual Features",
          "Joint Person Segmentation and Identification in Synchronized First- and Third-person Videos",
          "ECO: Efficient Convolutional Network for Online Video Understanding",
          "Diverse and Coherent Paragraph Generation from Images",
          "MultiPoseNet: Fast Multi-Person Pose Estimation using Pose Residual Network",
          "ShapeStacks: Learning Vision-Based Physical Intuition for Generalised Object Stacking",
          "Towards Realistic Predictors",
          "Choose Your Neuron: Incorporating Domain Knowledge through Neuron-Importance",
          "Explainable Neural Computation via Stack Neural Module Networks",
          "Learning to Separate Object Sounds by Watching Unlabeled Video",
          "ESPNet: Efficient Spatial Pyramid of Dilated Convolutions for Semantic Segmentation",
          "Visual Coreference Resolution in Visual Dialog using Neural Module Networks",
          "License Plate Detection and Recognition in Unconstrained Scenarios",
          "Deep High Dynamic Range Imaging with Large Foreground Motions",
          "Multi-view to Novel view: Synthesizing novel views with Self-Learned Confidence",
          "Specular-to-Diffuse Translation for Multi-View Reconstruction",
          "Layer-structured 3D Scene Inference via View Synthesis",
          "3D-CODED: 3D Correspondences by Deep Deformation",
          "HybridNet: Classification and Reconstruction Cooperation for Semi-Supervised Learning",
          "BSN: Boundary Sensitive Network for Temporal Action Proposal Generation",
          "Learning Dynamic Memory Networks for Object Tracking",
          "Interpretable Intuitive Physics Model",
          "Gray-box Adversarial Training",
          "Depth-aware CNN for RGB-D Segmentation",
          "Learning Efficient Single-stage Pedestrian Detectors by Asymptotic Localization Fitting",
          "A Modulation Module for Multi-task Learning with Applications in Image Retrieval",
          "Single Image Water Hazard Detection using FCN with Reflection Attention Units",
          "Integral Human Pose Regression",
          "Recurrent Squeeze-and-Excitation Context Aggregation Net for Single Image Deraining",
          "Quaternion Convolutional Neural Networks",
          "Mutual Learning to Adapt for Joint Human Parsing and Pose Estimation",
          "Pose Partition Networks for Multi-Person Pose Estimation",
          "Video Re-localization",
          "Joint 3D Face Reconstruction and Dense Alignment with Position Map Regression Network",
          "MVSNet: Depth Inference for Unstructured Multi-view Stereo",
          "Audio-Visual Event Localization in Unconstrained Videos",
          "Macro-Micro Adversarial Network for Human Parsing",
          "SpiderCNN: Deep Learning on Point Sets with Parameterized Convolutional Filters",
          "PlaneMatch: Patch Coplanarity Prediction for Robust RGB-D Reconstruction",
          "Factorizable Net: An Efficient Subgraph-based Framework for Scene Graph Generation",
          "DF-Net: Unsupervised Joint Learning of Depth and Flow using Cross-Task Consistency",
          "Image Super-Resolution Using Very Deep Residual Channel Attention Networks",
          "Group Normalization",
          "Learning to Navigate for Fine-grained Classification",
          "Partial Adversarial Domain Adaptation",
          "Shift-Net: Image Inpainting via Deep Feature Rearrangement",
          "Distractor-aware Siamese Networks for Visual Object Tracking",
          "Improving Generalization via  Scalable Neighborhood Component Analysis",
          "Saliency Detection in 360° Videos",
          "GeoDesc: Learning Local Descriptors by Integrating Geometry Constraints"
         ],
         "textfont": {
          "color": "#4D5663"
         },
         "type": "scatter",
         "x": [
          -12.889717102050781,
          -9.253328323364258,
          -9.338743209838867,
          -2.484617233276367,
          -15.957009315490723,
          -8.645133018493652,
          -8.711857795715332,
          1.6691855192184448,
          0.5641527771949768,
          -13.282132148742676,
          -7.765340328216553,
          -16.018878936767578,
          -3.667308807373047,
          10.817145347595215,
          -8.416050910949707,
          6.489422798156738,
          -7.130783557891846,
          -1.4508826732635498,
          -19.206470489501953,
          2.5810458660125732,
          -4.902846336364746,
          -15.69351577758789,
          16.36920928955078,
          9.760266304016113,
          12.602306365966797,
          -1.6429693698883057,
          -10.203141212463379,
          8.795008659362793,
          -1.3694294691085815,
          -2.136983633041382,
          -4.001466751098633,
          1.3105391263961792,
          -2.4269590377807617,
          8.689496040344238,
          -8.246953010559082,
          -15.237898826599121,
          -4.6071271896362305,
          -12.518197059631348,
          -13.428072929382324,
          12.4473295211792,
          -7.09081506729126,
          -9.616155624389648,
          -12.005107879638672,
          -15.709115028381348,
          5.1628546714782715,
          3.0273330211639404,
          -2.0224945545196533,
          8.875982284545898,
          18.52450942993164,
          -10.160408973693848,
          -16.6090145111084,
          5.451540470123291,
          -6.804276943206787,
          -7.201544284820557,
          -8.520983695983887,
          -12.703033447265625,
          -11.753071784973145,
          11.9149808883667,
          -9.044061660766602,
          -14.65682601928711,
          -3.105828285217285,
          -7.279345989227295,
          -7.215047836303711,
          1.7555841207504272,
          -7.201544284820557,
          -11.134212493896484,
          -7.371877193450928,
          -1.3525283336639404,
          -8.59642219543457,
          1.561320424079895,
          8.922892570495605,
          -5.689688682556152,
          1.5142345428466797,
          -6.896894931793213,
          -13.954208374023438,
          12.925217628479004,
          -9.491036415100098,
          -12.178540229797363,
          -15.116037368774414,
          -14.839127540588379,
          11.140356063842773,
          -8.179872512817383,
          -4.680283546447754,
          -1.2002731561660767,
          -9.266790390014648,
          20.540164947509766,
          -1.4302247762680054,
          -1.7612459659576416,
          -4.177286148071289,
          -1.4664095640182495,
          -1.3697141408920288,
          -7.155501365661621,
          1.0675371885299683,
          -9.139873504638672,
          -7.211508750915527
         ],
         "y": [
          5.364861488342285,
          -6.9861955642700195,
          -7.121572971343994,
          -17.212682723999023,
          -17.531286239624023,
          -12.04974365234375,
          -16.711917877197266,
          -18.380756378173828,
          -18.53432273864746,
          -15.089499473571777,
          -18.656856536865234,
          -9.441694259643555,
          -8.819808006286621,
          -4.449212551116943,
          -15.79114055633545,
          -6.286492824554443,
          -17.46329116821289,
          4.239838123321533,
          0.024242326617240906,
          -17.805347442626953,
          -19.86053466796875,
          -17.621885299682617,
          -4.31615686416626,
          -3.9443976879119873,
          -4.470508098602295,
          -15.021125793457031,
          -0.9251365661621094,
          -13.759784698486328,
          4.481995582580566,
          -14.838587760925293,
          -17.99323844909668,
          -8.219704627990723,
          -15.049402236938477,
          -11.55947208404541,
          -16.764755249023438,
          -9.598128318786621,
          -19.520103454589844,
          -9.952835083007812,
          -9.139036178588867,
          -4.408751487731934,
          -16.68895149230957,
          -0.8952298760414124,
          -15.105253219604492,
          -17.540996551513672,
          -13.924836158752441,
          -16.92334747314453,
          -13.921056747436523,
          -13.824224472045898,
          -4.833127975463867,
          -0.9924736618995667,
          0.3019672632217407,
          -13.429981231689453,
          -16.060617446899414,
          15.278797149658203,
          -12.462995529174805,
          -0.09195222705602646,
          -15.271224021911621,
          -1.1868754625320435,
          -2.5730483531951904,
          -0.10273255407810211,
          5.068233966827393,
          15.858312606811523,
          -8.855179786682129,
          -9.338640213012695,
          15.278797149658203,
          -15.46058464050293,
          -8.769584655761719,
          -15.246465682983398,
          -11.498568534851074,
          -9.38458251953125,
          -13.87448501586914,
          -19.445728302001953,
          -8.99156665802002,
          -18.453853607177734,
          -0.07121698558330536,
          -8.208121299743652,
          -8.049628257751465,
          -15.258049011230469,
          -10.366628646850586,
          -10.726366996765137,
          -4.330445766448975,
          -10.250543594360352,
          -2.4246931076049805,
          -11.129249572753906,
          -7.025365352630615,
          -3.9845967292785645,
          4.735988616943359,
          -10.228245735168457,
          -18.39005470275879,
          -10.94797134399414,
          4.496456623077393,
          -15.121639251708984,
          -18.49070167541504,
          -2.0771477222442627,
          15.612140655517578
         ]
        },
        {
         "marker": {
          "color": "rgba(50, 171, 96, 1.0)",
          "line": {
           "width": 1.3
          },
          "opacity": 0.8,
          "size": 12,
          "symbol": "circle"
         },
         "mode": "markers",
         "name": "CVPR",
         "text": [
          "Efficient Interactive Annotation of Segmentation Datasets With Polygon-RNN++",
          "An Improved Deep Learning Architecture for Person Re-Identification",
          "Learning Pixel-Level Semantic Affinity With Image-Level Supervision for Weakly Supervised Semantic Segmentation",
          "Defense Against Universal Adversarial Perturbations",
          "Light Field Intrinsics With a Deep Encoder-Decoder Network",
          "Neural Module Networks",
          "Real-Time Monocular Depth Estimation Using Synthetic Data With Domain Adaptation via Image Style Transfer",
          "Multi-Content GAN for Few-Shot Font Style Transfer",
          "LCNN: Lookup-Based Convolutional Neural Network",
          "Deep Watershed Transform for Instance Segmentation",
          "Glimpse Clouds: Human Activity Recognition From Unstructured Feature Points",
          "Hierarchical Boundary-Aware Neural Encoder for Video Captioning",
          "Visual Feature Attribution Using Wasserstein GANs",
          "Deep Unsupervised Similarity Learning Using Partially Ordered Sets",
          "The Lovász-Softmax Loss: A Tractable Surrogate for the Optimization of the Intersection-Over-Union Measure in Neural Networks",
          "Geometry-Aware Learning of Maps for Camera Localization",
          "SST: Single-Stream Temporal Action Proposals",
          "In-Place Activated BatchNorm for Memory-Optimized Training of DNNs",
          "One-Shot Video Object Segmentation",
          "Neural Sign Language Translation",
          "HashGAN: Deep Learning to Hash With Pair Conditional Wasserstein GAN",
          "Partial Transfer Learning With Selective Adversarial Networks",
          "Realtime Multi-Person 2D Pose Estimation Using Part Affinity Fields",
          "Visual Question Reasoning on General Dependency Tree",
          "Annotating Object Instances With a Polygon-RNN",
          "Pyramid Stereo Matching Network",
          "AON: Towards Arbitrarily-Oriented Text Recognition",
          "Cascaded Pyramid Network for Multi-Person Pose Estimation",
          "Deep Photo Enhancer: Unpaired Learning for Image Enhancement From Photographs With GANs",
          "Knowledge Aided Consistency for Weakly Supervised Phrase Grounding",
          "LiDAR-Video Driving Dataset: Learning Driving Policies Effectively",
          "Multi-View 3D Object Detection Network for Autonomous Driving",
          "StarGAN: Unified Generative Adversarial Networks for Multi-Domain Image-to-Image Translation",
          "Xception: Deep Learning With Depthwise Separable Convolutions",
          "Lip Reading Sentences in the Wild",
          "VidLoc: A Deep Spatio-Temporal Model for 6-DoF Video-Clip Relocalization",
          "Large Scale Fine-Grained Categorization and Domain-Specific Transfer Learning",
          "Learning to Evaluate Image Captioning",
          "ScanComplete: Large-Scale Scene Completion and Semantic Segmentation for 3D Scans",
          "Eye In-Painting With Exemplar Generative Adversarial Networks",
          "Style Aggregated Network for Facial Landmark Detection",
          "Supervision-by-Registration: An Unsupervised Approach to Improve the Precision of Facial Landmark Detectors",
          "Structured Uncertainty Prediction Networks",
          "Low-Shot Learning With Large-Scale Diffusion",
          "GraphBit: Bitwise Interaction Mining via Deep Reinforcement Learning",
          "WILDCAT: Weakly Supervised Learning of Deep ConvNets for Image Classification, Pointwise Localization and Segmentation",
          "Who Let the Dogs Out? Modeling Dog Behavior From Visual Data",
          "Robust Physical-World Attacks on Deep Learning Visual Classification",
          "AMNet: Memorability Estimation With Attention",
          "A Point Set Generation Network for 3D Object Reconstruction From a Single Image",
          "End-to-End Learning of Motion Representation for Video Understanding",
          "Spatially Adaptive Computation Time for Residual Networks",
          "Compact Bilinear Pooling",
          "Learning Generative ConvNets via Multi-Grid Modeling and Sampling",
          "Dynamic Few-Shot Visual Learning Without Forgetting",
          "Social GAN: Socially Acceptable Trajectories With Generative Adversarial Networks",
          "DeLiGAN : Generative Adversarial Networks for Diverse and Limited Data",
          "Learning by Association -- A Versatile Semi-Supervised Training Method for Neural Networks",
          "Deep Pyramidal Residual Networks",
          "Can Spatiotemporal 3D CNNs Retrace the History of 2D CNNs and ImageNet?",
          "Deep Back-Projection Networks for Super-Resolution",
          "Deep Residual Learning for Image Recognition",
          "Deeply Supervised Salient Object Detection With Short Connections",
          "CondenseNet: An Efficient DenseNet Using Learned Group Convolutions",
          "DeepMVS: Learning Multi-View Stereopsis",
          "Densely Connected Convolutional Networks",
          "Learning Deep Representation for Imbalanced Classification",
          "Real-Time Neural Style Transfer for Videos",
          "Speed/Accuracy Trade-Offs for Modern Convolutional Object Detectors",
          "Pointwise Convolutional Neural Networks",
          "Fast and Accurate Single Image Super-Resolution via Information Distillation Network",
          "LiteFlowNet: A Lightweight Convolutional Neural Network for Optical Flow Estimation",
          "Deep 360 Pilot: Learning a Deep Agent for Piloting Through 360deg Sports Videos",
          "FC4: Fully Convolutional Color Constancy With Confidence-Weighted Pooling",
          "Finding Tiny Faces",
          "Learning Answer Embeddings for Visual Question Answering",
          "Modeling Relationships in Referential Expressions With Compositional Modular Networks",
          "Image Specificity",
          "DenseCap: Fully Convolutional Localization Networks for Dense Captioning",
          "Image Generation From Scene Graphs",
          "Total Capture: A 3D Deformation Model for Tracking Faces, Hands, and Bodies",
          "Perturbative Neural Networks",
          "End-to-End Recovery of Human Shape and Pose",
          "Convolutional Neural Networks for No-Reference Image Quality Assessment",
          "Geometric Loss Functions for Camera Pose Regression With Deep Learning",
          "Simple Does It: Weakly Supervised Instance and Semantic Segmentation",
          "Accurate Image Super-Resolution Using Very Deep Convolutional Networks",
          "Context Embedding Networks",
          "Deeply-Recursive Convolutional Network for Image Super-Resolution",
          "Deep Hand: How to Train a CNN on 1 Million Hand Images When Your Data Is Continuous and Weakly Labelled",
          "RON: Reverse Connection With Objectness Prior Networks for Object Detection",
          "Surface Networks",
          "A Hierarchical Approach for Generating Descriptive Image Paragraphs",
          "Stochastic Downsampling for Cost-Adjustable Inference and Improved Regularization in Convolutional Networks",
          "Deep Laplacian Pyramid Networks for Fast and Accurate Super-Resolution",
          "Deep Learning Under Privileged Information Using Heteroscedastic Dropout",
          "TI-Pooling: Transformation-Invariant Pooling for Feature Learning in Convolutional Neural Networks",
          "Fast Algorithms for Convolutional Neural Networks",
          "Photo-Realistic Single Image Super-Resolution Using a Generative Adversarial Network",
          "CleanNet: Transfer Learning for Scalable Image Classifier Training With Label Noise",
          "Hierarchical Novelty Detection for Visual Object Recognition",
          "Recurrent Convolutional Neural Network for Object Recognition",
          "Deep Marching Cubes: Learning Explicit Surface Representations",
          "Conditional Image-to-Image Translation",
          "Inverse Compositional Spatial Transformer Networks",
          "RefineNet: Multi-Path Refinement Networks for High-Resolution Semantic Segmentation",
          "ST-GAN: Spatial Transformer Generative Adversarial Networks for Image Compositing",
          "Decoupled Networks",
          "Deep Supervised Hashing for Fast Image Retrieval",
          "FOTS: Fast Oriented Text Spotting With a Unified Network",
          "Future Frame Prediction for Anomaly Detection  A New Baseline",
          "PiCANet: Learning Pixel-Wise Contextual Attention for Saliency Detection",
          "PlaneNet: Piece-Wise Planar Reconstruction From a Single RGB Image",
          "Predicting Salient Face in Multiple-Face Videos",
          "Recognizing Human Actions as the Evolution of Pose Estimation Maps",
          "Richer Convolutional Features for Edge Detection",
          "SphereFace: Deep Hypersphere Embedding for Face Recognition",
          "Convolutional Sequence to Sequence Model for Human Dynamics",
          "CSRNet: Dilated Convolutional Neural Networks for Understanding the Highly Congested Scenes",
          "Learning Intrinsic Image Decomposition From Watching the World",
          "MegaDepth: Learning Single-View Depth Prediction From Internet Photos",
          "SO-Net: Self-Organizing Network for Point Cloud Analysis",
          "Towards Faster Training of Global Covariance Pooling Networks by Iterative Matrix Square Root Normalization",
          "Attention Clusters: Purely Attention Based Local Feature Integration for Video Classification",
          "Fully Convolutional Networks for Semantic Segmentation",
          "Deep Photo Style Transfer",
          "Discriminability Objective for Training Descriptive Captions",
          "Efficient Deep Learning for Stereo Matching",
          "Non-Local Deep Features for Salient Object Detection",
          "Neural Baby Talk",
          "Unsupervised Video Summarization With Adversarial LSTM Networks",
          "PackNet: Adding Multiple Tasks to a Single Network by Iterative Pruning",
          "Boosting Domain Adaptation by Discovering Latent Domains",
          "On Human Motion Prediction Using Recurrent Neural Networks",
          "Transparency by Design: Closing the Gap Between Performance and Interpretability in Visual Reasoning",
          "Disentangled Person Image Generation",
          "Conditional Probability Models for Deep Image Compression",
          "Cross-Stitch Networks for Multi-Task Learning",
          "NAG: Network for Adversary Generation",
          "Beyond the Pixel-Wise Loss for Topology-Aware Delineation",
          "3D Bounding Box Estimation Using Deep Learning and Geometry",
          "Improved Fusion of Visual and Language Representations by Dense Symmetric Co-Attention for Visual Question Answering",
          "Human Pose Estimation With Parsing Induced Learner",
          "Video Frame Interpolation via Adaptive Convolution",
          "Learning Dual Convolutional Neural Networks for Low-Level Vision",
          "Towards Accurate Multi-Person Pose Estimation in the Wild",
          "Making Deep Neural Networks Robust to Label Noise: A Loss Correction Approach",
          "Jointly Optimize Data Augmentation and Network Training: Adversarial Data Augmentation in Human Pose Estimation",
          "Learning Latent Super-Events to Detect Multiple Activities in Videos",
          "Full-Resolution Residual Networks for Semantic Segmentation in Street Scenes",
          "Learning Pose Specific Representations by Predicting Different Views",
          "Generative Adversarial Perturbations",
          "PieAPP: Perceptual Image-Error Assessment Through Pairwise Preference",
          "Attentive Generative Adversarial Network for Raindrop Removal From a Single Image",
          "Few-Shot Image Recognition by Predicting Parameters From Activations",
          "Frustum PointNets for 3D Object Detection From RGB-D Data",
          "GeoNet: Geometric Neural Network for Joint Depth and Surface Normal Estimation",
          "Low-Shot Learning With Imprinted Weights",
          "PointNet: Deep Learning on Point Sets for 3D Classification and Segmentation",
          "Semi-Parametric Image Synthesis",
          "Top-Down Visual Saliency Guided by Captions",
          "Optical Flow Estimation Using a Spatial Pyramid Network",
          "Self-Critical Sequence Training for Image Captioning",
          "Cross-Domain Self-Supervised Multi-Task Feature Learning Using Synthetic Imagery",
          "End-To-End Instance Segmentation With Recurrent Attention",
          "Action Sets: Weakly Supervised Action Segmentation Without Ordering Constraints",
          "End-to-End Weakly-Supervised Semantic Alignment",
          "Real-World Repetition Estimation by Div, Grad and Curl",
          "Adversarially Learned One-Class Classifier for Novelty Detection",
          "Logo Synthesis and Manipulation With Clustered Generative Adversarial Networks",
          "Generate to Adapt: Aligning Domains Using Generative Adversarial Networks",
          "Learning From Synthetic Data: Addressing Domain Shift for Semantic Segmentation",
          "Avatar-Net: Multi-Scale Zero-Shot Style Transfer by Feature Decoration",
          "Weakly Supervised Dense Video Captioning",
          "Pixels, Voxels, and Views: A Study of Shape Representations for Single View 3D Object Shape Prediction",
          "Real-Time Single Image and Video Super-Resolution Using an Efficient Sub-Pixel Convolutional Neural Network",
          "Learning From Simulated and Unsupervised Images Through Adversarial Training",
          "Actor and Observer: Joint Modeling of First and Third-Person Videos",
          "Deep Metric Learning via Facility Location",
          "VITAL: VIsual Tracking via Adversarial Learning",
          "Cross-Modal Deep Variational Hand Pose Estimation",
          "Light Field Blind Motion Deblurring",
          "End-To-End People Detection in Crowded Scenes",
          "Pix3D: Dataset and Methods for Single-Image 3D Shape Modeling",
          "PWC-Net: CNNs for Optical Flow Using Pyramid, Warping, and Cost Volume",
          "Rethinking the Inception Architecture for Computer Vision",
          "Spatially-Adaptive Filter Units for Deep Neural Networks",
          "Image Super-Resolution via Deep Recursive Residual Network",
          "Multiple Instance Detection Network With Online Instance Classifier Refinement",
          "Multiple People Tracking by Lifted Multicut and Person Re-Identification",
          "Scale-Recurrent Network for Deep Image Deblurring",
          "Tangent Convolutions for Dense Prediction in 3D",
          "Real-Time Seamless Single Shot 6D Object Pose Prediction",
          "Two-Stream Convolutional Networks for Dynamic Texture Synthesis",
          "Full Resolution Image Compression With Recurrent Neural Networks",
          "Lifting From the Deep: Convolutional 3D Pose Estimation From a Single Image",
          "A Closer Look at Spatiotemporal Convolutions for Action Recognition",
          "Face Normals \"In-The-Wild\" Using Fully Convolutional Networks",
          "Learning to Adapt Structured Output Space for Semantic Segmentation",
          "Learning Shape Abstractions by Assembling Volumetric Primitives",
          "MoCoGAN: Decomposing Motion and Content for Video Generation",
          "Learning Superpixels With Segmentation-Aware Affinity Loss",
          "Adversarial Discriminative Domain Adaptation",
          "Deep Image Prior",
          "Deep Feature Interpolation for Image Content Changes",
          "PointNetVLAD: Deep Point Cloud Based Retrieval for Large-Scale Place Recognition",
          "Conditional Similarity Networks",
          "Neural Kinematic Networks for Unsupervised Motion Retargetting",
          "Show and Tell: A Neural Image Caption Generator",
          "Adversarial Feature Augmentation for Unsupervised Domain Adaptation",
          "Face Aging With Identity-Preserved Conditional Generative Adversarial Networks",
          "High-Resolution Image Synthesis and Semantic Manipulation With Conditional GANs",
          "Learning a Discriminative Filter Bank Within a CNN for Fine-Grained Recognition",
          "Multimodal Transfer: A Hierarchical Deep Convolutional Neural Network for Fast Artistic Style Transfer",
          "Repulsion Loss: Detecting Pedestrians in a Crowd",
          "Revisiting Video Saliency: A Large-Scale Benchmark and a New Model",
          "SGPN: Similarity Group Proposal Network for 3D Point Cloud Instance Segmentation",
          "Skeleton Key: Image Captioning by Skeleton-Attribute Decomposition",
          "Min-Entropy Latent Model for Weakly Supervised Object Detection",
          "Rethinking Feature Distribution for Loss Functions in Image Classification",
          "Bidirectional Retrieval Made Simple",
          "Convolutional Pose Machines",
          "Dense Human Body Correspondences Using Convolutional Networks",
          "Compressed Video Action Recognition",
          "Exploit the Unknown Gradually: One-Shot Video-Based Person Re-Identification by Stepwise Learning",
          "Quantized Convolutional Neural Networks for Mobile Devices",
          "Unsupervised Feature Learning via Non-Parametric Instance Discrimination",
          "Feature Generating Networks for Zero-Shot Learning",
          "Gibson Env: Real-World Perception for Embodied Agents",
          "Aggregated Residual Transformations for Deep Neural Networks",
          "Learning Descriptor Networks for 3D Shape Synthesis and Analysis",
          "Deep Texture Manifold for Ground Terrain Recognition",
          "AttnGAN: Fine-Grained Text to Image Generation With Attentional Generative Adversarial Networks",
          "Deep Image Matting",
          "Scene Graph Generation by Iterative Message Passing",
          "DenseASPP for Semantic Segmentation in Street Scenes",
          "Learning Face Age Progression: A Pyramid Architecture of GANs",
          "Neural Aggregation Network for Video Face Recognition",
          "Object Contour Detection With a Fully Convolutional Encoder-Decoder Network",
          "Robust Classification With Convolutional Prototype Learning",
          "Semantic Filtering",
          "GeoNet: Unsupervised Learning of Dense Depth, Optical Flow and Camera Pose",
          "Crafting a Toolchain for Image Restoration by Deep Reinforcement Learning",
          "Dilated Residual Networks",
          "Generative Image Inpainting With Contextual Attention",
          "MAttNet: Modular Attention Network for Referring Expression Comprehension",
          "PU-Net: Point Cloud Upsampling Network",
          "Video Paragraph Captioning Using Hierarchical Recurrent Neural Networks",
          "Learning to Promote Saliency Detectors",
          "S3Pool: Pooling With Stochastic Spatial Sampling",
          "Adversarial Complementary Learning for Weakly Supervised Object Localization",
          "Deep Mutual Learning",
          "Densely Connected Pyramid Dehazing Network",
          "Density-Aware Single Image De-Raining Using a Multi-Stream Dense Network",
          "Grounding Referring Expressions in Images by Variational Context",
          "ISTA-Net: Interpretable Optimization-Inspired Deep Network for Image Compressive Sensing",
          "Joint Pose and Expression Modeling for Facial Expression Recognition",
          "Learning a Deep Embedding Model for Zero-Shot Learning",
          "Residual Dense Network for Image Super-Resolution",
          "Single-Image Crowd Counting via Multi-Column Convolutional Neural Network",
          "The Unreasonable Effectiveness of Deep Features as a Perceptual Metric",
          "Unsupervised Discovery of Object Landmarks as Structural Representations",
          "Visual Translation Embedding Network for Visual Relation Detection",
          "Ring Loss: Convex Feature Normalization for Face Recognition",
          "EAST: An Efficient and Accurate Scene Text Detector",
          "Learning Deep Features for Discriminative Localization",
          "Learning Rich Features for Image Manipulation Detection",
          "Weakly Supervised Instance Segmentation Using Class Peak Response",
          "Fast Training of Triplet-Based Deep Binary Embedding Networks",
          "Towards Effective Low-Bitwidth Convolutional Neural Networks",
          "Learning Spatial Regularization With Image-Level Supervisions for Multi-Label Image Classification",
          "Learning Transferable Architectures for Scalable Image Recognition",
          "LayoutNet: Reconstructing the 3D Room Layout From a Single RGB Image"
         ],
         "textfont": {
          "color": "#4D5663"
         },
         "type": "scatter",
         "x": [
          17.271961212158203,
          -12.565631866455078,
          5.413780689239502,
          -1.7491958141326904,
          15.206989288330078,
          15.095970153808594,
          5.083847999572754,
          13.102896690368652,
          11.474596977233887,
          3.8406548500061035,
          5.848556041717529,
          17.358747482299805,
          7.970432758331299,
          -2.461376428604126,
          -3.0133209228515625,
          12.263566017150879,
          2.189725875854492,
          15.234375953674316,
          -6.853641033172607,
          -3.0108587741851807,
          5.425706386566162,
          12.927582740783691,
          5.6517157554626465,
          12.286896705627441,
          0.6323307156562805,
          -4.723989009857178,
          10.807626724243164,
          -1.7420486211776733,
          18.05257797241211,
          11.239377975463867,
          7.54009485244751,
          16.228302001953125,
          10.457615852355957,
          18.294170379638672,
          19.677017211914062,
          -3.7866625785827637,
          0.5841044783592224,
          -11.489823341369629,
          -18.51984214782715,
          5.383110523223877,
          18.33319091796875,
          5.568967819213867,
          5.407098293304443,
          8.304447174072266,
          -3.5128848552703857,
          5.696475028991699,
          13.014630317687988,
          0.33358147740364075,
          14.19536018371582,
          8.343818664550781,
          7.794676303863525,
          3.821007490158081,
          -1.5141403675079346,
          10.14184856414795,
          13.934905052185059,
          16.378976821899414,
          19.631847381591797,
          13.485822677612305,
          18.42620277404785,
          19.49966812133789,
          20.223888397216797,
          16.215768814086914,
          -12.3997802734375,
          12.302865028381348,
          -4.933437347412109,
          12.899322509765625,
          -4.927951335906982,
          20.781009674072266,
          15.519909858703613,
          7.847675800323486,
          10.72451114654541,
          -4.540881156921387,
          -1.530754804611206,
          1.5995495319366455,
          5.696475028991699,
          5.07912015914917,
          10.82425308227539,
          -3.414210796356201,
          1.454970359802246,
          14.89988899230957,
          -1.9958497285842896,
          10.705323219299316,
          -2.0410165786743164,
          -3.5435357093811035,
          7.446173667907715,
          10.967070579528809,
          1.054413080215454,
          5.403225898742676,
          -5.9741644859313965,
          1.5301809310913086,
          12.981627464294434,
          17.03103256225586,
          5.313278675079346,
          1.6305054426193237,
          -1.3396718502044678,
          4.120645523071289,
          -11.201844215393066,
          1.4405118227005005,
          20.390121459960938,
          15.053068161010742,
          17.32773780822754,
          -7.118467330932617,
          -18.58983612060547,
          8.074355125427246,
          9.787761688232422,
          8.382620811462402,
          7.665966510772705,
          -0.29025810956954956,
          8.192519187927246,
          3.634024143218994,
          10.131097793579102,
          9.138822555541992,
          -2.9476113319396973,
          -4.919129371643066,
          -5.187151908874512,
          5.502796649932861,
          16.74534797668457,
          -1.8784576654434204,
          3.3372557163238525,
          15.511493682861328,
          9.145758628845215,
          21.005706787109375,
          -6.60376501083374,
          5.405419826507568,
          -9.734867095947266,
          15.519909858703613,
          15.018238067626953,
          11.811193466186523,
          10.89647388458252,
          13.189264297485352,
          16.2751522064209,
          13.250818252563477,
          17.328413009643555,
          3.8406548500061035,
          17.275785446166992,
          -1.8784576654434204,
          20.603683471679688,
          -1.3720554113388062,
          15.53904914855957,
          -4.450682163238525,
          10.493791580200195,
          3.052690029144287,
          17.721996307373047,
          8.319046020507812,
          1.662007451057434,
          4.395261764526367,
          9.795273780822754,
          1.2297760248184204,
          -0.6353302001953125,
          -4.841238021850586,
          0.1760217696428299,
          12.490093231201172,
          6.30609655380249,
          19.42536735534668,
          5.07912015914917,
          -6.654438495635986,
          -9.863590240478516,
          15.319294929504395,
          14.420591354370117,
          -10.843403816223145,
          15.495811462402344,
          5.67793607711792,
          3.871630907058716,
          8.228520393371582,
          -1.7657238245010376,
          5.083140850067139,
          8.15590763092041,
          6.709240913391113,
          -7.9506731033325195,
          12.026519775390625,
          17.326351165771484,
          4.120645523071289,
          19.933441162109375,
          2.493143081665039,
          -0.9703726768493652,
          15.581171035766602,
          6.062090873718262,
          -1.203205943107605,
          4.59347677230835,
          -11.30169677734375,
          -2.0007009506225586,
          1.6330430507659912,
          7.525490760803223,
          -3.1775145530700684,
          2.8606512546539307,
          9.462075233459473,
          15.69046688079834,
          19.971162796020508,
          -5.477090358734131,
          9.79147720336914,
          13.663827896118164,
          14.441244125366211,
          -12.098286628723145,
          18.591663360595703,
          13.195901870727539,
          -4.834595203399658,
          19.431119918823242,
          3.810025691986084,
          -11.437824249267578,
          -2.7875282764434814,
          17.32697296142578,
          13.164412498474121,
          15.245105743408203,
          5.07912015914917,
          8.382620811462402,
          14.009587287902832,
          5.696475028991699,
          8.741964340209961,
          -7.878119468688965,
          -13.496824264526367,
          -1.8367242813110352,
          -16.538509368896484,
          8.707104682922363,
          5.26783561706543,
          3.86240291595459,
          -1.8411246538162231,
          -1.8291621208190918,
          3.835069179534912,
          -7.1444411277771,
          0.2066991776227951,
          18.532184600830078,
          1.4714417457580566,
          -18.340423583984375,
          11.239538192749023,
          12.490093231201172,
          1.5765024423599243,
          17.32773780822754,
          5.392049312591553,
          -2.957958459854126,
          20.397008895874023,
          -1.9996579885482788,
          12.641077041625977,
          -0.5160855054855347,
          10.094476699829102,
          17.460853576660156,
          16.296329498291016,
          5.324472427368164,
          9.798514366149902,
          -6.689333438873291,
          -3.5806195735931396,
          1.4439903497695923,
          -18.705320358276367,
          5.4175567626953125,
          18.46268653869629,
          -3.049722671508789,
          17.08452796936035,
          5.373651027679443,
          -6.48387336730957,
          4.422619342803955,
          6.199511528015137,
          -6.908980369567871,
          12.260710716247559,
          -4.614994525909424,
          18.162946701049805,
          -1.8291621208190918,
          11.205862998962402,
          14.579071044921875,
          3.732694149017334,
          -4.884446144104004,
          1.443745493888855,
          -1.8545774221420288,
          -3.035876512527466,
          -4.758906364440918,
          -2.206749439239502,
          19.990629196166992,
          1.5052964687347412,
          8.188952445983887,
          15.034621238708496,
          12.948015213012695,
          13.1284818649292,
          5.373817443847656,
          6.739853382110596,
          6.563159942626953
         ],
         "y": [
          7.468615531921387,
          5.346856117248535,
          11.33763313293457,
          16.097509384155273,
          -8.460357666015625,
          -14.77501392364502,
          4.935922622680664,
          4.3012590408325195,
          15.892398834228516,
          20.41187286376953,
          6.3210344314575195,
          -11.970766067504883,
          10.422286987304688,
          13.528362274169922,
          15.767823219299316,
          3.7189953327178955,
          2.515287160873413,
          -8.691079139709473,
          -4.714591026306152,
          9.614758491516113,
          11.368819236755371,
          4.4948625564575195,
          -0.9634976983070374,
          3.7308661937713623,
          2.1988461017608643,
          -5.528948783874512,
          -3.0226619243621826,
          16.082292556762695,
          -6.575486183166504,
          10.192440032958984,
          -10.218585014343262,
          -14.287079811096191,
          9.831225395202637,
          1.1086785793304443,
          2.5188043117523193,
          1.6461118459701538,
          -0.3155152499675751,
          4.765841007232666,
          -3.482485294342041,
          11.403958320617676,
          1.1541186571121216,
          -13.282205581665039,
          11.324762344360352,
          1.4994322061538696,
          -1.5187411308288574,
          -1.165755033493042,
          -10.25838851928711,
          0.16747969388961792,
          -7.849348545074463,
          -4.050506114959717,
          2.56278395652771,
          20.222196578979492,
          14.52054214477539,
          9.822532653808594,
          -2.3409054279327393,
          -11.709273338317871,
          2.4992098808288574,
          16.048246383666992,
          1.6148390769958496,
          -2.941679000854492,
          -0.5475978851318359,
          -4.353154182434082,
          -3.3077213764190674,
          -1.019810438156128,
          6.837114334106445,
          -9.71641731262207,
          -5.380268096923828,
          -1.5194391012191772,
          14.987817764282227,
          10.492588996887207,
          -14.9788179397583,
          6.672017574310303,
          8.644312858581543,
          -2.36568284034729,
          -1.165755033493042,
          4.949007511138916,
          15.161163330078125,
          -2.690183401107788,
          12.959341049194336,
          5.160935401916504,
          20.64347267150879,
          -15.009761810302734,
          9.863770484924316,
          -3.735250949859619,
          19.517183303833008,
          15.965378761291504,
          15.553787231445312,
          11.34948444366455,
          10.635029792785645,
          15.107376098632812,
          -15.748080253601074,
          -12.832472801208496,
          18.07482147216797,
          -2.275744915008545,
          -5.976163864135742,
          4.536669731140137,
          4.526080131530762,
          15.208277702331543,
          -4.03816556930542,
          -13.656679153442383,
          7.443411350250244,
          -17.44985008239746,
          -4.439999580383301,
          1.9053568840026855,
          18.735605239868164,
          -0.39967137575149536,
          10.023687362670898,
          -0.3610013425350189,
          12.090598106384277,
          5.229376792907715,
          -9.533265113830566,
          6.38795280456543,
          11.630498886108398,
          12.120641708374023,
          -14.176817893981934,
          -0.45745787024497986,
          -7.735196113586426,
          19.69919776916504,
          5.830535411834717,
          6.714743614196777,
          6.399466037750244,
          -1.0010210275650024,
          -2.055586814880371,
          11.394598007202148,
          -17.72242546081543,
          14.987817764282227,
          5.292370319366455,
          -1.568310260772705,
          15.31245231628418,
          -15.746440887451172,
          -11.52593994140625,
          4.351266384124756,
          7.432515621185303,
          20.41187286376953,
          -13.100541114807129,
          19.69919776916504,
          -1.134456753730774,
          -5.8211750984191895,
          14.162056922912598,
          -6.604599475860596,
          -3.637547254562378,
          3.0326783657073975,
          -6.859641075134277,
          -0.45409899950027466,
          -2.3625431060791016,
          0.8750638961791992,
          18.732877731323242,
          -7.988117694854736,
          3.2116153240203857,
          12.61750602722168,
          2.3650193214416504,
          8.688178062438965,
          -6.2916693687438965,
          2.314720630645752,
          4.949007511138916,
          10.002262115478516,
          0.3888513743877411,
          -14.737446784973145,
          -7.850030899047852,
          4.8505778312683105,
          14.561626434326172,
          -1.1438788175582886,
          20.916303634643555,
          11.948878288269043,
          -6.519623279571533,
          4.940000534057617,
          1.747254729270935,
          6.885715007781982,
          -18.811140060424805,
          12.051494598388672,
          7.44736385345459,
          4.536669731140137,
          2.73190975189209,
          20.481243133544922,
          -15.482197761535645,
          6.733061790466309,
          16.735761642456055,
          2.950914144515991,
          20.38591957092285,
          -5.553422927856445,
          20.42034149169922,
          20.589847564697266,
          19.489919662475586,
          11.235006332397461,
          2.88649582862854,
          -3.6434669494628906,
          14.144708633422852,
          -2.427269697189331,
          -5.526525974273682,
          18.733274459838867,
          -0.5871565341949463,
          -13.90080738067627,
          -9.871397018432617,
          -6.89265251159668,
          -0.4947417974472046,
          12.451804161071777,
          2.3885574340820312,
          18.26078224182129,
          -18.86020278930664,
          -2.5856103897094727,
          7.446593761444092,
          -10.377866744995117,
          -14.02901840209961,
          4.949007511138916,
          -0.39967137575149536,
          -2.1229248046875,
          -1.165755033493042,
          10.731436729431152,
          -15.037681579589844,
          6.060381889343262,
          19.67133331298828,
          -1.801328420639038,
          -11.33519172668457,
          17.930389404296875,
          4.02047872543335,
          15.992057800292969,
          16.00313377380371,
          19.891653060913086,
          -2.1231114864349365,
          -0.009383104741573334,
          -4.7365593910217285,
          12.94965648651123,
          -3.254357099533081,
          9.991361618041992,
          8.688178062438965,
          15.029949188232422,
          7.443411350250244,
          11.390043258666992,
          11.510790824890137,
          -0.789262056350708,
          20.504741668701172,
          -15.398721694946289,
          3.426880121231079,
          18.34088706970215,
          -7.041799068450928,
          -11.741798400878906,
          0.33953601121902466,
          18.726327896118164,
          10.034008979797363,
          -2.1413826942443848,
          12.992999076843262,
          -4.166783809661865,
          11.337746620178223,
          1.696395993232727,
          9.887260437011719,
          -12.377690315246582,
          11.402369499206543,
          10.393332481384277,
          0.8894609808921814,
          16.332359313964844,
          -1.9965214729309082,
          0.3552347421646118,
          6.586668014526367,
          -6.666912078857422,
          16.00313377380371,
          10.20541763305664,
          15.033617973327637,
          20.15338134765625,
          -5.301148891448975,
          12.963533401489258,
          14.846516609191895,
          15.799304962158203,
          -1.3456542491912842,
          14.27323055267334,
          -3.5034425258636475,
          12.863271713256836,
          11.968408584594727,
          5.2912983894348145,
          8.769012451171875,
          8.869354248046875,
          17.940629959106445,
          6.948448657989502,
          6.764699459075928
         ]
        },
        {
         "marker": {
          "color": "rgba(128, 0, 128, 1.0)",
          "line": {
           "width": 1.3
          },
          "opacity": 0.8,
          "size": 12,
          "symbol": "circle"
         },
         "mode": "markers",
         "name": "ICML",
         "text": [
          "OptNet: Differentiable Optimization as a Layer in Neural Networks",
          "Input Convex Neural Networks",
          "Wasserstein Generative Adversarial Networks",
          "Synthesizing Robust Adversarial Examples",
          "Differentially Private Database Release via Kernel Mean Embeddings",
          "Optimizing the Latent Space of Generative Networks",
          "NetGAN: Generating Graphs via Random Walks",
          "Compressed Sensing using Generative Models",
          "Predict and Constrain: Modeling Cardinality in Deep Structured Prediction",
          "Path-Level Network Transformation for Efficient Architecture Search",
          "Adversarial Learning with Local Coordinate Coding",
          "Adversarial Time-to-Event Modeling",
          "Learning K-way D-dimensional Discrete Codes for Compact Embedding Representations",
          "DRACO: Byzantine-resilient Distributed Training via Redundant Gradients",
          "AdaNet: Adaptive Structural Learning of Artificial Neural Networks",
          "Inference Suboptimality in Variational Autoencoders",
          "Stochastic Generative Hashing",
          "Adversarial Attack on Graph Structured Data",
          "Language Modeling with Gated Convolutional Networks",
          "Stochastic Video Generation with a Learned Prior",
          "Dance Dance Convolution",
          "Model-Agnostic Meta-Learning for Fast Adaptation of Deep Networks",
          "Input Switched Affine Networks: An RNN Architecture Designed for Interpretability",
          "Bilevel Programming for Hyperparameter Optimization and Meta-Learning",
          "Convolutional Sequence to Sequence Learning",
          "Visualizing and Understanding Atari Agents",
          "On Calibration of Modern Neural Networks",
          "DeepBach: a Steerable Model for Bach Chorales Generation",
          "Learning unknown ODE models with Gaussian processes",
          "Toward Controlled Generation of Text",
          "Neural Autoregressive Flows",
          "Decoupled Parallel Backpropagation with Convergence Guarantee",
          "Attention-based Deep Multiple Instance Learning",
          "Black-box Adversarial Attacks with Limited Queries and Information",
          "Decoupled Neural Interfaces using Synthetic Gradients",
          "Efficient end-to-end learning for quantizable representations",
          "Composite Functional Gradient Learning of Generative  Adversarial Models",
          "Video Pixel Networks",
          "Efficient Neural Audio Synthesis",
          "Learning to Discover Cross-Domain Relations with Generative Adversarial Networks",
          "SplitNet: Learning to Semantically Split Deep Networks for Parameter Reduction and Model Parallelization",
          "Disentangling by Factorising",
          "Neural Relational Inference for Interacting Systems",
          "Grammar Variational Autoencoder",
          "Deep Spectral Clustering Learning",
          "Hierarchical Imitation and Reinforcement Learning",
          "Confident Multiple Choice Learning",
          "Gated Path Planning Networks",
          "Noise2Noise: Learning Image Restoration without Clean Data",
          "Dropout Inference in Bayesian Neural Networks with Alpha-divergences",
          "Explicit Inductive Bias for Transfer Learning with Convolutional Networks",
          "Towards Binary-Valued Gates for Robust LSTM Training",
          "Zero-Inflated Exponential Family Embeddings",
          "Dimensionality-Driven Learning with Noisy Labels",
          "Adversarial Variational Bayes: Unifying Variational Autoencoders and Generative Adversarial Networks",
          "Device Placement Optimization with Reinforcement Learning",
          "SparseMAP: Differentiable Sparse Structured Inference",
          "A Theoretical Explanation for Perplexing Behaviors of Backpropagation-based Visualizations",
          "The Statistical Recurrent Unit",
          "Count-Based Exploration with Neural Density Models",
          "Efficient Neural Architecture Search via Parameters Sharing",
          "Robust Adversarial Reinforcement Learning",
          "Neural Episodic Control",
          "Online and Linear-Time Attention by Enforcing Monotonic Alignments",
          "Learning to Reweight Examples for Robust Deep Learning",
          "Deep One-Class Classification",
          "First Order Generative Adversarial Networks",
          "Finding Influential Training Samples for Gradient Boosted Decision Trees",
          "A Spectral Approach to Gradient Estimation for Implicit Distributions",
          "Bottleneck Conditional Density Estimation",
          "Attentive Recurrent Comparators",
          "The Predictron:  End-To-End Learning and Planning",
          "Accelerating Natural Gradient with Higher-Order Invariance",
          "Exploiting the Potential of Standard Convolutional Autoencoders for Image Restoration by Evolutionary Search",
          "Neural Program Synthesis from Diverse Demonstration Videos",
          "Differentiable Compositional Kernel Learning for Gaussian Processes",
          "Axiomatic Attribution for Deep Networks",
          "Black Box FDR",
          "Learning Longer-term Dependencies in RNNs with Auxiliary Losses",
          "The Mirage of Action-Dependent Baselines in Reinforcement Learning",
          "Learning to Generate Long-term Future via Hierarchical Prediction",
          "PredRNN++: Towards A Resolution of the Deep-in-Time Dilemma in Spatiotemporal Predictive Learning",
          "Style Tokens: Unsupervised Style Modeling, Control and Transfer in End-to-End Speech Synthesis",
          "Transfer Learning via Learning to Transfer",
          "Hierarchical Long-term Video Prediction without Supervision",
          "Variance Regularized Counterfactual Risk Minimization via Variational Divergence Minimization",
          "Deep k-Means: Re-Training and Parameter Sharing with Harder Cluster Assignments for Compressing Deep Convolutions",
          "Learning Semantic Representations for Unsupervised Domain Adaptation",
          "Improved Variational Autoencoders for Text Modeling using Dilated Convolutions",
          "Mean Field Multi-Agent Reinforcement Learning",
          "Combined Group and Exclusive Sparsity for Deep Neural Networks",
          "GraphRNN: Generating Realistic Graphs with Deep Auto-regressive Models",
          "Continual Learning Through Synaptic Intelligence",
          "Adversarial Feature Matching for Text Generation",
          "Convexified Convolutional Neural Networks",
          "Noisy Natural Gradient as Variational Inference",
          "Follow the Moving Leader in Deep Learning",
          "Recurrent Highway Networks"
         ],
         "textfont": {
          "color": "#4D5663"
         },
         "type": "scatter",
         "x": [
          -8.68237590789795,
          5.428737163543701,
          -1.1378575563430786,
          -7.21181058883667,
          -9.52187442779541,
          0.08346008509397507,
          -13.657767295837402,
          -12.118638038635254,
          13.302117347717285,
          5.527338981628418,
          -11.990315437316895,
          -14.143017768859863,
          -16.58918571472168,
          -15.300368309020996,
          -7.288468837738037,
          -9.348336219787598,
          -14.975074768066406,
          -11.405265808105469,
          -15.088277816772461,
          -16.998577117919922,
          13.605921745300293,
          -9.278827667236328,
          -10.949624061584473,
          -18.66811180114746,
          -5.17038106918335,
          -16.29771614074707,
          -4.8793511390686035,
          -11.85798168182373,
          -12.217004776000977,
          -9.671428680419922,
          -11.889986038208008,
          -2.0525848865509033,
          -4.5047736167907715,
          -3.3768935203552246,
          -11.292922973632812,
          -2.1641125679016113,
          -18.077194213867188,
          10.51133918762207,
          -15.986298561096191,
          -7.024784564971924,
          -4.141096115112305,
          -0.5653109550476074,
          -9.280948638916016,
          -4.618255138397217,
          -5.265749454498291,
          -18.660091400146484,
          1.1819140911102295,
          -7.281893730163574,
          -12.425435066223145,
          -11.178736686706543,
          -18.3702335357666,
          -11.603254318237305,
          -9.7632474899292,
          -8.079843521118164,
          -16.097829818725586,
          8.49427604675293,
          -1.176493525505066,
          -8.673619270324707,
          -5.277063369750977,
          -0.9848296046257019,
          12.941601753234863,
          -19.423582077026367,
          -12.48466968536377,
          1.0301313400268555,
          0.3799425959587097,
          -2.44468355178833,
          -3.738492965698242,
          -14.400336265563965,
          -11.746160507202148,
          -13.449788093566895,
          16.163108825683594,
          -9.816732406616211,
          -12.188800811767578,
          6.624324798583984,
          -12.591995239257812,
          -7.319779396057129,
          -12.422183990478516,
          -9.649797439575195,
          -9.27474308013916,
          -11.471033096313477,
          -12.480143547058105,
          -13.515210151672363,
          19.370506286621094,
          -13.308570861816406,
          -13.142585754394531,
          -11.244284629821777,
          1.012722373008728,
          -13.883108139038086,
          -10.296060562133789,
          -11.242379188537598,
          -10.235424041748047,
          -9.443465232849121,
          -10.180604934692383,
          1.7021443843841553,
          -10.615665435791016,
          -9.992664337158203,
          -1.3007816076278687,
          -13.606184005737305
         ],
         "y": [
          -0.060899458825588226,
          -13.397150039672852,
          8.237712860107422,
          15.213215827941895,
          -7.9517621994018555,
          -11.140862464904785,
          -9.878339767456055,
          -4.377182483673096,
          -0.16779565811157227,
          -13.273605346679688,
          -9.564146041870117,
          -14.713552474975586,
          -1.8818336725234985,
          -9.908188819885254,
          -6.946713447570801,
          -0.32235223054885864,
          -4.5949554443359375,
          -18.805835723876953,
          -4.570550441741943,
          -2.2198352813720703,
          -7.83721923828125,
          -17.627826690673828,
          3.9444360733032227,
          -0.6949248313903809,
          -13.865365028381348,
          -1.717780590057373,
          -2.5735628604888916,
          0.2116512656211853,
          4.785628318786621,
          -6.3254218101501465,
          -5.141777515411377,
          -14.460585594177246,
          -6.228446006774902,
          5.283877372741699,
          -5.27979040145874,
          -9.775932312011719,
          -3.1023104190826416,
          -5.124516487121582,
          -13.387530326843262,
          -8.807908058166504,
          -18.32203483581543,
          3.63305926322937,
          -17.38563346862793,
          -21.833452224731445,
          -0.9686166048049927,
          -0.863516628742218,
          -10.342907905578613,
          -15.008926391601562,
          5.095519065856934,
          -5.144576072692871,
          0.9414680004119873,
          -9.12573528289795,
          6.108365058898926,
          -10.0592041015625,
          -13.54736328125,
          -4.004719257354736,
          -11.545234680175781,
          -11.433022499084473,
          -0.9921842217445374,
          8.093976020812988,
          -8.190033912658691,
          -10.57845401763916,
          -2.928382158279419,
          -11.361895561218262,
          -18.552141189575195,
          -17.241065979003906,
          5.58095645904541,
          -10.542718887329102,
          -13.165308952331543,
          -15.426547050476074,
          -11.210517883300781,
          6.140058517456055,
          -15.869768142700195,
          -11.206459999084473,
          0.0075712245889008045,
          -8.665246963500977,
          -2.8322818279266357,
          -0.38083916902542114,
          -12.105027198791504,
          -8.93363094329834,
          -3.024833917617798,
          -9.86217212677002,
          -3.07951021194458,
          4.088203430175781,
          4.209796905517578,
          -15.307389259338379,
          -10.696196556091309,
          -9.85049057006836,
          1.3886972665786743,
          -15.284027099609375,
          2.3107707500457764,
          -0.3324722945690155,
          2.3116471767425537,
          -18.412771224975586,
          -12.980189323425293,
          -17.66442108154297,
          8.438480377197266,
          -5.3242058753967285
         ]
        },
        {
         "marker": {
          "color": "rgba(219, 64, 82, 1.0)",
          "line": {
           "width": 1.3
          },
          "opacity": 0.8,
          "size": 12,
          "symbol": "circle"
         },
         "mode": "markers",
         "name": "ICCV",
         "text": [
          "VQA: Visual Question Answering",
          "CVAE-GAN: Fine-Grained Image Generation Through Asymmetric Training",
          "Convolutional Color Constancy",
          "Deep TextSpotter: An End-To-End Trainable Scene Text Localization and Recognition Framework",
          "SubUNets: End-To-End Hand Shape and Continuous Sign Language Recognition",
          "HashNet: Deep Learning to Hash by Continuation",
          "Deep Adaptive Image Clustering",
          "Deep Colorization",
          "Photographic Image Synthesis With Cascaded Refinement Networks",
          "Query-Guided Regression Network With Context Policy for Phrase Grounding",
          "Pixel Recursive Super Resolution",
          "Deformable Convolutional Networks",
          "Attributes2Classname: A Discriminative Model for Attribute-Based Unsupervised Zero-Shot Learning",
          "RPAN: An End-To-End Recurrent Pose-Attention Network for Action Recognition in Videos",
          "BlitzNet: A Real-Time Deep Network for Scene Understanding",
          "Predicting Depth, Surface Normals and Semantic Labels With a Common Multi-Scale Convolutional Architecture",
          "Interpretable Explanations of Black Boxes by Meaningful Perturbation",
          "Single Image 3D Without a Single 3D Image",
          "Associative Domain Adaptation",
          "Automatic Spatially-Aware Fashion Concept Discovery",
          "Mask R-CNN",
          "Beyond Face Rotation: Global and Local Perception GAN for Photorealistic and Identity Preserving Frontal View Synthesis",
          "Wavelet-SRNet: A Wavelet-Based CNN for Multi-Scale Face Super Resolution",
          "Learning to Reason: End-To-End Module Networks for Visual Question Answering",
          "DSLR-Quality Photos on Mobile Devices With Deep Convolutional Networks",
          "PoseNet: A Convolutional Network for Real-Time 6-DOF Camera Relocalization",
          "Escape From Cells: Deep Kd-Networks for the Recognition of 3D Point Cloud Models",
          "Learning to Push the Limits of Efficient FFT-Based Image Deconvolution",
          "Introspective Neural Networks for Generative Modeling",
          "RoomNet: End-To-End Room Layout Estimation",
          "Learning Efficient Convolutional Networks Through Network Slimming",
          "Raster-To-Vector: Revisiting Floorplan Transformation",
          "Rotation Equivariant Vector Field Networks",
          "Attentive Semantic Video Generation Using Captions",
          "Domain-Adaptive Deep Network Compression",
          "Learning Proximal Operators: Using Denoising Networks for Regularizing Inverse Imaging Problems",
          "Curriculum Dropout",
          "No Fuss Distance Metric Learning Using Proxies",
          "Video Frame Interpolation via Adaptive Separable Convolution",
          "Representation Learning by Learning to Count",
          "GANs for Biological Image Synthesis",
          "Following Gaze in Video",
          "EnhanceNet: Single Image Super-Resolution Through Automated Texture Synthesis",
          "Grad-CAM: Visual Explanations From Deep Networks via Gradient-Based Localization",
          "DSOD: Learning Deeply Supervised Object Detectors From Scratch",
          "Incremental Learning of Object Detectors Without Catastrophic Forgetting",
          "Hide-And-Seek: Forcing a Network to Be Meticulous for Weakly-Supervised Object and Action Localization",
          "Face Flow",
          "Multi-View Convolutional Neural Networks for 3D Shape Recognition",
          "Reasoning About Fine-Grained Attribute Phrases Using Reference Games",
          "Click Here: Human-Localized Keypoints as Guidance for Viewpoint Estimation",
          "MemNet: A Persistent Memory Network for Image Restoration",
          "Unsupervised Learning of Object Landmarks by Factorized Spatial Embeddings",
          "Image Super-Resolution Using Dense Skip Connections",
          "Unsupervised Adaptation for Deep Stereo",
          "Simultaneous Deep Transfer Across Domains and Tasks",
          "Sequence to Sequence - Video to Text",
          "Revisiting IM2GPS in the Deep Learning Era",
          "Multi-Label Image Recognition by Recurrently Discovering Attentional Regions",
          "Learning Blind Motion Deblurring",
          "Self-Organized Text Detection With Minimal Post-Processing via Border Learning",
          "Curriculum Domain Adaptation for Semantic Segmentation of Urban Scenes",
          "Learning Spread-Out Local Feature Descriptors",
          "Conditional Random Fields as Recurrent Neural Networks",
          "Unlabeled Samples Generated by GAN Improve the Person Re-Identification Baseline in Vitro"
         ],
         "textfont": {
          "color": "#4D5663"
         },
         "type": "scatter",
         "x": [
          -7.208314418792725,
          -0.24688470363616943,
          -13.069812774658203,
          13.964482307434082,
          8.915422439575195,
          11.803010940551758,
          -2.5178885459899902,
          12.312761306762695,
          -1.7738736867904663,
          7.1062493324279785,
          15.030682563781738,
          1.5813531875610352,
          -2.659180164337158,
          -7.515749454498291,
          15.105864524841309,
          2.3766136169433594,
          4.346724510192871,
          4.373833656311035,
          -7.320755958557129,
          13.56704330444336,
          -7.288212776184082,
          -0.21056824922561646,
          10.556600570678711,
          17.06455421447754,
          6.722080707550049,
          -7.21977424621582,
          3.169163942337036,
          15.029041290283203,
          -0.024919509887695312,
          7.317579746246338,
          10.6005220413208,
          7.7134881019592285,
          8.496591567993164,
          20.118526458740234,
          12.152734756469727,
          12.141521453857422,
          12.13934326171875,
          0.34852397441864014,
          12.145034790039062,
          15.030682563781738,
          13.639415740966797,
          -1.6900337934494019,
          -2.467860698699951,
          -0.2590970993041992,
          11.760420799255371,
          10.959537506103516,
          -12.437358856201172,
          -15.449301719665527,
          2.3095791339874268,
          -0.23049810528755188,
          15.008578300476074,
          9.923173904418945,
          -3.4474663734436035,
          15.030682563781738,
          -8.474103927612305,
          19.912900924682617,
          12.911016464233398,
          15.164237022399902,
          6.211130619049072,
          -7.386507034301758,
          -0.23913662135601044,
          10.732592582702637,
          -0.22351644933223724,
          2.3062570095062256,
          5.624587535858154
         ],
         "y": [
          12.14647102355957,
          24.486669540405273,
          4.770031452178955,
          -2.526972532272339,
          -9.257414817810059,
          3.2736377716064453,
          -9.252246856689453,
          8.158591270446777,
          8.766973495483398,
          -5.93790864944458,
          18.02444839477539,
          -2.0170602798461914,
          12.962730407714844,
          -19.845136642456055,
          18.007888793945312,
          9.602872848510742,
          0.9656359553337097,
          10.685401916503906,
          9.046123504638672,
          16.118593215942383,
          16.105222702026367,
          24.51054573059082,
          -15.101459503173828,
          -12.421340942382812,
          -6.18454122543335,
          12.352727890014648,
          6.035023212432861,
          18.006860733032227,
          -0.49937504529953003,
          19.60624885559082,
          -15.02877426147461,
          2.4783926010131836,
          -0.3285149931907654,
          -3.652705669403076,
          12.736193656921387,
          12.745881080627441,
          12.870567321777344,
          2.2009165287017822,
          3.5896480083465576,
          18.02444839477539,
          -10.664521217346191,
          2.801792860031128,
          9.944417953491211,
          24.510156631469727,
          11.293400764465332,
          15.578530311584473,
          12.643856048583984,
          -0.2842651605606079,
          9.60222339630127,
          24.53743553161621,
          17.99492835998535,
          -9.60980224609375,
          -3.0056939125061035,
          18.02444839477539,
          2.110503911972046,
          -3.7759830951690674,
          -0.7796605229377747,
          -14.078193664550781,
          16.521587371826172,
          3.74945068359375,
          24.513269424438477,
          -4.345615863800049,
          24.587215423583984,
          9.608141899108887,
          -13.512767791748047
         ]
        }
       ],
       "layout": {
        "legend": {
         "bgcolor": "#F5F6F9",
         "font": {
          "color": "#4D5663"
         }
        },
        "paper_bgcolor": "#F5F6F9",
        "plot_bgcolor": "#F5F6F9",
        "template": {
         "data": {
          "bar": [
           {
            "error_x": {
             "color": "#2a3f5f"
            },
            "error_y": {
             "color": "#2a3f5f"
            },
            "marker": {
             "line": {
              "color": "#E5ECF6",
              "width": 0.5
             }
            },
            "type": "bar"
           }
          ],
          "barpolar": [
           {
            "marker": {
             "line": {
              "color": "#E5ECF6",
              "width": 0.5
             }
            },
            "type": "barpolar"
           }
          ],
          "carpet": [
           {
            "aaxis": {
             "endlinecolor": "#2a3f5f",
             "gridcolor": "white",
             "linecolor": "white",
             "minorgridcolor": "white",
             "startlinecolor": "#2a3f5f"
            },
            "baxis": {
             "endlinecolor": "#2a3f5f",
             "gridcolor": "white",
             "linecolor": "white",
             "minorgridcolor": "white",
             "startlinecolor": "#2a3f5f"
            },
            "type": "carpet"
           }
          ],
          "choropleth": [
           {
            "colorbar": {
             "outlinewidth": 0,
             "ticks": ""
            },
            "type": "choropleth"
           }
          ],
          "contour": [
           {
            "colorbar": {
             "outlinewidth": 0,
             "ticks": ""
            },
            "colorscale": [
             [
              0,
              "#0d0887"
             ],
             [
              0.1111111111111111,
              "#46039f"
             ],
             [
              0.2222222222222222,
              "#7201a8"
             ],
             [
              0.3333333333333333,
              "#9c179e"
             ],
             [
              0.4444444444444444,
              "#bd3786"
             ],
             [
              0.5555555555555556,
              "#d8576b"
             ],
             [
              0.6666666666666666,
              "#ed7953"
             ],
             [
              0.7777777777777778,
              "#fb9f3a"
             ],
             [
              0.8888888888888888,
              "#fdca26"
             ],
             [
              1,
              "#f0f921"
             ]
            ],
            "type": "contour"
           }
          ],
          "contourcarpet": [
           {
            "colorbar": {
             "outlinewidth": 0,
             "ticks": ""
            },
            "type": "contourcarpet"
           }
          ],
          "heatmap": [
           {
            "colorbar": {
             "outlinewidth": 0,
             "ticks": ""
            },
            "colorscale": [
             [
              0,
              "#0d0887"
             ],
             [
              0.1111111111111111,
              "#46039f"
             ],
             [
              0.2222222222222222,
              "#7201a8"
             ],
             [
              0.3333333333333333,
              "#9c179e"
             ],
             [
              0.4444444444444444,
              "#bd3786"
             ],
             [
              0.5555555555555556,
              "#d8576b"
             ],
             [
              0.6666666666666666,
              "#ed7953"
             ],
             [
              0.7777777777777778,
              "#fb9f3a"
             ],
             [
              0.8888888888888888,
              "#fdca26"
             ],
             [
              1,
              "#f0f921"
             ]
            ],
            "type": "heatmap"
           }
          ],
          "heatmapgl": [
           {
            "colorbar": {
             "outlinewidth": 0,
             "ticks": ""
            },
            "colorscale": [
             [
              0,
              "#0d0887"
             ],
             [
              0.1111111111111111,
              "#46039f"
             ],
             [
              0.2222222222222222,
              "#7201a8"
             ],
             [
              0.3333333333333333,
              "#9c179e"
             ],
             [
              0.4444444444444444,
              "#bd3786"
             ],
             [
              0.5555555555555556,
              "#d8576b"
             ],
             [
              0.6666666666666666,
              "#ed7953"
             ],
             [
              0.7777777777777778,
              "#fb9f3a"
             ],
             [
              0.8888888888888888,
              "#fdca26"
             ],
             [
              1,
              "#f0f921"
             ]
            ],
            "type": "heatmapgl"
           }
          ],
          "histogram": [
           {
            "marker": {
             "colorbar": {
              "outlinewidth": 0,
              "ticks": ""
             }
            },
            "type": "histogram"
           }
          ],
          "histogram2d": [
           {
            "colorbar": {
             "outlinewidth": 0,
             "ticks": ""
            },
            "colorscale": [
             [
              0,
              "#0d0887"
             ],
             [
              0.1111111111111111,
              "#46039f"
             ],
             [
              0.2222222222222222,
              "#7201a8"
             ],
             [
              0.3333333333333333,
              "#9c179e"
             ],
             [
              0.4444444444444444,
              "#bd3786"
             ],
             [
              0.5555555555555556,
              "#d8576b"
             ],
             [
              0.6666666666666666,
              "#ed7953"
             ],
             [
              0.7777777777777778,
              "#fb9f3a"
             ],
             [
              0.8888888888888888,
              "#fdca26"
             ],
             [
              1,
              "#f0f921"
             ]
            ],
            "type": "histogram2d"
           }
          ],
          "histogram2dcontour": [
           {
            "colorbar": {
             "outlinewidth": 0,
             "ticks": ""
            },
            "colorscale": [
             [
              0,
              "#0d0887"
             ],
             [
              0.1111111111111111,
              "#46039f"
             ],
             [
              0.2222222222222222,
              "#7201a8"
             ],
             [
              0.3333333333333333,
              "#9c179e"
             ],
             [
              0.4444444444444444,
              "#bd3786"
             ],
             [
              0.5555555555555556,
              "#d8576b"
             ],
             [
              0.6666666666666666,
              "#ed7953"
             ],
             [
              0.7777777777777778,
              "#fb9f3a"
             ],
             [
              0.8888888888888888,
              "#fdca26"
             ],
             [
              1,
              "#f0f921"
             ]
            ],
            "type": "histogram2dcontour"
           }
          ],
          "mesh3d": [
           {
            "colorbar": {
             "outlinewidth": 0,
             "ticks": ""
            },
            "type": "mesh3d"
           }
          ],
          "parcoords": [
           {
            "line": {
             "colorbar": {
              "outlinewidth": 0,
              "ticks": ""
             }
            },
            "type": "parcoords"
           }
          ],
          "pie": [
           {
            "automargin": true,
            "type": "pie"
           }
          ],
          "scatter": [
           {
            "marker": {
             "colorbar": {
              "outlinewidth": 0,
              "ticks": ""
             }
            },
            "type": "scatter"
           }
          ],
          "scatter3d": [
           {
            "line": {
             "colorbar": {
              "outlinewidth": 0,
              "ticks": ""
             }
            },
            "marker": {
             "colorbar": {
              "outlinewidth": 0,
              "ticks": ""
             }
            },
            "type": "scatter3d"
           }
          ],
          "scattercarpet": [
           {
            "marker": {
             "colorbar": {
              "outlinewidth": 0,
              "ticks": ""
             }
            },
            "type": "scattercarpet"
           }
          ],
          "scattergeo": [
           {
            "marker": {
             "colorbar": {
              "outlinewidth": 0,
              "ticks": ""
             }
            },
            "type": "scattergeo"
           }
          ],
          "scattergl": [
           {
            "marker": {
             "colorbar": {
              "outlinewidth": 0,
              "ticks": ""
             }
            },
            "type": "scattergl"
           }
          ],
          "scattermapbox": [
           {
            "marker": {
             "colorbar": {
              "outlinewidth": 0,
              "ticks": ""
             }
            },
            "type": "scattermapbox"
           }
          ],
          "scatterpolar": [
           {
            "marker": {
             "colorbar": {
              "outlinewidth": 0,
              "ticks": ""
             }
            },
            "type": "scatterpolar"
           }
          ],
          "scatterpolargl": [
           {
            "marker": {
             "colorbar": {
              "outlinewidth": 0,
              "ticks": ""
             }
            },
            "type": "scatterpolargl"
           }
          ],
          "scatterternary": [
           {
            "marker": {
             "colorbar": {
              "outlinewidth": 0,
              "ticks": ""
             }
            },
            "type": "scatterternary"
           }
          ],
          "surface": [
           {
            "colorbar": {
             "outlinewidth": 0,
             "ticks": ""
            },
            "colorscale": [
             [
              0,
              "#0d0887"
             ],
             [
              0.1111111111111111,
              "#46039f"
             ],
             [
              0.2222222222222222,
              "#7201a8"
             ],
             [
              0.3333333333333333,
              "#9c179e"
             ],
             [
              0.4444444444444444,
              "#bd3786"
             ],
             [
              0.5555555555555556,
              "#d8576b"
             ],
             [
              0.6666666666666666,
              "#ed7953"
             ],
             [
              0.7777777777777778,
              "#fb9f3a"
             ],
             [
              0.8888888888888888,
              "#fdca26"
             ],
             [
              1,
              "#f0f921"
             ]
            ],
            "type": "surface"
           }
          ],
          "table": [
           {
            "cells": {
             "fill": {
              "color": "#EBF0F8"
             },
             "line": {
              "color": "white"
             }
            },
            "header": {
             "fill": {
              "color": "#C8D4E3"
             },
             "line": {
              "color": "white"
             }
            },
            "type": "table"
           }
          ]
         },
         "layout": {
          "annotationdefaults": {
           "arrowcolor": "#2a3f5f",
           "arrowhead": 0,
           "arrowwidth": 1
          },
          "coloraxis": {
           "colorbar": {
            "outlinewidth": 0,
            "ticks": ""
           }
          },
          "colorscale": {
           "diverging": [
            [
             0,
             "#8e0152"
            ],
            [
             0.1,
             "#c51b7d"
            ],
            [
             0.2,
             "#de77ae"
            ],
            [
             0.3,
             "#f1b6da"
            ],
            [
             0.4,
             "#fde0ef"
            ],
            [
             0.5,
             "#f7f7f7"
            ],
            [
             0.6,
             "#e6f5d0"
            ],
            [
             0.7,
             "#b8e186"
            ],
            [
             0.8,
             "#7fbc41"
            ],
            [
             0.9,
             "#4d9221"
            ],
            [
             1,
             "#276419"
            ]
           ],
           "sequential": [
            [
             0,
             "#0d0887"
            ],
            [
             0.1111111111111111,
             "#46039f"
            ],
            [
             0.2222222222222222,
             "#7201a8"
            ],
            [
             0.3333333333333333,
             "#9c179e"
            ],
            [
             0.4444444444444444,
             "#bd3786"
            ],
            [
             0.5555555555555556,
             "#d8576b"
            ],
            [
             0.6666666666666666,
             "#ed7953"
            ],
            [
             0.7777777777777778,
             "#fb9f3a"
            ],
            [
             0.8888888888888888,
             "#fdca26"
            ],
            [
             1,
             "#f0f921"
            ]
           ],
           "sequentialminus": [
            [
             0,
             "#0d0887"
            ],
            [
             0.1111111111111111,
             "#46039f"
            ],
            [
             0.2222222222222222,
             "#7201a8"
            ],
            [
             0.3333333333333333,
             "#9c179e"
            ],
            [
             0.4444444444444444,
             "#bd3786"
            ],
            [
             0.5555555555555556,
             "#d8576b"
            ],
            [
             0.6666666666666666,
             "#ed7953"
            ],
            [
             0.7777777777777778,
             "#fb9f3a"
            ],
            [
             0.8888888888888888,
             "#fdca26"
            ],
            [
             1,
             "#f0f921"
            ]
           ]
          },
          "colorway": [
           "#636efa",
           "#EF553B",
           "#00cc96",
           "#ab63fa",
           "#FFA15A",
           "#19d3f3",
           "#FF6692",
           "#B6E880",
           "#FF97FF",
           "#FECB52"
          ],
          "font": {
           "color": "#2a3f5f"
          },
          "geo": {
           "bgcolor": "white",
           "lakecolor": "white",
           "landcolor": "#E5ECF6",
           "showlakes": true,
           "showland": true,
           "subunitcolor": "white"
          },
          "hoverlabel": {
           "align": "left"
          },
          "hovermode": "closest",
          "mapbox": {
           "style": "light"
          },
          "paper_bgcolor": "white",
          "plot_bgcolor": "#E5ECF6",
          "polar": {
           "angularaxis": {
            "gridcolor": "white",
            "linecolor": "white",
            "ticks": ""
           },
           "bgcolor": "#E5ECF6",
           "radialaxis": {
            "gridcolor": "white",
            "linecolor": "white",
            "ticks": ""
           }
          },
          "scene": {
           "xaxis": {
            "backgroundcolor": "#E5ECF6",
            "gridcolor": "white",
            "gridwidth": 2,
            "linecolor": "white",
            "showbackground": true,
            "ticks": "",
            "zerolinecolor": "white"
           },
           "yaxis": {
            "backgroundcolor": "#E5ECF6",
            "gridcolor": "white",
            "gridwidth": 2,
            "linecolor": "white",
            "showbackground": true,
            "ticks": "",
            "zerolinecolor": "white"
           },
           "zaxis": {
            "backgroundcolor": "#E5ECF6",
            "gridcolor": "white",
            "gridwidth": 2,
            "linecolor": "white",
            "showbackground": true,
            "ticks": "",
            "zerolinecolor": "white"
           }
          },
          "shapedefaults": {
           "line": {
            "color": "#2a3f5f"
           }
          },
          "ternary": {
           "aaxis": {
            "gridcolor": "white",
            "linecolor": "white",
            "ticks": ""
           },
           "baxis": {
            "gridcolor": "white",
            "linecolor": "white",
            "ticks": ""
           },
           "bgcolor": "#E5ECF6",
           "caxis": {
            "gridcolor": "white",
            "linecolor": "white",
            "ticks": ""
           }
          },
          "title": {
           "x": 0.05
          },
          "xaxis": {
           "automargin": true,
           "gridcolor": "white",
           "linecolor": "white",
           "ticks": "",
           "title": {
            "standoff": 15
           },
           "zerolinecolor": "white",
           "zerolinewidth": 2
          },
          "yaxis": {
           "automargin": true,
           "gridcolor": "white",
           "linecolor": "white",
           "ticks": "",
           "title": {
            "standoff": 15
           },
           "zerolinecolor": "white",
           "zerolinewidth": 2
          }
         }
        },
        "title": {
         "font": {
          "color": "#4D5663"
         },
         "text": "Combined Graph (TSNE)"
        },
        "xaxis": {
         "gridcolor": "#E1E5ED",
         "showgrid": true,
         "tickfont": {
          "color": "#4D5663"
         },
         "title": {
          "font": {
           "color": "#4D5663"
          },
          "text": ""
         },
         "zerolinecolor": "#E1E5ED"
        },
        "yaxis": {
         "gridcolor": "#E1E5ED",
         "showgrid": true,
         "tickfont": {
          "color": "#4D5663"
         },
         "title": {
          "font": {
           "color": "#4D5663"
          },
          "text": ""
         },
         "zerolinecolor": "#E1E5ED"
        }
       }
      },
      "text/html": [
       "<div>\n",
       "        \n",
       "        \n",
       "            <div id=\"bd44a4a0-a01b-4243-8236-9a2a162d462e\" class=\"plotly-graph-div\" style=\"height:525px; width:100%;\"></div>\n",
       "            <script type=\"text/javascript\">\n",
       "                require([\"plotly\"], function(Plotly) {\n",
       "                    window.PLOTLYENV=window.PLOTLYENV || {};\n",
       "                    window.PLOTLYENV.BASE_URL='https://plot.ly';\n",
       "                    \n",
       "                if (document.getElementById(\"bd44a4a0-a01b-4243-8236-9a2a162d462e\")) {\n",
       "                    Plotly.newPlot(\n",
       "                        'bd44a4a0-a01b-4243-8236-9a2a162d462e',\n",
       "                        [{\"marker\": {\"color\": \"rgba(255, 153, 51, 1.0)\", \"line\": {\"width\": 1.3}, \"opacity\": 0.8, \"size\": 12, \"symbol\": \"circle\"}, \"mode\": \"markers\", \"name\": \"NIPS\", \"text\": [\"Visualizing the Loss Landscape of Neural Nets\", \"PointCNN\", \"L4: Practical loss-based stepsize adaptation for deep learning\", \"Multimodal Generative Models for Scalable Weakly-Supervised Learning\", \"Neural Voice Cloning with a Few Samples\", \"The Description Length of Deep Learning models\", \"Deep Defense: Training DNNs with Improved Adversarial Robustness\", \"Adversarial Logit Pairing\", \"Realistic Evaluation of Deep Semi-Supervised Learning Algorithms\", \"DVAE#: Discrete Variational Autoencoders with Relaxed Boltzmann Priors\", \"BourGAN: Generative Networks with Metric Embeddings\", \"Bilinear Attention Networks\", \"Breaking the Activation Function Bottleneck through Adaptive Parameterization\", \"Hyperbolic Neural Networks\", \"Learning towards Minimum Hyperspherical Energy\", \"Generalizing to Unseen Domains via Adversarial Data Augmentation\", \"On GANs and GMMs\", \"Assessing Generative Models via Precision and Recall\", \"Relational recurrent neural networks\", \"Unsupervised Attention-guided Image-to-Image Translation\", \"Speaker-Follower Models for Vision-and-Language Navigation\", \"ATOMO: Communication-efficient Learning via Atomic Sparsification\", \"Generative Neural Machine Translation\", \"One-Shot Unsupervised Cross Domain Translation\", \"Banach Wasserstein GAN\", \"Neural Code Comprehension: A Learnable Representation of Code Semantics\", \"3D Steerable CNNs: Learning Rotationally Equivariant Features in Volumetric Data\", \"Glow: Generative Flow with Invertible 1x1 Convolutions\", \"Discovery of Latent 3D Keypoints via End-to-end Geometric Reasoning\", \"An intriguing failing of convolutional neural networks and the CoordConv solution\", \"Latent Alignment and Variational Attention\", \"Neural Arithmetic Logic Units\", \"Adaptive Skip Intervals: Temporal Abstraction for Recurrent Dynamical Models\", \"Video-to-Video Synthesis\", \"Generalisation in humans and deep neural networks\", \"A Unified Feature Disentangler for Multi-Domain Image Translation and Manipulation\", \"Neural Guided Constraint Logic Programming for Program Synthesis\", \"Deep Subspace Clustering Networks\", \"Dilated Recurrent Neural Networks\", \"Structured Embedding Models for Grouped Data\", \"Best of Both Worlds: Transferring Knowledge from Discriminative Learning to a Generative Visual Dialog Model\", \"Learning a Multi-View Stereo Machine\", \"Universal Style Transfer via Feature Transforms\", \"f-GANs in an Information Geometric Nutshell\", \"Toward Multimodal Image-to-Image Translation\", \"One-Sided Unsupervised Domain Mapping\", \"Deep Mean-Shift Priors for Image Restoration\", \"SchNet: A continuous-filter convolutional neural network for modeling quantum interactions\", \"Inductive Representation Learning on Large Graphs\", \"Mean teachers are better role models: Weight-averaged consistency targets improve semi-supervised deep learning results\", \"TernGrad: Ternary Gradients to Reduce Communication in Distributed Deep Learning\", \"NeuralFDR: Learning Discovery Thresholds from Hypothesis Features\", \"Learning Multiple Tasks with Multilinear Relationship Networks\", \"Train longer, generalize better: closing the generalization gap in large batch training of neural networks\", \"The Numerics of GANs\", \"Stabilizing Training of Generative Adversarial Networks through Regularization\", \"Training Deep Networks without Learning Rates Through Coin Betting\", \"MMD GAN: Towards Deeper Understanding of Moment Matching Network\", \"Few-Shot Learning Through an Information Retrieval  Lens\", \"Differentiable Learning of Logical Rules for Knowledge Base Reasoning\", \"OnACID: Online Analysis of Calcium Imaging Data in Real Time\", \"Fisher GAN\", \"Toward Goal-Driven Neural Network Models for the Rodent Whisker-Trigeminal System\", \"Predicting Organic Reaction Outcomes with Weisfeiler-Lehman Network\", \"REBAR: Low-variance, unbiased gradient estimates for discrete latent variable models\", \"ELF: An Extensive, Lightweight and Flexible Research Platform for Real-time Strategy Games\", \"Dual Discriminator Generative Adversarial Nets\", \"Bridging the Gap Between Value and Policy Based Reinforcement Learning\", \"Convolutional Gaussian Processes\", \"Deep Lattice Networks and Partial Monotonic Functions\", \"Hierarchical Attentive Recurrent Tracking\", \"Learning to Compose Domain-Specific Transformations for Data Augmentation\", \"Language Modeling with Recurrent Highway Hypernetworks\", \"Bayesian Compression for Deep Learning\", \"Streaming Sparse Gaussian Process Approximations\", \"Spherical convolutions and their application in molecular modelling\", \"Neural system identification for large populations separating \\u0093what\\u0094 and \\u0093where\\u0094\", \"A Disentangled Recognition and Nonlinear Dynamics Model for Unsupervised Learning\", \"Bayesian GAN\", \"Geometric Matrix Completion with Recurrent Multi-Graph Neural Networks\", \"Diving into the shallows: a computational perspective on large-scale shallow learning\", \"InfoGAIL: Interpretable Imitation Learning from Visual Demonstrations\", \"Deep Hyperspherical Learning\", \"On-the-fly Operation Batching in Dynamic Computation Graphs\", \"Streaming Weak Submodularity: Interpreting Neural Networks on the Fly\", \"Prototypical Networks for Few-shot Learning\", \"Multi-Information Source Optimization\", \"Dual Path Networks\", \"Doubly Stochastic Variational Inference for Deep Gaussian Processes\", \"QMDP-Net: Deep Learning for Planning under Partial Observability\", \"A Unified Approach to Interpreting Model Predictions\", \"Context Selection for Embedding Models\", \"Working hard to know your neighbor's margins: Local descriptor learning loss\", \"Learning to Prune Deep Neural Networks via Layer-wise Optimal Brain Surgeon\", \"DropoutNet: Addressing Cold Start in Recommender Systems\", \"PointNet++: Deep Hierarchical Feature Learning on Point Sets in a Metric Space\", \"A-NICE-MC: Adversarial Training for MCMC\", \"Riemannian approach to batch normalization\", \"Triangle Generative Adversarial Networks\", \"Scalable trust-region method for deep reinforcement learning using Kronecker-factored approximation\", \"Hybrid Reward Architecture for Reinforcement Learning\", \"AdaGAN: Boosting Generative Models\", \"Task-based End-to-end Model Learning in Stochastic Optimization\", \"Gradient descent GAN optimization is locally stable\", \"Do Deep Neural Networks Suffer from Crowding?\", \"Improved Training of Wasserstein GANs\", \"Learning Disentangled Representations with Semi-Supervised Deep Generative Models\", \"Attention is All you Need\", \"Value Prediction Network\", \"Causal Effect Inference with Deep Latent-Variable Models\", \"Good Semi-supervised Learning That Requires a Bad GAN\", \"Modulating early visual processing by language\", \"GANs Trained by a Two Time-Scale Update Rule Converge to a Local Nash Equilibrium\", \"Neural Expectation Maximization\", \"Attend and Predict: Understanding Gene Regulation by Selective Attention on Chromatin\", \"Style Transfer from Non-Parallel Text by Cross-Alignment\", \"Real Time Image Saliency for Black Box Classifiers\", \"On Word Embedding Dimensionality\", \"COLA: Decentralized Linear Learning\", \"A Simple Unified Framework for Detecting Out-of-Distribution Samples and Adversarial Attacks\", \"Mapping Images to Scene Graphs with Permutation-Invariant Structured Prediction\", \"Learning Conditioned Graph Structures for Interpretable Visual Question Answering\", \"Reversible Recurrent Neural Networks\"], \"textfont\": {\"color\": \"#4D5663\"}, \"type\": \"scatter\", \"x\": [-2.684140682220459, -2.189919948577881, 0.19421616196632385, 0.49825507402420044, 9.316398620605469, 0.32123181223869324, 2.955179452896118, -5.919807434082031, -7.84990119934082, -18.39105796813965, -15.369030952453613, -18.640644073486328, -14.469246864318848, -18.548913955688477, -18.383708953857422, -18.369211196899414, -18.44209098815918, -18.6081600189209, -15.301263809204102, -1.412048578262329, -14.186448097229004, -18.572532653808594, -15.244853973388672, -3.4132814407348633, -15.459623336791992, -15.099018096923828, 0.8316057324409485, 13.024003982543945, 0.7075896859169006, -5.064718723297119, -5.223972320556641, -16.22689437866211, -18.399381637573242, -2.232414960861206, -18.813478469848633, -16.56171417236328, -14.874223709106445, -16.920894622802734, -13.465667724609375, -11.911425590515137, -13.5542573928833, -8.039220809936523, 8.07717227935791, -11.535679817199707, 8.821043968200684, -11.348140716552734, -0.44597139954566956, -4.663900375366211, -12.12221908569336, 7.9855427742004395, -7.7117695808410645, -1.9284207820892334, 1.1385022401809692, 2.1756160259246826, -11.014185905456543, -17.063081741333008, -10.974980354309082, 2.5636987686157227, -11.951091766357422, -16.55898094177246, -11.962207794189453, 0.2520822286605835, -4.95864725112915, -16.567045211791992, -12.056787490844727, -18.34830093383789, 3.4570417404174805, -12.005603790283203, -7.999208450317383, -16.947336196899414, -19.805301666259766, -17.45829200744629, -6.9692511558532715, -11.231633186340332, -13.017743110656738, -16.18168830871582, -18.64440155029297, -19.104475021362305, 0.9814276695251465, -18.025632858276367, -7.768580436706543, -18.922576904296875, -1.907932162284851, 13.21394157409668, -11.573507308959961, 1.2970401048660278, -15.465407371520996, 8.685247421264648, -11.918251037597656, -19.390033721923828, -17.095827102661133, -11.857887268066406, -3.918154001235962, -4.870555877685547, 12.310755729675293, -11.366103172302246, -17.420122146606445, -11.544601440429688, 0.9736019968986511, -17.278549194335938, -11.992996215820312, -13.547507286071777, -7.351520538330078, -7.065663814544678, -6.931591510772705, 2.2324771881103516, -16.966537475585938, 6.972418308258057, 3.6126723289489746, -15.456270217895508, -4.933010101318359, 7.98380184173584, -0.3066578805446625, -18.134714126586914, -0.6958796977996826, -16.65462303161621, 7.966084957122803, 3.4791910648345947, -7.039394378662109, -7.720957279205322, -11.17391300201416, -10.506808280944824, -4.648492336273193], \"y\": [-9.076362609863281, -7.7997517585754395, -12.959405899047852, -11.790557861328125, -10.981833457946777, -11.704024314880371, -16.725404739379883, -19.10828399658203, 2.617610216140747, 3.1588122844696045, 6.785719871520996, -10.755471229553223, -0.0631733313202858, -10.768166542053223, 3.101494073867798, 3.196906089782715, 1.5189131498336792, 0.5196926593780518, 4.304014682769775, -0.47862130403518677, -14.635096549987793, 0.4816434979438782, 6.389065742492676, 9.653363227844238, 4.318670749664307, 6.297945022583008, -3.941148519515991, -14.848029136657715, -5.00602912902832, -13.566780090332031, -13.462061882019043, 4.189144134521484, 2.536543130874634, -7.5811967849731445, 0.32843756675720215, 4.1154069900512695, -13.367066383361816, 10.072733879089355, 11.920884132385254, 17.852214813232422, -5.71966028213501, 10.570630073547363, -9.089581489562988, 10.363505363464355, -9.630202293395996, 12.070815086364746, -5.0203776359558105, -21.819440841674805, 12.355313301086426, 2.9923508167266846, 5.0492048263549805, -5.561746120452881, -5.0420613288879395, -5.84678840637207, 9.605534553527832, -13.89624309539795, 12.060453414916992, -18.102375030517578, 12.410764694213867, 12.373987197875977, 17.466264724731445, -12.71772575378418, 2.675769090652466, 11.001311302185059, 17.098793029785156, 10.938164710998535, -17.93828773498535, 16.92033576965332, -20.427906036376953, 12.05924129486084, -10.430854797363281, 10.188042640686035, 4.530798435211182, 9.823363304138184, 12.032051086425781, -13.557616233825684, 10.904153823852539, 11.488810539245605, -20.82765007019043, 10.337010383605957, 5.179768085479736, 11.549772262573242, -6.797656536102295, -16.17452049255371, 15.150601387023926, -0.8077804446220398, 7.066312313079834, -11.38918685913086, 17.921220779418945, 11.00617790222168, 11.425276756286621, 18.176767349243164, 1.7338002920150757, 2.602457046508789, 0.3566659986972809, 11.896879196166992, 10.825928688049316, 15.165264129638672, -20.825857162475586, 12.52448558807373, 17.105314254760742, -5.847721576690674, 4.18464994430542, 4.503591060638428, -4.702475070953369, -5.950303077697754, -13.808900833129883, -10.845426559448242, -17.190990447998047, 7.180487155914307, 2.699838399887085, -9.771724700927734, -5.0332417488098145, 10.290654182434082, -5.3269171714782715, 10.187776565551758, -9.067055702209473, 18.029253005981445, 9.654850959777832, -19.7283878326416, 9.531071662902832, -13.04228687286377, -21.863630294799805]}, {\"marker\": {\"color\": \"rgba(55, 128, 191, 1.0)\", \"line\": {\"width\": 1.3}, \"opacity\": 0.8, \"size\": 12, \"symbol\": \"circle\"}, \"mode\": \"markers\", \"name\": \"ECCV\", \"text\": [\"Improving Shape Deformation in Unsupervised Image-to-Image Translation\", \"Pairwise Confusion for Fine-Grained Visual Classification\", \"GANimation: Anatomically-aware Facial Animation from a Single Image\", \"Deep Expander Networks: Efficient Deep Networks from Graph Theory\", \"3DMV: Joint 3D-Multi-View Prediction for 3D Semantic Scene Segmentation\", \"Learning Category-Specific Mesh Reconstruction from Image Collections\", \"Zero-Shot Object Detection\", \"A Style-Aware Content Loss for Real-time HD Style Transfer\", \"Piggyback: Adapting a Single Network to Multiple Tasks by Learning to Mask Weights\", \"Semi-supervised Adversarial Learning to Generate Photorealistic Face Images of New Identities from 3D Morphable Model\", \"Simple Baselines for Human Pose Estimation and Tracking\", \"Toward Characteristic-Preserving Image-based Virtual Try-On Network\", \"Acquisition of Localization Confidence for Accurate Object Detection\", \"Conditional Image-Text Embedding Networks\", \"SketchyScene: Richly-Annotated Scene Sketches\", \"Progressive Neural Architecture Search\", \"Image Manipulation with Perceptual Discriminators\", \"Repeatability Is Not Enough: Learning Affine Regions via Discriminability\", \"Unsupervised holistic image generation from key local patches\", \"LQ-Nets: Learned Quantization for Highly Accurate and Compact Deep Neural Networks\", \"Is Robustness the Cost of Accuracy? -- A Comprehensive Study on the Robustness of 18 Deep Image Classification Models\", \"Dynamic Multimodal Instance Segmentation Guided by Natural Language Queries\", \"Dynamic Conditional Networks for Few-Shot Learning\", \"Recovering 3D Planes from a Single Image via Convolutional Neural Networks\", \"Learning Single-View 3D Reconstruction with Limited Pose Supervision\", \"Image Inpainting for Irregular Holes Using Partial Convolutions\", \"Unsupervised Geometry-Aware Representation for 3D Human Pose Estimation\", \"PSANet: Point-wise Spatial Attention Network for Scene Parsing\", \"Deep Randomized Ensembles for Metric Learning\", \"Predicting Gaze in Egocentric Video by Learning Task-dependent Attention Transition\", \"Coloring with Words: Guiding Image Colorization Through Text-based Palette Generation\", \"Fighting Fake News: Image Splice Detection via Learned Self-Consistency\", \"HiDDeN: Hiding Data with Deep Networks\", \"Multi-scale Residual Network for Image Super-Resolution\", \"Adaptive Affinity Fields for Semantic Segmentation\", \"Statistically-motivated Second-order Pooling\", \"Stacked Cross Attention for Image-Text Matching\", \"Open Set Domain Adaptation by Backpropagation\", \"DeepVS: A Deep Learning Based Video Saliency Prediction Approach\", \"EC-Net: an Edge-aware Point set Consolidation Network\", \"Encoder-Decoder with Atrous Separable Convolution for Semantic Image Segmentation\", \"Estimating the Success of Unsupervised Image to Image Translation\", \"Single Shot Scene Text Retrieval\", \"Learning Type-Aware Embeddings for Fashion Compatibility\", \"Learning Visual Question Answering by Bootstrapping Hard Attention\", \"Deep Clustering for Unsupervised Learning of Visual Features\", \"Joint Person Segmentation and Identification in Synchronized First- and Third-person Videos\", \"ECO: Efficient Convolutional Network for Online Video Understanding\", \"Diverse and Coherent Paragraph Generation from Images\", \"MultiPoseNet: Fast Multi-Person Pose Estimation using Pose Residual Network\", \"ShapeStacks: Learning Vision-Based Physical Intuition for Generalised Object Stacking\", \"Towards Realistic Predictors\", \"Choose Your Neuron: Incorporating Domain Knowledge through Neuron-Importance\", \"Explainable Neural Computation via Stack Neural Module Networks\", \"Learning to Separate Object Sounds by Watching Unlabeled Video\", \"ESPNet: Efficient Spatial Pyramid of Dilated Convolutions for Semantic Segmentation\", \"Visual Coreference Resolution in Visual Dialog using Neural Module Networks\", \"License Plate Detection and Recognition in Unconstrained Scenarios\", \"Deep High Dynamic Range Imaging with Large Foreground Motions\", \"Multi-view to Novel view: Synthesizing novel views with Self-Learned Confidence\", \"Specular-to-Diffuse Translation for Multi-View Reconstruction\", \"Layer-structured 3D Scene Inference via View Synthesis\", \"3D-CODED: 3D Correspondences by Deep Deformation\", \"HybridNet: Classification and Reconstruction Cooperation for Semi-Supervised Learning\", \"BSN: Boundary Sensitive Network for Temporal Action Proposal Generation\", \"Learning Dynamic Memory Networks for Object Tracking\", \"Interpretable Intuitive Physics Model\", \"Gray-box Adversarial Training\", \"Depth-aware CNN for RGB-D Segmentation\", \"Learning Efficient Single-stage Pedestrian Detectors by Asymptotic Localization Fitting\", \"A Modulation Module for Multi-task Learning with Applications in Image Retrieval\", \"Single Image Water Hazard Detection using FCN with Reflection Attention Units\", \"Integral Human Pose Regression\", \"Recurrent Squeeze-and-Excitation Context Aggregation Net for Single Image Deraining\", \"Quaternion Convolutional Neural Networks\", \"Mutual Learning to Adapt for Joint Human Parsing and Pose Estimation\", \"Pose Partition Networks for Multi-Person Pose Estimation\", \"Video Re-localization\", \"Joint 3D Face Reconstruction and Dense Alignment with Position Map Regression Network\", \"MVSNet: Depth Inference for Unstructured Multi-view Stereo\", \"Audio-Visual Event Localization in Unconstrained Videos\", \"Macro-Micro Adversarial Network for Human Parsing\", \"SpiderCNN: Deep Learning on Point Sets with Parameterized Convolutional Filters\", \"PlaneMatch: Patch Coplanarity Prediction for Robust RGB-D Reconstruction\", \"Factorizable Net: An Efficient Subgraph-based Framework for Scene Graph Generation\", \"DF-Net: Unsupervised Joint Learning of Depth and Flow using Cross-Task Consistency\", \"Image Super-Resolution Using Very Deep Residual Channel Attention Networks\", \"Group Normalization\", \"Learning to Navigate for Fine-grained Classification\", \"Partial Adversarial Domain Adaptation\", \"Shift-Net: Image Inpainting via Deep Feature Rearrangement\", \"Distractor-aware Siamese Networks for Visual Object Tracking\", \"Improving Generalization via  Scalable Neighborhood Component Analysis\", \"Saliency Detection in 360\\u00b0 Videos\", \"GeoDesc: Learning Local Descriptors by Integrating Geometry Constraints\"], \"textfont\": {\"color\": \"#4D5663\"}, \"type\": \"scatter\", \"x\": [-12.889717102050781, -9.253328323364258, -9.338743209838867, -2.484617233276367, -15.957009315490723, -8.645133018493652, -8.711857795715332, 1.6691855192184448, 0.5641527771949768, -13.282132148742676, -7.765340328216553, -16.018878936767578, -3.667308807373047, 10.817145347595215, -8.416050910949707, 6.489422798156738, -7.130783557891846, -1.4508826732635498, -19.206470489501953, 2.5810458660125732, -4.902846336364746, -15.69351577758789, 16.36920928955078, 9.760266304016113, 12.602306365966797, -1.6429693698883057, -10.203141212463379, 8.795008659362793, -1.3694294691085815, -2.136983633041382, -4.001466751098633, 1.3105391263961792, -2.4269590377807617, 8.689496040344238, -8.246953010559082, -15.237898826599121, -4.6071271896362305, -12.518197059631348, -13.428072929382324, 12.4473295211792, -7.09081506729126, -9.616155624389648, -12.005107879638672, -15.709115028381348, 5.1628546714782715, 3.0273330211639404, -2.0224945545196533, 8.875982284545898, 18.52450942993164, -10.160408973693848, -16.6090145111084, 5.451540470123291, -6.804276943206787, -7.201544284820557, -8.520983695983887, -12.703033447265625, -11.753071784973145, 11.9149808883667, -9.044061660766602, -14.65682601928711, -3.105828285217285, -7.279345989227295, -7.215047836303711, 1.7555841207504272, -7.201544284820557, -11.134212493896484, -7.371877193450928, -1.3525283336639404, -8.59642219543457, 1.561320424079895, 8.922892570495605, -5.689688682556152, 1.5142345428466797, -6.896894931793213, -13.954208374023438, 12.925217628479004, -9.491036415100098, -12.178540229797363, -15.116037368774414, -14.839127540588379, 11.140356063842773, -8.179872512817383, -4.680283546447754, -1.2002731561660767, -9.266790390014648, 20.540164947509766, -1.4302247762680054, -1.7612459659576416, -4.177286148071289, -1.4664095640182495, -1.3697141408920288, -7.155501365661621, 1.0675371885299683, -9.139873504638672, -7.211508750915527], \"y\": [5.364861488342285, -6.9861955642700195, -7.121572971343994, -17.212682723999023, -17.531286239624023, -12.04974365234375, -16.711917877197266, -18.380756378173828, -18.53432273864746, -15.089499473571777, -18.656856536865234, -9.441694259643555, -8.819808006286621, -4.449212551116943, -15.79114055633545, -6.286492824554443, -17.46329116821289, 4.239838123321533, 0.024242326617240906, -17.805347442626953, -19.86053466796875, -17.621885299682617, -4.31615686416626, -3.9443976879119873, -4.470508098602295, -15.021125793457031, -0.9251365661621094, -13.759784698486328, 4.481995582580566, -14.838587760925293, -17.99323844909668, -8.219704627990723, -15.049402236938477, -11.55947208404541, -16.764755249023438, -9.598128318786621, -19.520103454589844, -9.952835083007812, -9.139036178588867, -4.408751487731934, -16.68895149230957, -0.8952298760414124, -15.105253219604492, -17.540996551513672, -13.924836158752441, -16.92334747314453, -13.921056747436523, -13.824224472045898, -4.833127975463867, -0.9924736618995667, 0.3019672632217407, -13.429981231689453, -16.060617446899414, 15.278797149658203, -12.462995529174805, -0.09195222705602646, -15.271224021911621, -1.1868754625320435, -2.5730483531951904, -0.10273255407810211, 5.068233966827393, 15.858312606811523, -8.855179786682129, -9.338640213012695, 15.278797149658203, -15.46058464050293, -8.769584655761719, -15.246465682983398, -11.498568534851074, -9.38458251953125, -13.87448501586914, -19.445728302001953, -8.99156665802002, -18.453853607177734, -0.07121698558330536, -8.208121299743652, -8.049628257751465, -15.258049011230469, -10.366628646850586, -10.726366996765137, -4.330445766448975, -10.250543594360352, -2.4246931076049805, -11.129249572753906, -7.025365352630615, -3.9845967292785645, 4.735988616943359, -10.228245735168457, -18.39005470275879, -10.94797134399414, 4.496456623077393, -15.121639251708984, -18.49070167541504, -2.0771477222442627, 15.612140655517578]}, {\"marker\": {\"color\": \"rgba(50, 171, 96, 1.0)\", \"line\": {\"width\": 1.3}, \"opacity\": 0.8, \"size\": 12, \"symbol\": \"circle\"}, \"mode\": \"markers\", \"name\": \"CVPR\", \"text\": [\"Efficient Interactive Annotation of Segmentation Datasets With Polygon-RNN++\", \"An Improved Deep Learning Architecture for Person Re-Identification\", \"Learning Pixel-Level Semantic Affinity With Image-Level Supervision for Weakly Supervised Semantic Segmentation\", \"Defense Against Universal Adversarial Perturbations\", \"Light Field Intrinsics With a Deep Encoder-Decoder Network\", \"Neural Module Networks\", \"Real-Time Monocular Depth Estimation Using Synthetic Data With Domain Adaptation via Image Style Transfer\", \"Multi-Content GAN for Few-Shot Font Style Transfer\", \"LCNN: Lookup-Based Convolutional Neural Network\", \"Deep Watershed Transform for Instance Segmentation\", \"Glimpse Clouds: Human Activity Recognition From Unstructured Feature Points\", \"Hierarchical Boundary-Aware Neural Encoder for Video Captioning\", \"Visual Feature Attribution Using Wasserstein GANs\", \"Deep Unsupervised Similarity Learning Using Partially Ordered Sets\", \"The Lov\\u00e1sz-Softmax Loss: A Tractable Surrogate for the Optimization of the Intersection-Over-Union Measure in Neural Networks\", \"Geometry-Aware Learning of Maps for Camera Localization\", \"SST: Single-Stream Temporal Action Proposals\", \"In-Place Activated BatchNorm for Memory-Optimized Training of DNNs\", \"One-Shot Video Object Segmentation\", \"Neural Sign Language Translation\", \"HashGAN: Deep Learning to Hash With Pair Conditional Wasserstein GAN\", \"Partial Transfer Learning With Selective Adversarial Networks\", \"Realtime Multi-Person 2D Pose Estimation Using Part Affinity Fields\", \"Visual Question Reasoning on General Dependency Tree\", \"Annotating Object Instances With a Polygon-RNN\", \"Pyramid Stereo Matching Network\", \"AON: Towards Arbitrarily-Oriented Text Recognition\", \"Cascaded Pyramid Network for Multi-Person Pose Estimation\", \"Deep Photo Enhancer: Unpaired Learning for Image Enhancement From Photographs With GANs\", \"Knowledge Aided Consistency for Weakly Supervised Phrase Grounding\", \"LiDAR-Video Driving Dataset: Learning Driving Policies Effectively\", \"Multi-View 3D Object Detection Network for Autonomous Driving\", \"StarGAN: Unified Generative Adversarial Networks for Multi-Domain Image-to-Image Translation\", \"Xception: Deep Learning With Depthwise Separable Convolutions\", \"Lip Reading Sentences in the Wild\", \"VidLoc: A Deep Spatio-Temporal Model for 6-DoF Video-Clip Relocalization\", \"Large Scale Fine-Grained Categorization and Domain-Specific Transfer Learning\", \"Learning to Evaluate Image Captioning\", \"ScanComplete: Large-Scale Scene Completion and Semantic Segmentation for 3D Scans\", \"Eye In-Painting With Exemplar Generative Adversarial Networks\", \"Style Aggregated Network for Facial Landmark Detection\", \"Supervision-by-Registration: An Unsupervised Approach to Improve the Precision of Facial Landmark Detectors\", \"Structured Uncertainty Prediction Networks\", \"Low-Shot Learning With Large-Scale Diffusion\", \"GraphBit: Bitwise Interaction Mining via Deep Reinforcement Learning\", \"WILDCAT: Weakly Supervised Learning of Deep ConvNets for Image Classification, Pointwise Localization and Segmentation\", \"Who Let the Dogs Out? Modeling Dog Behavior From Visual Data\", \"Robust Physical-World Attacks on Deep Learning Visual Classification\", \"AMNet: Memorability Estimation With Attention\", \"A Point Set Generation Network for 3D Object Reconstruction From a Single Image\", \"End-to-End Learning of Motion Representation for Video Understanding\", \"Spatially Adaptive Computation Time for Residual Networks\", \"Compact Bilinear Pooling\", \"Learning Generative ConvNets via Multi-Grid Modeling and Sampling\", \"Dynamic Few-Shot Visual Learning Without Forgetting\", \"Social GAN: Socially Acceptable Trajectories With Generative Adversarial Networks\", \"DeLiGAN : Generative Adversarial Networks for Diverse and Limited Data\", \"Learning by Association -- A Versatile Semi-Supervised Training Method for Neural Networks\", \"Deep Pyramidal Residual Networks\", \"Can Spatiotemporal 3D CNNs Retrace the History of 2D CNNs and ImageNet?\", \"Deep Back-Projection Networks for Super-Resolution\", \"Deep Residual Learning for Image Recognition\", \"Deeply Supervised Salient Object Detection With Short Connections\", \"CondenseNet: An Efficient DenseNet Using Learned Group Convolutions\", \"DeepMVS: Learning Multi-View Stereopsis\", \"Densely Connected Convolutional Networks\", \"Learning Deep Representation for Imbalanced Classification\", \"Real-Time Neural Style Transfer for Videos\", \"Speed/Accuracy Trade-Offs for Modern Convolutional Object Detectors\", \"Pointwise Convolutional Neural Networks\", \"Fast and Accurate Single Image Super-Resolution via Information Distillation Network\", \"LiteFlowNet: A Lightweight Convolutional Neural Network for Optical Flow Estimation\", \"Deep 360 Pilot: Learning a Deep Agent for Piloting Through 360deg Sports Videos\", \"FC4: Fully Convolutional Color Constancy With Confidence-Weighted Pooling\", \"Finding Tiny Faces\", \"Learning Answer Embeddings for Visual Question Answering\", \"Modeling Relationships in Referential Expressions With Compositional Modular Networks\", \"Image Specificity\", \"DenseCap: Fully Convolutional Localization Networks for Dense Captioning\", \"Image Generation From Scene Graphs\", \"Total Capture: A 3D Deformation Model for Tracking Faces, Hands, and Bodies\", \"Perturbative Neural Networks\", \"End-to-End Recovery of Human Shape and Pose\", \"Convolutional Neural Networks for No-Reference Image Quality Assessment\", \"Geometric Loss Functions for Camera Pose Regression With Deep Learning\", \"Simple Does It: Weakly Supervised Instance and Semantic Segmentation\", \"Accurate Image Super-Resolution Using Very Deep Convolutional Networks\", \"Context Embedding Networks\", \"Deeply-Recursive Convolutional Network for Image Super-Resolution\", \"Deep Hand: How to Train a CNN on 1 Million Hand Images When Your Data Is Continuous and Weakly Labelled\", \"RON: Reverse Connection With Objectness Prior Networks for Object Detection\", \"Surface Networks\", \"A Hierarchical Approach for Generating Descriptive Image Paragraphs\", \"Stochastic Downsampling for Cost-Adjustable Inference and Improved Regularization in Convolutional Networks\", \"Deep Laplacian Pyramid Networks for Fast and Accurate Super-Resolution\", \"Deep Learning Under Privileged Information Using Heteroscedastic Dropout\", \"TI-Pooling: Transformation-Invariant Pooling for Feature Learning in Convolutional Neural Networks\", \"Fast Algorithms for Convolutional Neural Networks\", \"Photo-Realistic Single Image Super-Resolution Using a Generative Adversarial Network\", \"CleanNet: Transfer Learning for Scalable Image Classifier Training With Label Noise\", \"Hierarchical Novelty Detection for Visual Object Recognition\", \"Recurrent Convolutional Neural Network for Object Recognition\", \"Deep Marching Cubes: Learning Explicit Surface Representations\", \"Conditional Image-to-Image Translation\", \"Inverse Compositional Spatial Transformer Networks\", \"RefineNet: Multi-Path Refinement Networks for High-Resolution Semantic Segmentation\", \"ST-GAN: Spatial Transformer Generative Adversarial Networks for Image Compositing\", \"Decoupled Networks\", \"Deep Supervised Hashing for Fast Image Retrieval\", \"FOTS: Fast Oriented Text Spotting With a Unified Network\", \"Future Frame Prediction for Anomaly Detection \\u0096 A New Baseline\", \"PiCANet: Learning Pixel-Wise Contextual Attention for Saliency Detection\", \"PlaneNet: Piece-Wise Planar Reconstruction From a Single RGB Image\", \"Predicting Salient Face in Multiple-Face Videos\", \"Recognizing Human Actions as the Evolution of Pose Estimation Maps\", \"Richer Convolutional Features for Edge Detection\", \"SphereFace: Deep Hypersphere Embedding for Face Recognition\", \"Convolutional Sequence to Sequence Model for Human Dynamics\", \"CSRNet: Dilated Convolutional Neural Networks for Understanding the Highly Congested Scenes\", \"Learning Intrinsic Image Decomposition From Watching the World\", \"MegaDepth: Learning Single-View Depth Prediction From Internet Photos\", \"SO-Net: Self-Organizing Network for Point Cloud Analysis\", \"Towards Faster Training of Global Covariance Pooling Networks by Iterative Matrix Square Root Normalization\", \"Attention Clusters: Purely Attention Based Local Feature Integration for Video Classification\", \"Fully Convolutional Networks for Semantic Segmentation\", \"Deep Photo Style Transfer\", \"Discriminability Objective for Training Descriptive Captions\", \"Efficient Deep Learning for Stereo Matching\", \"Non-Local Deep Features for Salient Object Detection\", \"Neural Baby Talk\", \"Unsupervised Video Summarization With Adversarial LSTM Networks\", \"PackNet: Adding Multiple Tasks to a Single Network by Iterative Pruning\", \"Boosting Domain Adaptation by Discovering Latent Domains\", \"On Human Motion Prediction Using Recurrent Neural Networks\", \"Transparency by Design: Closing the Gap Between Performance and Interpretability in Visual Reasoning\", \"Disentangled Person Image Generation\", \"Conditional Probability Models for Deep Image Compression\", \"Cross-Stitch Networks for Multi-Task Learning\", \"NAG: Network for Adversary Generation\", \"Beyond the Pixel-Wise Loss for Topology-Aware Delineation\", \"3D Bounding Box Estimation Using Deep Learning and Geometry\", \"Improved Fusion of Visual and Language Representations by Dense Symmetric Co-Attention for Visual Question Answering\", \"Human Pose Estimation With Parsing Induced Learner\", \"Video Frame Interpolation via Adaptive Convolution\", \"Learning Dual Convolutional Neural Networks for Low-Level Vision\", \"Towards Accurate Multi-Person Pose Estimation in the Wild\", \"Making Deep Neural Networks Robust to Label Noise: A Loss Correction Approach\", \"Jointly Optimize Data Augmentation and Network Training: Adversarial Data Augmentation in Human Pose Estimation\", \"Learning Latent Super-Events to Detect Multiple Activities in Videos\", \"Full-Resolution Residual Networks for Semantic Segmentation in Street Scenes\", \"Learning Pose Specific Representations by Predicting Different Views\", \"Generative Adversarial Perturbations\", \"PieAPP: Perceptual Image-Error Assessment Through Pairwise Preference\", \"Attentive Generative Adversarial Network for Raindrop Removal From a Single Image\", \"Few-Shot Image Recognition by Predicting Parameters From Activations\", \"Frustum PointNets for 3D Object Detection From RGB-D Data\", \"GeoNet: Geometric Neural Network for Joint Depth and Surface Normal Estimation\", \"Low-Shot Learning With Imprinted Weights\", \"PointNet: Deep Learning on Point Sets for 3D Classification and Segmentation\", \"Semi-Parametric Image Synthesis\", \"Top-Down Visual Saliency Guided by Captions\", \"Optical Flow Estimation Using a Spatial Pyramid Network\", \"Self-Critical Sequence Training for Image Captioning\", \"Cross-Domain Self-Supervised Multi-Task Feature Learning Using Synthetic Imagery\", \"End-To-End Instance Segmentation With Recurrent Attention\", \"Action Sets: Weakly Supervised Action Segmentation Without Ordering Constraints\", \"End-to-End Weakly-Supervised Semantic Alignment\", \"Real-World Repetition Estimation by Div, Grad and Curl\", \"Adversarially Learned One-Class Classifier for Novelty Detection\", \"Logo Synthesis and Manipulation With Clustered Generative Adversarial Networks\", \"Generate to Adapt: Aligning Domains Using Generative Adversarial Networks\", \"Learning From Synthetic Data: Addressing Domain Shift for Semantic Segmentation\", \"Avatar-Net: Multi-Scale Zero-Shot Style Transfer by Feature Decoration\", \"Weakly Supervised Dense Video Captioning\", \"Pixels, Voxels, and Views: A Study of Shape Representations for Single View 3D Object Shape Prediction\", \"Real-Time Single Image and Video Super-Resolution Using an Efficient Sub-Pixel Convolutional Neural Network\", \"Learning From Simulated and Unsupervised Images Through Adversarial Training\", \"Actor and Observer: Joint Modeling of First and Third-Person Videos\", \"Deep Metric Learning via Facility Location\", \"VITAL: VIsual Tracking via Adversarial Learning\", \"Cross-Modal Deep Variational Hand Pose Estimation\", \"Light Field Blind Motion Deblurring\", \"End-To-End People Detection in Crowded Scenes\", \"Pix3D: Dataset and Methods for Single-Image 3D Shape Modeling\", \"PWC-Net: CNNs for Optical Flow Using Pyramid, Warping, and Cost Volume\", \"Rethinking the Inception Architecture for Computer Vision\", \"Spatially-Adaptive Filter Units for Deep Neural Networks\", \"Image Super-Resolution via Deep Recursive Residual Network\", \"Multiple Instance Detection Network With Online Instance Classifier Refinement\", \"Multiple People Tracking by Lifted Multicut and Person Re-Identification\", \"Scale-Recurrent Network for Deep Image Deblurring\", \"Tangent Convolutions for Dense Prediction in 3D\", \"Real-Time Seamless Single Shot 6D Object Pose Prediction\", \"Two-Stream Convolutional Networks for Dynamic Texture Synthesis\", \"Full Resolution Image Compression With Recurrent Neural Networks\", \"Lifting From the Deep: Convolutional 3D Pose Estimation From a Single Image\", \"A Closer Look at Spatiotemporal Convolutions for Action Recognition\", \"Face Normals \\\"In-The-Wild\\\" Using Fully Convolutional Networks\", \"Learning to Adapt Structured Output Space for Semantic Segmentation\", \"Learning Shape Abstractions by Assembling Volumetric Primitives\", \"MoCoGAN: Decomposing Motion and Content for Video Generation\", \"Learning Superpixels With Segmentation-Aware Affinity Loss\", \"Adversarial Discriminative Domain Adaptation\", \"Deep Image Prior\", \"Deep Feature Interpolation for Image Content Changes\", \"PointNetVLAD: Deep Point Cloud Based Retrieval for Large-Scale Place Recognition\", \"Conditional Similarity Networks\", \"Neural Kinematic Networks for Unsupervised Motion Retargetting\", \"Show and Tell: A Neural Image Caption Generator\", \"Adversarial Feature Augmentation for Unsupervised Domain Adaptation\", \"Face Aging With Identity-Preserved Conditional Generative Adversarial Networks\", \"High-Resolution Image Synthesis and Semantic Manipulation With Conditional GANs\", \"Learning a Discriminative Filter Bank Within a CNN for Fine-Grained Recognition\", \"Multimodal Transfer: A Hierarchical Deep Convolutional Neural Network for Fast Artistic Style Transfer\", \"Repulsion Loss: Detecting Pedestrians in a Crowd\", \"Revisiting Video Saliency: A Large-Scale Benchmark and a New Model\", \"SGPN: Similarity Group Proposal Network for 3D Point Cloud Instance Segmentation\", \"Skeleton Key: Image Captioning by Skeleton-Attribute Decomposition\", \"Min-Entropy Latent Model for Weakly Supervised Object Detection\", \"Rethinking Feature Distribution for Loss Functions in Image Classification\", \"Bidirectional Retrieval Made Simple\", \"Convolutional Pose Machines\", \"Dense Human Body Correspondences Using Convolutional Networks\", \"Compressed Video Action Recognition\", \"Exploit the Unknown Gradually: One-Shot Video-Based Person Re-Identification by Stepwise Learning\", \"Quantized Convolutional Neural Networks for Mobile Devices\", \"Unsupervised Feature Learning via Non-Parametric Instance Discrimination\", \"Feature Generating Networks for Zero-Shot Learning\", \"Gibson Env: Real-World Perception for Embodied Agents\", \"Aggregated Residual Transformations for Deep Neural Networks\", \"Learning Descriptor Networks for 3D Shape Synthesis and Analysis\", \"Deep Texture Manifold for Ground Terrain Recognition\", \"AttnGAN: Fine-Grained Text to Image Generation With Attentional Generative Adversarial Networks\", \"Deep Image Matting\", \"Scene Graph Generation by Iterative Message Passing\", \"DenseASPP for Semantic Segmentation in Street Scenes\", \"Learning Face Age Progression: A Pyramid Architecture of GANs\", \"Neural Aggregation Network for Video Face Recognition\", \"Object Contour Detection With a Fully Convolutional Encoder-Decoder Network\", \"Robust Classification With Convolutional Prototype Learning\", \"Semantic Filtering\", \"GeoNet: Unsupervised Learning of Dense Depth, Optical Flow and Camera Pose\", \"Crafting a Toolchain for Image Restoration by Deep Reinforcement Learning\", \"Dilated Residual Networks\", \"Generative Image Inpainting With Contextual Attention\", \"MAttNet: Modular Attention Network for Referring Expression Comprehension\", \"PU-Net: Point Cloud Upsampling Network\", \"Video Paragraph Captioning Using Hierarchical Recurrent Neural Networks\", \"Learning to Promote Saliency Detectors\", \"S3Pool: Pooling With Stochastic Spatial Sampling\", \"Adversarial Complementary Learning for Weakly Supervised Object Localization\", \"Deep Mutual Learning\", \"Densely Connected Pyramid Dehazing Network\", \"Density-Aware Single Image De-Raining Using a Multi-Stream Dense Network\", \"Grounding Referring Expressions in Images by Variational Context\", \"ISTA-Net: Interpretable Optimization-Inspired Deep Network for Image Compressive Sensing\", \"Joint Pose and Expression Modeling for Facial Expression Recognition\", \"Learning a Deep Embedding Model for Zero-Shot Learning\", \"Residual Dense Network for Image Super-Resolution\", \"Single-Image Crowd Counting via Multi-Column Convolutional Neural Network\", \"The Unreasonable Effectiveness of Deep Features as a Perceptual Metric\", \"Unsupervised Discovery of Object Landmarks as Structural Representations\", \"Visual Translation Embedding Network for Visual Relation Detection\", \"Ring Loss: Convex Feature Normalization for Face Recognition\", \"EAST: An Efficient and Accurate Scene Text Detector\", \"Learning Deep Features for Discriminative Localization\", \"Learning Rich Features for Image Manipulation Detection\", \"Weakly Supervised Instance Segmentation Using Class Peak Response\", \"Fast Training of Triplet-Based Deep Binary Embedding Networks\", \"Towards Effective Low-Bitwidth Convolutional Neural Networks\", \"Learning Spatial Regularization With Image-Level Supervisions for Multi-Label Image Classification\", \"Learning Transferable Architectures for Scalable Image Recognition\", \"LayoutNet: Reconstructing the 3D Room Layout From a Single RGB Image\"], \"textfont\": {\"color\": \"#4D5663\"}, \"type\": \"scatter\", \"x\": [17.271961212158203, -12.565631866455078, 5.413780689239502, -1.7491958141326904, 15.206989288330078, 15.095970153808594, 5.083847999572754, 13.102896690368652, 11.474596977233887, 3.8406548500061035, 5.848556041717529, 17.358747482299805, 7.970432758331299, -2.461376428604126, -3.0133209228515625, 12.263566017150879, 2.189725875854492, 15.234375953674316, -6.853641033172607, -3.0108587741851807, 5.425706386566162, 12.927582740783691, 5.6517157554626465, 12.286896705627441, 0.6323307156562805, -4.723989009857178, 10.807626724243164, -1.7420486211776733, 18.05257797241211, 11.239377975463867, 7.54009485244751, 16.228302001953125, 10.457615852355957, 18.294170379638672, 19.677017211914062, -3.7866625785827637, 0.5841044783592224, -11.489823341369629, -18.51984214782715, 5.383110523223877, 18.33319091796875, 5.568967819213867, 5.407098293304443, 8.304447174072266, -3.5128848552703857, 5.696475028991699, 13.014630317687988, 0.33358147740364075, 14.19536018371582, 8.343818664550781, 7.794676303863525, 3.821007490158081, -1.5141403675079346, 10.14184856414795, 13.934905052185059, 16.378976821899414, 19.631847381591797, 13.485822677612305, 18.42620277404785, 19.49966812133789, 20.223888397216797, 16.215768814086914, -12.3997802734375, 12.302865028381348, -4.933437347412109, 12.899322509765625, -4.927951335906982, 20.781009674072266, 15.519909858703613, 7.847675800323486, 10.72451114654541, -4.540881156921387, -1.530754804611206, 1.5995495319366455, 5.696475028991699, 5.07912015914917, 10.82425308227539, -3.414210796356201, 1.454970359802246, 14.89988899230957, -1.9958497285842896, 10.705323219299316, -2.0410165786743164, -3.5435357093811035, 7.446173667907715, 10.967070579528809, 1.054413080215454, 5.403225898742676, -5.9741644859313965, 1.5301809310913086, 12.981627464294434, 17.03103256225586, 5.313278675079346, 1.6305054426193237, -1.3396718502044678, 4.120645523071289, -11.201844215393066, 1.4405118227005005, 20.390121459960938, 15.053068161010742, 17.32773780822754, -7.118467330932617, -18.58983612060547, 8.074355125427246, 9.787761688232422, 8.382620811462402, 7.665966510772705, -0.29025810956954956, 8.192519187927246, 3.634024143218994, 10.131097793579102, 9.138822555541992, -2.9476113319396973, -4.919129371643066, -5.187151908874512, 5.502796649932861, 16.74534797668457, -1.8784576654434204, 3.3372557163238525, 15.511493682861328, 9.145758628845215, 21.005706787109375, -6.60376501083374, 5.405419826507568, -9.734867095947266, 15.519909858703613, 15.018238067626953, 11.811193466186523, 10.89647388458252, 13.189264297485352, 16.2751522064209, 13.250818252563477, 17.328413009643555, 3.8406548500061035, 17.275785446166992, -1.8784576654434204, 20.603683471679688, -1.3720554113388062, 15.53904914855957, -4.450682163238525, 10.493791580200195, 3.052690029144287, 17.721996307373047, 8.319046020507812, 1.662007451057434, 4.395261764526367, 9.795273780822754, 1.2297760248184204, -0.6353302001953125, -4.841238021850586, 0.1760217696428299, 12.490093231201172, 6.30609655380249, 19.42536735534668, 5.07912015914917, -6.654438495635986, -9.863590240478516, 15.319294929504395, 14.420591354370117, -10.843403816223145, 15.495811462402344, 5.67793607711792, 3.871630907058716, 8.228520393371582, -1.7657238245010376, 5.083140850067139, 8.15590763092041, 6.709240913391113, -7.9506731033325195, 12.026519775390625, 17.326351165771484, 4.120645523071289, 19.933441162109375, 2.493143081665039, -0.9703726768493652, 15.581171035766602, 6.062090873718262, -1.203205943107605, 4.59347677230835, -11.30169677734375, -2.0007009506225586, 1.6330430507659912, 7.525490760803223, -3.1775145530700684, 2.8606512546539307, 9.462075233459473, 15.69046688079834, 19.971162796020508, -5.477090358734131, 9.79147720336914, 13.663827896118164, 14.441244125366211, -12.098286628723145, 18.591663360595703, 13.195901870727539, -4.834595203399658, 19.431119918823242, 3.810025691986084, -11.437824249267578, -2.7875282764434814, 17.32697296142578, 13.164412498474121, 15.245105743408203, 5.07912015914917, 8.382620811462402, 14.009587287902832, 5.696475028991699, 8.741964340209961, -7.878119468688965, -13.496824264526367, -1.8367242813110352, -16.538509368896484, 8.707104682922363, 5.26783561706543, 3.86240291595459, -1.8411246538162231, -1.8291621208190918, 3.835069179534912, -7.1444411277771, 0.2066991776227951, 18.532184600830078, 1.4714417457580566, -18.340423583984375, 11.239538192749023, 12.490093231201172, 1.5765024423599243, 17.32773780822754, 5.392049312591553, -2.957958459854126, 20.397008895874023, -1.9996579885482788, 12.641077041625977, -0.5160855054855347, 10.094476699829102, 17.460853576660156, 16.296329498291016, 5.324472427368164, 9.798514366149902, -6.689333438873291, -3.5806195735931396, 1.4439903497695923, -18.705320358276367, 5.4175567626953125, 18.46268653869629, -3.049722671508789, 17.08452796936035, 5.373651027679443, -6.48387336730957, 4.422619342803955, 6.199511528015137, -6.908980369567871, 12.260710716247559, -4.614994525909424, 18.162946701049805, -1.8291621208190918, 11.205862998962402, 14.579071044921875, 3.732694149017334, -4.884446144104004, 1.443745493888855, -1.8545774221420288, -3.035876512527466, -4.758906364440918, -2.206749439239502, 19.990629196166992, 1.5052964687347412, 8.188952445983887, 15.034621238708496, 12.948015213012695, 13.1284818649292, 5.373817443847656, 6.739853382110596, 6.563159942626953], \"y\": [7.468615531921387, 5.346856117248535, 11.33763313293457, 16.097509384155273, -8.460357666015625, -14.77501392364502, 4.935922622680664, 4.3012590408325195, 15.892398834228516, 20.41187286376953, 6.3210344314575195, -11.970766067504883, 10.422286987304688, 13.528362274169922, 15.767823219299316, 3.7189953327178955, 2.515287160873413, -8.691079139709473, -4.714591026306152, 9.614758491516113, 11.368819236755371, 4.4948625564575195, -0.9634976983070374, 3.7308661937713623, 2.1988461017608643, -5.528948783874512, -3.0226619243621826, 16.082292556762695, -6.575486183166504, 10.192440032958984, -10.218585014343262, -14.287079811096191, 9.831225395202637, 1.1086785793304443, 2.5188043117523193, 1.6461118459701538, -0.3155152499675751, 4.765841007232666, -3.482485294342041, 11.403958320617676, 1.1541186571121216, -13.282205581665039, 11.324762344360352, 1.4994322061538696, -1.5187411308288574, -1.165755033493042, -10.25838851928711, 0.16747969388961792, -7.849348545074463, -4.050506114959717, 2.56278395652771, 20.222196578979492, 14.52054214477539, 9.822532653808594, -2.3409054279327393, -11.709273338317871, 2.4992098808288574, 16.048246383666992, 1.6148390769958496, -2.941679000854492, -0.5475978851318359, -4.353154182434082, -3.3077213764190674, -1.019810438156128, 6.837114334106445, -9.71641731262207, -5.380268096923828, -1.5194391012191772, 14.987817764282227, 10.492588996887207, -14.9788179397583, 6.672017574310303, 8.644312858581543, -2.36568284034729, -1.165755033493042, 4.949007511138916, 15.161163330078125, -2.690183401107788, 12.959341049194336, 5.160935401916504, 20.64347267150879, -15.009761810302734, 9.863770484924316, -3.735250949859619, 19.517183303833008, 15.965378761291504, 15.553787231445312, 11.34948444366455, 10.635029792785645, 15.107376098632812, -15.748080253601074, -12.832472801208496, 18.07482147216797, -2.275744915008545, -5.976163864135742, 4.536669731140137, 4.526080131530762, 15.208277702331543, -4.03816556930542, -13.656679153442383, 7.443411350250244, -17.44985008239746, -4.439999580383301, 1.9053568840026855, 18.735605239868164, -0.39967137575149536, 10.023687362670898, -0.3610013425350189, 12.090598106384277, 5.229376792907715, -9.533265113830566, 6.38795280456543, 11.630498886108398, 12.120641708374023, -14.176817893981934, -0.45745787024497986, -7.735196113586426, 19.69919776916504, 5.830535411834717, 6.714743614196777, 6.399466037750244, -1.0010210275650024, -2.055586814880371, 11.394598007202148, -17.72242546081543, 14.987817764282227, 5.292370319366455, -1.568310260772705, 15.31245231628418, -15.746440887451172, -11.52593994140625, 4.351266384124756, 7.432515621185303, 20.41187286376953, -13.100541114807129, 19.69919776916504, -1.134456753730774, -5.8211750984191895, 14.162056922912598, -6.604599475860596, -3.637547254562378, 3.0326783657073975, -6.859641075134277, -0.45409899950027466, -2.3625431060791016, 0.8750638961791992, 18.732877731323242, -7.988117694854736, 3.2116153240203857, 12.61750602722168, 2.3650193214416504, 8.688178062438965, -6.2916693687438965, 2.314720630645752, 4.949007511138916, 10.002262115478516, 0.3888513743877411, -14.737446784973145, -7.850030899047852, 4.8505778312683105, 14.561626434326172, -1.1438788175582886, 20.916303634643555, 11.948878288269043, -6.519623279571533, 4.940000534057617, 1.747254729270935, 6.885715007781982, -18.811140060424805, 12.051494598388672, 7.44736385345459, 4.536669731140137, 2.73190975189209, 20.481243133544922, -15.482197761535645, 6.733061790466309, 16.735761642456055, 2.950914144515991, 20.38591957092285, -5.553422927856445, 20.42034149169922, 20.589847564697266, 19.489919662475586, 11.235006332397461, 2.88649582862854, -3.6434669494628906, 14.144708633422852, -2.427269697189331, -5.526525974273682, 18.733274459838867, -0.5871565341949463, -13.90080738067627, -9.871397018432617, -6.89265251159668, -0.4947417974472046, 12.451804161071777, 2.3885574340820312, 18.26078224182129, -18.86020278930664, -2.5856103897094727, 7.446593761444092, -10.377866744995117, -14.02901840209961, 4.949007511138916, -0.39967137575149536, -2.1229248046875, -1.165755033493042, 10.731436729431152, -15.037681579589844, 6.060381889343262, 19.67133331298828, -1.801328420639038, -11.33519172668457, 17.930389404296875, 4.02047872543335, 15.992057800292969, 16.00313377380371, 19.891653060913086, -2.1231114864349365, -0.009383104741573334, -4.7365593910217285, 12.94965648651123, -3.254357099533081, 9.991361618041992, 8.688178062438965, 15.029949188232422, 7.443411350250244, 11.390043258666992, 11.510790824890137, -0.789262056350708, 20.504741668701172, -15.398721694946289, 3.426880121231079, 18.34088706970215, -7.041799068450928, -11.741798400878906, 0.33953601121902466, 18.726327896118164, 10.034008979797363, -2.1413826942443848, 12.992999076843262, -4.166783809661865, 11.337746620178223, 1.696395993232727, 9.887260437011719, -12.377690315246582, 11.402369499206543, 10.393332481384277, 0.8894609808921814, 16.332359313964844, -1.9965214729309082, 0.3552347421646118, 6.586668014526367, -6.666912078857422, 16.00313377380371, 10.20541763305664, 15.033617973327637, 20.15338134765625, -5.301148891448975, 12.963533401489258, 14.846516609191895, 15.799304962158203, -1.3456542491912842, 14.27323055267334, -3.5034425258636475, 12.863271713256836, 11.968408584594727, 5.2912983894348145, 8.769012451171875, 8.869354248046875, 17.940629959106445, 6.948448657989502, 6.764699459075928]}, {\"marker\": {\"color\": \"rgba(128, 0, 128, 1.0)\", \"line\": {\"width\": 1.3}, \"opacity\": 0.8, \"size\": 12, \"symbol\": \"circle\"}, \"mode\": \"markers\", \"name\": \"ICML\", \"text\": [\"OptNet: Differentiable Optimization as a Layer in Neural Networks\", \"Input Convex Neural Networks\", \"Wasserstein Generative Adversarial Networks\", \"Synthesizing Robust Adversarial Examples\", \"Differentially Private Database Release via Kernel Mean Embeddings\", \"Optimizing the Latent Space of Generative Networks\", \"NetGAN: Generating Graphs via Random Walks\", \"Compressed Sensing using Generative Models\", \"Predict and Constrain: Modeling Cardinality in Deep Structured Prediction\", \"Path-Level Network Transformation for Efficient Architecture Search\", \"Adversarial Learning with Local Coordinate Coding\", \"Adversarial Time-to-Event Modeling\", \"Learning K-way D-dimensional Discrete Codes for Compact Embedding Representations\", \"DRACO: Byzantine-resilient Distributed Training via Redundant Gradients\", \"AdaNet: Adaptive Structural Learning of Artificial Neural Networks\", \"Inference Suboptimality in Variational Autoencoders\", \"Stochastic Generative Hashing\", \"Adversarial Attack on Graph Structured Data\", \"Language Modeling with Gated Convolutional Networks\", \"Stochastic Video Generation with a Learned Prior\", \"Dance Dance Convolution\", \"Model-Agnostic Meta-Learning for Fast Adaptation of Deep Networks\", \"Input Switched Affine Networks: An RNN Architecture Designed for Interpretability\", \"Bilevel Programming for Hyperparameter Optimization and Meta-Learning\", \"Convolutional Sequence to Sequence Learning\", \"Visualizing and Understanding Atari Agents\", \"On Calibration of Modern Neural Networks\", \"DeepBach: a Steerable Model for Bach Chorales Generation\", \"Learning unknown ODE models with Gaussian processes\", \"Toward Controlled Generation of Text\", \"Neural Autoregressive Flows\", \"Decoupled Parallel Backpropagation with Convergence Guarantee\", \"Attention-based Deep Multiple Instance Learning\", \"Black-box Adversarial Attacks with Limited Queries and Information\", \"Decoupled Neural Interfaces using Synthetic Gradients\", \"Efficient end-to-end learning for quantizable representations\", \"Composite Functional Gradient Learning of Generative  Adversarial Models\", \"Video Pixel Networks\", \"Efficient Neural Audio Synthesis\", \"Learning to Discover Cross-Domain Relations with Generative Adversarial Networks\", \"SplitNet: Learning to Semantically Split Deep Networks for Parameter Reduction and Model Parallelization\", \"Disentangling by Factorising\", \"Neural Relational Inference for Interacting Systems\", \"Grammar Variational Autoencoder\", \"Deep Spectral Clustering Learning\", \"Hierarchical Imitation and Reinforcement Learning\", \"Confident Multiple Choice Learning\", \"Gated Path Planning Networks\", \"Noise2Noise: Learning Image Restoration without Clean Data\", \"Dropout Inference in Bayesian Neural Networks with Alpha-divergences\", \"Explicit Inductive Bias for Transfer Learning with Convolutional Networks\", \"Towards Binary-Valued Gates for Robust LSTM Training\", \"Zero-Inflated Exponential Family Embeddings\", \"Dimensionality-Driven Learning with Noisy Labels\", \"Adversarial Variational Bayes: Unifying Variational Autoencoders and Generative Adversarial Networks\", \"Device Placement Optimization with Reinforcement Learning\", \"SparseMAP: Differentiable Sparse Structured Inference\", \"A Theoretical Explanation for Perplexing Behaviors of Backpropagation-based Visualizations\", \"The Statistical Recurrent Unit\", \"Count-Based Exploration with Neural Density Models\", \"Efficient Neural Architecture Search via Parameters Sharing\", \"Robust Adversarial Reinforcement Learning\", \"Neural Episodic Control\", \"Online and Linear-Time Attention by Enforcing Monotonic Alignments\", \"Learning to Reweight Examples for Robust Deep Learning\", \"Deep One-Class Classification\", \"First Order Generative Adversarial Networks\", \"Finding Influential Training Samples for Gradient Boosted Decision Trees\", \"A Spectral Approach to Gradient Estimation for Implicit Distributions\", \"Bottleneck Conditional Density Estimation\", \"Attentive Recurrent Comparators\", \"The Predictron:  End-To-End Learning and Planning\", \"Accelerating Natural Gradient with Higher-Order Invariance\", \"Exploiting the Potential of Standard Convolutional Autoencoders for Image Restoration by Evolutionary Search\", \"Neural Program Synthesis from Diverse Demonstration Videos\", \"Differentiable Compositional Kernel Learning for Gaussian Processes\", \"Axiomatic Attribution for Deep Networks\", \"Black Box FDR\", \"Learning Longer-term Dependencies in RNNs with Auxiliary Losses\", \"The Mirage of Action-Dependent Baselines in Reinforcement Learning\", \"Learning to Generate Long-term Future via Hierarchical Prediction\", \"PredRNN++: Towards A Resolution of the Deep-in-Time Dilemma in Spatiotemporal Predictive Learning\", \"Style Tokens: Unsupervised Style Modeling, Control and Transfer in End-to-End Speech Synthesis\", \"Transfer Learning via Learning to Transfer\", \"Hierarchical Long-term Video Prediction without Supervision\", \"Variance Regularized Counterfactual Risk Minimization via Variational Divergence Minimization\", \"Deep k-Means: Re-Training and Parameter Sharing with Harder Cluster Assignments for Compressing Deep Convolutions\", \"Learning Semantic Representations for Unsupervised Domain Adaptation\", \"Improved Variational Autoencoders for Text Modeling using Dilated Convolutions\", \"Mean Field Multi-Agent Reinforcement Learning\", \"Combined Group and Exclusive Sparsity for Deep Neural Networks\", \"GraphRNN: Generating Realistic Graphs with Deep Auto-regressive Models\", \"Continual Learning Through Synaptic Intelligence\", \"Adversarial Feature Matching for Text Generation\", \"Convexified Convolutional Neural Networks\", \"Noisy Natural Gradient as Variational Inference\", \"Follow the Moving Leader in Deep Learning\", \"Recurrent Highway Networks\"], \"textfont\": {\"color\": \"#4D5663\"}, \"type\": \"scatter\", \"x\": [-8.68237590789795, 5.428737163543701, -1.1378575563430786, -7.21181058883667, -9.52187442779541, 0.08346008509397507, -13.657767295837402, -12.118638038635254, 13.302117347717285, 5.527338981628418, -11.990315437316895, -14.143017768859863, -16.58918571472168, -15.300368309020996, -7.288468837738037, -9.348336219787598, -14.975074768066406, -11.405265808105469, -15.088277816772461, -16.998577117919922, 13.605921745300293, -9.278827667236328, -10.949624061584473, -18.66811180114746, -5.17038106918335, -16.29771614074707, -4.8793511390686035, -11.85798168182373, -12.217004776000977, -9.671428680419922, -11.889986038208008, -2.0525848865509033, -4.5047736167907715, -3.3768935203552246, -11.292922973632812, -2.1641125679016113, -18.077194213867188, 10.51133918762207, -15.986298561096191, -7.024784564971924, -4.141096115112305, -0.5653109550476074, -9.280948638916016, -4.618255138397217, -5.265749454498291, -18.660091400146484, 1.1819140911102295, -7.281893730163574, -12.425435066223145, -11.178736686706543, -18.3702335357666, -11.603254318237305, -9.7632474899292, -8.079843521118164, -16.097829818725586, 8.49427604675293, -1.176493525505066, -8.673619270324707, -5.277063369750977, -0.9848296046257019, 12.941601753234863, -19.423582077026367, -12.48466968536377, 1.0301313400268555, 0.3799425959587097, -2.44468355178833, -3.738492965698242, -14.400336265563965, -11.746160507202148, -13.449788093566895, 16.163108825683594, -9.816732406616211, -12.188800811767578, 6.624324798583984, -12.591995239257812, -7.319779396057129, -12.422183990478516, -9.649797439575195, -9.27474308013916, -11.471033096313477, -12.480143547058105, -13.515210151672363, 19.370506286621094, -13.308570861816406, -13.142585754394531, -11.244284629821777, 1.012722373008728, -13.883108139038086, -10.296060562133789, -11.242379188537598, -10.235424041748047, -9.443465232849121, -10.180604934692383, 1.7021443843841553, -10.615665435791016, -9.992664337158203, -1.3007816076278687, -13.606184005737305], \"y\": [-0.060899458825588226, -13.397150039672852, 8.237712860107422, 15.213215827941895, -7.9517621994018555, -11.140862464904785, -9.878339767456055, -4.377182483673096, -0.16779565811157227, -13.273605346679688, -9.564146041870117, -14.713552474975586, -1.8818336725234985, -9.908188819885254, -6.946713447570801, -0.32235223054885864, -4.5949554443359375, -18.805835723876953, -4.570550441741943, -2.2198352813720703, -7.83721923828125, -17.627826690673828, 3.9444360733032227, -0.6949248313903809, -13.865365028381348, -1.717780590057373, -2.5735628604888916, 0.2116512656211853, 4.785628318786621, -6.3254218101501465, -5.141777515411377, -14.460585594177246, -6.228446006774902, 5.283877372741699, -5.27979040145874, -9.775932312011719, -3.1023104190826416, -5.124516487121582, -13.387530326843262, -8.807908058166504, -18.32203483581543, 3.63305926322937, -17.38563346862793, -21.833452224731445, -0.9686166048049927, -0.863516628742218, -10.342907905578613, -15.008926391601562, 5.095519065856934, -5.144576072692871, 0.9414680004119873, -9.12573528289795, 6.108365058898926, -10.0592041015625, -13.54736328125, -4.004719257354736, -11.545234680175781, -11.433022499084473, -0.9921842217445374, 8.093976020812988, -8.190033912658691, -10.57845401763916, -2.928382158279419, -11.361895561218262, -18.552141189575195, -17.241065979003906, 5.58095645904541, -10.542718887329102, -13.165308952331543, -15.426547050476074, -11.210517883300781, 6.140058517456055, -15.869768142700195, -11.206459999084473, 0.0075712245889008045, -8.665246963500977, -2.8322818279266357, -0.38083916902542114, -12.105027198791504, -8.93363094329834, -3.024833917617798, -9.86217212677002, -3.07951021194458, 4.088203430175781, 4.209796905517578, -15.307389259338379, -10.696196556091309, -9.85049057006836, 1.3886972665786743, -15.284027099609375, 2.3107707500457764, -0.3324722945690155, 2.3116471767425537, -18.412771224975586, -12.980189323425293, -17.66442108154297, 8.438480377197266, -5.3242058753967285]}, {\"marker\": {\"color\": \"rgba(219, 64, 82, 1.0)\", \"line\": {\"width\": 1.3}, \"opacity\": 0.8, \"size\": 12, \"symbol\": \"circle\"}, \"mode\": \"markers\", \"name\": \"ICCV\", \"text\": [\"VQA: Visual Question Answering\", \"CVAE-GAN: Fine-Grained Image Generation Through Asymmetric Training\", \"Convolutional Color Constancy\", \"Deep TextSpotter: An End-To-End Trainable Scene Text Localization and Recognition Framework\", \"SubUNets: End-To-End Hand Shape and Continuous Sign Language Recognition\", \"HashNet: Deep Learning to Hash by Continuation\", \"Deep Adaptive Image Clustering\", \"Deep Colorization\", \"Photographic Image Synthesis With Cascaded Refinement Networks\", \"Query-Guided Regression Network With Context Policy for Phrase Grounding\", \"Pixel Recursive Super Resolution\", \"Deformable Convolutional Networks\", \"Attributes2Classname: A Discriminative Model for Attribute-Based Unsupervised Zero-Shot Learning\", \"RPAN: An End-To-End Recurrent Pose-Attention Network for Action Recognition in Videos\", \"BlitzNet: A Real-Time Deep Network for Scene Understanding\", \"Predicting Depth, Surface Normals and Semantic Labels With a Common Multi-Scale Convolutional Architecture\", \"Interpretable Explanations of Black Boxes by Meaningful Perturbation\", \"Single Image 3D Without a Single 3D Image\", \"Associative Domain Adaptation\", \"Automatic Spatially-Aware Fashion Concept Discovery\", \"Mask R-CNN\", \"Beyond Face Rotation: Global and Local Perception GAN for Photorealistic and Identity Preserving Frontal View Synthesis\", \"Wavelet-SRNet: A Wavelet-Based CNN for Multi-Scale Face Super Resolution\", \"Learning to Reason: End-To-End Module Networks for Visual Question Answering\", \"DSLR-Quality Photos on Mobile Devices With Deep Convolutional Networks\", \"PoseNet: A Convolutional Network for Real-Time 6-DOF Camera Relocalization\", \"Escape From Cells: Deep Kd-Networks for the Recognition of 3D Point Cloud Models\", \"Learning to Push the Limits of Efficient FFT-Based Image Deconvolution\", \"Introspective Neural Networks for Generative Modeling\", \"RoomNet: End-To-End Room Layout Estimation\", \"Learning Efficient Convolutional Networks Through Network Slimming\", \"Raster-To-Vector: Revisiting Floorplan Transformation\", \"Rotation Equivariant Vector Field Networks\", \"Attentive Semantic Video Generation Using Captions\", \"Domain-Adaptive Deep Network Compression\", \"Learning Proximal Operators: Using Denoising Networks for Regularizing Inverse Imaging Problems\", \"Curriculum Dropout\", \"No Fuss Distance Metric Learning Using Proxies\", \"Video Frame Interpolation via Adaptive Separable Convolution\", \"Representation Learning by Learning to Count\", \"GANs for Biological Image Synthesis\", \"Following Gaze in Video\", \"EnhanceNet: Single Image Super-Resolution Through Automated Texture Synthesis\", \"Grad-CAM: Visual Explanations From Deep Networks via Gradient-Based Localization\", \"DSOD: Learning Deeply Supervised Object Detectors From Scratch\", \"Incremental Learning of Object Detectors Without Catastrophic Forgetting\", \"Hide-And-Seek: Forcing a Network to Be Meticulous for Weakly-Supervised Object and Action Localization\", \"Face Flow\", \"Multi-View Convolutional Neural Networks for 3D Shape Recognition\", \"Reasoning About Fine-Grained Attribute Phrases Using Reference Games\", \"Click Here: Human-Localized Keypoints as Guidance for Viewpoint Estimation\", \"MemNet: A Persistent Memory Network for Image Restoration\", \"Unsupervised Learning of Object Landmarks by Factorized Spatial Embeddings\", \"Image Super-Resolution Using Dense Skip Connections\", \"Unsupervised Adaptation for Deep Stereo\", \"Simultaneous Deep Transfer Across Domains and Tasks\", \"Sequence to Sequence - Video to Text\", \"Revisiting IM2GPS in the Deep Learning Era\", \"Multi-Label Image Recognition by Recurrently Discovering Attentional Regions\", \"Learning Blind Motion Deblurring\", \"Self-Organized Text Detection With Minimal Post-Processing via Border Learning\", \"Curriculum Domain Adaptation for Semantic Segmentation of Urban Scenes\", \"Learning Spread-Out Local Feature Descriptors\", \"Conditional Random Fields as Recurrent Neural Networks\", \"Unlabeled Samples Generated by GAN Improve the Person Re-Identification Baseline in Vitro\"], \"textfont\": {\"color\": \"#4D5663\"}, \"type\": \"scatter\", \"x\": [-7.208314418792725, -0.24688470363616943, -13.069812774658203, 13.964482307434082, 8.915422439575195, 11.803010940551758, -2.5178885459899902, 12.312761306762695, -1.7738736867904663, 7.1062493324279785, 15.030682563781738, 1.5813531875610352, -2.659180164337158, -7.515749454498291, 15.105864524841309, 2.3766136169433594, 4.346724510192871, 4.373833656311035, -7.320755958557129, 13.56704330444336, -7.288212776184082, -0.21056824922561646, 10.556600570678711, 17.06455421447754, 6.722080707550049, -7.21977424621582, 3.169163942337036, 15.029041290283203, -0.024919509887695312, 7.317579746246338, 10.6005220413208, 7.7134881019592285, 8.496591567993164, 20.118526458740234, 12.152734756469727, 12.141521453857422, 12.13934326171875, 0.34852397441864014, 12.145034790039062, 15.030682563781738, 13.639415740966797, -1.6900337934494019, -2.467860698699951, -0.2590970993041992, 11.760420799255371, 10.959537506103516, -12.437358856201172, -15.449301719665527, 2.3095791339874268, -0.23049810528755188, 15.008578300476074, 9.923173904418945, -3.4474663734436035, 15.030682563781738, -8.474103927612305, 19.912900924682617, 12.911016464233398, 15.164237022399902, 6.211130619049072, -7.386507034301758, -0.23913662135601044, 10.732592582702637, -0.22351644933223724, 2.3062570095062256, 5.624587535858154], \"y\": [12.14647102355957, 24.486669540405273, 4.770031452178955, -2.526972532272339, -9.257414817810059, 3.2736377716064453, -9.252246856689453, 8.158591270446777, 8.766973495483398, -5.93790864944458, 18.02444839477539, -2.0170602798461914, 12.962730407714844, -19.845136642456055, 18.007888793945312, 9.602872848510742, 0.9656359553337097, 10.685401916503906, 9.046123504638672, 16.118593215942383, 16.105222702026367, 24.51054573059082, -15.101459503173828, -12.421340942382812, -6.18454122543335, 12.352727890014648, 6.035023212432861, 18.006860733032227, -0.49937504529953003, 19.60624885559082, -15.02877426147461, 2.4783926010131836, -0.3285149931907654, -3.652705669403076, 12.736193656921387, 12.745881080627441, 12.870567321777344, 2.2009165287017822, 3.5896480083465576, 18.02444839477539, -10.664521217346191, 2.801792860031128, 9.944417953491211, 24.510156631469727, 11.293400764465332, 15.578530311584473, 12.643856048583984, -0.2842651605606079, 9.60222339630127, 24.53743553161621, 17.99492835998535, -9.60980224609375, -3.0056939125061035, 18.02444839477539, 2.110503911972046, -3.7759830951690674, -0.7796605229377747, -14.078193664550781, 16.521587371826172, 3.74945068359375, 24.513269424438477, -4.345615863800049, 24.587215423583984, 9.608141899108887, -13.512767791748047]}],\n",
       "                        {\"legend\": {\"bgcolor\": \"#F5F6F9\", \"font\": {\"color\": \"#4D5663\"}}, \"paper_bgcolor\": \"#F5F6F9\", \"plot_bgcolor\": \"#F5F6F9\", \"template\": {\"data\": {\"bar\": [{\"error_x\": {\"color\": \"#2a3f5f\"}, \"error_y\": {\"color\": \"#2a3f5f\"}, \"marker\": {\"line\": {\"color\": \"#E5ECF6\", \"width\": 0.5}}, \"type\": \"bar\"}], \"barpolar\": [{\"marker\": {\"line\": {\"color\": \"#E5ECF6\", \"width\": 0.5}}, \"type\": \"barpolar\"}], \"carpet\": [{\"aaxis\": {\"endlinecolor\": \"#2a3f5f\", \"gridcolor\": \"white\", \"linecolor\": \"white\", \"minorgridcolor\": \"white\", \"startlinecolor\": \"#2a3f5f\"}, \"baxis\": {\"endlinecolor\": \"#2a3f5f\", \"gridcolor\": \"white\", \"linecolor\": \"white\", \"minorgridcolor\": \"white\", \"startlinecolor\": \"#2a3f5f\"}, \"type\": \"carpet\"}], \"choropleth\": [{\"colorbar\": {\"outlinewidth\": 0, \"ticks\": \"\"}, \"type\": \"choropleth\"}], \"contour\": [{\"colorbar\": {\"outlinewidth\": 0, \"ticks\": \"\"}, \"colorscale\": [[0.0, \"#0d0887\"], [0.1111111111111111, \"#46039f\"], [0.2222222222222222, \"#7201a8\"], [0.3333333333333333, \"#9c179e\"], [0.4444444444444444, \"#bd3786\"], [0.5555555555555556, \"#d8576b\"], [0.6666666666666666, \"#ed7953\"], [0.7777777777777778, \"#fb9f3a\"], [0.8888888888888888, \"#fdca26\"], [1.0, \"#f0f921\"]], \"type\": \"contour\"}], \"contourcarpet\": [{\"colorbar\": {\"outlinewidth\": 0, \"ticks\": \"\"}, \"type\": \"contourcarpet\"}], \"heatmap\": [{\"colorbar\": {\"outlinewidth\": 0, \"ticks\": \"\"}, \"colorscale\": [[0.0, \"#0d0887\"], [0.1111111111111111, \"#46039f\"], [0.2222222222222222, \"#7201a8\"], [0.3333333333333333, \"#9c179e\"], [0.4444444444444444, \"#bd3786\"], [0.5555555555555556, \"#d8576b\"], [0.6666666666666666, \"#ed7953\"], [0.7777777777777778, \"#fb9f3a\"], [0.8888888888888888, \"#fdca26\"], [1.0, \"#f0f921\"]], \"type\": \"heatmap\"}], \"heatmapgl\": [{\"colorbar\": {\"outlinewidth\": 0, \"ticks\": \"\"}, \"colorscale\": [[0.0, \"#0d0887\"], [0.1111111111111111, \"#46039f\"], [0.2222222222222222, \"#7201a8\"], [0.3333333333333333, \"#9c179e\"], [0.4444444444444444, \"#bd3786\"], [0.5555555555555556, \"#d8576b\"], [0.6666666666666666, \"#ed7953\"], [0.7777777777777778, \"#fb9f3a\"], [0.8888888888888888, \"#fdca26\"], [1.0, \"#f0f921\"]], \"type\": \"heatmapgl\"}], \"histogram\": [{\"marker\": {\"colorbar\": {\"outlinewidth\": 0, \"ticks\": \"\"}}, \"type\": \"histogram\"}], \"histogram2d\": [{\"colorbar\": {\"outlinewidth\": 0, \"ticks\": \"\"}, \"colorscale\": [[0.0, \"#0d0887\"], [0.1111111111111111, \"#46039f\"], [0.2222222222222222, \"#7201a8\"], [0.3333333333333333, \"#9c179e\"], [0.4444444444444444, \"#bd3786\"], [0.5555555555555556, \"#d8576b\"], [0.6666666666666666, \"#ed7953\"], [0.7777777777777778, \"#fb9f3a\"], [0.8888888888888888, \"#fdca26\"], [1.0, \"#f0f921\"]], \"type\": \"histogram2d\"}], \"histogram2dcontour\": [{\"colorbar\": {\"outlinewidth\": 0, \"ticks\": \"\"}, \"colorscale\": [[0.0, \"#0d0887\"], [0.1111111111111111, \"#46039f\"], [0.2222222222222222, \"#7201a8\"], [0.3333333333333333, \"#9c179e\"], [0.4444444444444444, \"#bd3786\"], [0.5555555555555556, \"#d8576b\"], [0.6666666666666666, \"#ed7953\"], [0.7777777777777778, \"#fb9f3a\"], [0.8888888888888888, \"#fdca26\"], [1.0, \"#f0f921\"]], \"type\": \"histogram2dcontour\"}], \"mesh3d\": [{\"colorbar\": {\"outlinewidth\": 0, \"ticks\": \"\"}, \"type\": \"mesh3d\"}], \"parcoords\": [{\"line\": {\"colorbar\": {\"outlinewidth\": 0, \"ticks\": \"\"}}, \"type\": \"parcoords\"}], \"pie\": [{\"automargin\": true, \"type\": \"pie\"}], \"scatter\": [{\"marker\": {\"colorbar\": {\"outlinewidth\": 0, \"ticks\": \"\"}}, \"type\": \"scatter\"}], \"scatter3d\": [{\"line\": {\"colorbar\": {\"outlinewidth\": 0, \"ticks\": \"\"}}, \"marker\": {\"colorbar\": {\"outlinewidth\": 0, \"ticks\": \"\"}}, \"type\": \"scatter3d\"}], \"scattercarpet\": [{\"marker\": {\"colorbar\": {\"outlinewidth\": 0, \"ticks\": \"\"}}, \"type\": \"scattercarpet\"}], \"scattergeo\": [{\"marker\": {\"colorbar\": {\"outlinewidth\": 0, \"ticks\": \"\"}}, \"type\": \"scattergeo\"}], \"scattergl\": [{\"marker\": {\"colorbar\": {\"outlinewidth\": 0, \"ticks\": \"\"}}, \"type\": \"scattergl\"}], \"scattermapbox\": [{\"marker\": {\"colorbar\": {\"outlinewidth\": 0, \"ticks\": \"\"}}, \"type\": \"scattermapbox\"}], \"scatterpolar\": [{\"marker\": {\"colorbar\": {\"outlinewidth\": 0, \"ticks\": \"\"}}, \"type\": \"scatterpolar\"}], \"scatterpolargl\": [{\"marker\": {\"colorbar\": {\"outlinewidth\": 0, \"ticks\": \"\"}}, \"type\": \"scatterpolargl\"}], \"scatterternary\": [{\"marker\": {\"colorbar\": {\"outlinewidth\": 0, \"ticks\": \"\"}}, \"type\": \"scatterternary\"}], \"surface\": [{\"colorbar\": {\"outlinewidth\": 0, \"ticks\": \"\"}, \"colorscale\": [[0.0, \"#0d0887\"], [0.1111111111111111, \"#46039f\"], [0.2222222222222222, \"#7201a8\"], [0.3333333333333333, \"#9c179e\"], [0.4444444444444444, \"#bd3786\"], [0.5555555555555556, \"#d8576b\"], [0.6666666666666666, \"#ed7953\"], [0.7777777777777778, \"#fb9f3a\"], [0.8888888888888888, \"#fdca26\"], [1.0, \"#f0f921\"]], \"type\": \"surface\"}], \"table\": [{\"cells\": {\"fill\": {\"color\": \"#EBF0F8\"}, \"line\": {\"color\": \"white\"}}, \"header\": {\"fill\": {\"color\": \"#C8D4E3\"}, \"line\": {\"color\": \"white\"}}, \"type\": \"table\"}]}, \"layout\": {\"annotationdefaults\": {\"arrowcolor\": \"#2a3f5f\", \"arrowhead\": 0, \"arrowwidth\": 1}, \"coloraxis\": {\"colorbar\": {\"outlinewidth\": 0, \"ticks\": \"\"}}, \"colorscale\": {\"diverging\": [[0, \"#8e0152\"], [0.1, \"#c51b7d\"], [0.2, \"#de77ae\"], [0.3, \"#f1b6da\"], [0.4, \"#fde0ef\"], [0.5, \"#f7f7f7\"], [0.6, \"#e6f5d0\"], [0.7, \"#b8e186\"], [0.8, \"#7fbc41\"], [0.9, \"#4d9221\"], [1, \"#276419\"]], \"sequential\": [[0.0, \"#0d0887\"], [0.1111111111111111, \"#46039f\"], [0.2222222222222222, \"#7201a8\"], [0.3333333333333333, \"#9c179e\"], [0.4444444444444444, \"#bd3786\"], [0.5555555555555556, \"#d8576b\"], [0.6666666666666666, \"#ed7953\"], [0.7777777777777778, \"#fb9f3a\"], [0.8888888888888888, \"#fdca26\"], [1.0, \"#f0f921\"]], \"sequentialminus\": [[0.0, \"#0d0887\"], [0.1111111111111111, \"#46039f\"], [0.2222222222222222, \"#7201a8\"], [0.3333333333333333, \"#9c179e\"], [0.4444444444444444, \"#bd3786\"], [0.5555555555555556, \"#d8576b\"], [0.6666666666666666, \"#ed7953\"], [0.7777777777777778, \"#fb9f3a\"], [0.8888888888888888, \"#fdca26\"], [1.0, \"#f0f921\"]]}, \"colorway\": [\"#636efa\", \"#EF553B\", \"#00cc96\", \"#ab63fa\", \"#FFA15A\", \"#19d3f3\", \"#FF6692\", \"#B6E880\", \"#FF97FF\", \"#FECB52\"], \"font\": {\"color\": \"#2a3f5f\"}, \"geo\": {\"bgcolor\": \"white\", \"lakecolor\": \"white\", \"landcolor\": \"#E5ECF6\", \"showlakes\": true, \"showland\": true, \"subunitcolor\": \"white\"}, \"hoverlabel\": {\"align\": \"left\"}, \"hovermode\": \"closest\", \"mapbox\": {\"style\": \"light\"}, \"paper_bgcolor\": \"white\", \"plot_bgcolor\": \"#E5ECF6\", \"polar\": {\"angularaxis\": {\"gridcolor\": \"white\", \"linecolor\": \"white\", \"ticks\": \"\"}, \"bgcolor\": \"#E5ECF6\", \"radialaxis\": {\"gridcolor\": \"white\", \"linecolor\": \"white\", \"ticks\": \"\"}}, \"scene\": {\"xaxis\": {\"backgroundcolor\": \"#E5ECF6\", \"gridcolor\": \"white\", \"gridwidth\": 2, \"linecolor\": \"white\", \"showbackground\": true, \"ticks\": \"\", \"zerolinecolor\": \"white\"}, \"yaxis\": {\"backgroundcolor\": \"#E5ECF6\", \"gridcolor\": \"white\", \"gridwidth\": 2, \"linecolor\": \"white\", \"showbackground\": true, \"ticks\": \"\", \"zerolinecolor\": \"white\"}, \"zaxis\": {\"backgroundcolor\": \"#E5ECF6\", \"gridcolor\": \"white\", \"gridwidth\": 2, \"linecolor\": \"white\", \"showbackground\": true, \"ticks\": \"\", \"zerolinecolor\": \"white\"}}, \"shapedefaults\": {\"line\": {\"color\": \"#2a3f5f\"}}, \"ternary\": {\"aaxis\": {\"gridcolor\": \"white\", \"linecolor\": \"white\", \"ticks\": \"\"}, \"baxis\": {\"gridcolor\": \"white\", \"linecolor\": \"white\", \"ticks\": \"\"}, \"bgcolor\": \"#E5ECF6\", \"caxis\": {\"gridcolor\": \"white\", \"linecolor\": \"white\", \"ticks\": \"\"}}, \"title\": {\"x\": 0.05}, \"xaxis\": {\"automargin\": true, \"gridcolor\": \"white\", \"linecolor\": \"white\", \"ticks\": \"\", \"title\": {\"standoff\": 15}, \"zerolinecolor\": \"white\", \"zerolinewidth\": 2}, \"yaxis\": {\"automargin\": true, \"gridcolor\": \"white\", \"linecolor\": \"white\", \"ticks\": \"\", \"title\": {\"standoff\": 15}, \"zerolinecolor\": \"white\", \"zerolinewidth\": 2}}}, \"title\": {\"font\": {\"color\": \"#4D5663\"}, \"text\": \"Combined Graph (TSNE)\"}, \"xaxis\": {\"gridcolor\": \"#E1E5ED\", \"showgrid\": true, \"tickfont\": {\"color\": \"#4D5663\"}, \"title\": {\"font\": {\"color\": \"#4D5663\"}, \"text\": \"\"}, \"zerolinecolor\": \"#E1E5ED\"}, \"yaxis\": {\"gridcolor\": \"#E1E5ED\", \"showgrid\": true, \"tickfont\": {\"color\": \"#4D5663\"}, \"title\": {\"font\": {\"color\": \"#4D5663\"}, \"text\": \"\"}, \"zerolinecolor\": \"#E1E5ED\"}},\n",
       "                        {\"showLink\": true, \"linkText\": \"Export to plot.ly\", \"plotlyServerURL\": \"https://plot.ly\", \"responsive\": true}\n",
       "                    ).then(function(){\n",
       "                            \n",
       "var gd = document.getElementById('bd44a4a0-a01b-4243-8236-9a2a162d462e');\n",
       "var x = new MutationObserver(function (mutations, observer) {{\n",
       "        var display = window.getComputedStyle(gd).display;\n",
       "        if (!display || display === 'none') {{\n",
       "            console.log([gd, 'removed!']);\n",
       "            Plotly.purge(gd);\n",
       "            observer.disconnect();\n",
       "        }}\n",
       "}});\n",
       "\n",
       "// Listen for the removal of the full notebook cells\n",
       "var notebookContainer = gd.closest('#notebook-container');\n",
       "if (notebookContainer) {{\n",
       "    x.observe(notebookContainer, {childList: true});\n",
       "}}\n",
       "\n",
       "// Listen for the clearing of the current output cell\n",
       "var outputEl = gd.closest('.output');\n",
       "if (outputEl) {{\n",
       "    x.observe(outputEl, {childList: true});\n",
       "}}\n",
       "\n",
       "                        })\n",
       "                };\n",
       "                });\n",
       "            </script>\n",
       "        </div>"
      ]
     },
     "metadata": {},
     "output_type": "display_data"
    }
   ],
   "source": [
    "emb,meta=load_emb_data('combo')\n",
    "visualize(emb,meta,method='TSNE',dim=2, title='Combined Graph (TSNE)')"
   ]
  },
  {
   "cell_type": "code",
   "execution_count": 11,
   "metadata": {},
   "outputs": [
    {
     "data": {
      "application/vnd.plotly.v1+json": {
       "config": {
        "linkText": "Export to plot.ly",
        "plotlyServerURL": "https://plot.ly",
        "showLink": true
       },
       "data": [
        {
         "marker": {
          "color": "rgba(255, 153, 51, 1.0)",
          "line": {
           "width": 1.3
          },
          "opacity": 0.8,
          "size": 12,
          "symbol": "circle"
         },
         "mode": "markers",
         "name": "NIPS",
         "text": [
          "Visualizing the Loss Landscape of Neural Nets",
          "PointCNN",
          "L4: Practical loss-based stepsize adaptation for deep learning",
          "Multimodal Generative Models for Scalable Weakly-Supervised Learning",
          "Neural Voice Cloning with a Few Samples",
          "The Description Length of Deep Learning models",
          "Deep Defense: Training DNNs with Improved Adversarial Robustness",
          "Adversarial Logit Pairing",
          "Realistic Evaluation of Deep Semi-Supervised Learning Algorithms",
          "DVAE#: Discrete Variational Autoencoders with Relaxed Boltzmann Priors",
          "BourGAN: Generative Networks with Metric Embeddings",
          "Bilinear Attention Networks",
          "Breaking the Activation Function Bottleneck through Adaptive Parameterization",
          "Hyperbolic Neural Networks",
          "Learning towards Minimum Hyperspherical Energy",
          "Generalizing to Unseen Domains via Adversarial Data Augmentation",
          "On GANs and GMMs",
          "Assessing Generative Models via Precision and Recall",
          "Relational recurrent neural networks",
          "Unsupervised Attention-guided Image-to-Image Translation",
          "Speaker-Follower Models for Vision-and-Language Navigation",
          "ATOMO: Communication-efficient Learning via Atomic Sparsification",
          "Generative Neural Machine Translation",
          "One-Shot Unsupervised Cross Domain Translation",
          "Banach Wasserstein GAN",
          "Neural Code Comprehension: A Learnable Representation of Code Semantics",
          "3D Steerable CNNs: Learning Rotationally Equivariant Features in Volumetric Data",
          "Glow: Generative Flow with Invertible 1x1 Convolutions",
          "Discovery of Latent 3D Keypoints via End-to-end Geometric Reasoning",
          "An intriguing failing of convolutional neural networks and the CoordConv solution",
          "Latent Alignment and Variational Attention",
          "Neural Arithmetic Logic Units",
          "Adaptive Skip Intervals: Temporal Abstraction for Recurrent Dynamical Models",
          "Video-to-Video Synthesis",
          "Generalisation in humans and deep neural networks",
          "A Unified Feature Disentangler for Multi-Domain Image Translation and Manipulation",
          "Neural Guided Constraint Logic Programming for Program Synthesis",
          "Deep Subspace Clustering Networks",
          "Dilated Recurrent Neural Networks",
          "Structured Embedding Models for Grouped Data",
          "Best of Both Worlds: Transferring Knowledge from Discriminative Learning to a Generative Visual Dialog Model",
          "Learning a Multi-View Stereo Machine",
          "Universal Style Transfer via Feature Transforms",
          "f-GANs in an Information Geometric Nutshell",
          "Toward Multimodal Image-to-Image Translation",
          "One-Sided Unsupervised Domain Mapping",
          "Deep Mean-Shift Priors for Image Restoration",
          "SchNet: A continuous-filter convolutional neural network for modeling quantum interactions",
          "Inductive Representation Learning on Large Graphs",
          "Mean teachers are better role models: Weight-averaged consistency targets improve semi-supervised deep learning results",
          "TernGrad: Ternary Gradients to Reduce Communication in Distributed Deep Learning",
          "NeuralFDR: Learning Discovery Thresholds from Hypothesis Features",
          "Learning Multiple Tasks with Multilinear Relationship Networks",
          "Train longer, generalize better: closing the generalization gap in large batch training of neural networks",
          "The Numerics of GANs",
          "Stabilizing Training of Generative Adversarial Networks through Regularization",
          "Training Deep Networks without Learning Rates Through Coin Betting",
          "MMD GAN: Towards Deeper Understanding of Moment Matching Network",
          "Few-Shot Learning Through an Information Retrieval  Lens",
          "Differentiable Learning of Logical Rules for Knowledge Base Reasoning",
          "OnACID: Online Analysis of Calcium Imaging Data in Real Time",
          "Fisher GAN",
          "Toward Goal-Driven Neural Network Models for the Rodent Whisker-Trigeminal System",
          "Predicting Organic Reaction Outcomes with Weisfeiler-Lehman Network",
          "REBAR: Low-variance, unbiased gradient estimates for discrete latent variable models",
          "ELF: An Extensive, Lightweight and Flexible Research Platform for Real-time Strategy Games",
          "Dual Discriminator Generative Adversarial Nets",
          "Bridging the Gap Between Value and Policy Based Reinforcement Learning",
          "Convolutional Gaussian Processes",
          "Deep Lattice Networks and Partial Monotonic Functions",
          "Hierarchical Attentive Recurrent Tracking",
          "Learning to Compose Domain-Specific Transformations for Data Augmentation",
          "Language Modeling with Recurrent Highway Hypernetworks",
          "Bayesian Compression for Deep Learning",
          "Streaming Sparse Gaussian Process Approximations",
          "Spherical convolutions and their application in molecular modelling",
          "Neural system identification for large populations separating what and where",
          "A Disentangled Recognition and Nonlinear Dynamics Model for Unsupervised Learning",
          "Bayesian GAN",
          "Geometric Matrix Completion with Recurrent Multi-Graph Neural Networks",
          "Diving into the shallows: a computational perspective on large-scale shallow learning",
          "InfoGAIL: Interpretable Imitation Learning from Visual Demonstrations",
          "Deep Hyperspherical Learning",
          "On-the-fly Operation Batching in Dynamic Computation Graphs",
          "Streaming Weak Submodularity: Interpreting Neural Networks on the Fly",
          "Prototypical Networks for Few-shot Learning",
          "Multi-Information Source Optimization",
          "Dual Path Networks",
          "Doubly Stochastic Variational Inference for Deep Gaussian Processes",
          "QMDP-Net: Deep Learning for Planning under Partial Observability",
          "A Unified Approach to Interpreting Model Predictions",
          "Context Selection for Embedding Models",
          "Working hard to know your neighbor's margins: Local descriptor learning loss",
          "Learning to Prune Deep Neural Networks via Layer-wise Optimal Brain Surgeon",
          "DropoutNet: Addressing Cold Start in Recommender Systems",
          "PointNet++: Deep Hierarchical Feature Learning on Point Sets in a Metric Space",
          "A-NICE-MC: Adversarial Training for MCMC",
          "Riemannian approach to batch normalization",
          "Triangle Generative Adversarial Networks",
          "Scalable trust-region method for deep reinforcement learning using Kronecker-factored approximation",
          "Hybrid Reward Architecture for Reinforcement Learning",
          "AdaGAN: Boosting Generative Models",
          "Task-based End-to-end Model Learning in Stochastic Optimization",
          "Gradient descent GAN optimization is locally stable",
          "Do Deep Neural Networks Suffer from Crowding?",
          "Improved Training of Wasserstein GANs",
          "Learning Disentangled Representations with Semi-Supervised Deep Generative Models",
          "Attention is All you Need",
          "Value Prediction Network",
          "Causal Effect Inference with Deep Latent-Variable Models",
          "Good Semi-supervised Learning That Requires a Bad GAN",
          "Modulating early visual processing by language",
          "GANs Trained by a Two Time-Scale Update Rule Converge to a Local Nash Equilibrium",
          "Neural Expectation Maximization",
          "Attend and Predict: Understanding Gene Regulation by Selective Attention on Chromatin",
          "Style Transfer from Non-Parallel Text by Cross-Alignment",
          "Real Time Image Saliency for Black Box Classifiers",
          "On Word Embedding Dimensionality",
          "COLA: Decentralized Linear Learning",
          "A Simple Unified Framework for Detecting Out-of-Distribution Samples and Adversarial Attacks",
          "Mapping Images to Scene Graphs with Permutation-Invariant Structured Prediction",
          "Learning Conditioned Graph Structures for Interpretable Visual Question Answering",
          "Reversible Recurrent Neural Networks"
         ],
         "textfont": {
          "color": "#4D5663"
         },
         "type": "scatter",
         "x": [
          -0.8789210752452508,
          -0.7391161255262235,
          -0.8026115189056582,
          -0.7027766865570243,
          2.615771306349782,
          -0.7629646839670231,
          -0.5460955120096364,
          -1.1568512277929275,
          -0.7004924138297908,
          -1.0954961030863986,
          -0.9424515260163986,
          -1.3232577777018895,
          -0.7673420250997582,
          -1.4417516538706943,
          -1.1630464992229848,
          -1.1458612990559385,
          -1.0941458394094843,
          -1.1266082534308923,
          -0.7567755486236797,
          -0.4558195814805238,
          -1.3984927575809585,
          -1.0442296400802795,
          -0.8559258151095207,
          -0.40160418757728644,
          -0.7741914220222286,
          -0.965026102040425,
          -0.35635080763961996,
          2.386517523349066,
          -0.5243242281966364,
          -0.9567790996238816,
          -1.2741949685874776,
          -0.870797798675137,
          -1.1939308218655795,
          -0.8670934008521369,
          -1.1407502372140839,
          -0.9962047057784008,
          -1.3017335406482329,
          -0.8781121421979333,
          -0.9341794520025347,
          -0.5537336482984876,
          -0.9690974134058178,
          -0.6164736702852467,
          2.4500045594709716,
          -0.794778451438183,
          2.705227897785611,
          -0.6569188154003571,
          -0.9368303896735303,
          -1.3626704568417267,
          -0.8834248566220531,
          0.3842461778180621,
          -0.7287461474537725,
          -0.8138243005197419,
          -0.27691902899541077,
          -0.6320466057479317,
          -0.4938865314895463,
          -1.245703425807019,
          -0.6548047873455974,
          -0.8211509891870807,
          -0.8039996518593292,
          -1.0894905420699212,
          -0.4465642669665763,
          -0.753850141870823,
          -0.4386292367347084,
          -0.9818883866189205,
          -0.5789752717215906,
          -1.1583038946023643,
          -1.140323915658323,
          -0.6690057850767519,
          -1.2318783289382198,
          -1.106054853086702,
          -1.3082990479773895,
          -0.9344106905035938,
          -0.752325495121502,
          -0.6414540680865012,
          -0.8437442373329117,
          -1.1678276247492128,
          -1.18721050759983,
          -1.247104761363223,
          -1.1648352280141177,
          -1.0701593299328196,
          -0.8600824719691558,
          -1.2902140626907328,
          -0.7888574759540372,
          2.5261254090127485,
          -0.44947962689472715,
          -0.05779915359564263,
          -0.8703909409628787,
          2.1120518135746185,
          -0.34898128331690875,
          -1.2146062989894202,
          -1.0733685271384688,
          -0.4660909284022793,
          -0.42928485433784663,
          -0.3160167214006932,
          1.8186507313178817,
          -0.6876250385297495,
          -1.0650115553457937,
          -0.5735888314766915,
          -1.097238313327396,
          -1.3929931681314522,
          -0.648609383021041,
          -0.8486986637157037,
          -0.6420634520690391,
          -0.752447031775915,
          -1.0847826029056065,
          -0.7976805908773387,
          -1.2314177983575387,
          2.1292180525364874,
          -0.831421308664903,
          -0.9798792145388414,
          -0.3515526503770424,
          2.195939044706803,
          -0.7334803918636191,
          -1.0004019516973348,
          -0.8221638586721307,
          -0.8660283999905084,
          2.614422083850486,
          -0.08194609740723693,
          -0.6225147076050188,
          -1.1151421870323912,
          -0.7582441357777876,
          -1.3112687987027936,
          -1.3428518708694843
         ],
         "y": [
          -0.42129628770878513,
          -0.4481160462018794,
          -0.5363956295853365,
          -0.8107389931243889,
          -2.194466120008517,
          -0.7010559746516861,
          -1.1968123745556536,
          -0.43898828078143315,
          -0.10716907253272175,
          0.25287217083754254,
          0.1789391534636452,
          -0.12837122952123384,
          0.005998891128336302,
          -0.04901086991127795,
          0.29971231384989533,
          0.29029758028121666,
          0.16561122914131587,
          0.1056222214975732,
          0.3788178284827662,
          -0.18910562136655826,
          -0.10781725418937806,
          0.05001074891311053,
          0.2122793237965859,
          0.35900574773592436,
          0.45696378497476875,
          0.23757687672493513,
          -0.6947909979716498,
          -0.574365256707009,
          -0.47418445911867846,
          -0.6688480144771044,
          -0.6174186217835911,
          0.387608281327952,
          0.2384901638006972,
          -0.2997016240862523,
          -0.0016127501666255034,
          0.32229966765188667,
          -0.17840940342156555,
          0.03157216821322279,
          0.26023040313569945,
          0.667228032878834,
          -0.29738411626506533,
          0.4536899827060501,
          -1.3189594631828998,
          0.18124546251637105,
          -1.9177870274198316,
          0.41327981385245327,
          -0.45332747444090316,
          -0.4676350169244811,
          0.42182509214867436,
          0.10673242536630247,
          -0.04627322689128255,
          -0.3691098288087286,
          -0.6666383824069,
          -0.758661869001524,
          0.16250021277293103,
          -0.3578386310121545,
          0.3232859673420602,
          -1.074138334494784,
          0.4978675360144767,
          0.262748476103064,
          0.4841585114005744,
          -0.6410566254064936,
          -0.009394173767561968,
          0.08449152560416534,
          0.5168049070826273,
          -0.13441202685083065,
          -2.3218601117671502,
          0.3975465525964333,
          -0.24585310268197438,
          0.10393984183810481,
          -0.0806592466017659,
          -0.04374066529073057,
          -0.14090876238549446,
          0.1497563543644228,
          0.3665669159431389,
          -0.24949156117424529,
          -0.1451945567274564,
          -0.06580828702545642,
          -0.7905634996106621,
          -0.06354353102675181,
          -0.11948044040817501,
          0.01637271244467696,
          -0.3244082823298514,
          -0.22653906491271777,
          0.4336328266201127,
          -0.3104755580793665,
          0.15616278731141328,
          -1.9666446709322585,
          0.6313019262269449,
          -0.1140371754205428,
          0.015414515761934226,
          0.7944225904061578,
          -0.048413400319471056,
          -0.18091035644850328,
          8.338700523007503,
          0.3015661427161644,
          -0.15938409846265583,
          0.32520154901632664,
          -0.7630802710469959,
          0.08981728965004403,
          0.45065428929243,
          -0.3504258909717039,
          -0.03681891926245321,
          -0.1376444552625772,
          -0.31001963496186064,
          -0.7920678846726219,
          -0.23078094772831964,
          -2.658168723973828,
          -1.97524978607761,
          0.2231600565507586,
          -0.09803347071934324,
          -1.7806052847054543,
          -0.6071243147975969,
          -0.12121678055796131,
          -0.4165930968271195,
          -0.14508306679260297,
          -1.1465427628789575,
          0.9382201434373649,
          0.25905125706648785,
          -0.44626528507712765,
          0.08556738809848637,
          -0.5541311482099861,
          -0.5034227019011529
         ]
        },
        {
         "marker": {
          "color": "rgba(55, 128, 191, 1.0)",
          "line": {
           "width": 1.3
          },
          "opacity": 0.8,
          "size": 12,
          "symbol": "circle"
         },
         "mode": "markers",
         "name": "ECCV",
         "text": [
          "Improving Shape Deformation in Unsupervised Image-to-Image Translation",
          "Pairwise Confusion for Fine-Grained Visual Classification",
          "GANimation: Anatomically-aware Facial Animation from a Single Image",
          "Deep Expander Networks: Efficient Deep Networks from Graph Theory",
          "3DMV: Joint 3D-Multi-View Prediction for 3D Semantic Scene Segmentation",
          "Learning Category-Specific Mesh Reconstruction from Image Collections",
          "Zero-Shot Object Detection",
          "A Style-Aware Content Loss for Real-time HD Style Transfer",
          "Piggyback: Adapting a Single Network to Multiple Tasks by Learning to Mask Weights",
          "Semi-supervised Adversarial Learning to Generate Photorealistic Face Images of New Identities from 3D Morphable Model",
          "Simple Baselines for Human Pose Estimation and Tracking",
          "Toward Characteristic-Preserving Image-based Virtual Try-On Network",
          "Acquisition of Localization Confidence for Accurate Object Detection",
          "Conditional Image-Text Embedding Networks",
          "SketchyScene: Richly-Annotated Scene Sketches",
          "Progressive Neural Architecture Search",
          "Image Manipulation with Perceptual Discriminators",
          "Repeatability Is Not Enough: Learning Affine Regions via Discriminability",
          "Unsupervised holistic image generation from key local patches",
          "LQ-Nets: Learned Quantization for Highly Accurate and Compact Deep Neural Networks",
          "Is Robustness the Cost of Accuracy? -- A Comprehensive Study on the Robustness of 18 Deep Image Classification Models",
          "Dynamic Multimodal Instance Segmentation Guided by Natural Language Queries",
          "Dynamic Conditional Networks for Few-Shot Learning",
          "Recovering 3D Planes from a Single Image via Convolutional Neural Networks",
          "Learning Single-View 3D Reconstruction with Limited Pose Supervision",
          "Image Inpainting for Irregular Holes Using Partial Convolutions",
          "Unsupervised Geometry-Aware Representation for 3D Human Pose Estimation",
          "PSANet: Point-wise Spatial Attention Network for Scene Parsing",
          "Deep Randomized Ensembles for Metric Learning",
          "Predicting Gaze in Egocentric Video by Learning Task-dependent Attention Transition",
          "Coloring with Words: Guiding Image Colorization Through Text-based Palette Generation",
          "Fighting Fake News: Image Splice Detection via Learned Self-Consistency",
          "HiDDeN: Hiding Data with Deep Networks",
          "Multi-scale Residual Network for Image Super-Resolution",
          "Adaptive Affinity Fields for Semantic Segmentation",
          "Statistically-motivated Second-order Pooling",
          "Stacked Cross Attention for Image-Text Matching",
          "Open Set Domain Adaptation by Backpropagation",
          "DeepVS: A Deep Learning Based Video Saliency Prediction Approach",
          "EC-Net: an Edge-aware Point set Consolidation Network",
          "Encoder-Decoder with Atrous Separable Convolution for Semantic Image Segmentation",
          "Estimating the Success of Unsupervised Image to Image Translation",
          "Single Shot Scene Text Retrieval",
          "Learning Type-Aware Embeddings for Fashion Compatibility",
          "Learning Visual Question Answering by Bootstrapping Hard Attention",
          "Deep Clustering for Unsupervised Learning of Visual Features",
          "Joint Person Segmentation and Identification in Synchronized First- and Third-person Videos",
          "ECO: Efficient Convolutional Network for Online Video Understanding",
          "Diverse and Coherent Paragraph Generation from Images",
          "MultiPoseNet: Fast Multi-Person Pose Estimation using Pose Residual Network",
          "ShapeStacks: Learning Vision-Based Physical Intuition for Generalised Object Stacking",
          "Towards Realistic Predictors",
          "Choose Your Neuron: Incorporating Domain Knowledge through Neuron-Importance",
          "Explainable Neural Computation via Stack Neural Module Networks",
          "Learning to Separate Object Sounds by Watching Unlabeled Video",
          "ESPNet: Efficient Spatial Pyramid of Dilated Convolutions for Semantic Segmentation",
          "Visual Coreference Resolution in Visual Dialog using Neural Module Networks",
          "License Plate Detection and Recognition in Unconstrained Scenarios",
          "Deep High Dynamic Range Imaging with Large Foreground Motions",
          "Multi-view to Novel view: Synthesizing novel views with Self-Learned Confidence",
          "Specular-to-Diffuse Translation for Multi-View Reconstruction",
          "Layer-structured 3D Scene Inference via View Synthesis",
          "3D-CODED: 3D Correspondences by Deep Deformation",
          "HybridNet: Classification and Reconstruction Cooperation for Semi-Supervised Learning",
          "BSN: Boundary Sensitive Network for Temporal Action Proposal Generation",
          "Learning Dynamic Memory Networks for Object Tracking",
          "Interpretable Intuitive Physics Model",
          "Gray-box Adversarial Training",
          "Depth-aware CNN for RGB-D Segmentation",
          "Learning Efficient Single-stage Pedestrian Detectors by Asymptotic Localization Fitting",
          "A Modulation Module for Multi-task Learning with Applications in Image Retrieval",
          "Single Image Water Hazard Detection using FCN with Reflection Attention Units",
          "Integral Human Pose Regression",
          "Recurrent Squeeze-and-Excitation Context Aggregation Net for Single Image Deraining",
          "Quaternion Convolutional Neural Networks",
          "Mutual Learning to Adapt for Joint Human Parsing and Pose Estimation",
          "Pose Partition Networks for Multi-Person Pose Estimation",
          "Video Re-localization",
          "Joint 3D Face Reconstruction and Dense Alignment with Position Map Regression Network",
          "MVSNet: Depth Inference for Unstructured Multi-view Stereo",
          "Audio-Visual Event Localization in Unconstrained Videos",
          "Macro-Micro Adversarial Network for Human Parsing",
          "SpiderCNN: Deep Learning on Point Sets with Parameterized Convolutional Filters",
          "PlaneMatch: Patch Coplanarity Prediction for Robust RGB-D Reconstruction",
          "Factorizable Net: An Efficient Subgraph-based Framework for Scene Graph Generation",
          "DF-Net: Unsupervised Joint Learning of Depth and Flow using Cross-Task Consistency",
          "Image Super-Resolution Using Very Deep Residual Channel Attention Networks",
          "Group Normalization",
          "Learning to Navigate for Fine-grained Classification",
          "Partial Adversarial Domain Adaptation",
          "Shift-Net: Image Inpainting via Deep Feature Rearrangement",
          "Distractor-aware Siamese Networks for Visual Object Tracking",
          "Improving Generalization via  Scalable Neighborhood Component Analysis",
          "Saliency Detection in 360° Videos",
          "GeoDesc: Learning Local Descriptors by Integrating Geometry Constraints"
         ],
         "textfont": {
          "color": "#4D5663"
         },
         "type": "scatter",
         "x": [
          -0.850588812752402,
          -0.8036772832579379,
          -0.8199905335533632,
          -0.9842383840629371,
          -1.1082334385802006,
          -0.9933108605715057,
          -1.2349697421767396,
          -1.0289564923580434,
          -1.1447111602469195,
          -1.279453848291579,
          -1.187148159865998,
          -1.0709688020515356,
          -0.8465303964235215,
          1.2975968141054686,
          -1.1247685853566551,
          1.3140475755397187,
          -1.2104404891433813,
          -0.3928146522523746,
          -1.0106571353219946,
          -0.9085508830105403,
          -1.4310015160100826,
          -0.9200648367023015,
          3.768225613440018,
          1.1522608951885627,
          1.2329300833500387,
          -1.0004204967837884,
          -0.646459843837984,
          1.5763383185035262,
          -0.2971318646267654,
          -1.025199818323038,
          -1.0606574526800079,
          -0.6396464457017554,
          -1.107876958295086,
          1.910421783140662,
          -1.2069518412945865,
          -1.0631338739292173,
          -1.32039030112444,
          -1.107473455622884,
          -0.9859877760579508,
          0.3094710277533288,
          -1.2218147407640756,
          -0.5789651891880672,
          -1.235583458447898,
          -0.9977664419539836,
          0.24413471658392505,
          -0.7690696703644004,
          -0.8280402472726385,
          1.8114790342151847,
          3.5354781743375034,
          -0.6673646785675993,
          -0.9666492642135396,
          0.7060942419309127,
          -1.095824491361802,
          -0.4678186476974085,
          -1.1100036220738179,
          -0.8334911849118757,
          -1.2153537478497978,
          1.681305473165052,
          -0.5497938197961103,
          -0.8185016356899466,
          -0.29657190956706697,
          -0.4948515880411361,
          -0.8261240401371774,
          -0.5288514360320652,
          -0.4678186476974085,
          -1.1751635899357966,
          -0.8599406088651761,
          -0.9761914702895569,
          -0.9639570407331389,
          -0.529232998785634,
          1.9548256206902126,
          -1.2649629814084014,
          -0.5912451085969486,
          -1.1621133694514936,
          -0.6739340680336313,
          3.2278567659667026,
          -0.9053695170642226,
          -1.234603878933568,
          -1.174146428156952,
          -1.1632145988323943,
          0.2083565906202387,
          -1.0086614850632774,
          -0.5585053622051219,
          -0.8047377434672953,
          -0.7701071009894237,
          3.265840263592072,
          -0.3086019243460377,
          -0.8003352235195642,
          -1.162484704329839,
          -0.7810355961804483,
          -0.2971318646267654,
          -1.1943504599433281,
          -1.1759042335747294,
          -0.4564370758917483,
          -0.42941492039758594
         ],
         "y": [
          0.20629731740898688,
          -0.13913805396812587,
          -0.24986275061602334,
          -0.5887515370068795,
          -0.2632746199531321,
          -0.4074368488391595,
          -0.33522414404877593,
          -0.9797975574655433,
          -0.7929562943191563,
          -0.2489259390506851,
          -0.40595258128257267,
          -0.11352159424182093,
          -0.2929494625217503,
          -1.329710646153763,
          -0.30628319531508624,
          -4.968912420245291,
          -0.5364926671175829,
          -0.07294162455774325,
          -0.033444249507684806,
          -1.1403381099306424,
          -0.5861093483871989,
          -0.21445641142796762,
          -1.3451703870277176,
          1.9361989413799174,
          1.860665525118953,
          -0.574445517122625,
          -0.0865423176937763,
          -1.6031718219537279,
          -0.007210801574988292,
          -0.6497608731739704,
          -0.45676377383254463,
          -0.4003700253689119,
          -0.701725874568287,
          -1.9601505996334239,
          -0.3952142555289767,
          -0.17407170743488296,
          -0.6696408327417173,
          -0.18208149580062466,
          -0.18279338117011473,
          4.786829442970664,
          -0.5006276805875779,
          -0.12445723456215947,
          -0.2632562082172363,
          -0.28102114114016213,
          -1.8753225596357106,
          -1.2507226007095782,
          -0.663531562332043,
          -1.5022168299357115,
          -0.45924151110790884,
          -0.1252027965394855,
          0.09426686900365082,
          -2.370161018598864,
          -0.5194527137187103,
          0.3501684670162525,
          -0.3418465551980873,
          -0.08785962407016912,
          -0.30677502346756874,
          9.267906830757465,
          -0.27423199515892915,
          0.03061182516679555,
          -0.09150156443614729,
          0.2441429876817466,
          -0.3278431306517047,
          -0.6732491260040597,
          0.3501684670162525,
          -0.36071891319421484,
          -0.3596576472828181,
          -0.5036505039979414,
          -0.3776147559047424,
          -0.4445117592288136,
          -1.4445565866464591,
          -0.46070980328955324,
          -0.47660981422877413,
          -0.36752609782420104,
          0.015141640140258884,
          -1.3926298118610934,
          -0.27573882836143254,
          -0.25877435814824656,
          -0.13164223123044652,
          -0.14498683273818816,
          -0.2577607835915206,
          -0.2999037322266229,
          -0.2834851299728001,
          -0.5931458703458315,
          -0.25637159104075063,
          -0.44158055400714985,
          -0.10787483505004296,
          -0.5382769951755159,
          -0.5782693459607406,
          -0.45775610308765424,
          -0.007210801574988292,
          -0.5059133592561579,
          -0.9674493280534384,
          -0.23491902109647406,
          0.3203892887812871
         ]
        },
        {
         "marker": {
          "color": "rgba(50, 171, 96, 1.0)",
          "line": {
           "width": 1.3
          },
          "opacity": 0.8,
          "size": 12,
          "symbol": "circle"
         },
         "mode": "markers",
         "name": "CVPR",
         "text": [
          "Efficient Interactive Annotation of Segmentation Datasets With Polygon-RNN++",
          "An Improved Deep Learning Architecture for Person Re-Identification",
          "Learning Pixel-Level Semantic Affinity With Image-Level Supervision for Weakly Supervised Semantic Segmentation",
          "Defense Against Universal Adversarial Perturbations",
          "Light Field Intrinsics With a Deep Encoder-Decoder Network",
          "Neural Module Networks",
          "Real-Time Monocular Depth Estimation Using Synthetic Data With Domain Adaptation via Image Style Transfer",
          "Multi-Content GAN for Few-Shot Font Style Transfer",
          "LCNN: Lookup-Based Convolutional Neural Network",
          "Deep Watershed Transform for Instance Segmentation",
          "Glimpse Clouds: Human Activity Recognition From Unstructured Feature Points",
          "Hierarchical Boundary-Aware Neural Encoder for Video Captioning",
          "Visual Feature Attribution Using Wasserstein GANs",
          "Deep Unsupervised Similarity Learning Using Partially Ordered Sets",
          "The Lovász-Softmax Loss: A Tractable Surrogate for the Optimization of the Intersection-Over-Union Measure in Neural Networks",
          "Geometry-Aware Learning of Maps for Camera Localization",
          "SST: Single-Stream Temporal Action Proposals",
          "In-Place Activated BatchNorm for Memory-Optimized Training of DNNs",
          "One-Shot Video Object Segmentation",
          "Neural Sign Language Translation",
          "HashGAN: Deep Learning to Hash With Pair Conditional Wasserstein GAN",
          "Partial Transfer Learning With Selective Adversarial Networks",
          "Realtime Multi-Person 2D Pose Estimation Using Part Affinity Fields",
          "Visual Question Reasoning on General Dependency Tree",
          "Annotating Object Instances With a Polygon-RNN",
          "Pyramid Stereo Matching Network",
          "AON: Towards Arbitrarily-Oriented Text Recognition",
          "Cascaded Pyramid Network for Multi-Person Pose Estimation",
          "Deep Photo Enhancer: Unpaired Learning for Image Enhancement From Photographs With GANs",
          "Knowledge Aided Consistency for Weakly Supervised Phrase Grounding",
          "LiDAR-Video Driving Dataset: Learning Driving Policies Effectively",
          "Multi-View 3D Object Detection Network for Autonomous Driving",
          "StarGAN: Unified Generative Adversarial Networks for Multi-Domain Image-to-Image Translation",
          "Xception: Deep Learning With Depthwise Separable Convolutions",
          "Lip Reading Sentences in the Wild",
          "VidLoc: A Deep Spatio-Temporal Model for 6-DoF Video-Clip Relocalization",
          "Large Scale Fine-Grained Categorization and Domain-Specific Transfer Learning",
          "Learning to Evaluate Image Captioning",
          "ScanComplete: Large-Scale Scene Completion and Semantic Segmentation for 3D Scans",
          "Eye In-Painting With Exemplar Generative Adversarial Networks",
          "Style Aggregated Network for Facial Landmark Detection",
          "Supervision-by-Registration: An Unsupervised Approach to Improve the Precision of Facial Landmark Detectors",
          "Structured Uncertainty Prediction Networks",
          "Low-Shot Learning With Large-Scale Diffusion",
          "GraphBit: Bitwise Interaction Mining via Deep Reinforcement Learning",
          "WILDCAT: Weakly Supervised Learning of Deep ConvNets for Image Classification, Pointwise Localization and Segmentation",
          "Who Let the Dogs Out? Modeling Dog Behavior From Visual Data",
          "Robust Physical-World Attacks on Deep Learning Visual Classification",
          "AMNet: Memorability Estimation With Attention",
          "A Point Set Generation Network for 3D Object Reconstruction From a Single Image",
          "End-to-End Learning of Motion Representation for Video Understanding",
          "Spatially Adaptive Computation Time for Residual Networks",
          "Compact Bilinear Pooling",
          "Learning Generative ConvNets via Multi-Grid Modeling and Sampling",
          "Dynamic Few-Shot Visual Learning Without Forgetting",
          "Social GAN: Socially Acceptable Trajectories With Generative Adversarial Networks",
          "DeLiGAN : Generative Adversarial Networks for Diverse and Limited Data",
          "Learning by Association -- A Versatile Semi-Supervised Training Method for Neural Networks",
          "Deep Pyramidal Residual Networks",
          "Can Spatiotemporal 3D CNNs Retrace the History of 2D CNNs and ImageNet?",
          "Deep Back-Projection Networks for Super-Resolution",
          "Deep Residual Learning for Image Recognition",
          "Deeply Supervised Salient Object Detection With Short Connections",
          "CondenseNet: An Efficient DenseNet Using Learned Group Convolutions",
          "DeepMVS: Learning Multi-View Stereopsis",
          "Densely Connected Convolutional Networks",
          "Learning Deep Representation for Imbalanced Classification",
          "Real-Time Neural Style Transfer for Videos",
          "Speed/Accuracy Trade-Offs for Modern Convolutional Object Detectors",
          "Pointwise Convolutional Neural Networks",
          "Fast and Accurate Single Image Super-Resolution via Information Distillation Network",
          "LiteFlowNet: A Lightweight Convolutional Neural Network for Optical Flow Estimation",
          "Deep 360 Pilot: Learning a Deep Agent for Piloting Through 360deg Sports Videos",
          "FC4: Fully Convolutional Color Constancy With Confidence-Weighted Pooling",
          "Finding Tiny Faces",
          "Learning Answer Embeddings for Visual Question Answering",
          "Modeling Relationships in Referential Expressions With Compositional Modular Networks",
          "Image Specificity",
          "DenseCap: Fully Convolutional Localization Networks for Dense Captioning",
          "Image Generation From Scene Graphs",
          "Total Capture: A 3D Deformation Model for Tracking Faces, Hands, and Bodies",
          "Perturbative Neural Networks",
          "End-to-End Recovery of Human Shape and Pose",
          "Convolutional Neural Networks for No-Reference Image Quality Assessment",
          "Geometric Loss Functions for Camera Pose Regression With Deep Learning",
          "Simple Does It: Weakly Supervised Instance and Semantic Segmentation",
          "Accurate Image Super-Resolution Using Very Deep Convolutional Networks",
          "Context Embedding Networks",
          "Deeply-Recursive Convolutional Network for Image Super-Resolution",
          "Deep Hand: How to Train a CNN on 1 Million Hand Images When Your Data Is Continuous and Weakly Labelled",
          "RON: Reverse Connection With Objectness Prior Networks for Object Detection",
          "Surface Networks",
          "A Hierarchical Approach for Generating Descriptive Image Paragraphs",
          "Stochastic Downsampling for Cost-Adjustable Inference and Improved Regularization in Convolutional Networks",
          "Deep Laplacian Pyramid Networks for Fast and Accurate Super-Resolution",
          "Deep Learning Under Privileged Information Using Heteroscedastic Dropout",
          "TI-Pooling: Transformation-Invariant Pooling for Feature Learning in Convolutional Neural Networks",
          "Fast Algorithms for Convolutional Neural Networks",
          "Photo-Realistic Single Image Super-Resolution Using a Generative Adversarial Network",
          "CleanNet: Transfer Learning for Scalable Image Classifier Training With Label Noise",
          "Hierarchical Novelty Detection for Visual Object Recognition",
          "Recurrent Convolutional Neural Network for Object Recognition",
          "Deep Marching Cubes: Learning Explicit Surface Representations",
          "Conditional Image-to-Image Translation",
          "Inverse Compositional Spatial Transformer Networks",
          "RefineNet: Multi-Path Refinement Networks for High-Resolution Semantic Segmentation",
          "ST-GAN: Spatial Transformer Generative Adversarial Networks for Image Compositing",
          "Decoupled Networks",
          "Deep Supervised Hashing for Fast Image Retrieval",
          "FOTS: Fast Oriented Text Spotting With a Unified Network",
          "Future Frame Prediction for Anomaly Detection  A New Baseline",
          "PiCANet: Learning Pixel-Wise Contextual Attention for Saliency Detection",
          "PlaneNet: Piece-Wise Planar Reconstruction From a Single RGB Image",
          "Predicting Salient Face in Multiple-Face Videos",
          "Recognizing Human Actions as the Evolution of Pose Estimation Maps",
          "Richer Convolutional Features for Edge Detection",
          "SphereFace: Deep Hypersphere Embedding for Face Recognition",
          "Convolutional Sequence to Sequence Model for Human Dynamics",
          "CSRNet: Dilated Convolutional Neural Networks for Understanding the Highly Congested Scenes",
          "Learning Intrinsic Image Decomposition From Watching the World",
          "MegaDepth: Learning Single-View Depth Prediction From Internet Photos",
          "SO-Net: Self-Organizing Network for Point Cloud Analysis",
          "Towards Faster Training of Global Covariance Pooling Networks by Iterative Matrix Square Root Normalization",
          "Attention Clusters: Purely Attention Based Local Feature Integration for Video Classification",
          "Fully Convolutional Networks for Semantic Segmentation",
          "Deep Photo Style Transfer",
          "Discriminability Objective for Training Descriptive Captions",
          "Efficient Deep Learning for Stereo Matching",
          "Non-Local Deep Features for Salient Object Detection",
          "Neural Baby Talk",
          "Unsupervised Video Summarization With Adversarial LSTM Networks",
          "PackNet: Adding Multiple Tasks to a Single Network by Iterative Pruning",
          "Boosting Domain Adaptation by Discovering Latent Domains",
          "On Human Motion Prediction Using Recurrent Neural Networks",
          "Transparency by Design: Closing the Gap Between Performance and Interpretability in Visual Reasoning",
          "Disentangled Person Image Generation",
          "Conditional Probability Models for Deep Image Compression",
          "Cross-Stitch Networks for Multi-Task Learning",
          "NAG: Network for Adversary Generation",
          "Beyond the Pixel-Wise Loss for Topology-Aware Delineation",
          "3D Bounding Box Estimation Using Deep Learning and Geometry",
          "Improved Fusion of Visual and Language Representations by Dense Symmetric Co-Attention for Visual Question Answering",
          "Human Pose Estimation With Parsing Induced Learner",
          "Video Frame Interpolation via Adaptive Convolution",
          "Learning Dual Convolutional Neural Networks for Low-Level Vision",
          "Towards Accurate Multi-Person Pose Estimation in the Wild",
          "Making Deep Neural Networks Robust to Label Noise: A Loss Correction Approach",
          "Jointly Optimize Data Augmentation and Network Training: Adversarial Data Augmentation in Human Pose Estimation",
          "Learning Latent Super-Events to Detect Multiple Activities in Videos",
          "Full-Resolution Residual Networks for Semantic Segmentation in Street Scenes",
          "Learning Pose Specific Representations by Predicting Different Views",
          "Generative Adversarial Perturbations",
          "PieAPP: Perceptual Image-Error Assessment Through Pairwise Preference",
          "Attentive Generative Adversarial Network for Raindrop Removal From a Single Image",
          "Few-Shot Image Recognition by Predicting Parameters From Activations",
          "Frustum PointNets for 3D Object Detection From RGB-D Data",
          "GeoNet: Geometric Neural Network for Joint Depth and Surface Normal Estimation",
          "Low-Shot Learning With Imprinted Weights",
          "PointNet: Deep Learning on Point Sets for 3D Classification and Segmentation",
          "Semi-Parametric Image Synthesis",
          "Top-Down Visual Saliency Guided by Captions",
          "Optical Flow Estimation Using a Spatial Pyramid Network",
          "Self-Critical Sequence Training for Image Captioning",
          "Cross-Domain Self-Supervised Multi-Task Feature Learning Using Synthetic Imagery",
          "End-To-End Instance Segmentation With Recurrent Attention",
          "Action Sets: Weakly Supervised Action Segmentation Without Ordering Constraints",
          "End-to-End Weakly-Supervised Semantic Alignment",
          "Real-World Repetition Estimation by Div, Grad and Curl",
          "Adversarially Learned One-Class Classifier for Novelty Detection",
          "Logo Synthesis and Manipulation With Clustered Generative Adversarial Networks",
          "Generate to Adapt: Aligning Domains Using Generative Adversarial Networks",
          "Learning From Synthetic Data: Addressing Domain Shift for Semantic Segmentation",
          "Avatar-Net: Multi-Scale Zero-Shot Style Transfer by Feature Decoration",
          "Weakly Supervised Dense Video Captioning",
          "Pixels, Voxels, and Views: A Study of Shape Representations for Single View 3D Object Shape Prediction",
          "Real-Time Single Image and Video Super-Resolution Using an Efficient Sub-Pixel Convolutional Neural Network",
          "Learning From Simulated and Unsupervised Images Through Adversarial Training",
          "Actor and Observer: Joint Modeling of First and Third-Person Videos",
          "Deep Metric Learning via Facility Location",
          "VITAL: VIsual Tracking via Adversarial Learning",
          "Cross-Modal Deep Variational Hand Pose Estimation",
          "Light Field Blind Motion Deblurring",
          "End-To-End People Detection in Crowded Scenes",
          "Pix3D: Dataset and Methods for Single-Image 3D Shape Modeling",
          "PWC-Net: CNNs for Optical Flow Using Pyramid, Warping, and Cost Volume",
          "Rethinking the Inception Architecture for Computer Vision",
          "Spatially-Adaptive Filter Units for Deep Neural Networks",
          "Image Super-Resolution via Deep Recursive Residual Network",
          "Multiple Instance Detection Network With Online Instance Classifier Refinement",
          "Multiple People Tracking by Lifted Multicut and Person Re-Identification",
          "Scale-Recurrent Network for Deep Image Deblurring",
          "Tangent Convolutions for Dense Prediction in 3D",
          "Real-Time Seamless Single Shot 6D Object Pose Prediction",
          "Two-Stream Convolutional Networks for Dynamic Texture Synthesis",
          "Full Resolution Image Compression With Recurrent Neural Networks",
          "Lifting From the Deep: Convolutional 3D Pose Estimation From a Single Image",
          "A Closer Look at Spatiotemporal Convolutions for Action Recognition",
          "Face Normals \"In-The-Wild\" Using Fully Convolutional Networks",
          "Learning to Adapt Structured Output Space for Semantic Segmentation",
          "Learning Shape Abstractions by Assembling Volumetric Primitives",
          "MoCoGAN: Decomposing Motion and Content for Video Generation",
          "Learning Superpixels With Segmentation-Aware Affinity Loss",
          "Adversarial Discriminative Domain Adaptation",
          "Deep Image Prior",
          "Deep Feature Interpolation for Image Content Changes",
          "PointNetVLAD: Deep Point Cloud Based Retrieval for Large-Scale Place Recognition",
          "Conditional Similarity Networks",
          "Neural Kinematic Networks for Unsupervised Motion Retargetting",
          "Show and Tell: A Neural Image Caption Generator",
          "Adversarial Feature Augmentation for Unsupervised Domain Adaptation",
          "Face Aging With Identity-Preserved Conditional Generative Adversarial Networks",
          "High-Resolution Image Synthesis and Semantic Manipulation With Conditional GANs",
          "Learning a Discriminative Filter Bank Within a CNN for Fine-Grained Recognition",
          "Multimodal Transfer: A Hierarchical Deep Convolutional Neural Network for Fast Artistic Style Transfer",
          "Repulsion Loss: Detecting Pedestrians in a Crowd",
          "Revisiting Video Saliency: A Large-Scale Benchmark and a New Model",
          "SGPN: Similarity Group Proposal Network for 3D Point Cloud Instance Segmentation",
          "Skeleton Key: Image Captioning by Skeleton-Attribute Decomposition",
          "Min-Entropy Latent Model for Weakly Supervised Object Detection",
          "Rethinking Feature Distribution for Loss Functions in Image Classification",
          "Bidirectional Retrieval Made Simple",
          "Convolutional Pose Machines",
          "Dense Human Body Correspondences Using Convolutional Networks",
          "Compressed Video Action Recognition",
          "Exploit the Unknown Gradually: One-Shot Video-Based Person Re-Identification by Stepwise Learning",
          "Quantized Convolutional Neural Networks for Mobile Devices",
          "Unsupervised Feature Learning via Non-Parametric Instance Discrimination",
          "Feature Generating Networks for Zero-Shot Learning",
          "Gibson Env: Real-World Perception for Embodied Agents",
          "Aggregated Residual Transformations for Deep Neural Networks",
          "Learning Descriptor Networks for 3D Shape Synthesis and Analysis",
          "Deep Texture Manifold for Ground Terrain Recognition",
          "AttnGAN: Fine-Grained Text to Image Generation With Attentional Generative Adversarial Networks",
          "Deep Image Matting",
          "Scene Graph Generation by Iterative Message Passing",
          "DenseASPP for Semantic Segmentation in Street Scenes",
          "Learning Face Age Progression: A Pyramid Architecture of GANs",
          "Neural Aggregation Network for Video Face Recognition",
          "Object Contour Detection With a Fully Convolutional Encoder-Decoder Network",
          "Robust Classification With Convolutional Prototype Learning",
          "Semantic Filtering",
          "GeoNet: Unsupervised Learning of Dense Depth, Optical Flow and Camera Pose",
          "Crafting a Toolchain for Image Restoration by Deep Reinforcement Learning",
          "Dilated Residual Networks",
          "Generative Image Inpainting With Contextual Attention",
          "MAttNet: Modular Attention Network for Referring Expression Comprehension",
          "PU-Net: Point Cloud Upsampling Network",
          "Video Paragraph Captioning Using Hierarchical Recurrent Neural Networks",
          "Learning to Promote Saliency Detectors",
          "S3Pool: Pooling With Stochastic Spatial Sampling",
          "Adversarial Complementary Learning for Weakly Supervised Object Localization",
          "Deep Mutual Learning",
          "Densely Connected Pyramid Dehazing Network",
          "Density-Aware Single Image De-Raining Using a Multi-Stream Dense Network",
          "Grounding Referring Expressions in Images by Variational Context",
          "ISTA-Net: Interpretable Optimization-Inspired Deep Network for Image Compressive Sensing",
          "Joint Pose and Expression Modeling for Facial Expression Recognition",
          "Learning a Deep Embedding Model for Zero-Shot Learning",
          "Residual Dense Network for Image Super-Resolution",
          "Single-Image Crowd Counting via Multi-Column Convolutional Neural Network",
          "The Unreasonable Effectiveness of Deep Features as a Perceptual Metric",
          "Unsupervised Discovery of Object Landmarks as Structural Representations",
          "Visual Translation Embedding Network for Visual Relation Detection",
          "Ring Loss: Convex Feature Normalization for Face Recognition",
          "EAST: An Efficient and Accurate Scene Text Detector",
          "Learning Deep Features for Discriminative Localization",
          "Learning Rich Features for Image Manipulation Detection",
          "Weakly Supervised Instance Segmentation Using Class Peak Response",
          "Fast Training of Triplet-Based Deep Binary Embedding Networks",
          "Towards Effective Low-Bitwidth Convolutional Neural Networks",
          "Learning Spatial Regularization With Image-Level Supervisions for Multi-Label Image Classification",
          "Learning Transferable Architectures for Scalable Image Recognition",
          "LayoutNet: Reconstructing the 3D Room Layout From a Single RGB Image"
         ],
         "textfont": {
          "color": "#4D5663"
         },
         "type": "scatter",
         "x": [
          0.02026021814990417,
          -0.7061982964674682,
          -0.14750604602817485,
          -0.2381806934598787,
          3.0698717880568713,
          2.6336231275620428,
          -0.07077116420194529,
          0.004745067093958595,
          -0.04051231027059532,
          -0.1271307970059986,
          -0.1442380354604869,
          2.991712626349809,
          -0.131212835219826,
          -0.36264419997497055,
          -0.2416607279920398,
          0.03910176526450562,
          -0.07651466168704946,
          2.8494314701423673,
          -1.1860154425030083,
          -0.35736960307011534,
          -0.14750604602817485,
          0.004745067093958595,
          0.07209602781323239,
          0.03910176526450562,
          -0.1762843654083004,
          -0.9191753231095077,
          2.444179295294242,
          -0.2381806934598787,
          3.4469926601750327,
          -0.06620064783002959,
          2.266310665405707,
          2.9002459363803235,
          -0.046170168126150234,
          4.118548282596459,
          3.9547752447529287,
          -0.3642788779233378,
          -0.0861381611323543,
          -0.8150105617417983,
          -1.0442222322487866,
          -0.14750604602817485,
          4.084611186315199,
          0.9691608380754252,
          -0.14750604602817485,
          0.600581165091119,
          -0.5489281148925381,
          0.06683029353876832,
          2.6323713495783303,
          -0.21143049847625578,
          3.2809013150838044,
          3.506240117055571,
          0.03337900245709864,
          -0.10647367734493975,
          -0.2411661288482704,
          0.04730809253477326,
          1.6701360039800917,
          2.9933299803220277,
          3.800950005746821,
          -0.04293121932553434,
          4.051312772212836,
          3.3745555886594243,
          3.8275738752301884,
          3.8070805692129746,
          -0.9400111549885977,
          2.5343737299525575,
          -0.7393374432237794,
          2.917081045449539,
          -0.9857017484496375,
          3.606339661783144,
          -0.01704201566143723,
          -0.13594963207222224,
          2.001328015456953,
          -0.4606454959470622,
          -0.3309966602665136,
          -0.15543669320200823,
          0.06683029353876832,
          -0.07077116420194529,
          0.09500613947501714,
          -0.6616837240414736,
          -0.13418769399807462,
          0.01645679235299057,
          -0.452857006106618,
          2.045908386598122,
          -0.347376732490528,
          -0.7558227007383259,
          -0.07026623271321304,
          0.004328027360041772,
          -0.17180625558434823,
          -0.14750604602817485,
          -0.5697793731600607,
          -0.2437384598070647,
          2.347616596287001,
          3.055761950512386,
          0.006696532863565847,
          -0.1354297355515032,
          -0.7653181744400545,
          -0.061319035470629724,
          -0.7594179911392881,
          -0.23327458552810731,
          3.2519580379921087,
          2.8608653460879707,
          0.02026021814990417,
          -1.2346942135235721,
          -1.0783222912192236,
          0.147930694804324,
          -0.02091277473540394,
          0.20149574692849095,
          -0.22938839317711004,
          -0.3732137896337124,
          -0.18469721121181895,
          -0.15528919635313457,
          2.676525248829858,
          -0.1760894762974367,
          -0.35344358330601805,
          -0.563162647902382,
          -1.098674046482216,
          0.08745721240119426,
          3.2447906186756046,
          -0.3546892409391621,
          -0.22186746621507064,
          0.13478996103767935,
          0.04288438633351223,
          3.3217895632918806,
          -0.8012825246422837,
          -0.14750604602817485,
          -1.3834895093580344,
          -0.01704201566143723,
          0.059011758270489496,
          1.3559115405654887,
          0.06680683641200748,
          2.4313456291887885,
          2.8581698520777854,
          0.004745067093958595,
          0.02026021814990417,
          -0.1271307970059986,
          2.953852635505382,
          -0.3546892409391621,
          3.633842072287606,
          -0.7655027601371246,
          -0.05862833028196361,
          -0.9096536046383623,
          1.365917362327876,
          -0.034154059229451285,
          3.4447446417475667,
          0.14343405166694742,
          -0.21946149977021598,
          -0.013316438225574418,
          -0.02091277473540394,
          -0.7228259804024335,
          -0.3084315659350801,
          -0.3606140308865592,
          -0.26303504069754197,
          -0.009270558418466362,
          2.2877895988540473,
          3.88061206623398,
          -0.07077116420194529,
          -0.6519640993291806,
          -0.6942979037328703,
          2.912007218341286,
          3.368136885832581,
          -0.6689599484590318,
          -0.020925089046980778,
          0.0697716974798021,
          -0.12784413574656886,
          -0.13382335711141383,
          -0.8076373526167748,
          -0.07077116420194529,
          0.17164225123996454,
          -0.13634013093948677,
          -1.1532041226303642,
          0.05198599094569849,
          0.02026021814990417,
          -0.061319035470629724,
          3.7566867523827883,
          -0.20216700062014012,
          -1.0050013347773927,
          0.1375554187098326,
          0.014419935096876455,
          -0.4352884155340677,
          -0.12951158477431743,
          -0.9818601468491119,
          -0.4482125557876206,
          -0.3604245589077663,
          0.0069556056068941375,
          -0.4589566531524345,
          -0.043974606103792904,
          3.0105471533345174,
          -0.05862833028196361,
          3.445009623332404,
          -0.9115332129553998,
          -0.02091277473540394,
          1.9813936260661331,
          2.829215454650759,
          -1.1070153154961078,
          9.550165181735101,
          2.4016313024519795,
          -0.46306471816871564,
          3.7367284688207283,
          0.13881085431233597,
          -1.3074170782822745,
          -0.482846378314578,
          0.02026021814990417,
          2.5112127059242386,
          2.743421736831558,
          -0.07077116420194529,
          0.20149574692849095,
          2.530240566130495,
          0.06683029353876832,
          -0.10994434823329931,
          -1.0547503057186616,
          -0.8773322561156645,
          -0.3077624004454994,
          -0.961703414953459,
          2.2359091592541116,
          -0.01999353898354562,
          -0.05809594896378699,
          -0.247733346481224,
          -0.247733346481224,
          -0.08752688643952364,
          -0.9311822260877058,
          -0.2516869401182815,
          3.6031109312043323,
          -0.13418769399807462,
          -1.0315911586760673,
          -0.03251281544925023,
          -0.009270558418466362,
          -0.18781781073145765,
          0.02026021814990417,
          -0.14750604602817485,
          -0.36751768252095723,
          3.7261756337569625,
          -0.4549557550557603,
          2.188722053989928,
          -0.25688405574919015,
          0.010618308562983236,
          3.5206787709369247,
          3.0708542381169064,
          0.03682417319818281,
          -0.02091277473540394,
          -0.615946696278469,
          -0.588019616900876,
          -0.13418769399807462,
          -1.0660681796404274,
          -0.14750604602817485,
          4.0140118617244624,
          -0.45087183366793815,
          3.1410722952432097,
          -0.14750604602817485,
          -0.6050653880868647,
          -0.008649222511129052,
          -0.08260619355310586,
          -0.838198309656957,
          3.2817124272746505,
          -0.5605536961360433,
          3.6910001064567948,
          -0.247733346481224,
          -0.06620064783002959,
          -0.03841427751661006,
          -0.1042591827764983,
          -0.9790518873447818,
          -0.13418769399807462,
          -0.2683695766575707,
          -0.2416607279920398,
          -0.6607409230219163,
          -0.3215846456216231,
          3.525994158680404,
          -0.11995269538656568,
          -0.10114278848028839,
          0.059011758270489496,
          0.027214946622963518,
          0.11571758247256696,
          -0.03281736817452156,
          -0.10381537986633081,
          -0.134071538736717
         ],
         "y": [
          0.22155782932462972,
          0.2232130373276012,
          0.5753301650723627,
          0.5692070886177079,
          -0.7453743159129936,
          -0.583047087722618,
          0.20604637559587824,
          0.1900811354737758,
          0.4818191901295321,
          0.5011786852204291,
          0.20877163131286572,
          -0.33620211826210405,
          0.5155196546876787,
          0.6133579746096898,
          0.5280834682051788,
          0.10104249501751852,
          0.026036001279080186,
          -0.6646351243519477,
          -0.303612709591033,
          0.31915994031541417,
          0.5753301650723627,
          0.1900811354737758,
          0.08063385891258536,
          0.10104249501751852,
          -0.10137804783643949,
          -0.44706508368060205,
          2.6477033929836336,
          0.5692070886177079,
          -0.29747128893737496,
          0.501857846235385,
          -2.147107225891107,
          -0.3705037723674432,
          0.46023985029195486,
          -0.47240680995208506,
          0.1530707504797038,
          -0.10112801756173202,
          -0.1504075608498021,
          0.15810195270829244,
          -0.02519132793675576,
          0.5753301650723627,
          -0.192274296416165,
          -2.5147606508692872,
          0.5753301650723627,
          -0.15002550238438683,
          -0.2179101066159459,
          0.11253636169317473,
          -1.134728255874098,
          0.034368852375224045,
          -1.0767251762090762,
          1.2463345894543245,
          -0.017146822118499966,
          0.4833263159416303,
          0.6829963627399235,
          0.4326770103225066,
          3.2307197652149267,
          -0.5074958800254861,
          0.31404744539234064,
          0.5063936065460367,
          -0.3601141777033954,
          -0.25076190530391745,
          -0.12667762850859096,
          -1.7883375236518186,
          -0.14886704043189153,
          4.904018558814419,
          0.1365331453629181,
          -1.2063973742266043,
          -0.40976824923465593,
          0.08537707504875551,
          0.548956553220084,
          0.5686569811652842,
          -0.9465861598098781,
          0.17469348719117125,
          0.2885471535271257,
          -0.39231842493845026,
          0.11253636169317473,
          0.20604637559587824,
          0.3232213730853676,
          -0.29228464959851186,
          0.7295368285730023,
          0.20580129086012283,
          0.5558965891339425,
          -0.972113448889882,
          0.18645838620680483,
          -0.37893933414435205,
          0.39730407715944005,
          0.412942280185649,
          0.6451471372313201,
          0.5753301650723627,
          0.5765946126380808,
          0.7620592473916549,
          -0.3995922729375505,
          -0.29621862946778654,
          0.35103397207311743,
          -0.49752950155971576,
          -0.4181426043008055,
          0.19618672439872561,
          0.08291442895793047,
          0.7405912266042162,
          -0.5632901269758949,
          -0.27193351446704517,
          0.22155782932462972,
          -0.4173302012748213,
          -0.19304469505084007,
          -0.03716450506399533,
          0.4927022266374495,
          0.07188951192212709,
          0.45469627052525996,
          -0.1738879949720904,
          0.7021178014062854,
          0.16926939140688074,
          -1.2008759642605542,
          0.5089636763283076,
          0.4505612013867856,
          0.31128393340633453,
          -0.6440605440878339,
          0.10940696961063864,
          -0.520834149409242,
          0.5816516183289513,
          0.13284082991603377,
          0.17233951041240522,
          0.6764548200713746,
          0.5194927899645982,
          -0.16792785890704723,
          0.5753301650723627,
          -0.4709551527157216,
          0.548956553220084,
          0.15859985490391057,
          6.372744848680095,
          0.40133455260159684,
          -0.36410880326329603,
          -0.5177568366652345,
          0.1900811354737758,
          0.22155782932462972,
          0.5011786852204291,
          -0.01966121694708833,
          0.5816516183289513,
          0.10510091836216967,
          -0.43924215599078303,
          0.5820273441127943,
          -0.4419820391985823,
          1.0654895711470933,
          0.09440339462875683,
          -0.3553161673758752,
          0.14157354818411025,
          -0.3860191659101694,
          0.055646636804412446,
          0.4927022266374495,
          -0.31138001526713854,
          0.0007303486917875948,
          0.47461096941407793,
          0.006890339499246501,
          0.3795689283176396,
          -4.779697482953934,
          0.01933326331601158,
          0.20604637559587824,
          0.32499679124996206,
          -0.11803805212456095,
          -0.7211504436940703,
          -0.8680566827603474,
          0.12080794267066959,
          0.571995821716786,
          0.11378715902278828,
          0.5146863328941778,
          0.6143342511650666,
          -0.37693587574873094,
          0.20604637559587824,
          -0.07060042451442153,
          0.35314821254747614,
          -0.2778569303859656,
          0.4917976507907759,
          0.22155782932462972,
          0.19618672439872561,
          0.795314417761554,
          0.47740909845666424,
          -0.3920894021773876,
          0.22321512687489875,
          0.3775327944884495,
          -0.03369493932756814,
          0.4597475736276653,
          -0.23724686803351483,
          0.558276150725846,
          0.5013981709993793,
          0.3890988691153909,
          0.42856491696073207,
          0.10134222412276804,
          1.6202524001183456,
          0.5820273441127943,
          -0.3870861002808525,
          -0.38878794239273073,
          0.4927022266374495,
          0.9628573274610901,
          -0.5640231431829951,
          -0.2743126090899659,
          -2.273175571608102,
          3.9935772491055204,
          0.37166279492983456,
          0.009889083415221728,
          0.5351315083312136,
          -0.3412250611775672,
          -0.38963230983398384,
          0.22155782932462972,
          -1.120893164988036,
          -0.2977501759709754,
          0.20604637559587824,
          0.07188951192212709,
          8.534569254951386,
          0.11253636169317473,
          0.5128868825680104,
          -0.3863130669566875,
          0.25649173957946136,
          0.5880146851761557,
          -0.026485149456491906,
          -2.3426586766985498,
          0.3956078418344493,
          0.16761576874441117,
          0.5785867382810567,
          0.5785867382810567,
          0.46235378406952937,
          -0.17135493250042247,
          -0.08860244279000525,
          -0.5321041642243387,
          0.7295368285730023,
          -0.04475255744085071,
          0.45421657176983476,
          0.3795689283176396,
          0.7380756737381726,
          0.22155782932462972,
          0.5753301650723627,
          0.4645965963461652,
          -0.07749157545336485,
          0.5553579341317616,
          -0.6167820242573762,
          0.07201798114208237,
          0.47382973189247507,
          -0.48324767638982224,
          -0.4117134130894793,
          0.1431476233840104,
          0.4927022266374495,
          0.3196388860990463,
          -0.20645766523474318,
          0.7295368285730023,
          -0.18640658473009128,
          0.5753301650723627,
          -0.29024286991328746,
          0.3160604801404684,
          -0.3422953274811951,
          0.5753301650723627,
          0.4331387376312503,
          0.062366068362533,
          0.3805355479549713,
          -0.11611934273562857,
          9.277032274662508,
          0.1317904469318259,
          -0.4434917953078615,
          0.5785867382810567,
          0.501857846235385,
          0.5577827145444679,
          0.48282636833094,
          -0.37755057722881175,
          0.7295368285730023,
          0.5843606652175353,
          0.5280834682051788,
          -0.23531827882530829,
          0.6158875593599056,
          -0.24083326170692942,
          0.7481219457678128,
          0.6131975378438679,
          0.15859985490391057,
          0.3425830434139643,
          0.35481576164976597,
          0.4047134405460695,
          0.3478502638135167,
          0.30805724718032734
         ]
        },
        {
         "marker": {
          "color": "rgba(128, 0, 128, 1.0)",
          "line": {
           "width": 1.3
          },
          "opacity": 0.8,
          "size": 12,
          "symbol": "circle"
         },
         "mode": "markers",
         "name": "ICML",
         "text": [
          "OptNet: Differentiable Optimization as a Layer in Neural Networks",
          "Input Convex Neural Networks",
          "Wasserstein Generative Adversarial Networks",
          "Synthesizing Robust Adversarial Examples",
          "Differentially Private Database Release via Kernel Mean Embeddings",
          "Optimizing the Latent Space of Generative Networks",
          "NetGAN: Generating Graphs via Random Walks",
          "Compressed Sensing using Generative Models",
          "Predict and Constrain: Modeling Cardinality in Deep Structured Prediction",
          "Path-Level Network Transformation for Efficient Architecture Search",
          "Adversarial Learning with Local Coordinate Coding",
          "Adversarial Time-to-Event Modeling",
          "Learning K-way D-dimensional Discrete Codes for Compact Embedding Representations",
          "DRACO: Byzantine-resilient Distributed Training via Redundant Gradients",
          "AdaNet: Adaptive Structural Learning of Artificial Neural Networks",
          "Inference Suboptimality in Variational Autoencoders",
          "Stochastic Generative Hashing",
          "Adversarial Attack on Graph Structured Data",
          "Language Modeling with Gated Convolutional Networks",
          "Stochastic Video Generation with a Learned Prior",
          "Dance Dance Convolution",
          "Model-Agnostic Meta-Learning for Fast Adaptation of Deep Networks",
          "Input Switched Affine Networks: An RNN Architecture Designed for Interpretability",
          "Bilevel Programming for Hyperparameter Optimization and Meta-Learning",
          "Convolutional Sequence to Sequence Learning",
          "Visualizing and Understanding Atari Agents",
          "On Calibration of Modern Neural Networks",
          "DeepBach: a Steerable Model for Bach Chorales Generation",
          "Learning unknown ODE models with Gaussian processes",
          "Toward Controlled Generation of Text",
          "Neural Autoregressive Flows",
          "Decoupled Parallel Backpropagation with Convergence Guarantee",
          "Attention-based Deep Multiple Instance Learning",
          "Black-box Adversarial Attacks with Limited Queries and Information",
          "Decoupled Neural Interfaces using Synthetic Gradients",
          "Efficient end-to-end learning for quantizable representations",
          "Composite Functional Gradient Learning of Generative  Adversarial Models",
          "Video Pixel Networks",
          "Efficient Neural Audio Synthesis",
          "Learning to Discover Cross-Domain Relations with Generative Adversarial Networks",
          "SplitNet: Learning to Semantically Split Deep Networks for Parameter Reduction and Model Parallelization",
          "Disentangling by Factorising",
          "Neural Relational Inference for Interacting Systems",
          "Grammar Variational Autoencoder",
          "Deep Spectral Clustering Learning",
          "Hierarchical Imitation and Reinforcement Learning",
          "Confident Multiple Choice Learning",
          "Gated Path Planning Networks",
          "Noise2Noise: Learning Image Restoration without Clean Data",
          "Dropout Inference in Bayesian Neural Networks with Alpha-divergences",
          "Explicit Inductive Bias for Transfer Learning with Convolutional Networks",
          "Towards Binary-Valued Gates for Robust LSTM Training",
          "Zero-Inflated Exponential Family Embeddings",
          "Dimensionality-Driven Learning with Noisy Labels",
          "Adversarial Variational Bayes: Unifying Variational Autoencoders and Generative Adversarial Networks",
          "Device Placement Optimization with Reinforcement Learning",
          "SparseMAP: Differentiable Sparse Structured Inference",
          "A Theoretical Explanation for Perplexing Behaviors of Backpropagation-based Visualizations",
          "The Statistical Recurrent Unit",
          "Count-Based Exploration with Neural Density Models",
          "Efficient Neural Architecture Search via Parameters Sharing",
          "Robust Adversarial Reinforcement Learning",
          "Neural Episodic Control",
          "Online and Linear-Time Attention by Enforcing Monotonic Alignments",
          "Learning to Reweight Examples for Robust Deep Learning",
          "Deep One-Class Classification",
          "First Order Generative Adversarial Networks",
          "Finding Influential Training Samples for Gradient Boosted Decision Trees",
          "A Spectral Approach to Gradient Estimation for Implicit Distributions",
          "Bottleneck Conditional Density Estimation",
          "Attentive Recurrent Comparators",
          "The Predictron:  End-To-End Learning and Planning",
          "Accelerating Natural Gradient with Higher-Order Invariance",
          "Exploiting the Potential of Standard Convolutional Autoencoders for Image Restoration by Evolutionary Search",
          "Neural Program Synthesis from Diverse Demonstration Videos",
          "Differentiable Compositional Kernel Learning for Gaussian Processes",
          "Axiomatic Attribution for Deep Networks",
          "Black Box FDR",
          "Learning Longer-term Dependencies in RNNs with Auxiliary Losses",
          "The Mirage of Action-Dependent Baselines in Reinforcement Learning",
          "Learning to Generate Long-term Future via Hierarchical Prediction",
          "PredRNN++: Towards A Resolution of the Deep-in-Time Dilemma in Spatiotemporal Predictive Learning",
          "Style Tokens: Unsupervised Style Modeling, Control and Transfer in End-to-End Speech Synthesis",
          "Transfer Learning via Learning to Transfer",
          "Hierarchical Long-term Video Prediction without Supervision",
          "Variance Regularized Counterfactual Risk Minimization via Variational Divergence Minimization",
          "Deep k-Means: Re-Training and Parameter Sharing with Harder Cluster Assignments for Compressing Deep Convolutions",
          "Learning Semantic Representations for Unsupervised Domain Adaptation",
          "Improved Variational Autoencoders for Text Modeling using Dilated Convolutions",
          "Mean Field Multi-Agent Reinforcement Learning",
          "Combined Group and Exclusive Sparsity for Deep Neural Networks",
          "GraphRNN: Generating Realistic Graphs with Deep Auto-regressive Models",
          "Continual Learning Through Synaptic Intelligence",
          "Adversarial Feature Matching for Text Generation",
          "Convexified Convolutional Neural Networks",
          "Noisy Natural Gradient as Variational Inference",
          "Follow the Moving Leader in Deep Learning",
          "Recurrent Highway Networks"
         ],
         "textfont": {
          "color": "#4D5663"
         },
         "type": "scatter",
         "x": [
          -0.4706501090926893,
          0.7555530752329175,
          -0.28335714548845414,
          -0.4603894769908771,
          -0.9000618158869296,
          -0.7136859186220033,
          -1.0830059999589134,
          -1.006762470990435,
          0.45373838177254683,
          0.9435793467710528,
          -1.043342373945509,
          -1.2788655899510581,
          -0.9401726073664004,
          -1.1057369596173983,
          -0.6267639534196617,
          -0.5860544887298255,
          -1.160875862870957,
          -1.27950277162241,
          -1.1190645390735574,
          -1.0358740517899336,
          3.2733311855233773,
          -1.288120224577994,
          -0.8220731336591395,
          -1.075641062560898,
          -1.040811300324402,
          -0.900840355861676,
          -0.692023044455922,
          -0.5708011346126707,
          -0.7897184108024734,
          -0.762174021252652,
          -0.9987679110393743,
          -0.9810039492380711,
          -0.8644527020627861,
          -0.3616567084594143,
          -0.9075729139306762,
          -0.8530328608567145,
          -1.1256974105947517,
          1.7932305227391634,
          -1.1239206554961796,
          -0.7780356412393373,
          -1.1738027536211333,
          -0.28779646876880277,
          -1.3102215085798647,
          -1.4312436048027213,
          -0.7103031169850902,
          -1.1060625735769634,
          -0.5416043551994327,
          -1.1067546822595118,
          -0.8021248765508376,
          -0.9271560702905234,
          -1.0463968730377862,
          -0.9958582709019245,
          -0.6245053071423388,
          -0.9450588562129193,
          -1.2163471789041647,
          2.117694641913003,
          -0.8368483224357203,
          -1.0132264249550509,
          -0.7747208102229339,
          -0.24276611831204348,
          3.229455799483028,
          -1.4531077376921817,
          -0.9043672973016048,
          -0.6668061770174117,
          -1.1221576857393498,
          -0.9667054948239092,
          -0.5339333645246541,
          -1.1124539429432279,
          -1.1547112419596746,
          -1.3854891160535379,
          3.164481373976828,
          -0.6059427023777304,
          -1.387497783429978,
          1.5176547829320175,
          -0.7071125658675811,
          -0.8332544992251836,
          -0.8702052846242234,
          -0.64392050777014,
          -1.102430466255161,
          -0.9755781521607577,
          -0.9210759944640571,
          -1.1053150979904207,
          3.5614336733928793,
          -0.8046301991320484,
          -0.7196818653639226,
          -1.2099634858328971,
          -0.5254695882745755,
          -1.0770304438014324,
          -0.7357799847113758,
          -1.2012620663879958,
          -0.719281339652768,
          -0.598887110219384,
          -0.7899211227181525,
          -1.0065096650017802,
          -1.1523879085060325,
          -1.4544269066133053,
          -0.33257172391727213,
          -1.0575049552891382
         ],
         "y": [
          -0.09809819990474329,
          -2.5135855303378083,
          0.27302993265049513,
          0.4531133065093486,
          -0.26313015267278544,
          -0.5676371265333985,
          -0.18273431828946968,
          -0.19220515158099605,
          4.4685294262581134,
          -2.627578760198667,
          -0.2544094943910037,
          -0.19551973219515323,
          -0.026783389353235716,
          -0.11994011067713978,
          -0.3608341924687539,
          -0.10082827477325557,
          -0.1313107957687257,
          -0.3093041045814087,
          -0.03847780657753291,
          -0.039431449952529916,
          -1.396996844897403,
          -0.39690899290370646,
          0.07896121341912969,
          0.0995861213620085,
          -0.6008259187722234,
          0.06217557704913653,
          -0.29814116289468146,
          -0.11849739428686823,
          0.19858675735415593,
          -0.3108880618452709,
          -0.29060375704983216,
          -0.6051648989813404,
          -0.4686397984361134,
          0.031349981366126635,
          -0.26550201664465367,
          -0.4330170012495276,
          -0.019241950699438664,
          1.3069356061618733,
          -0.18065778656684814,
          -0.37518780383635714,
          -0.549550923901043,
          0.07616231431824208,
          -0.3935637776970162,
          -0.5175318354084214,
          -0.17884008007335003,
          0.08565137875872836,
          -0.5779816342235156,
          -0.4331685116574233,
          0.18123590541349582,
          -0.29679945760608917,
          0.09500852287875597,
          -0.25541194150124635,
          0.21318896042115199,
          -0.23387104712448015,
          -0.28206016465662953,
          -0.9801562544942837,
          -0.5993299956115756,
          -0.358580802830212,
          -0.21558669260379706,
          0.1956468664289279,
          -1.5687767216809365,
          -0.2060688699108455,
          -0.14370358186990032,
          -0.8638105999377067,
          -0.7200157289685352,
          -0.6107145422800787,
          0.04347098058168334,
          -0.03939235570679227,
          -0.25810349862100535,
          -0.3239497376014204,
          -0.7825781827670826,
          0.18556143732223684,
          -0.3441642451380964,
          -2.69581525973422,
          -0.11538325905700914,
          -0.3925870551139528,
          -0.11172386304251718,
          -0.060356867101609875,
          -0.4070515279875155,
          -0.25596210498593397,
          -0.035599615900318356,
          -0.1886891808069157,
          -0.5157375350654108,
          0.30479929547336865,
          0.29568285097317154,
          -0.36156900862167785,
          -0.6352778140326908,
          -0.10462643242718714,
          -0.06101176519903755,
          -0.3585412073058816,
          0.04899779691080089,
          -0.09494263789199509,
          0.010625266677764861,
          -0.9166327953519324,
          -0.4435128949225714,
          -0.4500193390060336,
          0.37842353785554905,
          -0.23829882215769052
         ]
        },
        {
         "marker": {
          "color": "rgba(219, 64, 82, 1.0)",
          "line": {
           "width": 1.3
          },
          "opacity": 0.8,
          "size": 12,
          "symbol": "circle"
         },
         "mode": "markers",
         "name": "ICCV",
         "text": [
          "VQA: Visual Question Answering",
          "CVAE-GAN: Fine-Grained Image Generation Through Asymmetric Training",
          "Convolutional Color Constancy",
          "Deep TextSpotter: An End-To-End Trainable Scene Text Localization and Recognition Framework",
          "SubUNets: End-To-End Hand Shape and Continuous Sign Language Recognition",
          "HashNet: Deep Learning to Hash by Continuation",
          "Deep Adaptive Image Clustering",
          "Deep Colorization",
          "Photographic Image Synthesis With Cascaded Refinement Networks",
          "Query-Guided Regression Network With Context Policy for Phrase Grounding",
          "Pixel Recursive Super Resolution",
          "Deformable Convolutional Networks",
          "Attributes2Classname: A Discriminative Model for Attribute-Based Unsupervised Zero-Shot Learning",
          "RPAN: An End-To-End Recurrent Pose-Attention Network for Action Recognition in Videos",
          "BlitzNet: A Real-Time Deep Network for Scene Understanding",
          "Predicting Depth, Surface Normals and Semantic Labels With a Common Multi-Scale Convolutional Architecture",
          "Interpretable Explanations of Black Boxes by Meaningful Perturbation",
          "Single Image 3D Without a Single 3D Image",
          "Associative Domain Adaptation",
          "Automatic Spatially-Aware Fashion Concept Discovery",
          "Mask R-CNN",
          "Beyond Face Rotation: Global and Local Perception GAN for Photorealistic and Identity Preserving Frontal View Synthesis",
          "Wavelet-SRNet: A Wavelet-Based CNN for Multi-Scale Face Super Resolution",
          "Learning to Reason: End-To-End Module Networks for Visual Question Answering",
          "DSLR-Quality Photos on Mobile Devices With Deep Convolutional Networks",
          "PoseNet: A Convolutional Network for Real-Time 6-DOF Camera Relocalization",
          "Escape From Cells: Deep Kd-Networks for the Recognition of 3D Point Cloud Models",
          "Learning to Push the Limits of Efficient FFT-Based Image Deconvolution",
          "Introspective Neural Networks for Generative Modeling",
          "RoomNet: End-To-End Room Layout Estimation",
          "Learning Efficient Convolutional Networks Through Network Slimming",
          "Raster-To-Vector: Revisiting Floorplan Transformation",
          "Rotation Equivariant Vector Field Networks",
          "Attentive Semantic Video Generation Using Captions",
          "Domain-Adaptive Deep Network Compression",
          "Learning Proximal Operators: Using Denoising Networks for Regularizing Inverse Imaging Problems",
          "Curriculum Dropout",
          "No Fuss Distance Metric Learning Using Proxies",
          "Video Frame Interpolation via Adaptive Separable Convolution",
          "Representation Learning by Learning to Count",
          "GANs for Biological Image Synthesis",
          "Following Gaze in Video",
          "EnhanceNet: Single Image Super-Resolution Through Automated Texture Synthesis",
          "Grad-CAM: Visual Explanations From Deep Networks via Gradient-Based Localization",
          "DSOD: Learning Deeply Supervised Object Detectors From Scratch",
          "Incremental Learning of Object Detectors Without Catastrophic Forgetting",
          "Hide-And-Seek: Forcing a Network to Be Meticulous for Weakly-Supervised Object and Action Localization",
          "Face Flow",
          "Multi-View Convolutional Neural Networks for 3D Shape Recognition",
          "Reasoning About Fine-Grained Attribute Phrases Using Reference Games",
          "Click Here: Human-Localized Keypoints as Guidance for Viewpoint Estimation",
          "MemNet: A Persistent Memory Network for Image Restoration",
          "Unsupervised Learning of Object Landmarks by Factorized Spatial Embeddings",
          "Image Super-Resolution Using Dense Skip Connections",
          "Unsupervised Adaptation for Deep Stereo",
          "Simultaneous Deep Transfer Across Domains and Tasks",
          "Sequence to Sequence - Video to Text",
          "Revisiting IM2GPS in the Deep Learning Era",
          "Multi-Label Image Recognition by Recurrently Discovering Attentional Regions",
          "Learning Blind Motion Deblurring",
          "Self-Organized Text Detection With Minimal Post-Processing via Border Learning",
          "Curriculum Domain Adaptation for Semantic Segmentation of Urban Scenes",
          "Learning Spread-Out Local Feature Descriptors",
          "Conditional Random Fields as Recurrent Neural Networks",
          "Unlabeled Samples Generated by GAN Improve the Person Re-Identification Baseline in Vitro"
         ],
         "textfont": {
          "color": "#4D5663"
         },
         "type": "scatter",
         "x": [
          -0.6744029415732271,
          -0.19043705594394092,
          -0.9085717278105803,
          1.6300358635168433,
          3.1649724415458462,
          0.25124719906360826,
          -0.8270584611313075,
          -0.036169503006077595,
          -0.3537342985307171,
          2.957844720716126,
          -0.0812612314229359,
          -0.05782029110922891,
          -0.3313078184021143,
          -1.2807360908686225,
          -0.0812612314229359,
          -0.2241874322705988,
          -0.08197236585306342,
          -0.13897590962830175,
          -0.7475324062961803,
          -0.07223485414393598,
          -0.4380805003911958,
          -0.19043705594394092,
          2.2661302631259654,
          3.192009676580422,
          2.5032229839520816,
          -0.5693634858062195,
          -0.27271992160288266,
          -0.0812612314229359,
          -0.24451728631679787,
          -0.0767919039865948,
          2.246470960840569,
          0.025794381337101064,
          0.1448213475445743,
          3.3413577921909092,
          0.009894970946198307,
          0.009894970946198307,
          0.046268679922508764,
          -0.2414663352323788,
          0.1565138039986157,
          -0.0812612314229359,
          2.873523850980741,
          -0.5045036604309929,
          -0.38233506679354284,
          -0.19043705594394092,
          0.01513308464082168,
          0.04438781824056835,
          -0.8271840258598987,
          -0.9068754454231082,
          -0.3230417995176278,
          -0.17894357024245622,
          -0.0812612314229359,
          2.881003489097042,
          -0.7102587869963811,
          -0.0812612314229359,
          -0.7870213457998415,
          3.3264908390006456,
          2.288888055803311,
          2.9114509294258015,
          -0.0289028728360484,
          -0.6750278728318672,
          -0.16976690068660952,
          0.8372579451706577,
          -0.18290332123522376,
          -0.3230417995176278,
          1.0568294082861014
         ],
         "y": [
          0.429713582140732,
          0.5493004435454673,
          0.21735886513888109,
          2.0862047329856437,
          -1.6453123177661924,
          -0.15537016654405433,
          -0.43401252549834085,
          0.4004618544556182,
          0.20491345108405154,
          3.2946870699423245,
          0.5384404403845632,
          -0.4458936542937637,
          0.5162991798484012,
          -0.6044673362364328,
          0.5384404403845632,
          0.7770277694935377,
          0.11732534072414527,
          0.6838894246556677,
          0.12243303459257471,
          0.48648988036204166,
          0.16787315408644052,
          0.5493004435454673,
          -1.045879149366115,
          -0.36772242947403533,
          -1.705436122552509,
          0.34669838784625345,
          0.07967517119531692,
          0.5384404403845632,
          -0.2180768004365816,
          0.3270355139449003,
          -1.0152285008652666,
          0.04490335069621816,
          0.0797011944634234,
          -0.1949884778617188,
          0.4584792957349157,
          0.4584792957349157,
          0.4073954846348474,
          0.00040733989458736013,
          0.1054819977518336,
          0.5384404403845632,
          -0.8217944144795826,
          -0.15965110721677234,
          0.24806844551257784,
          0.5493004435454673,
          0.5170577774744903,
          0.4003706513853672,
          0.6676618394294218,
          0.062319507389173016,
          0.7886972157025381,
          0.5382147647857427,
          0.5384404403845632,
          -1.6461461834063942,
          -0.26207094693023314,
          0.5384404403845632,
          -0.038136694417228494,
          -0.3448435380149347,
          5.418877220879357,
          -0.4553728133711036,
          0.30147654263214435,
          -0.16947026430905357,
          0.531509719966515,
          0.45004783628664935,
          0.49918922801511423,
          0.7886972157025381,
          -1.8772120974200392
         ]
        }
       ],
       "layout": {
        "legend": {
         "bgcolor": "#F5F6F9",
         "font": {
          "color": "#4D5663"
         }
        },
        "paper_bgcolor": "#F5F6F9",
        "plot_bgcolor": "#F5F6F9",
        "template": {
         "data": {
          "bar": [
           {
            "error_x": {
             "color": "#2a3f5f"
            },
            "error_y": {
             "color": "#2a3f5f"
            },
            "marker": {
             "line": {
              "color": "#E5ECF6",
              "width": 0.5
             }
            },
            "type": "bar"
           }
          ],
          "barpolar": [
           {
            "marker": {
             "line": {
              "color": "#E5ECF6",
              "width": 0.5
             }
            },
            "type": "barpolar"
           }
          ],
          "carpet": [
           {
            "aaxis": {
             "endlinecolor": "#2a3f5f",
             "gridcolor": "white",
             "linecolor": "white",
             "minorgridcolor": "white",
             "startlinecolor": "#2a3f5f"
            },
            "baxis": {
             "endlinecolor": "#2a3f5f",
             "gridcolor": "white",
             "linecolor": "white",
             "minorgridcolor": "white",
             "startlinecolor": "#2a3f5f"
            },
            "type": "carpet"
           }
          ],
          "choropleth": [
           {
            "colorbar": {
             "outlinewidth": 0,
             "ticks": ""
            },
            "type": "choropleth"
           }
          ],
          "contour": [
           {
            "colorbar": {
             "outlinewidth": 0,
             "ticks": ""
            },
            "colorscale": [
             [
              0,
              "#0d0887"
             ],
             [
              0.1111111111111111,
              "#46039f"
             ],
             [
              0.2222222222222222,
              "#7201a8"
             ],
             [
              0.3333333333333333,
              "#9c179e"
             ],
             [
              0.4444444444444444,
              "#bd3786"
             ],
             [
              0.5555555555555556,
              "#d8576b"
             ],
             [
              0.6666666666666666,
              "#ed7953"
             ],
             [
              0.7777777777777778,
              "#fb9f3a"
             ],
             [
              0.8888888888888888,
              "#fdca26"
             ],
             [
              1,
              "#f0f921"
             ]
            ],
            "type": "contour"
           }
          ],
          "contourcarpet": [
           {
            "colorbar": {
             "outlinewidth": 0,
             "ticks": ""
            },
            "type": "contourcarpet"
           }
          ],
          "heatmap": [
           {
            "colorbar": {
             "outlinewidth": 0,
             "ticks": ""
            },
            "colorscale": [
             [
              0,
              "#0d0887"
             ],
             [
              0.1111111111111111,
              "#46039f"
             ],
             [
              0.2222222222222222,
              "#7201a8"
             ],
             [
              0.3333333333333333,
              "#9c179e"
             ],
             [
              0.4444444444444444,
              "#bd3786"
             ],
             [
              0.5555555555555556,
              "#d8576b"
             ],
             [
              0.6666666666666666,
              "#ed7953"
             ],
             [
              0.7777777777777778,
              "#fb9f3a"
             ],
             [
              0.8888888888888888,
              "#fdca26"
             ],
             [
              1,
              "#f0f921"
             ]
            ],
            "type": "heatmap"
           }
          ],
          "heatmapgl": [
           {
            "colorbar": {
             "outlinewidth": 0,
             "ticks": ""
            },
            "colorscale": [
             [
              0,
              "#0d0887"
             ],
             [
              0.1111111111111111,
              "#46039f"
             ],
             [
              0.2222222222222222,
              "#7201a8"
             ],
             [
              0.3333333333333333,
              "#9c179e"
             ],
             [
              0.4444444444444444,
              "#bd3786"
             ],
             [
              0.5555555555555556,
              "#d8576b"
             ],
             [
              0.6666666666666666,
              "#ed7953"
             ],
             [
              0.7777777777777778,
              "#fb9f3a"
             ],
             [
              0.8888888888888888,
              "#fdca26"
             ],
             [
              1,
              "#f0f921"
             ]
            ],
            "type": "heatmapgl"
           }
          ],
          "histogram": [
           {
            "marker": {
             "colorbar": {
              "outlinewidth": 0,
              "ticks": ""
             }
            },
            "type": "histogram"
           }
          ],
          "histogram2d": [
           {
            "colorbar": {
             "outlinewidth": 0,
             "ticks": ""
            },
            "colorscale": [
             [
              0,
              "#0d0887"
             ],
             [
              0.1111111111111111,
              "#46039f"
             ],
             [
              0.2222222222222222,
              "#7201a8"
             ],
             [
              0.3333333333333333,
              "#9c179e"
             ],
             [
              0.4444444444444444,
              "#bd3786"
             ],
             [
              0.5555555555555556,
              "#d8576b"
             ],
             [
              0.6666666666666666,
              "#ed7953"
             ],
             [
              0.7777777777777778,
              "#fb9f3a"
             ],
             [
              0.8888888888888888,
              "#fdca26"
             ],
             [
              1,
              "#f0f921"
             ]
            ],
            "type": "histogram2d"
           }
          ],
          "histogram2dcontour": [
           {
            "colorbar": {
             "outlinewidth": 0,
             "ticks": ""
            },
            "colorscale": [
             [
              0,
              "#0d0887"
             ],
             [
              0.1111111111111111,
              "#46039f"
             ],
             [
              0.2222222222222222,
              "#7201a8"
             ],
             [
              0.3333333333333333,
              "#9c179e"
             ],
             [
              0.4444444444444444,
              "#bd3786"
             ],
             [
              0.5555555555555556,
              "#d8576b"
             ],
             [
              0.6666666666666666,
              "#ed7953"
             ],
             [
              0.7777777777777778,
              "#fb9f3a"
             ],
             [
              0.8888888888888888,
              "#fdca26"
             ],
             [
              1,
              "#f0f921"
             ]
            ],
            "type": "histogram2dcontour"
           }
          ],
          "mesh3d": [
           {
            "colorbar": {
             "outlinewidth": 0,
             "ticks": ""
            },
            "type": "mesh3d"
           }
          ],
          "parcoords": [
           {
            "line": {
             "colorbar": {
              "outlinewidth": 0,
              "ticks": ""
             }
            },
            "type": "parcoords"
           }
          ],
          "pie": [
           {
            "automargin": true,
            "type": "pie"
           }
          ],
          "scatter": [
           {
            "marker": {
             "colorbar": {
              "outlinewidth": 0,
              "ticks": ""
             }
            },
            "type": "scatter"
           }
          ],
          "scatter3d": [
           {
            "line": {
             "colorbar": {
              "outlinewidth": 0,
              "ticks": ""
             }
            },
            "marker": {
             "colorbar": {
              "outlinewidth": 0,
              "ticks": ""
             }
            },
            "type": "scatter3d"
           }
          ],
          "scattercarpet": [
           {
            "marker": {
             "colorbar": {
              "outlinewidth": 0,
              "ticks": ""
             }
            },
            "type": "scattercarpet"
           }
          ],
          "scattergeo": [
           {
            "marker": {
             "colorbar": {
              "outlinewidth": 0,
              "ticks": ""
             }
            },
            "type": "scattergeo"
           }
          ],
          "scattergl": [
           {
            "marker": {
             "colorbar": {
              "outlinewidth": 0,
              "ticks": ""
             }
            },
            "type": "scattergl"
           }
          ],
          "scattermapbox": [
           {
            "marker": {
             "colorbar": {
              "outlinewidth": 0,
              "ticks": ""
             }
            },
            "type": "scattermapbox"
           }
          ],
          "scatterpolar": [
           {
            "marker": {
             "colorbar": {
              "outlinewidth": 0,
              "ticks": ""
             }
            },
            "type": "scatterpolar"
           }
          ],
          "scatterpolargl": [
           {
            "marker": {
             "colorbar": {
              "outlinewidth": 0,
              "ticks": ""
             }
            },
            "type": "scatterpolargl"
           }
          ],
          "scatterternary": [
           {
            "marker": {
             "colorbar": {
              "outlinewidth": 0,
              "ticks": ""
             }
            },
            "type": "scatterternary"
           }
          ],
          "surface": [
           {
            "colorbar": {
             "outlinewidth": 0,
             "ticks": ""
            },
            "colorscale": [
             [
              0,
              "#0d0887"
             ],
             [
              0.1111111111111111,
              "#46039f"
             ],
             [
              0.2222222222222222,
              "#7201a8"
             ],
             [
              0.3333333333333333,
              "#9c179e"
             ],
             [
              0.4444444444444444,
              "#bd3786"
             ],
             [
              0.5555555555555556,
              "#d8576b"
             ],
             [
              0.6666666666666666,
              "#ed7953"
             ],
             [
              0.7777777777777778,
              "#fb9f3a"
             ],
             [
              0.8888888888888888,
              "#fdca26"
             ],
             [
              1,
              "#f0f921"
             ]
            ],
            "type": "surface"
           }
          ],
          "table": [
           {
            "cells": {
             "fill": {
              "color": "#EBF0F8"
             },
             "line": {
              "color": "white"
             }
            },
            "header": {
             "fill": {
              "color": "#C8D4E3"
             },
             "line": {
              "color": "white"
             }
            },
            "type": "table"
           }
          ]
         },
         "layout": {
          "annotationdefaults": {
           "arrowcolor": "#2a3f5f",
           "arrowhead": 0,
           "arrowwidth": 1
          },
          "coloraxis": {
           "colorbar": {
            "outlinewidth": 0,
            "ticks": ""
           }
          },
          "colorscale": {
           "diverging": [
            [
             0,
             "#8e0152"
            ],
            [
             0.1,
             "#c51b7d"
            ],
            [
             0.2,
             "#de77ae"
            ],
            [
             0.3,
             "#f1b6da"
            ],
            [
             0.4,
             "#fde0ef"
            ],
            [
             0.5,
             "#f7f7f7"
            ],
            [
             0.6,
             "#e6f5d0"
            ],
            [
             0.7,
             "#b8e186"
            ],
            [
             0.8,
             "#7fbc41"
            ],
            [
             0.9,
             "#4d9221"
            ],
            [
             1,
             "#276419"
            ]
           ],
           "sequential": [
            [
             0,
             "#0d0887"
            ],
            [
             0.1111111111111111,
             "#46039f"
            ],
            [
             0.2222222222222222,
             "#7201a8"
            ],
            [
             0.3333333333333333,
             "#9c179e"
            ],
            [
             0.4444444444444444,
             "#bd3786"
            ],
            [
             0.5555555555555556,
             "#d8576b"
            ],
            [
             0.6666666666666666,
             "#ed7953"
            ],
            [
             0.7777777777777778,
             "#fb9f3a"
            ],
            [
             0.8888888888888888,
             "#fdca26"
            ],
            [
             1,
             "#f0f921"
            ]
           ],
           "sequentialminus": [
            [
             0,
             "#0d0887"
            ],
            [
             0.1111111111111111,
             "#46039f"
            ],
            [
             0.2222222222222222,
             "#7201a8"
            ],
            [
             0.3333333333333333,
             "#9c179e"
            ],
            [
             0.4444444444444444,
             "#bd3786"
            ],
            [
             0.5555555555555556,
             "#d8576b"
            ],
            [
             0.6666666666666666,
             "#ed7953"
            ],
            [
             0.7777777777777778,
             "#fb9f3a"
            ],
            [
             0.8888888888888888,
             "#fdca26"
            ],
            [
             1,
             "#f0f921"
            ]
           ]
          },
          "colorway": [
           "#636efa",
           "#EF553B",
           "#00cc96",
           "#ab63fa",
           "#FFA15A",
           "#19d3f3",
           "#FF6692",
           "#B6E880",
           "#FF97FF",
           "#FECB52"
          ],
          "font": {
           "color": "#2a3f5f"
          },
          "geo": {
           "bgcolor": "white",
           "lakecolor": "white",
           "landcolor": "#E5ECF6",
           "showlakes": true,
           "showland": true,
           "subunitcolor": "white"
          },
          "hoverlabel": {
           "align": "left"
          },
          "hovermode": "closest",
          "mapbox": {
           "style": "light"
          },
          "paper_bgcolor": "white",
          "plot_bgcolor": "#E5ECF6",
          "polar": {
           "angularaxis": {
            "gridcolor": "white",
            "linecolor": "white",
            "ticks": ""
           },
           "bgcolor": "#E5ECF6",
           "radialaxis": {
            "gridcolor": "white",
            "linecolor": "white",
            "ticks": ""
           }
          },
          "scene": {
           "xaxis": {
            "backgroundcolor": "#E5ECF6",
            "gridcolor": "white",
            "gridwidth": 2,
            "linecolor": "white",
            "showbackground": true,
            "ticks": "",
            "zerolinecolor": "white"
           },
           "yaxis": {
            "backgroundcolor": "#E5ECF6",
            "gridcolor": "white",
            "gridwidth": 2,
            "linecolor": "white",
            "showbackground": true,
            "ticks": "",
            "zerolinecolor": "white"
           },
           "zaxis": {
            "backgroundcolor": "#E5ECF6",
            "gridcolor": "white",
            "gridwidth": 2,
            "linecolor": "white",
            "showbackground": true,
            "ticks": "",
            "zerolinecolor": "white"
           }
          },
          "shapedefaults": {
           "line": {
            "color": "#2a3f5f"
           }
          },
          "ternary": {
           "aaxis": {
            "gridcolor": "white",
            "linecolor": "white",
            "ticks": ""
           },
           "baxis": {
            "gridcolor": "white",
            "linecolor": "white",
            "ticks": ""
           },
           "bgcolor": "#E5ECF6",
           "caxis": {
            "gridcolor": "white",
            "linecolor": "white",
            "ticks": ""
           }
          },
          "title": {
           "x": 0.05
          },
          "xaxis": {
           "automargin": true,
           "gridcolor": "white",
           "linecolor": "white",
           "ticks": "",
           "title": {
            "standoff": 15
           },
           "zerolinecolor": "white",
           "zerolinewidth": 2
          },
          "yaxis": {
           "automargin": true,
           "gridcolor": "white",
           "linecolor": "white",
           "ticks": "",
           "title": {
            "standoff": 15
           },
           "zerolinecolor": "white",
           "zerolinewidth": 2
          }
         }
        },
        "title": {
         "font": {
          "color": "#4D5663"
         },
         "text": "Combined Graph (PCA)"
        },
        "xaxis": {
         "gridcolor": "#E1E5ED",
         "showgrid": true,
         "tickfont": {
          "color": "#4D5663"
         },
         "title": {
          "font": {
           "color": "#4D5663"
          },
          "text": ""
         },
         "zerolinecolor": "#E1E5ED"
        },
        "yaxis": {
         "gridcolor": "#E1E5ED",
         "showgrid": true,
         "tickfont": {
          "color": "#4D5663"
         },
         "title": {
          "font": {
           "color": "#4D5663"
          },
          "text": ""
         },
         "zerolinecolor": "#E1E5ED"
        }
       }
      },
      "text/html": [
       "<div>\n",
       "        \n",
       "        \n",
       "            <div id=\"c50abdd9-f6da-4fe7-a77a-1e747fee1ead\" class=\"plotly-graph-div\" style=\"height:525px; width:100%;\"></div>\n",
       "            <script type=\"text/javascript\">\n",
       "                require([\"plotly\"], function(Plotly) {\n",
       "                    window.PLOTLYENV=window.PLOTLYENV || {};\n",
       "                    window.PLOTLYENV.BASE_URL='https://plot.ly';\n",
       "                    \n",
       "                if (document.getElementById(\"c50abdd9-f6da-4fe7-a77a-1e747fee1ead\")) {\n",
       "                    Plotly.newPlot(\n",
       "                        'c50abdd9-f6da-4fe7-a77a-1e747fee1ead',\n",
       "                        [{\"marker\": {\"color\": \"rgba(255, 153, 51, 1.0)\", \"line\": {\"width\": 1.3}, \"opacity\": 0.8, \"size\": 12, \"symbol\": \"circle\"}, \"mode\": \"markers\", \"name\": \"NIPS\", \"text\": [\"Visualizing the Loss Landscape of Neural Nets\", \"PointCNN\", \"L4: Practical loss-based stepsize adaptation for deep learning\", \"Multimodal Generative Models for Scalable Weakly-Supervised Learning\", \"Neural Voice Cloning with a Few Samples\", \"The Description Length of Deep Learning models\", \"Deep Defense: Training DNNs with Improved Adversarial Robustness\", \"Adversarial Logit Pairing\", \"Realistic Evaluation of Deep Semi-Supervised Learning Algorithms\", \"DVAE#: Discrete Variational Autoencoders with Relaxed Boltzmann Priors\", \"BourGAN: Generative Networks with Metric Embeddings\", \"Bilinear Attention Networks\", \"Breaking the Activation Function Bottleneck through Adaptive Parameterization\", \"Hyperbolic Neural Networks\", \"Learning towards Minimum Hyperspherical Energy\", \"Generalizing to Unseen Domains via Adversarial Data Augmentation\", \"On GANs and GMMs\", \"Assessing Generative Models via Precision and Recall\", \"Relational recurrent neural networks\", \"Unsupervised Attention-guided Image-to-Image Translation\", \"Speaker-Follower Models for Vision-and-Language Navigation\", \"ATOMO: Communication-efficient Learning via Atomic Sparsification\", \"Generative Neural Machine Translation\", \"One-Shot Unsupervised Cross Domain Translation\", \"Banach Wasserstein GAN\", \"Neural Code Comprehension: A Learnable Representation of Code Semantics\", \"3D Steerable CNNs: Learning Rotationally Equivariant Features in Volumetric Data\", \"Glow: Generative Flow with Invertible 1x1 Convolutions\", \"Discovery of Latent 3D Keypoints via End-to-end Geometric Reasoning\", \"An intriguing failing of convolutional neural networks and the CoordConv solution\", \"Latent Alignment and Variational Attention\", \"Neural Arithmetic Logic Units\", \"Adaptive Skip Intervals: Temporal Abstraction for Recurrent Dynamical Models\", \"Video-to-Video Synthesis\", \"Generalisation in humans and deep neural networks\", \"A Unified Feature Disentangler for Multi-Domain Image Translation and Manipulation\", \"Neural Guided Constraint Logic Programming for Program Synthesis\", \"Deep Subspace Clustering Networks\", \"Dilated Recurrent Neural Networks\", \"Structured Embedding Models for Grouped Data\", \"Best of Both Worlds: Transferring Knowledge from Discriminative Learning to a Generative Visual Dialog Model\", \"Learning a Multi-View Stereo Machine\", \"Universal Style Transfer via Feature Transforms\", \"f-GANs in an Information Geometric Nutshell\", \"Toward Multimodal Image-to-Image Translation\", \"One-Sided Unsupervised Domain Mapping\", \"Deep Mean-Shift Priors for Image Restoration\", \"SchNet: A continuous-filter convolutional neural network for modeling quantum interactions\", \"Inductive Representation Learning on Large Graphs\", \"Mean teachers are better role models: Weight-averaged consistency targets improve semi-supervised deep learning results\", \"TernGrad: Ternary Gradients to Reduce Communication in Distributed Deep Learning\", \"NeuralFDR: Learning Discovery Thresholds from Hypothesis Features\", \"Learning Multiple Tasks with Multilinear Relationship Networks\", \"Train longer, generalize better: closing the generalization gap in large batch training of neural networks\", \"The Numerics of GANs\", \"Stabilizing Training of Generative Adversarial Networks through Regularization\", \"Training Deep Networks without Learning Rates Through Coin Betting\", \"MMD GAN: Towards Deeper Understanding of Moment Matching Network\", \"Few-Shot Learning Through an Information Retrieval  Lens\", \"Differentiable Learning of Logical Rules for Knowledge Base Reasoning\", \"OnACID: Online Analysis of Calcium Imaging Data in Real Time\", \"Fisher GAN\", \"Toward Goal-Driven Neural Network Models for the Rodent Whisker-Trigeminal System\", \"Predicting Organic Reaction Outcomes with Weisfeiler-Lehman Network\", \"REBAR: Low-variance, unbiased gradient estimates for discrete latent variable models\", \"ELF: An Extensive, Lightweight and Flexible Research Platform for Real-time Strategy Games\", \"Dual Discriminator Generative Adversarial Nets\", \"Bridging the Gap Between Value and Policy Based Reinforcement Learning\", \"Convolutional Gaussian Processes\", \"Deep Lattice Networks and Partial Monotonic Functions\", \"Hierarchical Attentive Recurrent Tracking\", \"Learning to Compose Domain-Specific Transformations for Data Augmentation\", \"Language Modeling with Recurrent Highway Hypernetworks\", \"Bayesian Compression for Deep Learning\", \"Streaming Sparse Gaussian Process Approximations\", \"Spherical convolutions and their application in molecular modelling\", \"Neural system identification for large populations separating \\u0093what\\u0094 and \\u0093where\\u0094\", \"A Disentangled Recognition and Nonlinear Dynamics Model for Unsupervised Learning\", \"Bayesian GAN\", \"Geometric Matrix Completion with Recurrent Multi-Graph Neural Networks\", \"Diving into the shallows: a computational perspective on large-scale shallow learning\", \"InfoGAIL: Interpretable Imitation Learning from Visual Demonstrations\", \"Deep Hyperspherical Learning\", \"On-the-fly Operation Batching in Dynamic Computation Graphs\", \"Streaming Weak Submodularity: Interpreting Neural Networks on the Fly\", \"Prototypical Networks for Few-shot Learning\", \"Multi-Information Source Optimization\", \"Dual Path Networks\", \"Doubly Stochastic Variational Inference for Deep Gaussian Processes\", \"QMDP-Net: Deep Learning for Planning under Partial Observability\", \"A Unified Approach to Interpreting Model Predictions\", \"Context Selection for Embedding Models\", \"Working hard to know your neighbor's margins: Local descriptor learning loss\", \"Learning to Prune Deep Neural Networks via Layer-wise Optimal Brain Surgeon\", \"DropoutNet: Addressing Cold Start in Recommender Systems\", \"PointNet++: Deep Hierarchical Feature Learning on Point Sets in a Metric Space\", \"A-NICE-MC: Adversarial Training for MCMC\", \"Riemannian approach to batch normalization\", \"Triangle Generative Adversarial Networks\", \"Scalable trust-region method for deep reinforcement learning using Kronecker-factored approximation\", \"Hybrid Reward Architecture for Reinforcement Learning\", \"AdaGAN: Boosting Generative Models\", \"Task-based End-to-end Model Learning in Stochastic Optimization\", \"Gradient descent GAN optimization is locally stable\", \"Do Deep Neural Networks Suffer from Crowding?\", \"Improved Training of Wasserstein GANs\", \"Learning Disentangled Representations with Semi-Supervised Deep Generative Models\", \"Attention is All you Need\", \"Value Prediction Network\", \"Causal Effect Inference with Deep Latent-Variable Models\", \"Good Semi-supervised Learning That Requires a Bad GAN\", \"Modulating early visual processing by language\", \"GANs Trained by a Two Time-Scale Update Rule Converge to a Local Nash Equilibrium\", \"Neural Expectation Maximization\", \"Attend and Predict: Understanding Gene Regulation by Selective Attention on Chromatin\", \"Style Transfer from Non-Parallel Text by Cross-Alignment\", \"Real Time Image Saliency for Black Box Classifiers\", \"On Word Embedding Dimensionality\", \"COLA: Decentralized Linear Learning\", \"A Simple Unified Framework for Detecting Out-of-Distribution Samples and Adversarial Attacks\", \"Mapping Images to Scene Graphs with Permutation-Invariant Structured Prediction\", \"Learning Conditioned Graph Structures for Interpretable Visual Question Answering\", \"Reversible Recurrent Neural Networks\"], \"textfont\": {\"color\": \"#4D5663\"}, \"type\": \"scatter\", \"x\": [-0.8789210752452508, -0.7391161255262235, -0.8026115189056582, -0.7027766865570243, 2.615771306349782, -0.7629646839670231, -0.5460955120096364, -1.1568512277929275, -0.7004924138297908, -1.0954961030863986, -0.9424515260163986, -1.3232577777018895, -0.7673420250997582, -1.4417516538706943, -1.1630464992229848, -1.1458612990559385, -1.0941458394094843, -1.1266082534308923, -0.7567755486236797, -0.4558195814805238, -1.3984927575809585, -1.0442296400802795, -0.8559258151095207, -0.40160418757728644, -0.7741914220222286, -0.965026102040425, -0.35635080763961996, 2.386517523349066, -0.5243242281966364, -0.9567790996238816, -1.2741949685874776, -0.870797798675137, -1.1939308218655795, -0.8670934008521369, -1.1407502372140839, -0.9962047057784008, -1.3017335406482329, -0.8781121421979333, -0.9341794520025347, -0.5537336482984876, -0.9690974134058178, -0.6164736702852467, 2.4500045594709716, -0.794778451438183, 2.705227897785611, -0.6569188154003571, -0.9368303896735303, -1.3626704568417267, -0.8834248566220531, 0.3842461778180621, -0.7287461474537725, -0.8138243005197419, -0.27691902899541077, -0.6320466057479317, -0.4938865314895463, -1.245703425807019, -0.6548047873455974, -0.8211509891870807, -0.8039996518593292, -1.0894905420699212, -0.4465642669665763, -0.753850141870823, -0.4386292367347084, -0.9818883866189205, -0.5789752717215906, -1.1583038946023643, -1.140323915658323, -0.6690057850767519, -1.2318783289382198, -1.106054853086702, -1.3082990479773895, -0.9344106905035938, -0.752325495121502, -0.6414540680865012, -0.8437442373329117, -1.1678276247492128, -1.18721050759983, -1.247104761363223, -1.1648352280141177, -1.0701593299328196, -0.8600824719691558, -1.2902140626907328, -0.7888574759540372, 2.5261254090127485, -0.44947962689472715, -0.05779915359564263, -0.8703909409628787, 2.1120518135746185, -0.34898128331690875, -1.2146062989894202, -1.0733685271384688, -0.4660909284022793, -0.42928485433784663, -0.3160167214006932, 1.8186507313178817, -0.6876250385297495, -1.0650115553457937, -0.5735888314766915, -1.097238313327396, -1.3929931681314522, -0.648609383021041, -0.8486986637157037, -0.6420634520690391, -0.752447031775915, -1.0847826029056065, -0.7976805908773387, -1.2314177983575387, 2.1292180525364874, -0.831421308664903, -0.9798792145388414, -0.3515526503770424, 2.195939044706803, -0.7334803918636191, -1.0004019516973348, -0.8221638586721307, -0.8660283999905084, 2.614422083850486, -0.08194609740723693, -0.6225147076050188, -1.1151421870323912, -0.7582441357777876, -1.3112687987027936, -1.3428518708694843], \"y\": [-0.42129628770878513, -0.4481160462018794, -0.5363956295853365, -0.8107389931243889, -2.194466120008517, -0.7010559746516861, -1.1968123745556536, -0.43898828078143315, -0.10716907253272175, 0.25287217083754254, 0.1789391534636452, -0.12837122952123384, 0.005998891128336302, -0.04901086991127795, 0.29971231384989533, 0.29029758028121666, 0.16561122914131587, 0.1056222214975732, 0.3788178284827662, -0.18910562136655826, -0.10781725418937806, 0.05001074891311053, 0.2122793237965859, 0.35900574773592436, 0.45696378497476875, 0.23757687672493513, -0.6947909979716498, -0.574365256707009, -0.47418445911867846, -0.6688480144771044, -0.6174186217835911, 0.387608281327952, 0.2384901638006972, -0.2997016240862523, -0.0016127501666255034, 0.32229966765188667, -0.17840940342156555, 0.03157216821322279, 0.26023040313569945, 0.667228032878834, -0.29738411626506533, 0.4536899827060501, -1.3189594631828998, 0.18124546251637105, -1.9177870274198316, 0.41327981385245327, -0.45332747444090316, -0.4676350169244811, 0.42182509214867436, 0.10673242536630247, -0.04627322689128255, -0.3691098288087286, -0.6666383824069, -0.758661869001524, 0.16250021277293103, -0.3578386310121545, 0.3232859673420602, -1.074138334494784, 0.4978675360144767, 0.262748476103064, 0.4841585114005744, -0.6410566254064936, -0.009394173767561968, 0.08449152560416534, 0.5168049070826273, -0.13441202685083065, -2.3218601117671502, 0.3975465525964333, -0.24585310268197438, 0.10393984183810481, -0.0806592466017659, -0.04374066529073057, -0.14090876238549446, 0.1497563543644228, 0.3665669159431389, -0.24949156117424529, -0.1451945567274564, -0.06580828702545642, -0.7905634996106621, -0.06354353102675181, -0.11948044040817501, 0.01637271244467696, -0.3244082823298514, -0.22653906491271777, 0.4336328266201127, -0.3104755580793665, 0.15616278731141328, -1.9666446709322585, 0.6313019262269449, -0.1140371754205428, 0.015414515761934226, 0.7944225904061578, -0.048413400319471056, -0.18091035644850328, 8.338700523007503, 0.3015661427161644, -0.15938409846265583, 0.32520154901632664, -0.7630802710469959, 0.08981728965004403, 0.45065428929243, -0.3504258909717039, -0.03681891926245321, -0.1376444552625772, -0.31001963496186064, -0.7920678846726219, -0.23078094772831964, -2.658168723973828, -1.97524978607761, 0.2231600565507586, -0.09803347071934324, -1.7806052847054543, -0.6071243147975969, -0.12121678055796131, -0.4165930968271195, -0.14508306679260297, -1.1465427628789575, 0.9382201434373649, 0.25905125706648785, -0.44626528507712765, 0.08556738809848637, -0.5541311482099861, -0.5034227019011529]}, {\"marker\": {\"color\": \"rgba(55, 128, 191, 1.0)\", \"line\": {\"width\": 1.3}, \"opacity\": 0.8, \"size\": 12, \"symbol\": \"circle\"}, \"mode\": \"markers\", \"name\": \"ECCV\", \"text\": [\"Improving Shape Deformation in Unsupervised Image-to-Image Translation\", \"Pairwise Confusion for Fine-Grained Visual Classification\", \"GANimation: Anatomically-aware Facial Animation from a Single Image\", \"Deep Expander Networks: Efficient Deep Networks from Graph Theory\", \"3DMV: Joint 3D-Multi-View Prediction for 3D Semantic Scene Segmentation\", \"Learning Category-Specific Mesh Reconstruction from Image Collections\", \"Zero-Shot Object Detection\", \"A Style-Aware Content Loss for Real-time HD Style Transfer\", \"Piggyback: Adapting a Single Network to Multiple Tasks by Learning to Mask Weights\", \"Semi-supervised Adversarial Learning to Generate Photorealistic Face Images of New Identities from 3D Morphable Model\", \"Simple Baselines for Human Pose Estimation and Tracking\", \"Toward Characteristic-Preserving Image-based Virtual Try-On Network\", \"Acquisition of Localization Confidence for Accurate Object Detection\", \"Conditional Image-Text Embedding Networks\", \"SketchyScene: Richly-Annotated Scene Sketches\", \"Progressive Neural Architecture Search\", \"Image Manipulation with Perceptual Discriminators\", \"Repeatability Is Not Enough: Learning Affine Regions via Discriminability\", \"Unsupervised holistic image generation from key local patches\", \"LQ-Nets: Learned Quantization for Highly Accurate and Compact Deep Neural Networks\", \"Is Robustness the Cost of Accuracy? -- A Comprehensive Study on the Robustness of 18 Deep Image Classification Models\", \"Dynamic Multimodal Instance Segmentation Guided by Natural Language Queries\", \"Dynamic Conditional Networks for Few-Shot Learning\", \"Recovering 3D Planes from a Single Image via Convolutional Neural Networks\", \"Learning Single-View 3D Reconstruction with Limited Pose Supervision\", \"Image Inpainting for Irregular Holes Using Partial Convolutions\", \"Unsupervised Geometry-Aware Representation for 3D Human Pose Estimation\", \"PSANet: Point-wise Spatial Attention Network for Scene Parsing\", \"Deep Randomized Ensembles for Metric Learning\", \"Predicting Gaze in Egocentric Video by Learning Task-dependent Attention Transition\", \"Coloring with Words: Guiding Image Colorization Through Text-based Palette Generation\", \"Fighting Fake News: Image Splice Detection via Learned Self-Consistency\", \"HiDDeN: Hiding Data with Deep Networks\", \"Multi-scale Residual Network for Image Super-Resolution\", \"Adaptive Affinity Fields for Semantic Segmentation\", \"Statistically-motivated Second-order Pooling\", \"Stacked Cross Attention for Image-Text Matching\", \"Open Set Domain Adaptation by Backpropagation\", \"DeepVS: A Deep Learning Based Video Saliency Prediction Approach\", \"EC-Net: an Edge-aware Point set Consolidation Network\", \"Encoder-Decoder with Atrous Separable Convolution for Semantic Image Segmentation\", \"Estimating the Success of Unsupervised Image to Image Translation\", \"Single Shot Scene Text Retrieval\", \"Learning Type-Aware Embeddings for Fashion Compatibility\", \"Learning Visual Question Answering by Bootstrapping Hard Attention\", \"Deep Clustering for Unsupervised Learning of Visual Features\", \"Joint Person Segmentation and Identification in Synchronized First- and Third-person Videos\", \"ECO: Efficient Convolutional Network for Online Video Understanding\", \"Diverse and Coherent Paragraph Generation from Images\", \"MultiPoseNet: Fast Multi-Person Pose Estimation using Pose Residual Network\", \"ShapeStacks: Learning Vision-Based Physical Intuition for Generalised Object Stacking\", \"Towards Realistic Predictors\", \"Choose Your Neuron: Incorporating Domain Knowledge through Neuron-Importance\", \"Explainable Neural Computation via Stack Neural Module Networks\", \"Learning to Separate Object Sounds by Watching Unlabeled Video\", \"ESPNet: Efficient Spatial Pyramid of Dilated Convolutions for Semantic Segmentation\", \"Visual Coreference Resolution in Visual Dialog using Neural Module Networks\", \"License Plate Detection and Recognition in Unconstrained Scenarios\", \"Deep High Dynamic Range Imaging with Large Foreground Motions\", \"Multi-view to Novel view: Synthesizing novel views with Self-Learned Confidence\", \"Specular-to-Diffuse Translation for Multi-View Reconstruction\", \"Layer-structured 3D Scene Inference via View Synthesis\", \"3D-CODED: 3D Correspondences by Deep Deformation\", \"HybridNet: Classification and Reconstruction Cooperation for Semi-Supervised Learning\", \"BSN: Boundary Sensitive Network for Temporal Action Proposal Generation\", \"Learning Dynamic Memory Networks for Object Tracking\", \"Interpretable Intuitive Physics Model\", \"Gray-box Adversarial Training\", \"Depth-aware CNN for RGB-D Segmentation\", \"Learning Efficient Single-stage Pedestrian Detectors by Asymptotic Localization Fitting\", \"A Modulation Module for Multi-task Learning with Applications in Image Retrieval\", \"Single Image Water Hazard Detection using FCN with Reflection Attention Units\", \"Integral Human Pose Regression\", \"Recurrent Squeeze-and-Excitation Context Aggregation Net for Single Image Deraining\", \"Quaternion Convolutional Neural Networks\", \"Mutual Learning to Adapt for Joint Human Parsing and Pose Estimation\", \"Pose Partition Networks for Multi-Person Pose Estimation\", \"Video Re-localization\", \"Joint 3D Face Reconstruction and Dense Alignment with Position Map Regression Network\", \"MVSNet: Depth Inference for Unstructured Multi-view Stereo\", \"Audio-Visual Event Localization in Unconstrained Videos\", \"Macro-Micro Adversarial Network for Human Parsing\", \"SpiderCNN: Deep Learning on Point Sets with Parameterized Convolutional Filters\", \"PlaneMatch: Patch Coplanarity Prediction for Robust RGB-D Reconstruction\", \"Factorizable Net: An Efficient Subgraph-based Framework for Scene Graph Generation\", \"DF-Net: Unsupervised Joint Learning of Depth and Flow using Cross-Task Consistency\", \"Image Super-Resolution Using Very Deep Residual Channel Attention Networks\", \"Group Normalization\", \"Learning to Navigate for Fine-grained Classification\", \"Partial Adversarial Domain Adaptation\", \"Shift-Net: Image Inpainting via Deep Feature Rearrangement\", \"Distractor-aware Siamese Networks for Visual Object Tracking\", \"Improving Generalization via  Scalable Neighborhood Component Analysis\", \"Saliency Detection in 360\\u00b0 Videos\", \"GeoDesc: Learning Local Descriptors by Integrating Geometry Constraints\"], \"textfont\": {\"color\": \"#4D5663\"}, \"type\": \"scatter\", \"x\": [-0.850588812752402, -0.8036772832579379, -0.8199905335533632, -0.9842383840629371, -1.1082334385802006, -0.9933108605715057, -1.2349697421767396, -1.0289564923580434, -1.1447111602469195, -1.279453848291579, -1.187148159865998, -1.0709688020515356, -0.8465303964235215, 1.2975968141054686, -1.1247685853566551, 1.3140475755397187, -1.2104404891433813, -0.3928146522523746, -1.0106571353219946, -0.9085508830105403, -1.4310015160100826, -0.9200648367023015, 3.768225613440018, 1.1522608951885627, 1.2329300833500387, -1.0004204967837884, -0.646459843837984, 1.5763383185035262, -0.2971318646267654, -1.025199818323038, -1.0606574526800079, -0.6396464457017554, -1.107876958295086, 1.910421783140662, -1.2069518412945865, -1.0631338739292173, -1.32039030112444, -1.107473455622884, -0.9859877760579508, 0.3094710277533288, -1.2218147407640756, -0.5789651891880672, -1.235583458447898, -0.9977664419539836, 0.24413471658392505, -0.7690696703644004, -0.8280402472726385, 1.8114790342151847, 3.5354781743375034, -0.6673646785675993, -0.9666492642135396, 0.7060942419309127, -1.095824491361802, -0.4678186476974085, -1.1100036220738179, -0.8334911849118757, -1.2153537478497978, 1.681305473165052, -0.5497938197961103, -0.8185016356899466, -0.29657190956706697, -0.4948515880411361, -0.8261240401371774, -0.5288514360320652, -0.4678186476974085, -1.1751635899357966, -0.8599406088651761, -0.9761914702895569, -0.9639570407331389, -0.529232998785634, 1.9548256206902126, -1.2649629814084014, -0.5912451085969486, -1.1621133694514936, -0.6739340680336313, 3.2278567659667026, -0.9053695170642226, -1.234603878933568, -1.174146428156952, -1.1632145988323943, 0.2083565906202387, -1.0086614850632774, -0.5585053622051219, -0.8047377434672953, -0.7701071009894237, 3.265840263592072, -0.3086019243460377, -0.8003352235195642, -1.162484704329839, -0.7810355961804483, -0.2971318646267654, -1.1943504599433281, -1.1759042335747294, -0.4564370758917483, -0.42941492039758594], \"y\": [0.20629731740898688, -0.13913805396812587, -0.24986275061602334, -0.5887515370068795, -0.2632746199531321, -0.4074368488391595, -0.33522414404877593, -0.9797975574655433, -0.7929562943191563, -0.2489259390506851, -0.40595258128257267, -0.11352159424182093, -0.2929494625217503, -1.329710646153763, -0.30628319531508624, -4.968912420245291, -0.5364926671175829, -0.07294162455774325, -0.033444249507684806, -1.1403381099306424, -0.5861093483871989, -0.21445641142796762, -1.3451703870277176, 1.9361989413799174, 1.860665525118953, -0.574445517122625, -0.0865423176937763, -1.6031718219537279, -0.007210801574988292, -0.6497608731739704, -0.45676377383254463, -0.4003700253689119, -0.701725874568287, -1.9601505996334239, -0.3952142555289767, -0.17407170743488296, -0.6696408327417173, -0.18208149580062466, -0.18279338117011473, 4.786829442970664, -0.5006276805875779, -0.12445723456215947, -0.2632562082172363, -0.28102114114016213, -1.8753225596357106, -1.2507226007095782, -0.663531562332043, -1.5022168299357115, -0.45924151110790884, -0.1252027965394855, 0.09426686900365082, -2.370161018598864, -0.5194527137187103, 0.3501684670162525, -0.3418465551980873, -0.08785962407016912, -0.30677502346756874, 9.267906830757465, -0.27423199515892915, 0.03061182516679555, -0.09150156443614729, 0.2441429876817466, -0.3278431306517047, -0.6732491260040597, 0.3501684670162525, -0.36071891319421484, -0.3596576472828181, -0.5036505039979414, -0.3776147559047424, -0.4445117592288136, -1.4445565866464591, -0.46070980328955324, -0.47660981422877413, -0.36752609782420104, 0.015141640140258884, -1.3926298118610934, -0.27573882836143254, -0.25877435814824656, -0.13164223123044652, -0.14498683273818816, -0.2577607835915206, -0.2999037322266229, -0.2834851299728001, -0.5931458703458315, -0.25637159104075063, -0.44158055400714985, -0.10787483505004296, -0.5382769951755159, -0.5782693459607406, -0.45775610308765424, -0.007210801574988292, -0.5059133592561579, -0.9674493280534384, -0.23491902109647406, 0.3203892887812871]}, {\"marker\": {\"color\": \"rgba(50, 171, 96, 1.0)\", \"line\": {\"width\": 1.3}, \"opacity\": 0.8, \"size\": 12, \"symbol\": \"circle\"}, \"mode\": \"markers\", \"name\": \"CVPR\", \"text\": [\"Efficient Interactive Annotation of Segmentation Datasets With Polygon-RNN++\", \"An Improved Deep Learning Architecture for Person Re-Identification\", \"Learning Pixel-Level Semantic Affinity With Image-Level Supervision for Weakly Supervised Semantic Segmentation\", \"Defense Against Universal Adversarial Perturbations\", \"Light Field Intrinsics With a Deep Encoder-Decoder Network\", \"Neural Module Networks\", \"Real-Time Monocular Depth Estimation Using Synthetic Data With Domain Adaptation via Image Style Transfer\", \"Multi-Content GAN for Few-Shot Font Style Transfer\", \"LCNN: Lookup-Based Convolutional Neural Network\", \"Deep Watershed Transform for Instance Segmentation\", \"Glimpse Clouds: Human Activity Recognition From Unstructured Feature Points\", \"Hierarchical Boundary-Aware Neural Encoder for Video Captioning\", \"Visual Feature Attribution Using Wasserstein GANs\", \"Deep Unsupervised Similarity Learning Using Partially Ordered Sets\", \"The Lov\\u00e1sz-Softmax Loss: A Tractable Surrogate for the Optimization of the Intersection-Over-Union Measure in Neural Networks\", \"Geometry-Aware Learning of Maps for Camera Localization\", \"SST: Single-Stream Temporal Action Proposals\", \"In-Place Activated BatchNorm for Memory-Optimized Training of DNNs\", \"One-Shot Video Object Segmentation\", \"Neural Sign Language Translation\", \"HashGAN: Deep Learning to Hash With Pair Conditional Wasserstein GAN\", \"Partial Transfer Learning With Selective Adversarial Networks\", \"Realtime Multi-Person 2D Pose Estimation Using Part Affinity Fields\", \"Visual Question Reasoning on General Dependency Tree\", \"Annotating Object Instances With a Polygon-RNN\", \"Pyramid Stereo Matching Network\", \"AON: Towards Arbitrarily-Oriented Text Recognition\", \"Cascaded Pyramid Network for Multi-Person Pose Estimation\", \"Deep Photo Enhancer: Unpaired Learning for Image Enhancement From Photographs With GANs\", \"Knowledge Aided Consistency for Weakly Supervised Phrase Grounding\", \"LiDAR-Video Driving Dataset: Learning Driving Policies Effectively\", \"Multi-View 3D Object Detection Network for Autonomous Driving\", \"StarGAN: Unified Generative Adversarial Networks for Multi-Domain Image-to-Image Translation\", \"Xception: Deep Learning With Depthwise Separable Convolutions\", \"Lip Reading Sentences in the Wild\", \"VidLoc: A Deep Spatio-Temporal Model for 6-DoF Video-Clip Relocalization\", \"Large Scale Fine-Grained Categorization and Domain-Specific Transfer Learning\", \"Learning to Evaluate Image Captioning\", \"ScanComplete: Large-Scale Scene Completion and Semantic Segmentation for 3D Scans\", \"Eye In-Painting With Exemplar Generative Adversarial Networks\", \"Style Aggregated Network for Facial Landmark Detection\", \"Supervision-by-Registration: An Unsupervised Approach to Improve the Precision of Facial Landmark Detectors\", \"Structured Uncertainty Prediction Networks\", \"Low-Shot Learning With Large-Scale Diffusion\", \"GraphBit: Bitwise Interaction Mining via Deep Reinforcement Learning\", \"WILDCAT: Weakly Supervised Learning of Deep ConvNets for Image Classification, Pointwise Localization and Segmentation\", \"Who Let the Dogs Out? Modeling Dog Behavior From Visual Data\", \"Robust Physical-World Attacks on Deep Learning Visual Classification\", \"AMNet: Memorability Estimation With Attention\", \"A Point Set Generation Network for 3D Object Reconstruction From a Single Image\", \"End-to-End Learning of Motion Representation for Video Understanding\", \"Spatially Adaptive Computation Time for Residual Networks\", \"Compact Bilinear Pooling\", \"Learning Generative ConvNets via Multi-Grid Modeling and Sampling\", \"Dynamic Few-Shot Visual Learning Without Forgetting\", \"Social GAN: Socially Acceptable Trajectories With Generative Adversarial Networks\", \"DeLiGAN : Generative Adversarial Networks for Diverse and Limited Data\", \"Learning by Association -- A Versatile Semi-Supervised Training Method for Neural Networks\", \"Deep Pyramidal Residual Networks\", \"Can Spatiotemporal 3D CNNs Retrace the History of 2D CNNs and ImageNet?\", \"Deep Back-Projection Networks for Super-Resolution\", \"Deep Residual Learning for Image Recognition\", \"Deeply Supervised Salient Object Detection With Short Connections\", \"CondenseNet: An Efficient DenseNet Using Learned Group Convolutions\", \"DeepMVS: Learning Multi-View Stereopsis\", \"Densely Connected Convolutional Networks\", \"Learning Deep Representation for Imbalanced Classification\", \"Real-Time Neural Style Transfer for Videos\", \"Speed/Accuracy Trade-Offs for Modern Convolutional Object Detectors\", \"Pointwise Convolutional Neural Networks\", \"Fast and Accurate Single Image Super-Resolution via Information Distillation Network\", \"LiteFlowNet: A Lightweight Convolutional Neural Network for Optical Flow Estimation\", \"Deep 360 Pilot: Learning a Deep Agent for Piloting Through 360deg Sports Videos\", \"FC4: Fully Convolutional Color Constancy With Confidence-Weighted Pooling\", \"Finding Tiny Faces\", \"Learning Answer Embeddings for Visual Question Answering\", \"Modeling Relationships in Referential Expressions With Compositional Modular Networks\", \"Image Specificity\", \"DenseCap: Fully Convolutional Localization Networks for Dense Captioning\", \"Image Generation From Scene Graphs\", \"Total Capture: A 3D Deformation Model for Tracking Faces, Hands, and Bodies\", \"Perturbative Neural Networks\", \"End-to-End Recovery of Human Shape and Pose\", \"Convolutional Neural Networks for No-Reference Image Quality Assessment\", \"Geometric Loss Functions for Camera Pose Regression With Deep Learning\", \"Simple Does It: Weakly Supervised Instance and Semantic Segmentation\", \"Accurate Image Super-Resolution Using Very Deep Convolutional Networks\", \"Context Embedding Networks\", \"Deeply-Recursive Convolutional Network for Image Super-Resolution\", \"Deep Hand: How to Train a CNN on 1 Million Hand Images When Your Data Is Continuous and Weakly Labelled\", \"RON: Reverse Connection With Objectness Prior Networks for Object Detection\", \"Surface Networks\", \"A Hierarchical Approach for Generating Descriptive Image Paragraphs\", \"Stochastic Downsampling for Cost-Adjustable Inference and Improved Regularization in Convolutional Networks\", \"Deep Laplacian Pyramid Networks for Fast and Accurate Super-Resolution\", \"Deep Learning Under Privileged Information Using Heteroscedastic Dropout\", \"TI-Pooling: Transformation-Invariant Pooling for Feature Learning in Convolutional Neural Networks\", \"Fast Algorithms for Convolutional Neural Networks\", \"Photo-Realistic Single Image Super-Resolution Using a Generative Adversarial Network\", \"CleanNet: Transfer Learning for Scalable Image Classifier Training With Label Noise\", \"Hierarchical Novelty Detection for Visual Object Recognition\", \"Recurrent Convolutional Neural Network for Object Recognition\", \"Deep Marching Cubes: Learning Explicit Surface Representations\", \"Conditional Image-to-Image Translation\", \"Inverse Compositional Spatial Transformer Networks\", \"RefineNet: Multi-Path Refinement Networks for High-Resolution Semantic Segmentation\", \"ST-GAN: Spatial Transformer Generative Adversarial Networks for Image Compositing\", \"Decoupled Networks\", \"Deep Supervised Hashing for Fast Image Retrieval\", \"FOTS: Fast Oriented Text Spotting With a Unified Network\", \"Future Frame Prediction for Anomaly Detection \\u0096 A New Baseline\", \"PiCANet: Learning Pixel-Wise Contextual Attention for Saliency Detection\", \"PlaneNet: Piece-Wise Planar Reconstruction From a Single RGB Image\", \"Predicting Salient Face in Multiple-Face Videos\", \"Recognizing Human Actions as the Evolution of Pose Estimation Maps\", \"Richer Convolutional Features for Edge Detection\", \"SphereFace: Deep Hypersphere Embedding for Face Recognition\", \"Convolutional Sequence to Sequence Model for Human Dynamics\", \"CSRNet: Dilated Convolutional Neural Networks for Understanding the Highly Congested Scenes\", \"Learning Intrinsic Image Decomposition From Watching the World\", \"MegaDepth: Learning Single-View Depth Prediction From Internet Photos\", \"SO-Net: Self-Organizing Network for Point Cloud Analysis\", \"Towards Faster Training of Global Covariance Pooling Networks by Iterative Matrix Square Root Normalization\", \"Attention Clusters: Purely Attention Based Local Feature Integration for Video Classification\", \"Fully Convolutional Networks for Semantic Segmentation\", \"Deep Photo Style Transfer\", \"Discriminability Objective for Training Descriptive Captions\", \"Efficient Deep Learning for Stereo Matching\", \"Non-Local Deep Features for Salient Object Detection\", \"Neural Baby Talk\", \"Unsupervised Video Summarization With Adversarial LSTM Networks\", \"PackNet: Adding Multiple Tasks to a Single Network by Iterative Pruning\", \"Boosting Domain Adaptation by Discovering Latent Domains\", \"On Human Motion Prediction Using Recurrent Neural Networks\", \"Transparency by Design: Closing the Gap Between Performance and Interpretability in Visual Reasoning\", \"Disentangled Person Image Generation\", \"Conditional Probability Models for Deep Image Compression\", \"Cross-Stitch Networks for Multi-Task Learning\", \"NAG: Network for Adversary Generation\", \"Beyond the Pixel-Wise Loss for Topology-Aware Delineation\", \"3D Bounding Box Estimation Using Deep Learning and Geometry\", \"Improved Fusion of Visual and Language Representations by Dense Symmetric Co-Attention for Visual Question Answering\", \"Human Pose Estimation With Parsing Induced Learner\", \"Video Frame Interpolation via Adaptive Convolution\", \"Learning Dual Convolutional Neural Networks for Low-Level Vision\", \"Towards Accurate Multi-Person Pose Estimation in the Wild\", \"Making Deep Neural Networks Robust to Label Noise: A Loss Correction Approach\", \"Jointly Optimize Data Augmentation and Network Training: Adversarial Data Augmentation in Human Pose Estimation\", \"Learning Latent Super-Events to Detect Multiple Activities in Videos\", \"Full-Resolution Residual Networks for Semantic Segmentation in Street Scenes\", \"Learning Pose Specific Representations by Predicting Different Views\", \"Generative Adversarial Perturbations\", \"PieAPP: Perceptual Image-Error Assessment Through Pairwise Preference\", \"Attentive Generative Adversarial Network for Raindrop Removal From a Single Image\", \"Few-Shot Image Recognition by Predicting Parameters From Activations\", \"Frustum PointNets for 3D Object Detection From RGB-D Data\", \"GeoNet: Geometric Neural Network for Joint Depth and Surface Normal Estimation\", \"Low-Shot Learning With Imprinted Weights\", \"PointNet: Deep Learning on Point Sets for 3D Classification and Segmentation\", \"Semi-Parametric Image Synthesis\", \"Top-Down Visual Saliency Guided by Captions\", \"Optical Flow Estimation Using a Spatial Pyramid Network\", \"Self-Critical Sequence Training for Image Captioning\", \"Cross-Domain Self-Supervised Multi-Task Feature Learning Using Synthetic Imagery\", \"End-To-End Instance Segmentation With Recurrent Attention\", \"Action Sets: Weakly Supervised Action Segmentation Without Ordering Constraints\", \"End-to-End Weakly-Supervised Semantic Alignment\", \"Real-World Repetition Estimation by Div, Grad and Curl\", \"Adversarially Learned One-Class Classifier for Novelty Detection\", \"Logo Synthesis and Manipulation With Clustered Generative Adversarial Networks\", \"Generate to Adapt: Aligning Domains Using Generative Adversarial Networks\", \"Learning From Synthetic Data: Addressing Domain Shift for Semantic Segmentation\", \"Avatar-Net: Multi-Scale Zero-Shot Style Transfer by Feature Decoration\", \"Weakly Supervised Dense Video Captioning\", \"Pixels, Voxels, and Views: A Study of Shape Representations for Single View 3D Object Shape Prediction\", \"Real-Time Single Image and Video Super-Resolution Using an Efficient Sub-Pixel Convolutional Neural Network\", \"Learning From Simulated and Unsupervised Images Through Adversarial Training\", \"Actor and Observer: Joint Modeling of First and Third-Person Videos\", \"Deep Metric Learning via Facility Location\", \"VITAL: VIsual Tracking via Adversarial Learning\", \"Cross-Modal Deep Variational Hand Pose Estimation\", \"Light Field Blind Motion Deblurring\", \"End-To-End People Detection in Crowded Scenes\", \"Pix3D: Dataset and Methods for Single-Image 3D Shape Modeling\", \"PWC-Net: CNNs for Optical Flow Using Pyramid, Warping, and Cost Volume\", \"Rethinking the Inception Architecture for Computer Vision\", \"Spatially-Adaptive Filter Units for Deep Neural Networks\", \"Image Super-Resolution via Deep Recursive Residual Network\", \"Multiple Instance Detection Network With Online Instance Classifier Refinement\", \"Multiple People Tracking by Lifted Multicut and Person Re-Identification\", \"Scale-Recurrent Network for Deep Image Deblurring\", \"Tangent Convolutions for Dense Prediction in 3D\", \"Real-Time Seamless Single Shot 6D Object Pose Prediction\", \"Two-Stream Convolutional Networks for Dynamic Texture Synthesis\", \"Full Resolution Image Compression With Recurrent Neural Networks\", \"Lifting From the Deep: Convolutional 3D Pose Estimation From a Single Image\", \"A Closer Look at Spatiotemporal Convolutions for Action Recognition\", \"Face Normals \\\"In-The-Wild\\\" Using Fully Convolutional Networks\", \"Learning to Adapt Structured Output Space for Semantic Segmentation\", \"Learning Shape Abstractions by Assembling Volumetric Primitives\", \"MoCoGAN: Decomposing Motion and Content for Video Generation\", \"Learning Superpixels With Segmentation-Aware Affinity Loss\", \"Adversarial Discriminative Domain Adaptation\", \"Deep Image Prior\", \"Deep Feature Interpolation for Image Content Changes\", \"PointNetVLAD: Deep Point Cloud Based Retrieval for Large-Scale Place Recognition\", \"Conditional Similarity Networks\", \"Neural Kinematic Networks for Unsupervised Motion Retargetting\", \"Show and Tell: A Neural Image Caption Generator\", \"Adversarial Feature Augmentation for Unsupervised Domain Adaptation\", \"Face Aging With Identity-Preserved Conditional Generative Adversarial Networks\", \"High-Resolution Image Synthesis and Semantic Manipulation With Conditional GANs\", \"Learning a Discriminative Filter Bank Within a CNN for Fine-Grained Recognition\", \"Multimodal Transfer: A Hierarchical Deep Convolutional Neural Network for Fast Artistic Style Transfer\", \"Repulsion Loss: Detecting Pedestrians in a Crowd\", \"Revisiting Video Saliency: A Large-Scale Benchmark and a New Model\", \"SGPN: Similarity Group Proposal Network for 3D Point Cloud Instance Segmentation\", \"Skeleton Key: Image Captioning by Skeleton-Attribute Decomposition\", \"Min-Entropy Latent Model for Weakly Supervised Object Detection\", \"Rethinking Feature Distribution for Loss Functions in Image Classification\", \"Bidirectional Retrieval Made Simple\", \"Convolutional Pose Machines\", \"Dense Human Body Correspondences Using Convolutional Networks\", \"Compressed Video Action Recognition\", \"Exploit the Unknown Gradually: One-Shot Video-Based Person Re-Identification by Stepwise Learning\", \"Quantized Convolutional Neural Networks for Mobile Devices\", \"Unsupervised Feature Learning via Non-Parametric Instance Discrimination\", \"Feature Generating Networks for Zero-Shot Learning\", \"Gibson Env: Real-World Perception for Embodied Agents\", \"Aggregated Residual Transformations for Deep Neural Networks\", \"Learning Descriptor Networks for 3D Shape Synthesis and Analysis\", \"Deep Texture Manifold for Ground Terrain Recognition\", \"AttnGAN: Fine-Grained Text to Image Generation With Attentional Generative Adversarial Networks\", \"Deep Image Matting\", \"Scene Graph Generation by Iterative Message Passing\", \"DenseASPP for Semantic Segmentation in Street Scenes\", \"Learning Face Age Progression: A Pyramid Architecture of GANs\", \"Neural Aggregation Network for Video Face Recognition\", \"Object Contour Detection With a Fully Convolutional Encoder-Decoder Network\", \"Robust Classification With Convolutional Prototype Learning\", \"Semantic Filtering\", \"GeoNet: Unsupervised Learning of Dense Depth, Optical Flow and Camera Pose\", \"Crafting a Toolchain for Image Restoration by Deep Reinforcement Learning\", \"Dilated Residual Networks\", \"Generative Image Inpainting With Contextual Attention\", \"MAttNet: Modular Attention Network for Referring Expression Comprehension\", \"PU-Net: Point Cloud Upsampling Network\", \"Video Paragraph Captioning Using Hierarchical Recurrent Neural Networks\", \"Learning to Promote Saliency Detectors\", \"S3Pool: Pooling With Stochastic Spatial Sampling\", \"Adversarial Complementary Learning for Weakly Supervised Object Localization\", \"Deep Mutual Learning\", \"Densely Connected Pyramid Dehazing Network\", \"Density-Aware Single Image De-Raining Using a Multi-Stream Dense Network\", \"Grounding Referring Expressions in Images by Variational Context\", \"ISTA-Net: Interpretable Optimization-Inspired Deep Network for Image Compressive Sensing\", \"Joint Pose and Expression Modeling for Facial Expression Recognition\", \"Learning a Deep Embedding Model for Zero-Shot Learning\", \"Residual Dense Network for Image Super-Resolution\", \"Single-Image Crowd Counting via Multi-Column Convolutional Neural Network\", \"The Unreasonable Effectiveness of Deep Features as a Perceptual Metric\", \"Unsupervised Discovery of Object Landmarks as Structural Representations\", \"Visual Translation Embedding Network for Visual Relation Detection\", \"Ring Loss: Convex Feature Normalization for Face Recognition\", \"EAST: An Efficient and Accurate Scene Text Detector\", \"Learning Deep Features for Discriminative Localization\", \"Learning Rich Features for Image Manipulation Detection\", \"Weakly Supervised Instance Segmentation Using Class Peak Response\", \"Fast Training of Triplet-Based Deep Binary Embedding Networks\", \"Towards Effective Low-Bitwidth Convolutional Neural Networks\", \"Learning Spatial Regularization With Image-Level Supervisions for Multi-Label Image Classification\", \"Learning Transferable Architectures for Scalable Image Recognition\", \"LayoutNet: Reconstructing the 3D Room Layout From a Single RGB Image\"], \"textfont\": {\"color\": \"#4D5663\"}, \"type\": \"scatter\", \"x\": [0.02026021814990417, -0.7061982964674682, -0.14750604602817485, -0.2381806934598787, 3.0698717880568713, 2.6336231275620428, -0.07077116420194529, 0.004745067093958595, -0.04051231027059532, -0.1271307970059986, -0.1442380354604869, 2.991712626349809, -0.131212835219826, -0.36264419997497055, -0.2416607279920398, 0.03910176526450562, -0.07651466168704946, 2.8494314701423673, -1.1860154425030083, -0.35736960307011534, -0.14750604602817485, 0.004745067093958595, 0.07209602781323239, 0.03910176526450562, -0.1762843654083004, -0.9191753231095077, 2.444179295294242, -0.2381806934598787, 3.4469926601750327, -0.06620064783002959, 2.266310665405707, 2.9002459363803235, -0.046170168126150234, 4.118548282596459, 3.9547752447529287, -0.3642788779233378, -0.0861381611323543, -0.8150105617417983, -1.0442222322487866, -0.14750604602817485, 4.084611186315199, 0.9691608380754252, -0.14750604602817485, 0.600581165091119, -0.5489281148925381, 0.06683029353876832, 2.6323713495783303, -0.21143049847625578, 3.2809013150838044, 3.506240117055571, 0.03337900245709864, -0.10647367734493975, -0.2411661288482704, 0.04730809253477326, 1.6701360039800917, 2.9933299803220277, 3.800950005746821, -0.04293121932553434, 4.051312772212836, 3.3745555886594243, 3.8275738752301884, 3.8070805692129746, -0.9400111549885977, 2.5343737299525575, -0.7393374432237794, 2.917081045449539, -0.9857017484496375, 3.606339661783144, -0.01704201566143723, -0.13594963207222224, 2.001328015456953, -0.4606454959470622, -0.3309966602665136, -0.15543669320200823, 0.06683029353876832, -0.07077116420194529, 0.09500613947501714, -0.6616837240414736, -0.13418769399807462, 0.01645679235299057, -0.452857006106618, 2.045908386598122, -0.347376732490528, -0.7558227007383259, -0.07026623271321304, 0.004328027360041772, -0.17180625558434823, -0.14750604602817485, -0.5697793731600607, -0.2437384598070647, 2.347616596287001, 3.055761950512386, 0.006696532863565847, -0.1354297355515032, -0.7653181744400545, -0.061319035470629724, -0.7594179911392881, -0.23327458552810731, 3.2519580379921087, 2.8608653460879707, 0.02026021814990417, -1.2346942135235721, -1.0783222912192236, 0.147930694804324, -0.02091277473540394, 0.20149574692849095, -0.22938839317711004, -0.3732137896337124, -0.18469721121181895, -0.15528919635313457, 2.676525248829858, -0.1760894762974367, -0.35344358330601805, -0.563162647902382, -1.098674046482216, 0.08745721240119426, 3.2447906186756046, -0.3546892409391621, -0.22186746621507064, 0.13478996103767935, 0.04288438633351223, 3.3217895632918806, -0.8012825246422837, -0.14750604602817485, -1.3834895093580344, -0.01704201566143723, 0.059011758270489496, 1.3559115405654887, 0.06680683641200748, 2.4313456291887885, 2.8581698520777854, 0.004745067093958595, 0.02026021814990417, -0.1271307970059986, 2.953852635505382, -0.3546892409391621, 3.633842072287606, -0.7655027601371246, -0.05862833028196361, -0.9096536046383623, 1.365917362327876, -0.034154059229451285, 3.4447446417475667, 0.14343405166694742, -0.21946149977021598, -0.013316438225574418, -0.02091277473540394, -0.7228259804024335, -0.3084315659350801, -0.3606140308865592, -0.26303504069754197, -0.009270558418466362, 2.2877895988540473, 3.88061206623398, -0.07077116420194529, -0.6519640993291806, -0.6942979037328703, 2.912007218341286, 3.368136885832581, -0.6689599484590318, -0.020925089046980778, 0.0697716974798021, -0.12784413574656886, -0.13382335711141383, -0.8076373526167748, -0.07077116420194529, 0.17164225123996454, -0.13634013093948677, -1.1532041226303642, 0.05198599094569849, 0.02026021814990417, -0.061319035470629724, 3.7566867523827883, -0.20216700062014012, -1.0050013347773927, 0.1375554187098326, 0.014419935096876455, -0.4352884155340677, -0.12951158477431743, -0.9818601468491119, -0.4482125557876206, -0.3604245589077663, 0.0069556056068941375, -0.4589566531524345, -0.043974606103792904, 3.0105471533345174, -0.05862833028196361, 3.445009623332404, -0.9115332129553998, -0.02091277473540394, 1.9813936260661331, 2.829215454650759, -1.1070153154961078, 9.550165181735101, 2.4016313024519795, -0.46306471816871564, 3.7367284688207283, 0.13881085431233597, -1.3074170782822745, -0.482846378314578, 0.02026021814990417, 2.5112127059242386, 2.743421736831558, -0.07077116420194529, 0.20149574692849095, 2.530240566130495, 0.06683029353876832, -0.10994434823329931, -1.0547503057186616, -0.8773322561156645, -0.3077624004454994, -0.961703414953459, 2.2359091592541116, -0.01999353898354562, -0.05809594896378699, -0.247733346481224, -0.247733346481224, -0.08752688643952364, -0.9311822260877058, -0.2516869401182815, 3.6031109312043323, -0.13418769399807462, -1.0315911586760673, -0.03251281544925023, -0.009270558418466362, -0.18781781073145765, 0.02026021814990417, -0.14750604602817485, -0.36751768252095723, 3.7261756337569625, -0.4549557550557603, 2.188722053989928, -0.25688405574919015, 0.010618308562983236, 3.5206787709369247, 3.0708542381169064, 0.03682417319818281, -0.02091277473540394, -0.615946696278469, -0.588019616900876, -0.13418769399807462, -1.0660681796404274, -0.14750604602817485, 4.0140118617244624, -0.45087183366793815, 3.1410722952432097, -0.14750604602817485, -0.6050653880868647, -0.008649222511129052, -0.08260619355310586, -0.838198309656957, 3.2817124272746505, -0.5605536961360433, 3.6910001064567948, -0.247733346481224, -0.06620064783002959, -0.03841427751661006, -0.1042591827764983, -0.9790518873447818, -0.13418769399807462, -0.2683695766575707, -0.2416607279920398, -0.6607409230219163, -0.3215846456216231, 3.525994158680404, -0.11995269538656568, -0.10114278848028839, 0.059011758270489496, 0.027214946622963518, 0.11571758247256696, -0.03281736817452156, -0.10381537986633081, -0.134071538736717], \"y\": [0.22155782932462972, 0.2232130373276012, 0.5753301650723627, 0.5692070886177079, -0.7453743159129936, -0.583047087722618, 0.20604637559587824, 0.1900811354737758, 0.4818191901295321, 0.5011786852204291, 0.20877163131286572, -0.33620211826210405, 0.5155196546876787, 0.6133579746096898, 0.5280834682051788, 0.10104249501751852, 0.026036001279080186, -0.6646351243519477, -0.303612709591033, 0.31915994031541417, 0.5753301650723627, 0.1900811354737758, 0.08063385891258536, 0.10104249501751852, -0.10137804783643949, -0.44706508368060205, 2.6477033929836336, 0.5692070886177079, -0.29747128893737496, 0.501857846235385, -2.147107225891107, -0.3705037723674432, 0.46023985029195486, -0.47240680995208506, 0.1530707504797038, -0.10112801756173202, -0.1504075608498021, 0.15810195270829244, -0.02519132793675576, 0.5753301650723627, -0.192274296416165, -2.5147606508692872, 0.5753301650723627, -0.15002550238438683, -0.2179101066159459, 0.11253636169317473, -1.134728255874098, 0.034368852375224045, -1.0767251762090762, 1.2463345894543245, -0.017146822118499966, 0.4833263159416303, 0.6829963627399235, 0.4326770103225066, 3.2307197652149267, -0.5074958800254861, 0.31404744539234064, 0.5063936065460367, -0.3601141777033954, -0.25076190530391745, -0.12667762850859096, -1.7883375236518186, -0.14886704043189153, 4.904018558814419, 0.1365331453629181, -1.2063973742266043, -0.40976824923465593, 0.08537707504875551, 0.548956553220084, 0.5686569811652842, -0.9465861598098781, 0.17469348719117125, 0.2885471535271257, -0.39231842493845026, 0.11253636169317473, 0.20604637559587824, 0.3232213730853676, -0.29228464959851186, 0.7295368285730023, 0.20580129086012283, 0.5558965891339425, -0.972113448889882, 0.18645838620680483, -0.37893933414435205, 0.39730407715944005, 0.412942280185649, 0.6451471372313201, 0.5753301650723627, 0.5765946126380808, 0.7620592473916549, -0.3995922729375505, -0.29621862946778654, 0.35103397207311743, -0.49752950155971576, -0.4181426043008055, 0.19618672439872561, 0.08291442895793047, 0.7405912266042162, -0.5632901269758949, -0.27193351446704517, 0.22155782932462972, -0.4173302012748213, -0.19304469505084007, -0.03716450506399533, 0.4927022266374495, 0.07188951192212709, 0.45469627052525996, -0.1738879949720904, 0.7021178014062854, 0.16926939140688074, -1.2008759642605542, 0.5089636763283076, 0.4505612013867856, 0.31128393340633453, -0.6440605440878339, 0.10940696961063864, -0.520834149409242, 0.5816516183289513, 0.13284082991603377, 0.17233951041240522, 0.6764548200713746, 0.5194927899645982, -0.16792785890704723, 0.5753301650723627, -0.4709551527157216, 0.548956553220084, 0.15859985490391057, 6.372744848680095, 0.40133455260159684, -0.36410880326329603, -0.5177568366652345, 0.1900811354737758, 0.22155782932462972, 0.5011786852204291, -0.01966121694708833, 0.5816516183289513, 0.10510091836216967, -0.43924215599078303, 0.5820273441127943, -0.4419820391985823, 1.0654895711470933, 0.09440339462875683, -0.3553161673758752, 0.14157354818411025, -0.3860191659101694, 0.055646636804412446, 0.4927022266374495, -0.31138001526713854, 0.0007303486917875948, 0.47461096941407793, 0.006890339499246501, 0.3795689283176396, -4.779697482953934, 0.01933326331601158, 0.20604637559587824, 0.32499679124996206, -0.11803805212456095, -0.7211504436940703, -0.8680566827603474, 0.12080794267066959, 0.571995821716786, 0.11378715902278828, 0.5146863328941778, 0.6143342511650666, -0.37693587574873094, 0.20604637559587824, -0.07060042451442153, 0.35314821254747614, -0.2778569303859656, 0.4917976507907759, 0.22155782932462972, 0.19618672439872561, 0.795314417761554, 0.47740909845666424, -0.3920894021773876, 0.22321512687489875, 0.3775327944884495, -0.03369493932756814, 0.4597475736276653, -0.23724686803351483, 0.558276150725846, 0.5013981709993793, 0.3890988691153909, 0.42856491696073207, 0.10134222412276804, 1.6202524001183456, 0.5820273441127943, -0.3870861002808525, -0.38878794239273073, 0.4927022266374495, 0.9628573274610901, -0.5640231431829951, -0.2743126090899659, -2.273175571608102, 3.9935772491055204, 0.37166279492983456, 0.009889083415221728, 0.5351315083312136, -0.3412250611775672, -0.38963230983398384, 0.22155782932462972, -1.120893164988036, -0.2977501759709754, 0.20604637559587824, 0.07188951192212709, 8.534569254951386, 0.11253636169317473, 0.5128868825680104, -0.3863130669566875, 0.25649173957946136, 0.5880146851761557, -0.026485149456491906, -2.3426586766985498, 0.3956078418344493, 0.16761576874441117, 0.5785867382810567, 0.5785867382810567, 0.46235378406952937, -0.17135493250042247, -0.08860244279000525, -0.5321041642243387, 0.7295368285730023, -0.04475255744085071, 0.45421657176983476, 0.3795689283176396, 0.7380756737381726, 0.22155782932462972, 0.5753301650723627, 0.4645965963461652, -0.07749157545336485, 0.5553579341317616, -0.6167820242573762, 0.07201798114208237, 0.47382973189247507, -0.48324767638982224, -0.4117134130894793, 0.1431476233840104, 0.4927022266374495, 0.3196388860990463, -0.20645766523474318, 0.7295368285730023, -0.18640658473009128, 0.5753301650723627, -0.29024286991328746, 0.3160604801404684, -0.3422953274811951, 0.5753301650723627, 0.4331387376312503, 0.062366068362533, 0.3805355479549713, -0.11611934273562857, 9.277032274662508, 0.1317904469318259, -0.4434917953078615, 0.5785867382810567, 0.501857846235385, 0.5577827145444679, 0.48282636833094, -0.37755057722881175, 0.7295368285730023, 0.5843606652175353, 0.5280834682051788, -0.23531827882530829, 0.6158875593599056, -0.24083326170692942, 0.7481219457678128, 0.6131975378438679, 0.15859985490391057, 0.3425830434139643, 0.35481576164976597, 0.4047134405460695, 0.3478502638135167, 0.30805724718032734]}, {\"marker\": {\"color\": \"rgba(128, 0, 128, 1.0)\", \"line\": {\"width\": 1.3}, \"opacity\": 0.8, \"size\": 12, \"symbol\": \"circle\"}, \"mode\": \"markers\", \"name\": \"ICML\", \"text\": [\"OptNet: Differentiable Optimization as a Layer in Neural Networks\", \"Input Convex Neural Networks\", \"Wasserstein Generative Adversarial Networks\", \"Synthesizing Robust Adversarial Examples\", \"Differentially Private Database Release via Kernel Mean Embeddings\", \"Optimizing the Latent Space of Generative Networks\", \"NetGAN: Generating Graphs via Random Walks\", \"Compressed Sensing using Generative Models\", \"Predict and Constrain: Modeling Cardinality in Deep Structured Prediction\", \"Path-Level Network Transformation for Efficient Architecture Search\", \"Adversarial Learning with Local Coordinate Coding\", \"Adversarial Time-to-Event Modeling\", \"Learning K-way D-dimensional Discrete Codes for Compact Embedding Representations\", \"DRACO: Byzantine-resilient Distributed Training via Redundant Gradients\", \"AdaNet: Adaptive Structural Learning of Artificial Neural Networks\", \"Inference Suboptimality in Variational Autoencoders\", \"Stochastic Generative Hashing\", \"Adversarial Attack on Graph Structured Data\", \"Language Modeling with Gated Convolutional Networks\", \"Stochastic Video Generation with a Learned Prior\", \"Dance Dance Convolution\", \"Model-Agnostic Meta-Learning for Fast Adaptation of Deep Networks\", \"Input Switched Affine Networks: An RNN Architecture Designed for Interpretability\", \"Bilevel Programming for Hyperparameter Optimization and Meta-Learning\", \"Convolutional Sequence to Sequence Learning\", \"Visualizing and Understanding Atari Agents\", \"On Calibration of Modern Neural Networks\", \"DeepBach: a Steerable Model for Bach Chorales Generation\", \"Learning unknown ODE models with Gaussian processes\", \"Toward Controlled Generation of Text\", \"Neural Autoregressive Flows\", \"Decoupled Parallel Backpropagation with Convergence Guarantee\", \"Attention-based Deep Multiple Instance Learning\", \"Black-box Adversarial Attacks with Limited Queries and Information\", \"Decoupled Neural Interfaces using Synthetic Gradients\", \"Efficient end-to-end learning for quantizable representations\", \"Composite Functional Gradient Learning of Generative  Adversarial Models\", \"Video Pixel Networks\", \"Efficient Neural Audio Synthesis\", \"Learning to Discover Cross-Domain Relations with Generative Adversarial Networks\", \"SplitNet: Learning to Semantically Split Deep Networks for Parameter Reduction and Model Parallelization\", \"Disentangling by Factorising\", \"Neural Relational Inference for Interacting Systems\", \"Grammar Variational Autoencoder\", \"Deep Spectral Clustering Learning\", \"Hierarchical Imitation and Reinforcement Learning\", \"Confident Multiple Choice Learning\", \"Gated Path Planning Networks\", \"Noise2Noise: Learning Image Restoration without Clean Data\", \"Dropout Inference in Bayesian Neural Networks with Alpha-divergences\", \"Explicit Inductive Bias for Transfer Learning with Convolutional Networks\", \"Towards Binary-Valued Gates for Robust LSTM Training\", \"Zero-Inflated Exponential Family Embeddings\", \"Dimensionality-Driven Learning with Noisy Labels\", \"Adversarial Variational Bayes: Unifying Variational Autoencoders and Generative Adversarial Networks\", \"Device Placement Optimization with Reinforcement Learning\", \"SparseMAP: Differentiable Sparse Structured Inference\", \"A Theoretical Explanation for Perplexing Behaviors of Backpropagation-based Visualizations\", \"The Statistical Recurrent Unit\", \"Count-Based Exploration with Neural Density Models\", \"Efficient Neural Architecture Search via Parameters Sharing\", \"Robust Adversarial Reinforcement Learning\", \"Neural Episodic Control\", \"Online and Linear-Time Attention by Enforcing Monotonic Alignments\", \"Learning to Reweight Examples for Robust Deep Learning\", \"Deep One-Class Classification\", \"First Order Generative Adversarial Networks\", \"Finding Influential Training Samples for Gradient Boosted Decision Trees\", \"A Spectral Approach to Gradient Estimation for Implicit Distributions\", \"Bottleneck Conditional Density Estimation\", \"Attentive Recurrent Comparators\", \"The Predictron:  End-To-End Learning and Planning\", \"Accelerating Natural Gradient with Higher-Order Invariance\", \"Exploiting the Potential of Standard Convolutional Autoencoders for Image Restoration by Evolutionary Search\", \"Neural Program Synthesis from Diverse Demonstration Videos\", \"Differentiable Compositional Kernel Learning for Gaussian Processes\", \"Axiomatic Attribution for Deep Networks\", \"Black Box FDR\", \"Learning Longer-term Dependencies in RNNs with Auxiliary Losses\", \"The Mirage of Action-Dependent Baselines in Reinforcement Learning\", \"Learning to Generate Long-term Future via Hierarchical Prediction\", \"PredRNN++: Towards A Resolution of the Deep-in-Time Dilemma in Spatiotemporal Predictive Learning\", \"Style Tokens: Unsupervised Style Modeling, Control and Transfer in End-to-End Speech Synthesis\", \"Transfer Learning via Learning to Transfer\", \"Hierarchical Long-term Video Prediction without Supervision\", \"Variance Regularized Counterfactual Risk Minimization via Variational Divergence Minimization\", \"Deep k-Means: Re-Training and Parameter Sharing with Harder Cluster Assignments for Compressing Deep Convolutions\", \"Learning Semantic Representations for Unsupervised Domain Adaptation\", \"Improved Variational Autoencoders for Text Modeling using Dilated Convolutions\", \"Mean Field Multi-Agent Reinforcement Learning\", \"Combined Group and Exclusive Sparsity for Deep Neural Networks\", \"GraphRNN: Generating Realistic Graphs with Deep Auto-regressive Models\", \"Continual Learning Through Synaptic Intelligence\", \"Adversarial Feature Matching for Text Generation\", \"Convexified Convolutional Neural Networks\", \"Noisy Natural Gradient as Variational Inference\", \"Follow the Moving Leader in Deep Learning\", \"Recurrent Highway Networks\"], \"textfont\": {\"color\": \"#4D5663\"}, \"type\": \"scatter\", \"x\": [-0.4706501090926893, 0.7555530752329175, -0.28335714548845414, -0.4603894769908771, -0.9000618158869296, -0.7136859186220033, -1.0830059999589134, -1.006762470990435, 0.45373838177254683, 0.9435793467710528, -1.043342373945509, -1.2788655899510581, -0.9401726073664004, -1.1057369596173983, -0.6267639534196617, -0.5860544887298255, -1.160875862870957, -1.27950277162241, -1.1190645390735574, -1.0358740517899336, 3.2733311855233773, -1.288120224577994, -0.8220731336591395, -1.075641062560898, -1.040811300324402, -0.900840355861676, -0.692023044455922, -0.5708011346126707, -0.7897184108024734, -0.762174021252652, -0.9987679110393743, -0.9810039492380711, -0.8644527020627861, -0.3616567084594143, -0.9075729139306762, -0.8530328608567145, -1.1256974105947517, 1.7932305227391634, -1.1239206554961796, -0.7780356412393373, -1.1738027536211333, -0.28779646876880277, -1.3102215085798647, -1.4312436048027213, -0.7103031169850902, -1.1060625735769634, -0.5416043551994327, -1.1067546822595118, -0.8021248765508376, -0.9271560702905234, -1.0463968730377862, -0.9958582709019245, -0.6245053071423388, -0.9450588562129193, -1.2163471789041647, 2.117694641913003, -0.8368483224357203, -1.0132264249550509, -0.7747208102229339, -0.24276611831204348, 3.229455799483028, -1.4531077376921817, -0.9043672973016048, -0.6668061770174117, -1.1221576857393498, -0.9667054948239092, -0.5339333645246541, -1.1124539429432279, -1.1547112419596746, -1.3854891160535379, 3.164481373976828, -0.6059427023777304, -1.387497783429978, 1.5176547829320175, -0.7071125658675811, -0.8332544992251836, -0.8702052846242234, -0.64392050777014, -1.102430466255161, -0.9755781521607577, -0.9210759944640571, -1.1053150979904207, 3.5614336733928793, -0.8046301991320484, -0.7196818653639226, -1.2099634858328971, -0.5254695882745755, -1.0770304438014324, -0.7357799847113758, -1.2012620663879958, -0.719281339652768, -0.598887110219384, -0.7899211227181525, -1.0065096650017802, -1.1523879085060325, -1.4544269066133053, -0.33257172391727213, -1.0575049552891382], \"y\": [-0.09809819990474329, -2.5135855303378083, 0.27302993265049513, 0.4531133065093486, -0.26313015267278544, -0.5676371265333985, -0.18273431828946968, -0.19220515158099605, 4.4685294262581134, -2.627578760198667, -0.2544094943910037, -0.19551973219515323, -0.026783389353235716, -0.11994011067713978, -0.3608341924687539, -0.10082827477325557, -0.1313107957687257, -0.3093041045814087, -0.03847780657753291, -0.039431449952529916, -1.396996844897403, -0.39690899290370646, 0.07896121341912969, 0.0995861213620085, -0.6008259187722234, 0.06217557704913653, -0.29814116289468146, -0.11849739428686823, 0.19858675735415593, -0.3108880618452709, -0.29060375704983216, -0.6051648989813404, -0.4686397984361134, 0.031349981366126635, -0.26550201664465367, -0.4330170012495276, -0.019241950699438664, 1.3069356061618733, -0.18065778656684814, -0.37518780383635714, -0.549550923901043, 0.07616231431824208, -0.3935637776970162, -0.5175318354084214, -0.17884008007335003, 0.08565137875872836, -0.5779816342235156, -0.4331685116574233, 0.18123590541349582, -0.29679945760608917, 0.09500852287875597, -0.25541194150124635, 0.21318896042115199, -0.23387104712448015, -0.28206016465662953, -0.9801562544942837, -0.5993299956115756, -0.358580802830212, -0.21558669260379706, 0.1956468664289279, -1.5687767216809365, -0.2060688699108455, -0.14370358186990032, -0.8638105999377067, -0.7200157289685352, -0.6107145422800787, 0.04347098058168334, -0.03939235570679227, -0.25810349862100535, -0.3239497376014204, -0.7825781827670826, 0.18556143732223684, -0.3441642451380964, -2.69581525973422, -0.11538325905700914, -0.3925870551139528, -0.11172386304251718, -0.060356867101609875, -0.4070515279875155, -0.25596210498593397, -0.035599615900318356, -0.1886891808069157, -0.5157375350654108, 0.30479929547336865, 0.29568285097317154, -0.36156900862167785, -0.6352778140326908, -0.10462643242718714, -0.06101176519903755, -0.3585412073058816, 0.04899779691080089, -0.09494263789199509, 0.010625266677764861, -0.9166327953519324, -0.4435128949225714, -0.4500193390060336, 0.37842353785554905, -0.23829882215769052]}, {\"marker\": {\"color\": \"rgba(219, 64, 82, 1.0)\", \"line\": {\"width\": 1.3}, \"opacity\": 0.8, \"size\": 12, \"symbol\": \"circle\"}, \"mode\": \"markers\", \"name\": \"ICCV\", \"text\": [\"VQA: Visual Question Answering\", \"CVAE-GAN: Fine-Grained Image Generation Through Asymmetric Training\", \"Convolutional Color Constancy\", \"Deep TextSpotter: An End-To-End Trainable Scene Text Localization and Recognition Framework\", \"SubUNets: End-To-End Hand Shape and Continuous Sign Language Recognition\", \"HashNet: Deep Learning to Hash by Continuation\", \"Deep Adaptive Image Clustering\", \"Deep Colorization\", \"Photographic Image Synthesis With Cascaded Refinement Networks\", \"Query-Guided Regression Network With Context Policy for Phrase Grounding\", \"Pixel Recursive Super Resolution\", \"Deformable Convolutional Networks\", \"Attributes2Classname: A Discriminative Model for Attribute-Based Unsupervised Zero-Shot Learning\", \"RPAN: An End-To-End Recurrent Pose-Attention Network for Action Recognition in Videos\", \"BlitzNet: A Real-Time Deep Network for Scene Understanding\", \"Predicting Depth, Surface Normals and Semantic Labels With a Common Multi-Scale Convolutional Architecture\", \"Interpretable Explanations of Black Boxes by Meaningful Perturbation\", \"Single Image 3D Without a Single 3D Image\", \"Associative Domain Adaptation\", \"Automatic Spatially-Aware Fashion Concept Discovery\", \"Mask R-CNN\", \"Beyond Face Rotation: Global and Local Perception GAN for Photorealistic and Identity Preserving Frontal View Synthesis\", \"Wavelet-SRNet: A Wavelet-Based CNN for Multi-Scale Face Super Resolution\", \"Learning to Reason: End-To-End Module Networks for Visual Question Answering\", \"DSLR-Quality Photos on Mobile Devices With Deep Convolutional Networks\", \"PoseNet: A Convolutional Network for Real-Time 6-DOF Camera Relocalization\", \"Escape From Cells: Deep Kd-Networks for the Recognition of 3D Point Cloud Models\", \"Learning to Push the Limits of Efficient FFT-Based Image Deconvolution\", \"Introspective Neural Networks for Generative Modeling\", \"RoomNet: End-To-End Room Layout Estimation\", \"Learning Efficient Convolutional Networks Through Network Slimming\", \"Raster-To-Vector: Revisiting Floorplan Transformation\", \"Rotation Equivariant Vector Field Networks\", \"Attentive Semantic Video Generation Using Captions\", \"Domain-Adaptive Deep Network Compression\", \"Learning Proximal Operators: Using Denoising Networks for Regularizing Inverse Imaging Problems\", \"Curriculum Dropout\", \"No Fuss Distance Metric Learning Using Proxies\", \"Video Frame Interpolation via Adaptive Separable Convolution\", \"Representation Learning by Learning to Count\", \"GANs for Biological Image Synthesis\", \"Following Gaze in Video\", \"EnhanceNet: Single Image Super-Resolution Through Automated Texture Synthesis\", \"Grad-CAM: Visual Explanations From Deep Networks via Gradient-Based Localization\", \"DSOD: Learning Deeply Supervised Object Detectors From Scratch\", \"Incremental Learning of Object Detectors Without Catastrophic Forgetting\", \"Hide-And-Seek: Forcing a Network to Be Meticulous for Weakly-Supervised Object and Action Localization\", \"Face Flow\", \"Multi-View Convolutional Neural Networks for 3D Shape Recognition\", \"Reasoning About Fine-Grained Attribute Phrases Using Reference Games\", \"Click Here: Human-Localized Keypoints as Guidance for Viewpoint Estimation\", \"MemNet: A Persistent Memory Network for Image Restoration\", \"Unsupervised Learning of Object Landmarks by Factorized Spatial Embeddings\", \"Image Super-Resolution Using Dense Skip Connections\", \"Unsupervised Adaptation for Deep Stereo\", \"Simultaneous Deep Transfer Across Domains and Tasks\", \"Sequence to Sequence - Video to Text\", \"Revisiting IM2GPS in the Deep Learning Era\", \"Multi-Label Image Recognition by Recurrently Discovering Attentional Regions\", \"Learning Blind Motion Deblurring\", \"Self-Organized Text Detection With Minimal Post-Processing via Border Learning\", \"Curriculum Domain Adaptation for Semantic Segmentation of Urban Scenes\", \"Learning Spread-Out Local Feature Descriptors\", \"Conditional Random Fields as Recurrent Neural Networks\", \"Unlabeled Samples Generated by GAN Improve the Person Re-Identification Baseline in Vitro\"], \"textfont\": {\"color\": \"#4D5663\"}, \"type\": \"scatter\", \"x\": [-0.6744029415732271, -0.19043705594394092, -0.9085717278105803, 1.6300358635168433, 3.1649724415458462, 0.25124719906360826, -0.8270584611313075, -0.036169503006077595, -0.3537342985307171, 2.957844720716126, -0.0812612314229359, -0.05782029110922891, -0.3313078184021143, -1.2807360908686225, -0.0812612314229359, -0.2241874322705988, -0.08197236585306342, -0.13897590962830175, -0.7475324062961803, -0.07223485414393598, -0.4380805003911958, -0.19043705594394092, 2.2661302631259654, 3.192009676580422, 2.5032229839520816, -0.5693634858062195, -0.27271992160288266, -0.0812612314229359, -0.24451728631679787, -0.0767919039865948, 2.246470960840569, 0.025794381337101064, 0.1448213475445743, 3.3413577921909092, 0.009894970946198307, 0.009894970946198307, 0.046268679922508764, -0.2414663352323788, 0.1565138039986157, -0.0812612314229359, 2.873523850980741, -0.5045036604309929, -0.38233506679354284, -0.19043705594394092, 0.01513308464082168, 0.04438781824056835, -0.8271840258598987, -0.9068754454231082, -0.3230417995176278, -0.17894357024245622, -0.0812612314229359, 2.881003489097042, -0.7102587869963811, -0.0812612314229359, -0.7870213457998415, 3.3264908390006456, 2.288888055803311, 2.9114509294258015, -0.0289028728360484, -0.6750278728318672, -0.16976690068660952, 0.8372579451706577, -0.18290332123522376, -0.3230417995176278, 1.0568294082861014], \"y\": [0.429713582140732, 0.5493004435454673, 0.21735886513888109, 2.0862047329856437, -1.6453123177661924, -0.15537016654405433, -0.43401252549834085, 0.4004618544556182, 0.20491345108405154, 3.2946870699423245, 0.5384404403845632, -0.4458936542937637, 0.5162991798484012, -0.6044673362364328, 0.5384404403845632, 0.7770277694935377, 0.11732534072414527, 0.6838894246556677, 0.12243303459257471, 0.48648988036204166, 0.16787315408644052, 0.5493004435454673, -1.045879149366115, -0.36772242947403533, -1.705436122552509, 0.34669838784625345, 0.07967517119531692, 0.5384404403845632, -0.2180768004365816, 0.3270355139449003, -1.0152285008652666, 0.04490335069621816, 0.0797011944634234, -0.1949884778617188, 0.4584792957349157, 0.4584792957349157, 0.4073954846348474, 0.00040733989458736013, 0.1054819977518336, 0.5384404403845632, -0.8217944144795826, -0.15965110721677234, 0.24806844551257784, 0.5493004435454673, 0.5170577774744903, 0.4003706513853672, 0.6676618394294218, 0.062319507389173016, 0.7886972157025381, 0.5382147647857427, 0.5384404403845632, -1.6461461834063942, -0.26207094693023314, 0.5384404403845632, -0.038136694417228494, -0.3448435380149347, 5.418877220879357, -0.4553728133711036, 0.30147654263214435, -0.16947026430905357, 0.531509719966515, 0.45004783628664935, 0.49918922801511423, 0.7886972157025381, -1.8772120974200392]}],\n",
       "                        {\"legend\": {\"bgcolor\": \"#F5F6F9\", \"font\": {\"color\": \"#4D5663\"}}, \"paper_bgcolor\": \"#F5F6F9\", \"plot_bgcolor\": \"#F5F6F9\", \"template\": {\"data\": {\"bar\": [{\"error_x\": {\"color\": \"#2a3f5f\"}, \"error_y\": {\"color\": \"#2a3f5f\"}, \"marker\": {\"line\": {\"color\": \"#E5ECF6\", \"width\": 0.5}}, \"type\": \"bar\"}], \"barpolar\": [{\"marker\": {\"line\": {\"color\": \"#E5ECF6\", \"width\": 0.5}}, \"type\": \"barpolar\"}], \"carpet\": [{\"aaxis\": {\"endlinecolor\": \"#2a3f5f\", \"gridcolor\": \"white\", \"linecolor\": \"white\", \"minorgridcolor\": \"white\", \"startlinecolor\": \"#2a3f5f\"}, \"baxis\": {\"endlinecolor\": \"#2a3f5f\", \"gridcolor\": \"white\", \"linecolor\": \"white\", \"minorgridcolor\": \"white\", \"startlinecolor\": \"#2a3f5f\"}, \"type\": \"carpet\"}], \"choropleth\": [{\"colorbar\": {\"outlinewidth\": 0, \"ticks\": \"\"}, \"type\": \"choropleth\"}], \"contour\": [{\"colorbar\": {\"outlinewidth\": 0, \"ticks\": \"\"}, \"colorscale\": [[0.0, \"#0d0887\"], [0.1111111111111111, \"#46039f\"], [0.2222222222222222, \"#7201a8\"], [0.3333333333333333, \"#9c179e\"], [0.4444444444444444, \"#bd3786\"], [0.5555555555555556, \"#d8576b\"], [0.6666666666666666, \"#ed7953\"], [0.7777777777777778, \"#fb9f3a\"], [0.8888888888888888, \"#fdca26\"], [1.0, \"#f0f921\"]], \"type\": \"contour\"}], \"contourcarpet\": [{\"colorbar\": {\"outlinewidth\": 0, \"ticks\": \"\"}, \"type\": \"contourcarpet\"}], \"heatmap\": [{\"colorbar\": {\"outlinewidth\": 0, \"ticks\": \"\"}, \"colorscale\": [[0.0, \"#0d0887\"], [0.1111111111111111, \"#46039f\"], [0.2222222222222222, \"#7201a8\"], [0.3333333333333333, \"#9c179e\"], [0.4444444444444444, \"#bd3786\"], [0.5555555555555556, \"#d8576b\"], [0.6666666666666666, \"#ed7953\"], [0.7777777777777778, \"#fb9f3a\"], [0.8888888888888888, \"#fdca26\"], [1.0, \"#f0f921\"]], \"type\": \"heatmap\"}], \"heatmapgl\": [{\"colorbar\": {\"outlinewidth\": 0, \"ticks\": \"\"}, \"colorscale\": [[0.0, \"#0d0887\"], [0.1111111111111111, \"#46039f\"], [0.2222222222222222, \"#7201a8\"], [0.3333333333333333, \"#9c179e\"], [0.4444444444444444, \"#bd3786\"], [0.5555555555555556, \"#d8576b\"], [0.6666666666666666, \"#ed7953\"], [0.7777777777777778, \"#fb9f3a\"], [0.8888888888888888, \"#fdca26\"], [1.0, \"#f0f921\"]], \"type\": \"heatmapgl\"}], \"histogram\": [{\"marker\": {\"colorbar\": {\"outlinewidth\": 0, \"ticks\": \"\"}}, \"type\": \"histogram\"}], \"histogram2d\": [{\"colorbar\": {\"outlinewidth\": 0, \"ticks\": \"\"}, \"colorscale\": [[0.0, \"#0d0887\"], [0.1111111111111111, \"#46039f\"], [0.2222222222222222, \"#7201a8\"], [0.3333333333333333, \"#9c179e\"], [0.4444444444444444, \"#bd3786\"], [0.5555555555555556, \"#d8576b\"], [0.6666666666666666, \"#ed7953\"], [0.7777777777777778, \"#fb9f3a\"], [0.8888888888888888, \"#fdca26\"], [1.0, \"#f0f921\"]], \"type\": \"histogram2d\"}], \"histogram2dcontour\": [{\"colorbar\": {\"outlinewidth\": 0, \"ticks\": \"\"}, \"colorscale\": [[0.0, \"#0d0887\"], [0.1111111111111111, \"#46039f\"], [0.2222222222222222, \"#7201a8\"], [0.3333333333333333, \"#9c179e\"], [0.4444444444444444, \"#bd3786\"], [0.5555555555555556, \"#d8576b\"], [0.6666666666666666, \"#ed7953\"], [0.7777777777777778, \"#fb9f3a\"], [0.8888888888888888, \"#fdca26\"], [1.0, \"#f0f921\"]], \"type\": \"histogram2dcontour\"}], \"mesh3d\": [{\"colorbar\": {\"outlinewidth\": 0, \"ticks\": \"\"}, \"type\": \"mesh3d\"}], \"parcoords\": [{\"line\": {\"colorbar\": {\"outlinewidth\": 0, \"ticks\": \"\"}}, \"type\": \"parcoords\"}], \"pie\": [{\"automargin\": true, \"type\": \"pie\"}], \"scatter\": [{\"marker\": {\"colorbar\": {\"outlinewidth\": 0, \"ticks\": \"\"}}, \"type\": \"scatter\"}], \"scatter3d\": [{\"line\": {\"colorbar\": {\"outlinewidth\": 0, \"ticks\": \"\"}}, \"marker\": {\"colorbar\": {\"outlinewidth\": 0, \"ticks\": \"\"}}, \"type\": \"scatter3d\"}], \"scattercarpet\": [{\"marker\": {\"colorbar\": {\"outlinewidth\": 0, \"ticks\": \"\"}}, \"type\": \"scattercarpet\"}], \"scattergeo\": [{\"marker\": {\"colorbar\": {\"outlinewidth\": 0, \"ticks\": \"\"}}, \"type\": \"scattergeo\"}], \"scattergl\": [{\"marker\": {\"colorbar\": {\"outlinewidth\": 0, \"ticks\": \"\"}}, \"type\": \"scattergl\"}], \"scattermapbox\": [{\"marker\": {\"colorbar\": {\"outlinewidth\": 0, \"ticks\": \"\"}}, \"type\": \"scattermapbox\"}], \"scatterpolar\": [{\"marker\": {\"colorbar\": {\"outlinewidth\": 0, \"ticks\": \"\"}}, \"type\": \"scatterpolar\"}], \"scatterpolargl\": [{\"marker\": {\"colorbar\": {\"outlinewidth\": 0, \"ticks\": \"\"}}, \"type\": \"scatterpolargl\"}], \"scatterternary\": [{\"marker\": {\"colorbar\": {\"outlinewidth\": 0, \"ticks\": \"\"}}, \"type\": \"scatterternary\"}], \"surface\": [{\"colorbar\": {\"outlinewidth\": 0, \"ticks\": \"\"}, \"colorscale\": [[0.0, \"#0d0887\"], [0.1111111111111111, \"#46039f\"], [0.2222222222222222, \"#7201a8\"], [0.3333333333333333, \"#9c179e\"], [0.4444444444444444, \"#bd3786\"], [0.5555555555555556, \"#d8576b\"], [0.6666666666666666, \"#ed7953\"], [0.7777777777777778, \"#fb9f3a\"], [0.8888888888888888, \"#fdca26\"], [1.0, \"#f0f921\"]], \"type\": \"surface\"}], \"table\": [{\"cells\": {\"fill\": {\"color\": \"#EBF0F8\"}, \"line\": {\"color\": \"white\"}}, \"header\": {\"fill\": {\"color\": \"#C8D4E3\"}, \"line\": {\"color\": \"white\"}}, \"type\": \"table\"}]}, \"layout\": {\"annotationdefaults\": {\"arrowcolor\": \"#2a3f5f\", \"arrowhead\": 0, \"arrowwidth\": 1}, \"coloraxis\": {\"colorbar\": {\"outlinewidth\": 0, \"ticks\": \"\"}}, \"colorscale\": {\"diverging\": [[0, \"#8e0152\"], [0.1, \"#c51b7d\"], [0.2, \"#de77ae\"], [0.3, \"#f1b6da\"], [0.4, \"#fde0ef\"], [0.5, \"#f7f7f7\"], [0.6, \"#e6f5d0\"], [0.7, \"#b8e186\"], [0.8, \"#7fbc41\"], [0.9, \"#4d9221\"], [1, \"#276419\"]], \"sequential\": [[0.0, \"#0d0887\"], [0.1111111111111111, \"#46039f\"], [0.2222222222222222, \"#7201a8\"], [0.3333333333333333, \"#9c179e\"], [0.4444444444444444, \"#bd3786\"], [0.5555555555555556, \"#d8576b\"], [0.6666666666666666, \"#ed7953\"], [0.7777777777777778, \"#fb9f3a\"], [0.8888888888888888, \"#fdca26\"], [1.0, \"#f0f921\"]], \"sequentialminus\": [[0.0, \"#0d0887\"], [0.1111111111111111, \"#46039f\"], [0.2222222222222222, \"#7201a8\"], [0.3333333333333333, \"#9c179e\"], [0.4444444444444444, \"#bd3786\"], [0.5555555555555556, \"#d8576b\"], [0.6666666666666666, \"#ed7953\"], [0.7777777777777778, \"#fb9f3a\"], [0.8888888888888888, \"#fdca26\"], [1.0, \"#f0f921\"]]}, \"colorway\": [\"#636efa\", \"#EF553B\", \"#00cc96\", \"#ab63fa\", \"#FFA15A\", \"#19d3f3\", \"#FF6692\", \"#B6E880\", \"#FF97FF\", \"#FECB52\"], \"font\": {\"color\": \"#2a3f5f\"}, \"geo\": {\"bgcolor\": \"white\", \"lakecolor\": \"white\", \"landcolor\": \"#E5ECF6\", \"showlakes\": true, \"showland\": true, \"subunitcolor\": \"white\"}, \"hoverlabel\": {\"align\": \"left\"}, \"hovermode\": \"closest\", \"mapbox\": {\"style\": \"light\"}, \"paper_bgcolor\": \"white\", \"plot_bgcolor\": \"#E5ECF6\", \"polar\": {\"angularaxis\": {\"gridcolor\": \"white\", \"linecolor\": \"white\", \"ticks\": \"\"}, \"bgcolor\": \"#E5ECF6\", \"radialaxis\": {\"gridcolor\": \"white\", \"linecolor\": \"white\", \"ticks\": \"\"}}, \"scene\": {\"xaxis\": {\"backgroundcolor\": \"#E5ECF6\", \"gridcolor\": \"white\", \"gridwidth\": 2, \"linecolor\": \"white\", \"showbackground\": true, \"ticks\": \"\", \"zerolinecolor\": \"white\"}, \"yaxis\": {\"backgroundcolor\": \"#E5ECF6\", \"gridcolor\": \"white\", \"gridwidth\": 2, \"linecolor\": \"white\", \"showbackground\": true, \"ticks\": \"\", \"zerolinecolor\": \"white\"}, \"zaxis\": {\"backgroundcolor\": \"#E5ECF6\", \"gridcolor\": \"white\", \"gridwidth\": 2, \"linecolor\": \"white\", \"showbackground\": true, \"ticks\": \"\", \"zerolinecolor\": \"white\"}}, \"shapedefaults\": {\"line\": {\"color\": \"#2a3f5f\"}}, \"ternary\": {\"aaxis\": {\"gridcolor\": \"white\", \"linecolor\": \"white\", \"ticks\": \"\"}, \"baxis\": {\"gridcolor\": \"white\", \"linecolor\": \"white\", \"ticks\": \"\"}, \"bgcolor\": \"#E5ECF6\", \"caxis\": {\"gridcolor\": \"white\", \"linecolor\": \"white\", \"ticks\": \"\"}}, \"title\": {\"x\": 0.05}, \"xaxis\": {\"automargin\": true, \"gridcolor\": \"white\", \"linecolor\": \"white\", \"ticks\": \"\", \"title\": {\"standoff\": 15}, \"zerolinecolor\": \"white\", \"zerolinewidth\": 2}, \"yaxis\": {\"automargin\": true, \"gridcolor\": \"white\", \"linecolor\": \"white\", \"ticks\": \"\", \"title\": {\"standoff\": 15}, \"zerolinecolor\": \"white\", \"zerolinewidth\": 2}}}, \"title\": {\"font\": {\"color\": \"#4D5663\"}, \"text\": \"Combined Graph (PCA)\"}, \"xaxis\": {\"gridcolor\": \"#E1E5ED\", \"showgrid\": true, \"tickfont\": {\"color\": \"#4D5663\"}, \"title\": {\"font\": {\"color\": \"#4D5663\"}, \"text\": \"\"}, \"zerolinecolor\": \"#E1E5ED\"}, \"yaxis\": {\"gridcolor\": \"#E1E5ED\", \"showgrid\": true, \"tickfont\": {\"color\": \"#4D5663\"}, \"title\": {\"font\": {\"color\": \"#4D5663\"}, \"text\": \"\"}, \"zerolinecolor\": \"#E1E5ED\"}},\n",
       "                        {\"showLink\": true, \"linkText\": \"Export to plot.ly\", \"plotlyServerURL\": \"https://plot.ly\", \"responsive\": true}\n",
       "                    ).then(function(){\n",
       "                            \n",
       "var gd = document.getElementById('c50abdd9-f6da-4fe7-a77a-1e747fee1ead');\n",
       "var x = new MutationObserver(function (mutations, observer) {{\n",
       "        var display = window.getComputedStyle(gd).display;\n",
       "        if (!display || display === 'none') {{\n",
       "            console.log([gd, 'removed!']);\n",
       "            Plotly.purge(gd);\n",
       "            observer.disconnect();\n",
       "        }}\n",
       "}});\n",
       "\n",
       "// Listen for the removal of the full notebook cells\n",
       "var notebookContainer = gd.closest('#notebook-container');\n",
       "if (notebookContainer) {{\n",
       "    x.observe(notebookContainer, {childList: true});\n",
       "}}\n",
       "\n",
       "// Listen for the clearing of the current output cell\n",
       "var outputEl = gd.closest('.output');\n",
       "if (outputEl) {{\n",
       "    x.observe(outputEl, {childList: true});\n",
       "}}\n",
       "\n",
       "                        })\n",
       "                };\n",
       "                });\n",
       "            </script>\n",
       "        </div>"
      ]
     },
     "metadata": {},
     "output_type": "display_data"
    }
   ],
   "source": [
    "#visualize(emb,meta,method='SpectralEmbedding',dim=2,  title='Combined Graph (Spectral Embedding)')\n",
    "visualize(emb,meta,method='PCA',dim=2,  title='Combined Graph (PCA)')"
   ]
  }
 ],
 "metadata": {
  "kernelspec": {
   "display_name": "Python 3",
   "language": "python",
   "name": "python3"
  },
  "language_info": {
   "codemirror_mode": {
    "name": "ipython",
    "version": 3
   },
   "file_extension": ".py",
   "mimetype": "text/x-python",
   "name": "python",
   "nbconvert_exporter": "python",
   "pygments_lexer": "ipython3",
   "version": "3.7.3"
  }
 },
 "nbformat": 4,
 "nbformat_minor": 2
}

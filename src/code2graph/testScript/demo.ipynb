{
 "cells": [
  {
   "cell_type": "code",
   "execution_count": null,
   "metadata": {},
   "outputs": [],
   "source": [
    "'''First, we import the lightweight script and shlex library for analyze shell commands.'''\n",
    "# Our program uses some libraries that need to be installed before using it\n",
    "# The libraries are listed in the requirements.txt file.\n",
    "# Before running this script go to the main folder of code2graph module.\n",
    "# When the working directory is code2graph main folder, run the following line in the terminal:\n",
    "\n",
    "# pip install -r requirements.txt\n",
    "\n",
    "# After that Python's pip module will install all required libraries.\n",
    "\n",
    "# Having all the libraries ready, now we can import our main module for usage\n",
    "\n",
    "import sys\n",
    "sys.path.append('../script')\n",
    "from script_lightweight import pipeline_the_lightweight_approach\n",
    "import shlex\n",
    "\n",
    "print(\"Necessary modules have been successfully imported!\")"
   ]
  },
  {
   "cell_type": "code",
   "execution_count": null,
   "metadata": {},
   "outputs": [],
   "source": [
    "# You can replace the following path with the path to the code repository you want to generate RDF graph for.\n",
    "code_repository_path = \"../test/very-deep-convolutional-networks-for-text/VDCNN-master\"\n",
    "\n",
    "# The following command runs the script on input code repository and generates an RDF graph in turtle format.\n",
    "# The generated RDF graph file is placed inside the input code repository path.\n",
    "command = \"python script_lightweight.py -ip %s -opt 6 --arg --url\" % code_repository_path\n",
    "\n",
    "argv = shlex.split(command)\n",
    "pipeline_the_lightweight_approach(argv[2:])"
   ]
  }
 ],
 "metadata": {
  "kernelspec": {
   "display_name": "Python [conda env:research] *",
   "language": "python",
   "name": "conda-env-research-py"
  },
  "language_info": {
   "codemirror_mode": {
    "name": "ipython",
    "version": 3
   },
   "file_extension": ".py",
   "mimetype": "text/x-python",
   "name": "python",
   "nbconvert_exporter": "python",
   "pygments_lexer": "ipython3",
   "version": "3.7.3"
  }
 },
 "nbformat": 4,
 "nbformat_minor": 2
}

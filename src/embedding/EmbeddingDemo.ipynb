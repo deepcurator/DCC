{
 "cells": [
  {
   "cell_type": "markdown",
   "metadata": {},
   "source": [
    "## Imports "
   ]
  },
  {
   "cell_type": "code",
   "execution_count": 1,
   "metadata": {},
   "outputs": [
    {
     "data": {
      "text/html": [
       "        <script type=\"text/javascript\">\n",
       "        window.PlotlyConfig = {MathJaxConfig: 'local'};\n",
       "        if (window.MathJax) {MathJax.Hub.Config({SVG: {font: \"STIX-Web\"}});}\n",
       "        if (typeof require !== 'undefined') {\n",
       "        require.undef(\"plotly\");\n",
       "        requirejs.config({\n",
       "            paths: {\n",
       "                'plotly': ['https://cdn.plot.ly/plotly-latest.min']\n",
       "            }\n",
       "        });\n",
       "        require(['plotly'], function(Plotly) {\n",
       "            window._Plotly = Plotly;\n",
       "        });\n",
       "        }\n",
       "        </script>\n",
       "        "
      ]
     },
     "metadata": {},
     "output_type": "display_data"
    }
   ],
   "source": [
    "import os\n",
    "import numpy as np\n",
    "import pandas as pd\n",
    "#import matplotlib\n",
    "#import seaborn as sns\n",
    "\n",
    "import cufflinks as cf\n",
    "import plotly.offline\n",
    "cf.go_offline()\n",
    "cf.set_config_file(offline=False, world_readable=True)"
   ]
  },
  {
   "cell_type": "code",
   "execution_count": 5,
   "metadata": {},
   "outputs": [],
   "source": [
    "from sklearn.manifold import SpectralEmbedding, TSNE, LocallyLinearEmbedding, MDS\n",
    "from sklearn.decomposition import PCA\n",
    "\n",
    "# load supernode embedding and metadata:\n",
    "def load_emb_data(tag):\n",
    "    #emb=pd.read_csv('dcc_supernodes_combo.csv',header=None,sep='\\t')\n",
    "    emb=np.loadtxt('results/dcc_supernodes_{}.csv'.format(tag))\n",
    "    meta=pd.read_csv('results/dcc_supernodes_labels_{}.txt'.format(tag),encoding='latin1',sep='\\t')\n",
    "    return(emb,meta)\n",
    "#print(emb.shape)\n",
    "#print(meta.columns)\n",
    "\n",
    "### generate visualization\n",
    "def visualize(emb,meta,method='TSNE',dim=2):\n",
    "    if method == 'TSNE':   \n",
    "        tsne = TSNE(n_components=dim, verbose=1, perplexity=5, n_iter=300, init='pca')\n",
    "        results = tsne.fit_transform(emb)\n",
    "    elif method == 'PCA':\n",
    "        pca = PCA(n_components=dim)\n",
    "        results=pca.fit_transform(emb)\n",
    "    elif method == 'SpectralEmbedding':\n",
    "        speb = SpectralEmbedding(n_components=dim)\n",
    "        results = speb.fit_transform(emb)\n",
    "    elif method == 'MDS':\n",
    "        mds=MDS(n_components=dim)\n",
    "        results = mds.fit_transform(emb)\n",
    "    elif method == 'LLE':\n",
    "        lle = LocallyLinearEmbedding(n_components=dim)\n",
    "        results = lle.fit_transform(emb)\n",
    "    else:\n",
    "        print('Unknown method')\n",
    "        return\n",
    "    meta['x']=results[:,0]\n",
    "    meta['y']=results[:,1]\n",
    "    if(dim==2):\n",
    "        meta.iplot(kind='scatter',x=\"x\",y=\"y\", text=\"Title\", categories=\"Platform\")\n",
    "    elif(dim==3):\n",
    "        meta['z']=results[:,2]\n",
    "        meta.iplot(kind='scatter3d',x=\"x\",y=\"y\",z=\"z\", text=\"Title\", categories=\"Conference\")\n",
    "    else:\n",
    "        print('Dimension is not right')"
   ]
  },
  {
   "cell_type": "markdown",
   "metadata": {},
   "source": [
    "## Visualizing Embeddings of Single Modalities"
   ]
  },
  {
   "cell_type": "code",
   "execution_count": 4,
   "metadata": {},
   "outputs": [
    {
     "name": "stdout",
     "output_type": "stream",
     "text": [
      "[t-SNE] Computing 16 nearest neighbors...\n",
      "[t-SNE] Indexed 410 samples in 0.003s...\n",
      "[t-SNE] Computed neighbors for 410 samples in 0.010s...\n",
      "[t-SNE] Computed conditional probabilities for sample 410 / 410\n",
      "[t-SNE] Mean sigma: 0.442954\n",
      "[t-SNE] KL divergence after 250 iterations with early exaggeration: 82.101074\n",
      "[t-SNE] KL divergence after 300 iterations: 1.300395\n"
     ]
    },
    {
     "data": {
      "application/vnd.plotly.v1+json": {
       "config": {
        "linkText": "Export to plot.ly",
        "plotlyServerURL": "https://plot.ly",
        "showLink": true
       },
       "data": [
        {
         "marker": {
          "color": "rgba(255, 153, 51, 1.0)",
          "line": {
           "width": 1.3
          },
          "opacity": 0.8,
          "size": 12,
          "symbol": "circle"
         },
         "mode": "markers",
         "name": "NIPS",
         "text": [
          "Visualizing the Loss Landscape of Neural Nets",
          "PointCNN",
          "L4: Practical loss-based stepsize adaptation for deep learning",
          "Multimodal Generative Models for Scalable Weakly-Supervised Learning",
          "Neural Voice Cloning with a Few Samples",
          "The Description Length of Deep Learning models",
          "Deep Defense: Training DNNs with Improved Adversarial Robustness",
          "Adversarial Logit Pairing",
          "Realistic Evaluation of Deep Semi-Supervised Learning Algorithms",
          "DVAE#: Discrete Variational Autoencoders with Relaxed Boltzmann Priors",
          "BourGAN: Generative Networks with Metric Embeddings",
          "Bilinear Attention Networks",
          "Breaking the Activation Function Bottleneck through Adaptive Parameterization",
          "Hyperbolic Neural Networks",
          "Learning towards Minimum Hyperspherical Energy",
          "Generalizing to Unseen Domains via Adversarial Data Augmentation",
          "On GANs and GMMs",
          "Assessing Generative Models via Precision and Recall",
          "Relational recurrent neural networks",
          "Unsupervised Attention-guided Image-to-Image Translation",
          "Speaker-Follower Models for Vision-and-Language Navigation",
          "ATOMO: Communication-efficient Learning via Atomic Sparsification",
          "Generative Neural Machine Translation",
          "Banach Wasserstein GAN",
          "Neural Code Comprehension: A Learnable Representation of Code Semantics",
          "3D Steerable CNNs: Learning Rotationally Equivariant Features in Volumetric Data",
          "Discovery of Latent 3D Keypoints via End-to-end Geometric Reasoning",
          "An intriguing failing of convolutional neural networks and the CoordConv solution",
          "Latent Alignment and Variational Attention",
          "Neural Arithmetic Logic Units",
          "Adaptive Skip Intervals: Temporal Abstraction for Recurrent Dynamical Models",
          "Video-to-Video Synthesis",
          "Generalisation in humans and deep neural networks",
          "A Unified Feature Disentangler for Multi-Domain Image Translation and Manipulation",
          "Neural Guided Constraint Logic Programming for Program Synthesis",
          "Deep Subspace Clustering Networks",
          "Dilated Recurrent Neural Networks",
          "Structured Embedding Models for Grouped Data",
          "Best of Both Worlds: Transferring Knowledge from Discriminative Learning to a Generative Visual Dialog Model",
          "Learning a Multi-View Stereo Machine",
          "Universal Style Transfer via Feature Transforms",
          "f-GANs in an Information Geometric Nutshell",
          "Toward Multimodal Image-to-Image Translation",
          "One-Sided Unsupervised Domain Mapping",
          "Deep Mean-Shift Priors for Image Restoration",
          "SchNet: A continuous-filter convolutional neural network for modeling quantum interactions",
          "Inductive Representation Learning on Large Graphs",
          "Mean teachers are better role models: Weight-averaged consistency targets improve semi-supervised deep learning results",
          "TernGrad: Ternary Gradients to Reduce Communication in Distributed Deep Learning",
          "NeuralFDR: Learning Discovery Thresholds from Hypothesis Features",
          "Learning Multiple Tasks with Multilinear Relationship Networks",
          "Train longer, generalize better: closing the generalization gap in large batch training of neural networks",
          "The Numerics of GANs",
          "Stabilizing Training of Generative Adversarial Networks through Regularization",
          "Training Deep Networks without Learning Rates Through Coin Betting",
          "MMD GAN: Towards Deeper Understanding of Moment Matching Network",
          "Few-Shot Learning Through an Information Retrieval  Lens",
          "Differentiable Learning of Logical Rules for Knowledge Base Reasoning",
          "OnACID: Online Analysis of Calcium Imaging Data in Real Time",
          "Fisher GAN",
          "Toward Goal-Driven Neural Network Models for the Rodent Whisker-Trigeminal System",
          "Predicting Organic Reaction Outcomes with Weisfeiler-Lehman Network",
          "REBAR: Low-variance, unbiased gradient estimates for discrete latent variable models",
          "ELF: An Extensive, Lightweight and Flexible Research Platform for Real-time Strategy Games",
          "Dual Discriminator Generative Adversarial Nets",
          "Bridging the Gap Between Value and Policy Based Reinforcement Learning",
          "Convolutional Gaussian Processes",
          "Deep Lattice Networks and Partial Monotonic Functions",
          "Hierarchical Attentive Recurrent Tracking",
          "Learning to Compose Domain-Specific Transformations for Data Augmentation",
          "Language Modeling with Recurrent Highway Hypernetworks",
          "Bayesian Compression for Deep Learning",
          "Streaming Sparse Gaussian Process Approximations",
          "Spherical convolutions and their application in molecular modelling",
          "Neural system identification for large populations separating what and where",
          "A Disentangled Recognition and Nonlinear Dynamics Model for Unsupervised Learning",
          "Bayesian GAN",
          "Geometric Matrix Completion with Recurrent Multi-Graph Neural Networks",
          "Diving into the shallows: a computational perspective on large-scale shallow learning",
          "InfoGAIL: Interpretable Imitation Learning from Visual Demonstrations",
          "Deep Hyperspherical Learning",
          "On-the-fly Operation Batching in Dynamic Computation Graphs",
          "Streaming Weak Submodularity: Interpreting Neural Networks on the Fly",
          "Prototypical Networks for Few-shot Learning",
          "Multi-Information Source Optimization",
          "Dual Path Networks",
          "Doubly Stochastic Variational Inference for Deep Gaussian Processes",
          "QMDP-Net: Deep Learning for Planning under Partial Observability",
          "A Unified Approach to Interpreting Model Predictions",
          "Context Selection for Embedding Models",
          "Working hard to know your neighbor's margins: Local descriptor learning loss",
          "Learning to Prune Deep Neural Networks via Layer-wise Optimal Brain Surgeon",
          "DropoutNet: Addressing Cold Start in Recommender Systems",
          "PointNet++: Deep Hierarchical Feature Learning on Point Sets in a Metric Space",
          "A-NICE-MC: Adversarial Training for MCMC",
          "Riemannian approach to batch normalization",
          "Triangle Generative Adversarial Networks",
          "Scalable trust-region method for deep reinforcement learning using Kronecker-factored approximation",
          "Hybrid Reward Architecture for Reinforcement Learning",
          "AdaGAN: Boosting Generative Models",
          "Task-based End-to-end Model Learning in Stochastic Optimization",
          "Gradient descent GAN optimization is locally stable",
          "Do Deep Neural Networks Suffer from Crowding?",
          "Improved Training of Wasserstein GANs",
          "Learning Disentangled Representations with Semi-Supervised Deep Generative Models",
          "Attention is All you Need",
          "Value Prediction Network",
          "Causal Effect Inference with Deep Latent-Variable Models",
          "Good Semi-supervised Learning That Requires a Bad GAN",
          "Modulating early visual processing by language",
          "GANs Trained by a Two Time-Scale Update Rule Converge to a Local Nash Equilibrium",
          "Neural Expectation Maximization",
          "Attend and Predict: Understanding Gene Regulation by Selective Attention on Chromatin",
          "Style Transfer from Non-Parallel Text by Cross-Alignment",
          "Real Time Image Saliency for Black Box Classifiers",
          "COLA: Decentralized Linear Learning",
          "A Simple Unified Framework for Detecting Out-of-Distribution Samples and Adversarial Attacks",
          "Mapping Images to Scene Graphs with Permutation-Invariant Structured Prediction",
          "Learning Conditioned Graph Structures for Interpretable Visual Question Answering",
          "Reversible Recurrent Neural Networks"
         ],
         "textfont": {
          "color": "#4D5663"
         },
         "type": "scatter",
         "x": [
          12.907031059265137,
          -5.972403049468994,
          1.3739789724349976,
          -10.98717212677002,
          15.958040237426758,
          -11.502992630004883,
          -4.596158981323242,
          -3.8561575412750244,
          -6.08293342590332,
          1.458631157875061,
          3.2253713607788086,
          2.344479560852051,
          10.537904739379883,
          13.50833797454834,
          5.414897918701172,
          -7.575455665588379,
          5.0251994132995605,
          1.1387053728103638,
          -2.0325114727020264,
          11.621399879455566,
          18.10848045349121,
          -2.1572394371032715,
          1.6459983587265015,
          0.6993091702461243,
          0.959811270236969,
          20.498239517211914,
          21.62447166442871,
          19.517475128173828,
          18.104042053222656,
          4.669456958770752,
          13.8443603515625,
          13.906878471374512,
          20.258174896240234,
          16.214900970458984,
          18.691476821899414,
          13.074679374694824,
          16.51959991455078,
          23.678638458251953,
          23.808712005615234,
          11.402607917785645,
          17.263473510742188,
          13.75344467163086,
          20.930362701416016,
          17.52497673034668,
          4.407948017120361,
          15.056870460510254,
          8.542778015136719,
          24.360763549804688,
          8.45899772644043,
          17.11610221862793,
          6.674089431762695,
          24.09454917907715,
          5.97361421585083,
          9.406758308410645,
          16.090208053588867,
          12.66286563873291,
          8.455016136169434,
          13.41900634765625,
          17.462039947509766,
          8.583908081054688,
          16.767765045166016,
          13.128894805908203,
          -0.4440290629863739,
          21.749448776245117,
          15.219110488891602,
          12.592490196228027,
          13.207842826843262,
          16.49700927734375,
          16.281307220458984,
          11.938809394836426,
          17.633827209472656,
          17.29296112060547,
          10.076171875,
          11.972979545593262,
          20.25248146057129,
          18.876449584960938,
          15.473069190979004,
          17.832860946655273,
          15.826194763183594,
          5.808223724365234,
          17.28119468688965,
          7.640124797821045,
          10.823162078857422,
          19.59648895263672,
          13.373482704162598,
          13.476532936096191,
          12.547070503234863,
          13.644333839416504,
          20.243804931640625,
          23.550601959228516,
          13.75623893737793,
          13.834736824035645,
          12.08046817779541,
          11.792991638183594,
          8.800468444824219,
          12.994200706481934,
          12.18093490600586,
          6.599042892456055,
          13.755756378173828,
          9.177961349487305,
          23.773454666137695,
          8.313547134399414,
          14.03127670288086,
          10.085646629333496,
          20.366710662841797,
          13.714699745178223,
          8.310738563537598,
          11.57381820678711,
          17.017011642456055,
          20.734403610229492,
          14.40511417388916,
          16.152151107788086,
          19.966093063354492,
          17.87196922302246,
          21.722965240478516,
          1.208319902420044,
          15.856555938720703,
          21.680625915527344,
          18.043420791625977,
          23.73628807067871
         ],
         "y": [
          -10.11232852935791,
          12.074357986450195,
          10.213142395019531,
          -4.435098648071289,
          -11.425677299499512,
          -4.592184066772461,
          14.97854995727539,
          15.791690826416016,
          11.971243858337402,
          19.13631820678711,
          -1.3421306610107422,
          19.62237548828125,
          -6.785216331481934,
          -5.363735675811768,
          20.241178512573242,
          17.012170791625977,
          20.421724319458008,
          -7.877377986907959,
          -20.63119125366211,
          -10.462549209594727,
          -15.66713809967041,
          -13.761808395385742,
          -19.1258544921875,
          -21.145214080810547,
          -21.129192352294922,
          -12.136052131652832,
          -7.520185947418213,
          -12.686893463134766,
          -15.40417194366455,
          20.900741577148438,
          17.91775894165039,
          17.748289108276367,
          1.5548839569091797,
          -11.269522666931152,
          -11.760973930358887,
          5.234017372131348,
          -1.404923439025879,
          2.7619338035583496,
          -5.7499518394470215,
          2.091248035430908,
          3.4517993927001953,
          5.1537065505981445,
          6.638772964477539,
          3.662679433822632,
          8.6093168258667,
          11.06804084777832,
          10.799139022827148,
          3.7657246589660645,
          10.738786697387695,
          -10.28052806854248,
          3.7418549060821533,
          3.418438196182251,
          1.3506948947906494,
          7.460798263549805,
          11.886197090148926,
          13.02696418762207,
          10.54801082611084,
          0.22487780451774597,
          3.6073033809661865,
          6.973485946655273,
          12.158658981323242,
          16.0107421875,
          -2.007566452026367,
          -5.115435600280762,
          12.235382080078125,
          -6.988161087036133,
          15.236279487609863,
          12.122386932373047,
          -2.770681381225586,
          15.022479057312012,
          -1.635430932044983,
          -9.990737915039062,
          -1.6459275484085083,
          14.333536148071289,
          2.636240243911743,
          0.915520191192627,
          10.576480865478516,
          -8.083760261535645,
          -0.5774957537651062,
          20.015146255493164,
          3.4700891971588135,
          16.076766967773438,
          15.263047218322754,
          -12.473116874694824,
          0.06845450401306152,
          11.45459270477295,
          5.938907623291016,
          -0.5393710732460022,
          1.1289088726043701,
          2.6045074462890625,
          -5.081613063812256,
          5.38950252532959,
          6.203385353088379,
          6.274966239929199,
          11.220322608947754,
          -5.746267795562744,
          0.4507075846195221,
          1.1640238761901855,
          -5.002184867858887,
          1.539072036743164,
          -5.786753177642822,
          -12.290109634399414,
          10.40825080871582,
          1.2017295360565186,
          2.3473961353302,
          4.493962287902832,
          -17.873815536499023,
          12.754029273986816,
          -9.964776992797852,
          0.1716039925813675,
          10.619453430175781,
          -0.4015832841396332,
          -12.339425086975098,
          -7.831231594085693,
          -6.8344292640686035,
          -21.344995498657227,
          10.203413009643555,
          -6.998408794403076,
          -15.50796127319336,
          -5.84687614440918
         ]
        },
        {
         "marker": {
          "color": "rgba(55, 128, 191, 1.0)",
          "line": {
           "width": 1.3
          },
          "opacity": 0.8,
          "size": 12,
          "symbol": "circle"
         },
         "mode": "markers",
         "name": "ECCV",
         "text": [
          "Improving Shape Deformation in Unsupervised Image-to-Image Translation",
          "Pairwise Confusion for Fine-Grained Visual Classification",
          "GANimation: Anatomically-aware Facial Animation from a Single Image",
          "Deep Expander Networks: Efficient Deep Networks from Graph Theory",
          "3DMV: Joint 3D-Multi-View Prediction for 3D Semantic Scene Segmentation",
          "Learning Category-Specific Mesh Reconstruction from Image Collections",
          "Zero-Shot Object Detection",
          "A Style-Aware Content Loss for Real-time HD Style Transfer",
          "Piggyback: Adapting a Single Network to Multiple Tasks by Learning to Mask Weights",
          "Semi-supervised Adversarial Learning to Generate Photorealistic Face Images of New Identities from 3D Morphable Model",
          "Simple Baselines for Human Pose Estimation and Tracking",
          "Toward Characteristic-Preserving Image-based Virtual Try-On Network",
          "Acquisition of Localization Confidence for Accurate Object Detection",
          "Conditional Image-Text Embedding Networks",
          "SketchyScene: Richly-Annotated Scene Sketches",
          "Progressive Neural Architecture Search",
          "Image Manipulation with Perceptual Discriminators",
          "Unsupervised holistic image generation from key local patches",
          "LQ-Nets: Learned Quantization for Highly Accurate and Compact Deep Neural Networks",
          "Is Robustness the Cost of Accuracy? -- A Comprehensive Study on the Robustness of 18 Deep Image Classification Models",
          "Dynamic Multimodal Instance Segmentation Guided by Natural Language Queries",
          "Dynamic Conditional Networks for Few-Shot Learning",
          "Recovering 3D Planes from a Single Image via Convolutional Neural Networks",
          "Learning Single-View 3D Reconstruction with Limited Pose Supervision",
          "Image Inpainting for Irregular Holes Using Partial Convolutions",
          "Unsupervised Geometry-Aware Representation for 3D Human Pose Estimation",
          "PSANet: Point-wise Spatial Attention Network for Scene Parsing",
          "Predicting Gaze in Egocentric Video by Learning Task-dependent Attention Transition",
          "Coloring with Words: Guiding Image Colorization Through Text-based Palette Generation",
          "Fighting Fake News: Image Splice Detection via Learned Self-Consistency",
          "HiDDeN: Hiding Data with Deep Networks",
          "Multi-scale Residual Network for Image Super-Resolution",
          "Adaptive Affinity Fields for Semantic Segmentation",
          "Statistically-motivated Second-order Pooling",
          "Stacked Cross Attention for Image-Text Matching",
          "Open Set Domain Adaptation by Backpropagation",
          "DeepVS: A Deep Learning Based Video Saliency Prediction Approach",
          "Encoder-Decoder with Atrous Separable Convolution for Semantic Image Segmentation",
          "Estimating the Success of Unsupervised Image to Image Translation",
          "Single Shot Scene Text Retrieval",
          "Learning Type-Aware Embeddings for Fashion Compatibility",
          "Learning Visual Question Answering by Bootstrapping Hard Attention",
          "Deep Clustering for Unsupervised Learning of Visual Features",
          "Joint Person Segmentation and Identification in Synchronized First- and Third-person Videos",
          "ECO: Efficient Convolutional Network for Online Video Understanding",
          "Diverse and Coherent Paragraph Generation from Images",
          "MultiPoseNet: Fast Multi-Person Pose Estimation using Pose Residual Network",
          "ShapeStacks: Learning Vision-Based Physical Intuition for Generalised Object Stacking",
          "Towards Realistic Predictors",
          "Choose Your Neuron: Incorporating Domain Knowledge through Neuron-Importance",
          "Learning to Separate Object Sounds by Watching Unlabeled Video",
          "ESPNet: Efficient Spatial Pyramid of Dilated Convolutions for Semantic Segmentation",
          "Visual Coreference Resolution in Visual Dialog using Neural Module Networks",
          "License Plate Detection and Recognition in Unconstrained Scenarios",
          "Deep High Dynamic Range Imaging with Large Foreground Motions",
          "Multi-view to Novel view: Synthesizing novel views with Self-Learned Confidence",
          "Layer-structured 3D Scene Inference via View Synthesis",
          "3D-CODED: 3D Correspondences by Deep Deformation",
          "HybridNet: Classification and Reconstruction Cooperation for Semi-Supervised Learning",
          "Learning Dynamic Memory Networks for Object Tracking",
          "Interpretable Intuitive Physics Model",
          "Gray-box Adversarial Training",
          "Depth-aware CNN for RGB-D Segmentation",
          "Learning Efficient Single-stage Pedestrian Detectors by Asymptotic Localization Fitting",
          "A Modulation Module for Multi-task Learning with Applications in Image Retrieval",
          "Single Image Water Hazard Detection using FCN with Reflection Attention Units",
          "Integral Human Pose Regression",
          "Recurrent Squeeze-and-Excitation Context Aggregation Net for Single Image Deraining",
          "Quaternion Convolutional Neural Networks",
          "Mutual Learning to Adapt for Joint Human Parsing and Pose Estimation",
          "Pose Partition Networks for Multi-Person Pose Estimation",
          "Video Re-localization",
          "Joint 3D Face Reconstruction and Dense Alignment with Position Map Regression Network",
          "MVSNet: Depth Inference for Unstructured Multi-view Stereo",
          "Audio-Visual Event Localization in Unconstrained Videos",
          "Macro-Micro Adversarial Network for Human Parsing",
          "SpiderCNN: Deep Learning on Point Sets with Parameterized Convolutional Filters",
          "PlaneMatch: Patch Coplanarity Prediction for Robust RGB-D Reconstruction",
          "Factorizable Net: An Efficient Subgraph-based Framework for Scene Graph Generation",
          "Group Normalization",
          "Learning to Navigate for Fine-grained Classification",
          "Partial Adversarial Domain Adaptation",
          "Distractor-aware Siamese Networks for Visual Object Tracking",
          "Improving Generalization via  Scalable Neighborhood Component Analysis",
          "Saliency Detection in 360° Videos"
         ],
         "textfont": {
          "color": "#4D5663"
         },
         "type": "scatter",
         "x": [
          -16.075756072998047,
          -10.424713134765625,
          -11.292604446411133,
          -18.191566467285156,
          -11.589205741882324,
          -11.252812385559082,
          -16.580556869506836,
          -4.499979019165039,
          -9.3876371383667,
          -7.328366756439209,
          -15.775153160095215,
          -8.397141456604004,
          -9.333386421203613,
          -2.260871171951294,
          -13.985011100769043,
          -10.457056999206543,
          -22.198644638061523,
          -13.68159008026123,
          -4.320266246795654,
          -20.90500831604004,
          -13.86042594909668,
          -2.2614495754241943,
          -9.94660758972168,
          -18.515148162841797,
          -18.11054229736328,
          -4.808234214782715,
          -12.944764137268066,
          -21.148042678833008,
          -24.887083053588867,
          -12.498533248901367,
          -6.454461097717285,
          -12.080107688903809,
          -24.675050735473633,
          -14.257722854614258,
          -7.268128871917725,
          -18.348302841186523,
          -20.94784164428711,
          -22.422969818115234,
          -11.220132827758789,
          -22.753948211669922,
          -13.359488487243652,
          -13.088053703308105,
          -12.90764045715332,
          -7.799933433532715,
          -20.6082706451416,
          -13.018648147583008,
          -7.579594135284424,
          -10.055526733398438,
          -22.051021575927734,
          -20.692190170288086,
          -16.570497512817383,
          -12.07498836517334,
          -14.665820121765137,
          -22.078004837036133,
          -0.23938333988189697,
          -13.901809692382812,
          -14.261667251586914,
          -10.174395561218262,
          -19.908597946166992,
          -16.38371467590332,
          -13.960658073425293,
          -20.161029815673828,
          -7.093252658843994,
          -10.459478378295898,
          -15.762142181396484,
          -16.87977409362793,
          -16.75241470336914,
          -13.22640609741211,
          0.6367382407188416,
          -13.217696189880371,
          -15.554216384887695,
          -15.347561836242676,
          -19.70049285888672,
          -15.699244499206543,
          -24.617956161499023,
          -11.948762893676758,
          -2.35178804397583,
          -20.144472122192383,
          -11.207695960998535,
          -10.695404052734375,
          -12.731812477111816,
          -6.843326568603516,
          -2.173888921737671,
          -19.672704696655273,
          -11.662510871887207
         ],
         "y": [
          2.192884683609009,
          1.7476221323013306,
          -0.5053449869155884,
          -11.50434684753418,
          -12.949397087097168,
          -0.5190281867980957,
          2.060940742492676,
          6.287941932678223,
          2.0130457878112793,
          7.984591960906982,
          -8.672710418701172,
          1.0449575185775757,
          -7.1202616691589355,
          1.9163079261779785,
          6.00419807434082,
          15.024955749511719,
          1.2889560461044312,
          3.288784980773926,
          15.500875473022461,
          6.524257183074951,
          -11.609729766845703,
          -19.281362533569336,
          19.869525909423828,
          10.958962440490723,
          -6.103071689605713,
          -12.425633430480957,
          -18.24675750732422,
          3.7449235916137695,
          -0.09222598373889923,
          1.575931191444397,
          -4.2150068283081055,
          1.699836254119873,
          1.4218456745147705,
          5.095693111419678,
          -0.04506874084472656,
          -11.592691421508789,
          6.991775035858154,
          2.3460166454315186,
          1.5273966789245605,
          1.6254860162734985,
          -12.219334602355957,
          -11.593819618225098,
          -18.38680648803711,
          -10.650412559509277,
          3.477564811706543,
          -11.543268203735352,
          -11.334846496582031,
          10.56272029876709,
          3.048314094543457,
          5.752695560455322,
          -11.362789154052734,
          -7.403382778167725,
          3.917858839035034,
          3.0490384101867676,
          -16.912954330444336,
          3.3789329528808594,
          4.890751838684082,
          -4.583171844482422,
          5.922273635864258,
          10.354873657226562,
          -11.243644714355469,
          8.150646209716797,
          -9.650626182556152,
          14.570502281188965,
          2.039746046066284,
          12.07627010345459,
          -11.591775894165039,
          -19.097883224487305,
          14.70205307006836,
          -16.146663665771484,
          -10.539008140563965,
          4.249343395233154,
          6.052672863006592,
          -9.367481231689453,
          1.371248722076416,
          -7.291268825531006,
          1.8148999214172363,
          8.192666053771973,
          -0.5011153817176819,
          15.376745223999023,
          -18.05848503112793,
          -8.425658226013184,
          -20.32244873046875,
          -5.815402984619141,
          -12.702821731567383
         ]
        },
        {
         "marker": {
          "color": "rgba(50, 171, 96, 1.0)",
          "line": {
           "width": 1.3
          },
          "opacity": 0.8,
          "size": 12,
          "symbol": "circle"
         },
         "mode": "markers",
         "name": "CVPR",
         "text": [
          "An Improved Deep Learning Architecture for Person Re-Identification",
          "SST: Single-Stream Temporal Action Proposals",
          "One-Shot Video Object Segmentation",
          "Neural Sign Language Translation",
          "Annotating Object Instances With a Polygon-RNN",
          "Pyramid Stereo Matching Network",
          "AON: Towards Arbitrarily-Oriented Text Recognition",
          "LiDAR-Video Driving Dataset: Learning Driving Policies Effectively",
          "VidLoc: A Deep Spatio-Temporal Model for 6-DoF Video-Clip Relocalization",
          "Large Scale Fine-Grained Categorization and Domain-Specific Transfer Learning",
          "Learning to Evaluate Image Captioning",
          "ScanComplete: Large-Scale Scene Completion and Semantic Segmentation for 3D Scans",
          "Supervision-by-Registration: An Unsupervised Approach to Improve the Precision of Facial Landmark Detectors",
          "GraphBit: Bitwise Interaction Mining via Deep Reinforcement Learning",
          "Who Let the Dogs Out? Modeling Dog Behavior From Visual Data",
          "Robust Physical-World Attacks on Deep Learning Visual Classification",
          "A Point Set Generation Network for 3D Object Reconstruction From a Single Image",
          "End-to-End Learning of Motion Representation for Video Understanding",
          "Deep Pyramidal Residual Networks",
          "Deep Residual Learning for Image Recognition",
          "Deeply Supervised Salient Object Detection With Short Connections",
          "DeepMVS: Learning Multi-View Stereopsis",
          "Densely Connected Convolutional Networks",
          "Learning Deep Representation for Imbalanced Classification",
          "Fast and Accurate Single Image Super-Resolution via Information Distillation Network",
          "LiteFlowNet: A Lightweight Convolutional Neural Network for Optical Flow Estimation",
          "Deep 360 Pilot: Learning a Deep Agent for Piloting Through 360deg Sports Videos",
          "FC4: Fully Convolutional Color Constancy With Confidence-Weighted Pooling",
          "Image Specificity",
          "Perturbative Neural Networks",
          "End-to-End Recovery of Human Shape and Pose",
          "Convolutional Neural Networks for No-Reference Image Quality Assessment",
          "Deeply-Recursive Convolutional Network for Image Super-Resolution",
          "Stochastic Downsampling for Cost-Adjustable Inference and Improved Regularization in Convolutional Networks",
          "Deep Laplacian Pyramid Networks for Fast and Accurate Super-Resolution",
          "TI-Pooling: Transformation-Invariant Pooling for Feature Learning in Convolutional Neural Networks",
          "Recurrent Convolutional Neural Network for Object Recognition",
          "Deep Marching Cubes: Learning Explicit Surface Representations",
          "ST-GAN: Spatial Transformer Generative Adversarial Networks for Image Compositing",
          "Decoupled Networks",
          "PlaneNet: Piece-Wise Planar Reconstruction From a Single RGB Image",
          "Predicting Salient Face in Multiple-Face Videos",
          "Recognizing Human Actions as the Evolution of Pose Estimation Maps",
          "Towards Faster Training of Global Covariance Pooling Networks by Iterative Matrix Square Root Normalization",
          "Fully Convolutional Networks for Semantic Segmentation",
          "Cross-Stitch Networks for Multi-Task Learning",
          "Beyond the Pixel-Wise Loss for Topology-Aware Delineation",
          "3D Bounding Box Estimation Using Deep Learning and Geometry",
          "Learning Dual Convolutional Neural Networks for Low-Level Vision",
          "Jointly Optimize Data Augmentation and Network Training: Adversarial Data Augmentation in Human Pose Estimation",
          "Learning Latent Super-Events to Detect Multiple Activities in Videos",
          "Learning Pose Specific Representations by Predicting Different Views",
          "Frustum PointNets for 3D Object Detection From RGB-D Data",
          "GeoNet: Geometric Neural Network for Joint Depth and Surface Normal Estimation",
          "Semi-Parametric Image Synthesis",
          "End-To-End Instance Segmentation With Recurrent Attention",
          "Adversarially Learned One-Class Classifier for Novelty Detection",
          "Pixels, Voxels, and Views: A Study of Shape Representations for Single View 3D Object Shape Prediction",
          "Actor and Observer: Joint Modeling of First and Third-Person Videos",
          "VITAL: VIsual Tracking via Adversarial Learning",
          "Pix3D: Dataset and Methods for Single-Image 3D Shape Modeling",
          "Multiple Instance Detection Network With Online Instance Classifier Refinement",
          "Real-Time Seamless Single Shot 6D Object Pose Prediction",
          "Lifting From the Deep: Convolutional 3D Pose Estimation From a Single Image",
          "Learning to Adapt Structured Output Space for Semantic Segmentation",
          "Learning Shape Abstractions by Assembling Volumetric Primitives",
          "Learning Superpixels With Segmentation-Aware Affinity Loss",
          "Show and Tell: A Neural Image Caption Generator",
          "Adversarial Feature Augmentation for Unsupervised Domain Adaptation",
          "High-Resolution Image Synthesis and Semantic Manipulation With Conditional GANs",
          "Learning a Discriminative Filter Bank Within a CNN for Fine-Grained Recognition",
          "Min-Entropy Latent Model for Weakly Supervised Object Detection",
          "Rethinking Feature Distribution for Loss Functions in Image Classification",
          "Dense Human Body Correspondences Using Convolutional Networks",
          "Gibson Env: Real-World Perception for Embodied Agents",
          "AttnGAN: Fine-Grained Text to Image Generation With Attentional Generative Adversarial Networks",
          "Object Contour Detection With a Fully Convolutional Encoder-Decoder Network",
          "Robust Classification With Convolutional Prototype Learning",
          "GeoNet: Unsupervised Learning of Dense Depth, Optical Flow and Camera Pose",
          "Generative Image Inpainting With Contextual Attention",
          "Video Paragraph Captioning Using Hierarchical Recurrent Neural Networks",
          "Adversarial Complementary Learning for Weakly Supervised Object Localization",
          "Densely Connected Pyramid Dehazing Network",
          "Residual Dense Network for Image Super-Resolution",
          "Visual Translation Embedding Network for Visual Relation Detection"
         ],
         "textfont": {
          "color": "#4D5663"
         },
         "type": "scatter",
         "x": [
          7.750311851501465,
          -3.630694627761841,
          12.347969055175781,
          -0.27478641271591187,
          1.4770745038986206,
          -8.8985595703125,
          -4.468972206115723,
          14.312773704528809,
          4.876775741577148,
          -4.458302021026611,
          -15.512541770935059,
          -4.1626996994018555,
          -19.195453643798828,
          -5.213950157165527,
          -7.908592224121094,
          4.32903528213501,
          4.711634635925293,
          -5.736688613891602,
          4.826996326446533,
          -3.8257718086242676,
          2.785339832305908,
          -18.354080200195312,
          -5.90811014175415,
          -6.314590930938721,
          0.5497201085090637,
          -8.726936340332031,
          3.369229555130005,
          2.473881959915161,
          -9.276824951171875,
          -2.461616039276123,
          18.942378997802734,
          -3.7450921535491943,
          -11.10119915008545,
          0.3061847388744354,
          -16.11525535583496,
          -0.9631586074829102,
          -3.462132692337036,
          -18.604084014892578,
          -0.2750335931777954,
          0.5406596064567566,
          -0.35603341460227966,
          3.7652056217193604,
          -21.285865783691406,
          0.40986567735671997,
          4.4794535636901855,
          -23.217552185058594,
          -13.996979713439941,
          -10.498860359191895,
          -10.135170936584473,
          -13.880434036254883,
          -4.00015926361084,
          -8.47937297821045,
          -10.221728324890137,
          3.715157985687256,
          -16.874183654785156,
          8.482392311096191,
          -4.820840835571289,
          -4.2942118644714355,
          -8.15388298034668,
          -16.855194091796875,
          -11.70198917388916,
          17.166860580444336,
          -15.186047554016113,
          6.827378749847412,
          -16.000547409057617,
          -15.376253128051758,
          -10.586271286010742,
          13.824101448059082,
          -4.355454444885254,
          -5.190335750579834,
          -3.401201009750366,
          -8.278356552124023,
          -0.567725419998169,
          -5.150512218475342,
          -7.3968353271484375,
          0.4524000287055969,
          -5.760457992553711,
          0.9135919213294983,
          -7.95335578918457,
          -0.29150471091270447,
          1.460476040840149,
          -13.752569198608398,
          -7.184382438659668,
          -7.0883870124816895,
          -8.980118751525879
         ],
         "y": [
          16.01313018798828,
          -12.39141845703125,
          13.533848762512207,
          13.838494300842285,
          11.872525215148926,
          -3.844365119934082,
          6.2302165031433105,
          8.01279067993164,
          15.328941345214844,
          20.72342300415039,
          9.861444473266602,
          20.740196228027344,
          -5.809225082397461,
          20.89544677734375,
          0.35696011781692505,
          14.798859596252441,
          14.597146034240723,
          20.865234375,
          -20.35591697692871,
          19.996416091918945,
          13.293816566467285,
          -5.891120910644531,
          21.27862548828125,
          -4.236124038696289,
          16.4146785736084,
          -3.283902883529663,
          13.960233688354492,
          19.663408279418945,
          8.568432807922363,
          21.16305160522461,
          9.28148078918457,
          10.12909984588623,
          18.585847854614258,
          18.0888614654541,
          10.24575138092041,
          14.53921890258789,
          9.923440933227539,
          -5.918332099914551,
          12.276426315307617,
          16.63591194152832,
          13.793883323669434,
          14.395684242248535,
          7.167328834533691,
          11.61559009552002,
          8.48538589477539,
          0.7806212902069092,
          -4.084062576293945,
          19.466840744018555,
          10.231754302978516,
          -4.046816825866699,
          -12.31315803527832,
          3.3311071395874023,
          19.612030029296875,
          14.899068832397461,
          12.354159355163574,
          -7.904821395874023,
          14.634532928466797,
          15.750800132751465,
          0.3384504020214081,
          12.887211799621582,
          8.512441635131836,
          -9.753707885742188,
          -3.783566474914551,
          18.62348175048828,
          -3.4128682613372803,
          -10.142931938171387,
          -4.089494705200195,
          18.272626876831055,
          10.675433158874512,
          10.928312301635742,
          -12.043675422668457,
          3.6553590297698975,
          12.274863243103027,
          10.407938003540039,
          12.814356803894043,
          10.411717414855957,
          12.029157638549805,
          14.75764274597168,
          7.606772422790527,
          13.378217697143555,
          15.157882690429688,
          -4.139055252075195,
          8.136490821838379,
          12.615435600280762,
          8.345020294189453
         ]
        },
        {
         "marker": {
          "color": "rgba(128, 0, 128, 1.0)",
          "line": {
           "width": 1.3
          },
          "opacity": 0.8,
          "size": 12,
          "symbol": "circle"
         },
         "mode": "markers",
         "name": "ICML",
         "text": [
          "OptNet: Differentiable Optimization as a Layer in Neural Networks",
          "Input Convex Neural Networks",
          "Differentially Private Database Release via Kernel Mean Embeddings",
          "Optimizing the Latent Space of Generative Networks",
          "NetGAN: Generating Graphs via Random Walks",
          "Compressed Sensing using Generative Models",
          "Predict and Constrain: Modeling Cardinality in Deep Structured Prediction",
          "Path-Level Network Transformation for Efficient Architecture Search",
          "Adversarial Learning with Local Coordinate Coding",
          "Adversarial Time-to-Event Modeling",
          "Learning K-way D-dimensional Discrete Codes for Compact Embedding Representations",
          "DRACO: Byzantine-resilient Distributed Training via Redundant Gradients",
          "AdaNet: Adaptive Structural Learning of Artificial Neural Networks",
          "Inference Suboptimality in Variational Autoencoders",
          "Stochastic Generative Hashing",
          "Adversarial Attack on Graph Structured Data",
          "Language Modeling with Gated Convolutional Networks",
          "Stochastic Video Generation with a Learned Prior",
          "Dance Dance Convolution",
          "Model-Agnostic Meta-Learning for Fast Adaptation of Deep Networks",
          "Input Switched Affine Networks: An RNN Architecture Designed for Interpretability",
          "Bilevel Programming for Hyperparameter Optimization and Meta-Learning",
          "Convolutional Sequence to Sequence Learning",
          "Visualizing and Understanding Atari Agents",
          "On Calibration of Modern Neural Networks",
          "DeepBach: a Steerable Model for Bach Chorales Generation",
          "Learning unknown ODE models with Gaussian processes",
          "Toward Controlled Generation of Text",
          "Neural Autoregressive Flows",
          "Decoupled Parallel Backpropagation with Convergence Guarantee",
          "Attention-based Deep Multiple Instance Learning",
          "Black-box Adversarial Attacks with Limited Queries and Information",
          "Decoupled Neural Interfaces using Synthetic Gradients",
          "Efficient end-to-end learning for quantizable representations",
          "Composite Functional Gradient Learning of Generative  Adversarial Models",
          "Video Pixel Networks",
          "Efficient Neural Audio Synthesis",
          "Learning to Discover Cross-Domain Relations with Generative Adversarial Networks",
          "SplitNet: Learning to Semantically Split Deep Networks for Parameter Reduction and Model Parallelization",
          "Disentangling by Factorising",
          "Neural Relational Inference for Interacting Systems",
          "Grammar Variational Autoencoder",
          "Deep Spectral Clustering Learning",
          "Hierarchical Imitation and Reinforcement Learning",
          "Confident Multiple Choice Learning",
          "Gated Path Planning Networks",
          "Noise2Noise: Learning Image Restoration without Clean Data",
          "Dropout Inference in Bayesian Neural Networks with Alpha-divergences",
          "Explicit Inductive Bias for Transfer Learning with Convolutional Networks",
          "Towards Binary-Valued Gates for Robust LSTM Training",
          "Zero-Inflated Exponential Family Embeddings",
          "Dimensionality-Driven Learning with Noisy Labels",
          "Adversarial Variational Bayes: Unifying Variational Autoencoders and Generative Adversarial Networks",
          "Device Placement Optimization with Reinforcement Learning",
          "SparseMAP: Differentiable Sparse Structured Inference",
          "A Theoretical Explanation for Perplexing Behaviors of Backpropagation-based Visualizations",
          "The Statistical Recurrent Unit",
          "Efficient Neural Architecture Search via Parameters Sharing",
          "Robust Adversarial Reinforcement Learning",
          "Neural Episodic Control",
          "Online and Linear-Time Attention by Enforcing Monotonic Alignments",
          "Learning to Reweight Examples for Robust Deep Learning",
          "Deep One-Class Classification",
          "First Order Generative Adversarial Networks",
          "Finding Influential Training Samples for Gradient Boosted Decision Trees",
          "A Spectral Approach to Gradient Estimation for Implicit Distributions",
          "Bottleneck Conditional Density Estimation",
          "The Predictron:  End-To-End Learning and Planning",
          "Accelerating Natural Gradient with Higher-Order Invariance",
          "Exploiting the Potential of Standard Convolutional Autoencoders for Image Restoration by Evolutionary Search",
          "Neural Program Synthesis from Diverse Demonstration Videos",
          "Differentiable Compositional Kernel Learning for Gaussian Processes",
          "Axiomatic Attribution for Deep Networks",
          "Black Box FDR",
          "Learning Longer-term Dependencies in RNNs with Auxiliary Losses",
          "The Mirage of Action-Dependent Baselines in Reinforcement Learning",
          "Learning to Generate Long-term Future via Hierarchical Prediction",
          "PredRNN++: Towards A Resolution of the Deep-in-Time Dilemma in Spatiotemporal Predictive Learning",
          "Style Tokens: Unsupervised Style Modeling, Control and Transfer in End-to-End Speech Synthesis",
          "Transfer Learning via Learning to Transfer",
          "Hierarchical Long-term Video Prediction without Supervision",
          "Variance Regularized Counterfactual Risk Minimization via Variational Divergence Minimization",
          "Deep k-Means: Re-Training and Parameter Sharing with Harder Cluster Assignments for Compressing Deep Convolutions",
          "Learning Semantic Representations for Unsupervised Domain Adaptation",
          "Improved Variational Autoencoders for Text Modeling using Dilated Convolutions",
          "Mean Field Multi-Agent Reinforcement Learning",
          "Combined Group and Exclusive Sparsity for Deep Neural Networks",
          "GraphRNN: Generating Realistic Graphs with Deep Auto-regressive Models",
          "Continual Learning Through Synaptic Intelligence",
          "Adversarial Feature Matching for Text Generation",
          "Convexified Convolutional Neural Networks",
          "Noisy Natural Gradient as Variational Inference",
          "Recurrent Highway Networks"
         ],
         "textfont": {
          "color": "#4D5663"
         },
         "type": "scatter",
         "x": [
          1.9633100032806396,
          8.399288177490234,
          -3.880429744720459,
          -7.513318061828613,
          -9.077211380004883,
          0.1376074254512787,
          -15.678584098815918,
          -2.417759418487549,
          -8.015141487121582,
          -12.38793659210205,
          10.02601432800293,
          1.6971004009246826,
          7.0125837326049805,
          -3.77815318107605,
          6.863196849822998,
          11.650260925292969,
          6.4154276847839355,
          -0.026669196784496307,
          0.7337761521339417,
          7.897245407104492,
          0.3552590608596802,
          5.6257429122924805,
          8.578960418701172,
          2.2332210540771484,
          1.9710639715194702,
          2.606727123260498,
          3.5511608123779297,
          -5.866559982299805,
          -3.733881950378418,
          -7.485454082489014,
          -6.122465133666992,
          -7.51432466506958,
          10.564173698425293,
          -7.02439546585083,
          -0.04479210823774338,
          2.9980695247650146,
          -23.38071632385254,
          4.049111366271973,
          11.710968017578125,
          -7.128438949584961,
          -11.610725402832031,
          -6.212655544281006,
          -6.330947399139404,
          0.6023477911949158,
          5.1981425285339355,
          -7.917126178741455,
          -1.6671162843704224,
          3.163841724395752,
          -12.758505821228027,
          1.4785122871398926,
          0.407483845949173,
          2.1781773567199707,
          5.058888912200928,
          3.0070698261260986,
          -9.424217224121094,
          2.2866270542144775,
          3.250225782394409,
          -9.427435874938965,
          12.463719367980957,
          0.45992788672447205,
          8.868064880371094,
          -11.572566032409668,
          -2.375978708267212,
          -7.625643253326416,
          -6.40052604675293,
          5.304910182952881,
          8.447056770324707,
          7.448814868927002,
          -0.4919758439064026,
          -24.680835723876953,
          4.8597307205200195,
          -7.649899005889893,
          7.555567741394043,
          -3.0164384841918945,
          11.60038948059082,
          -2.2430496215820312,
          5.160337448120117,
          2.459510564804077,
          -0.7870654463768005,
          -12.725041389465332,
          -5.925662040710449,
          -13.18410587310791,
          5.010113716125488,
          -1.437732219696045,
          3.591289758682251,
          -6.806000232696533,
          6.8861589431762695,
          -2.0503175258636475,
          6.3330302238464355,
          6.045074462890625,
          1.0611990690231323,
          -8.934532165527344,
          8.730854988098145
         ],
         "y": [
          -10.0635404586792,
          -14.71804428100586,
          -8.346242904663086,
          -7.81687068939209,
          -7.079911708831787,
          -2.2070953845977783,
          4.633930206298828,
          -12.765186309814453,
          -7.4437994956970215,
          8.365654945373535,
          -1.7208837270736694,
          -7.517632484436035,
          18.214012145996094,
          -8.006638526916504,
          -3.994904041290283,
          -10.527793884277344,
          -4.887323379516602,
          -17.0556583404541,
          -2.2532153129577637,
          -14.902974128723145,
          -4.130406379699707,
          -13.273996353149414,
          -14.955007553100586,
          -8.330799102783203,
          -1.2180595397949219,
          -17.844741821289062,
          -7.7338786125183105,
          -17.098392486572266,
          -7.717712879180908,
          -9.499100685119629,
          -18.303010940551758,
          18.013757705688477,
          -6.683146953582764,
          18.967132568359375,
          2.0568277835845947,
          -10.797066688537598,
          -0.1142338290810585,
          3.2769854068756104,
          14.724186897277832,
          -11.663313865661621,
          -16.307695388793945,
          -4.547126293182373,
          4.6150031089782715,
          -5.186540603637695,
          3.1231493949890137,
          -9.21493911743164,
          2.261108160018921,
          -4.539455890655518,
          10.602717399597168,
          -17.467531204223633,
          -3.592630624771118,
          -1.2405537366867065,
          1.3005589246749878,
          -10.673539161682129,
          -11.641164779663086,
          -9.215521812438965,
          -4.33211088180542,
          -12.059191703796387,
          -7.099975109100342,
          -3.9988067150115967,
          -17.59816551208496,
          -16.744123458862305,
          -13.342297554016113,
          17.935199737548828,
          4.631467342376709,
          -13.698108673095703,
          6.936641693115234,
          -3.470722198486328,
          2.353621244430542,
          0.6971186399459839,
          -14.210332870483398,
          6.9573283195495605,
          -11.495651245117188,
          -17.17430877685547,
          -10.825514793395996,
          -17.919801712036133,
          -11.754941940307617,
          -9.291632652282715,
          2.766695499420166,
          10.824323654174805,
          -17.531187057495117,
          -16.000499725341797,
          -20.755666732788086,
          4.315620422363281,
          -17.062458038330078,
          -7.001222610473633,
          18.53885841369629,
          -18.408052444458008,
          -5.200460910797119,
          3.5949132442474365,
          5.757904052734375,
          -9.666264533996582,
          -13.518365859985352
         ]
        },
        {
         "marker": {
          "color": "rgba(219, 64, 82, 1.0)",
          "line": {
           "width": 1.3
          },
          "opacity": 0.8,
          "size": 12,
          "symbol": "circle"
         },
         "mode": "markers",
         "name": "ICCV",
         "text": [
          "VQA: Visual Question Answering",
          "Convolutional Color Constancy",
          "Deep TextSpotter: An End-To-End Trainable Scene Text Localization and Recognition Framework",
          "SubUNets: End-To-End Hand Shape and Continuous Sign Language Recognition",
          "Deep Adaptive Image Clustering",
          "Photographic Image Synthesis With Cascaded Refinement Networks",
          "Deformable Convolutional Networks",
          "Attributes2Classname: A Discriminative Model for Attribute-Based Unsupervised Zero-Shot Learning",
          "RPAN: An End-To-End Recurrent Pose-Attention Network for Action Recognition in Videos",
          "Associative Domain Adaptation",
          "Mask R-CNN",
          "Wavelet-SRNet: A Wavelet-Based CNN for Multi-Scale Face Super Resolution",
          "PoseNet: A Convolutional Network for Real-Time 6-DOF Camera Relocalization",
          "Escape From Cells: Deep Kd-Networks for the Recognition of 3D Point Cloud Models",
          "Introspective Neural Networks for Generative Modeling",
          "Learning Efficient Convolutional Networks Through Network Slimming",
          "No Fuss Distance Metric Learning Using Proxies",
          "GANs for Biological Image Synthesis",
          "Following Gaze in Video",
          "EnhanceNet: Single Image Super-Resolution Through Automated Texture Synthesis",
          "Hide-And-Seek: Forcing a Network to Be Meticulous for Weakly-Supervised Object and Action Localization",
          "Face Flow",
          "MemNet: A Persistent Memory Network for Image Restoration",
          "Unsupervised Learning of Object Landmarks by Factorized Spatial Embeddings",
          "Unsupervised Adaptation for Deep Stereo",
          "Learning Blind Motion Deblurring",
          "Unlabeled Samples Generated by GAN Improve the Person Re-Identification Baseline in Vitro"
         ],
         "textfont": {
          "color": "#4D5663"
         },
         "type": "scatter",
         "x": [
          8.559710502624512,
          -12.023161888122559,
          5.586291790008545,
          9.03149700164795,
          8.373615264892578,
          -0.49440741539001465,
          3.357539653778076,
          7.439548015594482,
          -7.239950180053711,
          8.455232620239258,
          5.539449214935303,
          2.6524574756622314,
          -12.701143264770508,
          3.4917919635772705,
          4.772281646728516,
          -6.059968948364258,
          1.9014662504196167,
          4.29872989654541,
          1.0947366952896118,
          5.269171237945557,
          11.4390230178833,
          7.024520397186279,
          1.163358211517334,
          7.987044334411621,
          16.38239288330078,
          8.383125305175781,
          5.990667343139648
         ],
         "y": [
          -3.306565284729004,
          8.364400863647461,
          -12.287300109863281,
          -15.98902702331543,
          -7.867403984069824,
          3.341215133666992,
          -3.9696707725524902,
          -3.2162561416625977,
          -14.856762886047363,
          -13.908699989318848,
          -12.288695335388184,
          -17.862281799316406,
          8.321423530578613,
          -17.357810974121094,
          1.3367042541503906,
          -18.057424545288086,
          -17.717060089111328,
          3.2243247032165527,
          -7.894543170928955,
          -7.698718547821045,
          2.1455605030059814,
          -3.8345842361450195,
          -1.8849215507507324,
          -7.823215007781982,
          -1.7032660245895386,
          -3.2925586700439453,
          3.792748212814331
         ]
        }
       ],
       "layout": {
        "legend": {
         "bgcolor": "#F5F6F9",
         "font": {
          "color": "#4D5663"
         }
        },
        "paper_bgcolor": "#F5F6F9",
        "plot_bgcolor": "#F5F6F9",
        "template": {
         "data": {
          "bar": [
           {
            "error_x": {
             "color": "#2a3f5f"
            },
            "error_y": {
             "color": "#2a3f5f"
            },
            "marker": {
             "line": {
              "color": "#E5ECF6",
              "width": 0.5
             }
            },
            "type": "bar"
           }
          ],
          "barpolar": [
           {
            "marker": {
             "line": {
              "color": "#E5ECF6",
              "width": 0.5
             }
            },
            "type": "barpolar"
           }
          ],
          "carpet": [
           {
            "aaxis": {
             "endlinecolor": "#2a3f5f",
             "gridcolor": "white",
             "linecolor": "white",
             "minorgridcolor": "white",
             "startlinecolor": "#2a3f5f"
            },
            "baxis": {
             "endlinecolor": "#2a3f5f",
             "gridcolor": "white",
             "linecolor": "white",
             "minorgridcolor": "white",
             "startlinecolor": "#2a3f5f"
            },
            "type": "carpet"
           }
          ],
          "choropleth": [
           {
            "colorbar": {
             "outlinewidth": 0,
             "ticks": ""
            },
            "type": "choropleth"
           }
          ],
          "contour": [
           {
            "colorbar": {
             "outlinewidth": 0,
             "ticks": ""
            },
            "colorscale": [
             [
              0,
              "#0d0887"
             ],
             [
              0.1111111111111111,
              "#46039f"
             ],
             [
              0.2222222222222222,
              "#7201a8"
             ],
             [
              0.3333333333333333,
              "#9c179e"
             ],
             [
              0.4444444444444444,
              "#bd3786"
             ],
             [
              0.5555555555555556,
              "#d8576b"
             ],
             [
              0.6666666666666666,
              "#ed7953"
             ],
             [
              0.7777777777777778,
              "#fb9f3a"
             ],
             [
              0.8888888888888888,
              "#fdca26"
             ],
             [
              1,
              "#f0f921"
             ]
            ],
            "type": "contour"
           }
          ],
          "contourcarpet": [
           {
            "colorbar": {
             "outlinewidth": 0,
             "ticks": ""
            },
            "type": "contourcarpet"
           }
          ],
          "heatmap": [
           {
            "colorbar": {
             "outlinewidth": 0,
             "ticks": ""
            },
            "colorscale": [
             [
              0,
              "#0d0887"
             ],
             [
              0.1111111111111111,
              "#46039f"
             ],
             [
              0.2222222222222222,
              "#7201a8"
             ],
             [
              0.3333333333333333,
              "#9c179e"
             ],
             [
              0.4444444444444444,
              "#bd3786"
             ],
             [
              0.5555555555555556,
              "#d8576b"
             ],
             [
              0.6666666666666666,
              "#ed7953"
             ],
             [
              0.7777777777777778,
              "#fb9f3a"
             ],
             [
              0.8888888888888888,
              "#fdca26"
             ],
             [
              1,
              "#f0f921"
             ]
            ],
            "type": "heatmap"
           }
          ],
          "heatmapgl": [
           {
            "colorbar": {
             "outlinewidth": 0,
             "ticks": ""
            },
            "colorscale": [
             [
              0,
              "#0d0887"
             ],
             [
              0.1111111111111111,
              "#46039f"
             ],
             [
              0.2222222222222222,
              "#7201a8"
             ],
             [
              0.3333333333333333,
              "#9c179e"
             ],
             [
              0.4444444444444444,
              "#bd3786"
             ],
             [
              0.5555555555555556,
              "#d8576b"
             ],
             [
              0.6666666666666666,
              "#ed7953"
             ],
             [
              0.7777777777777778,
              "#fb9f3a"
             ],
             [
              0.8888888888888888,
              "#fdca26"
             ],
             [
              1,
              "#f0f921"
             ]
            ],
            "type": "heatmapgl"
           }
          ],
          "histogram": [
           {
            "marker": {
             "colorbar": {
              "outlinewidth": 0,
              "ticks": ""
             }
            },
            "type": "histogram"
           }
          ],
          "histogram2d": [
           {
            "colorbar": {
             "outlinewidth": 0,
             "ticks": ""
            },
            "colorscale": [
             [
              0,
              "#0d0887"
             ],
             [
              0.1111111111111111,
              "#46039f"
             ],
             [
              0.2222222222222222,
              "#7201a8"
             ],
             [
              0.3333333333333333,
              "#9c179e"
             ],
             [
              0.4444444444444444,
              "#bd3786"
             ],
             [
              0.5555555555555556,
              "#d8576b"
             ],
             [
              0.6666666666666666,
              "#ed7953"
             ],
             [
              0.7777777777777778,
              "#fb9f3a"
             ],
             [
              0.8888888888888888,
              "#fdca26"
             ],
             [
              1,
              "#f0f921"
             ]
            ],
            "type": "histogram2d"
           }
          ],
          "histogram2dcontour": [
           {
            "colorbar": {
             "outlinewidth": 0,
             "ticks": ""
            },
            "colorscale": [
             [
              0,
              "#0d0887"
             ],
             [
              0.1111111111111111,
              "#46039f"
             ],
             [
              0.2222222222222222,
              "#7201a8"
             ],
             [
              0.3333333333333333,
              "#9c179e"
             ],
             [
              0.4444444444444444,
              "#bd3786"
             ],
             [
              0.5555555555555556,
              "#d8576b"
             ],
             [
              0.6666666666666666,
              "#ed7953"
             ],
             [
              0.7777777777777778,
              "#fb9f3a"
             ],
             [
              0.8888888888888888,
              "#fdca26"
             ],
             [
              1,
              "#f0f921"
             ]
            ],
            "type": "histogram2dcontour"
           }
          ],
          "mesh3d": [
           {
            "colorbar": {
             "outlinewidth": 0,
             "ticks": ""
            },
            "type": "mesh3d"
           }
          ],
          "parcoords": [
           {
            "line": {
             "colorbar": {
              "outlinewidth": 0,
              "ticks": ""
             }
            },
            "type": "parcoords"
           }
          ],
          "pie": [
           {
            "automargin": true,
            "type": "pie"
           }
          ],
          "scatter": [
           {
            "marker": {
             "colorbar": {
              "outlinewidth": 0,
              "ticks": ""
             }
            },
            "type": "scatter"
           }
          ],
          "scatter3d": [
           {
            "line": {
             "colorbar": {
              "outlinewidth": 0,
              "ticks": ""
             }
            },
            "marker": {
             "colorbar": {
              "outlinewidth": 0,
              "ticks": ""
             }
            },
            "type": "scatter3d"
           }
          ],
          "scattercarpet": [
           {
            "marker": {
             "colorbar": {
              "outlinewidth": 0,
              "ticks": ""
             }
            },
            "type": "scattercarpet"
           }
          ],
          "scattergeo": [
           {
            "marker": {
             "colorbar": {
              "outlinewidth": 0,
              "ticks": ""
             }
            },
            "type": "scattergeo"
           }
          ],
          "scattergl": [
           {
            "marker": {
             "colorbar": {
              "outlinewidth": 0,
              "ticks": ""
             }
            },
            "type": "scattergl"
           }
          ],
          "scattermapbox": [
           {
            "marker": {
             "colorbar": {
              "outlinewidth": 0,
              "ticks": ""
             }
            },
            "type": "scattermapbox"
           }
          ],
          "scatterpolar": [
           {
            "marker": {
             "colorbar": {
              "outlinewidth": 0,
              "ticks": ""
             }
            },
            "type": "scatterpolar"
           }
          ],
          "scatterpolargl": [
           {
            "marker": {
             "colorbar": {
              "outlinewidth": 0,
              "ticks": ""
             }
            },
            "type": "scatterpolargl"
           }
          ],
          "scatterternary": [
           {
            "marker": {
             "colorbar": {
              "outlinewidth": 0,
              "ticks": ""
             }
            },
            "type": "scatterternary"
           }
          ],
          "surface": [
           {
            "colorbar": {
             "outlinewidth": 0,
             "ticks": ""
            },
            "colorscale": [
             [
              0,
              "#0d0887"
             ],
             [
              0.1111111111111111,
              "#46039f"
             ],
             [
              0.2222222222222222,
              "#7201a8"
             ],
             [
              0.3333333333333333,
              "#9c179e"
             ],
             [
              0.4444444444444444,
              "#bd3786"
             ],
             [
              0.5555555555555556,
              "#d8576b"
             ],
             [
              0.6666666666666666,
              "#ed7953"
             ],
             [
              0.7777777777777778,
              "#fb9f3a"
             ],
             [
              0.8888888888888888,
              "#fdca26"
             ],
             [
              1,
              "#f0f921"
             ]
            ],
            "type": "surface"
           }
          ],
          "table": [
           {
            "cells": {
             "fill": {
              "color": "#EBF0F8"
             },
             "line": {
              "color": "white"
             }
            },
            "header": {
             "fill": {
              "color": "#C8D4E3"
             },
             "line": {
              "color": "white"
             }
            },
            "type": "table"
           }
          ]
         },
         "layout": {
          "annotationdefaults": {
           "arrowcolor": "#2a3f5f",
           "arrowhead": 0,
           "arrowwidth": 1
          },
          "coloraxis": {
           "colorbar": {
            "outlinewidth": 0,
            "ticks": ""
           }
          },
          "colorscale": {
           "diverging": [
            [
             0,
             "#8e0152"
            ],
            [
             0.1,
             "#c51b7d"
            ],
            [
             0.2,
             "#de77ae"
            ],
            [
             0.3,
             "#f1b6da"
            ],
            [
             0.4,
             "#fde0ef"
            ],
            [
             0.5,
             "#f7f7f7"
            ],
            [
             0.6,
             "#e6f5d0"
            ],
            [
             0.7,
             "#b8e186"
            ],
            [
             0.8,
             "#7fbc41"
            ],
            [
             0.9,
             "#4d9221"
            ],
            [
             1,
             "#276419"
            ]
           ],
           "sequential": [
            [
             0,
             "#0d0887"
            ],
            [
             0.1111111111111111,
             "#46039f"
            ],
            [
             0.2222222222222222,
             "#7201a8"
            ],
            [
             0.3333333333333333,
             "#9c179e"
            ],
            [
             0.4444444444444444,
             "#bd3786"
            ],
            [
             0.5555555555555556,
             "#d8576b"
            ],
            [
             0.6666666666666666,
             "#ed7953"
            ],
            [
             0.7777777777777778,
             "#fb9f3a"
            ],
            [
             0.8888888888888888,
             "#fdca26"
            ],
            [
             1,
             "#f0f921"
            ]
           ],
           "sequentialminus": [
            [
             0,
             "#0d0887"
            ],
            [
             0.1111111111111111,
             "#46039f"
            ],
            [
             0.2222222222222222,
             "#7201a8"
            ],
            [
             0.3333333333333333,
             "#9c179e"
            ],
            [
             0.4444444444444444,
             "#bd3786"
            ],
            [
             0.5555555555555556,
             "#d8576b"
            ],
            [
             0.6666666666666666,
             "#ed7953"
            ],
            [
             0.7777777777777778,
             "#fb9f3a"
            ],
            [
             0.8888888888888888,
             "#fdca26"
            ],
            [
             1,
             "#f0f921"
            ]
           ]
          },
          "colorway": [
           "#636efa",
           "#EF553B",
           "#00cc96",
           "#ab63fa",
           "#FFA15A",
           "#19d3f3",
           "#FF6692",
           "#B6E880",
           "#FF97FF",
           "#FECB52"
          ],
          "font": {
           "color": "#2a3f5f"
          },
          "geo": {
           "bgcolor": "white",
           "lakecolor": "white",
           "landcolor": "#E5ECF6",
           "showlakes": true,
           "showland": true,
           "subunitcolor": "white"
          },
          "hoverlabel": {
           "align": "left"
          },
          "hovermode": "closest",
          "mapbox": {
           "style": "light"
          },
          "paper_bgcolor": "white",
          "plot_bgcolor": "#E5ECF6",
          "polar": {
           "angularaxis": {
            "gridcolor": "white",
            "linecolor": "white",
            "ticks": ""
           },
           "bgcolor": "#E5ECF6",
           "radialaxis": {
            "gridcolor": "white",
            "linecolor": "white",
            "ticks": ""
           }
          },
          "scene": {
           "xaxis": {
            "backgroundcolor": "#E5ECF6",
            "gridcolor": "white",
            "gridwidth": 2,
            "linecolor": "white",
            "showbackground": true,
            "ticks": "",
            "zerolinecolor": "white"
           },
           "yaxis": {
            "backgroundcolor": "#E5ECF6",
            "gridcolor": "white",
            "gridwidth": 2,
            "linecolor": "white",
            "showbackground": true,
            "ticks": "",
            "zerolinecolor": "white"
           },
           "zaxis": {
            "backgroundcolor": "#E5ECF6",
            "gridcolor": "white",
            "gridwidth": 2,
            "linecolor": "white",
            "showbackground": true,
            "ticks": "",
            "zerolinecolor": "white"
           }
          },
          "shapedefaults": {
           "line": {
            "color": "#2a3f5f"
           }
          },
          "ternary": {
           "aaxis": {
            "gridcolor": "white",
            "linecolor": "white",
            "ticks": ""
           },
           "baxis": {
            "gridcolor": "white",
            "linecolor": "white",
            "ticks": ""
           },
           "bgcolor": "#E5ECF6",
           "caxis": {
            "gridcolor": "white",
            "linecolor": "white",
            "ticks": ""
           }
          },
          "title": {
           "x": 0.05
          },
          "xaxis": {
           "automargin": true,
           "gridcolor": "white",
           "linecolor": "white",
           "ticks": "",
           "title": {
            "standoff": 15
           },
           "zerolinecolor": "white",
           "zerolinewidth": 2
          },
          "yaxis": {
           "automargin": true,
           "gridcolor": "white",
           "linecolor": "white",
           "ticks": "",
           "title": {
            "standoff": 15
           },
           "zerolinecolor": "white",
           "zerolinewidth": 2
          }
         }
        },
        "title": {
         "font": {
          "color": "#4D5663"
         }
        },
        "xaxis": {
         "gridcolor": "#E1E5ED",
         "showgrid": true,
         "tickfont": {
          "color": "#4D5663"
         },
         "title": {
          "font": {
           "color": "#4D5663"
          },
          "text": ""
         },
         "zerolinecolor": "#E1E5ED"
        },
        "yaxis": {
         "gridcolor": "#E1E5ED",
         "showgrid": true,
         "tickfont": {
          "color": "#4D5663"
         },
         "title": {
          "font": {
           "color": "#4D5663"
          },
          "text": ""
         },
         "zerolinecolor": "#E1E5ED"
        }
       }
      },
      "text/html": [
       "<div>\n",
       "        \n",
       "        \n",
       "            <div id=\"0934ced6-5863-422d-8888-fd8ff8b4c6cf\" class=\"plotly-graph-div\" style=\"height:525px; width:100%;\"></div>\n",
       "            <script type=\"text/javascript\">\n",
       "                require([\"plotly\"], function(Plotly) {\n",
       "                    window.PLOTLYENV=window.PLOTLYENV || {};\n",
       "                    window.PLOTLYENV.BASE_URL='https://plot.ly';\n",
       "                    \n",
       "                if (document.getElementById(\"0934ced6-5863-422d-8888-fd8ff8b4c6cf\")) {\n",
       "                    Plotly.newPlot(\n",
       "                        '0934ced6-5863-422d-8888-fd8ff8b4c6cf',\n",
       "                        [{\"marker\": {\"color\": \"rgba(255, 153, 51, 1.0)\", \"line\": {\"width\": 1.3}, \"opacity\": 0.8, \"size\": 12, \"symbol\": \"circle\"}, \"mode\": \"markers\", \"name\": \"NIPS\", \"text\": [\"Visualizing the Loss Landscape of Neural Nets\", \"PointCNN\", \"L4: Practical loss-based stepsize adaptation for deep learning\", \"Multimodal Generative Models for Scalable Weakly-Supervised Learning\", \"Neural Voice Cloning with a Few Samples\", \"The Description Length of Deep Learning models\", \"Deep Defense: Training DNNs with Improved Adversarial Robustness\", \"Adversarial Logit Pairing\", \"Realistic Evaluation of Deep Semi-Supervised Learning Algorithms\", \"DVAE#: Discrete Variational Autoencoders with Relaxed Boltzmann Priors\", \"BourGAN: Generative Networks with Metric Embeddings\", \"Bilinear Attention Networks\", \"Breaking the Activation Function Bottleneck through Adaptive Parameterization\", \"Hyperbolic Neural Networks\", \"Learning towards Minimum Hyperspherical Energy\", \"Generalizing to Unseen Domains via Adversarial Data Augmentation\", \"On GANs and GMMs\", \"Assessing Generative Models via Precision and Recall\", \"Relational recurrent neural networks\", \"Unsupervised Attention-guided Image-to-Image Translation\", \"Speaker-Follower Models for Vision-and-Language Navigation\", \"ATOMO: Communication-efficient Learning via Atomic Sparsification\", \"Generative Neural Machine Translation\", \"Banach Wasserstein GAN\", \"Neural Code Comprehension: A Learnable Representation of Code Semantics\", \"3D Steerable CNNs: Learning Rotationally Equivariant Features in Volumetric Data\", \"Discovery of Latent 3D Keypoints via End-to-end Geometric Reasoning\", \"An intriguing failing of convolutional neural networks and the CoordConv solution\", \"Latent Alignment and Variational Attention\", \"Neural Arithmetic Logic Units\", \"Adaptive Skip Intervals: Temporal Abstraction for Recurrent Dynamical Models\", \"Video-to-Video Synthesis\", \"Generalisation in humans and deep neural networks\", \"A Unified Feature Disentangler for Multi-Domain Image Translation and Manipulation\", \"Neural Guided Constraint Logic Programming for Program Synthesis\", \"Deep Subspace Clustering Networks\", \"Dilated Recurrent Neural Networks\", \"Structured Embedding Models for Grouped Data\", \"Best of Both Worlds: Transferring Knowledge from Discriminative Learning to a Generative Visual Dialog Model\", \"Learning a Multi-View Stereo Machine\", \"Universal Style Transfer via Feature Transforms\", \"f-GANs in an Information Geometric Nutshell\", \"Toward Multimodal Image-to-Image Translation\", \"One-Sided Unsupervised Domain Mapping\", \"Deep Mean-Shift Priors for Image Restoration\", \"SchNet: A continuous-filter convolutional neural network for modeling quantum interactions\", \"Inductive Representation Learning on Large Graphs\", \"Mean teachers are better role models: Weight-averaged consistency targets improve semi-supervised deep learning results\", \"TernGrad: Ternary Gradients to Reduce Communication in Distributed Deep Learning\", \"NeuralFDR: Learning Discovery Thresholds from Hypothesis Features\", \"Learning Multiple Tasks with Multilinear Relationship Networks\", \"Train longer, generalize better: closing the generalization gap in large batch training of neural networks\", \"The Numerics of GANs\", \"Stabilizing Training of Generative Adversarial Networks through Regularization\", \"Training Deep Networks without Learning Rates Through Coin Betting\", \"MMD GAN: Towards Deeper Understanding of Moment Matching Network\", \"Few-Shot Learning Through an Information Retrieval  Lens\", \"Differentiable Learning of Logical Rules for Knowledge Base Reasoning\", \"OnACID: Online Analysis of Calcium Imaging Data in Real Time\", \"Fisher GAN\", \"Toward Goal-Driven Neural Network Models for the Rodent Whisker-Trigeminal System\", \"Predicting Organic Reaction Outcomes with Weisfeiler-Lehman Network\", \"REBAR: Low-variance, unbiased gradient estimates for discrete latent variable models\", \"ELF: An Extensive, Lightweight and Flexible Research Platform for Real-time Strategy Games\", \"Dual Discriminator Generative Adversarial Nets\", \"Bridging the Gap Between Value and Policy Based Reinforcement Learning\", \"Convolutional Gaussian Processes\", \"Deep Lattice Networks and Partial Monotonic Functions\", \"Hierarchical Attentive Recurrent Tracking\", \"Learning to Compose Domain-Specific Transformations for Data Augmentation\", \"Language Modeling with Recurrent Highway Hypernetworks\", \"Bayesian Compression for Deep Learning\", \"Streaming Sparse Gaussian Process Approximations\", \"Spherical convolutions and their application in molecular modelling\", \"Neural system identification for large populations separating \\u0093what\\u0094 and \\u0093where\\u0094\", \"A Disentangled Recognition and Nonlinear Dynamics Model for Unsupervised Learning\", \"Bayesian GAN\", \"Geometric Matrix Completion with Recurrent Multi-Graph Neural Networks\", \"Diving into the shallows: a computational perspective on large-scale shallow learning\", \"InfoGAIL: Interpretable Imitation Learning from Visual Demonstrations\", \"Deep Hyperspherical Learning\", \"On-the-fly Operation Batching in Dynamic Computation Graphs\", \"Streaming Weak Submodularity: Interpreting Neural Networks on the Fly\", \"Prototypical Networks for Few-shot Learning\", \"Multi-Information Source Optimization\", \"Dual Path Networks\", \"Doubly Stochastic Variational Inference for Deep Gaussian Processes\", \"QMDP-Net: Deep Learning for Planning under Partial Observability\", \"A Unified Approach to Interpreting Model Predictions\", \"Context Selection for Embedding Models\", \"Working hard to know your neighbor's margins: Local descriptor learning loss\", \"Learning to Prune Deep Neural Networks via Layer-wise Optimal Brain Surgeon\", \"DropoutNet: Addressing Cold Start in Recommender Systems\", \"PointNet++: Deep Hierarchical Feature Learning on Point Sets in a Metric Space\", \"A-NICE-MC: Adversarial Training for MCMC\", \"Riemannian approach to batch normalization\", \"Triangle Generative Adversarial Networks\", \"Scalable trust-region method for deep reinforcement learning using Kronecker-factored approximation\", \"Hybrid Reward Architecture for Reinforcement Learning\", \"AdaGAN: Boosting Generative Models\", \"Task-based End-to-end Model Learning in Stochastic Optimization\", \"Gradient descent GAN optimization is locally stable\", \"Do Deep Neural Networks Suffer from Crowding?\", \"Improved Training of Wasserstein GANs\", \"Learning Disentangled Representations with Semi-Supervised Deep Generative Models\", \"Attention is All you Need\", \"Value Prediction Network\", \"Causal Effect Inference with Deep Latent-Variable Models\", \"Good Semi-supervised Learning That Requires a Bad GAN\", \"Modulating early visual processing by language\", \"GANs Trained by a Two Time-Scale Update Rule Converge to a Local Nash Equilibrium\", \"Neural Expectation Maximization\", \"Attend and Predict: Understanding Gene Regulation by Selective Attention on Chromatin\", \"Style Transfer from Non-Parallel Text by Cross-Alignment\", \"Real Time Image Saliency for Black Box Classifiers\", \"COLA: Decentralized Linear Learning\", \"A Simple Unified Framework for Detecting Out-of-Distribution Samples and Adversarial Attacks\", \"Mapping Images to Scene Graphs with Permutation-Invariant Structured Prediction\", \"Learning Conditioned Graph Structures for Interpretable Visual Question Answering\", \"Reversible Recurrent Neural Networks\"], \"textfont\": {\"color\": \"#4D5663\"}, \"type\": \"scatter\", \"x\": [12.907031059265137, -5.972403049468994, 1.3739789724349976, -10.98717212677002, 15.958040237426758, -11.502992630004883, -4.596158981323242, -3.8561575412750244, -6.08293342590332, 1.458631157875061, 3.2253713607788086, 2.344479560852051, 10.537904739379883, 13.50833797454834, 5.414897918701172, -7.575455665588379, 5.0251994132995605, 1.1387053728103638, -2.0325114727020264, 11.621399879455566, 18.10848045349121, -2.1572394371032715, 1.6459983587265015, 0.6993091702461243, 0.959811270236969, 20.498239517211914, 21.62447166442871, 19.517475128173828, 18.104042053222656, 4.669456958770752, 13.8443603515625, 13.906878471374512, 20.258174896240234, 16.214900970458984, 18.691476821899414, 13.074679374694824, 16.51959991455078, 23.678638458251953, 23.808712005615234, 11.402607917785645, 17.263473510742188, 13.75344467163086, 20.930362701416016, 17.52497673034668, 4.407948017120361, 15.056870460510254, 8.542778015136719, 24.360763549804688, 8.45899772644043, 17.11610221862793, 6.674089431762695, 24.09454917907715, 5.97361421585083, 9.406758308410645, 16.090208053588867, 12.66286563873291, 8.455016136169434, 13.41900634765625, 17.462039947509766, 8.583908081054688, 16.767765045166016, 13.128894805908203, -0.4440290629863739, 21.749448776245117, 15.219110488891602, 12.592490196228027, 13.207842826843262, 16.49700927734375, 16.281307220458984, 11.938809394836426, 17.633827209472656, 17.29296112060547, 10.076171875, 11.972979545593262, 20.25248146057129, 18.876449584960938, 15.473069190979004, 17.832860946655273, 15.826194763183594, 5.808223724365234, 17.28119468688965, 7.640124797821045, 10.823162078857422, 19.59648895263672, 13.373482704162598, 13.476532936096191, 12.547070503234863, 13.644333839416504, 20.243804931640625, 23.550601959228516, 13.75623893737793, 13.834736824035645, 12.08046817779541, 11.792991638183594, 8.800468444824219, 12.994200706481934, 12.18093490600586, 6.599042892456055, 13.755756378173828, 9.177961349487305, 23.773454666137695, 8.313547134399414, 14.03127670288086, 10.085646629333496, 20.366710662841797, 13.714699745178223, 8.310738563537598, 11.57381820678711, 17.017011642456055, 20.734403610229492, 14.40511417388916, 16.152151107788086, 19.966093063354492, 17.87196922302246, 21.722965240478516, 1.208319902420044, 15.856555938720703, 21.680625915527344, 18.043420791625977, 23.73628807067871], \"y\": [-10.11232852935791, 12.074357986450195, 10.213142395019531, -4.435098648071289, -11.425677299499512, -4.592184066772461, 14.97854995727539, 15.791690826416016, 11.971243858337402, 19.13631820678711, -1.3421306610107422, 19.62237548828125, -6.785216331481934, -5.363735675811768, 20.241178512573242, 17.012170791625977, 20.421724319458008, -7.877377986907959, -20.63119125366211, -10.462549209594727, -15.66713809967041, -13.761808395385742, -19.1258544921875, -21.145214080810547, -21.129192352294922, -12.136052131652832, -7.520185947418213, -12.686893463134766, -15.40417194366455, 20.900741577148438, 17.91775894165039, 17.748289108276367, 1.5548839569091797, -11.269522666931152, -11.760973930358887, 5.234017372131348, -1.404923439025879, 2.7619338035583496, -5.7499518394470215, 2.091248035430908, 3.4517993927001953, 5.1537065505981445, 6.638772964477539, 3.662679433822632, 8.6093168258667, 11.06804084777832, 10.799139022827148, 3.7657246589660645, 10.738786697387695, -10.28052806854248, 3.7418549060821533, 3.418438196182251, 1.3506948947906494, 7.460798263549805, 11.886197090148926, 13.02696418762207, 10.54801082611084, 0.22487780451774597, 3.6073033809661865, 6.973485946655273, 12.158658981323242, 16.0107421875, -2.007566452026367, -5.115435600280762, 12.235382080078125, -6.988161087036133, 15.236279487609863, 12.122386932373047, -2.770681381225586, 15.022479057312012, -1.635430932044983, -9.990737915039062, -1.6459275484085083, 14.333536148071289, 2.636240243911743, 0.915520191192627, 10.576480865478516, -8.083760261535645, -0.5774957537651062, 20.015146255493164, 3.4700891971588135, 16.076766967773438, 15.263047218322754, -12.473116874694824, 0.06845450401306152, 11.45459270477295, 5.938907623291016, -0.5393710732460022, 1.1289088726043701, 2.6045074462890625, -5.081613063812256, 5.38950252532959, 6.203385353088379, 6.274966239929199, 11.220322608947754, -5.746267795562744, 0.4507075846195221, 1.1640238761901855, -5.002184867858887, 1.539072036743164, -5.786753177642822, -12.290109634399414, 10.40825080871582, 1.2017295360565186, 2.3473961353302, 4.493962287902832, -17.873815536499023, 12.754029273986816, -9.964776992797852, 0.1716039925813675, 10.619453430175781, -0.4015832841396332, -12.339425086975098, -7.831231594085693, -6.8344292640686035, -21.344995498657227, 10.203413009643555, -6.998408794403076, -15.50796127319336, -5.84687614440918]}, {\"marker\": {\"color\": \"rgba(55, 128, 191, 1.0)\", \"line\": {\"width\": 1.3}, \"opacity\": 0.8, \"size\": 12, \"symbol\": \"circle\"}, \"mode\": \"markers\", \"name\": \"ECCV\", \"text\": [\"Improving Shape Deformation in Unsupervised Image-to-Image Translation\", \"Pairwise Confusion for Fine-Grained Visual Classification\", \"GANimation: Anatomically-aware Facial Animation from a Single Image\", \"Deep Expander Networks: Efficient Deep Networks from Graph Theory\", \"3DMV: Joint 3D-Multi-View Prediction for 3D Semantic Scene Segmentation\", \"Learning Category-Specific Mesh Reconstruction from Image Collections\", \"Zero-Shot Object Detection\", \"A Style-Aware Content Loss for Real-time HD Style Transfer\", \"Piggyback: Adapting a Single Network to Multiple Tasks by Learning to Mask Weights\", \"Semi-supervised Adversarial Learning to Generate Photorealistic Face Images of New Identities from 3D Morphable Model\", \"Simple Baselines for Human Pose Estimation and Tracking\", \"Toward Characteristic-Preserving Image-based Virtual Try-On Network\", \"Acquisition of Localization Confidence for Accurate Object Detection\", \"Conditional Image-Text Embedding Networks\", \"SketchyScene: Richly-Annotated Scene Sketches\", \"Progressive Neural Architecture Search\", \"Image Manipulation with Perceptual Discriminators\", \"Unsupervised holistic image generation from key local patches\", \"LQ-Nets: Learned Quantization for Highly Accurate and Compact Deep Neural Networks\", \"Is Robustness the Cost of Accuracy? -- A Comprehensive Study on the Robustness of 18 Deep Image Classification Models\", \"Dynamic Multimodal Instance Segmentation Guided by Natural Language Queries\", \"Dynamic Conditional Networks for Few-Shot Learning\", \"Recovering 3D Planes from a Single Image via Convolutional Neural Networks\", \"Learning Single-View 3D Reconstruction with Limited Pose Supervision\", \"Image Inpainting for Irregular Holes Using Partial Convolutions\", \"Unsupervised Geometry-Aware Representation for 3D Human Pose Estimation\", \"PSANet: Point-wise Spatial Attention Network for Scene Parsing\", \"Predicting Gaze in Egocentric Video by Learning Task-dependent Attention Transition\", \"Coloring with Words: Guiding Image Colorization Through Text-based Palette Generation\", \"Fighting Fake News: Image Splice Detection via Learned Self-Consistency\", \"HiDDeN: Hiding Data with Deep Networks\", \"Multi-scale Residual Network for Image Super-Resolution\", \"Adaptive Affinity Fields for Semantic Segmentation\", \"Statistically-motivated Second-order Pooling\", \"Stacked Cross Attention for Image-Text Matching\", \"Open Set Domain Adaptation by Backpropagation\", \"DeepVS: A Deep Learning Based Video Saliency Prediction Approach\", \"Encoder-Decoder with Atrous Separable Convolution for Semantic Image Segmentation\", \"Estimating the Success of Unsupervised Image to Image Translation\", \"Single Shot Scene Text Retrieval\", \"Learning Type-Aware Embeddings for Fashion Compatibility\", \"Learning Visual Question Answering by Bootstrapping Hard Attention\", \"Deep Clustering for Unsupervised Learning of Visual Features\", \"Joint Person Segmentation and Identification in Synchronized First- and Third-person Videos\", \"ECO: Efficient Convolutional Network for Online Video Understanding\", \"Diverse and Coherent Paragraph Generation from Images\", \"MultiPoseNet: Fast Multi-Person Pose Estimation using Pose Residual Network\", \"ShapeStacks: Learning Vision-Based Physical Intuition for Generalised Object Stacking\", \"Towards Realistic Predictors\", \"Choose Your Neuron: Incorporating Domain Knowledge through Neuron-Importance\", \"Learning to Separate Object Sounds by Watching Unlabeled Video\", \"ESPNet: Efficient Spatial Pyramid of Dilated Convolutions for Semantic Segmentation\", \"Visual Coreference Resolution in Visual Dialog using Neural Module Networks\", \"License Plate Detection and Recognition in Unconstrained Scenarios\", \"Deep High Dynamic Range Imaging with Large Foreground Motions\", \"Multi-view to Novel view: Synthesizing novel views with Self-Learned Confidence\", \"Layer-structured 3D Scene Inference via View Synthesis\", \"3D-CODED: 3D Correspondences by Deep Deformation\", \"HybridNet: Classification and Reconstruction Cooperation for Semi-Supervised Learning\", \"Learning Dynamic Memory Networks for Object Tracking\", \"Interpretable Intuitive Physics Model\", \"Gray-box Adversarial Training\", \"Depth-aware CNN for RGB-D Segmentation\", \"Learning Efficient Single-stage Pedestrian Detectors by Asymptotic Localization Fitting\", \"A Modulation Module for Multi-task Learning with Applications in Image Retrieval\", \"Single Image Water Hazard Detection using FCN with Reflection Attention Units\", \"Integral Human Pose Regression\", \"Recurrent Squeeze-and-Excitation Context Aggregation Net for Single Image Deraining\", \"Quaternion Convolutional Neural Networks\", \"Mutual Learning to Adapt for Joint Human Parsing and Pose Estimation\", \"Pose Partition Networks for Multi-Person Pose Estimation\", \"Video Re-localization\", \"Joint 3D Face Reconstruction and Dense Alignment with Position Map Regression Network\", \"MVSNet: Depth Inference for Unstructured Multi-view Stereo\", \"Audio-Visual Event Localization in Unconstrained Videos\", \"Macro-Micro Adversarial Network for Human Parsing\", \"SpiderCNN: Deep Learning on Point Sets with Parameterized Convolutional Filters\", \"PlaneMatch: Patch Coplanarity Prediction for Robust RGB-D Reconstruction\", \"Factorizable Net: An Efficient Subgraph-based Framework for Scene Graph Generation\", \"Group Normalization\", \"Learning to Navigate for Fine-grained Classification\", \"Partial Adversarial Domain Adaptation\", \"Distractor-aware Siamese Networks for Visual Object Tracking\", \"Improving Generalization via  Scalable Neighborhood Component Analysis\", \"Saliency Detection in 360\\u00b0 Videos\"], \"textfont\": {\"color\": \"#4D5663\"}, \"type\": \"scatter\", \"x\": [-16.075756072998047, -10.424713134765625, -11.292604446411133, -18.191566467285156, -11.589205741882324, -11.252812385559082, -16.580556869506836, -4.499979019165039, -9.3876371383667, -7.328366756439209, -15.775153160095215, -8.397141456604004, -9.333386421203613, -2.260871171951294, -13.985011100769043, -10.457056999206543, -22.198644638061523, -13.68159008026123, -4.320266246795654, -20.90500831604004, -13.86042594909668, -2.2614495754241943, -9.94660758972168, -18.515148162841797, -18.11054229736328, -4.808234214782715, -12.944764137268066, -21.148042678833008, -24.887083053588867, -12.498533248901367, -6.454461097717285, -12.080107688903809, -24.675050735473633, -14.257722854614258, -7.268128871917725, -18.348302841186523, -20.94784164428711, -22.422969818115234, -11.220132827758789, -22.753948211669922, -13.359488487243652, -13.088053703308105, -12.90764045715332, -7.799933433532715, -20.6082706451416, -13.018648147583008, -7.579594135284424, -10.055526733398438, -22.051021575927734, -20.692190170288086, -16.570497512817383, -12.07498836517334, -14.665820121765137, -22.078004837036133, -0.23938333988189697, -13.901809692382812, -14.261667251586914, -10.174395561218262, -19.908597946166992, -16.38371467590332, -13.960658073425293, -20.161029815673828, -7.093252658843994, -10.459478378295898, -15.762142181396484, -16.87977409362793, -16.75241470336914, -13.22640609741211, 0.6367382407188416, -13.217696189880371, -15.554216384887695, -15.347561836242676, -19.70049285888672, -15.699244499206543, -24.617956161499023, -11.948762893676758, -2.35178804397583, -20.144472122192383, -11.207695960998535, -10.695404052734375, -12.731812477111816, -6.843326568603516, -2.173888921737671, -19.672704696655273, -11.662510871887207], \"y\": [2.192884683609009, 1.7476221323013306, -0.5053449869155884, -11.50434684753418, -12.949397087097168, -0.5190281867980957, 2.060940742492676, 6.287941932678223, 2.0130457878112793, 7.984591960906982, -8.672710418701172, 1.0449575185775757, -7.1202616691589355, 1.9163079261779785, 6.00419807434082, 15.024955749511719, 1.2889560461044312, 3.288784980773926, 15.500875473022461, 6.524257183074951, -11.609729766845703, -19.281362533569336, 19.869525909423828, 10.958962440490723, -6.103071689605713, -12.425633430480957, -18.24675750732422, 3.7449235916137695, -0.09222598373889923, 1.575931191444397, -4.2150068283081055, 1.699836254119873, 1.4218456745147705, 5.095693111419678, -0.04506874084472656, -11.592691421508789, 6.991775035858154, 2.3460166454315186, 1.5273966789245605, 1.6254860162734985, -12.219334602355957, -11.593819618225098, -18.38680648803711, -10.650412559509277, 3.477564811706543, -11.543268203735352, -11.334846496582031, 10.56272029876709, 3.048314094543457, 5.752695560455322, -11.362789154052734, -7.403382778167725, 3.917858839035034, 3.0490384101867676, -16.912954330444336, 3.3789329528808594, 4.890751838684082, -4.583171844482422, 5.922273635864258, 10.354873657226562, -11.243644714355469, 8.150646209716797, -9.650626182556152, 14.570502281188965, 2.039746046066284, 12.07627010345459, -11.591775894165039, -19.097883224487305, 14.70205307006836, -16.146663665771484, -10.539008140563965, 4.249343395233154, 6.052672863006592, -9.367481231689453, 1.371248722076416, -7.291268825531006, 1.8148999214172363, 8.192666053771973, -0.5011153817176819, 15.376745223999023, -18.05848503112793, -8.425658226013184, -20.32244873046875, -5.815402984619141, -12.702821731567383]}, {\"marker\": {\"color\": \"rgba(50, 171, 96, 1.0)\", \"line\": {\"width\": 1.3}, \"opacity\": 0.8, \"size\": 12, \"symbol\": \"circle\"}, \"mode\": \"markers\", \"name\": \"CVPR\", \"text\": [\"An Improved Deep Learning Architecture for Person Re-Identification\", \"SST: Single-Stream Temporal Action Proposals\", \"One-Shot Video Object Segmentation\", \"Neural Sign Language Translation\", \"Annotating Object Instances With a Polygon-RNN\", \"Pyramid Stereo Matching Network\", \"AON: Towards Arbitrarily-Oriented Text Recognition\", \"LiDAR-Video Driving Dataset: Learning Driving Policies Effectively\", \"VidLoc: A Deep Spatio-Temporal Model for 6-DoF Video-Clip Relocalization\", \"Large Scale Fine-Grained Categorization and Domain-Specific Transfer Learning\", \"Learning to Evaluate Image Captioning\", \"ScanComplete: Large-Scale Scene Completion and Semantic Segmentation for 3D Scans\", \"Supervision-by-Registration: An Unsupervised Approach to Improve the Precision of Facial Landmark Detectors\", \"GraphBit: Bitwise Interaction Mining via Deep Reinforcement Learning\", \"Who Let the Dogs Out? Modeling Dog Behavior From Visual Data\", \"Robust Physical-World Attacks on Deep Learning Visual Classification\", \"A Point Set Generation Network for 3D Object Reconstruction From a Single Image\", \"End-to-End Learning of Motion Representation for Video Understanding\", \"Deep Pyramidal Residual Networks\", \"Deep Residual Learning for Image Recognition\", \"Deeply Supervised Salient Object Detection With Short Connections\", \"DeepMVS: Learning Multi-View Stereopsis\", \"Densely Connected Convolutional Networks\", \"Learning Deep Representation for Imbalanced Classification\", \"Fast and Accurate Single Image Super-Resolution via Information Distillation Network\", \"LiteFlowNet: A Lightweight Convolutional Neural Network for Optical Flow Estimation\", \"Deep 360 Pilot: Learning a Deep Agent for Piloting Through 360deg Sports Videos\", \"FC4: Fully Convolutional Color Constancy With Confidence-Weighted Pooling\", \"Image Specificity\", \"Perturbative Neural Networks\", \"End-to-End Recovery of Human Shape and Pose\", \"Convolutional Neural Networks for No-Reference Image Quality Assessment\", \"Deeply-Recursive Convolutional Network for Image Super-Resolution\", \"Stochastic Downsampling for Cost-Adjustable Inference and Improved Regularization in Convolutional Networks\", \"Deep Laplacian Pyramid Networks for Fast and Accurate Super-Resolution\", \"TI-Pooling: Transformation-Invariant Pooling for Feature Learning in Convolutional Neural Networks\", \"Recurrent Convolutional Neural Network for Object Recognition\", \"Deep Marching Cubes: Learning Explicit Surface Representations\", \"ST-GAN: Spatial Transformer Generative Adversarial Networks for Image Compositing\", \"Decoupled Networks\", \"PlaneNet: Piece-Wise Planar Reconstruction From a Single RGB Image\", \"Predicting Salient Face in Multiple-Face Videos\", \"Recognizing Human Actions as the Evolution of Pose Estimation Maps\", \"Towards Faster Training of Global Covariance Pooling Networks by Iterative Matrix Square Root Normalization\", \"Fully Convolutional Networks for Semantic Segmentation\", \"Cross-Stitch Networks for Multi-Task Learning\", \"Beyond the Pixel-Wise Loss for Topology-Aware Delineation\", \"3D Bounding Box Estimation Using Deep Learning and Geometry\", \"Learning Dual Convolutional Neural Networks for Low-Level Vision\", \"Jointly Optimize Data Augmentation and Network Training: Adversarial Data Augmentation in Human Pose Estimation\", \"Learning Latent Super-Events to Detect Multiple Activities in Videos\", \"Learning Pose Specific Representations by Predicting Different Views\", \"Frustum PointNets for 3D Object Detection From RGB-D Data\", \"GeoNet: Geometric Neural Network for Joint Depth and Surface Normal Estimation\", \"Semi-Parametric Image Synthesis\", \"End-To-End Instance Segmentation With Recurrent Attention\", \"Adversarially Learned One-Class Classifier for Novelty Detection\", \"Pixels, Voxels, and Views: A Study of Shape Representations for Single View 3D Object Shape Prediction\", \"Actor and Observer: Joint Modeling of First and Third-Person Videos\", \"VITAL: VIsual Tracking via Adversarial Learning\", \"Pix3D: Dataset and Methods for Single-Image 3D Shape Modeling\", \"Multiple Instance Detection Network With Online Instance Classifier Refinement\", \"Real-Time Seamless Single Shot 6D Object Pose Prediction\", \"Lifting From the Deep: Convolutional 3D Pose Estimation From a Single Image\", \"Learning to Adapt Structured Output Space for Semantic Segmentation\", \"Learning Shape Abstractions by Assembling Volumetric Primitives\", \"Learning Superpixels With Segmentation-Aware Affinity Loss\", \"Show and Tell: A Neural Image Caption Generator\", \"Adversarial Feature Augmentation for Unsupervised Domain Adaptation\", \"High-Resolution Image Synthesis and Semantic Manipulation With Conditional GANs\", \"Learning a Discriminative Filter Bank Within a CNN for Fine-Grained Recognition\", \"Min-Entropy Latent Model for Weakly Supervised Object Detection\", \"Rethinking Feature Distribution for Loss Functions in Image Classification\", \"Dense Human Body Correspondences Using Convolutional Networks\", \"Gibson Env: Real-World Perception for Embodied Agents\", \"AttnGAN: Fine-Grained Text to Image Generation With Attentional Generative Adversarial Networks\", \"Object Contour Detection With a Fully Convolutional Encoder-Decoder Network\", \"Robust Classification With Convolutional Prototype Learning\", \"GeoNet: Unsupervised Learning of Dense Depth, Optical Flow and Camera Pose\", \"Generative Image Inpainting With Contextual Attention\", \"Video Paragraph Captioning Using Hierarchical Recurrent Neural Networks\", \"Adversarial Complementary Learning for Weakly Supervised Object Localization\", \"Densely Connected Pyramid Dehazing Network\", \"Residual Dense Network for Image Super-Resolution\", \"Visual Translation Embedding Network for Visual Relation Detection\"], \"textfont\": {\"color\": \"#4D5663\"}, \"type\": \"scatter\", \"x\": [7.750311851501465, -3.630694627761841, 12.347969055175781, -0.27478641271591187, 1.4770745038986206, -8.8985595703125, -4.468972206115723, 14.312773704528809, 4.876775741577148, -4.458302021026611, -15.512541770935059, -4.1626996994018555, -19.195453643798828, -5.213950157165527, -7.908592224121094, 4.32903528213501, 4.711634635925293, -5.736688613891602, 4.826996326446533, -3.8257718086242676, 2.785339832305908, -18.354080200195312, -5.90811014175415, -6.314590930938721, 0.5497201085090637, -8.726936340332031, 3.369229555130005, 2.473881959915161, -9.276824951171875, -2.461616039276123, 18.942378997802734, -3.7450921535491943, -11.10119915008545, 0.3061847388744354, -16.11525535583496, -0.9631586074829102, -3.462132692337036, -18.604084014892578, -0.2750335931777954, 0.5406596064567566, -0.35603341460227966, 3.7652056217193604, -21.285865783691406, 0.40986567735671997, 4.4794535636901855, -23.217552185058594, -13.996979713439941, -10.498860359191895, -10.135170936584473, -13.880434036254883, -4.00015926361084, -8.47937297821045, -10.221728324890137, 3.715157985687256, -16.874183654785156, 8.482392311096191, -4.820840835571289, -4.2942118644714355, -8.15388298034668, -16.855194091796875, -11.70198917388916, 17.166860580444336, -15.186047554016113, 6.827378749847412, -16.000547409057617, -15.376253128051758, -10.586271286010742, 13.824101448059082, -4.355454444885254, -5.190335750579834, -3.401201009750366, -8.278356552124023, -0.567725419998169, -5.150512218475342, -7.3968353271484375, 0.4524000287055969, -5.760457992553711, 0.9135919213294983, -7.95335578918457, -0.29150471091270447, 1.460476040840149, -13.752569198608398, -7.184382438659668, -7.0883870124816895, -8.980118751525879], \"y\": [16.01313018798828, -12.39141845703125, 13.533848762512207, 13.838494300842285, 11.872525215148926, -3.844365119934082, 6.2302165031433105, 8.01279067993164, 15.328941345214844, 20.72342300415039, 9.861444473266602, 20.740196228027344, -5.809225082397461, 20.89544677734375, 0.35696011781692505, 14.798859596252441, 14.597146034240723, 20.865234375, -20.35591697692871, 19.996416091918945, 13.293816566467285, -5.891120910644531, 21.27862548828125, -4.236124038696289, 16.4146785736084, -3.283902883529663, 13.960233688354492, 19.663408279418945, 8.568432807922363, 21.16305160522461, 9.28148078918457, 10.12909984588623, 18.585847854614258, 18.0888614654541, 10.24575138092041, 14.53921890258789, 9.923440933227539, -5.918332099914551, 12.276426315307617, 16.63591194152832, 13.793883323669434, 14.395684242248535, 7.167328834533691, 11.61559009552002, 8.48538589477539, 0.7806212902069092, -4.084062576293945, 19.466840744018555, 10.231754302978516, -4.046816825866699, -12.31315803527832, 3.3311071395874023, 19.612030029296875, 14.899068832397461, 12.354159355163574, -7.904821395874023, 14.634532928466797, 15.750800132751465, 0.3384504020214081, 12.887211799621582, 8.512441635131836, -9.753707885742188, -3.783566474914551, 18.62348175048828, -3.4128682613372803, -10.142931938171387, -4.089494705200195, 18.272626876831055, 10.675433158874512, 10.928312301635742, -12.043675422668457, 3.6553590297698975, 12.274863243103027, 10.407938003540039, 12.814356803894043, 10.411717414855957, 12.029157638549805, 14.75764274597168, 7.606772422790527, 13.378217697143555, 15.157882690429688, -4.139055252075195, 8.136490821838379, 12.615435600280762, 8.345020294189453]}, {\"marker\": {\"color\": \"rgba(128, 0, 128, 1.0)\", \"line\": {\"width\": 1.3}, \"opacity\": 0.8, \"size\": 12, \"symbol\": \"circle\"}, \"mode\": \"markers\", \"name\": \"ICML\", \"text\": [\"OptNet: Differentiable Optimization as a Layer in Neural Networks\", \"Input Convex Neural Networks\", \"Differentially Private Database Release via Kernel Mean Embeddings\", \"Optimizing the Latent Space of Generative Networks\", \"NetGAN: Generating Graphs via Random Walks\", \"Compressed Sensing using Generative Models\", \"Predict and Constrain: Modeling Cardinality in Deep Structured Prediction\", \"Path-Level Network Transformation for Efficient Architecture Search\", \"Adversarial Learning with Local Coordinate Coding\", \"Adversarial Time-to-Event Modeling\", \"Learning K-way D-dimensional Discrete Codes for Compact Embedding Representations\", \"DRACO: Byzantine-resilient Distributed Training via Redundant Gradients\", \"AdaNet: Adaptive Structural Learning of Artificial Neural Networks\", \"Inference Suboptimality in Variational Autoencoders\", \"Stochastic Generative Hashing\", \"Adversarial Attack on Graph Structured Data\", \"Language Modeling with Gated Convolutional Networks\", \"Stochastic Video Generation with a Learned Prior\", \"Dance Dance Convolution\", \"Model-Agnostic Meta-Learning for Fast Adaptation of Deep Networks\", \"Input Switched Affine Networks: An RNN Architecture Designed for Interpretability\", \"Bilevel Programming for Hyperparameter Optimization and Meta-Learning\", \"Convolutional Sequence to Sequence Learning\", \"Visualizing and Understanding Atari Agents\", \"On Calibration of Modern Neural Networks\", \"DeepBach: a Steerable Model for Bach Chorales Generation\", \"Learning unknown ODE models with Gaussian processes\", \"Toward Controlled Generation of Text\", \"Neural Autoregressive Flows\", \"Decoupled Parallel Backpropagation with Convergence Guarantee\", \"Attention-based Deep Multiple Instance Learning\", \"Black-box Adversarial Attacks with Limited Queries and Information\", \"Decoupled Neural Interfaces using Synthetic Gradients\", \"Efficient end-to-end learning for quantizable representations\", \"Composite Functional Gradient Learning of Generative  Adversarial Models\", \"Video Pixel Networks\", \"Efficient Neural Audio Synthesis\", \"Learning to Discover Cross-Domain Relations with Generative Adversarial Networks\", \"SplitNet: Learning to Semantically Split Deep Networks for Parameter Reduction and Model Parallelization\", \"Disentangling by Factorising\", \"Neural Relational Inference for Interacting Systems\", \"Grammar Variational Autoencoder\", \"Deep Spectral Clustering Learning\", \"Hierarchical Imitation and Reinforcement Learning\", \"Confident Multiple Choice Learning\", \"Gated Path Planning Networks\", \"Noise2Noise: Learning Image Restoration without Clean Data\", \"Dropout Inference in Bayesian Neural Networks with Alpha-divergences\", \"Explicit Inductive Bias for Transfer Learning with Convolutional Networks\", \"Towards Binary-Valued Gates for Robust LSTM Training\", \"Zero-Inflated Exponential Family Embeddings\", \"Dimensionality-Driven Learning with Noisy Labels\", \"Adversarial Variational Bayes: Unifying Variational Autoencoders and Generative Adversarial Networks\", \"Device Placement Optimization with Reinforcement Learning\", \"SparseMAP: Differentiable Sparse Structured Inference\", \"A Theoretical Explanation for Perplexing Behaviors of Backpropagation-based Visualizations\", \"The Statistical Recurrent Unit\", \"Efficient Neural Architecture Search via Parameters Sharing\", \"Robust Adversarial Reinforcement Learning\", \"Neural Episodic Control\", \"Online and Linear-Time Attention by Enforcing Monotonic Alignments\", \"Learning to Reweight Examples for Robust Deep Learning\", \"Deep One-Class Classification\", \"First Order Generative Adversarial Networks\", \"Finding Influential Training Samples for Gradient Boosted Decision Trees\", \"A Spectral Approach to Gradient Estimation for Implicit Distributions\", \"Bottleneck Conditional Density Estimation\", \"The Predictron:  End-To-End Learning and Planning\", \"Accelerating Natural Gradient with Higher-Order Invariance\", \"Exploiting the Potential of Standard Convolutional Autoencoders for Image Restoration by Evolutionary Search\", \"Neural Program Synthesis from Diverse Demonstration Videos\", \"Differentiable Compositional Kernel Learning for Gaussian Processes\", \"Axiomatic Attribution for Deep Networks\", \"Black Box FDR\", \"Learning Longer-term Dependencies in RNNs with Auxiliary Losses\", \"The Mirage of Action-Dependent Baselines in Reinforcement Learning\", \"Learning to Generate Long-term Future via Hierarchical Prediction\", \"PredRNN++: Towards A Resolution of the Deep-in-Time Dilemma in Spatiotemporal Predictive Learning\", \"Style Tokens: Unsupervised Style Modeling, Control and Transfer in End-to-End Speech Synthesis\", \"Transfer Learning via Learning to Transfer\", \"Hierarchical Long-term Video Prediction without Supervision\", \"Variance Regularized Counterfactual Risk Minimization via Variational Divergence Minimization\", \"Deep k-Means: Re-Training and Parameter Sharing with Harder Cluster Assignments for Compressing Deep Convolutions\", \"Learning Semantic Representations for Unsupervised Domain Adaptation\", \"Improved Variational Autoencoders for Text Modeling using Dilated Convolutions\", \"Mean Field Multi-Agent Reinforcement Learning\", \"Combined Group and Exclusive Sparsity for Deep Neural Networks\", \"GraphRNN: Generating Realistic Graphs with Deep Auto-regressive Models\", \"Continual Learning Through Synaptic Intelligence\", \"Adversarial Feature Matching for Text Generation\", \"Convexified Convolutional Neural Networks\", \"Noisy Natural Gradient as Variational Inference\", \"Recurrent Highway Networks\"], \"textfont\": {\"color\": \"#4D5663\"}, \"type\": \"scatter\", \"x\": [1.9633100032806396, 8.399288177490234, -3.880429744720459, -7.513318061828613, -9.077211380004883, 0.1376074254512787, -15.678584098815918, -2.417759418487549, -8.015141487121582, -12.38793659210205, 10.02601432800293, 1.6971004009246826, 7.0125837326049805, -3.77815318107605, 6.863196849822998, 11.650260925292969, 6.4154276847839355, -0.026669196784496307, 0.7337761521339417, 7.897245407104492, 0.3552590608596802, 5.6257429122924805, 8.578960418701172, 2.2332210540771484, 1.9710639715194702, 2.606727123260498, 3.5511608123779297, -5.866559982299805, -3.733881950378418, -7.485454082489014, -6.122465133666992, -7.51432466506958, 10.564173698425293, -7.02439546585083, -0.04479210823774338, 2.9980695247650146, -23.38071632385254, 4.049111366271973, 11.710968017578125, -7.128438949584961, -11.610725402832031, -6.212655544281006, -6.330947399139404, 0.6023477911949158, 5.1981425285339355, -7.917126178741455, -1.6671162843704224, 3.163841724395752, -12.758505821228027, 1.4785122871398926, 0.407483845949173, 2.1781773567199707, 5.058888912200928, 3.0070698261260986, -9.424217224121094, 2.2866270542144775, 3.250225782394409, -9.427435874938965, 12.463719367980957, 0.45992788672447205, 8.868064880371094, -11.572566032409668, -2.375978708267212, -7.625643253326416, -6.40052604675293, 5.304910182952881, 8.447056770324707, 7.448814868927002, -0.4919758439064026, -24.680835723876953, 4.8597307205200195, -7.649899005889893, 7.555567741394043, -3.0164384841918945, 11.60038948059082, -2.2430496215820312, 5.160337448120117, 2.459510564804077, -0.7870654463768005, -12.725041389465332, -5.925662040710449, -13.18410587310791, 5.010113716125488, -1.437732219696045, 3.591289758682251, -6.806000232696533, 6.8861589431762695, -2.0503175258636475, 6.3330302238464355, 6.045074462890625, 1.0611990690231323, -8.934532165527344, 8.730854988098145], \"y\": [-10.0635404586792, -14.71804428100586, -8.346242904663086, -7.81687068939209, -7.079911708831787, -2.2070953845977783, 4.633930206298828, -12.765186309814453, -7.4437994956970215, 8.365654945373535, -1.7208837270736694, -7.517632484436035, 18.214012145996094, -8.006638526916504, -3.994904041290283, -10.527793884277344, -4.887323379516602, -17.0556583404541, -2.2532153129577637, -14.902974128723145, -4.130406379699707, -13.273996353149414, -14.955007553100586, -8.330799102783203, -1.2180595397949219, -17.844741821289062, -7.7338786125183105, -17.098392486572266, -7.717712879180908, -9.499100685119629, -18.303010940551758, 18.013757705688477, -6.683146953582764, 18.967132568359375, 2.0568277835845947, -10.797066688537598, -0.1142338290810585, 3.2769854068756104, 14.724186897277832, -11.663313865661621, -16.307695388793945, -4.547126293182373, 4.6150031089782715, -5.186540603637695, 3.1231493949890137, -9.21493911743164, 2.261108160018921, -4.539455890655518, 10.602717399597168, -17.467531204223633, -3.592630624771118, -1.2405537366867065, 1.3005589246749878, -10.673539161682129, -11.641164779663086, -9.215521812438965, -4.33211088180542, -12.059191703796387, -7.099975109100342, -3.9988067150115967, -17.59816551208496, -16.744123458862305, -13.342297554016113, 17.935199737548828, 4.631467342376709, -13.698108673095703, 6.936641693115234, -3.470722198486328, 2.353621244430542, 0.6971186399459839, -14.210332870483398, 6.9573283195495605, -11.495651245117188, -17.17430877685547, -10.825514793395996, -17.919801712036133, -11.754941940307617, -9.291632652282715, 2.766695499420166, 10.824323654174805, -17.531187057495117, -16.000499725341797, -20.755666732788086, 4.315620422363281, -17.062458038330078, -7.001222610473633, 18.53885841369629, -18.408052444458008, -5.200460910797119, 3.5949132442474365, 5.757904052734375, -9.666264533996582, -13.518365859985352]}, {\"marker\": {\"color\": \"rgba(219, 64, 82, 1.0)\", \"line\": {\"width\": 1.3}, \"opacity\": 0.8, \"size\": 12, \"symbol\": \"circle\"}, \"mode\": \"markers\", \"name\": \"ICCV\", \"text\": [\"VQA: Visual Question Answering\", \"Convolutional Color Constancy\", \"Deep TextSpotter: An End-To-End Trainable Scene Text Localization and Recognition Framework\", \"SubUNets: End-To-End Hand Shape and Continuous Sign Language Recognition\", \"Deep Adaptive Image Clustering\", \"Photographic Image Synthesis With Cascaded Refinement Networks\", \"Deformable Convolutional Networks\", \"Attributes2Classname: A Discriminative Model for Attribute-Based Unsupervised Zero-Shot Learning\", \"RPAN: An End-To-End Recurrent Pose-Attention Network for Action Recognition in Videos\", \"Associative Domain Adaptation\", \"Mask R-CNN\", \"Wavelet-SRNet: A Wavelet-Based CNN for Multi-Scale Face Super Resolution\", \"PoseNet: A Convolutional Network for Real-Time 6-DOF Camera Relocalization\", \"Escape From Cells: Deep Kd-Networks for the Recognition of 3D Point Cloud Models\", \"Introspective Neural Networks for Generative Modeling\", \"Learning Efficient Convolutional Networks Through Network Slimming\", \"No Fuss Distance Metric Learning Using Proxies\", \"GANs for Biological Image Synthesis\", \"Following Gaze in Video\", \"EnhanceNet: Single Image Super-Resolution Through Automated Texture Synthesis\", \"Hide-And-Seek: Forcing a Network to Be Meticulous for Weakly-Supervised Object and Action Localization\", \"Face Flow\", \"MemNet: A Persistent Memory Network for Image Restoration\", \"Unsupervised Learning of Object Landmarks by Factorized Spatial Embeddings\", \"Unsupervised Adaptation for Deep Stereo\", \"Learning Blind Motion Deblurring\", \"Unlabeled Samples Generated by GAN Improve the Person Re-Identification Baseline in Vitro\"], \"textfont\": {\"color\": \"#4D5663\"}, \"type\": \"scatter\", \"x\": [8.559710502624512, -12.023161888122559, 5.586291790008545, 9.03149700164795, 8.373615264892578, -0.49440741539001465, 3.357539653778076, 7.439548015594482, -7.239950180053711, 8.455232620239258, 5.539449214935303, 2.6524574756622314, -12.701143264770508, 3.4917919635772705, 4.772281646728516, -6.059968948364258, 1.9014662504196167, 4.29872989654541, 1.0947366952896118, 5.269171237945557, 11.4390230178833, 7.024520397186279, 1.163358211517334, 7.987044334411621, 16.38239288330078, 8.383125305175781, 5.990667343139648], \"y\": [-3.306565284729004, 8.364400863647461, -12.287300109863281, -15.98902702331543, -7.867403984069824, 3.341215133666992, -3.9696707725524902, -3.2162561416625977, -14.856762886047363, -13.908699989318848, -12.288695335388184, -17.862281799316406, 8.321423530578613, -17.357810974121094, 1.3367042541503906, -18.057424545288086, -17.717060089111328, 3.2243247032165527, -7.894543170928955, -7.698718547821045, 2.1455605030059814, -3.8345842361450195, -1.8849215507507324, -7.823215007781982, -1.7032660245895386, -3.2925586700439453, 3.792748212814331]}],\n",
       "                        {\"legend\": {\"bgcolor\": \"#F5F6F9\", \"font\": {\"color\": \"#4D5663\"}}, \"paper_bgcolor\": \"#F5F6F9\", \"plot_bgcolor\": \"#F5F6F9\", \"template\": {\"data\": {\"bar\": [{\"error_x\": {\"color\": \"#2a3f5f\"}, \"error_y\": {\"color\": \"#2a3f5f\"}, \"marker\": {\"line\": {\"color\": \"#E5ECF6\", \"width\": 0.5}}, \"type\": \"bar\"}], \"barpolar\": [{\"marker\": {\"line\": {\"color\": \"#E5ECF6\", \"width\": 0.5}}, \"type\": \"barpolar\"}], \"carpet\": [{\"aaxis\": {\"endlinecolor\": \"#2a3f5f\", \"gridcolor\": \"white\", \"linecolor\": \"white\", \"minorgridcolor\": \"white\", \"startlinecolor\": \"#2a3f5f\"}, \"baxis\": {\"endlinecolor\": \"#2a3f5f\", \"gridcolor\": \"white\", \"linecolor\": \"white\", \"minorgridcolor\": \"white\", \"startlinecolor\": \"#2a3f5f\"}, \"type\": \"carpet\"}], \"choropleth\": [{\"colorbar\": {\"outlinewidth\": 0, \"ticks\": \"\"}, \"type\": \"choropleth\"}], \"contour\": [{\"colorbar\": {\"outlinewidth\": 0, \"ticks\": \"\"}, \"colorscale\": [[0.0, \"#0d0887\"], [0.1111111111111111, \"#46039f\"], [0.2222222222222222, \"#7201a8\"], [0.3333333333333333, \"#9c179e\"], [0.4444444444444444, \"#bd3786\"], [0.5555555555555556, \"#d8576b\"], [0.6666666666666666, \"#ed7953\"], [0.7777777777777778, \"#fb9f3a\"], [0.8888888888888888, \"#fdca26\"], [1.0, \"#f0f921\"]], \"type\": \"contour\"}], \"contourcarpet\": [{\"colorbar\": {\"outlinewidth\": 0, \"ticks\": \"\"}, \"type\": \"contourcarpet\"}], \"heatmap\": [{\"colorbar\": {\"outlinewidth\": 0, \"ticks\": \"\"}, \"colorscale\": [[0.0, \"#0d0887\"], [0.1111111111111111, \"#46039f\"], [0.2222222222222222, \"#7201a8\"], [0.3333333333333333, \"#9c179e\"], [0.4444444444444444, \"#bd3786\"], [0.5555555555555556, \"#d8576b\"], [0.6666666666666666, \"#ed7953\"], [0.7777777777777778, \"#fb9f3a\"], [0.8888888888888888, \"#fdca26\"], [1.0, \"#f0f921\"]], \"type\": \"heatmap\"}], \"heatmapgl\": [{\"colorbar\": {\"outlinewidth\": 0, \"ticks\": \"\"}, \"colorscale\": [[0.0, \"#0d0887\"], [0.1111111111111111, \"#46039f\"], [0.2222222222222222, \"#7201a8\"], [0.3333333333333333, \"#9c179e\"], [0.4444444444444444, \"#bd3786\"], [0.5555555555555556, \"#d8576b\"], [0.6666666666666666, \"#ed7953\"], [0.7777777777777778, \"#fb9f3a\"], [0.8888888888888888, \"#fdca26\"], [1.0, \"#f0f921\"]], \"type\": \"heatmapgl\"}], \"histogram\": [{\"marker\": {\"colorbar\": {\"outlinewidth\": 0, \"ticks\": \"\"}}, \"type\": \"histogram\"}], \"histogram2d\": [{\"colorbar\": {\"outlinewidth\": 0, \"ticks\": \"\"}, \"colorscale\": [[0.0, \"#0d0887\"], [0.1111111111111111, \"#46039f\"], [0.2222222222222222, \"#7201a8\"], [0.3333333333333333, \"#9c179e\"], [0.4444444444444444, \"#bd3786\"], [0.5555555555555556, \"#d8576b\"], [0.6666666666666666, \"#ed7953\"], [0.7777777777777778, \"#fb9f3a\"], [0.8888888888888888, \"#fdca26\"], [1.0, \"#f0f921\"]], \"type\": \"histogram2d\"}], \"histogram2dcontour\": [{\"colorbar\": {\"outlinewidth\": 0, \"ticks\": \"\"}, \"colorscale\": [[0.0, \"#0d0887\"], [0.1111111111111111, \"#46039f\"], [0.2222222222222222, \"#7201a8\"], [0.3333333333333333, \"#9c179e\"], [0.4444444444444444, \"#bd3786\"], [0.5555555555555556, \"#d8576b\"], [0.6666666666666666, \"#ed7953\"], [0.7777777777777778, \"#fb9f3a\"], [0.8888888888888888, \"#fdca26\"], [1.0, \"#f0f921\"]], \"type\": \"histogram2dcontour\"}], \"mesh3d\": [{\"colorbar\": {\"outlinewidth\": 0, \"ticks\": \"\"}, \"type\": \"mesh3d\"}], \"parcoords\": [{\"line\": {\"colorbar\": {\"outlinewidth\": 0, \"ticks\": \"\"}}, \"type\": \"parcoords\"}], \"pie\": [{\"automargin\": true, \"type\": \"pie\"}], \"scatter\": [{\"marker\": {\"colorbar\": {\"outlinewidth\": 0, \"ticks\": \"\"}}, \"type\": \"scatter\"}], \"scatter3d\": [{\"line\": {\"colorbar\": {\"outlinewidth\": 0, \"ticks\": \"\"}}, \"marker\": {\"colorbar\": {\"outlinewidth\": 0, \"ticks\": \"\"}}, \"type\": \"scatter3d\"}], \"scattercarpet\": [{\"marker\": {\"colorbar\": {\"outlinewidth\": 0, \"ticks\": \"\"}}, \"type\": \"scattercarpet\"}], \"scattergeo\": [{\"marker\": {\"colorbar\": {\"outlinewidth\": 0, \"ticks\": \"\"}}, \"type\": \"scattergeo\"}], \"scattergl\": [{\"marker\": {\"colorbar\": {\"outlinewidth\": 0, \"ticks\": \"\"}}, \"type\": \"scattergl\"}], \"scattermapbox\": [{\"marker\": {\"colorbar\": {\"outlinewidth\": 0, \"ticks\": \"\"}}, \"type\": \"scattermapbox\"}], \"scatterpolar\": [{\"marker\": {\"colorbar\": {\"outlinewidth\": 0, \"ticks\": \"\"}}, \"type\": \"scatterpolar\"}], \"scatterpolargl\": [{\"marker\": {\"colorbar\": {\"outlinewidth\": 0, \"ticks\": \"\"}}, \"type\": \"scatterpolargl\"}], \"scatterternary\": [{\"marker\": {\"colorbar\": {\"outlinewidth\": 0, \"ticks\": \"\"}}, \"type\": \"scatterternary\"}], \"surface\": [{\"colorbar\": {\"outlinewidth\": 0, \"ticks\": \"\"}, \"colorscale\": [[0.0, \"#0d0887\"], [0.1111111111111111, \"#46039f\"], [0.2222222222222222, \"#7201a8\"], [0.3333333333333333, \"#9c179e\"], [0.4444444444444444, \"#bd3786\"], [0.5555555555555556, \"#d8576b\"], [0.6666666666666666, \"#ed7953\"], [0.7777777777777778, \"#fb9f3a\"], [0.8888888888888888, \"#fdca26\"], [1.0, \"#f0f921\"]], \"type\": \"surface\"}], \"table\": [{\"cells\": {\"fill\": {\"color\": \"#EBF0F8\"}, \"line\": {\"color\": \"white\"}}, \"header\": {\"fill\": {\"color\": \"#C8D4E3\"}, \"line\": {\"color\": \"white\"}}, \"type\": \"table\"}]}, \"layout\": {\"annotationdefaults\": {\"arrowcolor\": \"#2a3f5f\", \"arrowhead\": 0, \"arrowwidth\": 1}, \"coloraxis\": {\"colorbar\": {\"outlinewidth\": 0, \"ticks\": \"\"}}, \"colorscale\": {\"diverging\": [[0, \"#8e0152\"], [0.1, \"#c51b7d\"], [0.2, \"#de77ae\"], [0.3, \"#f1b6da\"], [0.4, \"#fde0ef\"], [0.5, \"#f7f7f7\"], [0.6, \"#e6f5d0\"], [0.7, \"#b8e186\"], [0.8, \"#7fbc41\"], [0.9, \"#4d9221\"], [1, \"#276419\"]], \"sequential\": [[0.0, \"#0d0887\"], [0.1111111111111111, \"#46039f\"], [0.2222222222222222, \"#7201a8\"], [0.3333333333333333, \"#9c179e\"], [0.4444444444444444, \"#bd3786\"], [0.5555555555555556, \"#d8576b\"], [0.6666666666666666, \"#ed7953\"], [0.7777777777777778, \"#fb9f3a\"], [0.8888888888888888, \"#fdca26\"], [1.0, \"#f0f921\"]], \"sequentialminus\": [[0.0, \"#0d0887\"], [0.1111111111111111, \"#46039f\"], [0.2222222222222222, \"#7201a8\"], [0.3333333333333333, \"#9c179e\"], [0.4444444444444444, \"#bd3786\"], [0.5555555555555556, \"#d8576b\"], [0.6666666666666666, \"#ed7953\"], [0.7777777777777778, \"#fb9f3a\"], [0.8888888888888888, \"#fdca26\"], [1.0, \"#f0f921\"]]}, \"colorway\": [\"#636efa\", \"#EF553B\", \"#00cc96\", \"#ab63fa\", \"#FFA15A\", \"#19d3f3\", \"#FF6692\", \"#B6E880\", \"#FF97FF\", \"#FECB52\"], \"font\": {\"color\": \"#2a3f5f\"}, \"geo\": {\"bgcolor\": \"white\", \"lakecolor\": \"white\", \"landcolor\": \"#E5ECF6\", \"showlakes\": true, \"showland\": true, \"subunitcolor\": \"white\"}, \"hoverlabel\": {\"align\": \"left\"}, \"hovermode\": \"closest\", \"mapbox\": {\"style\": \"light\"}, \"paper_bgcolor\": \"white\", \"plot_bgcolor\": \"#E5ECF6\", \"polar\": {\"angularaxis\": {\"gridcolor\": \"white\", \"linecolor\": \"white\", \"ticks\": \"\"}, \"bgcolor\": \"#E5ECF6\", \"radialaxis\": {\"gridcolor\": \"white\", \"linecolor\": \"white\", \"ticks\": \"\"}}, \"scene\": {\"xaxis\": {\"backgroundcolor\": \"#E5ECF6\", \"gridcolor\": \"white\", \"gridwidth\": 2, \"linecolor\": \"white\", \"showbackground\": true, \"ticks\": \"\", \"zerolinecolor\": \"white\"}, \"yaxis\": {\"backgroundcolor\": \"#E5ECF6\", \"gridcolor\": \"white\", \"gridwidth\": 2, \"linecolor\": \"white\", \"showbackground\": true, \"ticks\": \"\", \"zerolinecolor\": \"white\"}, \"zaxis\": {\"backgroundcolor\": \"#E5ECF6\", \"gridcolor\": \"white\", \"gridwidth\": 2, \"linecolor\": \"white\", \"showbackground\": true, \"ticks\": \"\", \"zerolinecolor\": \"white\"}}, \"shapedefaults\": {\"line\": {\"color\": \"#2a3f5f\"}}, \"ternary\": {\"aaxis\": {\"gridcolor\": \"white\", \"linecolor\": \"white\", \"ticks\": \"\"}, \"baxis\": {\"gridcolor\": \"white\", \"linecolor\": \"white\", \"ticks\": \"\"}, \"bgcolor\": \"#E5ECF6\", \"caxis\": {\"gridcolor\": \"white\", \"linecolor\": \"white\", \"ticks\": \"\"}}, \"title\": {\"x\": 0.05}, \"xaxis\": {\"automargin\": true, \"gridcolor\": \"white\", \"linecolor\": \"white\", \"ticks\": \"\", \"title\": {\"standoff\": 15}, \"zerolinecolor\": \"white\", \"zerolinewidth\": 2}, \"yaxis\": {\"automargin\": true, \"gridcolor\": \"white\", \"linecolor\": \"white\", \"ticks\": \"\", \"title\": {\"standoff\": 15}, \"zerolinecolor\": \"white\", \"zerolinewidth\": 2}}}, \"title\": {\"font\": {\"color\": \"#4D5663\"}}, \"xaxis\": {\"gridcolor\": \"#E1E5ED\", \"showgrid\": true, \"tickfont\": {\"color\": \"#4D5663\"}, \"title\": {\"font\": {\"color\": \"#4D5663\"}, \"text\": \"\"}, \"zerolinecolor\": \"#E1E5ED\"}, \"yaxis\": {\"gridcolor\": \"#E1E5ED\", \"showgrid\": true, \"tickfont\": {\"color\": \"#4D5663\"}, \"title\": {\"font\": {\"color\": \"#4D5663\"}, \"text\": \"\"}, \"zerolinecolor\": \"#E1E5ED\"}},\n",
       "                        {\"showLink\": true, \"linkText\": \"Export to plot.ly\", \"plotlyServerURL\": \"https://plot.ly\", \"responsive\": true}\n",
       "                    ).then(function(){\n",
       "                            \n",
       "var gd = document.getElementById('0934ced6-5863-422d-8888-fd8ff8b4c6cf');\n",
       "var x = new MutationObserver(function (mutations, observer) {{\n",
       "        var display = window.getComputedStyle(gd).display;\n",
       "        if (!display || display === 'none') {{\n",
       "            console.log([gd, 'removed!']);\n",
       "            Plotly.purge(gd);\n",
       "            observer.disconnect();\n",
       "        }}\n",
       "}});\n",
       "\n",
       "// Listen for the removal of the full notebook cells\n",
       "var notebookContainer = gd.closest('#notebook-container');\n",
       "if (notebookContainer) {{\n",
       "    x.observe(notebookContainer, {childList: true});\n",
       "}}\n",
       "\n",
       "// Listen for the clearing of the current output cell\n",
       "var outputEl = gd.closest('.output');\n",
       "if (outputEl) {{\n",
       "    x.observe(outputEl, {childList: true});\n",
       "}}\n",
       "\n",
       "                        })\n",
       "                };\n",
       "                });\n",
       "            </script>\n",
       "        </div>"
      ]
     },
     "metadata": {},
     "output_type": "display_data"
    }
   ],
   "source": [
    "### Text2Graph\n",
    "emb,meta=load_emb_data('t2g')\n",
    "visualize(emb,meta,method='TSNE',dim=2)"
   ]
  },
  {
   "cell_type": "code",
   "execution_count": 11,
   "metadata": {},
   "outputs": [
    {
     "name": "stdout",
     "output_type": "stream",
     "text": [
      "[t-SNE] Computing 16 nearest neighbors...\n",
      "[t-SNE] Indexed 213 samples in 0.001s...\n",
      "[t-SNE] Computed neighbors for 213 samples in 0.003s...\n",
      "[t-SNE] Computed conditional probabilities for sample 213 / 213\n",
      "[t-SNE] Mean sigma: 0.603516\n",
      "[t-SNE] KL divergence after 250 iterations with early exaggeration: 72.060509\n",
      "[t-SNE] KL divergence after 300 iterations: 0.882869\n"
     ]
    },
    {
     "data": {
      "application/vnd.plotly.v1+json": {
       "config": {
        "linkText": "Export to plot.ly",
        "plotlyServerURL": "https://plot.ly",
        "showLink": true
       },
       "data": [
        {
         "marker": {
          "color": "rgba(255, 153, 51, 1.0)",
          "line": {
           "width": 1.3
          },
          "opacity": 0.8,
          "size": 12,
          "symbol": "circle"
         },
         "mode": "markers",
         "name": "NIPS",
         "text": [
          "Neural Voice Cloning with a Few Samples",
          "Neural Voice Cloning with a Few Samples",
          "Neural Voice Cloning with a Few Samples",
          "Neural Architecture Search with Bayesian Optimisation and Optimal Transport",
          "Neural Architecture Search with Bayesian Optimisation and Optimal Transport",
          "Neural Architecture Search with Bayesian Optimisation and Optimal Transport",
          "Glow: Generative Flow with Invertible 1x1 Convolutions",
          "Universal Style Transfer via Feature Transforms",
          "Toward Multimodal Image-to-Image Translation",
          "Dual Discriminator Generative Adversarial Nets",
          "Hierarchical Attentive Recurrent Tracking",
          "On-the-fly Operation Batching in Dynamic Computation Graphs",
          "Dual Path Networks",
          "DropoutNet: Addressing Cold Start in Recommender Systems",
          "Attention is All you Need",
          "Attention is All you Need",
          "Value Prediction Network",
          "Modulating early visual processing by language",
          "Modulating early visual processing by language",
          "Real Time Image Saliency for Black Box Classifiers"
         ],
         "textfont": {
          "color": "#4D5663"
         },
         "type": "scatter",
         "x": [
          -20.175561904907227,
          -18.567564010620117,
          -21.205141067504883,
          -7.783560752868652,
          -6.90899658203125,
          -7.6961259841918945,
          -7.695133686065674,
          -3.8912413120269775,
          0.03345946595072746,
          -5.804984092712402,
          -1.9905697107315063,
          23.752748489379883,
          -1.2717971801757812,
          -0.7001081705093384,
          6.63504695892334,
          15.22249698638916,
          -3.8730759620666504,
          22.607877731323242,
          22.65237045288086,
          -14.805541038513184
         ],
         "y": [
          12.300756454467773,
          8.299843788146973,
          10.93509292602539,
          8.680436134338379,
          8.63435173034668,
          8.396515846252441,
          -9.561482429504395,
          20.97049903869629,
          -18.151559829711914,
          -14.236695289611816,
          -8.3276948928833,
          1.2852768898010254,
          -24.587324142456055,
          -7.4773783683776855,
          -18.371353149414062,
          20.06836700439453,
          6.4931721687316895,
          14.630948066711426,
          14.434582710266113,
          -13.230509757995605
         ]
        },
        {
         "marker": {
          "color": "rgba(55, 128, 191, 1.0)",
          "line": {
           "width": 1.3
          },
          "opacity": 0.8,
          "size": 12,
          "symbol": "circle"
         },
         "mode": "markers",
         "name": "CVPR",
         "text": [
          "Light Field Intrinsics With a Deep Encoder-Decoder Network",
          "Neural Module Networks",
          "Hierarchical Boundary-Aware Neural Encoder for Video Captioning",
          "In-Place Activated BatchNorm for Memory-Optimized Training of DNNs",
          "AON: Towards Arbitrarily-Oriented Text Recognition",
          "AON: Towards Arbitrarily-Oriented Text Recognition",
          "CartoonGAN: Generative Adversarial Networks for Photo Cartoonization",
          "Deep Photo Enhancer: Unpaired Learning for Image Enhancement From Photographs With GANs",
          "LiDAR-Video Driving Dataset: Learning Driving Policies Effectively",
          "Multi-View 3D Object Detection Network for Autonomous Driving",
          "Zero-Shot Visual Recognition Using Semantics-Preserving Adversarial Embedding Networks",
          "Xception: Deep Learning With Depthwise Separable Convolutions",
          "Xception: Deep Learning With Depthwise Separable Convolutions",
          "Xception: Deep Learning With Depthwise Separable Convolutions",
          "Xception: Deep Learning With Depthwise Separable Convolutions",
          "Xception: Deep Learning With Depthwise Separable Convolutions",
          "Lip Reading Sentences in the Wild",
          "Lip Reading Sentences in the Wild",
          "Style Aggregated Network for Facial Landmark Detection",
          "Style Aggregated Network for Facial Landmark Detection",
          "Supervision-by-Registration: An Unsupervised Approach to Improve the Precision of Facial Landmark Detectors",
          "Who Let the Dogs Out? Modeling Dog Behavior From Visual Data",
          "Who Let the Dogs Out? Modeling Dog Behavior From Visual Data",
          "Who Let the Dogs Out? Modeling Dog Behavior From Visual Data",
          "AMNet: Memorability Estimation With Attention",
          "A Point Set Generation Network for 3D Object Reconstruction From a Single Image",
          "StyleNet: Generating Attractive Visual Captions With Styles",
          "Dynamic Few-Shot Visual Learning Without Forgetting",
          "Social GAN: Socially Acceptable Trajectories With Generative Adversarial Networks",
          "DeLiGAN : Generative Adversarial Networks for Diverse and Limited Data",
          "Deep Pyramidal Residual Networks",
          "Deep Pyramidal Residual Networks",
          "Deep Pyramidal Residual Networks",
          "Can Spatiotemporal 3D CNNs Retrace the History of 2D CNNs and ImageNet?",
          "Deep Back-Projection Networks for Super-Resolution",
          "Deep Back-Projection Networks for Super-Resolution",
          "Deep Back-Projection Networks for Super-Resolution",
          "Deep Residual Learning for Image Recognition",
          "Deep Residual Learning for Image Recognition",
          "Deep Residual Learning for Image Recognition",
          "CondenseNet: An Efficient DenseNet Using Learned Group Convolutions",
          "Densely Connected Convolutional Networks",
          "Real-Time Neural Style Transfer for Videos",
          "Fast and Accurate Single Image Super-Resolution via Information Distillation Network",
          "Squeeze-and-Excitation Networks",
          "Squeeze-and-Excitation Networks",
          "Perturbative Neural Networks",
          "RON: Reverse Connection With Objectness Prior Networks for Object Detection",
          "Surface Networks",
          "Photo-Realistic Single Image Super-Resolution Using a Generative Adversarial Network",
          "A Memory Network Approach for Story-Based Temporal Summarization of 360° Videos",
          "CleanNet: Transfer Learning for Scalable Image Classifier Training With Label Noise",
          "Future Frame Prediction for Anomaly Detection  A New Baseline",
          "SphereFace: Deep Hypersphere Embedding for Face Recognition",
          "Structure Inference Net: Object Detection Using Scene-Level Context and Instance-Level Relationships",
          "SO-Net: Self-Organizing Network for Point Cloud Analysis",
          "Efficient Deep Learning for Stereo Matching",
          "Neural Baby Talk",
          "Unsupervised Video Summarization With Adversarial LSTM Networks",
          "Unsupervised Video Summarization With Adversarial LSTM Networks",
          "Transparency by Design: Closing the Gap Between Performance and Interpretability in Visual Reasoning",
          "Conditional Probability Models for Deep Image Compression",
          "Conditional Probability Models for Deep Image Compression",
          "3D Bounding Box Estimation Using Deep Learning and Geometry",
          "Human Pose Estimation With Parsing Induced Learner",
          "Human Pose Estimation With Parsing Induced Learner",
          "Fast Video Object Segmentation by Reference-Guided Mask Propagation",
          "PieAPP: Perceptual Image-Error Assessment Through Pairwise Preference",
          "PieAPP: Perceptual Image-Error Assessment Through Pairwise Preference",
          "Attentive Generative Adversarial Network for Raindrop Removal From a Single Image",
          "Attentive Generative Adversarial Network for Raindrop Removal From a Single Image",
          "Low-Shot Learning With Imprinted Weights",
          "PointNet: Deep Learning on Point Sets for 3D Classification and Segmentation",
          "Avatar-Net: Multi-Scale Zero-Shot Style Transfer by Feature Decoration",
          "Learning to Compare: Relation Network for Few-Shot Learning",
          "Rethinking the Inception Architecture for Computer Vision",
          "Rethinking the Inception Architecture for Computer Vision",
          "Rethinking the Inception Architecture for Computer Vision",
          "Rethinking the Inception Architecture for Computer Vision",
          "Rethinking the Inception Architecture for Computer Vision",
          "Rethinking the Inception Architecture for Computer Vision",
          "Rethinking the Inception Architecture for Computer Vision",
          "Image Super-Resolution via Deep Recursive Residual Network",
          "Image Super-Resolution via Deep Recursive Residual Network",
          "Image Super-Resolution via Deep Recursive Residual Network",
          "Image Super-Resolution via Deep Recursive Residual Network",
          "Scale-Recurrent Network for Deep Image Deblurring",
          "Tangent Convolutions for Dense Prediction in 3D",
          "Two-Stream Convolutional Networks for Dynamic Texture Synthesis",
          "Full Resolution Image Compression With Recurrent Neural Networks",
          "Full Resolution Image Compression With Recurrent Neural Networks",
          "A Closer Look at Spatiotemporal Convolutions for Action Recognition",
          "Learning Superpixels With Segmentation-Aware Affinity Loss",
          "Adversarial Discriminative Domain Adaptation",
          "PointNetVLAD: Deep Point Cloud Based Retrieval for Large-Scale Place Recognition",
          "Learning a Discriminative Filter Bank Within a CNN for Fine-Grained Recognition",
          "Learning a Discriminative Filter Bank Within a CNN for Fine-Grained Recognition",
          "Learning a Discriminative Filter Bank Within a CNN for Fine-Grained Recognition",
          "Recovering Realistic Texture in Image Super-Resolution by Deep Spatial Feature Transform",
          "Bidirectional Retrieval Made Simple",
          "Aggregated Residual Transformations for Deep Neural Networks",
          "Aggregated Residual Transformations for Deep Neural Networks",
          "Aggregated Residual Transformations for Deep Neural Networks",
          "Deep Texture Manifold for Ground Terrain Recognition",
          "Deep Texture Manifold for Ground Terrain Recognition",
          "Scene Graph Generation by Iterative Message Passing",
          "DenseASPP for Semantic Segmentation in Street Scenes",
          "Dilated Residual Networks",
          "MAttNet: Modular Attention Network for Referring Expression Comprehension",
          "Deep Mutual Learning",
          "Density-Aware Single Image De-Raining Using a Multi-Stream Dense Network",
          "Density-Aware Single Image De-Raining Using a Multi-Stream Dense Network",
          "EAST: An Efficient and Accurate Scene Text Detector",
          "EAST: An Efficient and Accurate Scene Text Detector"
         ],
         "textfont": {
          "color": "#4D5663"
         },
         "type": "scatter",
         "x": [
          22.131450653076172,
          24.16000747680664,
          23.985746383666992,
          23.247617721557617,
          2.17535662651062,
          2.189209461212158,
          10.292267799377441,
          -4.237742900848389,
          -4.852413654327393,
          2.299856424331665,
          15.362506866455078,
          -30.843576431274414,
          -32.00525665283203,
          -31.74946403503418,
          -31.166236877441406,
          -24.49106788635254,
          -1.897026538848877,
          -9.096171379089355,
          -2.0046801567077637,
          -8.028915405273438,
          18.813026428222656,
          8.680668830871582,
          9.22398567199707,
          -3.009730815887451,
          11.495415687561035,
          -3.5755763053894043,
          10.220895767211914,
          2.130784511566162,
          17.37142562866211,
          -1.0551813840866089,
          -6.092202663421631,
          -6.439483642578125,
          -1.9249401092529297,
          -1.3885900974273682,
          -19.457780838012695,
          -19.41881561279297,
          -18.92670249938965,
          17.031740188598633,
          0.6254864931106567,
          16.693010330200195,
          -13.139006614685059,
          12.888811111450195,
          -8.111885070800781,
          1.4562571048736572,
          7.8653788566589355,
          7.801903247833252,
          6.701316833496094,
          -24.064207077026367,
          8.999479293823242,
          -20.3931941986084,
          -18.49939727783203,
          -16.791213989257812,
          -3.8572800159454346,
          -18.00185775756836,
          18.681116104125977,
          -11.89059066772461,
          11.39583683013916,
          9.166892051696777,
          21.855789184570312,
          23.266252517700195,
          -8.771827697753906,
          21.653608322143555,
          23.968027114868164,
          -13.52444839477539,
          3.034897804260254,
          -5.964892864227295,
          -1.4883971214294434,
          -0.4131582975387573,
          -0.9548119306564331,
          -8.672527313232422,
          -13.260210990905762,
          -24.4910888671875,
          7.6785101890563965,
          -0.6985595226287842,
          21.87226104736328,
          -25.12590217590332,
          -25.38681411743164,
          -25.854419708251953,
          -24.809669494628906,
          -26.15699577331543,
          -24.29848289489746,
          -25.15215492248535,
          -13.878387451171875,
          -15.1133394241333,
          -14.992009162902832,
          -14.876374244689941,
          -1.243798017501831,
          0.3118442893028259,
          -17.56606674194336,
          -19.296175003051758,
          -17.40793800354004,
          -2.650864362716675,
          16.134910583496094,
          8.519750595092773,
          8.509187698364258,
          -3.415278434753418,
          -1.1191842555999756,
          -4.635985374450684,
          -14.980311393737793,
          -13.055289268493652,
          -20.594165802001953,
          -20.379558563232422,
          -23.16974639892578,
          -1.0227513313293457,
          -1.4486302137374878,
          7.653670787811279,
          18.525930404663086,
          -1.5543338060379028,
          23.193828582763672,
          -19.10452651977539,
          12.591787338256836,
          10.797687530517578,
          8.575424194335938,
          17.607017517089844
         ],
         "y": [
          -3.271641254425049,
          1.5692521333694458,
          7.796581268310547,
          9.085820198059082,
          10.819340705871582,
          10.730270385742188,
          16.611722946166992,
          2.7726807594299316,
          -4.75147008895874,
          -5.740231513977051,
          -6.391168117523193,
          2.274825096130371,
          3.1746742725372314,
          2.9321200847625732,
          2.5189907550811768,
          -15.937233924865723,
          19.816627502441406,
          10.325572967529297,
          18.517526626586914,
          18.486217498779297,
          16.46602439880371,
          -21.87995147705078,
          -21.252532958984375,
          -22.283775329589844,
          -3.3284897804260254,
          2.164860725402832,
          16.022214889526367,
          0.4999132752418518,
          14.019729614257812,
          17.517091751098633,
          18.07822608947754,
          19.459362030029297,
          22.41094207763672,
          22.814611434936523,
          9.07796573638916,
          8.864636421203613,
          7.652999401092529,
          4.709743499755859,
          23.07862091064453,
          4.7881178855896,
          4.007481098175049,
          -1.4897689819335938,
          -10.968584060668945,
          -9.654960632324219,
          -13.461626052856445,
          -13.087995529174805,
          16.050411224365234,
          8.744108200073242,
          4.344682216644287,
          17.23316764831543,
          -12.490017890930176,
          -12.636125564575195,
          -5.551205635070801,
          -12.689485549926758,
          -7.270712375640869,
          -7.3398237228393555,
          -14.141369819641113,
          -14.461931228637695,
          4.281265735626221,
          -0.3495996594429016,
          10.084551811218262,
          11.561444282531738,
          10.44239330291748,
          -9.882506370544434,
          -12.552517890930176,
          -13.522631645202637,
          17.148298263549805,
          -13.375617027282715,
          -13.491971015930176,
          -10.44228458404541,
          -7.807272434234619,
          1.9066909551620483,
          5.903543949127197,
          23.246713638305664,
          3.7092888355255127,
          3.071211338043213,
          4.996579647064209,
          4.416006088256836,
          5.119454860687256,
          3.222304344177246,
          8.4489164352417,
          6.592600345611572,
          -8.275762557983398,
          -13.211369514465332,
          -8.780574798583984,
          -8.915487289428711,
          16.17784309387207,
          -21.593481063842773,
          -10.086417198181152,
          -2.2570528984069824,
          -10.12881851196289,
          20.76203727722168,
          14.01705551147461,
          -14.353128433227539,
          13.71753978729248,
          -13.4881591796875,
          -15.519903182983398,
          -14.130108833312988,
          0.5868499279022217,
          3.6511969566345215,
          1.206055998802185,
          1.3413878679275513,
          0.3148217499256134,
          -10.600672721862793,
          -11.454980850219727,
          -22.38384246826172,
          15.489209175109863,
          19.593772888183594,
          -1.411011815071106,
          0.11060115694999695,
          -2.296581745147705,
          -15.49445629119873,
          15.779061317443848,
          13.947772979736328
         ]
        },
        {
         "marker": {
          "color": "rgba(50, 171, 96, 1.0)",
          "line": {
           "width": 1.3
          },
          "opacity": 0.8,
          "size": 12,
          "symbol": "circle"
         },
         "mode": "markers",
         "name": "ICML",
         "text": [
          "Input Convex Neural Networks",
          "Input Convex Neural Networks",
          "Predict and Constrain: Modeling Cardinality in Deep Structured Prediction",
          "Path-Level Network Transformation for Efficient Architecture Search",
          "Path-Level Network Transformation for Efficient Architecture Search",
          "Dance Dance Convolution",
          "Dance Dance Convolution",
          "Video Pixel Networks",
          "Device Placement Optimization with Reinforcement Learning",
          "Device Placement Optimization with Reinforcement Learning",
          "Efficient Neural Architecture Search via Parameters Sharing",
          "Efficient Neural Architecture Search via Parameters Sharing",
          "Efficient Neural Architecture Search via Parameters Sharing",
          "Efficient Neural Architecture Search via Parameters Sharing",
          "Efficient Neural Architecture Search via Parameters Sharing",
          "Efficient Neural Architecture Search via Parameters Sharing",
          "Attentive Recurrent Comparators",
          "Exploiting the Potential of Standard Convolutional Autoencoders for Image Restoration by Evolutionary Search",
          "Exploiting the Potential of Standard Convolutional Autoencoders for Image Restoration by Evolutionary Search",
          "Style Tokens: Unsupervised Style Modeling, Control and Transfer in End-to-End Speech Synthesis"
         ],
         "textfont": {
          "color": "#4D5663"
         },
         "type": "scatter",
         "x": [
          21.18602180480957,
          23.06233787536621,
          23.230140686035156,
          2.729588747024536,
          2.6267099380493164,
          -2.9856157302856445,
          -2.785128355026245,
          9.747262001037598,
          3.2602760791778564,
          3.3874337673187256,
          -18.271120071411133,
          -21.04475212097168,
          -15.320021629333496,
          -20.11817741394043,
          -21.442705154418945,
          -21.254213333129883,
          19.856550216674805,
          -3.5169522762298584,
          -2.7673330307006836,
          -6.452203750610352
         ],
         "y": [
          4.07543420791626,
          -0.6197527050971985,
          5.288789749145508,
          -9.023369789123535,
          -6.280464172363281,
          1.122054934501648,
          0.8728706240653992,
          -14.364246368408203,
          -0.10696634650230408,
          -0.17059528827667236,
          -0.6863604187965393,
          -3.1274333000183105,
          0.3193286955356598,
          -12.303316116333008,
          -2.9028589725494385,
          -3.6739537715911865,
          14.745031356811523,
          -5.955971717834473,
          -7.723635673522949,
          16.548110961914062
         ]
        },
        {
         "marker": {
          "color": "rgba(128, 0, 128, 1.0)",
          "line": {
           "width": 1.3
          },
          "opacity": 0.8,
          "size": 12,
          "symbol": "circle"
         },
         "mode": "markers",
         "name": "ECCV",
         "text": [
          "Disentangling Factors of Variation with Cycle-Consistent Variational Auto-Encoders",
          "Disentangling Factors of Variation with Cycle-Consistent Variational Auto-Encoders",
          "Conditional Image-Text Embedding Networks",
          "Progressive Neural Architecture Search",
          "Geolocation Estimation of Photos using a Hierarchical Model and Scene Classification",
          "Dynamic Conditional Networks for Few-Shot Learning",
          "Dynamic Conditional Networks for Few-Shot Learning",
          "Dynamic Conditional Networks for Few-Shot Learning",
          "Dynamic Conditional Networks for Few-Shot Learning",
          "Recovering 3D Planes from a Single Image via Convolutional Neural Networks",
          "Learning Single-View 3D Reconstruction with Limited Pose Supervision",
          "PSANet: Point-wise Spatial Attention Network for Scene Parsing",
          "Multi-scale Residual Network for Image Super-Resolution",
          "Multi-scale Residual Network for Image Super-Resolution",
          "Bidirectional Feature Pyramid Network with Recurrent Attention Residual Modules for Shadow Detection",
          "EC-Net: an Edge-aware Point set Consolidation Network",
          "Learning Visual Question Answering by Bootstrapping Hard Attention",
          "ECO: Efficient Convolutional Network for Online Video Understanding",
          "Diverse and Coherent Paragraph Generation from Images",
          "Diverse and Coherent Paragraph Generation from Images",
          "Diverse and Coherent Paragraph Generation from Images",
          "Diverse and Coherent Paragraph Generation from Images",
          "Pixel2Mesh: Generating 3D Mesh Models from Single RGB Images",
          "Towards Realistic Predictors",
          "License Plate Detection and Recognition in Unconstrained Scenarios",
          "A Modulation Module for Multi-task Learning with Applications in Image Retrieval",
          "Mutual Learning to Adapt for Joint Human Parsing and Pose Estimation",
          "Mutual Learning to Adapt for Joint Human Parsing and Pose Estimation",
          "Multimodal Unsupervised Image-to-image Translation",
          "Audio-Visual Event Localization in Unconstrained Videos",
          "Audio-Visual Event Localization in Unconstrained Videos",
          "DF-Net: Unsupervised Joint Learning of Depth and Flow using Cross-Task Consistency",
          "Learning Rigidity in Dynamic Scenes with a Moving Camera for 3D Motion Field Estimation",
          "Generalizing A Person Retrieval Model Hetero- and Homogeneously"
         ],
         "textfont": {
          "color": "#4D5663"
         },
         "type": "scatter",
         "x": [
          -6.405484199523926,
          -6.128750324249268,
          0.12256844341754913,
          19.287439346313477,
          15.509499549865723,
          -1.095923662185669,
          -0.8869202733039856,
          -17.028554916381836,
          -2.9109041690826416,
          -5.902587413787842,
          -7.1626152992248535,
          -8.410353660583496,
          23.833694458007812,
          23.964447021484375,
          19.354984283447266,
          7.751053333282471,
          13.136404037475586,
          22.544960021972656,
          14.409622192382812,
          13.844359397888184,
          6.3305888175964355,
          5.840606212615967,
          12.204129219055176,
          7.335792541503906,
          -13.033323287963867,
          12.018933296203613,
          17.248241424560547,
          16.115371704101562,
          15.922663688659668,
          -18.13438606262207,
          -23.69538688659668,
          14.905155181884766,
          -13.096355438232422,
          -13.236174583435059
         ],
         "y": [
          -19.443859100341797,
          -19.3018741607666,
          -17.66963005065918,
          4.2210001945495605,
          13.961593627929688,
          -22.087474822998047,
          -22.052160263061523,
          -2.9525792598724365,
          -24.724409103393555,
          18.092784881591797,
          15.23035717010498,
          -10.206413269042969,
          7.096102237701416,
          8.873480796813965,
          14.752169609069824,
          5.859228134155273,
          -13.571504592895508,
          -1.9116462469100952,
          -7.589739799499512,
          -7.1692376136779785,
          -1.7364600896835327,
          -2.058800220489502,
          -13.580459594726562,
          -14.484235763549805,
          -5.821490287780762,
          -2.890763998031616,
          -9.648133277893066,
          -5.350420951843262,
          -5.794880390167236,
          -0.7356632947921753,
          3.9895687103271484,
          -8.049171447753906,
          -5.8292083740234375,
          4.643182277679443
         ]
        },
        {
         "marker": {
          "color": "rgba(219, 64, 82, 1.0)",
          "line": {
           "width": 1.3
          },
          "opacity": 0.8,
          "size": 12,
          "symbol": "circle"
         },
         "mode": "markers",
         "name": "ICCV",
         "text": [
          "Deep TextSpotter: An End-To-End Trainable Scene Text Localization and Recognition Framework",
          "SubUNets: End-To-End Hand Shape and Continuous Sign Language Recognition",
          "SubUNets: End-To-End Hand Shape and Continuous Sign Language Recognition",
          "SubUNets: End-To-End Hand Shape and Continuous Sign Language Recognition",
          "SubUNets: End-To-End Hand Shape and Continuous Sign Language Recognition",
          "SubUNets: End-To-End Hand Shape and Continuous Sign Language Recognition",
          "Query-Guided Regression Network With Context Policy for Phrase Grounding",
          "Show, Adapt and Tell: Adversarial Training of Cross-Domain Image Captioner",
          "Long Short-Term Memory Kalman Filters: Recurrent Neural Estimators for Pose Regularization",
          "Arbitrary Style Transfer in Real-Time With Adaptive Instance Normalization",
          "Wavelet-SRNet: A Wavelet-Based CNN for Multi-Scale Face Super Resolution",
          "Learning to Reason: End-To-End Module Networks for Visual Question Answering",
          "DSLR-Quality Photos on Mobile Devices With Deep Convolutional Networks",
          "Learning Efficient Convolutional Networks Through Network Slimming",
          "Attentive Semantic Video Generation Using Captions",
          "GANs for Biological Image Synthesis",
          "MemNet: A Persistent Memory Network for Image Restoration",
          "MemNet: A Persistent Memory Network for Image Restoration",
          "Simultaneous Deep Transfer Across Domains and Tasks",
          "Sequence to Sequence - Video to Text",
          "Revisiting IM2GPS in the Deep Learning Era",
          "Genetic CNN",
          "Genetic CNN",
          "Curriculum Domain Adaptation for Semantic Segmentation of Urban Scenes",
          "Unlabeled Samples Generated by GAN Improve the Person Re-Identification Baseline in Vitro"
         ],
         "textfont": {
          "color": "#4D5663"
         },
         "type": "scatter",
         "x": [
          8.076133728027344,
          10.584817886352539,
          11.603999137878418,
          11.493290901184082,
          11.96386432647705,
          7.829286575317383,
          9.155016899108887,
          3.2047598361968994,
          -4.7211689949035645,
          18.067495346069336,
          18.150955200195312,
          21.29690170288086,
          -1.627797245979309,
          17.640092849731445,
          9.779683113098145,
          -2.269404649734497,
          -2.1265311241149902,
          -1.9376888275146484,
          9.598640441894531,
          9.353775024414062,
          4.448802471160889,
          -12.848998069763184,
          -15.930279731750488,
          9.354803085327148,
          -1.830430030822754
         ],
         "y": [
          -22.490009307861328,
          6.6882734298706055,
          6.106749534606934,
          5.495449542999268,
          5.849341869354248,
          15.637054443359375,
          18.3614559173584,
          -9.180086135864258,
          -4.906091690063477,
          -7.740219593048096,
          -9.670675277709961,
          14.86972427368164,
          23.778776168823242,
          -9.175592422485352,
          18.31502914428711,
          14.902925491333008,
          -24.009902954101562,
          -23.07515525817871,
          18.94513511657715,
          15.369504928588867,
          -0.44735461473464966,
          10.115250587463379,
          -17.013721466064453,
          4.212087631225586,
          -12.628952980041504
         ]
        }
       ],
       "layout": {
        "legend": {
         "bgcolor": "#F5F6F9",
         "font": {
          "color": "#4D5663"
         }
        },
        "paper_bgcolor": "#F5F6F9",
        "plot_bgcolor": "#F5F6F9",
        "template": {
         "data": {
          "bar": [
           {
            "error_x": {
             "color": "#2a3f5f"
            },
            "error_y": {
             "color": "#2a3f5f"
            },
            "marker": {
             "line": {
              "color": "#E5ECF6",
              "width": 0.5
             }
            },
            "type": "bar"
           }
          ],
          "barpolar": [
           {
            "marker": {
             "line": {
              "color": "#E5ECF6",
              "width": 0.5
             }
            },
            "type": "barpolar"
           }
          ],
          "carpet": [
           {
            "aaxis": {
             "endlinecolor": "#2a3f5f",
             "gridcolor": "white",
             "linecolor": "white",
             "minorgridcolor": "white",
             "startlinecolor": "#2a3f5f"
            },
            "baxis": {
             "endlinecolor": "#2a3f5f",
             "gridcolor": "white",
             "linecolor": "white",
             "minorgridcolor": "white",
             "startlinecolor": "#2a3f5f"
            },
            "type": "carpet"
           }
          ],
          "choropleth": [
           {
            "colorbar": {
             "outlinewidth": 0,
             "ticks": ""
            },
            "type": "choropleth"
           }
          ],
          "contour": [
           {
            "colorbar": {
             "outlinewidth": 0,
             "ticks": ""
            },
            "colorscale": [
             [
              0,
              "#0d0887"
             ],
             [
              0.1111111111111111,
              "#46039f"
             ],
             [
              0.2222222222222222,
              "#7201a8"
             ],
             [
              0.3333333333333333,
              "#9c179e"
             ],
             [
              0.4444444444444444,
              "#bd3786"
             ],
             [
              0.5555555555555556,
              "#d8576b"
             ],
             [
              0.6666666666666666,
              "#ed7953"
             ],
             [
              0.7777777777777778,
              "#fb9f3a"
             ],
             [
              0.8888888888888888,
              "#fdca26"
             ],
             [
              1,
              "#f0f921"
             ]
            ],
            "type": "contour"
           }
          ],
          "contourcarpet": [
           {
            "colorbar": {
             "outlinewidth": 0,
             "ticks": ""
            },
            "type": "contourcarpet"
           }
          ],
          "heatmap": [
           {
            "colorbar": {
             "outlinewidth": 0,
             "ticks": ""
            },
            "colorscale": [
             [
              0,
              "#0d0887"
             ],
             [
              0.1111111111111111,
              "#46039f"
             ],
             [
              0.2222222222222222,
              "#7201a8"
             ],
             [
              0.3333333333333333,
              "#9c179e"
             ],
             [
              0.4444444444444444,
              "#bd3786"
             ],
             [
              0.5555555555555556,
              "#d8576b"
             ],
             [
              0.6666666666666666,
              "#ed7953"
             ],
             [
              0.7777777777777778,
              "#fb9f3a"
             ],
             [
              0.8888888888888888,
              "#fdca26"
             ],
             [
              1,
              "#f0f921"
             ]
            ],
            "type": "heatmap"
           }
          ],
          "heatmapgl": [
           {
            "colorbar": {
             "outlinewidth": 0,
             "ticks": ""
            },
            "colorscale": [
             [
              0,
              "#0d0887"
             ],
             [
              0.1111111111111111,
              "#46039f"
             ],
             [
              0.2222222222222222,
              "#7201a8"
             ],
             [
              0.3333333333333333,
              "#9c179e"
             ],
             [
              0.4444444444444444,
              "#bd3786"
             ],
             [
              0.5555555555555556,
              "#d8576b"
             ],
             [
              0.6666666666666666,
              "#ed7953"
             ],
             [
              0.7777777777777778,
              "#fb9f3a"
             ],
             [
              0.8888888888888888,
              "#fdca26"
             ],
             [
              1,
              "#f0f921"
             ]
            ],
            "type": "heatmapgl"
           }
          ],
          "histogram": [
           {
            "marker": {
             "colorbar": {
              "outlinewidth": 0,
              "ticks": ""
             }
            },
            "type": "histogram"
           }
          ],
          "histogram2d": [
           {
            "colorbar": {
             "outlinewidth": 0,
             "ticks": ""
            },
            "colorscale": [
             [
              0,
              "#0d0887"
             ],
             [
              0.1111111111111111,
              "#46039f"
             ],
             [
              0.2222222222222222,
              "#7201a8"
             ],
             [
              0.3333333333333333,
              "#9c179e"
             ],
             [
              0.4444444444444444,
              "#bd3786"
             ],
             [
              0.5555555555555556,
              "#d8576b"
             ],
             [
              0.6666666666666666,
              "#ed7953"
             ],
             [
              0.7777777777777778,
              "#fb9f3a"
             ],
             [
              0.8888888888888888,
              "#fdca26"
             ],
             [
              1,
              "#f0f921"
             ]
            ],
            "type": "histogram2d"
           }
          ],
          "histogram2dcontour": [
           {
            "colorbar": {
             "outlinewidth": 0,
             "ticks": ""
            },
            "colorscale": [
             [
              0,
              "#0d0887"
             ],
             [
              0.1111111111111111,
              "#46039f"
             ],
             [
              0.2222222222222222,
              "#7201a8"
             ],
             [
              0.3333333333333333,
              "#9c179e"
             ],
             [
              0.4444444444444444,
              "#bd3786"
             ],
             [
              0.5555555555555556,
              "#d8576b"
             ],
             [
              0.6666666666666666,
              "#ed7953"
             ],
             [
              0.7777777777777778,
              "#fb9f3a"
             ],
             [
              0.8888888888888888,
              "#fdca26"
             ],
             [
              1,
              "#f0f921"
             ]
            ],
            "type": "histogram2dcontour"
           }
          ],
          "mesh3d": [
           {
            "colorbar": {
             "outlinewidth": 0,
             "ticks": ""
            },
            "type": "mesh3d"
           }
          ],
          "parcoords": [
           {
            "line": {
             "colorbar": {
              "outlinewidth": 0,
              "ticks": ""
             }
            },
            "type": "parcoords"
           }
          ],
          "pie": [
           {
            "automargin": true,
            "type": "pie"
           }
          ],
          "scatter": [
           {
            "marker": {
             "colorbar": {
              "outlinewidth": 0,
              "ticks": ""
             }
            },
            "type": "scatter"
           }
          ],
          "scatter3d": [
           {
            "line": {
             "colorbar": {
              "outlinewidth": 0,
              "ticks": ""
             }
            },
            "marker": {
             "colorbar": {
              "outlinewidth": 0,
              "ticks": ""
             }
            },
            "type": "scatter3d"
           }
          ],
          "scattercarpet": [
           {
            "marker": {
             "colorbar": {
              "outlinewidth": 0,
              "ticks": ""
             }
            },
            "type": "scattercarpet"
           }
          ],
          "scattergeo": [
           {
            "marker": {
             "colorbar": {
              "outlinewidth": 0,
              "ticks": ""
             }
            },
            "type": "scattergeo"
           }
          ],
          "scattergl": [
           {
            "marker": {
             "colorbar": {
              "outlinewidth": 0,
              "ticks": ""
             }
            },
            "type": "scattergl"
           }
          ],
          "scattermapbox": [
           {
            "marker": {
             "colorbar": {
              "outlinewidth": 0,
              "ticks": ""
             }
            },
            "type": "scattermapbox"
           }
          ],
          "scatterpolar": [
           {
            "marker": {
             "colorbar": {
              "outlinewidth": 0,
              "ticks": ""
             }
            },
            "type": "scatterpolar"
           }
          ],
          "scatterpolargl": [
           {
            "marker": {
             "colorbar": {
              "outlinewidth": 0,
              "ticks": ""
             }
            },
            "type": "scatterpolargl"
           }
          ],
          "scatterternary": [
           {
            "marker": {
             "colorbar": {
              "outlinewidth": 0,
              "ticks": ""
             }
            },
            "type": "scatterternary"
           }
          ],
          "surface": [
           {
            "colorbar": {
             "outlinewidth": 0,
             "ticks": ""
            },
            "colorscale": [
             [
              0,
              "#0d0887"
             ],
             [
              0.1111111111111111,
              "#46039f"
             ],
             [
              0.2222222222222222,
              "#7201a8"
             ],
             [
              0.3333333333333333,
              "#9c179e"
             ],
             [
              0.4444444444444444,
              "#bd3786"
             ],
             [
              0.5555555555555556,
              "#d8576b"
             ],
             [
              0.6666666666666666,
              "#ed7953"
             ],
             [
              0.7777777777777778,
              "#fb9f3a"
             ],
             [
              0.8888888888888888,
              "#fdca26"
             ],
             [
              1,
              "#f0f921"
             ]
            ],
            "type": "surface"
           }
          ],
          "table": [
           {
            "cells": {
             "fill": {
              "color": "#EBF0F8"
             },
             "line": {
              "color": "white"
             }
            },
            "header": {
             "fill": {
              "color": "#C8D4E3"
             },
             "line": {
              "color": "white"
             }
            },
            "type": "table"
           }
          ]
         },
         "layout": {
          "annotationdefaults": {
           "arrowcolor": "#2a3f5f",
           "arrowhead": 0,
           "arrowwidth": 1
          },
          "coloraxis": {
           "colorbar": {
            "outlinewidth": 0,
            "ticks": ""
           }
          },
          "colorscale": {
           "diverging": [
            [
             0,
             "#8e0152"
            ],
            [
             0.1,
             "#c51b7d"
            ],
            [
             0.2,
             "#de77ae"
            ],
            [
             0.3,
             "#f1b6da"
            ],
            [
             0.4,
             "#fde0ef"
            ],
            [
             0.5,
             "#f7f7f7"
            ],
            [
             0.6,
             "#e6f5d0"
            ],
            [
             0.7,
             "#b8e186"
            ],
            [
             0.8,
             "#7fbc41"
            ],
            [
             0.9,
             "#4d9221"
            ],
            [
             1,
             "#276419"
            ]
           ],
           "sequential": [
            [
             0,
             "#0d0887"
            ],
            [
             0.1111111111111111,
             "#46039f"
            ],
            [
             0.2222222222222222,
             "#7201a8"
            ],
            [
             0.3333333333333333,
             "#9c179e"
            ],
            [
             0.4444444444444444,
             "#bd3786"
            ],
            [
             0.5555555555555556,
             "#d8576b"
            ],
            [
             0.6666666666666666,
             "#ed7953"
            ],
            [
             0.7777777777777778,
             "#fb9f3a"
            ],
            [
             0.8888888888888888,
             "#fdca26"
            ],
            [
             1,
             "#f0f921"
            ]
           ],
           "sequentialminus": [
            [
             0,
             "#0d0887"
            ],
            [
             0.1111111111111111,
             "#46039f"
            ],
            [
             0.2222222222222222,
             "#7201a8"
            ],
            [
             0.3333333333333333,
             "#9c179e"
            ],
            [
             0.4444444444444444,
             "#bd3786"
            ],
            [
             0.5555555555555556,
             "#d8576b"
            ],
            [
             0.6666666666666666,
             "#ed7953"
            ],
            [
             0.7777777777777778,
             "#fb9f3a"
            ],
            [
             0.8888888888888888,
             "#fdca26"
            ],
            [
             1,
             "#f0f921"
            ]
           ]
          },
          "colorway": [
           "#636efa",
           "#EF553B",
           "#00cc96",
           "#ab63fa",
           "#FFA15A",
           "#19d3f3",
           "#FF6692",
           "#B6E880",
           "#FF97FF",
           "#FECB52"
          ],
          "font": {
           "color": "#2a3f5f"
          },
          "geo": {
           "bgcolor": "white",
           "lakecolor": "white",
           "landcolor": "#E5ECF6",
           "showlakes": true,
           "showland": true,
           "subunitcolor": "white"
          },
          "hoverlabel": {
           "align": "left"
          },
          "hovermode": "closest",
          "mapbox": {
           "style": "light"
          },
          "paper_bgcolor": "white",
          "plot_bgcolor": "#E5ECF6",
          "polar": {
           "angularaxis": {
            "gridcolor": "white",
            "linecolor": "white",
            "ticks": ""
           },
           "bgcolor": "#E5ECF6",
           "radialaxis": {
            "gridcolor": "white",
            "linecolor": "white",
            "ticks": ""
           }
          },
          "scene": {
           "xaxis": {
            "backgroundcolor": "#E5ECF6",
            "gridcolor": "white",
            "gridwidth": 2,
            "linecolor": "white",
            "showbackground": true,
            "ticks": "",
            "zerolinecolor": "white"
           },
           "yaxis": {
            "backgroundcolor": "#E5ECF6",
            "gridcolor": "white",
            "gridwidth": 2,
            "linecolor": "white",
            "showbackground": true,
            "ticks": "",
            "zerolinecolor": "white"
           },
           "zaxis": {
            "backgroundcolor": "#E5ECF6",
            "gridcolor": "white",
            "gridwidth": 2,
            "linecolor": "white",
            "showbackground": true,
            "ticks": "",
            "zerolinecolor": "white"
           }
          },
          "shapedefaults": {
           "line": {
            "color": "#2a3f5f"
           }
          },
          "ternary": {
           "aaxis": {
            "gridcolor": "white",
            "linecolor": "white",
            "ticks": ""
           },
           "baxis": {
            "gridcolor": "white",
            "linecolor": "white",
            "ticks": ""
           },
           "bgcolor": "#E5ECF6",
           "caxis": {
            "gridcolor": "white",
            "linecolor": "white",
            "ticks": ""
           }
          },
          "title": {
           "x": 0.05
          },
          "xaxis": {
           "automargin": true,
           "gridcolor": "white",
           "linecolor": "white",
           "ticks": "",
           "title": {
            "standoff": 15
           },
           "zerolinecolor": "white",
           "zerolinewidth": 2
          },
          "yaxis": {
           "automargin": true,
           "gridcolor": "white",
           "linecolor": "white",
           "ticks": "",
           "title": {
            "standoff": 15
           },
           "zerolinecolor": "white",
           "zerolinewidth": 2
          }
         }
        },
        "title": {
         "font": {
          "color": "#4D5663"
         }
        },
        "xaxis": {
         "gridcolor": "#E1E5ED",
         "showgrid": true,
         "tickfont": {
          "color": "#4D5663"
         },
         "title": {
          "font": {
           "color": "#4D5663"
          },
          "text": ""
         },
         "zerolinecolor": "#E1E5ED"
        },
        "yaxis": {
         "gridcolor": "#E1E5ED",
         "showgrid": true,
         "tickfont": {
          "color": "#4D5663"
         },
         "title": {
          "font": {
           "color": "#4D5663"
          },
          "text": ""
         },
         "zerolinecolor": "#E1E5ED"
        }
       }
      },
      "text/html": [
       "<div>\n",
       "        \n",
       "        \n",
       "            <div id=\"05f4b848-6106-4f2b-9aa1-b7a3d759e602\" class=\"plotly-graph-div\" style=\"height:525px; width:100%;\"></div>\n",
       "            <script type=\"text/javascript\">\n",
       "                require([\"plotly\"], function(Plotly) {\n",
       "                    window.PLOTLYENV=window.PLOTLYENV || {};\n",
       "                    window.PLOTLYENV.BASE_URL='https://plot.ly';\n",
       "                    \n",
       "                if (document.getElementById(\"05f4b848-6106-4f2b-9aa1-b7a3d759e602\")) {\n",
       "                    Plotly.newPlot(\n",
       "                        '05f4b848-6106-4f2b-9aa1-b7a3d759e602',\n",
       "                        [{\"marker\": {\"color\": \"rgba(255, 153, 51, 1.0)\", \"line\": {\"width\": 1.3}, \"opacity\": 0.8, \"size\": 12, \"symbol\": \"circle\"}, \"mode\": \"markers\", \"name\": \"NIPS\", \"text\": [\"Neural Voice Cloning with a Few Samples\", \"Neural Voice Cloning with a Few Samples\", \"Neural Voice Cloning with a Few Samples\", \"Neural Architecture Search with Bayesian Optimisation and Optimal Transport\", \"Neural Architecture Search with Bayesian Optimisation and Optimal Transport\", \"Neural Architecture Search with Bayesian Optimisation and Optimal Transport\", \"Glow: Generative Flow with Invertible 1x1 Convolutions\", \"Universal Style Transfer via Feature Transforms\", \"Toward Multimodal Image-to-Image Translation\", \"Dual Discriminator Generative Adversarial Nets\", \"Hierarchical Attentive Recurrent Tracking\", \"On-the-fly Operation Batching in Dynamic Computation Graphs\", \"Dual Path Networks\", \"DropoutNet: Addressing Cold Start in Recommender Systems\", \"Attention is All you Need\", \"Attention is All you Need\", \"Value Prediction Network\", \"Modulating early visual processing by language\", \"Modulating early visual processing by language\", \"Real Time Image Saliency for Black Box Classifiers\"], \"textfont\": {\"color\": \"#4D5663\"}, \"type\": \"scatter\", \"x\": [-20.175561904907227, -18.567564010620117, -21.205141067504883, -7.783560752868652, -6.90899658203125, -7.6961259841918945, -7.695133686065674, -3.8912413120269775, 0.03345946595072746, -5.804984092712402, -1.9905697107315063, 23.752748489379883, -1.2717971801757812, -0.7001081705093384, 6.63504695892334, 15.22249698638916, -3.8730759620666504, 22.607877731323242, 22.65237045288086, -14.805541038513184], \"y\": [12.300756454467773, 8.299843788146973, 10.93509292602539, 8.680436134338379, 8.63435173034668, 8.396515846252441, -9.561482429504395, 20.97049903869629, -18.151559829711914, -14.236695289611816, -8.3276948928833, 1.2852768898010254, -24.587324142456055, -7.4773783683776855, -18.371353149414062, 20.06836700439453, 6.4931721687316895, 14.630948066711426, 14.434582710266113, -13.230509757995605]}, {\"marker\": {\"color\": \"rgba(55, 128, 191, 1.0)\", \"line\": {\"width\": 1.3}, \"opacity\": 0.8, \"size\": 12, \"symbol\": \"circle\"}, \"mode\": \"markers\", \"name\": \"CVPR\", \"text\": [\"Light Field Intrinsics With a Deep Encoder-Decoder Network\", \"Neural Module Networks\", \"Hierarchical Boundary-Aware Neural Encoder for Video Captioning\", \"In-Place Activated BatchNorm for Memory-Optimized Training of DNNs\", \"AON: Towards Arbitrarily-Oriented Text Recognition\", \"AON: Towards Arbitrarily-Oriented Text Recognition\", \"CartoonGAN: Generative Adversarial Networks for Photo Cartoonization\", \"Deep Photo Enhancer: Unpaired Learning for Image Enhancement From Photographs With GANs\", \"LiDAR-Video Driving Dataset: Learning Driving Policies Effectively\", \"Multi-View 3D Object Detection Network for Autonomous Driving\", \"Zero-Shot Visual Recognition Using Semantics-Preserving Adversarial Embedding Networks\", \"Xception: Deep Learning With Depthwise Separable Convolutions\", \"Xception: Deep Learning With Depthwise Separable Convolutions\", \"Xception: Deep Learning With Depthwise Separable Convolutions\", \"Xception: Deep Learning With Depthwise Separable Convolutions\", \"Xception: Deep Learning With Depthwise Separable Convolutions\", \"Lip Reading Sentences in the Wild\", \"Lip Reading Sentences in the Wild\", \"Style Aggregated Network for Facial Landmark Detection\", \"Style Aggregated Network for Facial Landmark Detection\", \"Supervision-by-Registration: An Unsupervised Approach to Improve the Precision of Facial Landmark Detectors\", \"Who Let the Dogs Out? Modeling Dog Behavior From Visual Data\", \"Who Let the Dogs Out? Modeling Dog Behavior From Visual Data\", \"Who Let the Dogs Out? Modeling Dog Behavior From Visual Data\", \"AMNet: Memorability Estimation With Attention\", \"A Point Set Generation Network for 3D Object Reconstruction From a Single Image\", \"StyleNet: Generating Attractive Visual Captions With Styles\", \"Dynamic Few-Shot Visual Learning Without Forgetting\", \"Social GAN: Socially Acceptable Trajectories With Generative Adversarial Networks\", \"DeLiGAN : Generative Adversarial Networks for Diverse and Limited Data\", \"Deep Pyramidal Residual Networks\", \"Deep Pyramidal Residual Networks\", \"Deep Pyramidal Residual Networks\", \"Can Spatiotemporal 3D CNNs Retrace the History of 2D CNNs and ImageNet?\", \"Deep Back-Projection Networks for Super-Resolution\", \"Deep Back-Projection Networks for Super-Resolution\", \"Deep Back-Projection Networks for Super-Resolution\", \"Deep Residual Learning for Image Recognition\", \"Deep Residual Learning for Image Recognition\", \"Deep Residual Learning for Image Recognition\", \"CondenseNet: An Efficient DenseNet Using Learned Group Convolutions\", \"Densely Connected Convolutional Networks\", \"Real-Time Neural Style Transfer for Videos\", \"Fast and Accurate Single Image Super-Resolution via Information Distillation Network\", \"Squeeze-and-Excitation Networks\", \"Squeeze-and-Excitation Networks\", \"Perturbative Neural Networks\", \"RON: Reverse Connection With Objectness Prior Networks for Object Detection\", \"Surface Networks\", \"Photo-Realistic Single Image Super-Resolution Using a Generative Adversarial Network\", \"A Memory Network Approach for Story-Based Temporal Summarization of 360\\u00b0 Videos\", \"CleanNet: Transfer Learning for Scalable Image Classifier Training With Label Noise\", \"Future Frame Prediction for Anomaly Detection \\u0096 A New Baseline\", \"SphereFace: Deep Hypersphere Embedding for Face Recognition\", \"Structure Inference Net: Object Detection Using Scene-Level Context and Instance-Level Relationships\", \"SO-Net: Self-Organizing Network for Point Cloud Analysis\", \"Efficient Deep Learning for Stereo Matching\", \"Neural Baby Talk\", \"Unsupervised Video Summarization With Adversarial LSTM Networks\", \"Unsupervised Video Summarization With Adversarial LSTM Networks\", \"Transparency by Design: Closing the Gap Between Performance and Interpretability in Visual Reasoning\", \"Conditional Probability Models for Deep Image Compression\", \"Conditional Probability Models for Deep Image Compression\", \"3D Bounding Box Estimation Using Deep Learning and Geometry\", \"Human Pose Estimation With Parsing Induced Learner\", \"Human Pose Estimation With Parsing Induced Learner\", \"Fast Video Object Segmentation by Reference-Guided Mask Propagation\", \"PieAPP: Perceptual Image-Error Assessment Through Pairwise Preference\", \"PieAPP: Perceptual Image-Error Assessment Through Pairwise Preference\", \"Attentive Generative Adversarial Network for Raindrop Removal From a Single Image\", \"Attentive Generative Adversarial Network for Raindrop Removal From a Single Image\", \"Low-Shot Learning With Imprinted Weights\", \"PointNet: Deep Learning on Point Sets for 3D Classification and Segmentation\", \"Avatar-Net: Multi-Scale Zero-Shot Style Transfer by Feature Decoration\", \"Learning to Compare: Relation Network for Few-Shot Learning\", \"Rethinking the Inception Architecture for Computer Vision\", \"Rethinking the Inception Architecture for Computer Vision\", \"Rethinking the Inception Architecture for Computer Vision\", \"Rethinking the Inception Architecture for Computer Vision\", \"Rethinking the Inception Architecture for Computer Vision\", \"Rethinking the Inception Architecture for Computer Vision\", \"Rethinking the Inception Architecture for Computer Vision\", \"Image Super-Resolution via Deep Recursive Residual Network\", \"Image Super-Resolution via Deep Recursive Residual Network\", \"Image Super-Resolution via Deep Recursive Residual Network\", \"Image Super-Resolution via Deep Recursive Residual Network\", \"Scale-Recurrent Network for Deep Image Deblurring\", \"Tangent Convolutions for Dense Prediction in 3D\", \"Two-Stream Convolutional Networks for Dynamic Texture Synthesis\", \"Full Resolution Image Compression With Recurrent Neural Networks\", \"Full Resolution Image Compression With Recurrent Neural Networks\", \"A Closer Look at Spatiotemporal Convolutions for Action Recognition\", \"Learning Superpixels With Segmentation-Aware Affinity Loss\", \"Adversarial Discriminative Domain Adaptation\", \"PointNetVLAD: Deep Point Cloud Based Retrieval for Large-Scale Place Recognition\", \"Learning a Discriminative Filter Bank Within a CNN for Fine-Grained Recognition\", \"Learning a Discriminative Filter Bank Within a CNN for Fine-Grained Recognition\", \"Learning a Discriminative Filter Bank Within a CNN for Fine-Grained Recognition\", \"Recovering Realistic Texture in Image Super-Resolution by Deep Spatial Feature Transform\", \"Bidirectional Retrieval Made Simple\", \"Aggregated Residual Transformations for Deep Neural Networks\", \"Aggregated Residual Transformations for Deep Neural Networks\", \"Aggregated Residual Transformations for Deep Neural Networks\", \"Deep Texture Manifold for Ground Terrain Recognition\", \"Deep Texture Manifold for Ground Terrain Recognition\", \"Scene Graph Generation by Iterative Message Passing\", \"DenseASPP for Semantic Segmentation in Street Scenes\", \"Dilated Residual Networks\", \"MAttNet: Modular Attention Network for Referring Expression Comprehension\", \"Deep Mutual Learning\", \"Density-Aware Single Image De-Raining Using a Multi-Stream Dense Network\", \"Density-Aware Single Image De-Raining Using a Multi-Stream Dense Network\", \"EAST: An Efficient and Accurate Scene Text Detector\", \"EAST: An Efficient and Accurate Scene Text Detector\"], \"textfont\": {\"color\": \"#4D5663\"}, \"type\": \"scatter\", \"x\": [22.131450653076172, 24.16000747680664, 23.985746383666992, 23.247617721557617, 2.17535662651062, 2.189209461212158, 10.292267799377441, -4.237742900848389, -4.852413654327393, 2.299856424331665, 15.362506866455078, -30.843576431274414, -32.00525665283203, -31.74946403503418, -31.166236877441406, -24.49106788635254, -1.897026538848877, -9.096171379089355, -2.0046801567077637, -8.028915405273438, 18.813026428222656, 8.680668830871582, 9.22398567199707, -3.009730815887451, 11.495415687561035, -3.5755763053894043, 10.220895767211914, 2.130784511566162, 17.37142562866211, -1.0551813840866089, -6.092202663421631, -6.439483642578125, -1.9249401092529297, -1.3885900974273682, -19.457780838012695, -19.41881561279297, -18.92670249938965, 17.031740188598633, 0.6254864931106567, 16.693010330200195, -13.139006614685059, 12.888811111450195, -8.111885070800781, 1.4562571048736572, 7.8653788566589355, 7.801903247833252, 6.701316833496094, -24.064207077026367, 8.999479293823242, -20.3931941986084, -18.49939727783203, -16.791213989257812, -3.8572800159454346, -18.00185775756836, 18.681116104125977, -11.89059066772461, 11.39583683013916, 9.166892051696777, 21.855789184570312, 23.266252517700195, -8.771827697753906, 21.653608322143555, 23.968027114868164, -13.52444839477539, 3.034897804260254, -5.964892864227295, -1.4883971214294434, -0.4131582975387573, -0.9548119306564331, -8.672527313232422, -13.260210990905762, -24.4910888671875, 7.6785101890563965, -0.6985595226287842, 21.87226104736328, -25.12590217590332, -25.38681411743164, -25.854419708251953, -24.809669494628906, -26.15699577331543, -24.29848289489746, -25.15215492248535, -13.878387451171875, -15.1133394241333, -14.992009162902832, -14.876374244689941, -1.243798017501831, 0.3118442893028259, -17.56606674194336, -19.296175003051758, -17.40793800354004, -2.650864362716675, 16.134910583496094, 8.519750595092773, 8.509187698364258, -3.415278434753418, -1.1191842555999756, -4.635985374450684, -14.980311393737793, -13.055289268493652, -20.594165802001953, -20.379558563232422, -23.16974639892578, -1.0227513313293457, -1.4486302137374878, 7.653670787811279, 18.525930404663086, -1.5543338060379028, 23.193828582763672, -19.10452651977539, 12.591787338256836, 10.797687530517578, 8.575424194335938, 17.607017517089844], \"y\": [-3.271641254425049, 1.5692521333694458, 7.796581268310547, 9.085820198059082, 10.819340705871582, 10.730270385742188, 16.611722946166992, 2.7726807594299316, -4.75147008895874, -5.740231513977051, -6.391168117523193, 2.274825096130371, 3.1746742725372314, 2.9321200847625732, 2.5189907550811768, -15.937233924865723, 19.816627502441406, 10.325572967529297, 18.517526626586914, 18.486217498779297, 16.46602439880371, -21.87995147705078, -21.252532958984375, -22.283775329589844, -3.3284897804260254, 2.164860725402832, 16.022214889526367, 0.4999132752418518, 14.019729614257812, 17.517091751098633, 18.07822608947754, 19.459362030029297, 22.41094207763672, 22.814611434936523, 9.07796573638916, 8.864636421203613, 7.652999401092529, 4.709743499755859, 23.07862091064453, 4.7881178855896, 4.007481098175049, -1.4897689819335938, -10.968584060668945, -9.654960632324219, -13.461626052856445, -13.087995529174805, 16.050411224365234, 8.744108200073242, 4.344682216644287, 17.23316764831543, -12.490017890930176, -12.636125564575195, -5.551205635070801, -12.689485549926758, -7.270712375640869, -7.3398237228393555, -14.141369819641113, -14.461931228637695, 4.281265735626221, -0.3495996594429016, 10.084551811218262, 11.561444282531738, 10.44239330291748, -9.882506370544434, -12.552517890930176, -13.522631645202637, 17.148298263549805, -13.375617027282715, -13.491971015930176, -10.44228458404541, -7.807272434234619, 1.9066909551620483, 5.903543949127197, 23.246713638305664, 3.7092888355255127, 3.071211338043213, 4.996579647064209, 4.416006088256836, 5.119454860687256, 3.222304344177246, 8.4489164352417, 6.592600345611572, -8.275762557983398, -13.211369514465332, -8.780574798583984, -8.915487289428711, 16.17784309387207, -21.593481063842773, -10.086417198181152, -2.2570528984069824, -10.12881851196289, 20.76203727722168, 14.01705551147461, -14.353128433227539, 13.71753978729248, -13.4881591796875, -15.519903182983398, -14.130108833312988, 0.5868499279022217, 3.6511969566345215, 1.206055998802185, 1.3413878679275513, 0.3148217499256134, -10.600672721862793, -11.454980850219727, -22.38384246826172, 15.489209175109863, 19.593772888183594, -1.411011815071106, 0.11060115694999695, -2.296581745147705, -15.49445629119873, 15.779061317443848, 13.947772979736328]}, {\"marker\": {\"color\": \"rgba(50, 171, 96, 1.0)\", \"line\": {\"width\": 1.3}, \"opacity\": 0.8, \"size\": 12, \"symbol\": \"circle\"}, \"mode\": \"markers\", \"name\": \"ICML\", \"text\": [\"Input Convex Neural Networks\", \"Input Convex Neural Networks\", \"Predict and Constrain: Modeling Cardinality in Deep Structured Prediction\", \"Path-Level Network Transformation for Efficient Architecture Search\", \"Path-Level Network Transformation for Efficient Architecture Search\", \"Dance Dance Convolution\", \"Dance Dance Convolution\", \"Video Pixel Networks\", \"Device Placement Optimization with Reinforcement Learning\", \"Device Placement Optimization with Reinforcement Learning\", \"Efficient Neural Architecture Search via Parameters Sharing\", \"Efficient Neural Architecture Search via Parameters Sharing\", \"Efficient Neural Architecture Search via Parameters Sharing\", \"Efficient Neural Architecture Search via Parameters Sharing\", \"Efficient Neural Architecture Search via Parameters Sharing\", \"Efficient Neural Architecture Search via Parameters Sharing\", \"Attentive Recurrent Comparators\", \"Exploiting the Potential of Standard Convolutional Autoencoders for Image Restoration by Evolutionary Search\", \"Exploiting the Potential of Standard Convolutional Autoencoders for Image Restoration by Evolutionary Search\", \"Style Tokens: Unsupervised Style Modeling, Control and Transfer in End-to-End Speech Synthesis\"], \"textfont\": {\"color\": \"#4D5663\"}, \"type\": \"scatter\", \"x\": [21.18602180480957, 23.06233787536621, 23.230140686035156, 2.729588747024536, 2.6267099380493164, -2.9856157302856445, -2.785128355026245, 9.747262001037598, 3.2602760791778564, 3.3874337673187256, -18.271120071411133, -21.04475212097168, -15.320021629333496, -20.11817741394043, -21.442705154418945, -21.254213333129883, 19.856550216674805, -3.5169522762298584, -2.7673330307006836, -6.452203750610352], \"y\": [4.07543420791626, -0.6197527050971985, 5.288789749145508, -9.023369789123535, -6.280464172363281, 1.122054934501648, 0.8728706240653992, -14.364246368408203, -0.10696634650230408, -0.17059528827667236, -0.6863604187965393, -3.1274333000183105, 0.3193286955356598, -12.303316116333008, -2.9028589725494385, -3.6739537715911865, 14.745031356811523, -5.955971717834473, -7.723635673522949, 16.548110961914062]}, {\"marker\": {\"color\": \"rgba(128, 0, 128, 1.0)\", \"line\": {\"width\": 1.3}, \"opacity\": 0.8, \"size\": 12, \"symbol\": \"circle\"}, \"mode\": \"markers\", \"name\": \"ECCV\", \"text\": [\"Disentangling Factors of Variation with Cycle-Consistent Variational Auto-Encoders\", \"Disentangling Factors of Variation with Cycle-Consistent Variational Auto-Encoders\", \"Conditional Image-Text Embedding Networks\", \"Progressive Neural Architecture Search\", \"Geolocation Estimation of Photos using a Hierarchical Model and Scene Classification\", \"Dynamic Conditional Networks for Few-Shot Learning\", \"Dynamic Conditional Networks for Few-Shot Learning\", \"Dynamic Conditional Networks for Few-Shot Learning\", \"Dynamic Conditional Networks for Few-Shot Learning\", \"Recovering 3D Planes from a Single Image via Convolutional Neural Networks\", \"Learning Single-View 3D Reconstruction with Limited Pose Supervision\", \"PSANet: Point-wise Spatial Attention Network for Scene Parsing\", \"Multi-scale Residual Network for Image Super-Resolution\", \"Multi-scale Residual Network for Image Super-Resolution\", \"Bidirectional Feature Pyramid Network with Recurrent Attention Residual Modules for Shadow Detection\", \"EC-Net: an Edge-aware Point set Consolidation Network\", \"Learning Visual Question Answering by Bootstrapping Hard Attention\", \"ECO: Efficient Convolutional Network for Online Video Understanding\", \"Diverse and Coherent Paragraph Generation from Images\", \"Diverse and Coherent Paragraph Generation from Images\", \"Diverse and Coherent Paragraph Generation from Images\", \"Diverse and Coherent Paragraph Generation from Images\", \"Pixel2Mesh: Generating 3D Mesh Models from Single RGB Images\", \"Towards Realistic Predictors\", \"License Plate Detection and Recognition in Unconstrained Scenarios\", \"A Modulation Module for Multi-task Learning with Applications in Image Retrieval\", \"Mutual Learning to Adapt for Joint Human Parsing and Pose Estimation\", \"Mutual Learning to Adapt for Joint Human Parsing and Pose Estimation\", \"Multimodal Unsupervised Image-to-image Translation\", \"Audio-Visual Event Localization in Unconstrained Videos\", \"Audio-Visual Event Localization in Unconstrained Videos\", \"DF-Net: Unsupervised Joint Learning of Depth and Flow using Cross-Task Consistency\", \"Learning Rigidity in Dynamic Scenes with a Moving Camera for 3D Motion Field Estimation\", \"Generalizing A Person Retrieval Model Hetero- and Homogeneously\"], \"textfont\": {\"color\": \"#4D5663\"}, \"type\": \"scatter\", \"x\": [-6.405484199523926, -6.128750324249268, 0.12256844341754913, 19.287439346313477, 15.509499549865723, -1.095923662185669, -0.8869202733039856, -17.028554916381836, -2.9109041690826416, -5.902587413787842, -7.1626152992248535, -8.410353660583496, 23.833694458007812, 23.964447021484375, 19.354984283447266, 7.751053333282471, 13.136404037475586, 22.544960021972656, 14.409622192382812, 13.844359397888184, 6.3305888175964355, 5.840606212615967, 12.204129219055176, 7.335792541503906, -13.033323287963867, 12.018933296203613, 17.248241424560547, 16.115371704101562, 15.922663688659668, -18.13438606262207, -23.69538688659668, 14.905155181884766, -13.096355438232422, -13.236174583435059], \"y\": [-19.443859100341797, -19.3018741607666, -17.66963005065918, 4.2210001945495605, 13.961593627929688, -22.087474822998047, -22.052160263061523, -2.9525792598724365, -24.724409103393555, 18.092784881591797, 15.23035717010498, -10.206413269042969, 7.096102237701416, 8.873480796813965, 14.752169609069824, 5.859228134155273, -13.571504592895508, -1.9116462469100952, -7.589739799499512, -7.1692376136779785, -1.7364600896835327, -2.058800220489502, -13.580459594726562, -14.484235763549805, -5.821490287780762, -2.890763998031616, -9.648133277893066, -5.350420951843262, -5.794880390167236, -0.7356632947921753, 3.9895687103271484, -8.049171447753906, -5.8292083740234375, 4.643182277679443]}, {\"marker\": {\"color\": \"rgba(219, 64, 82, 1.0)\", \"line\": {\"width\": 1.3}, \"opacity\": 0.8, \"size\": 12, \"symbol\": \"circle\"}, \"mode\": \"markers\", \"name\": \"ICCV\", \"text\": [\"Deep TextSpotter: An End-To-End Trainable Scene Text Localization and Recognition Framework\", \"SubUNets: End-To-End Hand Shape and Continuous Sign Language Recognition\", \"SubUNets: End-To-End Hand Shape and Continuous Sign Language Recognition\", \"SubUNets: End-To-End Hand Shape and Continuous Sign Language Recognition\", \"SubUNets: End-To-End Hand Shape and Continuous Sign Language Recognition\", \"SubUNets: End-To-End Hand Shape and Continuous Sign Language Recognition\", \"Query-Guided Regression Network With Context Policy for Phrase Grounding\", \"Show, Adapt and Tell: Adversarial Training of Cross-Domain Image Captioner\", \"Long Short-Term Memory Kalman Filters: Recurrent Neural Estimators for Pose Regularization\", \"Arbitrary Style Transfer in Real-Time With Adaptive Instance Normalization\", \"Wavelet-SRNet: A Wavelet-Based CNN for Multi-Scale Face Super Resolution\", \"Learning to Reason: End-To-End Module Networks for Visual Question Answering\", \"DSLR-Quality Photos on Mobile Devices With Deep Convolutional Networks\", \"Learning Efficient Convolutional Networks Through Network Slimming\", \"Attentive Semantic Video Generation Using Captions\", \"GANs for Biological Image Synthesis\", \"MemNet: A Persistent Memory Network for Image Restoration\", \"MemNet: A Persistent Memory Network for Image Restoration\", \"Simultaneous Deep Transfer Across Domains and Tasks\", \"Sequence to Sequence - Video to Text\", \"Revisiting IM2GPS in the Deep Learning Era\", \"Genetic CNN\", \"Genetic CNN\", \"Curriculum Domain Adaptation for Semantic Segmentation of Urban Scenes\", \"Unlabeled Samples Generated by GAN Improve the Person Re-Identification Baseline in Vitro\"], \"textfont\": {\"color\": \"#4D5663\"}, \"type\": \"scatter\", \"x\": [8.076133728027344, 10.584817886352539, 11.603999137878418, 11.493290901184082, 11.96386432647705, 7.829286575317383, 9.155016899108887, 3.2047598361968994, -4.7211689949035645, 18.067495346069336, 18.150955200195312, 21.29690170288086, -1.627797245979309, 17.640092849731445, 9.779683113098145, -2.269404649734497, -2.1265311241149902, -1.9376888275146484, 9.598640441894531, 9.353775024414062, 4.448802471160889, -12.848998069763184, -15.930279731750488, 9.354803085327148, -1.830430030822754], \"y\": [-22.490009307861328, 6.6882734298706055, 6.106749534606934, 5.495449542999268, 5.849341869354248, 15.637054443359375, 18.3614559173584, -9.180086135864258, -4.906091690063477, -7.740219593048096, -9.670675277709961, 14.86972427368164, 23.778776168823242, -9.175592422485352, 18.31502914428711, 14.902925491333008, -24.009902954101562, -23.07515525817871, 18.94513511657715, 15.369504928588867, -0.44735461473464966, 10.115250587463379, -17.013721466064453, 4.212087631225586, -12.628952980041504]}],\n",
       "                        {\"legend\": {\"bgcolor\": \"#F5F6F9\", \"font\": {\"color\": \"#4D5663\"}}, \"paper_bgcolor\": \"#F5F6F9\", \"plot_bgcolor\": \"#F5F6F9\", \"template\": {\"data\": {\"bar\": [{\"error_x\": {\"color\": \"#2a3f5f\"}, \"error_y\": {\"color\": \"#2a3f5f\"}, \"marker\": {\"line\": {\"color\": \"#E5ECF6\", \"width\": 0.5}}, \"type\": \"bar\"}], \"barpolar\": [{\"marker\": {\"line\": {\"color\": \"#E5ECF6\", \"width\": 0.5}}, \"type\": \"barpolar\"}], \"carpet\": [{\"aaxis\": {\"endlinecolor\": \"#2a3f5f\", \"gridcolor\": \"white\", \"linecolor\": \"white\", \"minorgridcolor\": \"white\", \"startlinecolor\": \"#2a3f5f\"}, \"baxis\": {\"endlinecolor\": \"#2a3f5f\", \"gridcolor\": \"white\", \"linecolor\": \"white\", \"minorgridcolor\": \"white\", \"startlinecolor\": \"#2a3f5f\"}, \"type\": \"carpet\"}], \"choropleth\": [{\"colorbar\": {\"outlinewidth\": 0, \"ticks\": \"\"}, \"type\": \"choropleth\"}], \"contour\": [{\"colorbar\": {\"outlinewidth\": 0, \"ticks\": \"\"}, \"colorscale\": [[0.0, \"#0d0887\"], [0.1111111111111111, \"#46039f\"], [0.2222222222222222, \"#7201a8\"], [0.3333333333333333, \"#9c179e\"], [0.4444444444444444, \"#bd3786\"], [0.5555555555555556, \"#d8576b\"], [0.6666666666666666, \"#ed7953\"], [0.7777777777777778, \"#fb9f3a\"], [0.8888888888888888, \"#fdca26\"], [1.0, \"#f0f921\"]], \"type\": \"contour\"}], \"contourcarpet\": [{\"colorbar\": {\"outlinewidth\": 0, \"ticks\": \"\"}, \"type\": \"contourcarpet\"}], \"heatmap\": [{\"colorbar\": {\"outlinewidth\": 0, \"ticks\": \"\"}, \"colorscale\": [[0.0, \"#0d0887\"], [0.1111111111111111, \"#46039f\"], [0.2222222222222222, \"#7201a8\"], [0.3333333333333333, \"#9c179e\"], [0.4444444444444444, \"#bd3786\"], [0.5555555555555556, \"#d8576b\"], [0.6666666666666666, \"#ed7953\"], [0.7777777777777778, \"#fb9f3a\"], [0.8888888888888888, \"#fdca26\"], [1.0, \"#f0f921\"]], \"type\": \"heatmap\"}], \"heatmapgl\": [{\"colorbar\": {\"outlinewidth\": 0, \"ticks\": \"\"}, \"colorscale\": [[0.0, \"#0d0887\"], [0.1111111111111111, \"#46039f\"], [0.2222222222222222, \"#7201a8\"], [0.3333333333333333, \"#9c179e\"], [0.4444444444444444, \"#bd3786\"], [0.5555555555555556, \"#d8576b\"], [0.6666666666666666, \"#ed7953\"], [0.7777777777777778, \"#fb9f3a\"], [0.8888888888888888, \"#fdca26\"], [1.0, \"#f0f921\"]], \"type\": \"heatmapgl\"}], \"histogram\": [{\"marker\": {\"colorbar\": {\"outlinewidth\": 0, \"ticks\": \"\"}}, \"type\": \"histogram\"}], \"histogram2d\": [{\"colorbar\": {\"outlinewidth\": 0, \"ticks\": \"\"}, \"colorscale\": [[0.0, \"#0d0887\"], [0.1111111111111111, \"#46039f\"], [0.2222222222222222, \"#7201a8\"], [0.3333333333333333, \"#9c179e\"], [0.4444444444444444, \"#bd3786\"], [0.5555555555555556, \"#d8576b\"], [0.6666666666666666, \"#ed7953\"], [0.7777777777777778, \"#fb9f3a\"], [0.8888888888888888, \"#fdca26\"], [1.0, \"#f0f921\"]], \"type\": \"histogram2d\"}], \"histogram2dcontour\": [{\"colorbar\": {\"outlinewidth\": 0, \"ticks\": \"\"}, \"colorscale\": [[0.0, \"#0d0887\"], [0.1111111111111111, \"#46039f\"], [0.2222222222222222, \"#7201a8\"], [0.3333333333333333, \"#9c179e\"], [0.4444444444444444, \"#bd3786\"], [0.5555555555555556, \"#d8576b\"], [0.6666666666666666, \"#ed7953\"], [0.7777777777777778, \"#fb9f3a\"], [0.8888888888888888, \"#fdca26\"], [1.0, \"#f0f921\"]], \"type\": \"histogram2dcontour\"}], \"mesh3d\": [{\"colorbar\": {\"outlinewidth\": 0, \"ticks\": \"\"}, \"type\": \"mesh3d\"}], \"parcoords\": [{\"line\": {\"colorbar\": {\"outlinewidth\": 0, \"ticks\": \"\"}}, \"type\": \"parcoords\"}], \"pie\": [{\"automargin\": true, \"type\": \"pie\"}], \"scatter\": [{\"marker\": {\"colorbar\": {\"outlinewidth\": 0, \"ticks\": \"\"}}, \"type\": \"scatter\"}], \"scatter3d\": [{\"line\": {\"colorbar\": {\"outlinewidth\": 0, \"ticks\": \"\"}}, \"marker\": {\"colorbar\": {\"outlinewidth\": 0, \"ticks\": \"\"}}, \"type\": \"scatter3d\"}], \"scattercarpet\": [{\"marker\": {\"colorbar\": {\"outlinewidth\": 0, \"ticks\": \"\"}}, \"type\": \"scattercarpet\"}], \"scattergeo\": [{\"marker\": {\"colorbar\": {\"outlinewidth\": 0, \"ticks\": \"\"}}, \"type\": \"scattergeo\"}], \"scattergl\": [{\"marker\": {\"colorbar\": {\"outlinewidth\": 0, \"ticks\": \"\"}}, \"type\": \"scattergl\"}], \"scattermapbox\": [{\"marker\": {\"colorbar\": {\"outlinewidth\": 0, \"ticks\": \"\"}}, \"type\": \"scattermapbox\"}], \"scatterpolar\": [{\"marker\": {\"colorbar\": {\"outlinewidth\": 0, \"ticks\": \"\"}}, \"type\": \"scatterpolar\"}], \"scatterpolargl\": [{\"marker\": {\"colorbar\": {\"outlinewidth\": 0, \"ticks\": \"\"}}, \"type\": \"scatterpolargl\"}], \"scatterternary\": [{\"marker\": {\"colorbar\": {\"outlinewidth\": 0, \"ticks\": \"\"}}, \"type\": \"scatterternary\"}], \"surface\": [{\"colorbar\": {\"outlinewidth\": 0, \"ticks\": \"\"}, \"colorscale\": [[0.0, \"#0d0887\"], [0.1111111111111111, \"#46039f\"], [0.2222222222222222, \"#7201a8\"], [0.3333333333333333, \"#9c179e\"], [0.4444444444444444, \"#bd3786\"], [0.5555555555555556, \"#d8576b\"], [0.6666666666666666, \"#ed7953\"], [0.7777777777777778, \"#fb9f3a\"], [0.8888888888888888, \"#fdca26\"], [1.0, \"#f0f921\"]], \"type\": \"surface\"}], \"table\": [{\"cells\": {\"fill\": {\"color\": \"#EBF0F8\"}, \"line\": {\"color\": \"white\"}}, \"header\": {\"fill\": {\"color\": \"#C8D4E3\"}, \"line\": {\"color\": \"white\"}}, \"type\": \"table\"}]}, \"layout\": {\"annotationdefaults\": {\"arrowcolor\": \"#2a3f5f\", \"arrowhead\": 0, \"arrowwidth\": 1}, \"coloraxis\": {\"colorbar\": {\"outlinewidth\": 0, \"ticks\": \"\"}}, \"colorscale\": {\"diverging\": [[0, \"#8e0152\"], [0.1, \"#c51b7d\"], [0.2, \"#de77ae\"], [0.3, \"#f1b6da\"], [0.4, \"#fde0ef\"], [0.5, \"#f7f7f7\"], [0.6, \"#e6f5d0\"], [0.7, \"#b8e186\"], [0.8, \"#7fbc41\"], [0.9, \"#4d9221\"], [1, \"#276419\"]], \"sequential\": [[0.0, \"#0d0887\"], [0.1111111111111111, \"#46039f\"], [0.2222222222222222, \"#7201a8\"], [0.3333333333333333, \"#9c179e\"], [0.4444444444444444, \"#bd3786\"], [0.5555555555555556, \"#d8576b\"], [0.6666666666666666, \"#ed7953\"], [0.7777777777777778, \"#fb9f3a\"], [0.8888888888888888, \"#fdca26\"], [1.0, \"#f0f921\"]], \"sequentialminus\": [[0.0, \"#0d0887\"], [0.1111111111111111, \"#46039f\"], [0.2222222222222222, \"#7201a8\"], [0.3333333333333333, \"#9c179e\"], [0.4444444444444444, \"#bd3786\"], [0.5555555555555556, \"#d8576b\"], [0.6666666666666666, \"#ed7953\"], [0.7777777777777778, \"#fb9f3a\"], [0.8888888888888888, \"#fdca26\"], [1.0, \"#f0f921\"]]}, \"colorway\": [\"#636efa\", \"#EF553B\", \"#00cc96\", \"#ab63fa\", \"#FFA15A\", \"#19d3f3\", \"#FF6692\", \"#B6E880\", \"#FF97FF\", \"#FECB52\"], \"font\": {\"color\": \"#2a3f5f\"}, \"geo\": {\"bgcolor\": \"white\", \"lakecolor\": \"white\", \"landcolor\": \"#E5ECF6\", \"showlakes\": true, \"showland\": true, \"subunitcolor\": \"white\"}, \"hoverlabel\": {\"align\": \"left\"}, \"hovermode\": \"closest\", \"mapbox\": {\"style\": \"light\"}, \"paper_bgcolor\": \"white\", \"plot_bgcolor\": \"#E5ECF6\", \"polar\": {\"angularaxis\": {\"gridcolor\": \"white\", \"linecolor\": \"white\", \"ticks\": \"\"}, \"bgcolor\": \"#E5ECF6\", \"radialaxis\": {\"gridcolor\": \"white\", \"linecolor\": \"white\", \"ticks\": \"\"}}, \"scene\": {\"xaxis\": {\"backgroundcolor\": \"#E5ECF6\", \"gridcolor\": \"white\", \"gridwidth\": 2, \"linecolor\": \"white\", \"showbackground\": true, \"ticks\": \"\", \"zerolinecolor\": \"white\"}, \"yaxis\": {\"backgroundcolor\": \"#E5ECF6\", \"gridcolor\": \"white\", \"gridwidth\": 2, \"linecolor\": \"white\", \"showbackground\": true, \"ticks\": \"\", \"zerolinecolor\": \"white\"}, \"zaxis\": {\"backgroundcolor\": \"#E5ECF6\", \"gridcolor\": \"white\", \"gridwidth\": 2, \"linecolor\": \"white\", \"showbackground\": true, \"ticks\": \"\", \"zerolinecolor\": \"white\"}}, \"shapedefaults\": {\"line\": {\"color\": \"#2a3f5f\"}}, \"ternary\": {\"aaxis\": {\"gridcolor\": \"white\", \"linecolor\": \"white\", \"ticks\": \"\"}, \"baxis\": {\"gridcolor\": \"white\", \"linecolor\": \"white\", \"ticks\": \"\"}, \"bgcolor\": \"#E5ECF6\", \"caxis\": {\"gridcolor\": \"white\", \"linecolor\": \"white\", \"ticks\": \"\"}}, \"title\": {\"x\": 0.05}, \"xaxis\": {\"automargin\": true, \"gridcolor\": \"white\", \"linecolor\": \"white\", \"ticks\": \"\", \"title\": {\"standoff\": 15}, \"zerolinecolor\": \"white\", \"zerolinewidth\": 2}, \"yaxis\": {\"automargin\": true, \"gridcolor\": \"white\", \"linecolor\": \"white\", \"ticks\": \"\", \"title\": {\"standoff\": 15}, \"zerolinecolor\": \"white\", \"zerolinewidth\": 2}}}, \"title\": {\"font\": {\"color\": \"#4D5663\"}}, \"xaxis\": {\"gridcolor\": \"#E1E5ED\", \"showgrid\": true, \"tickfont\": {\"color\": \"#4D5663\"}, \"title\": {\"font\": {\"color\": \"#4D5663\"}, \"text\": \"\"}, \"zerolinecolor\": \"#E1E5ED\"}, \"yaxis\": {\"gridcolor\": \"#E1E5ED\", \"showgrid\": true, \"tickfont\": {\"color\": \"#4D5663\"}, \"title\": {\"font\": {\"color\": \"#4D5663\"}, \"text\": \"\"}, \"zerolinecolor\": \"#E1E5ED\"}},\n",
       "                        {\"showLink\": true, \"linkText\": \"Export to plot.ly\", \"plotlyServerURL\": \"https://plot.ly\", \"responsive\": true}\n",
       "                    ).then(function(){\n",
       "                            \n",
       "var gd = document.getElementById('05f4b848-6106-4f2b-9aa1-b7a3d759e602');\n",
       "var x = new MutationObserver(function (mutations, observer) {{\n",
       "        var display = window.getComputedStyle(gd).display;\n",
       "        if (!display || display === 'none') {{\n",
       "            console.log([gd, 'removed!']);\n",
       "            Plotly.purge(gd);\n",
       "            observer.disconnect();\n",
       "        }}\n",
       "}});\n",
       "\n",
       "// Listen for the removal of the full notebook cells\n",
       "var notebookContainer = gd.closest('#notebook-container');\n",
       "if (notebookContainer) {{\n",
       "    x.observe(notebookContainer, {childList: true});\n",
       "}}\n",
       "\n",
       "// Listen for the clearing of the current output cell\n",
       "var outputEl = gd.closest('.output');\n",
       "if (outputEl) {{\n",
       "    x.observe(outputEl, {childList: true});\n",
       "}}\n",
       "\n",
       "                        })\n",
       "                };\n",
       "                });\n",
       "            </script>\n",
       "        </div>"
      ]
     },
     "metadata": {},
     "output_type": "display_data"
    }
   ],
   "source": [
    "### Image2Graph\n",
    "emb,meta=load_emb_data('i2g')\n",
    "visualize(emb,meta,method='TSNE',dim=2)"
   ]
  },
  {
   "cell_type": "code",
   "execution_count": 12,
   "metadata": {},
   "outputs": [
    {
     "name": "stdout",
     "output_type": "stream",
     "text": [
      "[t-SNE] Computing 16 nearest neighbors...\n",
      "[t-SNE] Indexed 32 samples in 0.000s...\n",
      "[t-SNE] Computed neighbors for 32 samples in 0.001s...\n",
      "[t-SNE] Computed conditional probabilities for sample 32 / 32\n",
      "[t-SNE] Mean sigma: 4.091255\n",
      "[t-SNE] KL divergence after 250 iterations with early exaggeration: 71.465225\n",
      "[t-SNE] KL divergence after 300 iterations: 1.967879\n"
     ]
    },
    {
     "data": {
      "application/vnd.plotly.v1+json": {
       "config": {
        "linkText": "Export to plot.ly",
        "plotlyServerURL": "https://plot.ly",
        "showLink": true
       },
       "data": [
        {
         "marker": {
          "color": "rgba(255, 153, 51, 1.0)",
          "line": {
           "width": 1.3
          },
          "opacity": 0.8,
          "size": 12,
          "symbol": "circle"
         },
         "mode": "markers",
         "name": "NIPS",
         "text": [
          "DropoutNet: Addressing Cold Start in Recommender Systems"
         ],
         "textfont": {
          "color": "#4D5663"
         },
         "type": "scatter",
         "x": [
          226.55364990234375
         ],
         "y": [
          -11.09989070892334
         ]
        },
        {
         "marker": {
          "color": "rgba(55, 128, 191, 1.0)",
          "line": {
           "width": 1.3
          },
          "opacity": 0.8,
          "size": 12,
          "symbol": "circle"
         },
         "mode": "markers",
         "name": "ICML",
         "text": [
          "Predict and Constrain: Modeling Cardinality in Deep Structured Prediction",
          "Video Pixel Networks",
          "Device Placement Optimization with Reinforcement Learning"
         ],
         "textfont": {
          "color": "#4D5663"
         },
         "type": "scatter",
         "x": [
          -78.64852905273438,
          87.95399475097656,
          3.3531765937805176
         ],
         "y": [
          -20.917678833007812,
          -121.59032440185547,
          -98.83418273925781
         ]
        },
        {
         "marker": {
          "color": "rgba(50, 171, 96, 1.0)",
          "line": {
           "width": 1.3
          },
          "opacity": 0.8,
          "size": 12,
          "symbol": "circle"
         },
         "mode": "markers",
         "name": "ECCV",
         "text": [
          "Conditional Image-Text Embedding Networks",
          "Progressive Neural Architecture Search",
          "Geolocation Estimation of Photos using a Hierarchical Model and Scene Classification",
          "Recovering 3D Planes from a Single Image via Convolutional Neural Networks",
          "Learning Single-View 3D Reconstruction with Limited Pose Supervision",
          "EC-Net: an Edge-aware Point set Consolidation Network",
          "License Plate Detection and Recognition in Unconstrained Scenarios",
          "Audio-Visual Event Localization in Unconstrained Videos"
         ],
         "textfont": {
          "color": "#4D5663"
         },
         "type": "scatter",
         "x": [
          -129.6039276123047,
          -135.40647888183594,
          206.67149353027344,
          -74.48350524902344,
          20.4985294342041,
          -2.2617504596710205,
          320.9230041503906,
          61.85139083862305
         ],
         "y": [
          27.44332504272461,
          786.3380737304688,
          -43.16640090942383,
          133.86941528320312,
          95.48536682128906,
          -210.70982360839844,
          43.5783576965332,
          216.73683166503906
         ]
        },
        {
         "marker": {
          "color": "rgba(128, 0, 128, 1.0)",
          "line": {
           "width": 1.3
          },
          "opacity": 0.8,
          "size": 12,
          "symbol": "circle"
         },
         "mode": "markers",
         "name": "ICCV",
         "text": [
          "Deep TextSpotter: An End-To-End Trainable Scene Text Localization and Recognition Framework",
          "Query-Guided Regression Network With Context Policy for Phrase Grounding",
          "DSLR-Quality Photos on Mobile Devices With Deep Convolutional Networks",
          "Sequence to Sequence - Video to Text",
          "Genetic CNN",
          "Curriculum Domain Adaptation for Semantic Segmentation of Urban Scenes"
         ],
         "textfont": {
          "color": "#4D5663"
         },
         "type": "scatter",
         "x": [
          -56.177391052246094,
          -206.06417846679688,
          92.87474060058594,
          52.197391510009766,
          90.91287994384766,
          25.840042114257812
         ],
         "y": [
          -97.50533294677734,
          423.8774719238281,
          -202.4044952392578,
          -53.524253845214844,
          -51.704437255859375,
          29.513952255249023
         ]
        },
        {
         "marker": {
          "color": "rgba(219, 64, 82, 1.0)",
          "line": {
           "width": 1.3
          },
          "opacity": 0.8,
          "size": 12,
          "symbol": "circle"
         },
         "mode": "markers",
         "name": "CVPR",
         "text": [
          "AON: Towards Arbitrarily-Oriented Text Recognition",
          "CartoonGAN: Generative Adversarial Networks for Photo Cartoonization",
          "A Point Set Generation Network for 3D Object Reconstruction From a Single Image",
          "Dynamic Few-Shot Visual Learning Without Forgetting",
          "CondenseNet: An Efficient DenseNet Using Learned Group Convolutions",
          "Efficient Deep Learning for Stereo Matching",
          "3D Bounding Box Estimation Using Deep Learning and Geometry",
          "PieAPP: Perceptual Image-Error Assessment Through Pairwise Preference",
          "Rethinking the Inception Architecture for Computer Vision",
          "Scale-Recurrent Network for Deep Image Deblurring",
          "Two-Stream Convolutional Networks for Dynamic Texture Synthesis",
          "Full Resolution Image Compression With Recurrent Neural Networks",
          "PointNetVLAD: Deep Point Cloud Based Retrieval for Large-Scale Place Recognition",
          "Deep Mutual Learning"
         ],
         "textfont": {
          "color": "#4D5663"
         },
         "type": "scatter",
         "x": [
          -987.1380004882812,
          -528.786865234375,
          -109.6204833984375,
          120.76172637939453,
          120.52787780761719,
          118.73001098632812,
          -11.686220169067383,
          86.88349914550781,
          175.2100830078125,
          161.5169677734375,
          -8.416770935058594,
          -0.23038515448570251,
          -5.716587066650391,
          94.07938385009766
         ],
         "y": [
          801.7274169921875,
          125.32227325439453,
          -143.16949462890625,
          -80.93392944335938,
          546.0679931640625,
          141.95620727539062,
          27.25135612487793,
          0.9942068457603455,
          67.11412048339844,
          32.406211853027344,
          157.0189208984375,
          -157.95538330078125,
          -36.574485778808594,
          63.38540267944336
         ]
        }
       ],
       "layout": {
        "legend": {
         "bgcolor": "#F5F6F9",
         "font": {
          "color": "#4D5663"
         }
        },
        "paper_bgcolor": "#F5F6F9",
        "plot_bgcolor": "#F5F6F9",
        "template": {
         "data": {
          "bar": [
           {
            "error_x": {
             "color": "#2a3f5f"
            },
            "error_y": {
             "color": "#2a3f5f"
            },
            "marker": {
             "line": {
              "color": "#E5ECF6",
              "width": 0.5
             }
            },
            "type": "bar"
           }
          ],
          "barpolar": [
           {
            "marker": {
             "line": {
              "color": "#E5ECF6",
              "width": 0.5
             }
            },
            "type": "barpolar"
           }
          ],
          "carpet": [
           {
            "aaxis": {
             "endlinecolor": "#2a3f5f",
             "gridcolor": "white",
             "linecolor": "white",
             "minorgridcolor": "white",
             "startlinecolor": "#2a3f5f"
            },
            "baxis": {
             "endlinecolor": "#2a3f5f",
             "gridcolor": "white",
             "linecolor": "white",
             "minorgridcolor": "white",
             "startlinecolor": "#2a3f5f"
            },
            "type": "carpet"
           }
          ],
          "choropleth": [
           {
            "colorbar": {
             "outlinewidth": 0,
             "ticks": ""
            },
            "type": "choropleth"
           }
          ],
          "contour": [
           {
            "colorbar": {
             "outlinewidth": 0,
             "ticks": ""
            },
            "colorscale": [
             [
              0,
              "#0d0887"
             ],
             [
              0.1111111111111111,
              "#46039f"
             ],
             [
              0.2222222222222222,
              "#7201a8"
             ],
             [
              0.3333333333333333,
              "#9c179e"
             ],
             [
              0.4444444444444444,
              "#bd3786"
             ],
             [
              0.5555555555555556,
              "#d8576b"
             ],
             [
              0.6666666666666666,
              "#ed7953"
             ],
             [
              0.7777777777777778,
              "#fb9f3a"
             ],
             [
              0.8888888888888888,
              "#fdca26"
             ],
             [
              1,
              "#f0f921"
             ]
            ],
            "type": "contour"
           }
          ],
          "contourcarpet": [
           {
            "colorbar": {
             "outlinewidth": 0,
             "ticks": ""
            },
            "type": "contourcarpet"
           }
          ],
          "heatmap": [
           {
            "colorbar": {
             "outlinewidth": 0,
             "ticks": ""
            },
            "colorscale": [
             [
              0,
              "#0d0887"
             ],
             [
              0.1111111111111111,
              "#46039f"
             ],
             [
              0.2222222222222222,
              "#7201a8"
             ],
             [
              0.3333333333333333,
              "#9c179e"
             ],
             [
              0.4444444444444444,
              "#bd3786"
             ],
             [
              0.5555555555555556,
              "#d8576b"
             ],
             [
              0.6666666666666666,
              "#ed7953"
             ],
             [
              0.7777777777777778,
              "#fb9f3a"
             ],
             [
              0.8888888888888888,
              "#fdca26"
             ],
             [
              1,
              "#f0f921"
             ]
            ],
            "type": "heatmap"
           }
          ],
          "heatmapgl": [
           {
            "colorbar": {
             "outlinewidth": 0,
             "ticks": ""
            },
            "colorscale": [
             [
              0,
              "#0d0887"
             ],
             [
              0.1111111111111111,
              "#46039f"
             ],
             [
              0.2222222222222222,
              "#7201a8"
             ],
             [
              0.3333333333333333,
              "#9c179e"
             ],
             [
              0.4444444444444444,
              "#bd3786"
             ],
             [
              0.5555555555555556,
              "#d8576b"
             ],
             [
              0.6666666666666666,
              "#ed7953"
             ],
             [
              0.7777777777777778,
              "#fb9f3a"
             ],
             [
              0.8888888888888888,
              "#fdca26"
             ],
             [
              1,
              "#f0f921"
             ]
            ],
            "type": "heatmapgl"
           }
          ],
          "histogram": [
           {
            "marker": {
             "colorbar": {
              "outlinewidth": 0,
              "ticks": ""
             }
            },
            "type": "histogram"
           }
          ],
          "histogram2d": [
           {
            "colorbar": {
             "outlinewidth": 0,
             "ticks": ""
            },
            "colorscale": [
             [
              0,
              "#0d0887"
             ],
             [
              0.1111111111111111,
              "#46039f"
             ],
             [
              0.2222222222222222,
              "#7201a8"
             ],
             [
              0.3333333333333333,
              "#9c179e"
             ],
             [
              0.4444444444444444,
              "#bd3786"
             ],
             [
              0.5555555555555556,
              "#d8576b"
             ],
             [
              0.6666666666666666,
              "#ed7953"
             ],
             [
              0.7777777777777778,
              "#fb9f3a"
             ],
             [
              0.8888888888888888,
              "#fdca26"
             ],
             [
              1,
              "#f0f921"
             ]
            ],
            "type": "histogram2d"
           }
          ],
          "histogram2dcontour": [
           {
            "colorbar": {
             "outlinewidth": 0,
             "ticks": ""
            },
            "colorscale": [
             [
              0,
              "#0d0887"
             ],
             [
              0.1111111111111111,
              "#46039f"
             ],
             [
              0.2222222222222222,
              "#7201a8"
             ],
             [
              0.3333333333333333,
              "#9c179e"
             ],
             [
              0.4444444444444444,
              "#bd3786"
             ],
             [
              0.5555555555555556,
              "#d8576b"
             ],
             [
              0.6666666666666666,
              "#ed7953"
             ],
             [
              0.7777777777777778,
              "#fb9f3a"
             ],
             [
              0.8888888888888888,
              "#fdca26"
             ],
             [
              1,
              "#f0f921"
             ]
            ],
            "type": "histogram2dcontour"
           }
          ],
          "mesh3d": [
           {
            "colorbar": {
             "outlinewidth": 0,
             "ticks": ""
            },
            "type": "mesh3d"
           }
          ],
          "parcoords": [
           {
            "line": {
             "colorbar": {
              "outlinewidth": 0,
              "ticks": ""
             }
            },
            "type": "parcoords"
           }
          ],
          "pie": [
           {
            "automargin": true,
            "type": "pie"
           }
          ],
          "scatter": [
           {
            "marker": {
             "colorbar": {
              "outlinewidth": 0,
              "ticks": ""
             }
            },
            "type": "scatter"
           }
          ],
          "scatter3d": [
           {
            "line": {
             "colorbar": {
              "outlinewidth": 0,
              "ticks": ""
             }
            },
            "marker": {
             "colorbar": {
              "outlinewidth": 0,
              "ticks": ""
             }
            },
            "type": "scatter3d"
           }
          ],
          "scattercarpet": [
           {
            "marker": {
             "colorbar": {
              "outlinewidth": 0,
              "ticks": ""
             }
            },
            "type": "scattercarpet"
           }
          ],
          "scattergeo": [
           {
            "marker": {
             "colorbar": {
              "outlinewidth": 0,
              "ticks": ""
             }
            },
            "type": "scattergeo"
           }
          ],
          "scattergl": [
           {
            "marker": {
             "colorbar": {
              "outlinewidth": 0,
              "ticks": ""
             }
            },
            "type": "scattergl"
           }
          ],
          "scattermapbox": [
           {
            "marker": {
             "colorbar": {
              "outlinewidth": 0,
              "ticks": ""
             }
            },
            "type": "scattermapbox"
           }
          ],
          "scatterpolar": [
           {
            "marker": {
             "colorbar": {
              "outlinewidth": 0,
              "ticks": ""
             }
            },
            "type": "scatterpolar"
           }
          ],
          "scatterpolargl": [
           {
            "marker": {
             "colorbar": {
              "outlinewidth": 0,
              "ticks": ""
             }
            },
            "type": "scatterpolargl"
           }
          ],
          "scatterternary": [
           {
            "marker": {
             "colorbar": {
              "outlinewidth": 0,
              "ticks": ""
             }
            },
            "type": "scatterternary"
           }
          ],
          "surface": [
           {
            "colorbar": {
             "outlinewidth": 0,
             "ticks": ""
            },
            "colorscale": [
             [
              0,
              "#0d0887"
             ],
             [
              0.1111111111111111,
              "#46039f"
             ],
             [
              0.2222222222222222,
              "#7201a8"
             ],
             [
              0.3333333333333333,
              "#9c179e"
             ],
             [
              0.4444444444444444,
              "#bd3786"
             ],
             [
              0.5555555555555556,
              "#d8576b"
             ],
             [
              0.6666666666666666,
              "#ed7953"
             ],
             [
              0.7777777777777778,
              "#fb9f3a"
             ],
             [
              0.8888888888888888,
              "#fdca26"
             ],
             [
              1,
              "#f0f921"
             ]
            ],
            "type": "surface"
           }
          ],
          "table": [
           {
            "cells": {
             "fill": {
              "color": "#EBF0F8"
             },
             "line": {
              "color": "white"
             }
            },
            "header": {
             "fill": {
              "color": "#C8D4E3"
             },
             "line": {
              "color": "white"
             }
            },
            "type": "table"
           }
          ]
         },
         "layout": {
          "annotationdefaults": {
           "arrowcolor": "#2a3f5f",
           "arrowhead": 0,
           "arrowwidth": 1
          },
          "coloraxis": {
           "colorbar": {
            "outlinewidth": 0,
            "ticks": ""
           }
          },
          "colorscale": {
           "diverging": [
            [
             0,
             "#8e0152"
            ],
            [
             0.1,
             "#c51b7d"
            ],
            [
             0.2,
             "#de77ae"
            ],
            [
             0.3,
             "#f1b6da"
            ],
            [
             0.4,
             "#fde0ef"
            ],
            [
             0.5,
             "#f7f7f7"
            ],
            [
             0.6,
             "#e6f5d0"
            ],
            [
             0.7,
             "#b8e186"
            ],
            [
             0.8,
             "#7fbc41"
            ],
            [
             0.9,
             "#4d9221"
            ],
            [
             1,
             "#276419"
            ]
           ],
           "sequential": [
            [
             0,
             "#0d0887"
            ],
            [
             0.1111111111111111,
             "#46039f"
            ],
            [
             0.2222222222222222,
             "#7201a8"
            ],
            [
             0.3333333333333333,
             "#9c179e"
            ],
            [
             0.4444444444444444,
             "#bd3786"
            ],
            [
             0.5555555555555556,
             "#d8576b"
            ],
            [
             0.6666666666666666,
             "#ed7953"
            ],
            [
             0.7777777777777778,
             "#fb9f3a"
            ],
            [
             0.8888888888888888,
             "#fdca26"
            ],
            [
             1,
             "#f0f921"
            ]
           ],
           "sequentialminus": [
            [
             0,
             "#0d0887"
            ],
            [
             0.1111111111111111,
             "#46039f"
            ],
            [
             0.2222222222222222,
             "#7201a8"
            ],
            [
             0.3333333333333333,
             "#9c179e"
            ],
            [
             0.4444444444444444,
             "#bd3786"
            ],
            [
             0.5555555555555556,
             "#d8576b"
            ],
            [
             0.6666666666666666,
             "#ed7953"
            ],
            [
             0.7777777777777778,
             "#fb9f3a"
            ],
            [
             0.8888888888888888,
             "#fdca26"
            ],
            [
             1,
             "#f0f921"
            ]
           ]
          },
          "colorway": [
           "#636efa",
           "#EF553B",
           "#00cc96",
           "#ab63fa",
           "#FFA15A",
           "#19d3f3",
           "#FF6692",
           "#B6E880",
           "#FF97FF",
           "#FECB52"
          ],
          "font": {
           "color": "#2a3f5f"
          },
          "geo": {
           "bgcolor": "white",
           "lakecolor": "white",
           "landcolor": "#E5ECF6",
           "showlakes": true,
           "showland": true,
           "subunitcolor": "white"
          },
          "hoverlabel": {
           "align": "left"
          },
          "hovermode": "closest",
          "mapbox": {
           "style": "light"
          },
          "paper_bgcolor": "white",
          "plot_bgcolor": "#E5ECF6",
          "polar": {
           "angularaxis": {
            "gridcolor": "white",
            "linecolor": "white",
            "ticks": ""
           },
           "bgcolor": "#E5ECF6",
           "radialaxis": {
            "gridcolor": "white",
            "linecolor": "white",
            "ticks": ""
           }
          },
          "scene": {
           "xaxis": {
            "backgroundcolor": "#E5ECF6",
            "gridcolor": "white",
            "gridwidth": 2,
            "linecolor": "white",
            "showbackground": true,
            "ticks": "",
            "zerolinecolor": "white"
           },
           "yaxis": {
            "backgroundcolor": "#E5ECF6",
            "gridcolor": "white",
            "gridwidth": 2,
            "linecolor": "white",
            "showbackground": true,
            "ticks": "",
            "zerolinecolor": "white"
           },
           "zaxis": {
            "backgroundcolor": "#E5ECF6",
            "gridcolor": "white",
            "gridwidth": 2,
            "linecolor": "white",
            "showbackground": true,
            "ticks": "",
            "zerolinecolor": "white"
           }
          },
          "shapedefaults": {
           "line": {
            "color": "#2a3f5f"
           }
          },
          "ternary": {
           "aaxis": {
            "gridcolor": "white",
            "linecolor": "white",
            "ticks": ""
           },
           "baxis": {
            "gridcolor": "white",
            "linecolor": "white",
            "ticks": ""
           },
           "bgcolor": "#E5ECF6",
           "caxis": {
            "gridcolor": "white",
            "linecolor": "white",
            "ticks": ""
           }
          },
          "title": {
           "x": 0.05
          },
          "xaxis": {
           "automargin": true,
           "gridcolor": "white",
           "linecolor": "white",
           "ticks": "",
           "title": {
            "standoff": 15
           },
           "zerolinecolor": "white",
           "zerolinewidth": 2
          },
          "yaxis": {
           "automargin": true,
           "gridcolor": "white",
           "linecolor": "white",
           "ticks": "",
           "title": {
            "standoff": 15
           },
           "zerolinecolor": "white",
           "zerolinewidth": 2
          }
         }
        },
        "title": {
         "font": {
          "color": "#4D5663"
         }
        },
        "xaxis": {
         "gridcolor": "#E1E5ED",
         "showgrid": true,
         "tickfont": {
          "color": "#4D5663"
         },
         "title": {
          "font": {
           "color": "#4D5663"
          },
          "text": ""
         },
         "zerolinecolor": "#E1E5ED"
        },
        "yaxis": {
         "gridcolor": "#E1E5ED",
         "showgrid": true,
         "tickfont": {
          "color": "#4D5663"
         },
         "title": {
          "font": {
           "color": "#4D5663"
          },
          "text": ""
         },
         "zerolinecolor": "#E1E5ED"
        }
       }
      },
      "text/html": [
       "<div>\n",
       "        \n",
       "        \n",
       "            <div id=\"9d0a83d4-94e0-481e-bff3-bd580233c923\" class=\"plotly-graph-div\" style=\"height:525px; width:100%;\"></div>\n",
       "            <script type=\"text/javascript\">\n",
       "                require([\"plotly\"], function(Plotly) {\n",
       "                    window.PLOTLYENV=window.PLOTLYENV || {};\n",
       "                    window.PLOTLYENV.BASE_URL='https://plot.ly';\n",
       "                    \n",
       "                if (document.getElementById(\"9d0a83d4-94e0-481e-bff3-bd580233c923\")) {\n",
       "                    Plotly.newPlot(\n",
       "                        '9d0a83d4-94e0-481e-bff3-bd580233c923',\n",
       "                        [{\"marker\": {\"color\": \"rgba(255, 153, 51, 1.0)\", \"line\": {\"width\": 1.3}, \"opacity\": 0.8, \"size\": 12, \"symbol\": \"circle\"}, \"mode\": \"markers\", \"name\": \"NIPS\", \"text\": [\"DropoutNet: Addressing Cold Start in Recommender Systems\"], \"textfont\": {\"color\": \"#4D5663\"}, \"type\": \"scatter\", \"x\": [226.55364990234375], \"y\": [-11.09989070892334]}, {\"marker\": {\"color\": \"rgba(55, 128, 191, 1.0)\", \"line\": {\"width\": 1.3}, \"opacity\": 0.8, \"size\": 12, \"symbol\": \"circle\"}, \"mode\": \"markers\", \"name\": \"ICML\", \"text\": [\"Predict and Constrain: Modeling Cardinality in Deep Structured Prediction\", \"Video Pixel Networks\", \"Device Placement Optimization with Reinforcement Learning\"], \"textfont\": {\"color\": \"#4D5663\"}, \"type\": \"scatter\", \"x\": [-78.64852905273438, 87.95399475097656, 3.3531765937805176], \"y\": [-20.917678833007812, -121.59032440185547, -98.83418273925781]}, {\"marker\": {\"color\": \"rgba(50, 171, 96, 1.0)\", \"line\": {\"width\": 1.3}, \"opacity\": 0.8, \"size\": 12, \"symbol\": \"circle\"}, \"mode\": \"markers\", \"name\": \"ECCV\", \"text\": [\"Conditional Image-Text Embedding Networks\", \"Progressive Neural Architecture Search\", \"Geolocation Estimation of Photos using a Hierarchical Model and Scene Classification\", \"Recovering 3D Planes from a Single Image via Convolutional Neural Networks\", \"Learning Single-View 3D Reconstruction with Limited Pose Supervision\", \"EC-Net: an Edge-aware Point set Consolidation Network\", \"License Plate Detection and Recognition in Unconstrained Scenarios\", \"Audio-Visual Event Localization in Unconstrained Videos\"], \"textfont\": {\"color\": \"#4D5663\"}, \"type\": \"scatter\", \"x\": [-129.6039276123047, -135.40647888183594, 206.67149353027344, -74.48350524902344, 20.4985294342041, -2.2617504596710205, 320.9230041503906, 61.85139083862305], \"y\": [27.44332504272461, 786.3380737304688, -43.16640090942383, 133.86941528320312, 95.48536682128906, -210.70982360839844, 43.5783576965332, 216.73683166503906]}, {\"marker\": {\"color\": \"rgba(128, 0, 128, 1.0)\", \"line\": {\"width\": 1.3}, \"opacity\": 0.8, \"size\": 12, \"symbol\": \"circle\"}, \"mode\": \"markers\", \"name\": \"ICCV\", \"text\": [\"Deep TextSpotter: An End-To-End Trainable Scene Text Localization and Recognition Framework\", \"Query-Guided Regression Network With Context Policy for Phrase Grounding\", \"DSLR-Quality Photos on Mobile Devices With Deep Convolutional Networks\", \"Sequence to Sequence - Video to Text\", \"Genetic CNN\", \"Curriculum Domain Adaptation for Semantic Segmentation of Urban Scenes\"], \"textfont\": {\"color\": \"#4D5663\"}, \"type\": \"scatter\", \"x\": [-56.177391052246094, -206.06417846679688, 92.87474060058594, 52.197391510009766, 90.91287994384766, 25.840042114257812], \"y\": [-97.50533294677734, 423.8774719238281, -202.4044952392578, -53.524253845214844, -51.704437255859375, 29.513952255249023]}, {\"marker\": {\"color\": \"rgba(219, 64, 82, 1.0)\", \"line\": {\"width\": 1.3}, \"opacity\": 0.8, \"size\": 12, \"symbol\": \"circle\"}, \"mode\": \"markers\", \"name\": \"CVPR\", \"text\": [\"AON: Towards Arbitrarily-Oriented Text Recognition\", \"CartoonGAN: Generative Adversarial Networks for Photo Cartoonization\", \"A Point Set Generation Network for 3D Object Reconstruction From a Single Image\", \"Dynamic Few-Shot Visual Learning Without Forgetting\", \"CondenseNet: An Efficient DenseNet Using Learned Group Convolutions\", \"Efficient Deep Learning for Stereo Matching\", \"3D Bounding Box Estimation Using Deep Learning and Geometry\", \"PieAPP: Perceptual Image-Error Assessment Through Pairwise Preference\", \"Rethinking the Inception Architecture for Computer Vision\", \"Scale-Recurrent Network for Deep Image Deblurring\", \"Two-Stream Convolutional Networks for Dynamic Texture Synthesis\", \"Full Resolution Image Compression With Recurrent Neural Networks\", \"PointNetVLAD: Deep Point Cloud Based Retrieval for Large-Scale Place Recognition\", \"Deep Mutual Learning\"], \"textfont\": {\"color\": \"#4D5663\"}, \"type\": \"scatter\", \"x\": [-987.1380004882812, -528.786865234375, -109.6204833984375, 120.76172637939453, 120.52787780761719, 118.73001098632812, -11.686220169067383, 86.88349914550781, 175.2100830078125, 161.5169677734375, -8.416770935058594, -0.23038515448570251, -5.716587066650391, 94.07938385009766], \"y\": [801.7274169921875, 125.32227325439453, -143.16949462890625, -80.93392944335938, 546.0679931640625, 141.95620727539062, 27.25135612487793, 0.9942068457603455, 67.11412048339844, 32.406211853027344, 157.0189208984375, -157.95538330078125, -36.574485778808594, 63.38540267944336]}],\n",
       "                        {\"legend\": {\"bgcolor\": \"#F5F6F9\", \"font\": {\"color\": \"#4D5663\"}}, \"paper_bgcolor\": \"#F5F6F9\", \"plot_bgcolor\": \"#F5F6F9\", \"template\": {\"data\": {\"bar\": [{\"error_x\": {\"color\": \"#2a3f5f\"}, \"error_y\": {\"color\": \"#2a3f5f\"}, \"marker\": {\"line\": {\"color\": \"#E5ECF6\", \"width\": 0.5}}, \"type\": \"bar\"}], \"barpolar\": [{\"marker\": {\"line\": {\"color\": \"#E5ECF6\", \"width\": 0.5}}, \"type\": \"barpolar\"}], \"carpet\": [{\"aaxis\": {\"endlinecolor\": \"#2a3f5f\", \"gridcolor\": \"white\", \"linecolor\": \"white\", \"minorgridcolor\": \"white\", \"startlinecolor\": \"#2a3f5f\"}, \"baxis\": {\"endlinecolor\": \"#2a3f5f\", \"gridcolor\": \"white\", \"linecolor\": \"white\", \"minorgridcolor\": \"white\", \"startlinecolor\": \"#2a3f5f\"}, \"type\": \"carpet\"}], \"choropleth\": [{\"colorbar\": {\"outlinewidth\": 0, \"ticks\": \"\"}, \"type\": \"choropleth\"}], \"contour\": [{\"colorbar\": {\"outlinewidth\": 0, \"ticks\": \"\"}, \"colorscale\": [[0.0, \"#0d0887\"], [0.1111111111111111, \"#46039f\"], [0.2222222222222222, \"#7201a8\"], [0.3333333333333333, \"#9c179e\"], [0.4444444444444444, \"#bd3786\"], [0.5555555555555556, \"#d8576b\"], [0.6666666666666666, \"#ed7953\"], [0.7777777777777778, \"#fb9f3a\"], [0.8888888888888888, \"#fdca26\"], [1.0, \"#f0f921\"]], \"type\": \"contour\"}], \"contourcarpet\": [{\"colorbar\": {\"outlinewidth\": 0, \"ticks\": \"\"}, \"type\": \"contourcarpet\"}], \"heatmap\": [{\"colorbar\": {\"outlinewidth\": 0, \"ticks\": \"\"}, \"colorscale\": [[0.0, \"#0d0887\"], [0.1111111111111111, \"#46039f\"], [0.2222222222222222, \"#7201a8\"], [0.3333333333333333, \"#9c179e\"], [0.4444444444444444, \"#bd3786\"], [0.5555555555555556, \"#d8576b\"], [0.6666666666666666, \"#ed7953\"], [0.7777777777777778, \"#fb9f3a\"], [0.8888888888888888, \"#fdca26\"], [1.0, \"#f0f921\"]], \"type\": \"heatmap\"}], \"heatmapgl\": [{\"colorbar\": {\"outlinewidth\": 0, \"ticks\": \"\"}, \"colorscale\": [[0.0, \"#0d0887\"], [0.1111111111111111, \"#46039f\"], [0.2222222222222222, \"#7201a8\"], [0.3333333333333333, \"#9c179e\"], [0.4444444444444444, \"#bd3786\"], [0.5555555555555556, \"#d8576b\"], [0.6666666666666666, \"#ed7953\"], [0.7777777777777778, \"#fb9f3a\"], [0.8888888888888888, \"#fdca26\"], [1.0, \"#f0f921\"]], \"type\": \"heatmapgl\"}], \"histogram\": [{\"marker\": {\"colorbar\": {\"outlinewidth\": 0, \"ticks\": \"\"}}, \"type\": \"histogram\"}], \"histogram2d\": [{\"colorbar\": {\"outlinewidth\": 0, \"ticks\": \"\"}, \"colorscale\": [[0.0, \"#0d0887\"], [0.1111111111111111, \"#46039f\"], [0.2222222222222222, \"#7201a8\"], [0.3333333333333333, \"#9c179e\"], [0.4444444444444444, \"#bd3786\"], [0.5555555555555556, \"#d8576b\"], [0.6666666666666666, \"#ed7953\"], [0.7777777777777778, \"#fb9f3a\"], [0.8888888888888888, \"#fdca26\"], [1.0, \"#f0f921\"]], \"type\": \"histogram2d\"}], \"histogram2dcontour\": [{\"colorbar\": {\"outlinewidth\": 0, \"ticks\": \"\"}, \"colorscale\": [[0.0, \"#0d0887\"], [0.1111111111111111, \"#46039f\"], [0.2222222222222222, \"#7201a8\"], [0.3333333333333333, \"#9c179e\"], [0.4444444444444444, \"#bd3786\"], [0.5555555555555556, \"#d8576b\"], [0.6666666666666666, \"#ed7953\"], [0.7777777777777778, \"#fb9f3a\"], [0.8888888888888888, \"#fdca26\"], [1.0, \"#f0f921\"]], \"type\": \"histogram2dcontour\"}], \"mesh3d\": [{\"colorbar\": {\"outlinewidth\": 0, \"ticks\": \"\"}, \"type\": \"mesh3d\"}], \"parcoords\": [{\"line\": {\"colorbar\": {\"outlinewidth\": 0, \"ticks\": \"\"}}, \"type\": \"parcoords\"}], \"pie\": [{\"automargin\": true, \"type\": \"pie\"}], \"scatter\": [{\"marker\": {\"colorbar\": {\"outlinewidth\": 0, \"ticks\": \"\"}}, \"type\": \"scatter\"}], \"scatter3d\": [{\"line\": {\"colorbar\": {\"outlinewidth\": 0, \"ticks\": \"\"}}, \"marker\": {\"colorbar\": {\"outlinewidth\": 0, \"ticks\": \"\"}}, \"type\": \"scatter3d\"}], \"scattercarpet\": [{\"marker\": {\"colorbar\": {\"outlinewidth\": 0, \"ticks\": \"\"}}, \"type\": \"scattercarpet\"}], \"scattergeo\": [{\"marker\": {\"colorbar\": {\"outlinewidth\": 0, \"ticks\": \"\"}}, \"type\": \"scattergeo\"}], \"scattergl\": [{\"marker\": {\"colorbar\": {\"outlinewidth\": 0, \"ticks\": \"\"}}, \"type\": \"scattergl\"}], \"scattermapbox\": [{\"marker\": {\"colorbar\": {\"outlinewidth\": 0, \"ticks\": \"\"}}, \"type\": \"scattermapbox\"}], \"scatterpolar\": [{\"marker\": {\"colorbar\": {\"outlinewidth\": 0, \"ticks\": \"\"}}, \"type\": \"scatterpolar\"}], \"scatterpolargl\": [{\"marker\": {\"colorbar\": {\"outlinewidth\": 0, \"ticks\": \"\"}}, \"type\": \"scatterpolargl\"}], \"scatterternary\": [{\"marker\": {\"colorbar\": {\"outlinewidth\": 0, \"ticks\": \"\"}}, \"type\": \"scatterternary\"}], \"surface\": [{\"colorbar\": {\"outlinewidth\": 0, \"ticks\": \"\"}, \"colorscale\": [[0.0, \"#0d0887\"], [0.1111111111111111, \"#46039f\"], [0.2222222222222222, \"#7201a8\"], [0.3333333333333333, \"#9c179e\"], [0.4444444444444444, \"#bd3786\"], [0.5555555555555556, \"#d8576b\"], [0.6666666666666666, \"#ed7953\"], [0.7777777777777778, \"#fb9f3a\"], [0.8888888888888888, \"#fdca26\"], [1.0, \"#f0f921\"]], \"type\": \"surface\"}], \"table\": [{\"cells\": {\"fill\": {\"color\": \"#EBF0F8\"}, \"line\": {\"color\": \"white\"}}, \"header\": {\"fill\": {\"color\": \"#C8D4E3\"}, \"line\": {\"color\": \"white\"}}, \"type\": \"table\"}]}, \"layout\": {\"annotationdefaults\": {\"arrowcolor\": \"#2a3f5f\", \"arrowhead\": 0, \"arrowwidth\": 1}, \"coloraxis\": {\"colorbar\": {\"outlinewidth\": 0, \"ticks\": \"\"}}, \"colorscale\": {\"diverging\": [[0, \"#8e0152\"], [0.1, \"#c51b7d\"], [0.2, \"#de77ae\"], [0.3, \"#f1b6da\"], [0.4, \"#fde0ef\"], [0.5, \"#f7f7f7\"], [0.6, \"#e6f5d0\"], [0.7, \"#b8e186\"], [0.8, \"#7fbc41\"], [0.9, \"#4d9221\"], [1, \"#276419\"]], \"sequential\": [[0.0, \"#0d0887\"], [0.1111111111111111, \"#46039f\"], [0.2222222222222222, \"#7201a8\"], [0.3333333333333333, \"#9c179e\"], [0.4444444444444444, \"#bd3786\"], [0.5555555555555556, \"#d8576b\"], [0.6666666666666666, \"#ed7953\"], [0.7777777777777778, \"#fb9f3a\"], [0.8888888888888888, \"#fdca26\"], [1.0, \"#f0f921\"]], \"sequentialminus\": [[0.0, \"#0d0887\"], [0.1111111111111111, \"#46039f\"], [0.2222222222222222, \"#7201a8\"], [0.3333333333333333, \"#9c179e\"], [0.4444444444444444, \"#bd3786\"], [0.5555555555555556, \"#d8576b\"], [0.6666666666666666, \"#ed7953\"], [0.7777777777777778, \"#fb9f3a\"], [0.8888888888888888, \"#fdca26\"], [1.0, \"#f0f921\"]]}, \"colorway\": [\"#636efa\", \"#EF553B\", \"#00cc96\", \"#ab63fa\", \"#FFA15A\", \"#19d3f3\", \"#FF6692\", \"#B6E880\", \"#FF97FF\", \"#FECB52\"], \"font\": {\"color\": \"#2a3f5f\"}, \"geo\": {\"bgcolor\": \"white\", \"lakecolor\": \"white\", \"landcolor\": \"#E5ECF6\", \"showlakes\": true, \"showland\": true, \"subunitcolor\": \"white\"}, \"hoverlabel\": {\"align\": \"left\"}, \"hovermode\": \"closest\", \"mapbox\": {\"style\": \"light\"}, \"paper_bgcolor\": \"white\", \"plot_bgcolor\": \"#E5ECF6\", \"polar\": {\"angularaxis\": {\"gridcolor\": \"white\", \"linecolor\": \"white\", \"ticks\": \"\"}, \"bgcolor\": \"#E5ECF6\", \"radialaxis\": {\"gridcolor\": \"white\", \"linecolor\": \"white\", \"ticks\": \"\"}}, \"scene\": {\"xaxis\": {\"backgroundcolor\": \"#E5ECF6\", \"gridcolor\": \"white\", \"gridwidth\": 2, \"linecolor\": \"white\", \"showbackground\": true, \"ticks\": \"\", \"zerolinecolor\": \"white\"}, \"yaxis\": {\"backgroundcolor\": \"#E5ECF6\", \"gridcolor\": \"white\", \"gridwidth\": 2, \"linecolor\": \"white\", \"showbackground\": true, \"ticks\": \"\", \"zerolinecolor\": \"white\"}, \"zaxis\": {\"backgroundcolor\": \"#E5ECF6\", \"gridcolor\": \"white\", \"gridwidth\": 2, \"linecolor\": \"white\", \"showbackground\": true, \"ticks\": \"\", \"zerolinecolor\": \"white\"}}, \"shapedefaults\": {\"line\": {\"color\": \"#2a3f5f\"}}, \"ternary\": {\"aaxis\": {\"gridcolor\": \"white\", \"linecolor\": \"white\", \"ticks\": \"\"}, \"baxis\": {\"gridcolor\": \"white\", \"linecolor\": \"white\", \"ticks\": \"\"}, \"bgcolor\": \"#E5ECF6\", \"caxis\": {\"gridcolor\": \"white\", \"linecolor\": \"white\", \"ticks\": \"\"}}, \"title\": {\"x\": 0.05}, \"xaxis\": {\"automargin\": true, \"gridcolor\": \"white\", \"linecolor\": \"white\", \"ticks\": \"\", \"title\": {\"standoff\": 15}, \"zerolinecolor\": \"white\", \"zerolinewidth\": 2}, \"yaxis\": {\"automargin\": true, \"gridcolor\": \"white\", \"linecolor\": \"white\", \"ticks\": \"\", \"title\": {\"standoff\": 15}, \"zerolinecolor\": \"white\", \"zerolinewidth\": 2}}}, \"title\": {\"font\": {\"color\": \"#4D5663\"}}, \"xaxis\": {\"gridcolor\": \"#E1E5ED\", \"showgrid\": true, \"tickfont\": {\"color\": \"#4D5663\"}, \"title\": {\"font\": {\"color\": \"#4D5663\"}, \"text\": \"\"}, \"zerolinecolor\": \"#E1E5ED\"}, \"yaxis\": {\"gridcolor\": \"#E1E5ED\", \"showgrid\": true, \"tickfont\": {\"color\": \"#4D5663\"}, \"title\": {\"font\": {\"color\": \"#4D5663\"}, \"text\": \"\"}, \"zerolinecolor\": \"#E1E5ED\"}},\n",
       "                        {\"showLink\": true, \"linkText\": \"Export to plot.ly\", \"plotlyServerURL\": \"https://plot.ly\", \"responsive\": true}\n",
       "                    ).then(function(){\n",
       "                            \n",
       "var gd = document.getElementById('9d0a83d4-94e0-481e-bff3-bd580233c923');\n",
       "var x = new MutationObserver(function (mutations, observer) {{\n",
       "        var display = window.getComputedStyle(gd).display;\n",
       "        if (!display || display === 'none') {{\n",
       "            console.log([gd, 'removed!']);\n",
       "            Plotly.purge(gd);\n",
       "            observer.disconnect();\n",
       "        }}\n",
       "}});\n",
       "\n",
       "// Listen for the removal of the full notebook cells\n",
       "var notebookContainer = gd.closest('#notebook-container');\n",
       "if (notebookContainer) {{\n",
       "    x.observe(notebookContainer, {childList: true});\n",
       "}}\n",
       "\n",
       "// Listen for the clearing of the current output cell\n",
       "var outputEl = gd.closest('.output');\n",
       "if (outputEl) {{\n",
       "    x.observe(outputEl, {childList: true});\n",
       "}}\n",
       "\n",
       "                        })\n",
       "                };\n",
       "                });\n",
       "            </script>\n",
       "        </div>"
      ]
     },
     "metadata": {},
     "output_type": "display_data"
    }
   ],
   "source": [
    "### Code2Graph (on subset of repositories)\n",
    "emb,meta=load_emb_data('c2g')\n",
    "visualize(emb,meta,method='TSNE',dim=2)"
   ]
  },
  {
   "cell_type": "markdown",
   "metadata": {},
   "source": [
    "## Visualizing Embedding of the Combined Graph "
   ]
  },
  {
   "cell_type": "code",
   "execution_count": 6,
   "metadata": {},
   "outputs": [
    {
     "name": "stdout",
     "output_type": "stream",
     "text": [
      "[t-SNE] Computing 16 nearest neighbors...\n",
      "[t-SNE] Indexed 654 samples in 0.003s...\n",
      "[t-SNE] Computed neighbors for 654 samples in 0.023s...\n",
      "[t-SNE] Computed conditional probabilities for sample 654 / 654\n",
      "[t-SNE] Mean sigma: 0.000000\n",
      "[t-SNE] KL divergence after 250 iterations with early exaggeration: 71.061691\n",
      "[t-SNE] KL divergence after 300 iterations: 1.110954\n"
     ]
    },
    {
     "data": {
      "application/vnd.plotly.v1+json": {
       "config": {
        "linkText": "Export to plot.ly",
        "plotlyServerURL": "https://plot.ly",
        "showLink": true
       },
       "data": [
        {
         "marker": {
          "color": "rgba(255, 153, 51, 1.0)",
          "line": {
           "width": 1.3
          },
          "opacity": 0.8,
          "size": 12,
          "symbol": "circle"
         },
         "mode": "markers",
         "name": "pytorch",
         "text": [
          "Visualizing the Loss Landscape of Neural Nets",
          "Multimodal Generative Models for Scalable Weakly-Supervised Learning",
          "Neural Voice Cloning with a Few Samples",
          "The Description Length of Deep Learning models",
          "Deep Defense: Training DNNs with Improved Adversarial Robustness",
          "BourGAN: Generative Networks with Metric Embeddings",
          "Bilinear Attention Networks",
          "Breaking the Activation Function Bottleneck through Adaptive Parameterization",
          "Relational recurrent neural networks",
          "Speaker-Follower Models for Vision-and-Language Navigation",
          "ATOMO: Communication-efficient Learning via Atomic Sparsification",
          "One-Shot Unsupervised Cross Domain Translation",
          "3D Steerable CNNs: Learning Rotationally Equivariant Features in Volumetric Data",
          "An intriguing failing of convolutional neural networks and the CoordConv solution",
          "Latent Alignment and Variational Attention",
          "Neural Arithmetic Logic Units",
          "A Unified Feature Disentangler for Multi-Domain Image Translation and Manipulation",
          "Neural Guided Constraint Logic Programming for Program Synthesis",
          "Best of Both Worlds: Transferring Knowledge from Discriminative Learning to a Generative Visual Dialog Model",
          "f-GANs in an Information Geometric Nutshell",
          "One-Sided Unsupervised Domain Mapping",
          "NeuralFDR: Learning Discovery Thresholds from Hypothesis Features",
          "Train longer, generalize better: closing the generalization gap in large batch training of neural networks",
          "MMD GAN: Towards Deeper Understanding of Moment Matching Network",
          "Fisher GAN",
          "ELF: An Extensive, Lightweight and Flexible Research Platform for Real-time Strategy Games",
          "Language Modeling with Recurrent Highway Hypernetworks",
          "Bayesian Compression for Deep Learning",
          "Prototypical Networks for Few-shot Learning",
          "Dual Path Networks",
          "Working hard to know your neighbor's margins: Local descriptor learning loss",
          "Task-based End-to-end Model Learning in Stochastic Optimization",
          "Learning Disentangled Representations with Semi-Supervised Deep Generative Models",
          "Good Semi-supervised Learning That Requires a Bad GAN",
          "Attend and Predict: Understanding Gene Regulation by Selective Attention on Chromatin",
          "Real Time Image Saliency for Black Box Classifiers",
          "COLA: Decentralized Linear Learning",
          "A Simple Unified Framework for Detecting Out-of-Distribution Samples and Adversarial Attacks",
          "Learning Conditioned Graph Structures for Interpretable Visual Question Answering",
          "Reversible Recurrent Neural Networks",
          "Pairwise Confusion for Fine-Grained Visual Classification",
          "Efficient Interactive Annotation of Segmentation Datasets With Polygon-RNN++",
          "GANimation: Anatomically-aware Facial Animation from a Single Image",
          "Deep Expander Networks: Efficient Deep Networks from Graph Theory",
          "OptNet: Differentiable Optimization as a Layer in Neural Networks",
          "Neural Module Networks",
          "3DMV: Joint 3D-Multi-View Prediction for 3D Semantic Scene Segmentation",
          "Learning Category-Specific Mesh Reconstruction from Image Collections",
          "Piggyback: Adapting a Single Network to Multiple Tasks by Learning to Mask Weights",
          "Real-Time Monocular Depth Estimation Using Synthetic Data With Domain Adaptation via Image Style Transfer",
          "Multi-Content GAN for Few-Shot Font Style Transfer",
          "Differentially Private Database Release via Kernel Mean Embeddings",
          "Glimpse Clouds: Human Activity Recognition From Unstructured Feature Points",
          "Hierarchical Boundary-Aware Neural Encoder for Video Captioning",
          "Toward Characteristic-Preserving Image-based Virtual Try-On Network",
          "Optimizing the Latent Space of Generative Networks",
          "Geometry-Aware Learning of Maps for Camera Localization",
          "SST: Single-Stream Temporal Action Proposals",
          "In-Place Activated BatchNorm for Memory-Optimized Training of DNNs",
          "Path-Level Network Transformation for Efficient Architecture Search",
          "Adversarial Learning with Local Coordinate Coding",
          "HashNet: Deep Learning to Hash by Continuation",
          "Partial Transfer Learning With Selective Adversarial Networks",
          "Realtime Multi-Person 2D Pose Estimation Using Part Affinity Fields",
          "Visual Question Reasoning on General Dependency Tree",
          "Annotating Object Instances With a Polygon-RNN",
          "Pyramid Stereo Matching Network",
          "Deep Colorization",
          "Xception: Deep Learning With Depthwise Separable Convolutions",
          "Lip Reading Sentences in the Wild",
          "Inference Suboptimality in Variational Autoencoders",
          "Adversarial Attack on Graph Structured Data",
          "Deformable Convolutional Networks",
          "Repeatability Is Not Enough: Learning Affine Regions via Discriminability",
          "Style Aggregated Network for Facial Landmark Detection",
          "Supervision-by-Registration: An Unsupervised Approach to Improve the Precision of Facial Landmark Detectors",
          "Low-Shot Learning With Large-Scale Diffusion",
          "WILDCAT: Weakly Supervised Learning of Deep ConvNets for Image Classification, Pointwise Localization and Segmentation",
          "Dynamic Multimodal Instance Segmentation Guided by Natural Language Queries",
          "Who Let the Dogs Out? Modeling Dog Behavior From Visual Data",
          "AMNet: Memorability Estimation With Attention",
          "Dynamic Conditional Networks for Few-Shot Learning",
          "Interpretable Explanations of Black Boxes by Meaningful Perturbation",
          "Image Inpainting for Irregular Holes Using Partial Convolutions",
          "Social GAN: Socially Acceptable Trajectories With Generative Adversarial Networks",
          "DeepBach: a Steerable Model for Bach Chorales Generation",
          "Deep Pyramidal Residual Networks",
          "Can Spatiotemporal 3D CNNs Retrace the History of 2D CNNs and ImageNet?",
          "Deep Back-Projection Networks for Super-Resolution",
          "Unsupervised Geometry-Aware Representation for 3D Human Pose Estimation",
          "PSANet: Point-wise Spatial Attention Network for Scene Parsing",
          "Deep Randomized Ensembles for Metric Learning",
          "Toward Controlled Generation of Text",
          "Neural Autoregressive Flows",
          "DeepMVS: Learning Multi-View Stereopsis",
          "Learning Deep Representation for Imbalanced Classification",
          "Predicting Gaze in Egocentric Video by Learning Task-dependent Attention Transition",
          "Real-Time Neural Style Transfer for Videos",
          "Wavelet-SRNet: A Wavelet-Based CNN for Multi-Scale Face Super Resolution",
          "LiteFlowNet: A Lightweight Convolutional Neural Network for Optical Flow Estimation",
          "Decoupled Parallel Backpropagation with Convergence Guarantee",
          "Finding Tiny Faces",
          "Learning Answer Embeddings for Visual Question Answering",
          "Coloring with Words: Guiding Image Colorization Through Text-based Palette Generation",
          "Attention-based Deep Multiple Instance Learning",
          "Decoupled Neural Interfaces using Synthetic Gradients",
          "HiDDeN: Hiding Data with Deep Networks",
          "Image Generation From Scene Graphs",
          "Perturbative Neural Networks",
          "Multi-scale Residual Network for Image Super-Resolution",
          "Disentangling by Factorising",
          "Neural Relational Inference for Interacting Systems",
          "Escape From Cells: Deep Kd-Networks for the Recognition of 3D Point Cloud Models",
          "Surface Networks",
          "Stacked Cross Attention for Image-Text Matching",
          "Stochastic Downsampling for Cost-Adjustable Inference and Improved Regularization in Convolutional Networks",
          "Open Set Domain Adaptation by Backpropagation",
          "Grammar Variational Autoencoder",
          "Deep Learning Under Privileged Information Using Heteroscedastic Dropout",
          "Deep Spectral Clustering Learning",
          "Gated Path Planning Networks",
          "Hierarchical Novelty Detection for Visual Object Recognition",
          "Dropout Inference in Bayesian Neural Networks with Alpha-divergences",
          "Towards Binary-Valued Gates for Robust LSTM Training",
          "Deep Marching Cubes: Learning Explicit Surface Representations",
          "Conditional Image-to-Image Translation",
          "RefineNet: Multi-Path Refinement Networks for High-Resolution Semantic Segmentation",
          "Estimating the Success of Unsupervised Image to Image Translation",
          "FOTS: Fast Oriented Text Spotting With a Unified Network",
          "Learning Efficient Convolutional Networks Through Network Slimming",
          "PiCANet: Learning Pixel-Wise Contextual Attention for Saliency Detection",
          "Raster-To-Vector: Revisiting Floorplan Transformation",
          "Recognizing Human Actions as the Evolution of Pose Estimation Maps",
          "Richer Convolutional Features for Edge Detection",
          "CSRNet: Dilated Convolutional Neural Networks for Understanding the Highly Congested Scenes",
          "Learning Intrinsic Image Decomposition From Watching the World",
          "MegaDepth: Learning Single-View Depth Prediction From Internet Photos",
          "SO-Net: Self-Organizing Network for Point Cloud Analysis",
          "Discriminability Objective for Training Descriptive Captions",
          "Neural Baby Talk",
          "Unsupervised Video Summarization With Adversarial LSTM Networks",
          "PackNet: Adding Multiple Tasks to a Single Network by Iterative Pruning",
          "Boosting Domain Adaptation by Discovering Latent Domains",
          "Rotation Equivariant Vector Field Networks",
          "Learning Type-Aware Embeddings for Fashion Compatibility",
          "Transparency by Design: Closing the Gap Between Performance and Interpretability in Visual Reasoning",
          "Learning Visual Question Answering by Bootstrapping Hard Attention",
          "Deep Clustering for Unsupervised Learning of Visual Features",
          "Joint Person Segmentation and Identification in Synchronized First- and Third-person Videos",
          "ECO: Efficient Convolutional Network for Online Video Understanding",
          "Diverse and Coherent Paragraph Generation from Images",
          "Beyond the Pixel-Wise Loss for Topology-Aware Delineation",
          "No Fuss Distance Metric Learning Using Proxies",
          "MultiPoseNet: Fast Multi-Person Pose Estimation using Pose Residual Network",
          "Improved Fusion of Visual and Language Representations by Dense Symmetric Co-Attention for Visual Question Answering",
          "SparseMAP: Differentiable Sparse Structured Inference",
          "Human Pose Estimation With Parsing Induced Learner",
          "Video Frame Interpolation via Adaptive Convolution",
          "Video Frame Interpolation via Adaptive Separable Convolution",
          "The Statistical Recurrent Unit",
          "GANs for Biological Image Synthesis",
          "Count-Based Exploration with Neural Density Models",
          "Towards Accurate Multi-Person Pose Estimation in the Wild",
          "Towards Realistic Predictors",
          "Jointly Optimize Data Augmentation and Network Training: Adversarial Data Augmentation in Human Pose Estimation",
          "Efficient Neural Architecture Search via Parameters Sharing",
          "Learning Latent Super-Events to Detect Multiple Activities in Videos",
          "Learning Pose Specific Representations by Predicting Different Views",
          "Generative Adversarial Perturbations",
          "Attentive Generative Adversarial Network for Raindrop Removal From a Single Image",
          "Few-Shot Image Recognition by Predicting Parameters From Activations",
          "Low-Shot Learning With Imprinted Weights",
          "Optical Flow Estimation Using a Spatial Pyramid Network",
          "Following Gaze in Video",
          "Learning to Reweight Examples for Robust Deep Learning",
          "Action Sets: Weakly Supervised Action Segmentation Without Ordering Constraints",
          "End-to-End Weakly-Supervised Semantic Alignment",
          "Deep One-Class Classification",
          "Real-World Repetition Estimation by Div, Grad and Curl",
          "Learning to Separate Object Sounds by Watching Unlabeled Video",
          "ESPNet: Efficient Spatial Pyramid of Dilated Convolutions for Semantic Segmentation",
          "Generate to Adapt: Aligning Domains Using Generative Adversarial Networks",
          "Learning From Synthetic Data: Addressing Domain Shift for Semantic Segmentation",
          "Pixels, Voxels, and Views: A Study of Shape Representations for Single View 3D Object Shape Prediction",
          "Real-Time Single Image and Video Super-Resolution Using an Efficient Sub-Pixel Convolutional Neural Network",
          "Attentive Recurrent Comparators",
          "Actor and Observer: Joint Modeling of First and Third-Person Videos",
          "VITAL: VIsual Tracking via Adversarial Learning",
          "Exploiting the Potential of Standard Convolutional Autoencoders for Image Restoration by Evolutionary Search",
          "PWC-Net: CNNs for Optical Flow Using Pyramid, Warping, and Cost Volume",
          "Multiple Instance Detection Network With Online Instance Classifier Refinement",
          "Black Box FDR",
          "Real-Time Seamless Single Shot 6D Object Pose Prediction",
          "3D-CODED: 3D Correspondences by Deep Deformation",
          "HybridNet: Classification and Reconstruction Cooperation for Semi-Supervised Learning",
          "Interpretable Intuitive Physics Model",
          "A Closer Look at Spatiotemporal Convolutions for Action Recognition",
          "Learning Longer-term Dependencies in RNNs with Auxiliary Losses",
          "Learning to Adapt Structured Output Space for Semantic Segmentation",
          "The Mirage of Action-Dependent Baselines in Reinforcement Learning",
          "Learning Shape Abstractions by Assembling Volumetric Primitives",
          "MoCoGAN: Decomposing Motion and Content for Video Generation",
          "Learning Superpixels With Segmentation-Aware Affinity Loss",
          "Adversarial Discriminative Domain Adaptation",
          "Simultaneous Deep Transfer Across Domains and Tasks",
          "Deep Image Prior",
          "Deep Feature Interpolation for Image Content Changes",
          "Conditional Similarity Networks",
          "Gray-box Adversarial Training",
          "Revisiting IM2GPS in the Deep Learning Era",
          "Learning a Discriminative Filter Bank Within a CNN for Fine-Grained Recognition",
          "Multi-Label Image Recognition by Recurrently Discovering Attentional Regions",
          "Repulsion Loss: Detecting Pedestrians in a Crowd",
          "Min-Entropy Latent Model for Weakly Supervised Object Detection",
          "Bidirectional Retrieval Made Simple",
          "Depth-aware CNN for RGB-D Segmentation",
          "Variance Regularized Counterfactual Risk Minimization via Variational Divergence Minimization",
          "Deep k-Means: Re-Training and Parameter Sharing with Harder Cluster Assignments for Compressing Deep Convolutions",
          "Compressed Video Action Recognition",
          "Exploit the Unknown Gradually: One-Shot Video-Based Person Re-Identification by Stepwise Learning",
          "Unsupervised Feature Learning via Non-Parametric Instance Discrimination",
          "Integral Human Pose Regression",
          "Recurrent Squeeze-and-Excitation Context Aggregation Net for Single Image Deraining",
          "Aggregated Residual Transformations for Deep Neural Networks",
          "Mutual Learning to Adapt for Joint Human Parsing and Pose Estimation",
          "Pose Partition Networks for Multi-Person Pose Estimation",
          "Deep Texture Manifold for Ground Terrain Recognition",
          "AttnGAN: Fine-Grained Text to Image Generation With Attentional Generative Adversarial Networks",
          "Mean Field Multi-Agent Reinforcement Learning",
          "DenseASPP for Semantic Segmentation in Street Scenes",
          "Learning Face Age Progression: A Pyramid Architecture of GANs",
          "Macro-Micro Adversarial Network for Human Parsing",
          "PlaneMatch: Patch Coplanarity Prediction for Robust RGB-D Reconstruction",
          "Factorizable Net: An Efficient Subgraph-based Framework for Scene Graph Generation",
          "GraphRNN: Generating Realistic Graphs with Deep Auto-regressive Models",
          "Image Super-Resolution Using Very Deep Residual Channel Attention Networks",
          "Dilated Residual Networks",
          "MAttNet: Modular Attention Network for Referring Expression Comprehension",
          "Learning to Promote Saliency Detectors",
          "Learning to Navigate for Fine-grained Classification",
          "S3Pool: Pooling With Stochastic Spatial Sampling",
          "Noisy Natural Gradient as Variational Inference",
          "Partial Adversarial Domain Adaptation",
          "Adversarial Complementary Learning for Weakly Supervised Object Localization",
          "Densely Connected Pyramid Dehazing Network",
          "Density-Aware Single Image De-Raining Using a Multi-Stream Dense Network",
          "Shift-Net: Image Inpainting via Deep Feature Rearrangement",
          "Distractor-aware Siamese Networks for Visual Object Tracking",
          "Improving Generalization via  Scalable Neighborhood Component Analysis",
          "EAST: An Efficient and Accurate Scene Text Detector",
          "Weakly Supervised Instance Segmentation Using Class Peak Response",
          "Fast Training of Triplet-Based Deep Binary Embedding Networks",
          "Towards Effective Low-Bitwidth Convolutional Neural Networks",
          "Saliency Detection in 360° Videos",
          "Learning Transferable Architectures for Scalable Image Recognition",
          "LayoutNet: Reconstructing the 3D Room Layout From a Single RGB Image"
         ],
         "textfont": {
          "color": "#4D5663"
         },
         "type": "scatter",
         "x": [
          -2.684140682220459,
          0.49825507402420044,
          9.316398620605469,
          0.32123181223869324,
          2.955179452896118,
          -15.369030952453613,
          -18.640644073486328,
          -14.469246864318848,
          -15.301263809204102,
          -14.186448097229004,
          -18.572532653808594,
          -3.4132814407348633,
          0.8316057324409485,
          -5.064718723297119,
          -5.223972320556641,
          -16.22689437866211,
          -16.56171417236328,
          -14.874223709106445,
          -13.5542573928833,
          -11.535679817199707,
          -11.348140716552734,
          -1.9284207820892334,
          2.1756160259246826,
          2.5636987686157227,
          0.2520822286605835,
          -18.34830093383789,
          -6.9692511558532715,
          -11.231633186340332,
          1.2970401048660278,
          8.685247421264648,
          -3.918154001235962,
          -7.351520538330078,
          -16.966537475585938,
          -4.933010101318359,
          -0.6958796977996826,
          7.966084957122803,
          -7.039394378662109,
          -7.720957279205322,
          -10.506808280944824,
          -4.648492336273193,
          -9.253328323364258,
          17.271961212158203,
          -9.338743209838867,
          -2.484617233276367,
          -8.68237590789795,
          15.095970153808594,
          -15.957009315490723,
          -8.645133018493652,
          0.5641527771949768,
          5.083847999572754,
          13.102896690368652,
          -9.52187442779541,
          5.848556041717529,
          17.358747482299805,
          -16.018878936767578,
          0.08346008509397507,
          12.263566017150879,
          2.189725875854492,
          15.234375953674316,
          5.527338981628418,
          -11.990315437316895,
          11.803010940551758,
          12.927582740783691,
          5.6517157554626465,
          12.286896705627441,
          0.6323307156562805,
          -4.723989009857178,
          12.312761306762695,
          18.294170379638672,
          19.677017211914062,
          -9.348336219787598,
          -11.405265808105469,
          1.5813531875610352,
          -1.4508826732635498,
          18.33319091796875,
          5.568967819213867,
          8.304447174072266,
          5.696475028991699,
          -15.69351577758789,
          13.014630317687988,
          14.19536018371582,
          16.36920928955078,
          4.346724510192871,
          -1.6429693698883057,
          16.378976821899414,
          -11.85798168182373,
          18.42620277404785,
          19.49966812133789,
          20.223888397216797,
          -10.203141212463379,
          8.795008659362793,
          -1.3694294691085815,
          -9.671428680419922,
          -11.889986038208008,
          -4.933437347412109,
          -4.927951335906982,
          -2.136983633041382,
          20.781009674072266,
          10.556600570678711,
          -4.540881156921387,
          -2.0525848865509033,
          5.696475028991699,
          5.07912015914917,
          -4.001466751098633,
          -4.5047736167907715,
          -11.292922973632812,
          -2.4269590377807617,
          14.89988899230957,
          10.705323219299316,
          8.689496040344238,
          -0.5653109550476074,
          -9.280948638916016,
          3.169163942337036,
          17.03103256225586,
          -4.6071271896362305,
          1.6305054426193237,
          -12.518197059631348,
          -4.618255138397217,
          4.120645523071289,
          -5.265749454498291,
          -7.281893730163574,
          17.32773780822754,
          -11.178736686706543,
          -11.603254318237305,
          -18.58983612060547,
          8.074355125427246,
          8.382620811462402,
          -9.616155624389648,
          3.634024143218994,
          10.6005220413208,
          9.138822555541992,
          7.7134881019592285,
          -5.187151908874512,
          5.502796649932861,
          3.3372557163238525,
          15.511493682861328,
          9.145758628845215,
          21.005706787109375,
          15.018238067626953,
          13.189264297485352,
          16.2751522064209,
          13.250818252563477,
          17.328413009643555,
          8.496591567993164,
          -15.709115028381348,
          17.275785446166992,
          5.1628546714782715,
          3.0273330211639404,
          -2.0224945545196533,
          8.875982284545898,
          18.52450942993164,
          -4.450682163238525,
          0.34852397441864014,
          -10.160408973693848,
          3.052690029144287,
          -1.176493525505066,
          17.721996307373047,
          8.319046020507812,
          12.145034790039062,
          -5.277063369750977,
          13.639415740966797,
          -0.9848296046257019,
          4.395261764526367,
          5.451540470123291,
          1.2297760248184204,
          12.941601753234863,
          -0.6353302001953125,
          0.1760217696428299,
          12.490093231201172,
          19.42536735534668,
          5.07912015914917,
          15.319294929504395,
          5.67793607711792,
          -1.6900337934494019,
          0.3799425959587097,
          5.083140850067139,
          8.15590763092041,
          -2.44468355178833,
          6.709240913391113,
          -8.520983695983887,
          -12.703033447265625,
          17.326351165771484,
          4.120645523071289,
          -0.9703726768493652,
          15.581171035766602,
          16.163108825683594,
          -1.203205943107605,
          -11.30169677734375,
          6.624324798583984,
          2.8606512546539307,
          -5.477090358734131,
          -9.649797439575195,
          -12.098286628723145,
          -7.215047836303711,
          1.7555841207504272,
          -7.371877193450928,
          19.431119918823242,
          -9.27474308013916,
          -11.437824249267578,
          -11.471033096313477,
          -2.7875282764434814,
          17.32697296142578,
          13.164412498474121,
          15.245105743408203,
          19.912900924682617,
          5.07912015914917,
          8.382620811462402,
          5.696475028991699,
          -1.3525283336639404,
          15.164237022399902,
          8.707104682922363,
          6.211130619049072,
          3.86240291595459,
          -7.1444411277771,
          18.532184600830078,
          -8.59642219543457,
          -11.244284629821777,
          1.012722373008728,
          11.239538192749023,
          12.490093231201172,
          17.32773780822754,
          1.5142345428466797,
          -6.896894931793213,
          20.397008895874023,
          12.925217628479004,
          -9.491036415100098,
          12.641077041625977,
          -0.5160855054855347,
          -11.242379188537598,
          16.296329498291016,
          5.324472427368164,
          -8.179872512817383,
          -1.2002731561660767,
          -9.266790390014648,
          -9.443465232849121,
          -1.4302247762680054,
          18.46268653869629,
          17.08452796936035,
          4.422619342803955,
          -4.177286148071289,
          6.199511528015137,
          -9.992664337158203,
          -1.4664095640182495,
          -6.908980369567871,
          -4.614994525909424,
          18.162946701049805,
          -1.3697141408920288,
          -7.155501365661621,
          1.0675371885299683,
          19.990629196166992,
          15.034621238708496,
          12.948015213012695,
          13.1284818649292,
          -9.139873504638672,
          6.739853382110596,
          6.563159942626953
         ],
         "y": [
          -9.076362609863281,
          -11.790557861328125,
          -10.981833457946777,
          -11.704024314880371,
          -16.725404739379883,
          6.785719871520996,
          -10.755471229553223,
          -0.0631733313202858,
          4.304014682769775,
          -14.635096549987793,
          0.4816434979438782,
          9.653363227844238,
          -3.941148519515991,
          -13.566780090332031,
          -13.462061882019043,
          4.189144134521484,
          4.1154069900512695,
          -13.367066383361816,
          -5.71966028213501,
          10.363505363464355,
          12.070815086364746,
          -5.561746120452881,
          -5.84678840637207,
          -18.102375030517578,
          -12.71772575378418,
          10.938164710998535,
          4.530798435211182,
          9.823363304138184,
          -0.8077804446220398,
          -11.38918685913086,
          1.7338002920150757,
          4.18464994430542,
          -13.808900833129883,
          2.699838399887085,
          -5.3269171714782715,
          -9.067055702209473,
          9.654850959777832,
          -19.7283878326416,
          -13.04228687286377,
          -21.863630294799805,
          -6.9861955642700195,
          7.468615531921387,
          -7.121572971343994,
          -17.212682723999023,
          -0.060899458825588226,
          -14.77501392364502,
          -17.531286239624023,
          -12.04974365234375,
          -18.53432273864746,
          4.935922622680664,
          4.3012590408325195,
          -7.9517621994018555,
          6.3210344314575195,
          -11.970766067504883,
          -9.441694259643555,
          -11.140862464904785,
          3.7189953327178955,
          2.515287160873413,
          -8.691079139709473,
          -13.273605346679688,
          -9.564146041870117,
          3.2736377716064453,
          4.4948625564575195,
          -0.9634976983070374,
          3.7308661937713623,
          2.1988461017608643,
          -5.528948783874512,
          8.158591270446777,
          1.1086785793304443,
          2.5188043117523193,
          -0.32235223054885864,
          -18.805835723876953,
          -2.0170602798461914,
          4.239838123321533,
          1.1541186571121216,
          -13.282205581665039,
          1.4994322061538696,
          -1.165755033493042,
          -17.621885299682617,
          -10.25838851928711,
          -7.849348545074463,
          -4.31615686416626,
          0.9656359553337097,
          -15.021125793457031,
          -11.709273338317871,
          0.2116512656211853,
          1.6148390769958496,
          -2.941679000854492,
          -0.5475978851318359,
          -0.9251365661621094,
          -13.759784698486328,
          4.481995582580566,
          -6.3254218101501465,
          -5.141777515411377,
          6.837114334106445,
          -5.380268096923828,
          -14.838587760925293,
          -1.5194391012191772,
          -15.101459503173828,
          6.672017574310303,
          -14.460585594177246,
          -1.165755033493042,
          4.949007511138916,
          -17.99323844909668,
          -6.228446006774902,
          -5.27979040145874,
          -15.049402236938477,
          5.160935401916504,
          -15.009761810302734,
          -11.55947208404541,
          3.63305926322937,
          -17.38563346862793,
          6.035023212432861,
          -12.832472801208496,
          -19.520103454589844,
          -2.275744915008545,
          -9.952835083007812,
          -21.833452224731445,
          4.536669731140137,
          -0.9686166048049927,
          -15.008926391601562,
          7.443411350250244,
          -5.144576072692871,
          -9.12573528289795,
          -4.439999580383301,
          1.9053568840026855,
          -0.39967137575149536,
          -0.8952298760414124,
          5.229376792907715,
          -15.02877426147461,
          6.38795280456543,
          2.4783926010131836,
          -14.176817893981934,
          -0.45745787024497986,
          5.830535411834717,
          6.714743614196777,
          6.399466037750244,
          -1.0010210275650024,
          5.292370319366455,
          -15.746440887451172,
          -11.52593994140625,
          4.351266384124756,
          7.432515621185303,
          -0.3285149931907654,
          -17.540996551513672,
          -13.100541114807129,
          -13.924836158752441,
          -16.92334747314453,
          -13.921056747436523,
          -13.824224472045898,
          -4.833127975463867,
          -6.604599475860596,
          2.2009165287017822,
          -0.9924736618995667,
          3.0326783657073975,
          -11.545234680175781,
          -6.859641075134277,
          -0.45409899950027466,
          3.5896480083465576,
          -0.9921842217445374,
          -10.664521217346191,
          8.093976020812988,
          0.8750638961791992,
          -13.429981231689453,
          -7.988117694854736,
          -8.190033912658691,
          3.2116153240203857,
          2.3650193214416504,
          8.688178062438965,
          2.314720630645752,
          4.949007511138916,
          -14.737446784973145,
          -1.1438788175582886,
          2.801792860031128,
          -18.552141189575195,
          4.940000534057617,
          1.747254729270935,
          -17.241065979003906,
          6.885715007781982,
          -12.462995529174805,
          -0.09195222705602646,
          7.44736385345459,
          4.536669731140137,
          -15.482197761535645,
          6.733061790466309,
          -11.210517883300781,
          2.950914144515991,
          -5.553422927856445,
          -11.206459999084473,
          2.88649582862854,
          -5.526525974273682,
          -0.38083916902542114,
          -9.871397018432617,
          -8.855179786682129,
          -9.338640213012695,
          -8.769584655761719,
          2.3885574340820312,
          -12.105027198791504,
          -18.86020278930664,
          -8.93363094329834,
          -2.5856103897094727,
          7.446593761444092,
          -10.377866744995117,
          -14.02901840209961,
          -3.7759830951690674,
          4.949007511138916,
          -0.39967137575149536,
          -1.165755033493042,
          -15.246465682983398,
          -14.078193664550781,
          -11.33519172668457,
          16.521587371826172,
          4.02047872543335,
          -2.1231114864349365,
          -4.7365593910217285,
          -11.498568534851074,
          -15.307389259338379,
          -10.696196556091309,
          9.991361618041992,
          8.688178062438965,
          7.443411350250244,
          -8.99156665802002,
          -18.453853607177734,
          -0.789262056350708,
          -8.208121299743652,
          -8.049628257751465,
          -15.398721694946289,
          3.426880121231079,
          -15.284027099609375,
          -11.741798400878906,
          0.33953601121902466,
          -10.250543594360352,
          -11.129249572753906,
          -7.025365352630615,
          -0.3324722945690155,
          4.735988616943359,
          1.696395993232727,
          -12.377690315246582,
          0.8894609808921814,
          -18.39005470275879,
          16.332359313964844,
          -17.66442108154297,
          -10.94797134399414,
          -1.9965214729309082,
          6.586668014526367,
          -6.666912078857422,
          4.496456623077393,
          -15.121639251708984,
          -18.49070167541504,
          -3.5034425258636475,
          5.2912983894348145,
          8.769012451171875,
          8.869354248046875,
          -2.0771477222442627,
          6.948448657989502,
          6.764699459075928
         ]
        },
        {
         "marker": {
          "color": "rgba(55, 128, 191, 1.0)",
          "line": {
           "width": 1.3
          },
          "opacity": 0.8,
          "size": 12,
          "symbol": "circle"
         },
         "mode": "markers",
         "name": "tensorflow",
         "text": [
          "PointCNN",
          "L4: Practical loss-based stepsize adaptation for deep learning",
          "Adversarial Logit Pairing",
          "Realistic Evaluation of Deep Semi-Supervised Learning Algorithms",
          "DVAE#: Discrete Variational Autoencoders with Relaxed Boltzmann Priors",
          "Hyperbolic Neural Networks",
          "Learning towards Minimum Hyperspherical Energy",
          "Generalizing to Unseen Domains via Adversarial Data Augmentation",
          "On GANs and GMMs",
          "Assessing Generative Models via Precision and Recall",
          "Unsupervised Attention-guided Image-to-Image Translation",
          "Generative Neural Machine Translation",
          "Banach Wasserstein GAN",
          "Neural Code Comprehension: A Learnable Representation of Code Semantics",
          "Glow: Generative Flow with Invertible 1x1 Convolutions",
          "Discovery of Latent 3D Keypoints via End-to-end Geometric Reasoning",
          "Adaptive Skip Intervals: Temporal Abstraction for Recurrent Dynamical Models",
          "Video-to-Video Synthesis",
          "Generalisation in humans and deep neural networks",
          "Deep Subspace Clustering Networks",
          "Dilated Recurrent Neural Networks",
          "Structured Embedding Models for Grouped Data",
          "Learning a Multi-View Stereo Machine",
          "Universal Style Transfer via Feature Transforms",
          "Toward Multimodal Image-to-Image Translation",
          "Deep Mean-Shift Priors for Image Restoration",
          "SchNet: A continuous-filter convolutional neural network for modeling quantum interactions",
          "Inductive Representation Learning on Large Graphs",
          "Mean teachers are better role models: Weight-averaged consistency targets improve semi-supervised deep learning results",
          "TernGrad: Ternary Gradients to Reduce Communication in Distributed Deep Learning",
          "Learning Multiple Tasks with Multilinear Relationship Networks",
          "The Numerics of GANs",
          "Stabilizing Training of Generative Adversarial Networks through Regularization",
          "Training Deep Networks without Learning Rates Through Coin Betting",
          "Few-Shot Learning Through an Information Retrieval  Lens",
          "Differentiable Learning of Logical Rules for Knowledge Base Reasoning",
          "OnACID: Online Analysis of Calcium Imaging Data in Real Time",
          "Toward Goal-Driven Neural Network Models for the Rodent Whisker-Trigeminal System",
          "Predicting Organic Reaction Outcomes with Weisfeiler-Lehman Network",
          "REBAR: Low-variance, unbiased gradient estimates for discrete latent variable models",
          "Dual Discriminator Generative Adversarial Nets",
          "Bridging the Gap Between Value and Policy Based Reinforcement Learning",
          "Convolutional Gaussian Processes",
          "Deep Lattice Networks and Partial Monotonic Functions",
          "Hierarchical Attentive Recurrent Tracking",
          "Learning to Compose Domain-Specific Transformations for Data Augmentation",
          "Streaming Sparse Gaussian Process Approximations",
          "Spherical convolutions and their application in molecular modelling",
          "Neural system identification for large populations separating what and where",
          "A Disentangled Recognition and Nonlinear Dynamics Model for Unsupervised Learning",
          "Bayesian GAN",
          "Geometric Matrix Completion with Recurrent Multi-Graph Neural Networks",
          "Diving into the shallows: a computational perspective on large-scale shallow learning",
          "InfoGAIL: Interpretable Imitation Learning from Visual Demonstrations",
          "Deep Hyperspherical Learning",
          "On-the-fly Operation Batching in Dynamic Computation Graphs",
          "Streaming Weak Submodularity: Interpreting Neural Networks on the Fly",
          "Multi-Information Source Optimization",
          "Doubly Stochastic Variational Inference for Deep Gaussian Processes",
          "QMDP-Net: Deep Learning for Planning under Partial Observability",
          "A Unified Approach to Interpreting Model Predictions",
          "Context Selection for Embedding Models",
          "Learning to Prune Deep Neural Networks via Layer-wise Optimal Brain Surgeon",
          "DropoutNet: Addressing Cold Start in Recommender Systems",
          "PointNet++: Deep Hierarchical Feature Learning on Point Sets in a Metric Space",
          "A-NICE-MC: Adversarial Training for MCMC",
          "Riemannian approach to batch normalization",
          "Triangle Generative Adversarial Networks",
          "Scalable trust-region method for deep reinforcement learning using Kronecker-factored approximation",
          "Hybrid Reward Architecture for Reinforcement Learning",
          "AdaGAN: Boosting Generative Models",
          "Gradient descent GAN optimization is locally stable",
          "Do Deep Neural Networks Suffer from Crowding?",
          "Improved Training of Wasserstein GANs",
          "Attention is All you Need",
          "Value Prediction Network",
          "Causal Effect Inference with Deep Latent-Variable Models",
          "Modulating early visual processing by language",
          "GANs Trained by a Two Time-Scale Update Rule Converge to a Local Nash Equilibrium",
          "Neural Expectation Maximization",
          "Style Transfer from Non-Parallel Text by Cross-Alignment",
          "On Word Embedding Dimensionality",
          "Mapping Images to Scene Graphs with Permutation-Invariant Structured Prediction",
          "Improving Shape Deformation in Unsupervised Image-to-Image Translation",
          "An Improved Deep Learning Architecture for Person Re-Identification",
          "Learning Pixel-Level Semantic Affinity With Image-Level Supervision for Weakly Supervised Semantic Segmentation",
          "Defense Against Universal Adversarial Perturbations",
          "Light Field Intrinsics With a Deep Encoder-Decoder Network",
          "Input Convex Neural Networks",
          "Zero-Shot Object Detection",
          "VQA: Visual Question Answering",
          "Wasserstein Generative Adversarial Networks",
          "A Style-Aware Content Loss for Real-time HD Style Transfer",
          "Synthesizing Robust Adversarial Examples",
          "LCNN: Lookup-Based Convolutional Neural Network",
          "Deep Watershed Transform for Instance Segmentation",
          "CVAE-GAN: Fine-Grained Image Generation Through Asymmetric Training",
          "Semi-supervised Adversarial Learning to Generate Photorealistic Face Images of New Identities from 3D Morphable Model",
          "Convolutional Color Constancy",
          "Visual Feature Attribution Using Wasserstein GANs",
          "Deep Unsupervised Similarity Learning Using Partially Ordered Sets",
          "The Lovász-Softmax Loss: A Tractable Surrogate for the Optimization of the Intersection-Over-Union Measure in Neural Networks",
          "Simple Baselines for Human Pose Estimation and Tracking",
          "NetGAN: Generating Graphs via Random Walks",
          "Compressed Sensing using Generative Models",
          "Acquisition of Localization Confidence for Accurate Object Detection",
          "Predict and Constrain: Modeling Cardinality in Deep Structured Prediction",
          "Conditional Image-Text Embedding Networks",
          "Deep TextSpotter: An End-To-End Trainable Scene Text Localization and Recognition Framework",
          "One-Shot Video Object Segmentation",
          "Neural Sign Language Translation",
          "SubUNets: End-To-End Hand Shape and Continuous Sign Language Recognition",
          "HashGAN: Deep Learning to Hash With Pair Conditional Wasserstein GAN",
          "SketchyScene: Richly-Annotated Scene Sketches",
          "Deep Adaptive Image Clustering",
          "Adversarial Time-to-Event Modeling",
          "Learning K-way D-dimensional Discrete Codes for Compact Embedding Representations",
          "DRACO: Byzantine-resilient Distributed Training via Redundant Gradients",
          "AON: Towards Arbitrarily-Oriented Text Recognition",
          "Progressive Neural Architecture Search",
          "Cascaded Pyramid Network for Multi-Person Pose Estimation",
          "Deep Photo Enhancer: Unpaired Learning for Image Enhancement From Photographs With GANs",
          "Knowledge Aided Consistency for Weakly Supervised Phrase Grounding",
          "LiDAR-Video Driving Dataset: Learning Driving Policies Effectively",
          "Multi-View 3D Object Detection Network for Autonomous Driving",
          "Photographic Image Synthesis With Cascaded Refinement Networks",
          "Query-Guided Regression Network With Context Policy for Phrase Grounding",
          "StarGAN: Unified Generative Adversarial Networks for Multi-Domain Image-to-Image Translation",
          "VidLoc: A Deep Spatio-Temporal Model for 6-DoF Video-Clip Relocalization",
          "AdaNet: Adaptive Structural Learning of Artificial Neural Networks",
          "Large Scale Fine-Grained Categorization and Domain-Specific Transfer Learning",
          "Learning to Evaluate Image Captioning",
          "Pixel Recursive Super Resolution",
          "Stochastic Generative Hashing",
          "ScanComplete: Large-Scale Scene Completion and Semantic Segmentation for 3D Scans",
          "Language Modeling with Gated Convolutional Networks",
          "Attributes2Classname: A Discriminative Model for Attribute-Based Unsupervised Zero-Shot Learning",
          "Stochastic Video Generation with a Learned Prior",
          "Image Manipulation with Perceptual Discriminators",
          "Eye In-Painting With Exemplar Generative Adversarial Networks",
          "Dance Dance Convolution",
          "Unsupervised holistic image generation from key local patches",
          "LQ-Nets: Learned Quantization for Highly Accurate and Compact Deep Neural Networks",
          "Is Robustness the Cost of Accuracy? -- A Comprehensive Study on the Robustness of 18 Deep Image Classification Models",
          "Structured Uncertainty Prediction Networks",
          "GraphBit: Bitwise Interaction Mining via Deep Reinforcement Learning",
          "RPAN: An End-To-End Recurrent Pose-Attention Network for Action Recognition in Videos",
          "BlitzNet: A Real-Time Deep Network for Scene Understanding",
          "Predicting Depth, Surface Normals and Semantic Labels With a Common Multi-Scale Convolutional Architecture",
          "Robust Physical-World Attacks on Deep Learning Visual Classification",
          "A Point Set Generation Network for 3D Object Reconstruction From a Single Image",
          "End-to-End Learning of Motion Representation for Video Understanding",
          "Recovering 3D Planes from a Single Image via Convolutional Neural Networks",
          "Spatially Adaptive Computation Time for Residual Networks",
          "Model-Agnostic Meta-Learning for Fast Adaptation of Deep Networks",
          "Input Switched Affine Networks: An RNN Architecture Designed for Interpretability",
          "Single Image 3D Without a Single 3D Image",
          "Bilevel Programming for Hyperparameter Optimization and Meta-Learning",
          "Compact Bilinear Pooling",
          "Learning Generative ConvNets via Multi-Grid Modeling and Sampling",
          "Convolutional Sequence to Sequence Learning",
          "Dynamic Few-Shot Visual Learning Without Forgetting",
          "Visualizing and Understanding Atari Agents",
          "Learning Single-View 3D Reconstruction with Limited Pose Supervision",
          "On Calibration of Modern Neural Networks",
          "DeLiGAN : Generative Adversarial Networks for Diverse and Limited Data",
          "Associative Domain Adaptation",
          "Learning by Association -- A Versatile Semi-Supervised Training Method for Neural Networks",
          "Automatic Spatially-Aware Fashion Concept Discovery",
          "Learning unknown ODE models with Gaussian processes",
          "Deep Residual Learning for Image Recognition",
          "Mask R-CNN",
          "Deeply Supervised Salient Object Detection With Short Connections",
          "Beyond Face Rotation: Global and Local Perception GAN for Photorealistic and Identity Preserving Frontal View Synthesis",
          "CondenseNet: An Efficient DenseNet Using Learned Group Convolutions",
          "Densely Connected Convolutional Networks",
          "Speed/Accuracy Trade-Offs for Modern Convolutional Object Detectors",
          "Pointwise Convolutional Neural Networks",
          "Fast and Accurate Single Image Super-Resolution via Information Distillation Network",
          "Deep 360 Pilot: Learning a Deep Agent for Piloting Through 360deg Sports Videos",
          "FC4: Fully Convolutional Color Constancy With Confidence-Weighted Pooling",
          "Learning to Reason: End-To-End Module Networks for Visual Question Answering",
          "Modeling Relationships in Referential Expressions With Compositional Modular Networks",
          "DSLR-Quality Photos on Mobile Devices With Deep Convolutional Networks",
          "Black-box Adversarial Attacks with Limited Queries and Information",
          "Fighting Fake News: Image Splice Detection via Learned Self-Consistency",
          "Image Specificity",
          "Efficient end-to-end learning for quantizable representations",
          "Composite Functional Gradient Learning of Generative  Adversarial Models",
          "DenseCap: Fully Convolutional Localization Networks for Dense Captioning",
          "Total Capture: A 3D Deformation Model for Tracking Faces, Hands, and Bodies",
          "Adaptive Affinity Fields for Semantic Segmentation",
          "Statistically-motivated Second-order Pooling",
          "Video Pixel Networks",
          "Efficient Neural Audio Synthesis",
          "End-to-End Recovery of Human Shape and Pose",
          "Convolutional Neural Networks for No-Reference Image Quality Assessment",
          "Geometric Loss Functions for Camera Pose Regression With Deep Learning",
          "PoseNet: A Convolutional Network for Real-Time 6-DOF Camera Relocalization",
          "Simple Does It: Weakly Supervised Instance and Semantic Segmentation",
          "Learning to Discover Cross-Domain Relations with Generative Adversarial Networks",
          "SplitNet: Learning to Semantically Split Deep Networks for Parameter Reduction and Model Parallelization",
          "Accurate Image Super-Resolution Using Very Deep Convolutional Networks",
          "Context Embedding Networks",
          "Deeply-Recursive Convolutional Network for Image Super-Resolution",
          "Deep Hand: How to Train a CNN on 1 Million Hand Images When Your Data Is Continuous and Weakly Labelled",
          "RON: Reverse Connection With Objectness Prior Networks for Object Detection",
          "A Hierarchical Approach for Generating Descriptive Image Paragraphs",
          "Learning to Push the Limits of Efficient FFT-Based Image Deconvolution",
          "Deep Laplacian Pyramid Networks for Fast and Accurate Super-Resolution",
          "DeepVS: A Deep Learning Based Video Saliency Prediction Approach",
          "TI-Pooling: Transformation-Invariant Pooling for Feature Learning in Convolutional Neural Networks",
          "Fast Algorithms for Convolutional Neural Networks",
          "Introspective Neural Networks for Generative Modeling",
          "Hierarchical Imitation and Reinforcement Learning",
          "Photo-Realistic Single Image Super-Resolution Using a Generative Adversarial Network",
          "Confident Multiple Choice Learning",
          "CleanNet: Transfer Learning for Scalable Image Classifier Training With Label Noise",
          "RoomNet: End-To-End Room Layout Estimation",
          "Noise2Noise: Learning Image Restoration without Clean Data",
          "EC-Net: an Edge-aware Point set Consolidation Network",
          "Explicit Inductive Bias for Transfer Learning with Convolutional Networks",
          "Encoder-Decoder with Atrous Separable Convolution for Semantic Image Segmentation",
          "Recurrent Convolutional Neural Network for Object Recognition",
          "Inverse Compositional Spatial Transformer Networks",
          "ST-GAN: Spatial Transformer Generative Adversarial Networks for Image Compositing",
          "Zero-Inflated Exponential Family Embeddings",
          "Decoupled Networks",
          "Deep Supervised Hashing for Fast Image Retrieval",
          "Future Frame Prediction for Anomaly Detection  A New Baseline",
          "PlaneNet: Piece-Wise Planar Reconstruction From a Single RGB Image",
          "Predicting Salient Face in Multiple-Face Videos",
          "SphereFace: Deep Hypersphere Embedding for Face Recognition",
          "Convolutional Sequence to Sequence Model for Human Dynamics",
          "Towards Faster Training of Global Covariance Pooling Networks by Iterative Matrix Square Root Normalization",
          "Single Shot Scene Text Retrieval",
          "Attention Clusters: Purely Attention Based Local Feature Integration for Video Classification",
          "Fully Convolutional Networks for Semantic Segmentation",
          "Deep Photo Style Transfer",
          "Efficient Deep Learning for Stereo Matching",
          "Non-Local Deep Features for Salient Object Detection",
          "Dimensionality-Driven Learning with Noisy Labels",
          "On Human Motion Prediction Using Recurrent Neural Networks",
          "Attentive Semantic Video Generation Using Captions",
          "Domain-Adaptive Deep Network Compression",
          "Disentangled Person Image Generation",
          "Learning Proximal Operators: Using Denoising Networks for Regularizing Inverse Imaging Problems",
          "Conditional Probability Models for Deep Image Compression",
          "Adversarial Variational Bayes: Unifying Variational Autoencoders and Generative Adversarial Networks",
          "Device Placement Optimization with Reinforcement Learning",
          "Cross-Stitch Networks for Multi-Task Learning",
          "NAG: Network for Adversary Generation",
          "Curriculum Dropout",
          "3D Bounding Box Estimation Using Deep Learning and Geometry",
          "A Theoretical Explanation for Perplexing Behaviors of Backpropagation-based Visualizations",
          "Representation Learning by Learning to Count",
          "ShapeStacks: Learning Vision-Based Physical Intuition for Generalised Object Stacking",
          "Learning Dual Convolutional Neural Networks for Low-Level Vision",
          "Making Deep Neural Networks Robust to Label Noise: A Loss Correction Approach",
          "Robust Adversarial Reinforcement Learning",
          "Full-Resolution Residual Networks for Semantic Segmentation in Street Scenes",
          "PieAPP: Perceptual Image-Error Assessment Through Pairwise Preference",
          "Neural Episodic Control",
          "Frustum PointNets for 3D Object Detection From RGB-D Data",
          "GeoNet: Geometric Neural Network for Joint Depth and Surface Normal Estimation",
          "PointNet: Deep Learning on Point Sets for 3D Classification and Segmentation",
          "Semi-Parametric Image Synthesis",
          "Online and Linear-Time Attention by Enforcing Monotonic Alignments",
          "Top-Down Visual Saliency Guided by Captions",
          "Choose Your Neuron: Incorporating Domain Knowledge through Neuron-Importance",
          "Self-Critical Sequence Training for Image Captioning",
          "Cross-Domain Self-Supervised Multi-Task Feature Learning Using Synthetic Imagery",
          "End-To-End Instance Segmentation With Recurrent Attention",
          "Explainable Neural Computation via Stack Neural Module Networks",
          "Adversarially Learned One-Class Classifier for Novelty Detection",
          "Logo Synthesis and Manipulation With Clustered Generative Adversarial Networks",
          "EnhanceNet: Single Image Super-Resolution Through Automated Texture Synthesis",
          "Visual Coreference Resolution in Visual Dialog using Neural Module Networks",
          "Grad-CAM: Visual Explanations From Deep Networks via Gradient-Based Localization",
          "License Plate Detection and Recognition in Unconstrained Scenarios",
          "First Order Generative Adversarial Networks",
          "Deep High Dynamic Range Imaging with Large Foreground Motions",
          "Multi-view to Novel view: Synthesizing novel views with Self-Learned Confidence",
          "Finding Influential Training Samples for Gradient Boosted Decision Trees",
          "Avatar-Net: Multi-Scale Zero-Shot Style Transfer by Feature Decoration",
          "DSOD: Learning Deeply Supervised Object Detectors From Scratch",
          "Weakly Supervised Dense Video Captioning",
          "A Spectral Approach to Gradient Estimation for Implicit Distributions",
          "Specular-to-Diffuse Translation for Multi-View Reconstruction",
          "Incremental Learning of Object Detectors Without Catastrophic Forgetting",
          "Learning From Simulated and Unsupervised Images Through Adversarial Training",
          "Bottleneck Conditional Density Estimation",
          "Layer-structured 3D Scene Inference via View Synthesis",
          "The Predictron:  End-To-End Learning and Planning",
          "Hide-And-Seek: Forcing a Network to Be Meticulous for Weakly-Supervised Object and Action Localization",
          "Face Flow",
          "Accelerating Natural Gradient with Higher-Order Invariance",
          "Deep Metric Learning via Facility Location",
          "Cross-Modal Deep Variational Hand Pose Estimation",
          "Light Field Blind Motion Deblurring",
          "End-To-End People Detection in Crowded Scenes",
          "Neural Program Synthesis from Diverse Demonstration Videos",
          "Differentiable Compositional Kernel Learning for Gaussian Processes",
          "Axiomatic Attribution for Deep Networks",
          "Pix3D: Dataset and Methods for Single-Image 3D Shape Modeling",
          "Multi-View Convolutional Neural Networks for 3D Shape Recognition",
          "Reasoning About Fine-Grained Attribute Phrases Using Reference Games",
          "Rethinking the Inception Architecture for Computer Vision",
          "Click Here: Human-Localized Keypoints as Guidance for Viewpoint Estimation",
          "Spatially-Adaptive Filter Units for Deep Neural Networks",
          "Image Super-Resolution via Deep Recursive Residual Network",
          "MemNet: A Persistent Memory Network for Image Restoration",
          "Multiple People Tracking by Lifted Multicut and Person Re-Identification",
          "Scale-Recurrent Network for Deep Image Deblurring",
          "Tangent Convolutions for Dense Prediction in 3D",
          "Two-Stream Convolutional Networks for Dynamic Texture Synthesis",
          "Unsupervised Learning of Object Landmarks by Factorized Spatial Embeddings",
          "BSN: Boundary Sensitive Network for Temporal Action Proposal Generation",
          "Learning Dynamic Memory Networks for Object Tracking",
          "Full Resolution Image Compression With Recurrent Neural Networks",
          "Lifting From the Deep: Convolutional 3D Pose Estimation From a Single Image",
          "Image Super-Resolution Using Dense Skip Connections",
          "Unsupervised Adaptation for Deep Stereo",
          "Face Normals \"In-The-Wild\" Using Fully Convolutional Networks",
          "PointNetVLAD: Deep Point Cloud Based Retrieval for Large-Scale Place Recognition",
          "Sequence to Sequence - Video to Text",
          "Learning to Generate Long-term Future via Hierarchical Prediction",
          "Neural Kinematic Networks for Unsupervised Motion Retargetting",
          "Show and Tell: A Neural Image Caption Generator",
          "Adversarial Feature Augmentation for Unsupervised Domain Adaptation",
          "PredRNN++: Towards A Resolution of the Deep-in-Time Dilemma in Spatiotemporal Predictive Learning",
          "Style Tokens: Unsupervised Style Modeling, Control and Transfer in End-to-End Speech Synthesis",
          "Face Aging With Identity-Preserved Conditional Generative Adversarial Networks",
          "High-Resolution Image Synthesis and Semantic Manipulation With Conditional GANs",
          "Multimodal Transfer: A Hierarchical Deep Convolutional Neural Network for Fast Artistic Style Transfer",
          "Revisiting Video Saliency: A Large-Scale Benchmark and a New Model",
          "SGPN: Similarity Group Proposal Network for 3D Point Cloud Instance Segmentation",
          "Skeleton Key: Image Captioning by Skeleton-Attribute Decomposition",
          "Rethinking Feature Distribution for Loss Functions in Image Classification",
          "Transfer Learning via Learning to Transfer",
          "Convolutional Pose Machines",
          "Dense Human Body Correspondences Using Convolutional Networks",
          "Learning Efficient Single-stage Pedestrian Detectors by Asymptotic Localization Fitting",
          "Hierarchical Long-term Video Prediction without Supervision",
          "Learning Blind Motion Deblurring",
          "Quantized Convolutional Neural Networks for Mobile Devices",
          "Self-Organized Text Detection With Minimal Post-Processing via Border Learning",
          "A Modulation Module for Multi-task Learning with Applications in Image Retrieval",
          "Feature Generating Networks for Zero-Shot Learning",
          "Single Image Water Hazard Detection using FCN with Reflection Attention Units",
          "Gibson Env: Real-World Perception for Embodied Agents",
          "Learning Semantic Representations for Unsupervised Domain Adaptation",
          "Learning Descriptor Networks for 3D Shape Synthesis and Analysis",
          "Quaternion Convolutional Neural Networks",
          "Deep Image Matting",
          "Scene Graph Generation by Iterative Message Passing",
          "Improved Variational Autoencoders for Text Modeling using Dilated Convolutions",
          "Video Re-localization",
          "Neural Aggregation Network for Video Face Recognition",
          "Object Contour Detection With a Fully Convolutional Encoder-Decoder Network",
          "Robust Classification With Convolutional Prototype Learning",
          "Semantic Filtering",
          "Joint 3D Face Reconstruction and Dense Alignment with Position Map Regression Network",
          "MVSNet: Depth Inference for Unstructured Multi-view Stereo",
          "Audio-Visual Event Localization in Unconstrained Videos",
          "SpiderCNN: Deep Learning on Point Sets with Parameterized Convolutional Filters",
          "GeoNet: Unsupervised Learning of Dense Depth, Optical Flow and Camera Pose",
          "Combined Group and Exclusive Sparsity for Deep Neural Networks",
          "DF-Net: Unsupervised Joint Learning of Depth and Flow using Cross-Task Consistency",
          "Group Normalization",
          "Crafting a Toolchain for Image Restoration by Deep Reinforcement Learning",
          "Generative Image Inpainting With Contextual Attention",
          "PU-Net: Point Cloud Upsampling Network",
          "Video Paragraph Captioning Using Hierarchical Recurrent Neural Networks",
          "Continual Learning Through Synaptic Intelligence",
          "Adversarial Feature Matching for Text Generation",
          "Convexified Convolutional Neural Networks",
          "Curriculum Domain Adaptation for Semantic Segmentation of Urban Scenes",
          "Deep Mutual Learning",
          "Grounding Referring Expressions in Images by Variational Context",
          "ISTA-Net: Interpretable Optimization-Inspired Deep Network for Image Compressive Sensing",
          "Joint Pose and Expression Modeling for Facial Expression Recognition",
          "Learning a Deep Embedding Model for Zero-Shot Learning",
          "Learning Spread-Out Local Feature Descriptors",
          "Residual Dense Network for Image Super-Resolution",
          "Single-Image Crowd Counting via Multi-Column Convolutional Neural Network",
          "The Unreasonable Effectiveness of Deep Features as a Perceptual Metric",
          "Unsupervised Discovery of Object Landmarks as Structural Representations",
          "Visual Translation Embedding Network for Visual Relation Detection",
          "Follow the Moving Leader in Deep Learning",
          "Conditional Random Fields as Recurrent Neural Networks",
          "Ring Loss: Convex Feature Normalization for Face Recognition",
          "Unlabeled Samples Generated by GAN Improve the Person Re-Identification Baseline in Vitro",
          "Learning Deep Features for Discriminative Localization",
          "Learning Rich Features for Image Manipulation Detection",
          "Learning Spatial Regularization With Image-Level Supervisions for Multi-Label Image Classification",
          "Recurrent Highway Networks",
          "GeoDesc: Learning Local Descriptors by Integrating Geometry Constraints"
         ],
         "textfont": {
          "color": "#4D5663"
         },
         "type": "scatter",
         "x": [
          -2.189919948577881,
          0.19421616196632385,
          -5.919807434082031,
          -7.84990119934082,
          -18.39105796813965,
          -18.548913955688477,
          -18.383708953857422,
          -18.369211196899414,
          -18.44209098815918,
          -18.6081600189209,
          -1.412048578262329,
          -15.244853973388672,
          -15.459623336791992,
          -15.099018096923828,
          13.024003982543945,
          0.7075896859169006,
          -18.399381637573242,
          -2.232414960861206,
          -18.813478469848633,
          -16.920894622802734,
          -13.465667724609375,
          -11.911425590515137,
          -8.039220809936523,
          8.07717227935791,
          8.821043968200684,
          -0.44597139954566956,
          -4.663900375366211,
          -12.12221908569336,
          7.9855427742004395,
          -7.7117695808410645,
          1.1385022401809692,
          -11.014185905456543,
          -17.063081741333008,
          -10.974980354309082,
          -11.951091766357422,
          -16.55898094177246,
          -11.962207794189453,
          -4.95864725112915,
          -16.567045211791992,
          -12.056787490844727,
          3.4570417404174805,
          -12.005603790283203,
          -7.999208450317383,
          -16.947336196899414,
          -19.805301666259766,
          -17.45829200744629,
          -13.017743110656738,
          -16.18168830871582,
          -18.64440155029297,
          -19.104475021362305,
          0.9814276695251465,
          -18.025632858276367,
          -7.768580436706543,
          -18.922576904296875,
          -1.907932162284851,
          13.21394157409668,
          -11.573507308959961,
          -15.465407371520996,
          -11.918251037597656,
          -19.390033721923828,
          -17.095827102661133,
          -11.857887268066406,
          -4.870555877685547,
          12.310755729675293,
          -11.366103172302246,
          -17.420122146606445,
          -11.544601440429688,
          0.9736019968986511,
          -17.278549194335938,
          -11.992996215820312,
          -13.547507286071777,
          -7.065663814544678,
          -6.931591510772705,
          2.2324771881103516,
          6.972418308258057,
          3.6126723289489746,
          -15.456270217895508,
          7.98380184173584,
          -0.3066578805446625,
          -18.134714126586914,
          -16.65462303161621,
          3.4791910648345947,
          -11.17391300201416,
          -12.889717102050781,
          -12.565631866455078,
          5.413780689239502,
          -1.7491958141326904,
          15.206989288330078,
          5.428737163543701,
          -8.711857795715332,
          -7.208314418792725,
          -1.1378575563430786,
          1.6691855192184448,
          -7.21181058883667,
          11.474596977233887,
          3.8406548500061035,
          -0.24688470363616943,
          -13.282132148742676,
          -13.069812774658203,
          7.970432758331299,
          -2.461376428604126,
          -3.0133209228515625,
          -7.765340328216553,
          -13.657767295837402,
          -12.118638038635254,
          -3.667308807373047,
          13.302117347717285,
          10.817145347595215,
          13.964482307434082,
          -6.853641033172607,
          -3.0108587741851807,
          8.915422439575195,
          5.425706386566162,
          -8.416050910949707,
          -2.5178885459899902,
          -14.143017768859863,
          -16.58918571472168,
          -15.300368309020996,
          10.807626724243164,
          6.489422798156738,
          -1.7420486211776733,
          18.05257797241211,
          11.239377975463867,
          7.54009485244751,
          16.228302001953125,
          -1.7738736867904663,
          7.1062493324279785,
          10.457615852355957,
          -3.7866625785827637,
          -7.288468837738037,
          0.5841044783592224,
          -11.489823341369629,
          15.030682563781738,
          -14.975074768066406,
          -18.51984214782715,
          -15.088277816772461,
          -2.659180164337158,
          -16.998577117919922,
          -7.130783557891846,
          5.383110523223877,
          13.605921745300293,
          -19.206470489501953,
          2.5810458660125732,
          -4.902846336364746,
          5.407098293304443,
          -3.5128848552703857,
          -7.515749454498291,
          15.105864524841309,
          2.3766136169433594,
          0.33358147740364075,
          8.343818664550781,
          7.794676303863525,
          9.760266304016113,
          3.821007490158081,
          -9.278827667236328,
          -10.949624061584473,
          4.373833656311035,
          -18.66811180114746,
          -1.5141403675079346,
          10.14184856414795,
          -5.17038106918335,
          13.934905052185059,
          -16.29771614074707,
          12.602306365966797,
          -4.8793511390686035,
          19.631847381591797,
          -7.320755958557129,
          13.485822677612305,
          13.56704330444336,
          -12.217004776000977,
          16.215768814086914,
          -7.288212776184082,
          -12.3997802734375,
          -0.21056824922561646,
          12.302865028381348,
          12.899322509765625,
          15.519909858703613,
          7.847675800323486,
          10.72451114654541,
          -1.530754804611206,
          1.5995495319366455,
          17.06455421447754,
          10.82425308227539,
          6.722080707550049,
          -3.3768935203552246,
          1.3105391263961792,
          -3.414210796356201,
          -2.1641125679016113,
          -18.077194213867188,
          1.454970359802246,
          -1.9958497285842896,
          -8.246953010559082,
          -15.237898826599121,
          10.51133918762207,
          -15.986298561096191,
          -2.0410165786743164,
          -3.5435357093811035,
          7.446173667907715,
          -7.21977424621582,
          10.967070579528809,
          -7.024784564971924,
          -4.141096115112305,
          1.054413080215454,
          5.403225898742676,
          -5.9741644859313965,
          1.5301809310913086,
          12.981627464294434,
          5.313278675079346,
          15.029041290283203,
          -1.3396718502044678,
          -13.428072929382324,
          -11.201844215393066,
          1.4405118227005005,
          -0.024919509887695312,
          -18.660091400146484,
          20.390121459960938,
          1.1819140911102295,
          15.053068161010742,
          7.317579746246338,
          -12.425435066223145,
          12.4473295211792,
          -18.3702335357666,
          -7.09081506729126,
          -7.118467330932617,
          9.787761688232422,
          7.665966510772705,
          -9.7632474899292,
          -0.29025810956954956,
          8.192519187927246,
          10.131097793579102,
          -2.9476113319396973,
          -4.919129371643066,
          16.74534797668457,
          -1.8784576654434204,
          -6.60376501083374,
          -12.005107879638672,
          5.405419826507568,
          -9.734867095947266,
          15.519909858703613,
          11.811193466186523,
          10.89647388458252,
          -8.079843521118164,
          3.8406548500061035,
          20.118526458740234,
          12.152734756469727,
          -1.8784576654434204,
          12.141521453857422,
          20.603683471679688,
          -16.097829818725586,
          8.49427604675293,
          -1.3720554113388062,
          15.53904914855957,
          12.13934326171875,
          10.493791580200195,
          -8.673619270324707,
          15.030682563781738,
          -16.6090145111084,
          1.662007451057434,
          9.795273780822754,
          -19.423582077026367,
          -4.841238021850586,
          6.30609655380249,
          -12.48466968536377,
          -6.654438495635986,
          -9.863590240478516,
          14.420591354370117,
          -10.843403816223145,
          1.0301313400268555,
          15.495811462402344,
          -6.804276943206787,
          3.871630907058716,
          8.228520393371582,
          -1.7657238245010376,
          -7.201544284820557,
          -7.9506731033325195,
          12.026519775390625,
          -2.467860698699951,
          -11.753071784973145,
          -0.2590970993041992,
          11.9149808883667,
          -3.738492965698242,
          -9.044061660766602,
          -14.65682601928711,
          -14.400336265563965,
          19.933441162109375,
          11.760420799255371,
          2.493143081665039,
          -11.746160507202148,
          -3.105828285217285,
          10.959537506103516,
          6.062090873718262,
          -13.449788093566895,
          -7.279345989227295,
          -9.816732406616211,
          -12.437358856201172,
          -15.449301719665527,
          -12.188800811767578,
          4.59347677230835,
          -2.0007009506225586,
          1.6330430507659912,
          7.525490760803223,
          -12.591995239257812,
          -7.319779396057129,
          -12.422183990478516,
          -3.1775145530700684,
          2.3095791339874268,
          -0.23049810528755188,
          9.462075233459473,
          15.008578300476074,
          15.69046688079834,
          19.971162796020508,
          9.923173904418945,
          9.79147720336914,
          13.663827896118164,
          14.441244125366211,
          18.591663360595703,
          -3.4474663734436035,
          -7.201544284820557,
          -11.134212493896484,
          13.195901870727539,
          -4.834595203399658,
          15.030682563781738,
          -8.474103927612305,
          3.810025691986084,
          14.009587287902832,
          12.911016464233398,
          -12.480143547058105,
          8.741964340209961,
          -7.878119468688965,
          -13.496824264526367,
          -13.515210151672363,
          19.370506286621094,
          -1.8367242813110352,
          -16.538509368896484,
          5.26783561706543,
          -1.8411246538162231,
          -1.8291621208190918,
          3.835069179534912,
          0.2066991776227951,
          -13.308570861816406,
          1.4714417457580566,
          -18.340423583984375,
          1.561320424079895,
          -13.142585754394531,
          -7.386507034301758,
          1.5765024423599243,
          -0.23913662135601044,
          8.922892570495605,
          5.392049312591553,
          -5.689688682556152,
          -2.957958459854126,
          -13.883108139038086,
          -1.9996579885482788,
          -13.954208374023438,
          10.094476699829102,
          17.460853576660156,
          -10.296060562133789,
          -12.178540229797363,
          9.798514366149902,
          -6.689333438873291,
          -3.5806195735931396,
          1.4439903497695923,
          -15.116037368774414,
          -14.839127540588379,
          11.140356063842773,
          -4.680283546447754,
          -18.705320358276367,
          -10.235424041748047,
          20.540164947509766,
          -1.7612459659576416,
          5.4175567626953125,
          -3.049722671508789,
          5.373651027679443,
          -6.48387336730957,
          -10.180604934692383,
          1.7021443843841553,
          -10.615665435791016,
          10.732592582702637,
          12.260710716247559,
          -1.8291621208190918,
          11.205862998962402,
          14.579071044921875,
          3.732694149017334,
          -0.22351644933223724,
          -4.884446144104004,
          1.443745493888855,
          -1.8545774221420288,
          -3.035876512527466,
          -4.758906364440918,
          -1.3007816076278687,
          2.3062570095062256,
          -2.206749439239502,
          5.624587535858154,
          1.5052964687347412,
          8.188952445983887,
          5.373817443847656,
          -13.606184005737305,
          -7.211508750915527
         ],
         "y": [
          -7.7997517585754395,
          -12.959405899047852,
          -19.10828399658203,
          2.617610216140747,
          3.1588122844696045,
          -10.768166542053223,
          3.101494073867798,
          3.196906089782715,
          1.5189131498336792,
          0.5196926593780518,
          -0.47862130403518677,
          6.389065742492676,
          4.318670749664307,
          6.297945022583008,
          -14.848029136657715,
          -5.00602912902832,
          2.536543130874634,
          -7.5811967849731445,
          0.32843756675720215,
          10.072733879089355,
          11.920884132385254,
          17.852214813232422,
          10.570630073547363,
          -9.089581489562988,
          -9.630202293395996,
          -5.0203776359558105,
          -21.819440841674805,
          12.355313301086426,
          2.9923508167266846,
          5.0492048263549805,
          -5.0420613288879395,
          9.605534553527832,
          -13.89624309539795,
          12.060453414916992,
          12.410764694213867,
          12.373987197875977,
          17.466264724731445,
          2.675769090652466,
          11.001311302185059,
          17.098793029785156,
          -17.93828773498535,
          16.92033576965332,
          -20.427906036376953,
          12.05924129486084,
          -10.430854797363281,
          10.188042640686035,
          12.032051086425781,
          -13.557616233825684,
          10.904153823852539,
          11.488810539245605,
          -20.82765007019043,
          10.337010383605957,
          5.179768085479736,
          11.549772262573242,
          -6.797656536102295,
          -16.17452049255371,
          15.150601387023926,
          7.066312313079834,
          17.921220779418945,
          11.00617790222168,
          11.425276756286621,
          18.176767349243164,
          2.602457046508789,
          0.3566659986972809,
          11.896879196166992,
          10.825928688049316,
          15.165264129638672,
          -20.825857162475586,
          12.52448558807373,
          17.105314254760742,
          -5.847721576690674,
          4.503591060638428,
          -4.702475070953369,
          -5.950303077697754,
          -10.845426559448242,
          -17.190990447998047,
          7.180487155914307,
          -9.771724700927734,
          -5.0332417488098145,
          10.290654182434082,
          10.187776565551758,
          18.029253005981445,
          9.531071662902832,
          5.364861488342285,
          5.346856117248535,
          11.33763313293457,
          16.097509384155273,
          -8.460357666015625,
          -13.397150039672852,
          -16.711917877197266,
          12.14647102355957,
          8.237712860107422,
          -18.380756378173828,
          15.213215827941895,
          15.892398834228516,
          20.41187286376953,
          24.486669540405273,
          -15.089499473571777,
          4.770031452178955,
          10.422286987304688,
          13.528362274169922,
          15.767823219299316,
          -18.656856536865234,
          -9.878339767456055,
          -4.377182483673096,
          -8.819808006286621,
          -0.16779565811157227,
          -4.449212551116943,
          -2.526972532272339,
          -4.714591026306152,
          9.614758491516113,
          -9.257414817810059,
          11.368819236755371,
          -15.79114055633545,
          -9.252246856689453,
          -14.713552474975586,
          -1.8818336725234985,
          -9.908188819885254,
          -3.0226619243621826,
          -6.286492824554443,
          16.082292556762695,
          -6.575486183166504,
          10.192440032958984,
          -10.218585014343262,
          -14.287079811096191,
          8.766973495483398,
          -5.93790864944458,
          9.831225395202637,
          1.6461118459701538,
          -6.946713447570801,
          -0.3155152499675751,
          4.765841007232666,
          18.02444839477539,
          -4.5949554443359375,
          -3.482485294342041,
          -4.570550441741943,
          12.962730407714844,
          -2.2198352813720703,
          -17.46329116821289,
          11.403958320617676,
          -7.83721923828125,
          0.024242326617240906,
          -17.805347442626953,
          -19.86053466796875,
          11.324762344360352,
          -1.5187411308288574,
          -19.845136642456055,
          18.007888793945312,
          9.602872848510742,
          0.16747969388961792,
          -4.050506114959717,
          2.56278395652771,
          -3.9443976879119873,
          20.222196578979492,
          -17.627826690673828,
          3.9444360733032227,
          10.685401916503906,
          -0.6949248313903809,
          14.52054214477539,
          9.822532653808594,
          -13.865365028381348,
          -2.3409054279327393,
          -1.717780590057373,
          -4.470508098602295,
          -2.5735628604888916,
          2.4992098808288574,
          9.046123504638672,
          16.048246383666992,
          16.118593215942383,
          4.785628318786621,
          -4.353154182434082,
          16.105222702026367,
          -3.3077213764190674,
          24.51054573059082,
          -1.019810438156128,
          -9.71641731262207,
          14.987817764282227,
          10.492588996887207,
          -14.9788179397583,
          8.644312858581543,
          -2.36568284034729,
          -12.421340942382812,
          15.161163330078125,
          -6.18454122543335,
          5.283877372741699,
          -8.219704627990723,
          -2.690183401107788,
          -9.775932312011719,
          -3.1023104190826416,
          12.959341049194336,
          20.64347267150879,
          -16.764755249023438,
          -9.598128318786621,
          -5.124516487121582,
          -13.387530326843262,
          9.863770484924316,
          -3.735250949859619,
          19.517183303833008,
          12.352727890014648,
          15.965378761291504,
          -8.807908058166504,
          -18.32203483581543,
          15.553787231445312,
          11.34948444366455,
          10.635029792785645,
          15.107376098632812,
          -15.748080253601074,
          18.07482147216797,
          18.006860733032227,
          -5.976163864135742,
          -9.139036178588867,
          4.526080131530762,
          15.208277702331543,
          -0.49937504529953003,
          -0.863516628742218,
          -4.03816556930542,
          -10.342907905578613,
          -13.656679153442383,
          19.60624885559082,
          5.095519065856934,
          -4.408751487731934,
          0.9414680004119873,
          -16.68895149230957,
          -17.44985008239746,
          18.735605239868164,
          10.023687362670898,
          6.108365058898926,
          -0.3610013425350189,
          12.090598106384277,
          -9.533265113830566,
          11.630498886108398,
          12.120641708374023,
          -7.735196113586426,
          19.69919776916504,
          -2.055586814880371,
          -15.105253219604492,
          11.394598007202148,
          -17.72242546081543,
          14.987817764282227,
          -1.568310260772705,
          15.31245231628418,
          -10.0592041015625,
          20.41187286376953,
          -3.652705669403076,
          12.736193656921387,
          19.69919776916504,
          12.745881080627441,
          -1.134456753730774,
          -13.54736328125,
          -4.004719257354736,
          -5.8211750984191895,
          14.162056922912598,
          12.870567321777344,
          -3.637547254562378,
          -11.433022499084473,
          18.02444839477539,
          0.3019672632217407,
          -2.3625431060791016,
          18.732877731323242,
          -10.57845401763916,
          12.61750602722168,
          -6.2916693687438965,
          -2.928382158279419,
          10.002262115478516,
          0.3888513743877411,
          -7.850030899047852,
          4.8505778312683105,
          -11.361895561218262,
          14.561626434326172,
          -16.060617446899414,
          20.916303634643555,
          11.948878288269043,
          -6.519623279571533,
          15.278797149658203,
          -18.811140060424805,
          12.051494598388672,
          9.944417953491211,
          -15.271224021911621,
          24.510156631469727,
          -1.1868754625320435,
          5.58095645904541,
          -2.5730483531951904,
          -0.10273255407810211,
          -10.542718887329102,
          2.73190975189209,
          11.293400764465332,
          20.481243133544922,
          -13.165308952331543,
          5.068233966827393,
          15.578530311584473,
          16.735761642456055,
          -15.426547050476074,
          15.858312606811523,
          6.140058517456055,
          12.643856048583984,
          -0.2842651605606079,
          -15.869768142700195,
          20.38591957092285,
          20.42034149169922,
          20.589847564697266,
          19.489919662475586,
          0.0075712245889008045,
          -8.665246963500977,
          -2.8322818279266357,
          11.235006332397461,
          9.60222339630127,
          24.53743553161621,
          -3.6434669494628906,
          17.99492835998535,
          14.144708633422852,
          -2.427269697189331,
          -9.60980224609375,
          18.733274459838867,
          -0.5871565341949463,
          -13.90080738067627,
          -6.89265251159668,
          -3.0056939125061035,
          15.278797149658203,
          -15.46058464050293,
          -0.4947417974472046,
          12.451804161071777,
          18.02444839477539,
          2.110503911972046,
          18.26078224182129,
          -2.1229248046875,
          -0.7796605229377747,
          -3.024833917617798,
          10.731436729431152,
          -15.037681579589844,
          6.060381889343262,
          -9.86217212677002,
          -3.07951021194458,
          19.67133331298828,
          -1.801328420639038,
          17.930389404296875,
          15.992057800292969,
          16.00313377380371,
          19.891653060913086,
          -0.009383104741573334,
          4.088203430175781,
          12.94965648651123,
          -3.254357099533081,
          -9.38458251953125,
          4.209796905517578,
          3.74945068359375,
          15.029949188232422,
          24.513269424438477,
          -13.87448501586914,
          11.390043258666992,
          -19.445728302001953,
          11.510790824890137,
          -9.85049057006836,
          20.504741668701172,
          -0.07121698558330536,
          18.34088706970215,
          -7.041799068450928,
          1.3886972665786743,
          -15.258049011230469,
          18.726327896118164,
          10.034008979797363,
          -2.1413826942443848,
          12.992999076843262,
          -10.366628646850586,
          -10.726366996765137,
          -4.330445766448975,
          -2.4246931076049805,
          -4.166783809661865,
          2.3107707500457764,
          -3.9845967292785645,
          -10.228245735168457,
          11.337746620178223,
          9.887260437011719,
          11.402369499206543,
          10.393332481384277,
          2.3116471767425537,
          -18.412771224975586,
          -12.980189323425293,
          -4.345615863800049,
          0.3552347421646118,
          16.00313377380371,
          10.20541763305664,
          15.033617973327637,
          20.15338134765625,
          24.587215423583984,
          -5.301148891448975,
          12.963533401489258,
          14.846516609191895,
          15.799304962158203,
          -1.3456542491912842,
          8.438480377197266,
          9.608141899108887,
          14.27323055267334,
          -13.512767791748047,
          12.863271713256836,
          11.968408584594727,
          17.940629959106445,
          -5.3242058753967285,
          15.612140655517578
         ]
        }
       ],
       "layout": {
        "legend": {
         "bgcolor": "#F5F6F9",
         "font": {
          "color": "#4D5663"
         }
        },
        "paper_bgcolor": "#F5F6F9",
        "plot_bgcolor": "#F5F6F9",
        "template": {
         "data": {
          "bar": [
           {
            "error_x": {
             "color": "#2a3f5f"
            },
            "error_y": {
             "color": "#2a3f5f"
            },
            "marker": {
             "line": {
              "color": "#E5ECF6",
              "width": 0.5
             }
            },
            "type": "bar"
           }
          ],
          "barpolar": [
           {
            "marker": {
             "line": {
              "color": "#E5ECF6",
              "width": 0.5
             }
            },
            "type": "barpolar"
           }
          ],
          "carpet": [
           {
            "aaxis": {
             "endlinecolor": "#2a3f5f",
             "gridcolor": "white",
             "linecolor": "white",
             "minorgridcolor": "white",
             "startlinecolor": "#2a3f5f"
            },
            "baxis": {
             "endlinecolor": "#2a3f5f",
             "gridcolor": "white",
             "linecolor": "white",
             "minorgridcolor": "white",
             "startlinecolor": "#2a3f5f"
            },
            "type": "carpet"
           }
          ],
          "choropleth": [
           {
            "colorbar": {
             "outlinewidth": 0,
             "ticks": ""
            },
            "type": "choropleth"
           }
          ],
          "contour": [
           {
            "colorbar": {
             "outlinewidth": 0,
             "ticks": ""
            },
            "colorscale": [
             [
              0,
              "#0d0887"
             ],
             [
              0.1111111111111111,
              "#46039f"
             ],
             [
              0.2222222222222222,
              "#7201a8"
             ],
             [
              0.3333333333333333,
              "#9c179e"
             ],
             [
              0.4444444444444444,
              "#bd3786"
             ],
             [
              0.5555555555555556,
              "#d8576b"
             ],
             [
              0.6666666666666666,
              "#ed7953"
             ],
             [
              0.7777777777777778,
              "#fb9f3a"
             ],
             [
              0.8888888888888888,
              "#fdca26"
             ],
             [
              1,
              "#f0f921"
             ]
            ],
            "type": "contour"
           }
          ],
          "contourcarpet": [
           {
            "colorbar": {
             "outlinewidth": 0,
             "ticks": ""
            },
            "type": "contourcarpet"
           }
          ],
          "heatmap": [
           {
            "colorbar": {
             "outlinewidth": 0,
             "ticks": ""
            },
            "colorscale": [
             [
              0,
              "#0d0887"
             ],
             [
              0.1111111111111111,
              "#46039f"
             ],
             [
              0.2222222222222222,
              "#7201a8"
             ],
             [
              0.3333333333333333,
              "#9c179e"
             ],
             [
              0.4444444444444444,
              "#bd3786"
             ],
             [
              0.5555555555555556,
              "#d8576b"
             ],
             [
              0.6666666666666666,
              "#ed7953"
             ],
             [
              0.7777777777777778,
              "#fb9f3a"
             ],
             [
              0.8888888888888888,
              "#fdca26"
             ],
             [
              1,
              "#f0f921"
             ]
            ],
            "type": "heatmap"
           }
          ],
          "heatmapgl": [
           {
            "colorbar": {
             "outlinewidth": 0,
             "ticks": ""
            },
            "colorscale": [
             [
              0,
              "#0d0887"
             ],
             [
              0.1111111111111111,
              "#46039f"
             ],
             [
              0.2222222222222222,
              "#7201a8"
             ],
             [
              0.3333333333333333,
              "#9c179e"
             ],
             [
              0.4444444444444444,
              "#bd3786"
             ],
             [
              0.5555555555555556,
              "#d8576b"
             ],
             [
              0.6666666666666666,
              "#ed7953"
             ],
             [
              0.7777777777777778,
              "#fb9f3a"
             ],
             [
              0.8888888888888888,
              "#fdca26"
             ],
             [
              1,
              "#f0f921"
             ]
            ],
            "type": "heatmapgl"
           }
          ],
          "histogram": [
           {
            "marker": {
             "colorbar": {
              "outlinewidth": 0,
              "ticks": ""
             }
            },
            "type": "histogram"
           }
          ],
          "histogram2d": [
           {
            "colorbar": {
             "outlinewidth": 0,
             "ticks": ""
            },
            "colorscale": [
             [
              0,
              "#0d0887"
             ],
             [
              0.1111111111111111,
              "#46039f"
             ],
             [
              0.2222222222222222,
              "#7201a8"
             ],
             [
              0.3333333333333333,
              "#9c179e"
             ],
             [
              0.4444444444444444,
              "#bd3786"
             ],
             [
              0.5555555555555556,
              "#d8576b"
             ],
             [
              0.6666666666666666,
              "#ed7953"
             ],
             [
              0.7777777777777778,
              "#fb9f3a"
             ],
             [
              0.8888888888888888,
              "#fdca26"
             ],
             [
              1,
              "#f0f921"
             ]
            ],
            "type": "histogram2d"
           }
          ],
          "histogram2dcontour": [
           {
            "colorbar": {
             "outlinewidth": 0,
             "ticks": ""
            },
            "colorscale": [
             [
              0,
              "#0d0887"
             ],
             [
              0.1111111111111111,
              "#46039f"
             ],
             [
              0.2222222222222222,
              "#7201a8"
             ],
             [
              0.3333333333333333,
              "#9c179e"
             ],
             [
              0.4444444444444444,
              "#bd3786"
             ],
             [
              0.5555555555555556,
              "#d8576b"
             ],
             [
              0.6666666666666666,
              "#ed7953"
             ],
             [
              0.7777777777777778,
              "#fb9f3a"
             ],
             [
              0.8888888888888888,
              "#fdca26"
             ],
             [
              1,
              "#f0f921"
             ]
            ],
            "type": "histogram2dcontour"
           }
          ],
          "mesh3d": [
           {
            "colorbar": {
             "outlinewidth": 0,
             "ticks": ""
            },
            "type": "mesh3d"
           }
          ],
          "parcoords": [
           {
            "line": {
             "colorbar": {
              "outlinewidth": 0,
              "ticks": ""
             }
            },
            "type": "parcoords"
           }
          ],
          "pie": [
           {
            "automargin": true,
            "type": "pie"
           }
          ],
          "scatter": [
           {
            "marker": {
             "colorbar": {
              "outlinewidth": 0,
              "ticks": ""
             }
            },
            "type": "scatter"
           }
          ],
          "scatter3d": [
           {
            "line": {
             "colorbar": {
              "outlinewidth": 0,
              "ticks": ""
             }
            },
            "marker": {
             "colorbar": {
              "outlinewidth": 0,
              "ticks": ""
             }
            },
            "type": "scatter3d"
           }
          ],
          "scattercarpet": [
           {
            "marker": {
             "colorbar": {
              "outlinewidth": 0,
              "ticks": ""
             }
            },
            "type": "scattercarpet"
           }
          ],
          "scattergeo": [
           {
            "marker": {
             "colorbar": {
              "outlinewidth": 0,
              "ticks": ""
             }
            },
            "type": "scattergeo"
           }
          ],
          "scattergl": [
           {
            "marker": {
             "colorbar": {
              "outlinewidth": 0,
              "ticks": ""
             }
            },
            "type": "scattergl"
           }
          ],
          "scattermapbox": [
           {
            "marker": {
             "colorbar": {
              "outlinewidth": 0,
              "ticks": ""
             }
            },
            "type": "scattermapbox"
           }
          ],
          "scatterpolar": [
           {
            "marker": {
             "colorbar": {
              "outlinewidth": 0,
              "ticks": ""
             }
            },
            "type": "scatterpolar"
           }
          ],
          "scatterpolargl": [
           {
            "marker": {
             "colorbar": {
              "outlinewidth": 0,
              "ticks": ""
             }
            },
            "type": "scatterpolargl"
           }
          ],
          "scatterternary": [
           {
            "marker": {
             "colorbar": {
              "outlinewidth": 0,
              "ticks": ""
             }
            },
            "type": "scatterternary"
           }
          ],
          "surface": [
           {
            "colorbar": {
             "outlinewidth": 0,
             "ticks": ""
            },
            "colorscale": [
             [
              0,
              "#0d0887"
             ],
             [
              0.1111111111111111,
              "#46039f"
             ],
             [
              0.2222222222222222,
              "#7201a8"
             ],
             [
              0.3333333333333333,
              "#9c179e"
             ],
             [
              0.4444444444444444,
              "#bd3786"
             ],
             [
              0.5555555555555556,
              "#d8576b"
             ],
             [
              0.6666666666666666,
              "#ed7953"
             ],
             [
              0.7777777777777778,
              "#fb9f3a"
             ],
             [
              0.8888888888888888,
              "#fdca26"
             ],
             [
              1,
              "#f0f921"
             ]
            ],
            "type": "surface"
           }
          ],
          "table": [
           {
            "cells": {
             "fill": {
              "color": "#EBF0F8"
             },
             "line": {
              "color": "white"
             }
            },
            "header": {
             "fill": {
              "color": "#C8D4E3"
             },
             "line": {
              "color": "white"
             }
            },
            "type": "table"
           }
          ]
         },
         "layout": {
          "annotationdefaults": {
           "arrowcolor": "#2a3f5f",
           "arrowhead": 0,
           "arrowwidth": 1
          },
          "coloraxis": {
           "colorbar": {
            "outlinewidth": 0,
            "ticks": ""
           }
          },
          "colorscale": {
           "diverging": [
            [
             0,
             "#8e0152"
            ],
            [
             0.1,
             "#c51b7d"
            ],
            [
             0.2,
             "#de77ae"
            ],
            [
             0.3,
             "#f1b6da"
            ],
            [
             0.4,
             "#fde0ef"
            ],
            [
             0.5,
             "#f7f7f7"
            ],
            [
             0.6,
             "#e6f5d0"
            ],
            [
             0.7,
             "#b8e186"
            ],
            [
             0.8,
             "#7fbc41"
            ],
            [
             0.9,
             "#4d9221"
            ],
            [
             1,
             "#276419"
            ]
           ],
           "sequential": [
            [
             0,
             "#0d0887"
            ],
            [
             0.1111111111111111,
             "#46039f"
            ],
            [
             0.2222222222222222,
             "#7201a8"
            ],
            [
             0.3333333333333333,
             "#9c179e"
            ],
            [
             0.4444444444444444,
             "#bd3786"
            ],
            [
             0.5555555555555556,
             "#d8576b"
            ],
            [
             0.6666666666666666,
             "#ed7953"
            ],
            [
             0.7777777777777778,
             "#fb9f3a"
            ],
            [
             0.8888888888888888,
             "#fdca26"
            ],
            [
             1,
             "#f0f921"
            ]
           ],
           "sequentialminus": [
            [
             0,
             "#0d0887"
            ],
            [
             0.1111111111111111,
             "#46039f"
            ],
            [
             0.2222222222222222,
             "#7201a8"
            ],
            [
             0.3333333333333333,
             "#9c179e"
            ],
            [
             0.4444444444444444,
             "#bd3786"
            ],
            [
             0.5555555555555556,
             "#d8576b"
            ],
            [
             0.6666666666666666,
             "#ed7953"
            ],
            [
             0.7777777777777778,
             "#fb9f3a"
            ],
            [
             0.8888888888888888,
             "#fdca26"
            ],
            [
             1,
             "#f0f921"
            ]
           ]
          },
          "colorway": [
           "#636efa",
           "#EF553B",
           "#00cc96",
           "#ab63fa",
           "#FFA15A",
           "#19d3f3",
           "#FF6692",
           "#B6E880",
           "#FF97FF",
           "#FECB52"
          ],
          "font": {
           "color": "#2a3f5f"
          },
          "geo": {
           "bgcolor": "white",
           "lakecolor": "white",
           "landcolor": "#E5ECF6",
           "showlakes": true,
           "showland": true,
           "subunitcolor": "white"
          },
          "hoverlabel": {
           "align": "left"
          },
          "hovermode": "closest",
          "mapbox": {
           "style": "light"
          },
          "paper_bgcolor": "white",
          "plot_bgcolor": "#E5ECF6",
          "polar": {
           "angularaxis": {
            "gridcolor": "white",
            "linecolor": "white",
            "ticks": ""
           },
           "bgcolor": "#E5ECF6",
           "radialaxis": {
            "gridcolor": "white",
            "linecolor": "white",
            "ticks": ""
           }
          },
          "scene": {
           "xaxis": {
            "backgroundcolor": "#E5ECF6",
            "gridcolor": "white",
            "gridwidth": 2,
            "linecolor": "white",
            "showbackground": true,
            "ticks": "",
            "zerolinecolor": "white"
           },
           "yaxis": {
            "backgroundcolor": "#E5ECF6",
            "gridcolor": "white",
            "gridwidth": 2,
            "linecolor": "white",
            "showbackground": true,
            "ticks": "",
            "zerolinecolor": "white"
           },
           "zaxis": {
            "backgroundcolor": "#E5ECF6",
            "gridcolor": "white",
            "gridwidth": 2,
            "linecolor": "white",
            "showbackground": true,
            "ticks": "",
            "zerolinecolor": "white"
           }
          },
          "shapedefaults": {
           "line": {
            "color": "#2a3f5f"
           }
          },
          "ternary": {
           "aaxis": {
            "gridcolor": "white",
            "linecolor": "white",
            "ticks": ""
           },
           "baxis": {
            "gridcolor": "white",
            "linecolor": "white",
            "ticks": ""
           },
           "bgcolor": "#E5ECF6",
           "caxis": {
            "gridcolor": "white",
            "linecolor": "white",
            "ticks": ""
           }
          },
          "title": {
           "x": 0.05
          },
          "xaxis": {
           "automargin": true,
           "gridcolor": "white",
           "linecolor": "white",
           "ticks": "",
           "title": {
            "standoff": 15
           },
           "zerolinecolor": "white",
           "zerolinewidth": 2
          },
          "yaxis": {
           "automargin": true,
           "gridcolor": "white",
           "linecolor": "white",
           "ticks": "",
           "title": {
            "standoff": 15
           },
           "zerolinecolor": "white",
           "zerolinewidth": 2
          }
         }
        },
        "title": {
         "font": {
          "color": "#4D5663"
         }
        },
        "xaxis": {
         "gridcolor": "#E1E5ED",
         "showgrid": true,
         "tickfont": {
          "color": "#4D5663"
         },
         "title": {
          "font": {
           "color": "#4D5663"
          },
          "text": ""
         },
         "zerolinecolor": "#E1E5ED"
        },
        "yaxis": {
         "gridcolor": "#E1E5ED",
         "showgrid": true,
         "tickfont": {
          "color": "#4D5663"
         },
         "title": {
          "font": {
           "color": "#4D5663"
          },
          "text": ""
         },
         "zerolinecolor": "#E1E5ED"
        }
       }
      },
      "text/html": [
       "<div>\n",
       "        \n",
       "        \n",
       "            <div id=\"d88886a4-653a-458e-8be0-da427ab01701\" class=\"plotly-graph-div\" style=\"height:525px; width:100%;\"></div>\n",
       "            <script type=\"text/javascript\">\n",
       "                require([\"plotly\"], function(Plotly) {\n",
       "                    window.PLOTLYENV=window.PLOTLYENV || {};\n",
       "                    window.PLOTLYENV.BASE_URL='https://plot.ly';\n",
       "                    \n",
       "                if (document.getElementById(\"d88886a4-653a-458e-8be0-da427ab01701\")) {\n",
       "                    Plotly.newPlot(\n",
       "                        'd88886a4-653a-458e-8be0-da427ab01701',\n",
       "                        [{\"marker\": {\"color\": \"rgba(255, 153, 51, 1.0)\", \"line\": {\"width\": 1.3}, \"opacity\": 0.8, \"size\": 12, \"symbol\": \"circle\"}, \"mode\": \"markers\", \"name\": \"pytorch\", \"text\": [\"Visualizing the Loss Landscape of Neural Nets\", \"Multimodal Generative Models for Scalable Weakly-Supervised Learning\", \"Neural Voice Cloning with a Few Samples\", \"The Description Length of Deep Learning models\", \"Deep Defense: Training DNNs with Improved Adversarial Robustness\", \"BourGAN: Generative Networks with Metric Embeddings\", \"Bilinear Attention Networks\", \"Breaking the Activation Function Bottleneck through Adaptive Parameterization\", \"Relational recurrent neural networks\", \"Speaker-Follower Models for Vision-and-Language Navigation\", \"ATOMO: Communication-efficient Learning via Atomic Sparsification\", \"One-Shot Unsupervised Cross Domain Translation\", \"3D Steerable CNNs: Learning Rotationally Equivariant Features in Volumetric Data\", \"An intriguing failing of convolutional neural networks and the CoordConv solution\", \"Latent Alignment and Variational Attention\", \"Neural Arithmetic Logic Units\", \"A Unified Feature Disentangler for Multi-Domain Image Translation and Manipulation\", \"Neural Guided Constraint Logic Programming for Program Synthesis\", \"Best of Both Worlds: Transferring Knowledge from Discriminative Learning to a Generative Visual Dialog Model\", \"f-GANs in an Information Geometric Nutshell\", \"One-Sided Unsupervised Domain Mapping\", \"NeuralFDR: Learning Discovery Thresholds from Hypothesis Features\", \"Train longer, generalize better: closing the generalization gap in large batch training of neural networks\", \"MMD GAN: Towards Deeper Understanding of Moment Matching Network\", \"Fisher GAN\", \"ELF: An Extensive, Lightweight and Flexible Research Platform for Real-time Strategy Games\", \"Language Modeling with Recurrent Highway Hypernetworks\", \"Bayesian Compression for Deep Learning\", \"Prototypical Networks for Few-shot Learning\", \"Dual Path Networks\", \"Working hard to know your neighbor's margins: Local descriptor learning loss\", \"Task-based End-to-end Model Learning in Stochastic Optimization\", \"Learning Disentangled Representations with Semi-Supervised Deep Generative Models\", \"Good Semi-supervised Learning That Requires a Bad GAN\", \"Attend and Predict: Understanding Gene Regulation by Selective Attention on Chromatin\", \"Real Time Image Saliency for Black Box Classifiers\", \"COLA: Decentralized Linear Learning\", \"A Simple Unified Framework for Detecting Out-of-Distribution Samples and Adversarial Attacks\", \"Learning Conditioned Graph Structures for Interpretable Visual Question Answering\", \"Reversible Recurrent Neural Networks\", \"Pairwise Confusion for Fine-Grained Visual Classification\", \"Efficient Interactive Annotation of Segmentation Datasets With Polygon-RNN++\", \"GANimation: Anatomically-aware Facial Animation from a Single Image\", \"Deep Expander Networks: Efficient Deep Networks from Graph Theory\", \"OptNet: Differentiable Optimization as a Layer in Neural Networks\", \"Neural Module Networks\", \"3DMV: Joint 3D-Multi-View Prediction for 3D Semantic Scene Segmentation\", \"Learning Category-Specific Mesh Reconstruction from Image Collections\", \"Piggyback: Adapting a Single Network to Multiple Tasks by Learning to Mask Weights\", \"Real-Time Monocular Depth Estimation Using Synthetic Data With Domain Adaptation via Image Style Transfer\", \"Multi-Content GAN for Few-Shot Font Style Transfer\", \"Differentially Private Database Release via Kernel Mean Embeddings\", \"Glimpse Clouds: Human Activity Recognition From Unstructured Feature Points\", \"Hierarchical Boundary-Aware Neural Encoder for Video Captioning\", \"Toward Characteristic-Preserving Image-based Virtual Try-On Network\", \"Optimizing the Latent Space of Generative Networks\", \"Geometry-Aware Learning of Maps for Camera Localization\", \"SST: Single-Stream Temporal Action Proposals\", \"In-Place Activated BatchNorm for Memory-Optimized Training of DNNs\", \"Path-Level Network Transformation for Efficient Architecture Search\", \"Adversarial Learning with Local Coordinate Coding\", \"HashNet: Deep Learning to Hash by Continuation\", \"Partial Transfer Learning With Selective Adversarial Networks\", \"Realtime Multi-Person 2D Pose Estimation Using Part Affinity Fields\", \"Visual Question Reasoning on General Dependency Tree\", \"Annotating Object Instances With a Polygon-RNN\", \"Pyramid Stereo Matching Network\", \"Deep Colorization\", \"Xception: Deep Learning With Depthwise Separable Convolutions\", \"Lip Reading Sentences in the Wild\", \"Inference Suboptimality in Variational Autoencoders\", \"Adversarial Attack on Graph Structured Data\", \"Deformable Convolutional Networks\", \"Repeatability Is Not Enough: Learning Affine Regions via Discriminability\", \"Style Aggregated Network for Facial Landmark Detection\", \"Supervision-by-Registration: An Unsupervised Approach to Improve the Precision of Facial Landmark Detectors\", \"Low-Shot Learning With Large-Scale Diffusion\", \"WILDCAT: Weakly Supervised Learning of Deep ConvNets for Image Classification, Pointwise Localization and Segmentation\", \"Dynamic Multimodal Instance Segmentation Guided by Natural Language Queries\", \"Who Let the Dogs Out? Modeling Dog Behavior From Visual Data\", \"AMNet: Memorability Estimation With Attention\", \"Dynamic Conditional Networks for Few-Shot Learning\", \"Interpretable Explanations of Black Boxes by Meaningful Perturbation\", \"Image Inpainting for Irregular Holes Using Partial Convolutions\", \"Social GAN: Socially Acceptable Trajectories With Generative Adversarial Networks\", \"DeepBach: a Steerable Model for Bach Chorales Generation\", \"Deep Pyramidal Residual Networks\", \"Can Spatiotemporal 3D CNNs Retrace the History of 2D CNNs and ImageNet?\", \"Deep Back-Projection Networks for Super-Resolution\", \"Unsupervised Geometry-Aware Representation for 3D Human Pose Estimation\", \"PSANet: Point-wise Spatial Attention Network for Scene Parsing\", \"Deep Randomized Ensembles for Metric Learning\", \"Toward Controlled Generation of Text\", \"Neural Autoregressive Flows\", \"DeepMVS: Learning Multi-View Stereopsis\", \"Learning Deep Representation for Imbalanced Classification\", \"Predicting Gaze in Egocentric Video by Learning Task-dependent Attention Transition\", \"Real-Time Neural Style Transfer for Videos\", \"Wavelet-SRNet: A Wavelet-Based CNN for Multi-Scale Face Super Resolution\", \"LiteFlowNet: A Lightweight Convolutional Neural Network for Optical Flow Estimation\", \"Decoupled Parallel Backpropagation with Convergence Guarantee\", \"Finding Tiny Faces\", \"Learning Answer Embeddings for Visual Question Answering\", \"Coloring with Words: Guiding Image Colorization Through Text-based Palette Generation\", \"Attention-based Deep Multiple Instance Learning\", \"Decoupled Neural Interfaces using Synthetic Gradients\", \"HiDDeN: Hiding Data with Deep Networks\", \"Image Generation From Scene Graphs\", \"Perturbative Neural Networks\", \"Multi-scale Residual Network for Image Super-Resolution\", \"Disentangling by Factorising\", \"Neural Relational Inference for Interacting Systems\", \"Escape From Cells: Deep Kd-Networks for the Recognition of 3D Point Cloud Models\", \"Surface Networks\", \"Stacked Cross Attention for Image-Text Matching\", \"Stochastic Downsampling for Cost-Adjustable Inference and Improved Regularization in Convolutional Networks\", \"Open Set Domain Adaptation by Backpropagation\", \"Grammar Variational Autoencoder\", \"Deep Learning Under Privileged Information Using Heteroscedastic Dropout\", \"Deep Spectral Clustering Learning\", \"Gated Path Planning Networks\", \"Hierarchical Novelty Detection for Visual Object Recognition\", \"Dropout Inference in Bayesian Neural Networks with Alpha-divergences\", \"Towards Binary-Valued Gates for Robust LSTM Training\", \"Deep Marching Cubes: Learning Explicit Surface Representations\", \"Conditional Image-to-Image Translation\", \"RefineNet: Multi-Path Refinement Networks for High-Resolution Semantic Segmentation\", \"Estimating the Success of Unsupervised Image to Image Translation\", \"FOTS: Fast Oriented Text Spotting With a Unified Network\", \"Learning Efficient Convolutional Networks Through Network Slimming\", \"PiCANet: Learning Pixel-Wise Contextual Attention for Saliency Detection\", \"Raster-To-Vector: Revisiting Floorplan Transformation\", \"Recognizing Human Actions as the Evolution of Pose Estimation Maps\", \"Richer Convolutional Features for Edge Detection\", \"CSRNet: Dilated Convolutional Neural Networks for Understanding the Highly Congested Scenes\", \"Learning Intrinsic Image Decomposition From Watching the World\", \"MegaDepth: Learning Single-View Depth Prediction From Internet Photos\", \"SO-Net: Self-Organizing Network for Point Cloud Analysis\", \"Discriminability Objective for Training Descriptive Captions\", \"Neural Baby Talk\", \"Unsupervised Video Summarization With Adversarial LSTM Networks\", \"PackNet: Adding Multiple Tasks to a Single Network by Iterative Pruning\", \"Boosting Domain Adaptation by Discovering Latent Domains\", \"Rotation Equivariant Vector Field Networks\", \"Learning Type-Aware Embeddings for Fashion Compatibility\", \"Transparency by Design: Closing the Gap Between Performance and Interpretability in Visual Reasoning\", \"Learning Visual Question Answering by Bootstrapping Hard Attention\", \"Deep Clustering for Unsupervised Learning of Visual Features\", \"Joint Person Segmentation and Identification in Synchronized First- and Third-person Videos\", \"ECO: Efficient Convolutional Network for Online Video Understanding\", \"Diverse and Coherent Paragraph Generation from Images\", \"Beyond the Pixel-Wise Loss for Topology-Aware Delineation\", \"No Fuss Distance Metric Learning Using Proxies\", \"MultiPoseNet: Fast Multi-Person Pose Estimation using Pose Residual Network\", \"Improved Fusion of Visual and Language Representations by Dense Symmetric Co-Attention for Visual Question Answering\", \"SparseMAP: Differentiable Sparse Structured Inference\", \"Human Pose Estimation With Parsing Induced Learner\", \"Video Frame Interpolation via Adaptive Convolution\", \"Video Frame Interpolation via Adaptive Separable Convolution\", \"The Statistical Recurrent Unit\", \"GANs for Biological Image Synthesis\", \"Count-Based Exploration with Neural Density Models\", \"Towards Accurate Multi-Person Pose Estimation in the Wild\", \"Towards Realistic Predictors\", \"Jointly Optimize Data Augmentation and Network Training: Adversarial Data Augmentation in Human Pose Estimation\", \"Efficient Neural Architecture Search via Parameters Sharing\", \"Learning Latent Super-Events to Detect Multiple Activities in Videos\", \"Learning Pose Specific Representations by Predicting Different Views\", \"Generative Adversarial Perturbations\", \"Attentive Generative Adversarial Network for Raindrop Removal From a Single Image\", \"Few-Shot Image Recognition by Predicting Parameters From Activations\", \"Low-Shot Learning With Imprinted Weights\", \"Optical Flow Estimation Using a Spatial Pyramid Network\", \"Following Gaze in Video\", \"Learning to Reweight Examples for Robust Deep Learning\", \"Action Sets: Weakly Supervised Action Segmentation Without Ordering Constraints\", \"End-to-End Weakly-Supervised Semantic Alignment\", \"Deep One-Class Classification\", \"Real-World Repetition Estimation by Div, Grad and Curl\", \"Learning to Separate Object Sounds by Watching Unlabeled Video\", \"ESPNet: Efficient Spatial Pyramid of Dilated Convolutions for Semantic Segmentation\", \"Generate to Adapt: Aligning Domains Using Generative Adversarial Networks\", \"Learning From Synthetic Data: Addressing Domain Shift for Semantic Segmentation\", \"Pixels, Voxels, and Views: A Study of Shape Representations for Single View 3D Object Shape Prediction\", \"Real-Time Single Image and Video Super-Resolution Using an Efficient Sub-Pixel Convolutional Neural Network\", \"Attentive Recurrent Comparators\", \"Actor and Observer: Joint Modeling of First and Third-Person Videos\", \"VITAL: VIsual Tracking via Adversarial Learning\", \"Exploiting the Potential of Standard Convolutional Autoencoders for Image Restoration by Evolutionary Search\", \"PWC-Net: CNNs for Optical Flow Using Pyramid, Warping, and Cost Volume\", \"Multiple Instance Detection Network With Online Instance Classifier Refinement\", \"Black Box FDR\", \"Real-Time Seamless Single Shot 6D Object Pose Prediction\", \"3D-CODED: 3D Correspondences by Deep Deformation\", \"HybridNet: Classification and Reconstruction Cooperation for Semi-Supervised Learning\", \"Interpretable Intuitive Physics Model\", \"A Closer Look at Spatiotemporal Convolutions for Action Recognition\", \"Learning Longer-term Dependencies in RNNs with Auxiliary Losses\", \"Learning to Adapt Structured Output Space for Semantic Segmentation\", \"The Mirage of Action-Dependent Baselines in Reinforcement Learning\", \"Learning Shape Abstractions by Assembling Volumetric Primitives\", \"MoCoGAN: Decomposing Motion and Content for Video Generation\", \"Learning Superpixels With Segmentation-Aware Affinity Loss\", \"Adversarial Discriminative Domain Adaptation\", \"Simultaneous Deep Transfer Across Domains and Tasks\", \"Deep Image Prior\", \"Deep Feature Interpolation for Image Content Changes\", \"Conditional Similarity Networks\", \"Gray-box Adversarial Training\", \"Revisiting IM2GPS in the Deep Learning Era\", \"Learning a Discriminative Filter Bank Within a CNN for Fine-Grained Recognition\", \"Multi-Label Image Recognition by Recurrently Discovering Attentional Regions\", \"Repulsion Loss: Detecting Pedestrians in a Crowd\", \"Min-Entropy Latent Model for Weakly Supervised Object Detection\", \"Bidirectional Retrieval Made Simple\", \"Depth-aware CNN for RGB-D Segmentation\", \"Variance Regularized Counterfactual Risk Minimization via Variational Divergence Minimization\", \"Deep k-Means: Re-Training and Parameter Sharing with Harder Cluster Assignments for Compressing Deep Convolutions\", \"Compressed Video Action Recognition\", \"Exploit the Unknown Gradually: One-Shot Video-Based Person Re-Identification by Stepwise Learning\", \"Unsupervised Feature Learning via Non-Parametric Instance Discrimination\", \"Integral Human Pose Regression\", \"Recurrent Squeeze-and-Excitation Context Aggregation Net for Single Image Deraining\", \"Aggregated Residual Transformations for Deep Neural Networks\", \"Mutual Learning to Adapt for Joint Human Parsing and Pose Estimation\", \"Pose Partition Networks for Multi-Person Pose Estimation\", \"Deep Texture Manifold for Ground Terrain Recognition\", \"AttnGAN: Fine-Grained Text to Image Generation With Attentional Generative Adversarial Networks\", \"Mean Field Multi-Agent Reinforcement Learning\", \"DenseASPP for Semantic Segmentation in Street Scenes\", \"Learning Face Age Progression: A Pyramid Architecture of GANs\", \"Macro-Micro Adversarial Network for Human Parsing\", \"PlaneMatch: Patch Coplanarity Prediction for Robust RGB-D Reconstruction\", \"Factorizable Net: An Efficient Subgraph-based Framework for Scene Graph Generation\", \"GraphRNN: Generating Realistic Graphs with Deep Auto-regressive Models\", \"Image Super-Resolution Using Very Deep Residual Channel Attention Networks\", \"Dilated Residual Networks\", \"MAttNet: Modular Attention Network for Referring Expression Comprehension\", \"Learning to Promote Saliency Detectors\", \"Learning to Navigate for Fine-grained Classification\", \"S3Pool: Pooling With Stochastic Spatial Sampling\", \"Noisy Natural Gradient as Variational Inference\", \"Partial Adversarial Domain Adaptation\", \"Adversarial Complementary Learning for Weakly Supervised Object Localization\", \"Densely Connected Pyramid Dehazing Network\", \"Density-Aware Single Image De-Raining Using a Multi-Stream Dense Network\", \"Shift-Net: Image Inpainting via Deep Feature Rearrangement\", \"Distractor-aware Siamese Networks for Visual Object Tracking\", \"Improving Generalization via  Scalable Neighborhood Component Analysis\", \"EAST: An Efficient and Accurate Scene Text Detector\", \"Weakly Supervised Instance Segmentation Using Class Peak Response\", \"Fast Training of Triplet-Based Deep Binary Embedding Networks\", \"Towards Effective Low-Bitwidth Convolutional Neural Networks\", \"Saliency Detection in 360\\u00b0 Videos\", \"Learning Transferable Architectures for Scalable Image Recognition\", \"LayoutNet: Reconstructing the 3D Room Layout From a Single RGB Image\"], \"textfont\": {\"color\": \"#4D5663\"}, \"type\": \"scatter\", \"x\": [-2.684140682220459, 0.49825507402420044, 9.316398620605469, 0.32123181223869324, 2.955179452896118, -15.369030952453613, -18.640644073486328, -14.469246864318848, -15.301263809204102, -14.186448097229004, -18.572532653808594, -3.4132814407348633, 0.8316057324409485, -5.064718723297119, -5.223972320556641, -16.22689437866211, -16.56171417236328, -14.874223709106445, -13.5542573928833, -11.535679817199707, -11.348140716552734, -1.9284207820892334, 2.1756160259246826, 2.5636987686157227, 0.2520822286605835, -18.34830093383789, -6.9692511558532715, -11.231633186340332, 1.2970401048660278, 8.685247421264648, -3.918154001235962, -7.351520538330078, -16.966537475585938, -4.933010101318359, -0.6958796977996826, 7.966084957122803, -7.039394378662109, -7.720957279205322, -10.506808280944824, -4.648492336273193, -9.253328323364258, 17.271961212158203, -9.338743209838867, -2.484617233276367, -8.68237590789795, 15.095970153808594, -15.957009315490723, -8.645133018493652, 0.5641527771949768, 5.083847999572754, 13.102896690368652, -9.52187442779541, 5.848556041717529, 17.358747482299805, -16.018878936767578, 0.08346008509397507, 12.263566017150879, 2.189725875854492, 15.234375953674316, 5.527338981628418, -11.990315437316895, 11.803010940551758, 12.927582740783691, 5.6517157554626465, 12.286896705627441, 0.6323307156562805, -4.723989009857178, 12.312761306762695, 18.294170379638672, 19.677017211914062, -9.348336219787598, -11.405265808105469, 1.5813531875610352, -1.4508826732635498, 18.33319091796875, 5.568967819213867, 8.304447174072266, 5.696475028991699, -15.69351577758789, 13.014630317687988, 14.19536018371582, 16.36920928955078, 4.346724510192871, -1.6429693698883057, 16.378976821899414, -11.85798168182373, 18.42620277404785, 19.49966812133789, 20.223888397216797, -10.203141212463379, 8.795008659362793, -1.3694294691085815, -9.671428680419922, -11.889986038208008, -4.933437347412109, -4.927951335906982, -2.136983633041382, 20.781009674072266, 10.556600570678711, -4.540881156921387, -2.0525848865509033, 5.696475028991699, 5.07912015914917, -4.001466751098633, -4.5047736167907715, -11.292922973632812, -2.4269590377807617, 14.89988899230957, 10.705323219299316, 8.689496040344238, -0.5653109550476074, -9.280948638916016, 3.169163942337036, 17.03103256225586, -4.6071271896362305, 1.6305054426193237, -12.518197059631348, -4.618255138397217, 4.120645523071289, -5.265749454498291, -7.281893730163574, 17.32773780822754, -11.178736686706543, -11.603254318237305, -18.58983612060547, 8.074355125427246, 8.382620811462402, -9.616155624389648, 3.634024143218994, 10.6005220413208, 9.138822555541992, 7.7134881019592285, -5.187151908874512, 5.502796649932861, 3.3372557163238525, 15.511493682861328, 9.145758628845215, 21.005706787109375, 15.018238067626953, 13.189264297485352, 16.2751522064209, 13.250818252563477, 17.328413009643555, 8.496591567993164, -15.709115028381348, 17.275785446166992, 5.1628546714782715, 3.0273330211639404, -2.0224945545196533, 8.875982284545898, 18.52450942993164, -4.450682163238525, 0.34852397441864014, -10.160408973693848, 3.052690029144287, -1.176493525505066, 17.721996307373047, 8.319046020507812, 12.145034790039062, -5.277063369750977, 13.639415740966797, -0.9848296046257019, 4.395261764526367, 5.451540470123291, 1.2297760248184204, 12.941601753234863, -0.6353302001953125, 0.1760217696428299, 12.490093231201172, 19.42536735534668, 5.07912015914917, 15.319294929504395, 5.67793607711792, -1.6900337934494019, 0.3799425959587097, 5.083140850067139, 8.15590763092041, -2.44468355178833, 6.709240913391113, -8.520983695983887, -12.703033447265625, 17.326351165771484, 4.120645523071289, -0.9703726768493652, 15.581171035766602, 16.163108825683594, -1.203205943107605, -11.30169677734375, 6.624324798583984, 2.8606512546539307, -5.477090358734131, -9.649797439575195, -12.098286628723145, -7.215047836303711, 1.7555841207504272, -7.371877193450928, 19.431119918823242, -9.27474308013916, -11.437824249267578, -11.471033096313477, -2.7875282764434814, 17.32697296142578, 13.164412498474121, 15.245105743408203, 19.912900924682617, 5.07912015914917, 8.382620811462402, 5.696475028991699, -1.3525283336639404, 15.164237022399902, 8.707104682922363, 6.211130619049072, 3.86240291595459, -7.1444411277771, 18.532184600830078, -8.59642219543457, -11.244284629821777, 1.012722373008728, 11.239538192749023, 12.490093231201172, 17.32773780822754, 1.5142345428466797, -6.896894931793213, 20.397008895874023, 12.925217628479004, -9.491036415100098, 12.641077041625977, -0.5160855054855347, -11.242379188537598, 16.296329498291016, 5.324472427368164, -8.179872512817383, -1.2002731561660767, -9.266790390014648, -9.443465232849121, -1.4302247762680054, 18.46268653869629, 17.08452796936035, 4.422619342803955, -4.177286148071289, 6.199511528015137, -9.992664337158203, -1.4664095640182495, -6.908980369567871, -4.614994525909424, 18.162946701049805, -1.3697141408920288, -7.155501365661621, 1.0675371885299683, 19.990629196166992, 15.034621238708496, 12.948015213012695, 13.1284818649292, -9.139873504638672, 6.739853382110596, 6.563159942626953], \"y\": [-9.076362609863281, -11.790557861328125, -10.981833457946777, -11.704024314880371, -16.725404739379883, 6.785719871520996, -10.755471229553223, -0.0631733313202858, 4.304014682769775, -14.635096549987793, 0.4816434979438782, 9.653363227844238, -3.941148519515991, -13.566780090332031, -13.462061882019043, 4.189144134521484, 4.1154069900512695, -13.367066383361816, -5.71966028213501, 10.363505363464355, 12.070815086364746, -5.561746120452881, -5.84678840637207, -18.102375030517578, -12.71772575378418, 10.938164710998535, 4.530798435211182, 9.823363304138184, -0.8077804446220398, -11.38918685913086, 1.7338002920150757, 4.18464994430542, -13.808900833129883, 2.699838399887085, -5.3269171714782715, -9.067055702209473, 9.654850959777832, -19.7283878326416, -13.04228687286377, -21.863630294799805, -6.9861955642700195, 7.468615531921387, -7.121572971343994, -17.212682723999023, -0.060899458825588226, -14.77501392364502, -17.531286239624023, -12.04974365234375, -18.53432273864746, 4.935922622680664, 4.3012590408325195, -7.9517621994018555, 6.3210344314575195, -11.970766067504883, -9.441694259643555, -11.140862464904785, 3.7189953327178955, 2.515287160873413, -8.691079139709473, -13.273605346679688, -9.564146041870117, 3.2736377716064453, 4.4948625564575195, -0.9634976983070374, 3.7308661937713623, 2.1988461017608643, -5.528948783874512, 8.158591270446777, 1.1086785793304443, 2.5188043117523193, -0.32235223054885864, -18.805835723876953, -2.0170602798461914, 4.239838123321533, 1.1541186571121216, -13.282205581665039, 1.4994322061538696, -1.165755033493042, -17.621885299682617, -10.25838851928711, -7.849348545074463, -4.31615686416626, 0.9656359553337097, -15.021125793457031, -11.709273338317871, 0.2116512656211853, 1.6148390769958496, -2.941679000854492, -0.5475978851318359, -0.9251365661621094, -13.759784698486328, 4.481995582580566, -6.3254218101501465, -5.141777515411377, 6.837114334106445, -5.380268096923828, -14.838587760925293, -1.5194391012191772, -15.101459503173828, 6.672017574310303, -14.460585594177246, -1.165755033493042, 4.949007511138916, -17.99323844909668, -6.228446006774902, -5.27979040145874, -15.049402236938477, 5.160935401916504, -15.009761810302734, -11.55947208404541, 3.63305926322937, -17.38563346862793, 6.035023212432861, -12.832472801208496, -19.520103454589844, -2.275744915008545, -9.952835083007812, -21.833452224731445, 4.536669731140137, -0.9686166048049927, -15.008926391601562, 7.443411350250244, -5.144576072692871, -9.12573528289795, -4.439999580383301, 1.9053568840026855, -0.39967137575149536, -0.8952298760414124, 5.229376792907715, -15.02877426147461, 6.38795280456543, 2.4783926010131836, -14.176817893981934, -0.45745787024497986, 5.830535411834717, 6.714743614196777, 6.399466037750244, -1.0010210275650024, 5.292370319366455, -15.746440887451172, -11.52593994140625, 4.351266384124756, 7.432515621185303, -0.3285149931907654, -17.540996551513672, -13.100541114807129, -13.924836158752441, -16.92334747314453, -13.921056747436523, -13.824224472045898, -4.833127975463867, -6.604599475860596, 2.2009165287017822, -0.9924736618995667, 3.0326783657073975, -11.545234680175781, -6.859641075134277, -0.45409899950027466, 3.5896480083465576, -0.9921842217445374, -10.664521217346191, 8.093976020812988, 0.8750638961791992, -13.429981231689453, -7.988117694854736, -8.190033912658691, 3.2116153240203857, 2.3650193214416504, 8.688178062438965, 2.314720630645752, 4.949007511138916, -14.737446784973145, -1.1438788175582886, 2.801792860031128, -18.552141189575195, 4.940000534057617, 1.747254729270935, -17.241065979003906, 6.885715007781982, -12.462995529174805, -0.09195222705602646, 7.44736385345459, 4.536669731140137, -15.482197761535645, 6.733061790466309, -11.210517883300781, 2.950914144515991, -5.553422927856445, -11.206459999084473, 2.88649582862854, -5.526525974273682, -0.38083916902542114, -9.871397018432617, -8.855179786682129, -9.338640213012695, -8.769584655761719, 2.3885574340820312, -12.105027198791504, -18.86020278930664, -8.93363094329834, -2.5856103897094727, 7.446593761444092, -10.377866744995117, -14.02901840209961, -3.7759830951690674, 4.949007511138916, -0.39967137575149536, -1.165755033493042, -15.246465682983398, -14.078193664550781, -11.33519172668457, 16.521587371826172, 4.02047872543335, -2.1231114864349365, -4.7365593910217285, -11.498568534851074, -15.307389259338379, -10.696196556091309, 9.991361618041992, 8.688178062438965, 7.443411350250244, -8.99156665802002, -18.453853607177734, -0.789262056350708, -8.208121299743652, -8.049628257751465, -15.398721694946289, 3.426880121231079, -15.284027099609375, -11.741798400878906, 0.33953601121902466, -10.250543594360352, -11.129249572753906, -7.025365352630615, -0.3324722945690155, 4.735988616943359, 1.696395993232727, -12.377690315246582, 0.8894609808921814, -18.39005470275879, 16.332359313964844, -17.66442108154297, -10.94797134399414, -1.9965214729309082, 6.586668014526367, -6.666912078857422, 4.496456623077393, -15.121639251708984, -18.49070167541504, -3.5034425258636475, 5.2912983894348145, 8.769012451171875, 8.869354248046875, -2.0771477222442627, 6.948448657989502, 6.764699459075928]}, {\"marker\": {\"color\": \"rgba(55, 128, 191, 1.0)\", \"line\": {\"width\": 1.3}, \"opacity\": 0.8, \"size\": 12, \"symbol\": \"circle\"}, \"mode\": \"markers\", \"name\": \"tensorflow\", \"text\": [\"PointCNN\", \"L4: Practical loss-based stepsize adaptation for deep learning\", \"Adversarial Logit Pairing\", \"Realistic Evaluation of Deep Semi-Supervised Learning Algorithms\", \"DVAE#: Discrete Variational Autoencoders with Relaxed Boltzmann Priors\", \"Hyperbolic Neural Networks\", \"Learning towards Minimum Hyperspherical Energy\", \"Generalizing to Unseen Domains via Adversarial Data Augmentation\", \"On GANs and GMMs\", \"Assessing Generative Models via Precision and Recall\", \"Unsupervised Attention-guided Image-to-Image Translation\", \"Generative Neural Machine Translation\", \"Banach Wasserstein GAN\", \"Neural Code Comprehension: A Learnable Representation of Code Semantics\", \"Glow: Generative Flow with Invertible 1x1 Convolutions\", \"Discovery of Latent 3D Keypoints via End-to-end Geometric Reasoning\", \"Adaptive Skip Intervals: Temporal Abstraction for Recurrent Dynamical Models\", \"Video-to-Video Synthesis\", \"Generalisation in humans and deep neural networks\", \"Deep Subspace Clustering Networks\", \"Dilated Recurrent Neural Networks\", \"Structured Embedding Models for Grouped Data\", \"Learning a Multi-View Stereo Machine\", \"Universal Style Transfer via Feature Transforms\", \"Toward Multimodal Image-to-Image Translation\", \"Deep Mean-Shift Priors for Image Restoration\", \"SchNet: A continuous-filter convolutional neural network for modeling quantum interactions\", \"Inductive Representation Learning on Large Graphs\", \"Mean teachers are better role models: Weight-averaged consistency targets improve semi-supervised deep learning results\", \"TernGrad: Ternary Gradients to Reduce Communication in Distributed Deep Learning\", \"Learning Multiple Tasks with Multilinear Relationship Networks\", \"The Numerics of GANs\", \"Stabilizing Training of Generative Adversarial Networks through Regularization\", \"Training Deep Networks without Learning Rates Through Coin Betting\", \"Few-Shot Learning Through an Information Retrieval  Lens\", \"Differentiable Learning of Logical Rules for Knowledge Base Reasoning\", \"OnACID: Online Analysis of Calcium Imaging Data in Real Time\", \"Toward Goal-Driven Neural Network Models for the Rodent Whisker-Trigeminal System\", \"Predicting Organic Reaction Outcomes with Weisfeiler-Lehman Network\", \"REBAR: Low-variance, unbiased gradient estimates for discrete latent variable models\", \"Dual Discriminator Generative Adversarial Nets\", \"Bridging the Gap Between Value and Policy Based Reinforcement Learning\", \"Convolutional Gaussian Processes\", \"Deep Lattice Networks and Partial Monotonic Functions\", \"Hierarchical Attentive Recurrent Tracking\", \"Learning to Compose Domain-Specific Transformations for Data Augmentation\", \"Streaming Sparse Gaussian Process Approximations\", \"Spherical convolutions and their application in molecular modelling\", \"Neural system identification for large populations separating \\u0093what\\u0094 and \\u0093where\\u0094\", \"A Disentangled Recognition and Nonlinear Dynamics Model for Unsupervised Learning\", \"Bayesian GAN\", \"Geometric Matrix Completion with Recurrent Multi-Graph Neural Networks\", \"Diving into the shallows: a computational perspective on large-scale shallow learning\", \"InfoGAIL: Interpretable Imitation Learning from Visual Demonstrations\", \"Deep Hyperspherical Learning\", \"On-the-fly Operation Batching in Dynamic Computation Graphs\", \"Streaming Weak Submodularity: Interpreting Neural Networks on the Fly\", \"Multi-Information Source Optimization\", \"Doubly Stochastic Variational Inference for Deep Gaussian Processes\", \"QMDP-Net: Deep Learning for Planning under Partial Observability\", \"A Unified Approach to Interpreting Model Predictions\", \"Context Selection for Embedding Models\", \"Learning to Prune Deep Neural Networks via Layer-wise Optimal Brain Surgeon\", \"DropoutNet: Addressing Cold Start in Recommender Systems\", \"PointNet++: Deep Hierarchical Feature Learning on Point Sets in a Metric Space\", \"A-NICE-MC: Adversarial Training for MCMC\", \"Riemannian approach to batch normalization\", \"Triangle Generative Adversarial Networks\", \"Scalable trust-region method for deep reinforcement learning using Kronecker-factored approximation\", \"Hybrid Reward Architecture for Reinforcement Learning\", \"AdaGAN: Boosting Generative Models\", \"Gradient descent GAN optimization is locally stable\", \"Do Deep Neural Networks Suffer from Crowding?\", \"Improved Training of Wasserstein GANs\", \"Attention is All you Need\", \"Value Prediction Network\", \"Causal Effect Inference with Deep Latent-Variable Models\", \"Modulating early visual processing by language\", \"GANs Trained by a Two Time-Scale Update Rule Converge to a Local Nash Equilibrium\", \"Neural Expectation Maximization\", \"Style Transfer from Non-Parallel Text by Cross-Alignment\", \"On Word Embedding Dimensionality\", \"Mapping Images to Scene Graphs with Permutation-Invariant Structured Prediction\", \"Improving Shape Deformation in Unsupervised Image-to-Image Translation\", \"An Improved Deep Learning Architecture for Person Re-Identification\", \"Learning Pixel-Level Semantic Affinity With Image-Level Supervision for Weakly Supervised Semantic Segmentation\", \"Defense Against Universal Adversarial Perturbations\", \"Light Field Intrinsics With a Deep Encoder-Decoder Network\", \"Input Convex Neural Networks\", \"Zero-Shot Object Detection\", \"VQA: Visual Question Answering\", \"Wasserstein Generative Adversarial Networks\", \"A Style-Aware Content Loss for Real-time HD Style Transfer\", \"Synthesizing Robust Adversarial Examples\", \"LCNN: Lookup-Based Convolutional Neural Network\", \"Deep Watershed Transform for Instance Segmentation\", \"CVAE-GAN: Fine-Grained Image Generation Through Asymmetric Training\", \"Semi-supervised Adversarial Learning to Generate Photorealistic Face Images of New Identities from 3D Morphable Model\", \"Convolutional Color Constancy\", \"Visual Feature Attribution Using Wasserstein GANs\", \"Deep Unsupervised Similarity Learning Using Partially Ordered Sets\", \"The Lov\\u00e1sz-Softmax Loss: A Tractable Surrogate for the Optimization of the Intersection-Over-Union Measure in Neural Networks\", \"Simple Baselines for Human Pose Estimation and Tracking\", \"NetGAN: Generating Graphs via Random Walks\", \"Compressed Sensing using Generative Models\", \"Acquisition of Localization Confidence for Accurate Object Detection\", \"Predict and Constrain: Modeling Cardinality in Deep Structured Prediction\", \"Conditional Image-Text Embedding Networks\", \"Deep TextSpotter: An End-To-End Trainable Scene Text Localization and Recognition Framework\", \"One-Shot Video Object Segmentation\", \"Neural Sign Language Translation\", \"SubUNets: End-To-End Hand Shape and Continuous Sign Language Recognition\", \"HashGAN: Deep Learning to Hash With Pair Conditional Wasserstein GAN\", \"SketchyScene: Richly-Annotated Scene Sketches\", \"Deep Adaptive Image Clustering\", \"Adversarial Time-to-Event Modeling\", \"Learning K-way D-dimensional Discrete Codes for Compact Embedding Representations\", \"DRACO: Byzantine-resilient Distributed Training via Redundant Gradients\", \"AON: Towards Arbitrarily-Oriented Text Recognition\", \"Progressive Neural Architecture Search\", \"Cascaded Pyramid Network for Multi-Person Pose Estimation\", \"Deep Photo Enhancer: Unpaired Learning for Image Enhancement From Photographs With GANs\", \"Knowledge Aided Consistency for Weakly Supervised Phrase Grounding\", \"LiDAR-Video Driving Dataset: Learning Driving Policies Effectively\", \"Multi-View 3D Object Detection Network for Autonomous Driving\", \"Photographic Image Synthesis With Cascaded Refinement Networks\", \"Query-Guided Regression Network With Context Policy for Phrase Grounding\", \"StarGAN: Unified Generative Adversarial Networks for Multi-Domain Image-to-Image Translation\", \"VidLoc: A Deep Spatio-Temporal Model for 6-DoF Video-Clip Relocalization\", \"AdaNet: Adaptive Structural Learning of Artificial Neural Networks\", \"Large Scale Fine-Grained Categorization and Domain-Specific Transfer Learning\", \"Learning to Evaluate Image Captioning\", \"Pixel Recursive Super Resolution\", \"Stochastic Generative Hashing\", \"ScanComplete: Large-Scale Scene Completion and Semantic Segmentation for 3D Scans\", \"Language Modeling with Gated Convolutional Networks\", \"Attributes2Classname: A Discriminative Model for Attribute-Based Unsupervised Zero-Shot Learning\", \"Stochastic Video Generation with a Learned Prior\", \"Image Manipulation with Perceptual Discriminators\", \"Eye In-Painting With Exemplar Generative Adversarial Networks\", \"Dance Dance Convolution\", \"Unsupervised holistic image generation from key local patches\", \"LQ-Nets: Learned Quantization for Highly Accurate and Compact Deep Neural Networks\", \"Is Robustness the Cost of Accuracy? -- A Comprehensive Study on the Robustness of 18 Deep Image Classification Models\", \"Structured Uncertainty Prediction Networks\", \"GraphBit: Bitwise Interaction Mining via Deep Reinforcement Learning\", \"RPAN: An End-To-End Recurrent Pose-Attention Network for Action Recognition in Videos\", \"BlitzNet: A Real-Time Deep Network for Scene Understanding\", \"Predicting Depth, Surface Normals and Semantic Labels With a Common Multi-Scale Convolutional Architecture\", \"Robust Physical-World Attacks on Deep Learning Visual Classification\", \"A Point Set Generation Network for 3D Object Reconstruction From a Single Image\", \"End-to-End Learning of Motion Representation for Video Understanding\", \"Recovering 3D Planes from a Single Image via Convolutional Neural Networks\", \"Spatially Adaptive Computation Time for Residual Networks\", \"Model-Agnostic Meta-Learning for Fast Adaptation of Deep Networks\", \"Input Switched Affine Networks: An RNN Architecture Designed for Interpretability\", \"Single Image 3D Without a Single 3D Image\", \"Bilevel Programming for Hyperparameter Optimization and Meta-Learning\", \"Compact Bilinear Pooling\", \"Learning Generative ConvNets via Multi-Grid Modeling and Sampling\", \"Convolutional Sequence to Sequence Learning\", \"Dynamic Few-Shot Visual Learning Without Forgetting\", \"Visualizing and Understanding Atari Agents\", \"Learning Single-View 3D Reconstruction with Limited Pose Supervision\", \"On Calibration of Modern Neural Networks\", \"DeLiGAN : Generative Adversarial Networks for Diverse and Limited Data\", \"Associative Domain Adaptation\", \"Learning by Association -- A Versatile Semi-Supervised Training Method for Neural Networks\", \"Automatic Spatially-Aware Fashion Concept Discovery\", \"Learning unknown ODE models with Gaussian processes\", \"Deep Residual Learning for Image Recognition\", \"Mask R-CNN\", \"Deeply Supervised Salient Object Detection With Short Connections\", \"Beyond Face Rotation: Global and Local Perception GAN for Photorealistic and Identity Preserving Frontal View Synthesis\", \"CondenseNet: An Efficient DenseNet Using Learned Group Convolutions\", \"Densely Connected Convolutional Networks\", \"Speed/Accuracy Trade-Offs for Modern Convolutional Object Detectors\", \"Pointwise Convolutional Neural Networks\", \"Fast and Accurate Single Image Super-Resolution via Information Distillation Network\", \"Deep 360 Pilot: Learning a Deep Agent for Piloting Through 360deg Sports Videos\", \"FC4: Fully Convolutional Color Constancy With Confidence-Weighted Pooling\", \"Learning to Reason: End-To-End Module Networks for Visual Question Answering\", \"Modeling Relationships in Referential Expressions With Compositional Modular Networks\", \"DSLR-Quality Photos on Mobile Devices With Deep Convolutional Networks\", \"Black-box Adversarial Attacks with Limited Queries and Information\", \"Fighting Fake News: Image Splice Detection via Learned Self-Consistency\", \"Image Specificity\", \"Efficient end-to-end learning for quantizable representations\", \"Composite Functional Gradient Learning of Generative  Adversarial Models\", \"DenseCap: Fully Convolutional Localization Networks for Dense Captioning\", \"Total Capture: A 3D Deformation Model for Tracking Faces, Hands, and Bodies\", \"Adaptive Affinity Fields for Semantic Segmentation\", \"Statistically-motivated Second-order Pooling\", \"Video Pixel Networks\", \"Efficient Neural Audio Synthesis\", \"End-to-End Recovery of Human Shape and Pose\", \"Convolutional Neural Networks for No-Reference Image Quality Assessment\", \"Geometric Loss Functions for Camera Pose Regression With Deep Learning\", \"PoseNet: A Convolutional Network for Real-Time 6-DOF Camera Relocalization\", \"Simple Does It: Weakly Supervised Instance and Semantic Segmentation\", \"Learning to Discover Cross-Domain Relations with Generative Adversarial Networks\", \"SplitNet: Learning to Semantically Split Deep Networks for Parameter Reduction and Model Parallelization\", \"Accurate Image Super-Resolution Using Very Deep Convolutional Networks\", \"Context Embedding Networks\", \"Deeply-Recursive Convolutional Network for Image Super-Resolution\", \"Deep Hand: How to Train a CNN on 1 Million Hand Images When Your Data Is Continuous and Weakly Labelled\", \"RON: Reverse Connection With Objectness Prior Networks for Object Detection\", \"A Hierarchical Approach for Generating Descriptive Image Paragraphs\", \"Learning to Push the Limits of Efficient FFT-Based Image Deconvolution\", \"Deep Laplacian Pyramid Networks for Fast and Accurate Super-Resolution\", \"DeepVS: A Deep Learning Based Video Saliency Prediction Approach\", \"TI-Pooling: Transformation-Invariant Pooling for Feature Learning in Convolutional Neural Networks\", \"Fast Algorithms for Convolutional Neural Networks\", \"Introspective Neural Networks for Generative Modeling\", \"Hierarchical Imitation and Reinforcement Learning\", \"Photo-Realistic Single Image Super-Resolution Using a Generative Adversarial Network\", \"Confident Multiple Choice Learning\", \"CleanNet: Transfer Learning for Scalable Image Classifier Training With Label Noise\", \"RoomNet: End-To-End Room Layout Estimation\", \"Noise2Noise: Learning Image Restoration without Clean Data\", \"EC-Net: an Edge-aware Point set Consolidation Network\", \"Explicit Inductive Bias for Transfer Learning with Convolutional Networks\", \"Encoder-Decoder with Atrous Separable Convolution for Semantic Image Segmentation\", \"Recurrent Convolutional Neural Network for Object Recognition\", \"Inverse Compositional Spatial Transformer Networks\", \"ST-GAN: Spatial Transformer Generative Adversarial Networks for Image Compositing\", \"Zero-Inflated Exponential Family Embeddings\", \"Decoupled Networks\", \"Deep Supervised Hashing for Fast Image Retrieval\", \"Future Frame Prediction for Anomaly Detection \\u0096 A New Baseline\", \"PlaneNet: Piece-Wise Planar Reconstruction From a Single RGB Image\", \"Predicting Salient Face in Multiple-Face Videos\", \"SphereFace: Deep Hypersphere Embedding for Face Recognition\", \"Convolutional Sequence to Sequence Model for Human Dynamics\", \"Towards Faster Training of Global Covariance Pooling Networks by Iterative Matrix Square Root Normalization\", \"Single Shot Scene Text Retrieval\", \"Attention Clusters: Purely Attention Based Local Feature Integration for Video Classification\", \"Fully Convolutional Networks for Semantic Segmentation\", \"Deep Photo Style Transfer\", \"Efficient Deep Learning for Stereo Matching\", \"Non-Local Deep Features for Salient Object Detection\", \"Dimensionality-Driven Learning with Noisy Labels\", \"On Human Motion Prediction Using Recurrent Neural Networks\", \"Attentive Semantic Video Generation Using Captions\", \"Domain-Adaptive Deep Network Compression\", \"Disentangled Person Image Generation\", \"Learning Proximal Operators: Using Denoising Networks for Regularizing Inverse Imaging Problems\", \"Conditional Probability Models for Deep Image Compression\", \"Adversarial Variational Bayes: Unifying Variational Autoencoders and Generative Adversarial Networks\", \"Device Placement Optimization with Reinforcement Learning\", \"Cross-Stitch Networks for Multi-Task Learning\", \"NAG: Network for Adversary Generation\", \"Curriculum Dropout\", \"3D Bounding Box Estimation Using Deep Learning and Geometry\", \"A Theoretical Explanation for Perplexing Behaviors of Backpropagation-based Visualizations\", \"Representation Learning by Learning to Count\", \"ShapeStacks: Learning Vision-Based Physical Intuition for Generalised Object Stacking\", \"Learning Dual Convolutional Neural Networks for Low-Level Vision\", \"Making Deep Neural Networks Robust to Label Noise: A Loss Correction Approach\", \"Robust Adversarial Reinforcement Learning\", \"Full-Resolution Residual Networks for Semantic Segmentation in Street Scenes\", \"PieAPP: Perceptual Image-Error Assessment Through Pairwise Preference\", \"Neural Episodic Control\", \"Frustum PointNets for 3D Object Detection From RGB-D Data\", \"GeoNet: Geometric Neural Network for Joint Depth and Surface Normal Estimation\", \"PointNet: Deep Learning on Point Sets for 3D Classification and Segmentation\", \"Semi-Parametric Image Synthesis\", \"Online and Linear-Time Attention by Enforcing Monotonic Alignments\", \"Top-Down Visual Saliency Guided by Captions\", \"Choose Your Neuron: Incorporating Domain Knowledge through Neuron-Importance\", \"Self-Critical Sequence Training for Image Captioning\", \"Cross-Domain Self-Supervised Multi-Task Feature Learning Using Synthetic Imagery\", \"End-To-End Instance Segmentation With Recurrent Attention\", \"Explainable Neural Computation via Stack Neural Module Networks\", \"Adversarially Learned One-Class Classifier for Novelty Detection\", \"Logo Synthesis and Manipulation With Clustered Generative Adversarial Networks\", \"EnhanceNet: Single Image Super-Resolution Through Automated Texture Synthesis\", \"Visual Coreference Resolution in Visual Dialog using Neural Module Networks\", \"Grad-CAM: Visual Explanations From Deep Networks via Gradient-Based Localization\", \"License Plate Detection and Recognition in Unconstrained Scenarios\", \"First Order Generative Adversarial Networks\", \"Deep High Dynamic Range Imaging with Large Foreground Motions\", \"Multi-view to Novel view: Synthesizing novel views with Self-Learned Confidence\", \"Finding Influential Training Samples for Gradient Boosted Decision Trees\", \"Avatar-Net: Multi-Scale Zero-Shot Style Transfer by Feature Decoration\", \"DSOD: Learning Deeply Supervised Object Detectors From Scratch\", \"Weakly Supervised Dense Video Captioning\", \"A Spectral Approach to Gradient Estimation for Implicit Distributions\", \"Specular-to-Diffuse Translation for Multi-View Reconstruction\", \"Incremental Learning of Object Detectors Without Catastrophic Forgetting\", \"Learning From Simulated and Unsupervised Images Through Adversarial Training\", \"Bottleneck Conditional Density Estimation\", \"Layer-structured 3D Scene Inference via View Synthesis\", \"The Predictron:  End-To-End Learning and Planning\", \"Hide-And-Seek: Forcing a Network to Be Meticulous for Weakly-Supervised Object and Action Localization\", \"Face Flow\", \"Accelerating Natural Gradient with Higher-Order Invariance\", \"Deep Metric Learning via Facility Location\", \"Cross-Modal Deep Variational Hand Pose Estimation\", \"Light Field Blind Motion Deblurring\", \"End-To-End People Detection in Crowded Scenes\", \"Neural Program Synthesis from Diverse Demonstration Videos\", \"Differentiable Compositional Kernel Learning for Gaussian Processes\", \"Axiomatic Attribution for Deep Networks\", \"Pix3D: Dataset and Methods for Single-Image 3D Shape Modeling\", \"Multi-View Convolutional Neural Networks for 3D Shape Recognition\", \"Reasoning About Fine-Grained Attribute Phrases Using Reference Games\", \"Rethinking the Inception Architecture for Computer Vision\", \"Click Here: Human-Localized Keypoints as Guidance for Viewpoint Estimation\", \"Spatially-Adaptive Filter Units for Deep Neural Networks\", \"Image Super-Resolution via Deep Recursive Residual Network\", \"MemNet: A Persistent Memory Network for Image Restoration\", \"Multiple People Tracking by Lifted Multicut and Person Re-Identification\", \"Scale-Recurrent Network for Deep Image Deblurring\", \"Tangent Convolutions for Dense Prediction in 3D\", \"Two-Stream Convolutional Networks for Dynamic Texture Synthesis\", \"Unsupervised Learning of Object Landmarks by Factorized Spatial Embeddings\", \"BSN: Boundary Sensitive Network for Temporal Action Proposal Generation\", \"Learning Dynamic Memory Networks for Object Tracking\", \"Full Resolution Image Compression With Recurrent Neural Networks\", \"Lifting From the Deep: Convolutional 3D Pose Estimation From a Single Image\", \"Image Super-Resolution Using Dense Skip Connections\", \"Unsupervised Adaptation for Deep Stereo\", \"Face Normals \\\"In-The-Wild\\\" Using Fully Convolutional Networks\", \"PointNetVLAD: Deep Point Cloud Based Retrieval for Large-Scale Place Recognition\", \"Sequence to Sequence - Video to Text\", \"Learning to Generate Long-term Future via Hierarchical Prediction\", \"Neural Kinematic Networks for Unsupervised Motion Retargetting\", \"Show and Tell: A Neural Image Caption Generator\", \"Adversarial Feature Augmentation for Unsupervised Domain Adaptation\", \"PredRNN++: Towards A Resolution of the Deep-in-Time Dilemma in Spatiotemporal Predictive Learning\", \"Style Tokens: Unsupervised Style Modeling, Control and Transfer in End-to-End Speech Synthesis\", \"Face Aging With Identity-Preserved Conditional Generative Adversarial Networks\", \"High-Resolution Image Synthesis and Semantic Manipulation With Conditional GANs\", \"Multimodal Transfer: A Hierarchical Deep Convolutional Neural Network for Fast Artistic Style Transfer\", \"Revisiting Video Saliency: A Large-Scale Benchmark and a New Model\", \"SGPN: Similarity Group Proposal Network for 3D Point Cloud Instance Segmentation\", \"Skeleton Key: Image Captioning by Skeleton-Attribute Decomposition\", \"Rethinking Feature Distribution for Loss Functions in Image Classification\", \"Transfer Learning via Learning to Transfer\", \"Convolutional Pose Machines\", \"Dense Human Body Correspondences Using Convolutional Networks\", \"Learning Efficient Single-stage Pedestrian Detectors by Asymptotic Localization Fitting\", \"Hierarchical Long-term Video Prediction without Supervision\", \"Learning Blind Motion Deblurring\", \"Quantized Convolutional Neural Networks for Mobile Devices\", \"Self-Organized Text Detection With Minimal Post-Processing via Border Learning\", \"A Modulation Module for Multi-task Learning with Applications in Image Retrieval\", \"Feature Generating Networks for Zero-Shot Learning\", \"Single Image Water Hazard Detection using FCN with Reflection Attention Units\", \"Gibson Env: Real-World Perception for Embodied Agents\", \"Learning Semantic Representations for Unsupervised Domain Adaptation\", \"Learning Descriptor Networks for 3D Shape Synthesis and Analysis\", \"Quaternion Convolutional Neural Networks\", \"Deep Image Matting\", \"Scene Graph Generation by Iterative Message Passing\", \"Improved Variational Autoencoders for Text Modeling using Dilated Convolutions\", \"Video Re-localization\", \"Neural Aggregation Network for Video Face Recognition\", \"Object Contour Detection With a Fully Convolutional Encoder-Decoder Network\", \"Robust Classification With Convolutional Prototype Learning\", \"Semantic Filtering\", \"Joint 3D Face Reconstruction and Dense Alignment with Position Map Regression Network\", \"MVSNet: Depth Inference for Unstructured Multi-view Stereo\", \"Audio-Visual Event Localization in Unconstrained Videos\", \"SpiderCNN: Deep Learning on Point Sets with Parameterized Convolutional Filters\", \"GeoNet: Unsupervised Learning of Dense Depth, Optical Flow and Camera Pose\", \"Combined Group and Exclusive Sparsity for Deep Neural Networks\", \"DF-Net: Unsupervised Joint Learning of Depth and Flow using Cross-Task Consistency\", \"Group Normalization\", \"Crafting a Toolchain for Image Restoration by Deep Reinforcement Learning\", \"Generative Image Inpainting With Contextual Attention\", \"PU-Net: Point Cloud Upsampling Network\", \"Video Paragraph Captioning Using Hierarchical Recurrent Neural Networks\", \"Continual Learning Through Synaptic Intelligence\", \"Adversarial Feature Matching for Text Generation\", \"Convexified Convolutional Neural Networks\", \"Curriculum Domain Adaptation for Semantic Segmentation of Urban Scenes\", \"Deep Mutual Learning\", \"Grounding Referring Expressions in Images by Variational Context\", \"ISTA-Net: Interpretable Optimization-Inspired Deep Network for Image Compressive Sensing\", \"Joint Pose and Expression Modeling for Facial Expression Recognition\", \"Learning a Deep Embedding Model for Zero-Shot Learning\", \"Learning Spread-Out Local Feature Descriptors\", \"Residual Dense Network for Image Super-Resolution\", \"Single-Image Crowd Counting via Multi-Column Convolutional Neural Network\", \"The Unreasonable Effectiveness of Deep Features as a Perceptual Metric\", \"Unsupervised Discovery of Object Landmarks as Structural Representations\", \"Visual Translation Embedding Network for Visual Relation Detection\", \"Follow the Moving Leader in Deep Learning\", \"Conditional Random Fields as Recurrent Neural Networks\", \"Ring Loss: Convex Feature Normalization for Face Recognition\", \"Unlabeled Samples Generated by GAN Improve the Person Re-Identification Baseline in Vitro\", \"Learning Deep Features for Discriminative Localization\", \"Learning Rich Features for Image Manipulation Detection\", \"Learning Spatial Regularization With Image-Level Supervisions for Multi-Label Image Classification\", \"Recurrent Highway Networks\", \"GeoDesc: Learning Local Descriptors by Integrating Geometry Constraints\"], \"textfont\": {\"color\": \"#4D5663\"}, \"type\": \"scatter\", \"x\": [-2.189919948577881, 0.19421616196632385, -5.919807434082031, -7.84990119934082, -18.39105796813965, -18.548913955688477, -18.383708953857422, -18.369211196899414, -18.44209098815918, -18.6081600189209, -1.412048578262329, -15.244853973388672, -15.459623336791992, -15.099018096923828, 13.024003982543945, 0.7075896859169006, -18.399381637573242, -2.232414960861206, -18.813478469848633, -16.920894622802734, -13.465667724609375, -11.911425590515137, -8.039220809936523, 8.07717227935791, 8.821043968200684, -0.44597139954566956, -4.663900375366211, -12.12221908569336, 7.9855427742004395, -7.7117695808410645, 1.1385022401809692, -11.014185905456543, -17.063081741333008, -10.974980354309082, -11.951091766357422, -16.55898094177246, -11.962207794189453, -4.95864725112915, -16.567045211791992, -12.056787490844727, 3.4570417404174805, -12.005603790283203, -7.999208450317383, -16.947336196899414, -19.805301666259766, -17.45829200744629, -13.017743110656738, -16.18168830871582, -18.64440155029297, -19.104475021362305, 0.9814276695251465, -18.025632858276367, -7.768580436706543, -18.922576904296875, -1.907932162284851, 13.21394157409668, -11.573507308959961, -15.465407371520996, -11.918251037597656, -19.390033721923828, -17.095827102661133, -11.857887268066406, -4.870555877685547, 12.310755729675293, -11.366103172302246, -17.420122146606445, -11.544601440429688, 0.9736019968986511, -17.278549194335938, -11.992996215820312, -13.547507286071777, -7.065663814544678, -6.931591510772705, 2.2324771881103516, 6.972418308258057, 3.6126723289489746, -15.456270217895508, 7.98380184173584, -0.3066578805446625, -18.134714126586914, -16.65462303161621, 3.4791910648345947, -11.17391300201416, -12.889717102050781, -12.565631866455078, 5.413780689239502, -1.7491958141326904, 15.206989288330078, 5.428737163543701, -8.711857795715332, -7.208314418792725, -1.1378575563430786, 1.6691855192184448, -7.21181058883667, 11.474596977233887, 3.8406548500061035, -0.24688470363616943, -13.282132148742676, -13.069812774658203, 7.970432758331299, -2.461376428604126, -3.0133209228515625, -7.765340328216553, -13.657767295837402, -12.118638038635254, -3.667308807373047, 13.302117347717285, 10.817145347595215, 13.964482307434082, -6.853641033172607, -3.0108587741851807, 8.915422439575195, 5.425706386566162, -8.416050910949707, -2.5178885459899902, -14.143017768859863, -16.58918571472168, -15.300368309020996, 10.807626724243164, 6.489422798156738, -1.7420486211776733, 18.05257797241211, 11.239377975463867, 7.54009485244751, 16.228302001953125, -1.7738736867904663, 7.1062493324279785, 10.457615852355957, -3.7866625785827637, -7.288468837738037, 0.5841044783592224, -11.489823341369629, 15.030682563781738, -14.975074768066406, -18.51984214782715, -15.088277816772461, -2.659180164337158, -16.998577117919922, -7.130783557891846, 5.383110523223877, 13.605921745300293, -19.206470489501953, 2.5810458660125732, -4.902846336364746, 5.407098293304443, -3.5128848552703857, -7.515749454498291, 15.105864524841309, 2.3766136169433594, 0.33358147740364075, 8.343818664550781, 7.794676303863525, 9.760266304016113, 3.821007490158081, -9.278827667236328, -10.949624061584473, 4.373833656311035, -18.66811180114746, -1.5141403675079346, 10.14184856414795, -5.17038106918335, 13.934905052185059, -16.29771614074707, 12.602306365966797, -4.8793511390686035, 19.631847381591797, -7.320755958557129, 13.485822677612305, 13.56704330444336, -12.217004776000977, 16.215768814086914, -7.288212776184082, -12.3997802734375, -0.21056824922561646, 12.302865028381348, 12.899322509765625, 15.519909858703613, 7.847675800323486, 10.72451114654541, -1.530754804611206, 1.5995495319366455, 17.06455421447754, 10.82425308227539, 6.722080707550049, -3.3768935203552246, 1.3105391263961792, -3.414210796356201, -2.1641125679016113, -18.077194213867188, 1.454970359802246, -1.9958497285842896, -8.246953010559082, -15.237898826599121, 10.51133918762207, -15.986298561096191, -2.0410165786743164, -3.5435357093811035, 7.446173667907715, -7.21977424621582, 10.967070579528809, -7.024784564971924, -4.141096115112305, 1.054413080215454, 5.403225898742676, -5.9741644859313965, 1.5301809310913086, 12.981627464294434, 5.313278675079346, 15.029041290283203, -1.3396718502044678, -13.428072929382324, -11.201844215393066, 1.4405118227005005, -0.024919509887695312, -18.660091400146484, 20.390121459960938, 1.1819140911102295, 15.053068161010742, 7.317579746246338, -12.425435066223145, 12.4473295211792, -18.3702335357666, -7.09081506729126, -7.118467330932617, 9.787761688232422, 7.665966510772705, -9.7632474899292, -0.29025810956954956, 8.192519187927246, 10.131097793579102, -2.9476113319396973, -4.919129371643066, 16.74534797668457, -1.8784576654434204, -6.60376501083374, -12.005107879638672, 5.405419826507568, -9.734867095947266, 15.519909858703613, 11.811193466186523, 10.89647388458252, -8.079843521118164, 3.8406548500061035, 20.118526458740234, 12.152734756469727, -1.8784576654434204, 12.141521453857422, 20.603683471679688, -16.097829818725586, 8.49427604675293, -1.3720554113388062, 15.53904914855957, 12.13934326171875, 10.493791580200195, -8.673619270324707, 15.030682563781738, -16.6090145111084, 1.662007451057434, 9.795273780822754, -19.423582077026367, -4.841238021850586, 6.30609655380249, -12.48466968536377, -6.654438495635986, -9.863590240478516, 14.420591354370117, -10.843403816223145, 1.0301313400268555, 15.495811462402344, -6.804276943206787, 3.871630907058716, 8.228520393371582, -1.7657238245010376, -7.201544284820557, -7.9506731033325195, 12.026519775390625, -2.467860698699951, -11.753071784973145, -0.2590970993041992, 11.9149808883667, -3.738492965698242, -9.044061660766602, -14.65682601928711, -14.400336265563965, 19.933441162109375, 11.760420799255371, 2.493143081665039, -11.746160507202148, -3.105828285217285, 10.959537506103516, 6.062090873718262, -13.449788093566895, -7.279345989227295, -9.816732406616211, -12.437358856201172, -15.449301719665527, -12.188800811767578, 4.59347677230835, -2.0007009506225586, 1.6330430507659912, 7.525490760803223, -12.591995239257812, -7.319779396057129, -12.422183990478516, -3.1775145530700684, 2.3095791339874268, -0.23049810528755188, 9.462075233459473, 15.008578300476074, 15.69046688079834, 19.971162796020508, 9.923173904418945, 9.79147720336914, 13.663827896118164, 14.441244125366211, 18.591663360595703, -3.4474663734436035, -7.201544284820557, -11.134212493896484, 13.195901870727539, -4.834595203399658, 15.030682563781738, -8.474103927612305, 3.810025691986084, 14.009587287902832, 12.911016464233398, -12.480143547058105, 8.741964340209961, -7.878119468688965, -13.496824264526367, -13.515210151672363, 19.370506286621094, -1.8367242813110352, -16.538509368896484, 5.26783561706543, -1.8411246538162231, -1.8291621208190918, 3.835069179534912, 0.2066991776227951, -13.308570861816406, 1.4714417457580566, -18.340423583984375, 1.561320424079895, -13.142585754394531, -7.386507034301758, 1.5765024423599243, -0.23913662135601044, 8.922892570495605, 5.392049312591553, -5.689688682556152, -2.957958459854126, -13.883108139038086, -1.9996579885482788, -13.954208374023438, 10.094476699829102, 17.460853576660156, -10.296060562133789, -12.178540229797363, 9.798514366149902, -6.689333438873291, -3.5806195735931396, 1.4439903497695923, -15.116037368774414, -14.839127540588379, 11.140356063842773, -4.680283546447754, -18.705320358276367, -10.235424041748047, 20.540164947509766, -1.7612459659576416, 5.4175567626953125, -3.049722671508789, 5.373651027679443, -6.48387336730957, -10.180604934692383, 1.7021443843841553, -10.615665435791016, 10.732592582702637, 12.260710716247559, -1.8291621208190918, 11.205862998962402, 14.579071044921875, 3.732694149017334, -0.22351644933223724, -4.884446144104004, 1.443745493888855, -1.8545774221420288, -3.035876512527466, -4.758906364440918, -1.3007816076278687, 2.3062570095062256, -2.206749439239502, 5.624587535858154, 1.5052964687347412, 8.188952445983887, 5.373817443847656, -13.606184005737305, -7.211508750915527], \"y\": [-7.7997517585754395, -12.959405899047852, -19.10828399658203, 2.617610216140747, 3.1588122844696045, -10.768166542053223, 3.101494073867798, 3.196906089782715, 1.5189131498336792, 0.5196926593780518, -0.47862130403518677, 6.389065742492676, 4.318670749664307, 6.297945022583008, -14.848029136657715, -5.00602912902832, 2.536543130874634, -7.5811967849731445, 0.32843756675720215, 10.072733879089355, 11.920884132385254, 17.852214813232422, 10.570630073547363, -9.089581489562988, -9.630202293395996, -5.0203776359558105, -21.819440841674805, 12.355313301086426, 2.9923508167266846, 5.0492048263549805, -5.0420613288879395, 9.605534553527832, -13.89624309539795, 12.060453414916992, 12.410764694213867, 12.373987197875977, 17.466264724731445, 2.675769090652466, 11.001311302185059, 17.098793029785156, -17.93828773498535, 16.92033576965332, -20.427906036376953, 12.05924129486084, -10.430854797363281, 10.188042640686035, 12.032051086425781, -13.557616233825684, 10.904153823852539, 11.488810539245605, -20.82765007019043, 10.337010383605957, 5.179768085479736, 11.549772262573242, -6.797656536102295, -16.17452049255371, 15.150601387023926, 7.066312313079834, 17.921220779418945, 11.00617790222168, 11.425276756286621, 18.176767349243164, 2.602457046508789, 0.3566659986972809, 11.896879196166992, 10.825928688049316, 15.165264129638672, -20.825857162475586, 12.52448558807373, 17.105314254760742, -5.847721576690674, 4.503591060638428, -4.702475070953369, -5.950303077697754, -10.845426559448242, -17.190990447998047, 7.180487155914307, -9.771724700927734, -5.0332417488098145, 10.290654182434082, 10.187776565551758, 18.029253005981445, 9.531071662902832, 5.364861488342285, 5.346856117248535, 11.33763313293457, 16.097509384155273, -8.460357666015625, -13.397150039672852, -16.711917877197266, 12.14647102355957, 8.237712860107422, -18.380756378173828, 15.213215827941895, 15.892398834228516, 20.41187286376953, 24.486669540405273, -15.089499473571777, 4.770031452178955, 10.422286987304688, 13.528362274169922, 15.767823219299316, -18.656856536865234, -9.878339767456055, -4.377182483673096, -8.819808006286621, -0.16779565811157227, -4.449212551116943, -2.526972532272339, -4.714591026306152, 9.614758491516113, -9.257414817810059, 11.368819236755371, -15.79114055633545, -9.252246856689453, -14.713552474975586, -1.8818336725234985, -9.908188819885254, -3.0226619243621826, -6.286492824554443, 16.082292556762695, -6.575486183166504, 10.192440032958984, -10.218585014343262, -14.287079811096191, 8.766973495483398, -5.93790864944458, 9.831225395202637, 1.6461118459701538, -6.946713447570801, -0.3155152499675751, 4.765841007232666, 18.02444839477539, -4.5949554443359375, -3.482485294342041, -4.570550441741943, 12.962730407714844, -2.2198352813720703, -17.46329116821289, 11.403958320617676, -7.83721923828125, 0.024242326617240906, -17.805347442626953, -19.86053466796875, 11.324762344360352, -1.5187411308288574, -19.845136642456055, 18.007888793945312, 9.602872848510742, 0.16747969388961792, -4.050506114959717, 2.56278395652771, -3.9443976879119873, 20.222196578979492, -17.627826690673828, 3.9444360733032227, 10.685401916503906, -0.6949248313903809, 14.52054214477539, 9.822532653808594, -13.865365028381348, -2.3409054279327393, -1.717780590057373, -4.470508098602295, -2.5735628604888916, 2.4992098808288574, 9.046123504638672, 16.048246383666992, 16.118593215942383, 4.785628318786621, -4.353154182434082, 16.105222702026367, -3.3077213764190674, 24.51054573059082, -1.019810438156128, -9.71641731262207, 14.987817764282227, 10.492588996887207, -14.9788179397583, 8.644312858581543, -2.36568284034729, -12.421340942382812, 15.161163330078125, -6.18454122543335, 5.283877372741699, -8.219704627990723, -2.690183401107788, -9.775932312011719, -3.1023104190826416, 12.959341049194336, 20.64347267150879, -16.764755249023438, -9.598128318786621, -5.124516487121582, -13.387530326843262, 9.863770484924316, -3.735250949859619, 19.517183303833008, 12.352727890014648, 15.965378761291504, -8.807908058166504, -18.32203483581543, 15.553787231445312, 11.34948444366455, 10.635029792785645, 15.107376098632812, -15.748080253601074, 18.07482147216797, 18.006860733032227, -5.976163864135742, -9.139036178588867, 4.526080131530762, 15.208277702331543, -0.49937504529953003, -0.863516628742218, -4.03816556930542, -10.342907905578613, -13.656679153442383, 19.60624885559082, 5.095519065856934, -4.408751487731934, 0.9414680004119873, -16.68895149230957, -17.44985008239746, 18.735605239868164, 10.023687362670898, 6.108365058898926, -0.3610013425350189, 12.090598106384277, -9.533265113830566, 11.630498886108398, 12.120641708374023, -7.735196113586426, 19.69919776916504, -2.055586814880371, -15.105253219604492, 11.394598007202148, -17.72242546081543, 14.987817764282227, -1.568310260772705, 15.31245231628418, -10.0592041015625, 20.41187286376953, -3.652705669403076, 12.736193656921387, 19.69919776916504, 12.745881080627441, -1.134456753730774, -13.54736328125, -4.004719257354736, -5.8211750984191895, 14.162056922912598, 12.870567321777344, -3.637547254562378, -11.433022499084473, 18.02444839477539, 0.3019672632217407, -2.3625431060791016, 18.732877731323242, -10.57845401763916, 12.61750602722168, -6.2916693687438965, -2.928382158279419, 10.002262115478516, 0.3888513743877411, -7.850030899047852, 4.8505778312683105, -11.361895561218262, 14.561626434326172, -16.060617446899414, 20.916303634643555, 11.948878288269043, -6.519623279571533, 15.278797149658203, -18.811140060424805, 12.051494598388672, 9.944417953491211, -15.271224021911621, 24.510156631469727, -1.1868754625320435, 5.58095645904541, -2.5730483531951904, -0.10273255407810211, -10.542718887329102, 2.73190975189209, 11.293400764465332, 20.481243133544922, -13.165308952331543, 5.068233966827393, 15.578530311584473, 16.735761642456055, -15.426547050476074, 15.858312606811523, 6.140058517456055, 12.643856048583984, -0.2842651605606079, -15.869768142700195, 20.38591957092285, 20.42034149169922, 20.589847564697266, 19.489919662475586, 0.0075712245889008045, -8.665246963500977, -2.8322818279266357, 11.235006332397461, 9.60222339630127, 24.53743553161621, -3.6434669494628906, 17.99492835998535, 14.144708633422852, -2.427269697189331, -9.60980224609375, 18.733274459838867, -0.5871565341949463, -13.90080738067627, -6.89265251159668, -3.0056939125061035, 15.278797149658203, -15.46058464050293, -0.4947417974472046, 12.451804161071777, 18.02444839477539, 2.110503911972046, 18.26078224182129, -2.1229248046875, -0.7796605229377747, -3.024833917617798, 10.731436729431152, -15.037681579589844, 6.060381889343262, -9.86217212677002, -3.07951021194458, 19.67133331298828, -1.801328420639038, 17.930389404296875, 15.992057800292969, 16.00313377380371, 19.891653060913086, -0.009383104741573334, 4.088203430175781, 12.94965648651123, -3.254357099533081, -9.38458251953125, 4.209796905517578, 3.74945068359375, 15.029949188232422, 24.513269424438477, -13.87448501586914, 11.390043258666992, -19.445728302001953, 11.510790824890137, -9.85049057006836, 20.504741668701172, -0.07121698558330536, 18.34088706970215, -7.041799068450928, 1.3886972665786743, -15.258049011230469, 18.726327896118164, 10.034008979797363, -2.1413826942443848, 12.992999076843262, -10.366628646850586, -10.726366996765137, -4.330445766448975, -2.4246931076049805, -4.166783809661865, 2.3107707500457764, -3.9845967292785645, -10.228245735168457, 11.337746620178223, 9.887260437011719, 11.402369499206543, 10.393332481384277, 2.3116471767425537, -18.412771224975586, -12.980189323425293, -4.345615863800049, 0.3552347421646118, 16.00313377380371, 10.20541763305664, 15.033617973327637, 20.15338134765625, 24.587215423583984, -5.301148891448975, 12.963533401489258, 14.846516609191895, 15.799304962158203, -1.3456542491912842, 8.438480377197266, 9.608141899108887, 14.27323055267334, -13.512767791748047, 12.863271713256836, 11.968408584594727, 17.940629959106445, -5.3242058753967285, 15.612140655517578]}],\n",
       "                        {\"legend\": {\"bgcolor\": \"#F5F6F9\", \"font\": {\"color\": \"#4D5663\"}}, \"paper_bgcolor\": \"#F5F6F9\", \"plot_bgcolor\": \"#F5F6F9\", \"template\": {\"data\": {\"bar\": [{\"error_x\": {\"color\": \"#2a3f5f\"}, \"error_y\": {\"color\": \"#2a3f5f\"}, \"marker\": {\"line\": {\"color\": \"#E5ECF6\", \"width\": 0.5}}, \"type\": \"bar\"}], \"barpolar\": [{\"marker\": {\"line\": {\"color\": \"#E5ECF6\", \"width\": 0.5}}, \"type\": \"barpolar\"}], \"carpet\": [{\"aaxis\": {\"endlinecolor\": \"#2a3f5f\", \"gridcolor\": \"white\", \"linecolor\": \"white\", \"minorgridcolor\": \"white\", \"startlinecolor\": \"#2a3f5f\"}, \"baxis\": {\"endlinecolor\": \"#2a3f5f\", \"gridcolor\": \"white\", \"linecolor\": \"white\", \"minorgridcolor\": \"white\", \"startlinecolor\": \"#2a3f5f\"}, \"type\": \"carpet\"}], \"choropleth\": [{\"colorbar\": {\"outlinewidth\": 0, \"ticks\": \"\"}, \"type\": \"choropleth\"}], \"contour\": [{\"colorbar\": {\"outlinewidth\": 0, \"ticks\": \"\"}, \"colorscale\": [[0.0, \"#0d0887\"], [0.1111111111111111, \"#46039f\"], [0.2222222222222222, \"#7201a8\"], [0.3333333333333333, \"#9c179e\"], [0.4444444444444444, \"#bd3786\"], [0.5555555555555556, \"#d8576b\"], [0.6666666666666666, \"#ed7953\"], [0.7777777777777778, \"#fb9f3a\"], [0.8888888888888888, \"#fdca26\"], [1.0, \"#f0f921\"]], \"type\": \"contour\"}], \"contourcarpet\": [{\"colorbar\": {\"outlinewidth\": 0, \"ticks\": \"\"}, \"type\": \"contourcarpet\"}], \"heatmap\": [{\"colorbar\": {\"outlinewidth\": 0, \"ticks\": \"\"}, \"colorscale\": [[0.0, \"#0d0887\"], [0.1111111111111111, \"#46039f\"], [0.2222222222222222, \"#7201a8\"], [0.3333333333333333, \"#9c179e\"], [0.4444444444444444, \"#bd3786\"], [0.5555555555555556, \"#d8576b\"], [0.6666666666666666, \"#ed7953\"], [0.7777777777777778, \"#fb9f3a\"], [0.8888888888888888, \"#fdca26\"], [1.0, \"#f0f921\"]], \"type\": \"heatmap\"}], \"heatmapgl\": [{\"colorbar\": {\"outlinewidth\": 0, \"ticks\": \"\"}, \"colorscale\": [[0.0, \"#0d0887\"], [0.1111111111111111, \"#46039f\"], [0.2222222222222222, \"#7201a8\"], [0.3333333333333333, \"#9c179e\"], [0.4444444444444444, \"#bd3786\"], [0.5555555555555556, \"#d8576b\"], [0.6666666666666666, \"#ed7953\"], [0.7777777777777778, \"#fb9f3a\"], [0.8888888888888888, \"#fdca26\"], [1.0, \"#f0f921\"]], \"type\": \"heatmapgl\"}], \"histogram\": [{\"marker\": {\"colorbar\": {\"outlinewidth\": 0, \"ticks\": \"\"}}, \"type\": \"histogram\"}], \"histogram2d\": [{\"colorbar\": {\"outlinewidth\": 0, \"ticks\": \"\"}, \"colorscale\": [[0.0, \"#0d0887\"], [0.1111111111111111, \"#46039f\"], [0.2222222222222222, \"#7201a8\"], [0.3333333333333333, \"#9c179e\"], [0.4444444444444444, \"#bd3786\"], [0.5555555555555556, \"#d8576b\"], [0.6666666666666666, \"#ed7953\"], [0.7777777777777778, \"#fb9f3a\"], [0.8888888888888888, \"#fdca26\"], [1.0, \"#f0f921\"]], \"type\": \"histogram2d\"}], \"histogram2dcontour\": [{\"colorbar\": {\"outlinewidth\": 0, \"ticks\": \"\"}, \"colorscale\": [[0.0, \"#0d0887\"], [0.1111111111111111, \"#46039f\"], [0.2222222222222222, \"#7201a8\"], [0.3333333333333333, \"#9c179e\"], [0.4444444444444444, \"#bd3786\"], [0.5555555555555556, \"#d8576b\"], [0.6666666666666666, \"#ed7953\"], [0.7777777777777778, \"#fb9f3a\"], [0.8888888888888888, \"#fdca26\"], [1.0, \"#f0f921\"]], \"type\": \"histogram2dcontour\"}], \"mesh3d\": [{\"colorbar\": {\"outlinewidth\": 0, \"ticks\": \"\"}, \"type\": \"mesh3d\"}], \"parcoords\": [{\"line\": {\"colorbar\": {\"outlinewidth\": 0, \"ticks\": \"\"}}, \"type\": \"parcoords\"}], \"pie\": [{\"automargin\": true, \"type\": \"pie\"}], \"scatter\": [{\"marker\": {\"colorbar\": {\"outlinewidth\": 0, \"ticks\": \"\"}}, \"type\": \"scatter\"}], \"scatter3d\": [{\"line\": {\"colorbar\": {\"outlinewidth\": 0, \"ticks\": \"\"}}, \"marker\": {\"colorbar\": {\"outlinewidth\": 0, \"ticks\": \"\"}}, \"type\": \"scatter3d\"}], \"scattercarpet\": [{\"marker\": {\"colorbar\": {\"outlinewidth\": 0, \"ticks\": \"\"}}, \"type\": \"scattercarpet\"}], \"scattergeo\": [{\"marker\": {\"colorbar\": {\"outlinewidth\": 0, \"ticks\": \"\"}}, \"type\": \"scattergeo\"}], \"scattergl\": [{\"marker\": {\"colorbar\": {\"outlinewidth\": 0, \"ticks\": \"\"}}, \"type\": \"scattergl\"}], \"scattermapbox\": [{\"marker\": {\"colorbar\": {\"outlinewidth\": 0, \"ticks\": \"\"}}, \"type\": \"scattermapbox\"}], \"scatterpolar\": [{\"marker\": {\"colorbar\": {\"outlinewidth\": 0, \"ticks\": \"\"}}, \"type\": \"scatterpolar\"}], \"scatterpolargl\": [{\"marker\": {\"colorbar\": {\"outlinewidth\": 0, \"ticks\": \"\"}}, \"type\": \"scatterpolargl\"}], \"scatterternary\": [{\"marker\": {\"colorbar\": {\"outlinewidth\": 0, \"ticks\": \"\"}}, \"type\": \"scatterternary\"}], \"surface\": [{\"colorbar\": {\"outlinewidth\": 0, \"ticks\": \"\"}, \"colorscale\": [[0.0, \"#0d0887\"], [0.1111111111111111, \"#46039f\"], [0.2222222222222222, \"#7201a8\"], [0.3333333333333333, \"#9c179e\"], [0.4444444444444444, \"#bd3786\"], [0.5555555555555556, \"#d8576b\"], [0.6666666666666666, \"#ed7953\"], [0.7777777777777778, \"#fb9f3a\"], [0.8888888888888888, \"#fdca26\"], [1.0, \"#f0f921\"]], \"type\": \"surface\"}], \"table\": [{\"cells\": {\"fill\": {\"color\": \"#EBF0F8\"}, \"line\": {\"color\": \"white\"}}, \"header\": {\"fill\": {\"color\": \"#C8D4E3\"}, \"line\": {\"color\": \"white\"}}, \"type\": \"table\"}]}, \"layout\": {\"annotationdefaults\": {\"arrowcolor\": \"#2a3f5f\", \"arrowhead\": 0, \"arrowwidth\": 1}, \"coloraxis\": {\"colorbar\": {\"outlinewidth\": 0, \"ticks\": \"\"}}, \"colorscale\": {\"diverging\": [[0, \"#8e0152\"], [0.1, \"#c51b7d\"], [0.2, \"#de77ae\"], [0.3, \"#f1b6da\"], [0.4, \"#fde0ef\"], [0.5, \"#f7f7f7\"], [0.6, \"#e6f5d0\"], [0.7, \"#b8e186\"], [0.8, \"#7fbc41\"], [0.9, \"#4d9221\"], [1, \"#276419\"]], \"sequential\": [[0.0, \"#0d0887\"], [0.1111111111111111, \"#46039f\"], [0.2222222222222222, \"#7201a8\"], [0.3333333333333333, \"#9c179e\"], [0.4444444444444444, \"#bd3786\"], [0.5555555555555556, \"#d8576b\"], [0.6666666666666666, \"#ed7953\"], [0.7777777777777778, \"#fb9f3a\"], [0.8888888888888888, \"#fdca26\"], [1.0, \"#f0f921\"]], \"sequentialminus\": [[0.0, \"#0d0887\"], [0.1111111111111111, \"#46039f\"], [0.2222222222222222, \"#7201a8\"], [0.3333333333333333, \"#9c179e\"], [0.4444444444444444, \"#bd3786\"], [0.5555555555555556, \"#d8576b\"], [0.6666666666666666, \"#ed7953\"], [0.7777777777777778, \"#fb9f3a\"], [0.8888888888888888, \"#fdca26\"], [1.0, \"#f0f921\"]]}, \"colorway\": [\"#636efa\", \"#EF553B\", \"#00cc96\", \"#ab63fa\", \"#FFA15A\", \"#19d3f3\", \"#FF6692\", \"#B6E880\", \"#FF97FF\", \"#FECB52\"], \"font\": {\"color\": \"#2a3f5f\"}, \"geo\": {\"bgcolor\": \"white\", \"lakecolor\": \"white\", \"landcolor\": \"#E5ECF6\", \"showlakes\": true, \"showland\": true, \"subunitcolor\": \"white\"}, \"hoverlabel\": {\"align\": \"left\"}, \"hovermode\": \"closest\", \"mapbox\": {\"style\": \"light\"}, \"paper_bgcolor\": \"white\", \"plot_bgcolor\": \"#E5ECF6\", \"polar\": {\"angularaxis\": {\"gridcolor\": \"white\", \"linecolor\": \"white\", \"ticks\": \"\"}, \"bgcolor\": \"#E5ECF6\", \"radialaxis\": {\"gridcolor\": \"white\", \"linecolor\": \"white\", \"ticks\": \"\"}}, \"scene\": {\"xaxis\": {\"backgroundcolor\": \"#E5ECF6\", \"gridcolor\": \"white\", \"gridwidth\": 2, \"linecolor\": \"white\", \"showbackground\": true, \"ticks\": \"\", \"zerolinecolor\": \"white\"}, \"yaxis\": {\"backgroundcolor\": \"#E5ECF6\", \"gridcolor\": \"white\", \"gridwidth\": 2, \"linecolor\": \"white\", \"showbackground\": true, \"ticks\": \"\", \"zerolinecolor\": \"white\"}, \"zaxis\": {\"backgroundcolor\": \"#E5ECF6\", \"gridcolor\": \"white\", \"gridwidth\": 2, \"linecolor\": \"white\", \"showbackground\": true, \"ticks\": \"\", \"zerolinecolor\": \"white\"}}, \"shapedefaults\": {\"line\": {\"color\": \"#2a3f5f\"}}, \"ternary\": {\"aaxis\": {\"gridcolor\": \"white\", \"linecolor\": \"white\", \"ticks\": \"\"}, \"baxis\": {\"gridcolor\": \"white\", \"linecolor\": \"white\", \"ticks\": \"\"}, \"bgcolor\": \"#E5ECF6\", \"caxis\": {\"gridcolor\": \"white\", \"linecolor\": \"white\", \"ticks\": \"\"}}, \"title\": {\"x\": 0.05}, \"xaxis\": {\"automargin\": true, \"gridcolor\": \"white\", \"linecolor\": \"white\", \"ticks\": \"\", \"title\": {\"standoff\": 15}, \"zerolinecolor\": \"white\", \"zerolinewidth\": 2}, \"yaxis\": {\"automargin\": true, \"gridcolor\": \"white\", \"linecolor\": \"white\", \"ticks\": \"\", \"title\": {\"standoff\": 15}, \"zerolinecolor\": \"white\", \"zerolinewidth\": 2}}}, \"title\": {\"font\": {\"color\": \"#4D5663\"}}, \"xaxis\": {\"gridcolor\": \"#E1E5ED\", \"showgrid\": true, \"tickfont\": {\"color\": \"#4D5663\"}, \"title\": {\"font\": {\"color\": \"#4D5663\"}, \"text\": \"\"}, \"zerolinecolor\": \"#E1E5ED\"}, \"yaxis\": {\"gridcolor\": \"#E1E5ED\", \"showgrid\": true, \"tickfont\": {\"color\": \"#4D5663\"}, \"title\": {\"font\": {\"color\": \"#4D5663\"}, \"text\": \"\"}, \"zerolinecolor\": \"#E1E5ED\"}},\n",
       "                        {\"showLink\": true, \"linkText\": \"Export to plot.ly\", \"plotlyServerURL\": \"https://plot.ly\", \"responsive\": true}\n",
       "                    ).then(function(){\n",
       "                            \n",
       "var gd = document.getElementById('d88886a4-653a-458e-8be0-da427ab01701');\n",
       "var x = new MutationObserver(function (mutations, observer) {{\n",
       "        var display = window.getComputedStyle(gd).display;\n",
       "        if (!display || display === 'none') {{\n",
       "            console.log([gd, 'removed!']);\n",
       "            Plotly.purge(gd);\n",
       "            observer.disconnect();\n",
       "        }}\n",
       "}});\n",
       "\n",
       "// Listen for the removal of the full notebook cells\n",
       "var notebookContainer = gd.closest('#notebook-container');\n",
       "if (notebookContainer) {{\n",
       "    x.observe(notebookContainer, {childList: true});\n",
       "}}\n",
       "\n",
       "// Listen for the clearing of the current output cell\n",
       "var outputEl = gd.closest('.output');\n",
       "if (outputEl) {{\n",
       "    x.observe(outputEl, {childList: true});\n",
       "}}\n",
       "\n",
       "                        })\n",
       "                };\n",
       "                });\n",
       "            </script>\n",
       "        </div>"
      ]
     },
     "metadata": {},
     "output_type": "display_data"
    }
   ],
   "source": [
    "emb,meta=load_emb_data('combo')\n",
    "visualize(emb,meta,method='TSNE',dim=2)"
   ]
  },
  {
   "cell_type": "code",
   "execution_count": 16,
   "metadata": {},
   "outputs": [
    {
     "data": {
      "application/vnd.plotly.v1+json": {
       "config": {
        "linkText": "Export to plot.ly",
        "plotlyServerURL": "https://plot.ly",
        "showLink": true
       },
       "data": [
        {
         "marker": {
          "color": "rgba(255, 153, 51, 1.0)",
          "line": {
           "width": 1.3
          },
          "opacity": 0.8,
          "size": 12,
          "symbol": "circle"
         },
         "mode": "markers",
         "name": "NIPS",
         "text": [
          "Visualizing the Loss Landscape of Neural Nets",
          "PointCNN",
          "L4: Practical loss-based stepsize adaptation for deep learning",
          "Multimodal Generative Models for Scalable Weakly-Supervised Learning",
          "Neural Voice Cloning with a Few Samples",
          "The Description Length of Deep Learning models",
          "Deep Defense: Training DNNs with Improved Adversarial Robustness",
          "Adversarial Logit Pairing",
          "Realistic Evaluation of Deep Semi-Supervised Learning Algorithms",
          "DVAE#: Discrete Variational Autoencoders with Relaxed Boltzmann Priors",
          "BourGAN: Generative Networks with Metric Embeddings",
          "Bilinear Attention Networks",
          "Breaking the Activation Function Bottleneck through Adaptive Parameterization",
          "Hyperbolic Neural Networks",
          "Learning towards Minimum Hyperspherical Energy",
          "Generalizing to Unseen Domains via Adversarial Data Augmentation",
          "On GANs and GMMs",
          "Assessing Generative Models via Precision and Recall",
          "Relational recurrent neural networks",
          "Unsupervised Attention-guided Image-to-Image Translation",
          "Speaker-Follower Models for Vision-and-Language Navigation",
          "ATOMO: Communication-efficient Learning via Atomic Sparsification",
          "Generative Neural Machine Translation",
          "One-Shot Unsupervised Cross Domain Translation",
          "Banach Wasserstein GAN",
          "Neural Code Comprehension: A Learnable Representation of Code Semantics",
          "3D Steerable CNNs: Learning Rotationally Equivariant Features in Volumetric Data",
          "Glow: Generative Flow with Invertible 1x1 Convolutions",
          "Discovery of Latent 3D Keypoints via End-to-end Geometric Reasoning",
          "An intriguing failing of convolutional neural networks and the CoordConv solution",
          "Latent Alignment and Variational Attention",
          "Neural Arithmetic Logic Units",
          "Adaptive Skip Intervals: Temporal Abstraction for Recurrent Dynamical Models",
          "Video-to-Video Synthesis",
          "Generalisation in humans and deep neural networks",
          "A Unified Feature Disentangler for Multi-Domain Image Translation and Manipulation",
          "Neural Guided Constraint Logic Programming for Program Synthesis",
          "Deep Subspace Clustering Networks",
          "Dilated Recurrent Neural Networks",
          "Structured Embedding Models for Grouped Data",
          "Best of Both Worlds: Transferring Knowledge from Discriminative Learning to a Generative Visual Dialog Model",
          "Learning a Multi-View Stereo Machine",
          "Universal Style Transfer via Feature Transforms",
          "f-GANs in an Information Geometric Nutshell",
          "Toward Multimodal Image-to-Image Translation",
          "One-Sided Unsupervised Domain Mapping",
          "Deep Mean-Shift Priors for Image Restoration",
          "SchNet: A continuous-filter convolutional neural network for modeling quantum interactions",
          "Inductive Representation Learning on Large Graphs",
          "Mean teachers are better role models: Weight-averaged consistency targets improve semi-supervised deep learning results",
          "TernGrad: Ternary Gradients to Reduce Communication in Distributed Deep Learning",
          "NeuralFDR: Learning Discovery Thresholds from Hypothesis Features",
          "Learning Multiple Tasks with Multilinear Relationship Networks",
          "Train longer, generalize better: closing the generalization gap in large batch training of neural networks",
          "The Numerics of GANs",
          "Stabilizing Training of Generative Adversarial Networks through Regularization",
          "Training Deep Networks without Learning Rates Through Coin Betting",
          "MMD GAN: Towards Deeper Understanding of Moment Matching Network",
          "Few-Shot Learning Through an Information Retrieval  Lens",
          "Differentiable Learning of Logical Rules for Knowledge Base Reasoning",
          "OnACID: Online Analysis of Calcium Imaging Data in Real Time",
          "Fisher GAN",
          "Toward Goal-Driven Neural Network Models for the Rodent Whisker-Trigeminal System",
          "Predicting Organic Reaction Outcomes with Weisfeiler-Lehman Network",
          "REBAR: Low-variance, unbiased gradient estimates for discrete latent variable models",
          "ELF: An Extensive, Lightweight and Flexible Research Platform for Real-time Strategy Games",
          "Dual Discriminator Generative Adversarial Nets",
          "Bridging the Gap Between Value and Policy Based Reinforcement Learning",
          "Convolutional Gaussian Processes",
          "Deep Lattice Networks and Partial Monotonic Functions",
          "Hierarchical Attentive Recurrent Tracking",
          "Learning to Compose Domain-Specific Transformations for Data Augmentation",
          "Language Modeling with Recurrent Highway Hypernetworks",
          "Bayesian Compression for Deep Learning",
          "Streaming Sparse Gaussian Process Approximations",
          "Spherical convolutions and their application in molecular modelling",
          "Neural system identification for large populations separating what and where",
          "A Disentangled Recognition and Nonlinear Dynamics Model for Unsupervised Learning",
          "Bayesian GAN",
          "Geometric Matrix Completion with Recurrent Multi-Graph Neural Networks",
          "Diving into the shallows: a computational perspective on large-scale shallow learning",
          "InfoGAIL: Interpretable Imitation Learning from Visual Demonstrations",
          "Deep Hyperspherical Learning",
          "On-the-fly Operation Batching in Dynamic Computation Graphs",
          "Streaming Weak Submodularity: Interpreting Neural Networks on the Fly",
          "Prototypical Networks for Few-shot Learning",
          "Multi-Information Source Optimization",
          "Dual Path Networks",
          "Doubly Stochastic Variational Inference for Deep Gaussian Processes",
          "QMDP-Net: Deep Learning for Planning under Partial Observability",
          "A Unified Approach to Interpreting Model Predictions",
          "Context Selection for Embedding Models",
          "Working hard to know your neighbor's margins: Local descriptor learning loss",
          "Learning to Prune Deep Neural Networks via Layer-wise Optimal Brain Surgeon",
          "DropoutNet: Addressing Cold Start in Recommender Systems",
          "PointNet++: Deep Hierarchical Feature Learning on Point Sets in a Metric Space",
          "A-NICE-MC: Adversarial Training for MCMC",
          "Riemannian approach to batch normalization",
          "Triangle Generative Adversarial Networks",
          "Scalable trust-region method for deep reinforcement learning using Kronecker-factored approximation",
          "Hybrid Reward Architecture for Reinforcement Learning",
          "AdaGAN: Boosting Generative Models",
          "Task-based End-to-end Model Learning in Stochastic Optimization",
          "Gradient descent GAN optimization is locally stable",
          "Do Deep Neural Networks Suffer from Crowding?",
          "Improved Training of Wasserstein GANs",
          "Learning Disentangled Representations with Semi-Supervised Deep Generative Models",
          "Attention is All you Need",
          "Value Prediction Network",
          "Causal Effect Inference with Deep Latent-Variable Models",
          "Good Semi-supervised Learning That Requires a Bad GAN",
          "Modulating early visual processing by language",
          "GANs Trained by a Two Time-Scale Update Rule Converge to a Local Nash Equilibrium",
          "Neural Expectation Maximization",
          "Attend and Predict: Understanding Gene Regulation by Selective Attention on Chromatin",
          "Style Transfer from Non-Parallel Text by Cross-Alignment",
          "Real Time Image Saliency for Black Box Classifiers",
          "On Word Embedding Dimensionality",
          "COLA: Decentralized Linear Learning",
          "A Simple Unified Framework for Detecting Out-of-Distribution Samples and Adversarial Attacks",
          "Mapping Images to Scene Graphs with Permutation-Invariant Structured Prediction",
          "Learning Conditioned Graph Structures for Interpretable Visual Question Answering",
          "Reversible Recurrent Neural Networks"
         ],
         "textfont": {
          "color": "#4D5663"
         },
         "type": "scatter",
         "x": [
          -0.8789210752452752,
          -0.7391161255261368,
          -0.8026115189055062,
          -0.7027766865569655,
          2.6157713063501706,
          -0.7629646839674111,
          -0.5460955120106158,
          -1.1568512277927343,
          -0.7004924138298364,
          -1.0954961030859935,
          -0.9424515260159546,
          -1.3232577777017378,
          -0.7673420250998386,
          -1.4417516538704913,
          -1.1630464992226264,
          -1.145861299055466,
          -1.0941458394091845,
          -1.1266082534307367,
          -0.7567755486233935,
          -0.4558195814801173,
          -1.3984927575806274,
          -1.0442296400801578,
          -0.8559258151092219,
          -0.4016041875771604,
          -0.7741914220217908,
          -0.9650261020400945,
          -0.35635080763937543,
          2.3865175233499687,
          -0.5243242281966003,
          -0.9567790996239868,
          -1.2741949685873535,
          -0.8707977986748167,
          -1.193930821865207,
          -0.8670934008519366,
          -1.1407502372141978,
          -0.9962047057782629,
          -1.3017335406480264,
          -0.8781121421973419,
          -0.9341794520017298,
          -0.5537336482974988,
          -0.9690974134056244,
          -0.6164736702846895,
          2.450004559472193,
          -0.7947784514377186,
          2.7052278977865476,
          -0.6569188153998564,
          -0.9368303896731253,
          -1.362670456841467,
          -0.8834248566214372,
          0.38424617781873416,
          -0.7287461474536113,
          -0.813824300519424,
          -0.2769190289951098,
          -0.6320466057478317,
          -0.4938865314893023,
          -1.245703425806653,
          -0.6548047873452635,
          -0.8211509891873723,
          -0.8039996518586735,
          -1.0894905420692207,
          -0.44656426696574614,
          -0.7538501418710967,
          -0.43862923673421783,
          -0.9818883866181195,
          -0.5789752717208343,
          -1.1583038946017847,
          -1.1403239156574272,
          -0.6690057850761235,
          -1.2318783289373858,
          -1.106054853085915,
          -1.3082990479772727,
          -0.9344106905030571,
          -0.7523254951209851,
          -0.6414540680861007,
          -0.8437442373322799,
          -1.1678276247490151,
          -1.1872105075992065,
          -1.2471047613627138,
          -1.1648352280140342,
          -1.0701593299322083,
          -0.8600824719691093,
          -1.2902140626899836,
          -0.7888574759542933,
          2.5261254090132437,
          -0.4494796268939357,
          -0.05779915359561357,
          -0.8703909409621176,
          2.112051813575302,
          -0.3489812833160308,
          -1.2146062989890123,
          -1.0733685271378102,
          -0.46609092840074107,
          -0.4292848543375211,
          -0.31601672140028014,
          1.8186507313221285,
          -0.6876250385293547,
          -1.0650115553451092,
          -0.5735888314759345,
          -1.0972383133270427,
          -1.3929931681306007,
          -0.6486093830201846,
          -0.8486986637155685,
          -0.6420634520690462,
          -0.7524470317757561,
          -1.0847826029055365,
          -0.7976805908776743,
          -1.2314177983572656,
          2.129218052537087,
          -0.8314213086641856,
          -0.9798792145382647,
          -0.35155265037690636,
          2.1959390447084846,
          -0.7334803918632798,
          -1.0004019516968599,
          -0.8221638586716614,
          -0.8660283999898033,
          2.6144220838516157,
          -0.08194609740636322,
          -0.6225147076048656,
          -1.1151421870322389,
          -0.7582441357774454,
          -1.3112687987027887,
          -1.3428518708693484
         ],
         "y": [
          -0.42129628770945926,
          -0.4481160462020114,
          -0.536395629584799,
          -0.8107389931237071,
          -2.1944661200038187,
          -0.7010559746519047,
          -1.1968123745620778,
          -0.4389882807819629,
          -0.10716907253326209,
          0.2528721708384635,
          0.17893915346512598,
          -0.12837122952109567,
          0.005998891126445525,
          -0.04901086991103673,
          0.29971231385058894,
          0.29029758028239516,
          0.16561122914100476,
          0.10562222149685184,
          0.37881782848279927,
          -0.18910562136625333,
          -0.10781725418933101,
          0.05001074891231708,
          0.21227932379691483,
          0.3590057477350426,
          0.4569637849753379,
          0.2375768767252434,
          -0.694790997971608,
          -0.5743652567041255,
          -0.4741844591175132,
          -0.6688480144772324,
          -0.6174186217826745,
          0.38760828132797437,
          0.23849016380057544,
          -0.29970162408649303,
          -0.0016127501682379228,
          0.32229966765278145,
          -0.17840940342058656,
          0.03157216821773976,
          0.2602304031425044,
          0.6672280328858663,
          -0.2973841162624964,
          0.45368998270826955,
          -1.3189594631723578,
          0.18124546252138296,
          -1.9177870274112037,
          0.4132798138576816,
          -0.4533274744368808,
          -0.46763501692254905,
          0.4218250921530417,
          0.10673242537144548,
          -0.046273226889372875,
          -0.36910982880699694,
          -0.6666383824039592,
          -0.7586618689977261,
          0.16250021277558332,
          -0.35783863100857405,
          0.32328596734643056,
          -1.0741383344966269,
          0.49786753602071654,
          0.2627484761091167,
          0.4841585114069708,
          -0.6410566254080208,
          -0.009394173762692451,
          0.08449152560797096,
          0.5168049070876966,
          -0.13441202684590384,
          -2.3218601117637485,
          0.3975465526023857,
          -0.2458531026796267,
          0.10393984184430304,
          -0.08065924660136774,
          -0.043740665286462914,
          -0.14090876238170716,
          0.14975635436921725,
          0.3665669159472968,
          -0.24949156117341953,
          -0.14519455672317796,
          -0.06580828702083161,
          -0.7905634996087106,
          -0.0635435310215852,
          -0.11948044040590973,
          0.016372712450009135,
          -0.32440828233088687,
          -0.22653906490598227,
          0.4336328266273363,
          -0.31047555807603483,
          0.15616278731491376,
          -1.9666446709272243,
          0.6313019262324223,
          -0.11403717541613077,
          0.015414515767162016,
          0.79442259041612,
          -0.04841340031622205,
          -0.18091035644399905,
          8.338700523023604,
          0.3015661427202263,
          -0.1593840984579978,
          0.32520154902296344,
          -0.7630802710439331,
          0.08981728965703709,
          0.45065428929965795,
          -0.3504258909706849,
          -0.036818919261058,
          -0.13764445526142502,
          -0.31001963496022816,
          -0.7920678846738358,
          -0.23078094772519075,
          -2.6581687239649345,
          -1.9752497860759348,
          0.22316005655360832,
          -0.0980334707166984,
          -1.7806052846925264,
          -0.607124314793956,
          -0.12121678055388488,
          -0.4165930968240378,
          -0.1450830667865781,
          -1.1465427628743374,
          0.9382201434425174,
          0.25905125706696014,
          -0.44626528507584035,
          0.08556738810164086,
          -0.5541311482095976,
          -0.503422701900396
         ]
        },
        {
         "marker": {
          "color": "rgba(55, 128, 191, 1.0)",
          "line": {
           "width": 1.3
          },
          "opacity": 0.8,
          "size": 12,
          "symbol": "circle"
         },
         "mode": "markers",
         "name": "ECCV",
         "text": [
          "Improving Shape Deformation in Unsupervised Image-to-Image Translation",
          "Pairwise Confusion for Fine-Grained Visual Classification",
          "GANimation: Anatomically-aware Facial Animation from a Single Image",
          "Deep Expander Networks: Efficient Deep Networks from Graph Theory",
          "3DMV: Joint 3D-Multi-View Prediction for 3D Semantic Scene Segmentation",
          "Learning Category-Specific Mesh Reconstruction from Image Collections",
          "Zero-Shot Object Detection",
          "A Style-Aware Content Loss for Real-time HD Style Transfer",
          "Piggyback: Adapting a Single Network to Multiple Tasks by Learning to Mask Weights",
          "Semi-supervised Adversarial Learning to Generate Photorealistic Face Images of New Identities from 3D Morphable Model",
          "Simple Baselines for Human Pose Estimation and Tracking",
          "Toward Characteristic-Preserving Image-based Virtual Try-On Network",
          "Acquisition of Localization Confidence for Accurate Object Detection",
          "Conditional Image-Text Embedding Networks",
          "SketchyScene: Richly-Annotated Scene Sketches",
          "Progressive Neural Architecture Search",
          "Image Manipulation with Perceptual Discriminators",
          "Repeatability Is Not Enough: Learning Affine Regions via Discriminability",
          "Unsupervised holistic image generation from key local patches",
          "LQ-Nets: Learned Quantization for Highly Accurate and Compact Deep Neural Networks",
          "Is Robustness the Cost of Accuracy? -- A Comprehensive Study on the Robustness of 18 Deep Image Classification Models",
          "Dynamic Multimodal Instance Segmentation Guided by Natural Language Queries",
          "Dynamic Conditional Networks for Few-Shot Learning",
          "Recovering 3D Planes from a Single Image via Convolutional Neural Networks",
          "Learning Single-View 3D Reconstruction with Limited Pose Supervision",
          "Image Inpainting for Irregular Holes Using Partial Convolutions",
          "Unsupervised Geometry-Aware Representation for 3D Human Pose Estimation",
          "PSANet: Point-wise Spatial Attention Network for Scene Parsing",
          "Deep Randomized Ensembles for Metric Learning",
          "Predicting Gaze in Egocentric Video by Learning Task-dependent Attention Transition",
          "Coloring with Words: Guiding Image Colorization Through Text-based Palette Generation",
          "Fighting Fake News: Image Splice Detection via Learned Self-Consistency",
          "HiDDeN: Hiding Data with Deep Networks",
          "Multi-scale Residual Network for Image Super-Resolution",
          "Adaptive Affinity Fields for Semantic Segmentation",
          "Statistically-motivated Second-order Pooling",
          "Stacked Cross Attention for Image-Text Matching",
          "Open Set Domain Adaptation by Backpropagation",
          "DeepVS: A Deep Learning Based Video Saliency Prediction Approach",
          "EC-Net: an Edge-aware Point set Consolidation Network",
          "Encoder-Decoder with Atrous Separable Convolution for Semantic Image Segmentation",
          "Estimating the Success of Unsupervised Image to Image Translation",
          "Single Shot Scene Text Retrieval",
          "Learning Type-Aware Embeddings for Fashion Compatibility",
          "Learning Visual Question Answering by Bootstrapping Hard Attention",
          "Deep Clustering for Unsupervised Learning of Visual Features",
          "Joint Person Segmentation and Identification in Synchronized First- and Third-person Videos",
          "ECO: Efficient Convolutional Network for Online Video Understanding",
          "Diverse and Coherent Paragraph Generation from Images",
          "MultiPoseNet: Fast Multi-Person Pose Estimation using Pose Residual Network",
          "ShapeStacks: Learning Vision-Based Physical Intuition for Generalised Object Stacking",
          "Towards Realistic Predictors",
          "Choose Your Neuron: Incorporating Domain Knowledge through Neuron-Importance",
          "Explainable Neural Computation via Stack Neural Module Networks",
          "Learning to Separate Object Sounds by Watching Unlabeled Video",
          "ESPNet: Efficient Spatial Pyramid of Dilated Convolutions for Semantic Segmentation",
          "Visual Coreference Resolution in Visual Dialog using Neural Module Networks",
          "License Plate Detection and Recognition in Unconstrained Scenarios",
          "Deep High Dynamic Range Imaging with Large Foreground Motions",
          "Multi-view to Novel view: Synthesizing novel views with Self-Learned Confidence",
          "Specular-to-Diffuse Translation for Multi-View Reconstruction",
          "Layer-structured 3D Scene Inference via View Synthesis",
          "3D-CODED: 3D Correspondences by Deep Deformation",
          "HybridNet: Classification and Reconstruction Cooperation for Semi-Supervised Learning",
          "BSN: Boundary Sensitive Network for Temporal Action Proposal Generation",
          "Learning Dynamic Memory Networks for Object Tracking",
          "Interpretable Intuitive Physics Model",
          "Gray-box Adversarial Training",
          "Depth-aware CNN for RGB-D Segmentation",
          "Learning Efficient Single-stage Pedestrian Detectors by Asymptotic Localization Fitting",
          "A Modulation Module for Multi-task Learning with Applications in Image Retrieval",
          "Single Image Water Hazard Detection using FCN with Reflection Attention Units",
          "Integral Human Pose Regression",
          "Recurrent Squeeze-and-Excitation Context Aggregation Net for Single Image Deraining",
          "Quaternion Convolutional Neural Networks",
          "Mutual Learning to Adapt for Joint Human Parsing and Pose Estimation",
          "Pose Partition Networks for Multi-Person Pose Estimation",
          "Video Re-localization",
          "Joint 3D Face Reconstruction and Dense Alignment with Position Map Regression Network",
          "MVSNet: Depth Inference for Unstructured Multi-view Stereo",
          "Audio-Visual Event Localization in Unconstrained Videos",
          "Macro-Micro Adversarial Network for Human Parsing",
          "SpiderCNN: Deep Learning on Point Sets with Parameterized Convolutional Filters",
          "PlaneMatch: Patch Coplanarity Prediction for Robust RGB-D Reconstruction",
          "Factorizable Net: An Efficient Subgraph-based Framework for Scene Graph Generation",
          "DF-Net: Unsupervised Joint Learning of Depth and Flow using Cross-Task Consistency",
          "Image Super-Resolution Using Very Deep Residual Channel Attention Networks",
          "Group Normalization",
          "Learning to Navigate for Fine-grained Classification",
          "Partial Adversarial Domain Adaptation",
          "Shift-Net: Image Inpainting via Deep Feature Rearrangement",
          "Distractor-aware Siamese Networks for Visual Object Tracking",
          "Improving Generalization via  Scalable Neighborhood Component Analysis",
          "Saliency Detection in 360° Videos",
          "GeoDesc: Learning Local Descriptors by Integrating Geometry Constraints"
         ],
         "textfont": {
          "color": "#4D5663"
         },
         "type": "scatter",
         "x": [
          -0.8505888127523739,
          -0.8036772832579717,
          -0.8199905335534566,
          -0.9842383840630559,
          -1.108233438579999,
          -0.9933108605714387,
          -1.2349697421768246,
          -1.028956492358281,
          -1.1447111602471993,
          -1.2794538482916276,
          -1.1871481598661555,
          -1.0709688020517845,
          -0.8465303964236759,
          1.297596814101265,
          -1.1247685853568452,
          1.314047575537134,
          -1.2104404891436615,
          -0.3928146522526961,
          -1.0106571353220661,
          -0.9085508830109162,
          -1.4310015160103957,
          -0.9200648367025777,
          3.7682256134407033,
          1.1522608951902373,
          1.2329300833499952,
          -1.000420496784102,
          -0.6464598438382957,
          1.5763383185036395,
          -0.2971318646270489,
          -1.0251998183234303,
          -1.0606574526802557,
          -0.6396464457021103,
          -1.1078769582954262,
          1.91042178314073,
          -1.2069518412949065,
          -1.063133873929146,
          -1.3203903011245974,
          -1.1074734556230132,
          -0.9859877760579778,
          0.309471027752892,
          -1.2218147407645026,
          -0.5789651891882763,
          -1.235583458447863,
          -0.9977664419543415,
          0.2441347165836761,
          -0.769069670365054,
          -0.8280402472731573,
          1.8114790342143363,
          3.5354781743375168,
          -0.6673646785678105,
          -0.9666492642135833,
          0.7060942419312679,
          -1.0958244913621011,
          -0.46781864769736076,
          -1.1100036220737832,
          -0.8334911849118465,
          -1.2153537478498755,
          1.6813054731611035,
          -0.5497938197964578,
          -0.8185016356900767,
          -0.29657190956711604,
          -0.49485158804114576,
          -0.826124040137476,
          -0.5288514360325233,
          -0.46781864769736076,
          -1.17516358993597,
          -0.8599406088654871,
          -0.9761914702897535,
          -0.9639570407333039,
          -0.529232998786004,
          1.9548256206894181,
          -1.264962981408522,
          -0.5912451085973804,
          -1.1621133694514398,
          -0.6739340680336817,
          3.2278567659663726,
          -0.9053695170643952,
          -1.2346038789336482,
          -1.174146428156847,
          -1.1632145988323788,
          0.20835659062114964,
          -1.0086614850634867,
          -0.5585053622051921,
          -0.804737743467653,
          -0.7701071009895372,
          3.2658402635925485,
          -0.3086019243463208,
          -0.8003352235198792,
          -1.1624847043302005,
          -0.7810355961809481,
          -0.2971318646270489,
          -1.1943504599435737,
          -1.1759042335752325,
          -0.45643707589217436,
          -0.429414920397491
         ],
         "y": [
          0.20629731740781043,
          -0.1391380539689428,
          -0.24986275061727475,
          -0.588751537008844,
          -0.2632746199535628,
          -0.4074368488391526,
          -0.33522414404936657,
          -0.9797975574671898,
          -0.7929562943219437,
          -0.2489259390519742,
          -0.40595258128367184,
          -0.11352159424341057,
          -0.29294946252343707,
          -1.329710646176325,
          -0.306283195317457,
          -4.9689124202507475,
          -0.5364926671197077,
          -0.07294162456063048,
          -0.03344424950931391,
          -1.1403381099340133,
          -0.5861093483897075,
          -0.21445641143011368,
          -1.3451703870232303,
          1.9361989413715537,
          1.8606655251301158,
          -0.5744455171250995,
          -0.08654231769585471,
          -1.6031718219541389,
          -0.00721080157764549,
          -0.6497608731762714,
          -0.4567637738334431,
          -0.40037002537127275,
          -0.7017258745705679,
          -1.9601505996294801,
          -0.3952142555311035,
          -0.17407170743505193,
          -0.6696408327433658,
          -0.18208149580258717,
          -0.18279338117098623,
          4.786829442953824,
          -0.5006276805898645,
          -0.12445723456405627,
          -0.2632562082176283,
          -0.2810211411420911,
          -1.8753225596397038,
          -1.2507226007146148,
          -0.6635315623355712,
          -1.5022168299382104,
          -0.4592415111094557,
          -0.12520279654183497,
          0.094266869002694,
          -2.3701610185961837,
          -0.5194527137211673,
          0.35016846701499255,
          -0.3418465551987732,
          -0.08785962407029224,
          -0.3067750234684559,
          9.267906830730102,
          -0.27423199516180585,
          0.03061182516574971,
          -0.09150156443734157,
          0.2441429876805192,
          -0.32784313065250625,
          -0.6732491260072304,
          0.35016846701499255,
          -0.3607189131954908,
          -0.35965764728475774,
          -0.5036505040004341,
          -0.37761475590584176,
          -0.4445117592329463,
          -1.4445565866497463,
          -0.46070980329147415,
          -0.47660981423074955,
          -0.3675260978242039,
          0.01514164013903547,
          -1.3926298118631821,
          -0.27573882836309516,
          -0.2587743581490336,
          -0.13164223123157792,
          -0.14498683273870533,
          -0.25776078357265764,
          -0.2999037322283218,
          -0.28348512997450437,
          -0.5931458703480728,
          -0.25637159104202006,
          -0.44158055400968055,
          -0.10787483505268491,
          -0.5382769951775993,
          -0.5782693459627548,
          -0.45775610308963005,
          -0.00721080157764549,
          -0.5059133592580118,
          -0.9674493280562038,
          -0.2349190210988113,
          0.32038928878060524
         ]
        },
        {
         "marker": {
          "color": "rgba(50, 171, 96, 1.0)",
          "line": {
           "width": 1.3
          },
          "opacity": 0.8,
          "size": 12,
          "symbol": "circle"
         },
         "mode": "markers",
         "name": "CVPR",
         "text": [
          "Efficient Interactive Annotation of Segmentation Datasets With Polygon-RNN++",
          "An Improved Deep Learning Architecture for Person Re-Identification",
          "Learning Pixel-Level Semantic Affinity With Image-Level Supervision for Weakly Supervised Semantic Segmentation",
          "Defense Against Universal Adversarial Perturbations",
          "Light Field Intrinsics With a Deep Encoder-Decoder Network",
          "Neural Module Networks",
          "Real-Time Monocular Depth Estimation Using Synthetic Data With Domain Adaptation via Image Style Transfer",
          "Multi-Content GAN for Few-Shot Font Style Transfer",
          "LCNN: Lookup-Based Convolutional Neural Network",
          "Deep Watershed Transform for Instance Segmentation",
          "Glimpse Clouds: Human Activity Recognition From Unstructured Feature Points",
          "Hierarchical Boundary-Aware Neural Encoder for Video Captioning",
          "Visual Feature Attribution Using Wasserstein GANs",
          "Deep Unsupervised Similarity Learning Using Partially Ordered Sets",
          "The Lovász-Softmax Loss: A Tractable Surrogate for the Optimization of the Intersection-Over-Union Measure in Neural Networks",
          "Geometry-Aware Learning of Maps for Camera Localization",
          "SST: Single-Stream Temporal Action Proposals",
          "In-Place Activated BatchNorm for Memory-Optimized Training of DNNs",
          "One-Shot Video Object Segmentation",
          "Neural Sign Language Translation",
          "HashGAN: Deep Learning to Hash With Pair Conditional Wasserstein GAN",
          "Partial Transfer Learning With Selective Adversarial Networks",
          "Realtime Multi-Person 2D Pose Estimation Using Part Affinity Fields",
          "Visual Question Reasoning on General Dependency Tree",
          "Annotating Object Instances With a Polygon-RNN",
          "Pyramid Stereo Matching Network",
          "AON: Towards Arbitrarily-Oriented Text Recognition",
          "Cascaded Pyramid Network for Multi-Person Pose Estimation",
          "Deep Photo Enhancer: Unpaired Learning for Image Enhancement From Photographs With GANs",
          "Knowledge Aided Consistency for Weakly Supervised Phrase Grounding",
          "LiDAR-Video Driving Dataset: Learning Driving Policies Effectively",
          "Multi-View 3D Object Detection Network for Autonomous Driving",
          "StarGAN: Unified Generative Adversarial Networks for Multi-Domain Image-to-Image Translation",
          "Xception: Deep Learning With Depthwise Separable Convolutions",
          "Lip Reading Sentences in the Wild",
          "VidLoc: A Deep Spatio-Temporal Model for 6-DoF Video-Clip Relocalization",
          "Large Scale Fine-Grained Categorization and Domain-Specific Transfer Learning",
          "Learning to Evaluate Image Captioning",
          "ScanComplete: Large-Scale Scene Completion and Semantic Segmentation for 3D Scans",
          "Eye In-Painting With Exemplar Generative Adversarial Networks",
          "Style Aggregated Network for Facial Landmark Detection",
          "Supervision-by-Registration: An Unsupervised Approach to Improve the Precision of Facial Landmark Detectors",
          "Structured Uncertainty Prediction Networks",
          "Low-Shot Learning With Large-Scale Diffusion",
          "GraphBit: Bitwise Interaction Mining via Deep Reinforcement Learning",
          "WILDCAT: Weakly Supervised Learning of Deep ConvNets for Image Classification, Pointwise Localization and Segmentation",
          "Who Let the Dogs Out? Modeling Dog Behavior From Visual Data",
          "Robust Physical-World Attacks on Deep Learning Visual Classification",
          "AMNet: Memorability Estimation With Attention",
          "A Point Set Generation Network for 3D Object Reconstruction From a Single Image",
          "End-to-End Learning of Motion Representation for Video Understanding",
          "Spatially Adaptive Computation Time for Residual Networks",
          "Compact Bilinear Pooling",
          "Learning Generative ConvNets via Multi-Grid Modeling and Sampling",
          "Dynamic Few-Shot Visual Learning Without Forgetting",
          "Social GAN: Socially Acceptable Trajectories With Generative Adversarial Networks",
          "DeLiGAN : Generative Adversarial Networks for Diverse and Limited Data",
          "Learning by Association -- A Versatile Semi-Supervised Training Method for Neural Networks",
          "Deep Pyramidal Residual Networks",
          "Can Spatiotemporal 3D CNNs Retrace the History of 2D CNNs and ImageNet?",
          "Deep Back-Projection Networks for Super-Resolution",
          "Deep Residual Learning for Image Recognition",
          "Deeply Supervised Salient Object Detection With Short Connections",
          "CondenseNet: An Efficient DenseNet Using Learned Group Convolutions",
          "DeepMVS: Learning Multi-View Stereopsis",
          "Densely Connected Convolutional Networks",
          "Learning Deep Representation for Imbalanced Classification",
          "Real-Time Neural Style Transfer for Videos",
          "Speed/Accuracy Trade-Offs for Modern Convolutional Object Detectors",
          "Pointwise Convolutional Neural Networks",
          "Fast and Accurate Single Image Super-Resolution via Information Distillation Network",
          "LiteFlowNet: A Lightweight Convolutional Neural Network for Optical Flow Estimation",
          "Deep 360 Pilot: Learning a Deep Agent for Piloting Through 360deg Sports Videos",
          "FC4: Fully Convolutional Color Constancy With Confidence-Weighted Pooling",
          "Finding Tiny Faces",
          "Learning Answer Embeddings for Visual Question Answering",
          "Modeling Relationships in Referential Expressions With Compositional Modular Networks",
          "Image Specificity",
          "DenseCap: Fully Convolutional Localization Networks for Dense Captioning",
          "Image Generation From Scene Graphs",
          "Total Capture: A 3D Deformation Model for Tracking Faces, Hands, and Bodies",
          "Perturbative Neural Networks",
          "End-to-End Recovery of Human Shape and Pose",
          "Convolutional Neural Networks for No-Reference Image Quality Assessment",
          "Geometric Loss Functions for Camera Pose Regression With Deep Learning",
          "Simple Does It: Weakly Supervised Instance and Semantic Segmentation",
          "Accurate Image Super-Resolution Using Very Deep Convolutional Networks",
          "Context Embedding Networks",
          "Deeply-Recursive Convolutional Network for Image Super-Resolution",
          "Deep Hand: How to Train a CNN on 1 Million Hand Images When Your Data Is Continuous and Weakly Labelled",
          "RON: Reverse Connection With Objectness Prior Networks for Object Detection",
          "Surface Networks",
          "A Hierarchical Approach for Generating Descriptive Image Paragraphs",
          "Stochastic Downsampling for Cost-Adjustable Inference and Improved Regularization in Convolutional Networks",
          "Deep Laplacian Pyramid Networks for Fast and Accurate Super-Resolution",
          "Deep Learning Under Privileged Information Using Heteroscedastic Dropout",
          "TI-Pooling: Transformation-Invariant Pooling for Feature Learning in Convolutional Neural Networks",
          "Fast Algorithms for Convolutional Neural Networks",
          "Photo-Realistic Single Image Super-Resolution Using a Generative Adversarial Network",
          "CleanNet: Transfer Learning for Scalable Image Classifier Training With Label Noise",
          "Hierarchical Novelty Detection for Visual Object Recognition",
          "Recurrent Convolutional Neural Network for Object Recognition",
          "Deep Marching Cubes: Learning Explicit Surface Representations",
          "Conditional Image-to-Image Translation",
          "Inverse Compositional Spatial Transformer Networks",
          "RefineNet: Multi-Path Refinement Networks for High-Resolution Semantic Segmentation",
          "ST-GAN: Spatial Transformer Generative Adversarial Networks for Image Compositing",
          "Decoupled Networks",
          "Deep Supervised Hashing for Fast Image Retrieval",
          "FOTS: Fast Oriented Text Spotting With a Unified Network",
          "Future Frame Prediction for Anomaly Detection  A New Baseline",
          "PiCANet: Learning Pixel-Wise Contextual Attention for Saliency Detection",
          "PlaneNet: Piece-Wise Planar Reconstruction From a Single RGB Image",
          "Predicting Salient Face in Multiple-Face Videos",
          "Recognizing Human Actions as the Evolution of Pose Estimation Maps",
          "Richer Convolutional Features for Edge Detection",
          "SphereFace: Deep Hypersphere Embedding for Face Recognition",
          "Convolutional Sequence to Sequence Model for Human Dynamics",
          "CSRNet: Dilated Convolutional Neural Networks for Understanding the Highly Congested Scenes",
          "Learning Intrinsic Image Decomposition From Watching the World",
          "MegaDepth: Learning Single-View Depth Prediction From Internet Photos",
          "SO-Net: Self-Organizing Network for Point Cloud Analysis",
          "Towards Faster Training of Global Covariance Pooling Networks by Iterative Matrix Square Root Normalization",
          "Attention Clusters: Purely Attention Based Local Feature Integration for Video Classification",
          "Fully Convolutional Networks for Semantic Segmentation",
          "Deep Photo Style Transfer",
          "Discriminability Objective for Training Descriptive Captions",
          "Efficient Deep Learning for Stereo Matching",
          "Non-Local Deep Features for Salient Object Detection",
          "Neural Baby Talk",
          "Unsupervised Video Summarization With Adversarial LSTM Networks",
          "PackNet: Adding Multiple Tasks to a Single Network by Iterative Pruning",
          "Boosting Domain Adaptation by Discovering Latent Domains",
          "On Human Motion Prediction Using Recurrent Neural Networks",
          "Transparency by Design: Closing the Gap Between Performance and Interpretability in Visual Reasoning",
          "Disentangled Person Image Generation",
          "Conditional Probability Models for Deep Image Compression",
          "Cross-Stitch Networks for Multi-Task Learning",
          "NAG: Network for Adversary Generation",
          "Beyond the Pixel-Wise Loss for Topology-Aware Delineation",
          "3D Bounding Box Estimation Using Deep Learning and Geometry",
          "Improved Fusion of Visual and Language Representations by Dense Symmetric Co-Attention for Visual Question Answering",
          "Human Pose Estimation With Parsing Induced Learner",
          "Video Frame Interpolation via Adaptive Convolution",
          "Learning Dual Convolutional Neural Networks for Low-Level Vision",
          "Towards Accurate Multi-Person Pose Estimation in the Wild",
          "Making Deep Neural Networks Robust to Label Noise: A Loss Correction Approach",
          "Jointly Optimize Data Augmentation and Network Training: Adversarial Data Augmentation in Human Pose Estimation",
          "Learning Latent Super-Events to Detect Multiple Activities in Videos",
          "Full-Resolution Residual Networks for Semantic Segmentation in Street Scenes",
          "Learning Pose Specific Representations by Predicting Different Views",
          "Generative Adversarial Perturbations",
          "PieAPP: Perceptual Image-Error Assessment Through Pairwise Preference",
          "Attentive Generative Adversarial Network for Raindrop Removal From a Single Image",
          "Few-Shot Image Recognition by Predicting Parameters From Activations",
          "Frustum PointNets for 3D Object Detection From RGB-D Data",
          "GeoNet: Geometric Neural Network for Joint Depth and Surface Normal Estimation",
          "Low-Shot Learning With Imprinted Weights",
          "PointNet: Deep Learning on Point Sets for 3D Classification and Segmentation",
          "Semi-Parametric Image Synthesis",
          "Top-Down Visual Saliency Guided by Captions",
          "Optical Flow Estimation Using a Spatial Pyramid Network",
          "Self-Critical Sequence Training for Image Captioning",
          "Cross-Domain Self-Supervised Multi-Task Feature Learning Using Synthetic Imagery",
          "End-To-End Instance Segmentation With Recurrent Attention",
          "Action Sets: Weakly Supervised Action Segmentation Without Ordering Constraints",
          "End-to-End Weakly-Supervised Semantic Alignment",
          "Real-World Repetition Estimation by Div, Grad and Curl",
          "Adversarially Learned One-Class Classifier for Novelty Detection",
          "Logo Synthesis and Manipulation With Clustered Generative Adversarial Networks",
          "Generate to Adapt: Aligning Domains Using Generative Adversarial Networks",
          "Learning From Synthetic Data: Addressing Domain Shift for Semantic Segmentation",
          "Avatar-Net: Multi-Scale Zero-Shot Style Transfer by Feature Decoration",
          "Weakly Supervised Dense Video Captioning",
          "Pixels, Voxels, and Views: A Study of Shape Representations for Single View 3D Object Shape Prediction",
          "Real-Time Single Image and Video Super-Resolution Using an Efficient Sub-Pixel Convolutional Neural Network",
          "Learning From Simulated and Unsupervised Images Through Adversarial Training",
          "Actor and Observer: Joint Modeling of First and Third-Person Videos",
          "Deep Metric Learning via Facility Location",
          "VITAL: VIsual Tracking via Adversarial Learning",
          "Cross-Modal Deep Variational Hand Pose Estimation",
          "Light Field Blind Motion Deblurring",
          "End-To-End People Detection in Crowded Scenes",
          "Pix3D: Dataset and Methods for Single-Image 3D Shape Modeling",
          "PWC-Net: CNNs for Optical Flow Using Pyramid, Warping, and Cost Volume",
          "Rethinking the Inception Architecture for Computer Vision",
          "Spatially-Adaptive Filter Units for Deep Neural Networks",
          "Image Super-Resolution via Deep Recursive Residual Network",
          "Multiple Instance Detection Network With Online Instance Classifier Refinement",
          "Multiple People Tracking by Lifted Multicut and Person Re-Identification",
          "Scale-Recurrent Network for Deep Image Deblurring",
          "Tangent Convolutions for Dense Prediction in 3D",
          "Real-Time Seamless Single Shot 6D Object Pose Prediction",
          "Two-Stream Convolutional Networks for Dynamic Texture Synthesis",
          "Full Resolution Image Compression With Recurrent Neural Networks",
          "Lifting From the Deep: Convolutional 3D Pose Estimation From a Single Image",
          "A Closer Look at Spatiotemporal Convolutions for Action Recognition",
          "Face Normals \"In-The-Wild\" Using Fully Convolutional Networks",
          "Learning to Adapt Structured Output Space for Semantic Segmentation",
          "Learning Shape Abstractions by Assembling Volumetric Primitives",
          "MoCoGAN: Decomposing Motion and Content for Video Generation",
          "Learning Superpixels With Segmentation-Aware Affinity Loss",
          "Adversarial Discriminative Domain Adaptation",
          "Deep Image Prior",
          "Deep Feature Interpolation for Image Content Changes",
          "PointNetVLAD: Deep Point Cloud Based Retrieval for Large-Scale Place Recognition",
          "Conditional Similarity Networks",
          "Neural Kinematic Networks for Unsupervised Motion Retargetting",
          "Show and Tell: A Neural Image Caption Generator",
          "Adversarial Feature Augmentation for Unsupervised Domain Adaptation",
          "Face Aging With Identity-Preserved Conditional Generative Adversarial Networks",
          "High-Resolution Image Synthesis and Semantic Manipulation With Conditional GANs",
          "Learning a Discriminative Filter Bank Within a CNN for Fine-Grained Recognition",
          "Multimodal Transfer: A Hierarchical Deep Convolutional Neural Network for Fast Artistic Style Transfer",
          "Repulsion Loss: Detecting Pedestrians in a Crowd",
          "Revisiting Video Saliency: A Large-Scale Benchmark and a New Model",
          "SGPN: Similarity Group Proposal Network for 3D Point Cloud Instance Segmentation",
          "Skeleton Key: Image Captioning by Skeleton-Attribute Decomposition",
          "Min-Entropy Latent Model for Weakly Supervised Object Detection",
          "Rethinking Feature Distribution for Loss Functions in Image Classification",
          "Bidirectional Retrieval Made Simple",
          "Convolutional Pose Machines",
          "Dense Human Body Correspondences Using Convolutional Networks",
          "Compressed Video Action Recognition",
          "Exploit the Unknown Gradually: One-Shot Video-Based Person Re-Identification by Stepwise Learning",
          "Quantized Convolutional Neural Networks for Mobile Devices",
          "Unsupervised Feature Learning via Non-Parametric Instance Discrimination",
          "Feature Generating Networks for Zero-Shot Learning",
          "Gibson Env: Real-World Perception for Embodied Agents",
          "Aggregated Residual Transformations for Deep Neural Networks",
          "Learning Descriptor Networks for 3D Shape Synthesis and Analysis",
          "Deep Texture Manifold for Ground Terrain Recognition",
          "AttnGAN: Fine-Grained Text to Image Generation With Attentional Generative Adversarial Networks",
          "Deep Image Matting",
          "Scene Graph Generation by Iterative Message Passing",
          "DenseASPP for Semantic Segmentation in Street Scenes",
          "Learning Face Age Progression: A Pyramid Architecture of GANs",
          "Neural Aggregation Network for Video Face Recognition",
          "Object Contour Detection With a Fully Convolutional Encoder-Decoder Network",
          "Robust Classification With Convolutional Prototype Learning",
          "Semantic Filtering",
          "GeoNet: Unsupervised Learning of Dense Depth, Optical Flow and Camera Pose",
          "Crafting a Toolchain for Image Restoration by Deep Reinforcement Learning",
          "Dilated Residual Networks",
          "Generative Image Inpainting With Contextual Attention",
          "MAttNet: Modular Attention Network for Referring Expression Comprehension",
          "PU-Net: Point Cloud Upsampling Network",
          "Video Paragraph Captioning Using Hierarchical Recurrent Neural Networks",
          "Learning to Promote Saliency Detectors",
          "S3Pool: Pooling With Stochastic Spatial Sampling",
          "Adversarial Complementary Learning for Weakly Supervised Object Localization",
          "Deep Mutual Learning",
          "Densely Connected Pyramid Dehazing Network",
          "Density-Aware Single Image De-Raining Using a Multi-Stream Dense Network",
          "Grounding Referring Expressions in Images by Variational Context",
          "ISTA-Net: Interpretable Optimization-Inspired Deep Network for Image Compressive Sensing",
          "Joint Pose and Expression Modeling for Facial Expression Recognition",
          "Learning a Deep Embedding Model for Zero-Shot Learning",
          "Residual Dense Network for Image Super-Resolution",
          "Single-Image Crowd Counting via Multi-Column Convolutional Neural Network",
          "The Unreasonable Effectiveness of Deep Features as a Perceptual Metric",
          "Unsupervised Discovery of Object Landmarks as Structural Representations",
          "Visual Translation Embedding Network for Visual Relation Detection",
          "Ring Loss: Convex Feature Normalization for Face Recognition",
          "EAST: An Efficient and Accurate Scene Text Detector",
          "Learning Deep Features for Discriminative Localization",
          "Learning Rich Features for Image Manipulation Detection",
          "Weakly Supervised Instance Segmentation Using Class Peak Response",
          "Fast Training of Triplet-Based Deep Binary Embedding Networks",
          "Towards Effective Low-Bitwidth Convolutional Neural Networks",
          "Learning Spatial Regularization With Image-Level Supervisions for Multi-Label Image Classification",
          "Learning Transferable Architectures for Scalable Image Recognition",
          "LayoutNet: Reconstructing the 3D Room Layout From a Single RGB Image"
         ],
         "textfont": {
          "color": "#4D5663"
         },
         "type": "scatter",
         "x": [
          0.02026021814949698,
          -0.7061982964675222,
          -0.14750604602825027,
          -0.23818069345996049,
          3.06987178805683,
          2.633623127561483,
          -0.07077116420237206,
          0.004745067093532053,
          -0.04051231027034655,
          -0.12713079700590452,
          -0.1442380354608406,
          2.9917126263496865,
          -0.13121283521987678,
          -0.3626441999748285,
          -0.24166072799210583,
          0.03910176526404213,
          -0.07651466168733614,
          2.849431470142667,
          -1.1860154425027745,
          -0.3573696030702578,
          -0.14750604602825027,
          0.004745067093532053,
          0.0720960278129373,
          0.03910176526404213,
          -0.17628436540861275,
          -0.9191753231099721,
          2.4441792952994854,
          -0.23818069345996049,
          3.4469926601752126,
          -0.06620064783017679,
          2.266310665405885,
          2.900245936379811,
          -0.04617016812625726,
          4.1185482825977795,
          3.9547752447541935,
          -0.3642788779232984,
          -0.08613816113257237,
          -0.8150105617417966,
          -1.0442222322488264,
          -0.14750604602825027,
          4.084611186316531,
          0.9691608380763114,
          -0.14750604602825027,
          0.6005811650904561,
          -0.5489281148926797,
          0.06683029353853621,
          2.632371349577706,
          -0.21143049847665296,
          3.2809013150838626,
          3.5062401170553588,
          0.03337900245685906,
          -0.10647367734483423,
          -0.24116612884832037,
          0.0473080925346429,
          1.6701360039780915,
          2.993329980321656,
          3.8009500057481596,
          -0.04293121932540228,
          4.051312772213673,
          3.3745555886601615,
          3.827573875231063,
          3.8070805692134657,
          -0.9400111549886755,
          2.5343737299531157,
          -0.739337443224496,
          2.9170810454493714,
          -0.9857017484499508,
          3.606339661783695,
          -0.017042015661449444,
          -0.13594963207226896,
          2.0013280154566004,
          -0.46064549594720566,
          -0.3309966602665113,
          -0.15543669320222459,
          0.06683029353853621,
          -0.07077116420237206,
          0.09500613947503499,
          -0.6616837240416306,
          -0.13418769399824232,
          0.01645679235264718,
          -0.45285700610667884,
          2.045908386597831,
          -0.34737673249051704,
          -0.7558227007385521,
          -0.07026623271312005,
          0.004328027360195322,
          -0.17180625558444743,
          -0.14750604602825027,
          -0.5697793731600803,
          -0.24373845980725692,
          2.3476165962868594,
          3.05576195051194,
          0.0066965328636955255,
          -0.13542973555199847,
          -0.765318174440196,
          -0.061319035471065625,
          -0.7594179911395084,
          -0.23327458552828415,
          3.2519580379925577,
          2.8608653460872153,
          0.02026021814949698,
          -1.2346942135238606,
          -1.0783222912193688,
          0.1479306948039243,
          -0.020912774735334514,
          0.201495746928247,
          -0.22938839317721535,
          -0.37321378963398566,
          -0.18469721121190866,
          -0.15528919635359167,
          2.6765252488301496,
          -0.17608947629854993,
          -0.35344358330611975,
          -0.5631626479020878,
          -1.0986740464826381,
          0.08745721240079815,
          3.244790618675556,
          -0.3546892409392198,
          -0.22186746621554274,
          0.1347899610372388,
          0.04288438633239313,
          3.3217895632924668,
          -0.8012825246425773,
          -0.14750604602825027,
          -1.3834895093581392,
          -0.017042015661449444,
          0.059011758270056745,
          1.3559115405637017,
          0.0668068364120928,
          2.431345629188477,
          2.8581698520779604,
          0.004745067093532053,
          0.02026021814949698,
          -0.12713079700590452,
          2.953852635505016,
          -0.3546892409392198,
          3.6338420722883282,
          -0.7655027601373255,
          -0.05862833028202092,
          -0.9096536046393898,
          1.3659173623269367,
          -0.034154059229939915,
          3.4447446417475454,
          0.1434340516667011,
          -0.21946149977045998,
          -0.013316438225999103,
          -0.020912774735334514,
          -0.722825980402829,
          -0.3084315659354619,
          -0.3606140308862534,
          -0.26303504069785427,
          -0.009270558418727183,
          2.2877895988551407,
          3.8806120662348693,
          -0.07077116420237206,
          -0.6519640993293035,
          -0.69429790373298,
          2.9120072183407775,
          3.368136885833003,
          -0.6689599484591388,
          -0.020925089047025704,
          0.0697716974795428,
          -0.12784413574645845,
          -0.13382335711138718,
          -0.8076373526169611,
          -0.07077116420237206,
          0.17164225123953078,
          -0.136340130939766,
          -1.1532041226304872,
          0.051985990945555005,
          0.02026021814949698,
          -0.061319035471065625,
          3.7566867523841174,
          -0.20216700062005372,
          -1.0050013347775386,
          0.1375554187093773,
          0.014419935096778988,
          -0.4352884155344741,
          -0.12951158477425248,
          -0.9818601468493129,
          -0.44821255578767744,
          -0.36042455890768105,
          0.006955605606800056,
          -0.458956653152479,
          -0.04397460610418929,
          3.010547153330345,
          -0.05862833028202092,
          3.4450096233333505,
          -0.9115332129558938,
          -0.020912774735334514,
          1.9813936260614595,
          2.829215454650745,
          -1.1070153154962912,
          9.550165181729938,
          2.4016313024551157,
          -0.4630647181684974,
          3.7367284688217692,
          0.13881085431250284,
          -1.3074170782822299,
          -0.4828463783148235,
          0.02026021814949698,
          2.511212705924061,
          2.7434217368316753,
          -0.07077116420237206,
          0.201495746928247,
          2.530240566128971,
          0.06683029353853621,
          -0.10994434823341685,
          -1.05475030571904,
          -0.8773322561158307,
          -0.30776240044553593,
          -0.9617034149535248,
          2.235909159254325,
          -0.01999353898352412,
          -0.058095948964240515,
          -0.2477333464813007,
          -0.2477333464813007,
          -0.08752688643940078,
          -0.9311822260880297,
          -0.2516869401186436,
          3.603110931205056,
          -0.13418769399824232,
          -1.0315911586762248,
          -0.03251281544942448,
          -0.009270558418727183,
          -0.1878178107317524,
          0.02026021814949698,
          -0.14750604602825027,
          -0.36751768252106753,
          3.72617563375783,
          -0.45495575505581937,
          2.188722053989703,
          -0.256884055749476,
          0.010618308563104898,
          3.520678770936879,
          3.070854238116431,
          0.03682417319771038,
          -0.020912774735334514,
          -0.6159466962787323,
          -0.5880196169010755,
          -0.13418769399824232,
          -1.0660681796406666,
          -0.14750604602825027,
          4.014011861725616,
          -0.45087183366808725,
          3.1410722952426378,
          -0.14750604602825027,
          -0.6050653880869402,
          -0.008649222511607126,
          -0.0826061935532619,
          -0.8381983096572241,
          3.281712427270542,
          -0.560553696136251,
          3.691000106456625,
          -0.2477333464813007,
          -0.06620064783017679,
          -0.0384142775166084,
          -0.10425918277642834,
          -0.979051887345116,
          -0.13418769399824232,
          -0.26836957665759525,
          -0.24166072799210583,
          -0.6607409230220123,
          -0.3215846456216355,
          3.52599415868099,
          -0.11995269538671957,
          -0.10114278848028978,
          0.059011758270056745,
          0.027214946622555563,
          0.11571758247229534,
          -0.03281736817449504,
          -0.10381537986662397,
          -0.13407153873699165
         ],
         "y": [
          0.22155782932223417,
          0.2232130373270123,
          0.5753301650713354,
          0.5692070886166513,
          -0.7453743159130961,
          -0.5830470877256071,
          0.20604637559330347,
          0.1900811354709459,
          0.4818191901314727,
          0.501178685221524,
          0.2087716313103489,
          -0.3362021182626366,
          0.5155196546868289,
          0.6133579746098804,
          0.5280834682041003,
          0.10104249501461031,
          0.026036001278507928,
          -0.6646351243487543,
          -0.30361270958920206,
          0.3191599403141716,
          0.5753301650713354,
          0.1900811354709459,
          0.08063385891211357,
          0.10104249501461031,
          -0.10137804783703133,
          -0.4470650836831273,
          2.6477033930056275,
          0.5692070886166513,
          -0.2974712889378657,
          0.5018578462339355,
          -2.147107225892668,
          -0.3705037723699746,
          0.46023985029087067,
          -0.47240680994364825,
          0.15307075048672084,
          -0.1011280175613499,
          -0.15040756085209295,
          0.15810195270758964,
          -0.025191327936765245,
          0.5753301650713354,
          -0.19227429640925273,
          -2.5147606508635025,
          0.5753301650713354,
          -0.15002550238730447,
          -0.2179101066168538,
          0.11253636169293318,
          -1.1347282558785359,
          0.0343688523730764,
          -1.076725176205695,
          1.2463345894581288,
          -0.017146822119867712,
          0.4833263159427761,
          0.6829963627388231,
          0.4326770103211703,
          3.230719765200451,
          -0.5074958800286734,
          0.31404744539948903,
          0.50639360654717,
          -0.3601141776972578,
          -0.2507619053000946,
          -0.12667762850578465,
          -1.7883375236446355,
          -0.14886704043242532,
          4.904018558835499,
          0.13653314536086947,
          -1.2063973742262417,
          -0.4097682492369597,
          0.08537707504898623,
          0.5489565532203724,
          0.5686569811645187,
          -0.9465861598133691,
          0.17469348719044056,
          0.2885471535278475,
          -0.39231842493966923,
          0.11253636169293318,
          0.20604637559330347,
          0.32322137308610865,
          -0.29228464959962025,
          0.7295368285711684,
          0.20580129085805288,
          0.5558965891327206,
          -0.9721134488955208,
          0.18645838620743752,
          -0.3789393341455578,
          0.3973040771604559,
          0.41294228018730855,
          0.6451471372303608,
          0.5753301650713354,
          0.5765946126373839,
          0.7620592473893358,
          -0.39959227293953103,
          -0.2962186294719946,
          0.35103397207483183,
          -0.497529501562592,
          -0.4181426043017557,
          0.19618672439620696,
          0.08291442895692726,
          0.740591226602179,
          -0.56329012697567,
          -0.2719335144738974,
          0.22155782932223417,
          -0.4173302012759771,
          -0.193044695051673,
          -0.03716450506564597,
          0.4927022266384418,
          0.07188951192209754,
          0.45469627052411365,
          -0.17388799497454982,
          0.702117801404339,
          0.16926939140415342,
          -1.2008759642548756,
          0.5089636763235559,
          0.4505612013855762,
          0.31128393340844096,
          -0.6440605440900815,
          0.10940696960941963,
          -0.5208341494085106,
          0.5816516183278211,
          0.13284082991277696,
          0.17233951041036857,
          0.6764548200673544,
          0.519492789964919,
          -0.16792785890916187,
          0.5753301650713354,
          -0.4709551527159137,
          0.5489565532203724,
          0.1585998549015455,
          6.372744848665448,
          0.40133455260261913,
          -0.3641088032672039,
          -0.5177568366642553,
          0.1900811354709459,
          0.22155782932223417,
          0.501178685221524,
          -0.019661216950190494,
          0.5816516183278211,
          0.10510091836404165,
          -0.4392421559920352,
          0.5820273441123502,
          -0.44198203920274837,
          1.065489571157213,
          0.09440339462610568,
          -0.3553161673791712,
          0.14157354818380583,
          -0.3860191659117513,
          0.05564663680295092,
          0.4927022266384418,
          -0.3113800152691135,
          0.000730348689702572,
          0.47461096941602077,
          0.006890339497926304,
          0.37956892831572386,
          -4.779697482951092,
          0.0193332633198844,
          0.20604637559330347,
          0.3249967912483354,
          -0.11803805212555696,
          -0.7211504436974095,
          -0.8680566827576344,
          0.12080794267067933,
          0.57199582171664,
          0.11378715902249577,
          0.5146863328954497,
          0.6143342511644544,
          -0.37693587574878173,
          0.20604637559330347,
          -0.07060042451616907,
          0.3531482125452844,
          -0.27785693038653636,
          0.49179765078990906,
          0.22155782932223417,
          0.19618672439620696,
          0.7953144177677683,
          0.4774090984577961,
          -0.3920894021782096,
          0.22321512687275197,
          0.377532794488322,
          -0.033694939329709545,
          0.4597475736283295,
          -0.2372468680355365,
          0.5582761507246597,
          0.5013981710002441,
          0.3890988691148013,
          0.42856491695985266,
          0.1013422241208158,
          1.6202524000956624,
          0.5820273441123502,
          -0.38708610027214646,
          -0.3887879423938707,
          0.4927022266384418,
          0.9628573274192589,
          -0.5640231431848237,
          -0.27431260909086286,
          -2.273175571644113,
          3.9935772491114485,
          0.37166279493206494,
          0.009889083421561225,
          0.535131508333737,
          -0.34122506117763024,
          -0.389632309834712,
          0.22155782932223417,
          -1.120893164988943,
          -0.2977501759712483,
          0.20604637559330347,
          0.07188951192209754,
          8.53456925494168,
          0.11253636169293318,
          0.5128868825662136,
          -0.38631306695954987,
          0.2564917395790745,
          0.5880146851755781,
          -0.026485149457336963,
          -2.3426586766935484,
          0.3956078418354256,
          0.1676157687417815,
          0.5785867382799202,
          0.5785867382799202,
          0.4623537840711905,
          -0.17135493250268413,
          -0.08860244279216019,
          -0.5321041642202095,
          0.7295368285711684,
          -0.04475255744102507,
          0.45421657176821584,
          0.37956892831572386,
          0.7380756737351123,
          0.22155782932223417,
          0.5753301650713354,
          0.4645965963450403,
          -0.07749157545019261,
          0.5553579341305391,
          -0.6167820242628835,
          0.07201798114033131,
          0.473829731894052,
          -0.4832476763917297,
          -0.4117134130942719,
          0.1431476233818323,
          0.4927022266384418,
          0.31963888609690705,
          -0.20645766523660256,
          0.7295368285711684,
          -0.18640658473109797,
          0.5753301650713354,
          -0.2902428699046519,
          0.31606048013918053,
          -0.34229532748511315,
          0.5753301650713354,
          0.4331387376301266,
          0.062366068360554555,
          0.3805355479540277,
          -0.11611934273716468,
          9.277032274662982,
          0.1317904469306415,
          -0.44349179531413463,
          0.5785867382799202,
          0.5018578462339355,
          0.5577827145445982,
          0.48282636833200826,
          -0.37755057723071894,
          0.7295368285711684,
          0.5843606652167747,
          0.5280834682041003,
          -0.23531827882543332,
          0.6158875593587192,
          -0.24083326170539598,
          0.7481219457660879,
          0.6131975378433344,
          0.1585998549015455,
          0.34258304341133045,
          0.3548157616483734,
          0.4047134405469531,
          0.3478502638114615,
          0.3080572471782363
         ]
        },
        {
         "marker": {
          "color": "rgba(128, 0, 128, 1.0)",
          "line": {
           "width": 1.3
          },
          "opacity": 0.8,
          "size": 12,
          "symbol": "circle"
         },
         "mode": "markers",
         "name": "ICML",
         "text": [
          "OptNet: Differentiable Optimization as a Layer in Neural Networks",
          "Input Convex Neural Networks",
          "Wasserstein Generative Adversarial Networks",
          "Synthesizing Robust Adversarial Examples",
          "Differentially Private Database Release via Kernel Mean Embeddings",
          "Optimizing the Latent Space of Generative Networks",
          "NetGAN: Generating Graphs via Random Walks",
          "Compressed Sensing using Generative Models",
          "Predict and Constrain: Modeling Cardinality in Deep Structured Prediction",
          "Path-Level Network Transformation for Efficient Architecture Search",
          "Adversarial Learning with Local Coordinate Coding",
          "Adversarial Time-to-Event Modeling",
          "Learning K-way D-dimensional Discrete Codes for Compact Embedding Representations",
          "DRACO: Byzantine-resilient Distributed Training via Redundant Gradients",
          "AdaNet: Adaptive Structural Learning of Artificial Neural Networks",
          "Inference Suboptimality in Variational Autoencoders",
          "Stochastic Generative Hashing",
          "Adversarial Attack on Graph Structured Data",
          "Language Modeling with Gated Convolutional Networks",
          "Stochastic Video Generation with a Learned Prior",
          "Dance Dance Convolution",
          "Model-Agnostic Meta-Learning for Fast Adaptation of Deep Networks",
          "Input Switched Affine Networks: An RNN Architecture Designed for Interpretability",
          "Bilevel Programming for Hyperparameter Optimization and Meta-Learning",
          "Convolutional Sequence to Sequence Learning",
          "Visualizing and Understanding Atari Agents",
          "On Calibration of Modern Neural Networks",
          "DeepBach: a Steerable Model for Bach Chorales Generation",
          "Learning unknown ODE models with Gaussian processes",
          "Toward Controlled Generation of Text",
          "Neural Autoregressive Flows",
          "Decoupled Parallel Backpropagation with Convergence Guarantee",
          "Attention-based Deep Multiple Instance Learning",
          "Black-box Adversarial Attacks with Limited Queries and Information",
          "Decoupled Neural Interfaces using Synthetic Gradients",
          "Efficient end-to-end learning for quantizable representations",
          "Composite Functional Gradient Learning of Generative  Adversarial Models",
          "Video Pixel Networks",
          "Efficient Neural Audio Synthesis",
          "Learning to Discover Cross-Domain Relations with Generative Adversarial Networks",
          "SplitNet: Learning to Semantically Split Deep Networks for Parameter Reduction and Model Parallelization",
          "Disentangling by Factorising",
          "Neural Relational Inference for Interacting Systems",
          "Grammar Variational Autoencoder",
          "Deep Spectral Clustering Learning",
          "Hierarchical Imitation and Reinforcement Learning",
          "Confident Multiple Choice Learning",
          "Gated Path Planning Networks",
          "Noise2Noise: Learning Image Restoration without Clean Data",
          "Dropout Inference in Bayesian Neural Networks with Alpha-divergences",
          "Explicit Inductive Bias for Transfer Learning with Convolutional Networks",
          "Towards Binary-Valued Gates for Robust LSTM Training",
          "Zero-Inflated Exponential Family Embeddings",
          "Dimensionality-Driven Learning with Noisy Labels",
          "Adversarial Variational Bayes: Unifying Variational Autoencoders and Generative Adversarial Networks",
          "Device Placement Optimization with Reinforcement Learning",
          "SparseMAP: Differentiable Sparse Structured Inference",
          "A Theoretical Explanation for Perplexing Behaviors of Backpropagation-based Visualizations",
          "The Statistical Recurrent Unit",
          "Count-Based Exploration with Neural Density Models",
          "Efficient Neural Architecture Search via Parameters Sharing",
          "Robust Adversarial Reinforcement Learning",
          "Neural Episodic Control",
          "Online and Linear-Time Attention by Enforcing Monotonic Alignments",
          "Learning to Reweight Examples for Robust Deep Learning",
          "Deep One-Class Classification",
          "First Order Generative Adversarial Networks",
          "Finding Influential Training Samples for Gradient Boosted Decision Trees",
          "A Spectral Approach to Gradient Estimation for Implicit Distributions",
          "Bottleneck Conditional Density Estimation",
          "Attentive Recurrent Comparators",
          "The Predictron:  End-To-End Learning and Planning",
          "Accelerating Natural Gradient with Higher-Order Invariance",
          "Exploiting the Potential of Standard Convolutional Autoencoders for Image Restoration by Evolutionary Search",
          "Neural Program Synthesis from Diverse Demonstration Videos",
          "Differentiable Compositional Kernel Learning for Gaussian Processes",
          "Axiomatic Attribution for Deep Networks",
          "Black Box FDR",
          "Learning Longer-term Dependencies in RNNs with Auxiliary Losses",
          "The Mirage of Action-Dependent Baselines in Reinforcement Learning",
          "Learning to Generate Long-term Future via Hierarchical Prediction",
          "PredRNN++: Towards A Resolution of the Deep-in-Time Dilemma in Spatiotemporal Predictive Learning",
          "Style Tokens: Unsupervised Style Modeling, Control and Transfer in End-to-End Speech Synthesis",
          "Transfer Learning via Learning to Transfer",
          "Hierarchical Long-term Video Prediction without Supervision",
          "Variance Regularized Counterfactual Risk Minimization via Variational Divergence Minimization",
          "Deep k-Means: Re-Training and Parameter Sharing with Harder Cluster Assignments for Compressing Deep Convolutions",
          "Learning Semantic Representations for Unsupervised Domain Adaptation",
          "Improved Variational Autoencoders for Text Modeling using Dilated Convolutions",
          "Mean Field Multi-Agent Reinforcement Learning",
          "Combined Group and Exclusive Sparsity for Deep Neural Networks",
          "GraphRNN: Generating Realistic Graphs with Deep Auto-regressive Models",
          "Continual Learning Through Synaptic Intelligence",
          "Adversarial Feature Matching for Text Generation",
          "Convexified Convolutional Neural Networks",
          "Noisy Natural Gradient as Variational Inference",
          "Follow the Moving Leader in Deep Learning",
          "Recurrent Highway Networks"
         ],
         "textfont": {
          "color": "#4D5663"
         },
         "type": "scatter",
         "x": [
          -0.47065010909263644,
          0.7555530752332094,
          -0.28335714548810126,
          -0.46038947699067795,
          -0.9000618158870837,
          -0.7136859186224561,
          -1.0830059999589894,
          -1.006762470990561,
          0.4537383817785011,
          0.9435793467715536,
          -1.0433423739455585,
          -1.2788655899508954,
          -0.9401726073664007,
          -1.1057369596173532,
          -0.6267639534197583,
          -0.5860544887299665,
          -1.160875862870758,
          -1.279502771622411,
          -1.1190645390733258,
          -1.0358740517899967,
          3.2733311855235563,
          -1.2881202245780434,
          -0.8220731336590398,
          -1.0756410625608637,
          -1.0408113003242754,
          -0.900840355861538,
          -0.6920230444557639,
          -0.5708011346127212,
          -0.7897184108023061,
          -0.7621740212526672,
          -0.9987679110392057,
          -0.981003949238592,
          -0.86445270206308,
          -0.3616567084593277,
          -0.9075729139305946,
          -0.8530328608570147,
          -1.1256974105946673,
          1.793230522737597,
          -1.1239206554959895,
          -0.7780356412397964,
          -1.173802753621391,
          -0.2877964687690191,
          -1.310221508579935,
          -1.4312436048025954,
          -0.7103031169849814,
          -1.1060625735767033,
          -0.5416043551998442,
          -1.1067546822596717,
          -0.802124876550704,
          -0.9271560702904836,
          -1.0463968730376456,
          -0.9958582709020204,
          -0.6245053071417357,
          -0.9450588562131869,
          -1.2163471789038922,
          2.117694641913509,
          -0.8368483224359983,
          -1.013226424955159,
          -0.7747208102228983,
          -0.242766118311712,
          3.229455799482995,
          -1.4531077376919588,
          -0.9043672973015906,
          -0.6668061770173981,
          -1.1221576857398172,
          -0.9667054948241145,
          -0.5339333645245737,
          -1.1124539429430085,
          -1.1547112419595977,
          -1.3854891160533422,
          3.164481373976652,
          -0.6059427023774223,
          -1.3874977834300422,
          1.517654782931796,
          -0.7071125658678828,
          -0.8332544992252634,
          -0.8702052846241743,
          -0.6439205077702775,
          -1.1024304662549258,
          -0.9755781521609039,
          -0.9210759944638693,
          -1.1053150979904236,
          3.5614336733938683,
          -0.8046301991317981,
          -0.7196818653636208,
          -1.2099634858330774,
          -0.525469588274853,
          -1.0770304438013139,
          -0.7357799847112839,
          -1.201262066388037,
          -0.7192813396525599,
          -0.598887110219573,
          -0.7899211227180842,
          -1.0065096650020677,
          -1.1523879085059536,
          -1.4544269066134803,
          -0.33257172391692097,
          -1.0575049552888391
         ],
         "y": [
          -0.09809819990394952,
          -2.51358553033358,
          0.2730299326525716,
          0.4531133065092901,
          -0.26313015267416107,
          -0.5676371265358936,
          -0.1827343182902011,
          -0.19220515158160664,
          4.468529426291816,
          -2.627578760197941,
          -0.2544094943911119,
          -0.19551973219579832,
          -0.0267833893537395,
          -0.11994011067724959,
          -0.3608341924692838,
          -0.10082827477441861,
          -0.1313107957675059,
          -0.3093041045815304,
          -0.03847780657612819,
          -0.039431449953285645,
          -1.3969968448936205,
          -0.39690899290324266,
          0.07896121342012932,
          0.09958612136226781,
          -0.6008259187714805,
          0.06217557704938981,
          -0.29814116289432463,
          -0.11849739428682662,
          0.19858675735413633,
          -0.3108880618453898,
          -0.2906037570492921,
          -0.6051648989841459,
          -0.46863979843836473,
          0.03134998136527313,
          -0.26550201664408757,
          -0.4330170012517265,
          -0.019241950699901464,
          1.3069356061583597,
          -0.1806577865655812,
          -0.37518780383788203,
          -0.5495509239018588,
          0.07616231431619092,
          -0.3935637776977687,
          -0.5175318354081901,
          -0.17884008007242796,
          0.08565137875946045,
          -0.5779816342261348,
          -0.43316851165841036,
          0.18123590541314533,
          -0.2967994576056513,
          0.0950085228784313,
          -0.25541194150181257,
          0.2131889604251502,
          -0.23387104712560478,
          -0.28206016465518446,
          -0.9801562544937132,
          -0.5993299956136385,
          -0.3585808028310967,
          -0.21558669260315866,
          0.1956468664307874,
          -1.5687767216785702,
          -0.20606886990915765,
          -0.14370358186973714,
          -0.8638105999374787,
          -0.7200157289708576,
          -0.610714542281599,
          0.043470980581042776,
          -0.03939235570706158,
          -0.2581034986207062,
          -0.3239497376005057,
          -0.7825781827686892,
          0.18556143732408378,
          -0.3441642451384365,
          -2.6958152597352862,
          -0.11538325905849042,
          -0.3925870551151701,
          -0.11172386304194945,
          -0.06035686710273541,
          -0.4070515279868763,
          -0.25596210498668703,
          -0.035599615899111384,
          -0.18868918080727154,
          -0.5157375350599167,
          0.30479929547279055,
          0.2956828509742184,
          -0.36156900862284036,
          -0.63527781403503,
          -0.10462643242697531,
          -0.06101176519868654,
          -0.35854120730602046,
          0.0489977969120659,
          -0.09494263789342063,
          0.010625266678700049,
          -0.916632795353765,
          -0.4435128949222771,
          -0.4500193390067986,
          0.37842353785755445,
          -0.23829882215587303
         ]
        },
        {
         "marker": {
          "color": "rgba(219, 64, 82, 1.0)",
          "line": {
           "width": 1.3
          },
          "opacity": 0.8,
          "size": 12,
          "symbol": "circle"
         },
         "mode": "markers",
         "name": "ICCV",
         "text": [
          "VQA: Visual Question Answering",
          "CVAE-GAN: Fine-Grained Image Generation Through Asymmetric Training",
          "Convolutional Color Constancy",
          "Deep TextSpotter: An End-To-End Trainable Scene Text Localization and Recognition Framework",
          "SubUNets: End-To-End Hand Shape and Continuous Sign Language Recognition",
          "HashNet: Deep Learning to Hash by Continuation",
          "Deep Adaptive Image Clustering",
          "Deep Colorization",
          "Photographic Image Synthesis With Cascaded Refinement Networks",
          "Query-Guided Regression Network With Context Policy for Phrase Grounding",
          "Pixel Recursive Super Resolution",
          "Deformable Convolutional Networks",
          "Attributes2Classname: A Discriminative Model for Attribute-Based Unsupervised Zero-Shot Learning",
          "RPAN: An End-To-End Recurrent Pose-Attention Network for Action Recognition in Videos",
          "BlitzNet: A Real-Time Deep Network for Scene Understanding",
          "Predicting Depth, Surface Normals and Semantic Labels With a Common Multi-Scale Convolutional Architecture",
          "Interpretable Explanations of Black Boxes by Meaningful Perturbation",
          "Single Image 3D Without a Single 3D Image",
          "Associative Domain Adaptation",
          "Automatic Spatially-Aware Fashion Concept Discovery",
          "Mask R-CNN",
          "Beyond Face Rotation: Global and Local Perception GAN for Photorealistic and Identity Preserving Frontal View Synthesis",
          "Wavelet-SRNet: A Wavelet-Based CNN for Multi-Scale Face Super Resolution",
          "Learning to Reason: End-To-End Module Networks for Visual Question Answering",
          "DSLR-Quality Photos on Mobile Devices With Deep Convolutional Networks",
          "PoseNet: A Convolutional Network for Real-Time 6-DOF Camera Relocalization",
          "Escape From Cells: Deep Kd-Networks for the Recognition of 3D Point Cloud Models",
          "Learning to Push the Limits of Efficient FFT-Based Image Deconvolution",
          "Introspective Neural Networks for Generative Modeling",
          "RoomNet: End-To-End Room Layout Estimation",
          "Learning Efficient Convolutional Networks Through Network Slimming",
          "Raster-To-Vector: Revisiting Floorplan Transformation",
          "Rotation Equivariant Vector Field Networks",
          "Attentive Semantic Video Generation Using Captions",
          "Domain-Adaptive Deep Network Compression",
          "Learning Proximal Operators: Using Denoising Networks for Regularizing Inverse Imaging Problems",
          "Curriculum Dropout",
          "No Fuss Distance Metric Learning Using Proxies",
          "Video Frame Interpolation via Adaptive Separable Convolution",
          "Representation Learning by Learning to Count",
          "GANs for Biological Image Synthesis",
          "Following Gaze in Video",
          "EnhanceNet: Single Image Super-Resolution Through Automated Texture Synthesis",
          "Grad-CAM: Visual Explanations From Deep Networks via Gradient-Based Localization",
          "DSOD: Learning Deeply Supervised Object Detectors From Scratch",
          "Incremental Learning of Object Detectors Without Catastrophic Forgetting",
          "Hide-And-Seek: Forcing a Network to Be Meticulous for Weakly-Supervised Object and Action Localization",
          "Face Flow",
          "Multi-View Convolutional Neural Networks for 3D Shape Recognition",
          "Reasoning About Fine-Grained Attribute Phrases Using Reference Games",
          "Click Here: Human-Localized Keypoints as Guidance for Viewpoint Estimation",
          "MemNet: A Persistent Memory Network for Image Restoration",
          "Unsupervised Learning of Object Landmarks by Factorized Spatial Embeddings",
          "Image Super-Resolution Using Dense Skip Connections",
          "Unsupervised Adaptation for Deep Stereo",
          "Simultaneous Deep Transfer Across Domains and Tasks",
          "Sequence to Sequence - Video to Text",
          "Revisiting IM2GPS in the Deep Learning Era",
          "Multi-Label Image Recognition by Recurrently Discovering Attentional Regions",
          "Learning Blind Motion Deblurring",
          "Self-Organized Text Detection With Minimal Post-Processing via Border Learning",
          "Curriculum Domain Adaptation for Semantic Segmentation of Urban Scenes",
          "Learning Spread-Out Local Feature Descriptors",
          "Conditional Random Fields as Recurrent Neural Networks",
          "Unlabeled Samples Generated by GAN Improve the Person Re-Identification Baseline in Vitro"
         ],
         "textfont": {
          "color": "#4D5663"
         },
         "type": "scatter",
         "x": [
          -0.6744029415731908,
          -0.19043705594378718,
          -0.9085717278105179,
          1.6300358635131056,
          3.164972441547218,
          0.25124719906320603,
          -0.8270584611316155,
          -0.03616950300632938,
          -0.3537342985306732,
          2.9578447207164476,
          -0.0812612314228092,
          -0.05782029110968302,
          -0.3313078184019225,
          -1.2807360908687704,
          -0.0812612314228092,
          -0.22418743227055532,
          -0.0819723658532885,
          -0.1389759096282807,
          -0.7475324062962819,
          -0.07223485414380348,
          -0.4380805003912448,
          -0.19043705594378718,
          2.266130263125283,
          3.19200967658024,
          2.503222983953201,
          -0.5693634858062284,
          -0.2727199216031479,
          -0.0812612314228092,
          -0.24451728631688377,
          -0.07679190398637344,
          2.2464709608402442,
          0.025794381336780945,
          0.14482134754439557,
          3.3413577921917086,
          0.00989497094628289,
          0.00989497094628289,
          0.046268679922574364,
          -0.2414663352326524,
          0.15651380399816253,
          -0.0812612314228092,
          2.873523850980571,
          -0.5045036604313667,
          -0.3823350667935582,
          -0.19043705594378718,
          0.015133084640812049,
          0.04438781824069089,
          -0.8271840258590543,
          -0.9068754454232248,
          -0.3230417995175868,
          -0.17894357024231364,
          -0.0812612314228092,
          2.8810034890969654,
          -0.7102587869966009,
          -0.0812612314228092,
          -0.7870213458000238,
          3.326490839000948,
          2.2888880558057267,
          2.911450929425397,
          -0.028902872836055506,
          -0.675027872831804,
          -0.16976690068644332,
          0.8372579451745833,
          -0.1829033212350853,
          -0.3230417995175868,
          1.0568294082861813
         ],
         "y": [
          0.42971358214028027,
          0.5493004435464403,
          0.2173588651378266,
          2.0862047329770443,
          -1.645312317755833,
          -0.15537016654548905,
          -0.43401252549999625,
          0.40046185445392846,
          0.2049134510844054,
          3.294687069948729,
          0.5384404403854417,
          -0.44589365429642164,
          0.5162991798495961,
          -0.604467336236868,
          0.5384404403854417,
          0.7770277694929002,
          0.11732534072358734,
          0.6838894246552294,
          0.12243303459262717,
          0.48648988036284796,
          0.1678731540861946,
          0.5493004435464403,
          -1.0458791493706652,
          -0.36772242947520406,
          -1.705436122550856,
          0.34669838784560447,
          0.07967517119483086,
          0.5384404403854417,
          -0.2180768004380677,
          0.32703551394674907,
          -1.015228500868273,
          0.04490335069482975,
          0.07970119446348499,
          -0.1949884778589005,
          0.45847929573566437,
          0.45847929573566437,
          0.4073954846355272,
          0.0004073398937222833,
          0.10548199774951748,
          0.5384404403854417,
          -0.8217944144790361,
          -0.15965110721807935,
          0.24806844551302734,
          0.5493004435464403,
          0.5170577774743079,
          0.40037065138645045,
          0.6676618394343464,
          0.062319507388538475,
          0.7886972157017655,
          0.5382147647866975,
          0.5384404403854417,
          -1.6461461834058528,
          -0.2620709469318295,
          0.5384404403854417,
          -0.03813669441729118,
          -0.3448435380157544,
          5.418877220894866,
          -0.4553728133741253,
          0.3014765426325161,
          -0.16947026430802717,
          0.5315097199675437,
          0.4500478363136541,
          0.49918922801591487,
          0.7886972157017655,
          -1.877212097418774
         ]
        }
       ],
       "layout": {
        "legend": {
         "bgcolor": "#F5F6F9",
         "font": {
          "color": "#4D5663"
         }
        },
        "paper_bgcolor": "#F5F6F9",
        "plot_bgcolor": "#F5F6F9",
        "template": {
         "data": {
          "bar": [
           {
            "error_x": {
             "color": "#2a3f5f"
            },
            "error_y": {
             "color": "#2a3f5f"
            },
            "marker": {
             "line": {
              "color": "#E5ECF6",
              "width": 0.5
             }
            },
            "type": "bar"
           }
          ],
          "barpolar": [
           {
            "marker": {
             "line": {
              "color": "#E5ECF6",
              "width": 0.5
             }
            },
            "type": "barpolar"
           }
          ],
          "carpet": [
           {
            "aaxis": {
             "endlinecolor": "#2a3f5f",
             "gridcolor": "white",
             "linecolor": "white",
             "minorgridcolor": "white",
             "startlinecolor": "#2a3f5f"
            },
            "baxis": {
             "endlinecolor": "#2a3f5f",
             "gridcolor": "white",
             "linecolor": "white",
             "minorgridcolor": "white",
             "startlinecolor": "#2a3f5f"
            },
            "type": "carpet"
           }
          ],
          "choropleth": [
           {
            "colorbar": {
             "outlinewidth": 0,
             "ticks": ""
            },
            "type": "choropleth"
           }
          ],
          "contour": [
           {
            "colorbar": {
             "outlinewidth": 0,
             "ticks": ""
            },
            "colorscale": [
             [
              0,
              "#0d0887"
             ],
             [
              0.1111111111111111,
              "#46039f"
             ],
             [
              0.2222222222222222,
              "#7201a8"
             ],
             [
              0.3333333333333333,
              "#9c179e"
             ],
             [
              0.4444444444444444,
              "#bd3786"
             ],
             [
              0.5555555555555556,
              "#d8576b"
             ],
             [
              0.6666666666666666,
              "#ed7953"
             ],
             [
              0.7777777777777778,
              "#fb9f3a"
             ],
             [
              0.8888888888888888,
              "#fdca26"
             ],
             [
              1,
              "#f0f921"
             ]
            ],
            "type": "contour"
           }
          ],
          "contourcarpet": [
           {
            "colorbar": {
             "outlinewidth": 0,
             "ticks": ""
            },
            "type": "contourcarpet"
           }
          ],
          "heatmap": [
           {
            "colorbar": {
             "outlinewidth": 0,
             "ticks": ""
            },
            "colorscale": [
             [
              0,
              "#0d0887"
             ],
             [
              0.1111111111111111,
              "#46039f"
             ],
             [
              0.2222222222222222,
              "#7201a8"
             ],
             [
              0.3333333333333333,
              "#9c179e"
             ],
             [
              0.4444444444444444,
              "#bd3786"
             ],
             [
              0.5555555555555556,
              "#d8576b"
             ],
             [
              0.6666666666666666,
              "#ed7953"
             ],
             [
              0.7777777777777778,
              "#fb9f3a"
             ],
             [
              0.8888888888888888,
              "#fdca26"
             ],
             [
              1,
              "#f0f921"
             ]
            ],
            "type": "heatmap"
           }
          ],
          "heatmapgl": [
           {
            "colorbar": {
             "outlinewidth": 0,
             "ticks": ""
            },
            "colorscale": [
             [
              0,
              "#0d0887"
             ],
             [
              0.1111111111111111,
              "#46039f"
             ],
             [
              0.2222222222222222,
              "#7201a8"
             ],
             [
              0.3333333333333333,
              "#9c179e"
             ],
             [
              0.4444444444444444,
              "#bd3786"
             ],
             [
              0.5555555555555556,
              "#d8576b"
             ],
             [
              0.6666666666666666,
              "#ed7953"
             ],
             [
              0.7777777777777778,
              "#fb9f3a"
             ],
             [
              0.8888888888888888,
              "#fdca26"
             ],
             [
              1,
              "#f0f921"
             ]
            ],
            "type": "heatmapgl"
           }
          ],
          "histogram": [
           {
            "marker": {
             "colorbar": {
              "outlinewidth": 0,
              "ticks": ""
             }
            },
            "type": "histogram"
           }
          ],
          "histogram2d": [
           {
            "colorbar": {
             "outlinewidth": 0,
             "ticks": ""
            },
            "colorscale": [
             [
              0,
              "#0d0887"
             ],
             [
              0.1111111111111111,
              "#46039f"
             ],
             [
              0.2222222222222222,
              "#7201a8"
             ],
             [
              0.3333333333333333,
              "#9c179e"
             ],
             [
              0.4444444444444444,
              "#bd3786"
             ],
             [
              0.5555555555555556,
              "#d8576b"
             ],
             [
              0.6666666666666666,
              "#ed7953"
             ],
             [
              0.7777777777777778,
              "#fb9f3a"
             ],
             [
              0.8888888888888888,
              "#fdca26"
             ],
             [
              1,
              "#f0f921"
             ]
            ],
            "type": "histogram2d"
           }
          ],
          "histogram2dcontour": [
           {
            "colorbar": {
             "outlinewidth": 0,
             "ticks": ""
            },
            "colorscale": [
             [
              0,
              "#0d0887"
             ],
             [
              0.1111111111111111,
              "#46039f"
             ],
             [
              0.2222222222222222,
              "#7201a8"
             ],
             [
              0.3333333333333333,
              "#9c179e"
             ],
             [
              0.4444444444444444,
              "#bd3786"
             ],
             [
              0.5555555555555556,
              "#d8576b"
             ],
             [
              0.6666666666666666,
              "#ed7953"
             ],
             [
              0.7777777777777778,
              "#fb9f3a"
             ],
             [
              0.8888888888888888,
              "#fdca26"
             ],
             [
              1,
              "#f0f921"
             ]
            ],
            "type": "histogram2dcontour"
           }
          ],
          "mesh3d": [
           {
            "colorbar": {
             "outlinewidth": 0,
             "ticks": ""
            },
            "type": "mesh3d"
           }
          ],
          "parcoords": [
           {
            "line": {
             "colorbar": {
              "outlinewidth": 0,
              "ticks": ""
             }
            },
            "type": "parcoords"
           }
          ],
          "pie": [
           {
            "automargin": true,
            "type": "pie"
           }
          ],
          "scatter": [
           {
            "marker": {
             "colorbar": {
              "outlinewidth": 0,
              "ticks": ""
             }
            },
            "type": "scatter"
           }
          ],
          "scatter3d": [
           {
            "line": {
             "colorbar": {
              "outlinewidth": 0,
              "ticks": ""
             }
            },
            "marker": {
             "colorbar": {
              "outlinewidth": 0,
              "ticks": ""
             }
            },
            "type": "scatter3d"
           }
          ],
          "scattercarpet": [
           {
            "marker": {
             "colorbar": {
              "outlinewidth": 0,
              "ticks": ""
             }
            },
            "type": "scattercarpet"
           }
          ],
          "scattergeo": [
           {
            "marker": {
             "colorbar": {
              "outlinewidth": 0,
              "ticks": ""
             }
            },
            "type": "scattergeo"
           }
          ],
          "scattergl": [
           {
            "marker": {
             "colorbar": {
              "outlinewidth": 0,
              "ticks": ""
             }
            },
            "type": "scattergl"
           }
          ],
          "scattermapbox": [
           {
            "marker": {
             "colorbar": {
              "outlinewidth": 0,
              "ticks": ""
             }
            },
            "type": "scattermapbox"
           }
          ],
          "scatterpolar": [
           {
            "marker": {
             "colorbar": {
              "outlinewidth": 0,
              "ticks": ""
             }
            },
            "type": "scatterpolar"
           }
          ],
          "scatterpolargl": [
           {
            "marker": {
             "colorbar": {
              "outlinewidth": 0,
              "ticks": ""
             }
            },
            "type": "scatterpolargl"
           }
          ],
          "scatterternary": [
           {
            "marker": {
             "colorbar": {
              "outlinewidth": 0,
              "ticks": ""
             }
            },
            "type": "scatterternary"
           }
          ],
          "surface": [
           {
            "colorbar": {
             "outlinewidth": 0,
             "ticks": ""
            },
            "colorscale": [
             [
              0,
              "#0d0887"
             ],
             [
              0.1111111111111111,
              "#46039f"
             ],
             [
              0.2222222222222222,
              "#7201a8"
             ],
             [
              0.3333333333333333,
              "#9c179e"
             ],
             [
              0.4444444444444444,
              "#bd3786"
             ],
             [
              0.5555555555555556,
              "#d8576b"
             ],
             [
              0.6666666666666666,
              "#ed7953"
             ],
             [
              0.7777777777777778,
              "#fb9f3a"
             ],
             [
              0.8888888888888888,
              "#fdca26"
             ],
             [
              1,
              "#f0f921"
             ]
            ],
            "type": "surface"
           }
          ],
          "table": [
           {
            "cells": {
             "fill": {
              "color": "#EBF0F8"
             },
             "line": {
              "color": "white"
             }
            },
            "header": {
             "fill": {
              "color": "#C8D4E3"
             },
             "line": {
              "color": "white"
             }
            },
            "type": "table"
           }
          ]
         },
         "layout": {
          "annotationdefaults": {
           "arrowcolor": "#2a3f5f",
           "arrowhead": 0,
           "arrowwidth": 1
          },
          "coloraxis": {
           "colorbar": {
            "outlinewidth": 0,
            "ticks": ""
           }
          },
          "colorscale": {
           "diverging": [
            [
             0,
             "#8e0152"
            ],
            [
             0.1,
             "#c51b7d"
            ],
            [
             0.2,
             "#de77ae"
            ],
            [
             0.3,
             "#f1b6da"
            ],
            [
             0.4,
             "#fde0ef"
            ],
            [
             0.5,
             "#f7f7f7"
            ],
            [
             0.6,
             "#e6f5d0"
            ],
            [
             0.7,
             "#b8e186"
            ],
            [
             0.8,
             "#7fbc41"
            ],
            [
             0.9,
             "#4d9221"
            ],
            [
             1,
             "#276419"
            ]
           ],
           "sequential": [
            [
             0,
             "#0d0887"
            ],
            [
             0.1111111111111111,
             "#46039f"
            ],
            [
             0.2222222222222222,
             "#7201a8"
            ],
            [
             0.3333333333333333,
             "#9c179e"
            ],
            [
             0.4444444444444444,
             "#bd3786"
            ],
            [
             0.5555555555555556,
             "#d8576b"
            ],
            [
             0.6666666666666666,
             "#ed7953"
            ],
            [
             0.7777777777777778,
             "#fb9f3a"
            ],
            [
             0.8888888888888888,
             "#fdca26"
            ],
            [
             1,
             "#f0f921"
            ]
           ],
           "sequentialminus": [
            [
             0,
             "#0d0887"
            ],
            [
             0.1111111111111111,
             "#46039f"
            ],
            [
             0.2222222222222222,
             "#7201a8"
            ],
            [
             0.3333333333333333,
             "#9c179e"
            ],
            [
             0.4444444444444444,
             "#bd3786"
            ],
            [
             0.5555555555555556,
             "#d8576b"
            ],
            [
             0.6666666666666666,
             "#ed7953"
            ],
            [
             0.7777777777777778,
             "#fb9f3a"
            ],
            [
             0.8888888888888888,
             "#fdca26"
            ],
            [
             1,
             "#f0f921"
            ]
           ]
          },
          "colorway": [
           "#636efa",
           "#EF553B",
           "#00cc96",
           "#ab63fa",
           "#FFA15A",
           "#19d3f3",
           "#FF6692",
           "#B6E880",
           "#FF97FF",
           "#FECB52"
          ],
          "font": {
           "color": "#2a3f5f"
          },
          "geo": {
           "bgcolor": "white",
           "lakecolor": "white",
           "landcolor": "#E5ECF6",
           "showlakes": true,
           "showland": true,
           "subunitcolor": "white"
          },
          "hoverlabel": {
           "align": "left"
          },
          "hovermode": "closest",
          "mapbox": {
           "style": "light"
          },
          "paper_bgcolor": "white",
          "plot_bgcolor": "#E5ECF6",
          "polar": {
           "angularaxis": {
            "gridcolor": "white",
            "linecolor": "white",
            "ticks": ""
           },
           "bgcolor": "#E5ECF6",
           "radialaxis": {
            "gridcolor": "white",
            "linecolor": "white",
            "ticks": ""
           }
          },
          "scene": {
           "xaxis": {
            "backgroundcolor": "#E5ECF6",
            "gridcolor": "white",
            "gridwidth": 2,
            "linecolor": "white",
            "showbackground": true,
            "ticks": "",
            "zerolinecolor": "white"
           },
           "yaxis": {
            "backgroundcolor": "#E5ECF6",
            "gridcolor": "white",
            "gridwidth": 2,
            "linecolor": "white",
            "showbackground": true,
            "ticks": "",
            "zerolinecolor": "white"
           },
           "zaxis": {
            "backgroundcolor": "#E5ECF6",
            "gridcolor": "white",
            "gridwidth": 2,
            "linecolor": "white",
            "showbackground": true,
            "ticks": "",
            "zerolinecolor": "white"
           }
          },
          "shapedefaults": {
           "line": {
            "color": "#2a3f5f"
           }
          },
          "ternary": {
           "aaxis": {
            "gridcolor": "white",
            "linecolor": "white",
            "ticks": ""
           },
           "baxis": {
            "gridcolor": "white",
            "linecolor": "white",
            "ticks": ""
           },
           "bgcolor": "#E5ECF6",
           "caxis": {
            "gridcolor": "white",
            "linecolor": "white",
            "ticks": ""
           }
          },
          "title": {
           "x": 0.05
          },
          "xaxis": {
           "automargin": true,
           "gridcolor": "white",
           "linecolor": "white",
           "ticks": "",
           "title": {
            "standoff": 15
           },
           "zerolinecolor": "white",
           "zerolinewidth": 2
          },
          "yaxis": {
           "automargin": true,
           "gridcolor": "white",
           "linecolor": "white",
           "ticks": "",
           "title": {
            "standoff": 15
           },
           "zerolinecolor": "white",
           "zerolinewidth": 2
          }
         }
        },
        "title": {
         "font": {
          "color": "#4D5663"
         }
        },
        "xaxis": {
         "gridcolor": "#E1E5ED",
         "showgrid": true,
         "tickfont": {
          "color": "#4D5663"
         },
         "title": {
          "font": {
           "color": "#4D5663"
          },
          "text": ""
         },
         "zerolinecolor": "#E1E5ED"
        },
        "yaxis": {
         "gridcolor": "#E1E5ED",
         "showgrid": true,
         "tickfont": {
          "color": "#4D5663"
         },
         "title": {
          "font": {
           "color": "#4D5663"
          },
          "text": ""
         },
         "zerolinecolor": "#E1E5ED"
        }
       }
      },
      "text/html": [
       "<div>\n",
       "        \n",
       "        \n",
       "            <div id=\"76e9b649-8f27-4efa-a0dd-6f93989016ee\" class=\"plotly-graph-div\" style=\"height:525px; width:100%;\"></div>\n",
       "            <script type=\"text/javascript\">\n",
       "                require([\"plotly\"], function(Plotly) {\n",
       "                    window.PLOTLYENV=window.PLOTLYENV || {};\n",
       "                    window.PLOTLYENV.BASE_URL='https://plot.ly';\n",
       "                    \n",
       "                if (document.getElementById(\"76e9b649-8f27-4efa-a0dd-6f93989016ee\")) {\n",
       "                    Plotly.newPlot(\n",
       "                        '76e9b649-8f27-4efa-a0dd-6f93989016ee',\n",
       "                        [{\"marker\": {\"color\": \"rgba(255, 153, 51, 1.0)\", \"line\": {\"width\": 1.3}, \"opacity\": 0.8, \"size\": 12, \"symbol\": \"circle\"}, \"mode\": \"markers\", \"name\": \"NIPS\", \"text\": [\"Visualizing the Loss Landscape of Neural Nets\", \"PointCNN\", \"L4: Practical loss-based stepsize adaptation for deep learning\", \"Multimodal Generative Models for Scalable Weakly-Supervised Learning\", \"Neural Voice Cloning with a Few Samples\", \"The Description Length of Deep Learning models\", \"Deep Defense: Training DNNs with Improved Adversarial Robustness\", \"Adversarial Logit Pairing\", \"Realistic Evaluation of Deep Semi-Supervised Learning Algorithms\", \"DVAE#: Discrete Variational Autoencoders with Relaxed Boltzmann Priors\", \"BourGAN: Generative Networks with Metric Embeddings\", \"Bilinear Attention Networks\", \"Breaking the Activation Function Bottleneck through Adaptive Parameterization\", \"Hyperbolic Neural Networks\", \"Learning towards Minimum Hyperspherical Energy\", \"Generalizing to Unseen Domains via Adversarial Data Augmentation\", \"On GANs and GMMs\", \"Assessing Generative Models via Precision and Recall\", \"Relational recurrent neural networks\", \"Unsupervised Attention-guided Image-to-Image Translation\", \"Speaker-Follower Models for Vision-and-Language Navigation\", \"ATOMO: Communication-efficient Learning via Atomic Sparsification\", \"Generative Neural Machine Translation\", \"One-Shot Unsupervised Cross Domain Translation\", \"Banach Wasserstein GAN\", \"Neural Code Comprehension: A Learnable Representation of Code Semantics\", \"3D Steerable CNNs: Learning Rotationally Equivariant Features in Volumetric Data\", \"Glow: Generative Flow with Invertible 1x1 Convolutions\", \"Discovery of Latent 3D Keypoints via End-to-end Geometric Reasoning\", \"An intriguing failing of convolutional neural networks and the CoordConv solution\", \"Latent Alignment and Variational Attention\", \"Neural Arithmetic Logic Units\", \"Adaptive Skip Intervals: Temporal Abstraction for Recurrent Dynamical Models\", \"Video-to-Video Synthesis\", \"Generalisation in humans and deep neural networks\", \"A Unified Feature Disentangler for Multi-Domain Image Translation and Manipulation\", \"Neural Guided Constraint Logic Programming for Program Synthesis\", \"Deep Subspace Clustering Networks\", \"Dilated Recurrent Neural Networks\", \"Structured Embedding Models for Grouped Data\", \"Best of Both Worlds: Transferring Knowledge from Discriminative Learning to a Generative Visual Dialog Model\", \"Learning a Multi-View Stereo Machine\", \"Universal Style Transfer via Feature Transforms\", \"f-GANs in an Information Geometric Nutshell\", \"Toward Multimodal Image-to-Image Translation\", \"One-Sided Unsupervised Domain Mapping\", \"Deep Mean-Shift Priors for Image Restoration\", \"SchNet: A continuous-filter convolutional neural network for modeling quantum interactions\", \"Inductive Representation Learning on Large Graphs\", \"Mean teachers are better role models: Weight-averaged consistency targets improve semi-supervised deep learning results\", \"TernGrad: Ternary Gradients to Reduce Communication in Distributed Deep Learning\", \"NeuralFDR: Learning Discovery Thresholds from Hypothesis Features\", \"Learning Multiple Tasks with Multilinear Relationship Networks\", \"Train longer, generalize better: closing the generalization gap in large batch training of neural networks\", \"The Numerics of GANs\", \"Stabilizing Training of Generative Adversarial Networks through Regularization\", \"Training Deep Networks without Learning Rates Through Coin Betting\", \"MMD GAN: Towards Deeper Understanding of Moment Matching Network\", \"Few-Shot Learning Through an Information Retrieval  Lens\", \"Differentiable Learning of Logical Rules for Knowledge Base Reasoning\", \"OnACID: Online Analysis of Calcium Imaging Data in Real Time\", \"Fisher GAN\", \"Toward Goal-Driven Neural Network Models for the Rodent Whisker-Trigeminal System\", \"Predicting Organic Reaction Outcomes with Weisfeiler-Lehman Network\", \"REBAR: Low-variance, unbiased gradient estimates for discrete latent variable models\", \"ELF: An Extensive, Lightweight and Flexible Research Platform for Real-time Strategy Games\", \"Dual Discriminator Generative Adversarial Nets\", \"Bridging the Gap Between Value and Policy Based Reinforcement Learning\", \"Convolutional Gaussian Processes\", \"Deep Lattice Networks and Partial Monotonic Functions\", \"Hierarchical Attentive Recurrent Tracking\", \"Learning to Compose Domain-Specific Transformations for Data Augmentation\", \"Language Modeling with Recurrent Highway Hypernetworks\", \"Bayesian Compression for Deep Learning\", \"Streaming Sparse Gaussian Process Approximations\", \"Spherical convolutions and their application in molecular modelling\", \"Neural system identification for large populations separating \\u0093what\\u0094 and \\u0093where\\u0094\", \"A Disentangled Recognition and Nonlinear Dynamics Model for Unsupervised Learning\", \"Bayesian GAN\", \"Geometric Matrix Completion with Recurrent Multi-Graph Neural Networks\", \"Diving into the shallows: a computational perspective on large-scale shallow learning\", \"InfoGAIL: Interpretable Imitation Learning from Visual Demonstrations\", \"Deep Hyperspherical Learning\", \"On-the-fly Operation Batching in Dynamic Computation Graphs\", \"Streaming Weak Submodularity: Interpreting Neural Networks on the Fly\", \"Prototypical Networks for Few-shot Learning\", \"Multi-Information Source Optimization\", \"Dual Path Networks\", \"Doubly Stochastic Variational Inference for Deep Gaussian Processes\", \"QMDP-Net: Deep Learning for Planning under Partial Observability\", \"A Unified Approach to Interpreting Model Predictions\", \"Context Selection for Embedding Models\", \"Working hard to know your neighbor's margins: Local descriptor learning loss\", \"Learning to Prune Deep Neural Networks via Layer-wise Optimal Brain Surgeon\", \"DropoutNet: Addressing Cold Start in Recommender Systems\", \"PointNet++: Deep Hierarchical Feature Learning on Point Sets in a Metric Space\", \"A-NICE-MC: Adversarial Training for MCMC\", \"Riemannian approach to batch normalization\", \"Triangle Generative Adversarial Networks\", \"Scalable trust-region method for deep reinforcement learning using Kronecker-factored approximation\", \"Hybrid Reward Architecture for Reinforcement Learning\", \"AdaGAN: Boosting Generative Models\", \"Task-based End-to-end Model Learning in Stochastic Optimization\", \"Gradient descent GAN optimization is locally stable\", \"Do Deep Neural Networks Suffer from Crowding?\", \"Improved Training of Wasserstein GANs\", \"Learning Disentangled Representations with Semi-Supervised Deep Generative Models\", \"Attention is All you Need\", \"Value Prediction Network\", \"Causal Effect Inference with Deep Latent-Variable Models\", \"Good Semi-supervised Learning That Requires a Bad GAN\", \"Modulating early visual processing by language\", \"GANs Trained by a Two Time-Scale Update Rule Converge to a Local Nash Equilibrium\", \"Neural Expectation Maximization\", \"Attend and Predict: Understanding Gene Regulation by Selective Attention on Chromatin\", \"Style Transfer from Non-Parallel Text by Cross-Alignment\", \"Real Time Image Saliency for Black Box Classifiers\", \"On Word Embedding Dimensionality\", \"COLA: Decentralized Linear Learning\", \"A Simple Unified Framework for Detecting Out-of-Distribution Samples and Adversarial Attacks\", \"Mapping Images to Scene Graphs with Permutation-Invariant Structured Prediction\", \"Learning Conditioned Graph Structures for Interpretable Visual Question Answering\", \"Reversible Recurrent Neural Networks\"], \"textfont\": {\"color\": \"#4D5663\"}, \"type\": \"scatter\", \"x\": [-0.8789210752452752, -0.7391161255261368, -0.8026115189055062, -0.7027766865569655, 2.6157713063501706, -0.7629646839674111, -0.5460955120106158, -1.1568512277927343, -0.7004924138298364, -1.0954961030859935, -0.9424515260159546, -1.3232577777017378, -0.7673420250998386, -1.4417516538704913, -1.1630464992226264, -1.145861299055466, -1.0941458394091845, -1.1266082534307367, -0.7567755486233935, -0.4558195814801173, -1.3984927575806274, -1.0442296400801578, -0.8559258151092219, -0.4016041875771604, -0.7741914220217908, -0.9650261020400945, -0.35635080763937543, 2.3865175233499687, -0.5243242281966003, -0.9567790996239868, -1.2741949685873535, -0.8707977986748167, -1.193930821865207, -0.8670934008519366, -1.1407502372141978, -0.9962047057782629, -1.3017335406480264, -0.8781121421973419, -0.9341794520017298, -0.5537336482974988, -0.9690974134056244, -0.6164736702846895, 2.450004559472193, -0.7947784514377186, 2.7052278977865476, -0.6569188153998564, -0.9368303896731253, -1.362670456841467, -0.8834248566214372, 0.38424617781873416, -0.7287461474536113, -0.813824300519424, -0.2769190289951098, -0.6320466057478317, -0.4938865314893023, -1.245703425806653, -0.6548047873452635, -0.8211509891873723, -0.8039996518586735, -1.0894905420692207, -0.44656426696574614, -0.7538501418710967, -0.43862923673421783, -0.9818883866181195, -0.5789752717208343, -1.1583038946017847, -1.1403239156574272, -0.6690057850761235, -1.2318783289373858, -1.106054853085915, -1.3082990479772727, -0.9344106905030571, -0.7523254951209851, -0.6414540680861007, -0.8437442373322799, -1.1678276247490151, -1.1872105075992065, -1.2471047613627138, -1.1648352280140342, -1.0701593299322083, -0.8600824719691093, -1.2902140626899836, -0.7888574759542933, 2.5261254090132437, -0.4494796268939357, -0.05779915359561357, -0.8703909409621176, 2.112051813575302, -0.3489812833160308, -1.2146062989890123, -1.0733685271378102, -0.46609092840074107, -0.4292848543375211, -0.31601672140028014, 1.8186507313221285, -0.6876250385293547, -1.0650115553451092, -0.5735888314759345, -1.0972383133270427, -1.3929931681306007, -0.6486093830201846, -0.8486986637155685, -0.6420634520690462, -0.7524470317757561, -1.0847826029055365, -0.7976805908776743, -1.2314177983572656, 2.129218052537087, -0.8314213086641856, -0.9798792145382647, -0.35155265037690636, 2.1959390447084846, -0.7334803918632798, -1.0004019516968599, -0.8221638586716614, -0.8660283999898033, 2.6144220838516157, -0.08194609740636322, -0.6225147076048656, -1.1151421870322389, -0.7582441357774454, -1.3112687987027887, -1.3428518708693484], \"y\": [-0.42129628770945926, -0.4481160462020114, -0.536395629584799, -0.8107389931237071, -2.1944661200038187, -0.7010559746519047, -1.1968123745620778, -0.4389882807819629, -0.10716907253326209, 0.2528721708384635, 0.17893915346512598, -0.12837122952109567, 0.005998891126445525, -0.04901086991103673, 0.29971231385058894, 0.29029758028239516, 0.16561122914100476, 0.10562222149685184, 0.37881782848279927, -0.18910562136625333, -0.10781725418933101, 0.05001074891231708, 0.21227932379691483, 0.3590057477350426, 0.4569637849753379, 0.2375768767252434, -0.694790997971608, -0.5743652567041255, -0.4741844591175132, -0.6688480144772324, -0.6174186217826745, 0.38760828132797437, 0.23849016380057544, -0.29970162408649303, -0.0016127501682379228, 0.32229966765278145, -0.17840940342058656, 0.03157216821773976, 0.2602304031425044, 0.6672280328858663, -0.2973841162624964, 0.45368998270826955, -1.3189594631723578, 0.18124546252138296, -1.9177870274112037, 0.4132798138576816, -0.4533274744368808, -0.46763501692254905, 0.4218250921530417, 0.10673242537144548, -0.046273226889372875, -0.36910982880699694, -0.6666383824039592, -0.7586618689977261, 0.16250021277558332, -0.35783863100857405, 0.32328596734643056, -1.0741383344966269, 0.49786753602071654, 0.2627484761091167, 0.4841585114069708, -0.6410566254080208, -0.009394173762692451, 0.08449152560797096, 0.5168049070876966, -0.13441202684590384, -2.3218601117637485, 0.3975465526023857, -0.2458531026796267, 0.10393984184430304, -0.08065924660136774, -0.043740665286462914, -0.14090876238170716, 0.14975635436921725, 0.3665669159472968, -0.24949156117341953, -0.14519455672317796, -0.06580828702083161, -0.7905634996087106, -0.0635435310215852, -0.11948044040590973, 0.016372712450009135, -0.32440828233088687, -0.22653906490598227, 0.4336328266273363, -0.31047555807603483, 0.15616278731491376, -1.9666446709272243, 0.6313019262324223, -0.11403717541613077, 0.015414515767162016, 0.79442259041612, -0.04841340031622205, -0.18091035644399905, 8.338700523023604, 0.3015661427202263, -0.1593840984579978, 0.32520154902296344, -0.7630802710439331, 0.08981728965703709, 0.45065428929965795, -0.3504258909706849, -0.036818919261058, -0.13764445526142502, -0.31001963496022816, -0.7920678846738358, -0.23078094772519075, -2.6581687239649345, -1.9752497860759348, 0.22316005655360832, -0.0980334707166984, -1.7806052846925264, -0.607124314793956, -0.12121678055388488, -0.4165930968240378, -0.1450830667865781, -1.1465427628743374, 0.9382201434425174, 0.25905125706696014, -0.44626528507584035, 0.08556738810164086, -0.5541311482095976, -0.503422701900396]}, {\"marker\": {\"color\": \"rgba(55, 128, 191, 1.0)\", \"line\": {\"width\": 1.3}, \"opacity\": 0.8, \"size\": 12, \"symbol\": \"circle\"}, \"mode\": \"markers\", \"name\": \"ECCV\", \"text\": [\"Improving Shape Deformation in Unsupervised Image-to-Image Translation\", \"Pairwise Confusion for Fine-Grained Visual Classification\", \"GANimation: Anatomically-aware Facial Animation from a Single Image\", \"Deep Expander Networks: Efficient Deep Networks from Graph Theory\", \"3DMV: Joint 3D-Multi-View Prediction for 3D Semantic Scene Segmentation\", \"Learning Category-Specific Mesh Reconstruction from Image Collections\", \"Zero-Shot Object Detection\", \"A Style-Aware Content Loss for Real-time HD Style Transfer\", \"Piggyback: Adapting a Single Network to Multiple Tasks by Learning to Mask Weights\", \"Semi-supervised Adversarial Learning to Generate Photorealistic Face Images of New Identities from 3D Morphable Model\", \"Simple Baselines for Human Pose Estimation and Tracking\", \"Toward Characteristic-Preserving Image-based Virtual Try-On Network\", \"Acquisition of Localization Confidence for Accurate Object Detection\", \"Conditional Image-Text Embedding Networks\", \"SketchyScene: Richly-Annotated Scene Sketches\", \"Progressive Neural Architecture Search\", \"Image Manipulation with Perceptual Discriminators\", \"Repeatability Is Not Enough: Learning Affine Regions via Discriminability\", \"Unsupervised holistic image generation from key local patches\", \"LQ-Nets: Learned Quantization for Highly Accurate and Compact Deep Neural Networks\", \"Is Robustness the Cost of Accuracy? -- A Comprehensive Study on the Robustness of 18 Deep Image Classification Models\", \"Dynamic Multimodal Instance Segmentation Guided by Natural Language Queries\", \"Dynamic Conditional Networks for Few-Shot Learning\", \"Recovering 3D Planes from a Single Image via Convolutional Neural Networks\", \"Learning Single-View 3D Reconstruction with Limited Pose Supervision\", \"Image Inpainting for Irregular Holes Using Partial Convolutions\", \"Unsupervised Geometry-Aware Representation for 3D Human Pose Estimation\", \"PSANet: Point-wise Spatial Attention Network for Scene Parsing\", \"Deep Randomized Ensembles for Metric Learning\", \"Predicting Gaze in Egocentric Video by Learning Task-dependent Attention Transition\", \"Coloring with Words: Guiding Image Colorization Through Text-based Palette Generation\", \"Fighting Fake News: Image Splice Detection via Learned Self-Consistency\", \"HiDDeN: Hiding Data with Deep Networks\", \"Multi-scale Residual Network for Image Super-Resolution\", \"Adaptive Affinity Fields for Semantic Segmentation\", \"Statistically-motivated Second-order Pooling\", \"Stacked Cross Attention for Image-Text Matching\", \"Open Set Domain Adaptation by Backpropagation\", \"DeepVS: A Deep Learning Based Video Saliency Prediction Approach\", \"EC-Net: an Edge-aware Point set Consolidation Network\", \"Encoder-Decoder with Atrous Separable Convolution for Semantic Image Segmentation\", \"Estimating the Success of Unsupervised Image to Image Translation\", \"Single Shot Scene Text Retrieval\", \"Learning Type-Aware Embeddings for Fashion Compatibility\", \"Learning Visual Question Answering by Bootstrapping Hard Attention\", \"Deep Clustering for Unsupervised Learning of Visual Features\", \"Joint Person Segmentation and Identification in Synchronized First- and Third-person Videos\", \"ECO: Efficient Convolutional Network for Online Video Understanding\", \"Diverse and Coherent Paragraph Generation from Images\", \"MultiPoseNet: Fast Multi-Person Pose Estimation using Pose Residual Network\", \"ShapeStacks: Learning Vision-Based Physical Intuition for Generalised Object Stacking\", \"Towards Realistic Predictors\", \"Choose Your Neuron: Incorporating Domain Knowledge through Neuron-Importance\", \"Explainable Neural Computation via Stack Neural Module Networks\", \"Learning to Separate Object Sounds by Watching Unlabeled Video\", \"ESPNet: Efficient Spatial Pyramid of Dilated Convolutions for Semantic Segmentation\", \"Visual Coreference Resolution in Visual Dialog using Neural Module Networks\", \"License Plate Detection and Recognition in Unconstrained Scenarios\", \"Deep High Dynamic Range Imaging with Large Foreground Motions\", \"Multi-view to Novel view: Synthesizing novel views with Self-Learned Confidence\", \"Specular-to-Diffuse Translation for Multi-View Reconstruction\", \"Layer-structured 3D Scene Inference via View Synthesis\", \"3D-CODED: 3D Correspondences by Deep Deformation\", \"HybridNet: Classification and Reconstruction Cooperation for Semi-Supervised Learning\", \"BSN: Boundary Sensitive Network for Temporal Action Proposal Generation\", \"Learning Dynamic Memory Networks for Object Tracking\", \"Interpretable Intuitive Physics Model\", \"Gray-box Adversarial Training\", \"Depth-aware CNN for RGB-D Segmentation\", \"Learning Efficient Single-stage Pedestrian Detectors by Asymptotic Localization Fitting\", \"A Modulation Module for Multi-task Learning with Applications in Image Retrieval\", \"Single Image Water Hazard Detection using FCN with Reflection Attention Units\", \"Integral Human Pose Regression\", \"Recurrent Squeeze-and-Excitation Context Aggregation Net for Single Image Deraining\", \"Quaternion Convolutional Neural Networks\", \"Mutual Learning to Adapt for Joint Human Parsing and Pose Estimation\", \"Pose Partition Networks for Multi-Person Pose Estimation\", \"Video Re-localization\", \"Joint 3D Face Reconstruction and Dense Alignment with Position Map Regression Network\", \"MVSNet: Depth Inference for Unstructured Multi-view Stereo\", \"Audio-Visual Event Localization in Unconstrained Videos\", \"Macro-Micro Adversarial Network for Human Parsing\", \"SpiderCNN: Deep Learning on Point Sets with Parameterized Convolutional Filters\", \"PlaneMatch: Patch Coplanarity Prediction for Robust RGB-D Reconstruction\", \"Factorizable Net: An Efficient Subgraph-based Framework for Scene Graph Generation\", \"DF-Net: Unsupervised Joint Learning of Depth and Flow using Cross-Task Consistency\", \"Image Super-Resolution Using Very Deep Residual Channel Attention Networks\", \"Group Normalization\", \"Learning to Navigate for Fine-grained Classification\", \"Partial Adversarial Domain Adaptation\", \"Shift-Net: Image Inpainting via Deep Feature Rearrangement\", \"Distractor-aware Siamese Networks for Visual Object Tracking\", \"Improving Generalization via  Scalable Neighborhood Component Analysis\", \"Saliency Detection in 360\\u00b0 Videos\", \"GeoDesc: Learning Local Descriptors by Integrating Geometry Constraints\"], \"textfont\": {\"color\": \"#4D5663\"}, \"type\": \"scatter\", \"x\": [-0.8505888127523739, -0.8036772832579717, -0.8199905335534566, -0.9842383840630559, -1.108233438579999, -0.9933108605714387, -1.2349697421768246, -1.028956492358281, -1.1447111602471993, -1.2794538482916276, -1.1871481598661555, -1.0709688020517845, -0.8465303964236759, 1.297596814101265, -1.1247685853568452, 1.314047575537134, -1.2104404891436615, -0.3928146522526961, -1.0106571353220661, -0.9085508830109162, -1.4310015160103957, -0.9200648367025777, 3.7682256134407033, 1.1522608951902373, 1.2329300833499952, -1.000420496784102, -0.6464598438382957, 1.5763383185036395, -0.2971318646270489, -1.0251998183234303, -1.0606574526802557, -0.6396464457021103, -1.1078769582954262, 1.91042178314073, -1.2069518412949065, -1.063133873929146, -1.3203903011245974, -1.1074734556230132, -0.9859877760579778, 0.309471027752892, -1.2218147407645026, -0.5789651891882763, -1.235583458447863, -0.9977664419543415, 0.2441347165836761, -0.769069670365054, -0.8280402472731573, 1.8114790342143363, 3.5354781743375168, -0.6673646785678105, -0.9666492642135833, 0.7060942419312679, -1.0958244913621011, -0.46781864769736076, -1.1100036220737832, -0.8334911849118465, -1.2153537478498755, 1.6813054731611035, -0.5497938197964578, -0.8185016356900767, -0.29657190956711604, -0.49485158804114576, -0.826124040137476, -0.5288514360325233, -0.46781864769736076, -1.17516358993597, -0.8599406088654871, -0.9761914702897535, -0.9639570407333039, -0.529232998786004, 1.9548256206894181, -1.264962981408522, -0.5912451085973804, -1.1621133694514398, -0.6739340680336817, 3.2278567659663726, -0.9053695170643952, -1.2346038789336482, -1.174146428156847, -1.1632145988323788, 0.20835659062114964, -1.0086614850634867, -0.5585053622051921, -0.804737743467653, -0.7701071009895372, 3.2658402635925485, -0.3086019243463208, -0.8003352235198792, -1.1624847043302005, -0.7810355961809481, -0.2971318646270489, -1.1943504599435737, -1.1759042335752325, -0.45643707589217436, -0.429414920397491], \"y\": [0.20629731740781043, -0.1391380539689428, -0.24986275061727475, -0.588751537008844, -0.2632746199535628, -0.4074368488391526, -0.33522414404936657, -0.9797975574671898, -0.7929562943219437, -0.2489259390519742, -0.40595258128367184, -0.11352159424341057, -0.29294946252343707, -1.329710646176325, -0.306283195317457, -4.9689124202507475, -0.5364926671197077, -0.07294162456063048, -0.03344424950931391, -1.1403381099340133, -0.5861093483897075, -0.21445641143011368, -1.3451703870232303, 1.9361989413715537, 1.8606655251301158, -0.5744455171250995, -0.08654231769585471, -1.6031718219541389, -0.00721080157764549, -0.6497608731762714, -0.4567637738334431, -0.40037002537127275, -0.7017258745705679, -1.9601505996294801, -0.3952142555311035, -0.17407170743505193, -0.6696408327433658, -0.18208149580258717, -0.18279338117098623, 4.786829442953824, -0.5006276805898645, -0.12445723456405627, -0.2632562082176283, -0.2810211411420911, -1.8753225596397038, -1.2507226007146148, -0.6635315623355712, -1.5022168299382104, -0.4592415111094557, -0.12520279654183497, 0.094266869002694, -2.3701610185961837, -0.5194527137211673, 0.35016846701499255, -0.3418465551987732, -0.08785962407029224, -0.3067750234684559, 9.267906830730102, -0.27423199516180585, 0.03061182516574971, -0.09150156443734157, 0.2441429876805192, -0.32784313065250625, -0.6732491260072304, 0.35016846701499255, -0.3607189131954908, -0.35965764728475774, -0.5036505040004341, -0.37761475590584176, -0.4445117592329463, -1.4445565866497463, -0.46070980329147415, -0.47660981423074955, -0.3675260978242039, 0.01514164013903547, -1.3926298118631821, -0.27573882836309516, -0.2587743581490336, -0.13164223123157792, -0.14498683273870533, -0.25776078357265764, -0.2999037322283218, -0.28348512997450437, -0.5931458703480728, -0.25637159104202006, -0.44158055400968055, -0.10787483505268491, -0.5382769951775993, -0.5782693459627548, -0.45775610308963005, -0.00721080157764549, -0.5059133592580118, -0.9674493280562038, -0.2349190210988113, 0.32038928878060524]}, {\"marker\": {\"color\": \"rgba(50, 171, 96, 1.0)\", \"line\": {\"width\": 1.3}, \"opacity\": 0.8, \"size\": 12, \"symbol\": \"circle\"}, \"mode\": \"markers\", \"name\": \"CVPR\", \"text\": [\"Efficient Interactive Annotation of Segmentation Datasets With Polygon-RNN++\", \"An Improved Deep Learning Architecture for Person Re-Identification\", \"Learning Pixel-Level Semantic Affinity With Image-Level Supervision for Weakly Supervised Semantic Segmentation\", \"Defense Against Universal Adversarial Perturbations\", \"Light Field Intrinsics With a Deep Encoder-Decoder Network\", \"Neural Module Networks\", \"Real-Time Monocular Depth Estimation Using Synthetic Data With Domain Adaptation via Image Style Transfer\", \"Multi-Content GAN for Few-Shot Font Style Transfer\", \"LCNN: Lookup-Based Convolutional Neural Network\", \"Deep Watershed Transform for Instance Segmentation\", \"Glimpse Clouds: Human Activity Recognition From Unstructured Feature Points\", \"Hierarchical Boundary-Aware Neural Encoder for Video Captioning\", \"Visual Feature Attribution Using Wasserstein GANs\", \"Deep Unsupervised Similarity Learning Using Partially Ordered Sets\", \"The Lov\\u00e1sz-Softmax Loss: A Tractable Surrogate for the Optimization of the Intersection-Over-Union Measure in Neural Networks\", \"Geometry-Aware Learning of Maps for Camera Localization\", \"SST: Single-Stream Temporal Action Proposals\", \"In-Place Activated BatchNorm for Memory-Optimized Training of DNNs\", \"One-Shot Video Object Segmentation\", \"Neural Sign Language Translation\", \"HashGAN: Deep Learning to Hash With Pair Conditional Wasserstein GAN\", \"Partial Transfer Learning With Selective Adversarial Networks\", \"Realtime Multi-Person 2D Pose Estimation Using Part Affinity Fields\", \"Visual Question Reasoning on General Dependency Tree\", \"Annotating Object Instances With a Polygon-RNN\", \"Pyramid Stereo Matching Network\", \"AON: Towards Arbitrarily-Oriented Text Recognition\", \"Cascaded Pyramid Network for Multi-Person Pose Estimation\", \"Deep Photo Enhancer: Unpaired Learning for Image Enhancement From Photographs With GANs\", \"Knowledge Aided Consistency for Weakly Supervised Phrase Grounding\", \"LiDAR-Video Driving Dataset: Learning Driving Policies Effectively\", \"Multi-View 3D Object Detection Network for Autonomous Driving\", \"StarGAN: Unified Generative Adversarial Networks for Multi-Domain Image-to-Image Translation\", \"Xception: Deep Learning With Depthwise Separable Convolutions\", \"Lip Reading Sentences in the Wild\", \"VidLoc: A Deep Spatio-Temporal Model for 6-DoF Video-Clip Relocalization\", \"Large Scale Fine-Grained Categorization and Domain-Specific Transfer Learning\", \"Learning to Evaluate Image Captioning\", \"ScanComplete: Large-Scale Scene Completion and Semantic Segmentation for 3D Scans\", \"Eye In-Painting With Exemplar Generative Adversarial Networks\", \"Style Aggregated Network for Facial Landmark Detection\", \"Supervision-by-Registration: An Unsupervised Approach to Improve the Precision of Facial Landmark Detectors\", \"Structured Uncertainty Prediction Networks\", \"Low-Shot Learning With Large-Scale Diffusion\", \"GraphBit: Bitwise Interaction Mining via Deep Reinforcement Learning\", \"WILDCAT: Weakly Supervised Learning of Deep ConvNets for Image Classification, Pointwise Localization and Segmentation\", \"Who Let the Dogs Out? Modeling Dog Behavior From Visual Data\", \"Robust Physical-World Attacks on Deep Learning Visual Classification\", \"AMNet: Memorability Estimation With Attention\", \"A Point Set Generation Network for 3D Object Reconstruction From a Single Image\", \"End-to-End Learning of Motion Representation for Video Understanding\", \"Spatially Adaptive Computation Time for Residual Networks\", \"Compact Bilinear Pooling\", \"Learning Generative ConvNets via Multi-Grid Modeling and Sampling\", \"Dynamic Few-Shot Visual Learning Without Forgetting\", \"Social GAN: Socially Acceptable Trajectories With Generative Adversarial Networks\", \"DeLiGAN : Generative Adversarial Networks for Diverse and Limited Data\", \"Learning by Association -- A Versatile Semi-Supervised Training Method for Neural Networks\", \"Deep Pyramidal Residual Networks\", \"Can Spatiotemporal 3D CNNs Retrace the History of 2D CNNs and ImageNet?\", \"Deep Back-Projection Networks for Super-Resolution\", \"Deep Residual Learning for Image Recognition\", \"Deeply Supervised Salient Object Detection With Short Connections\", \"CondenseNet: An Efficient DenseNet Using Learned Group Convolutions\", \"DeepMVS: Learning Multi-View Stereopsis\", \"Densely Connected Convolutional Networks\", \"Learning Deep Representation for Imbalanced Classification\", \"Real-Time Neural Style Transfer for Videos\", \"Speed/Accuracy Trade-Offs for Modern Convolutional Object Detectors\", \"Pointwise Convolutional Neural Networks\", \"Fast and Accurate Single Image Super-Resolution via Information Distillation Network\", \"LiteFlowNet: A Lightweight Convolutional Neural Network for Optical Flow Estimation\", \"Deep 360 Pilot: Learning a Deep Agent for Piloting Through 360deg Sports Videos\", \"FC4: Fully Convolutional Color Constancy With Confidence-Weighted Pooling\", \"Finding Tiny Faces\", \"Learning Answer Embeddings for Visual Question Answering\", \"Modeling Relationships in Referential Expressions With Compositional Modular Networks\", \"Image Specificity\", \"DenseCap: Fully Convolutional Localization Networks for Dense Captioning\", \"Image Generation From Scene Graphs\", \"Total Capture: A 3D Deformation Model for Tracking Faces, Hands, and Bodies\", \"Perturbative Neural Networks\", \"End-to-End Recovery of Human Shape and Pose\", \"Convolutional Neural Networks for No-Reference Image Quality Assessment\", \"Geometric Loss Functions for Camera Pose Regression With Deep Learning\", \"Simple Does It: Weakly Supervised Instance and Semantic Segmentation\", \"Accurate Image Super-Resolution Using Very Deep Convolutional Networks\", \"Context Embedding Networks\", \"Deeply-Recursive Convolutional Network for Image Super-Resolution\", \"Deep Hand: How to Train a CNN on 1 Million Hand Images When Your Data Is Continuous and Weakly Labelled\", \"RON: Reverse Connection With Objectness Prior Networks for Object Detection\", \"Surface Networks\", \"A Hierarchical Approach for Generating Descriptive Image Paragraphs\", \"Stochastic Downsampling for Cost-Adjustable Inference and Improved Regularization in Convolutional Networks\", \"Deep Laplacian Pyramid Networks for Fast and Accurate Super-Resolution\", \"Deep Learning Under Privileged Information Using Heteroscedastic Dropout\", \"TI-Pooling: Transformation-Invariant Pooling for Feature Learning in Convolutional Neural Networks\", \"Fast Algorithms for Convolutional Neural Networks\", \"Photo-Realistic Single Image Super-Resolution Using a Generative Adversarial Network\", \"CleanNet: Transfer Learning for Scalable Image Classifier Training With Label Noise\", \"Hierarchical Novelty Detection for Visual Object Recognition\", \"Recurrent Convolutional Neural Network for Object Recognition\", \"Deep Marching Cubes: Learning Explicit Surface Representations\", \"Conditional Image-to-Image Translation\", \"Inverse Compositional Spatial Transformer Networks\", \"RefineNet: Multi-Path Refinement Networks for High-Resolution Semantic Segmentation\", \"ST-GAN: Spatial Transformer Generative Adversarial Networks for Image Compositing\", \"Decoupled Networks\", \"Deep Supervised Hashing for Fast Image Retrieval\", \"FOTS: Fast Oriented Text Spotting With a Unified Network\", \"Future Frame Prediction for Anomaly Detection \\u0096 A New Baseline\", \"PiCANet: Learning Pixel-Wise Contextual Attention for Saliency Detection\", \"PlaneNet: Piece-Wise Planar Reconstruction From a Single RGB Image\", \"Predicting Salient Face in Multiple-Face Videos\", \"Recognizing Human Actions as the Evolution of Pose Estimation Maps\", \"Richer Convolutional Features for Edge Detection\", \"SphereFace: Deep Hypersphere Embedding for Face Recognition\", \"Convolutional Sequence to Sequence Model for Human Dynamics\", \"CSRNet: Dilated Convolutional Neural Networks for Understanding the Highly Congested Scenes\", \"Learning Intrinsic Image Decomposition From Watching the World\", \"MegaDepth: Learning Single-View Depth Prediction From Internet Photos\", \"SO-Net: Self-Organizing Network for Point Cloud Analysis\", \"Towards Faster Training of Global Covariance Pooling Networks by Iterative Matrix Square Root Normalization\", \"Attention Clusters: Purely Attention Based Local Feature Integration for Video Classification\", \"Fully Convolutional Networks for Semantic Segmentation\", \"Deep Photo Style Transfer\", \"Discriminability Objective for Training Descriptive Captions\", \"Efficient Deep Learning for Stereo Matching\", \"Non-Local Deep Features for Salient Object Detection\", \"Neural Baby Talk\", \"Unsupervised Video Summarization With Adversarial LSTM Networks\", \"PackNet: Adding Multiple Tasks to a Single Network by Iterative Pruning\", \"Boosting Domain Adaptation by Discovering Latent Domains\", \"On Human Motion Prediction Using Recurrent Neural Networks\", \"Transparency by Design: Closing the Gap Between Performance and Interpretability in Visual Reasoning\", \"Disentangled Person Image Generation\", \"Conditional Probability Models for Deep Image Compression\", \"Cross-Stitch Networks for Multi-Task Learning\", \"NAG: Network for Adversary Generation\", \"Beyond the Pixel-Wise Loss for Topology-Aware Delineation\", \"3D Bounding Box Estimation Using Deep Learning and Geometry\", \"Improved Fusion of Visual and Language Representations by Dense Symmetric Co-Attention for Visual Question Answering\", \"Human Pose Estimation With Parsing Induced Learner\", \"Video Frame Interpolation via Adaptive Convolution\", \"Learning Dual Convolutional Neural Networks for Low-Level Vision\", \"Towards Accurate Multi-Person Pose Estimation in the Wild\", \"Making Deep Neural Networks Robust to Label Noise: A Loss Correction Approach\", \"Jointly Optimize Data Augmentation and Network Training: Adversarial Data Augmentation in Human Pose Estimation\", \"Learning Latent Super-Events to Detect Multiple Activities in Videos\", \"Full-Resolution Residual Networks for Semantic Segmentation in Street Scenes\", \"Learning Pose Specific Representations by Predicting Different Views\", \"Generative Adversarial Perturbations\", \"PieAPP: Perceptual Image-Error Assessment Through Pairwise Preference\", \"Attentive Generative Adversarial Network for Raindrop Removal From a Single Image\", \"Few-Shot Image Recognition by Predicting Parameters From Activations\", \"Frustum PointNets for 3D Object Detection From RGB-D Data\", \"GeoNet: Geometric Neural Network for Joint Depth and Surface Normal Estimation\", \"Low-Shot Learning With Imprinted Weights\", \"PointNet: Deep Learning on Point Sets for 3D Classification and Segmentation\", \"Semi-Parametric Image Synthesis\", \"Top-Down Visual Saliency Guided by Captions\", \"Optical Flow Estimation Using a Spatial Pyramid Network\", \"Self-Critical Sequence Training for Image Captioning\", \"Cross-Domain Self-Supervised Multi-Task Feature Learning Using Synthetic Imagery\", \"End-To-End Instance Segmentation With Recurrent Attention\", \"Action Sets: Weakly Supervised Action Segmentation Without Ordering Constraints\", \"End-to-End Weakly-Supervised Semantic Alignment\", \"Real-World Repetition Estimation by Div, Grad and Curl\", \"Adversarially Learned One-Class Classifier for Novelty Detection\", \"Logo Synthesis and Manipulation With Clustered Generative Adversarial Networks\", \"Generate to Adapt: Aligning Domains Using Generative Adversarial Networks\", \"Learning From Synthetic Data: Addressing Domain Shift for Semantic Segmentation\", \"Avatar-Net: Multi-Scale Zero-Shot Style Transfer by Feature Decoration\", \"Weakly Supervised Dense Video Captioning\", \"Pixels, Voxels, and Views: A Study of Shape Representations for Single View 3D Object Shape Prediction\", \"Real-Time Single Image and Video Super-Resolution Using an Efficient Sub-Pixel Convolutional Neural Network\", \"Learning From Simulated and Unsupervised Images Through Adversarial Training\", \"Actor and Observer: Joint Modeling of First and Third-Person Videos\", \"Deep Metric Learning via Facility Location\", \"VITAL: VIsual Tracking via Adversarial Learning\", \"Cross-Modal Deep Variational Hand Pose Estimation\", \"Light Field Blind Motion Deblurring\", \"End-To-End People Detection in Crowded Scenes\", \"Pix3D: Dataset and Methods for Single-Image 3D Shape Modeling\", \"PWC-Net: CNNs for Optical Flow Using Pyramid, Warping, and Cost Volume\", \"Rethinking the Inception Architecture for Computer Vision\", \"Spatially-Adaptive Filter Units for Deep Neural Networks\", \"Image Super-Resolution via Deep Recursive Residual Network\", \"Multiple Instance Detection Network With Online Instance Classifier Refinement\", \"Multiple People Tracking by Lifted Multicut and Person Re-Identification\", \"Scale-Recurrent Network for Deep Image Deblurring\", \"Tangent Convolutions for Dense Prediction in 3D\", \"Real-Time Seamless Single Shot 6D Object Pose Prediction\", \"Two-Stream Convolutional Networks for Dynamic Texture Synthesis\", \"Full Resolution Image Compression With Recurrent Neural Networks\", \"Lifting From the Deep: Convolutional 3D Pose Estimation From a Single Image\", \"A Closer Look at Spatiotemporal Convolutions for Action Recognition\", \"Face Normals \\\"In-The-Wild\\\" Using Fully Convolutional Networks\", \"Learning to Adapt Structured Output Space for Semantic Segmentation\", \"Learning Shape Abstractions by Assembling Volumetric Primitives\", \"MoCoGAN: Decomposing Motion and Content for Video Generation\", \"Learning Superpixels With Segmentation-Aware Affinity Loss\", \"Adversarial Discriminative Domain Adaptation\", \"Deep Image Prior\", \"Deep Feature Interpolation for Image Content Changes\", \"PointNetVLAD: Deep Point Cloud Based Retrieval for Large-Scale Place Recognition\", \"Conditional Similarity Networks\", \"Neural Kinematic Networks for Unsupervised Motion Retargetting\", \"Show and Tell: A Neural Image Caption Generator\", \"Adversarial Feature Augmentation for Unsupervised Domain Adaptation\", \"Face Aging With Identity-Preserved Conditional Generative Adversarial Networks\", \"High-Resolution Image Synthesis and Semantic Manipulation With Conditional GANs\", \"Learning a Discriminative Filter Bank Within a CNN for Fine-Grained Recognition\", \"Multimodal Transfer: A Hierarchical Deep Convolutional Neural Network for Fast Artistic Style Transfer\", \"Repulsion Loss: Detecting Pedestrians in a Crowd\", \"Revisiting Video Saliency: A Large-Scale Benchmark and a New Model\", \"SGPN: Similarity Group Proposal Network for 3D Point Cloud Instance Segmentation\", \"Skeleton Key: Image Captioning by Skeleton-Attribute Decomposition\", \"Min-Entropy Latent Model for Weakly Supervised Object Detection\", \"Rethinking Feature Distribution for Loss Functions in Image Classification\", \"Bidirectional Retrieval Made Simple\", \"Convolutional Pose Machines\", \"Dense Human Body Correspondences Using Convolutional Networks\", \"Compressed Video Action Recognition\", \"Exploit the Unknown Gradually: One-Shot Video-Based Person Re-Identification by Stepwise Learning\", \"Quantized Convolutional Neural Networks for Mobile Devices\", \"Unsupervised Feature Learning via Non-Parametric Instance Discrimination\", \"Feature Generating Networks for Zero-Shot Learning\", \"Gibson Env: Real-World Perception for Embodied Agents\", \"Aggregated Residual Transformations for Deep Neural Networks\", \"Learning Descriptor Networks for 3D Shape Synthesis and Analysis\", \"Deep Texture Manifold for Ground Terrain Recognition\", \"AttnGAN: Fine-Grained Text to Image Generation With Attentional Generative Adversarial Networks\", \"Deep Image Matting\", \"Scene Graph Generation by Iterative Message Passing\", \"DenseASPP for Semantic Segmentation in Street Scenes\", \"Learning Face Age Progression: A Pyramid Architecture of GANs\", \"Neural Aggregation Network for Video Face Recognition\", \"Object Contour Detection With a Fully Convolutional Encoder-Decoder Network\", \"Robust Classification With Convolutional Prototype Learning\", \"Semantic Filtering\", \"GeoNet: Unsupervised Learning of Dense Depth, Optical Flow and Camera Pose\", \"Crafting a Toolchain for Image Restoration by Deep Reinforcement Learning\", \"Dilated Residual Networks\", \"Generative Image Inpainting With Contextual Attention\", \"MAttNet: Modular Attention Network for Referring Expression Comprehension\", \"PU-Net: Point Cloud Upsampling Network\", \"Video Paragraph Captioning Using Hierarchical Recurrent Neural Networks\", \"Learning to Promote Saliency Detectors\", \"S3Pool: Pooling With Stochastic Spatial Sampling\", \"Adversarial Complementary Learning for Weakly Supervised Object Localization\", \"Deep Mutual Learning\", \"Densely Connected Pyramid Dehazing Network\", \"Density-Aware Single Image De-Raining Using a Multi-Stream Dense Network\", \"Grounding Referring Expressions in Images by Variational Context\", \"ISTA-Net: Interpretable Optimization-Inspired Deep Network for Image Compressive Sensing\", \"Joint Pose and Expression Modeling for Facial Expression Recognition\", \"Learning a Deep Embedding Model for Zero-Shot Learning\", \"Residual Dense Network for Image Super-Resolution\", \"Single-Image Crowd Counting via Multi-Column Convolutional Neural Network\", \"The Unreasonable Effectiveness of Deep Features as a Perceptual Metric\", \"Unsupervised Discovery of Object Landmarks as Structural Representations\", \"Visual Translation Embedding Network for Visual Relation Detection\", \"Ring Loss: Convex Feature Normalization for Face Recognition\", \"EAST: An Efficient and Accurate Scene Text Detector\", \"Learning Deep Features for Discriminative Localization\", \"Learning Rich Features for Image Manipulation Detection\", \"Weakly Supervised Instance Segmentation Using Class Peak Response\", \"Fast Training of Triplet-Based Deep Binary Embedding Networks\", \"Towards Effective Low-Bitwidth Convolutional Neural Networks\", \"Learning Spatial Regularization With Image-Level Supervisions for Multi-Label Image Classification\", \"Learning Transferable Architectures for Scalable Image Recognition\", \"LayoutNet: Reconstructing the 3D Room Layout From a Single RGB Image\"], \"textfont\": {\"color\": \"#4D5663\"}, \"type\": \"scatter\", \"x\": [0.02026021814949698, -0.7061982964675222, -0.14750604602825027, -0.23818069345996049, 3.06987178805683, 2.633623127561483, -0.07077116420237206, 0.004745067093532053, -0.04051231027034655, -0.12713079700590452, -0.1442380354608406, 2.9917126263496865, -0.13121283521987678, -0.3626441999748285, -0.24166072799210583, 0.03910176526404213, -0.07651466168733614, 2.849431470142667, -1.1860154425027745, -0.3573696030702578, -0.14750604602825027, 0.004745067093532053, 0.0720960278129373, 0.03910176526404213, -0.17628436540861275, -0.9191753231099721, 2.4441792952994854, -0.23818069345996049, 3.4469926601752126, -0.06620064783017679, 2.266310665405885, 2.900245936379811, -0.04617016812625726, 4.1185482825977795, 3.9547752447541935, -0.3642788779232984, -0.08613816113257237, -0.8150105617417966, -1.0442222322488264, -0.14750604602825027, 4.084611186316531, 0.9691608380763114, -0.14750604602825027, 0.6005811650904561, -0.5489281148926797, 0.06683029353853621, 2.632371349577706, -0.21143049847665296, 3.2809013150838626, 3.5062401170553588, 0.03337900245685906, -0.10647367734483423, -0.24116612884832037, 0.0473080925346429, 1.6701360039780915, 2.993329980321656, 3.8009500057481596, -0.04293121932540228, 4.051312772213673, 3.3745555886601615, 3.827573875231063, 3.8070805692134657, -0.9400111549886755, 2.5343737299531157, -0.739337443224496, 2.9170810454493714, -0.9857017484499508, 3.606339661783695, -0.017042015661449444, -0.13594963207226896, 2.0013280154566004, -0.46064549594720566, -0.3309966602665113, -0.15543669320222459, 0.06683029353853621, -0.07077116420237206, 0.09500613947503499, -0.6616837240416306, -0.13418769399824232, 0.01645679235264718, -0.45285700610667884, 2.045908386597831, -0.34737673249051704, -0.7558227007385521, -0.07026623271312005, 0.004328027360195322, -0.17180625558444743, -0.14750604602825027, -0.5697793731600803, -0.24373845980725692, 2.3476165962868594, 3.05576195051194, 0.0066965328636955255, -0.13542973555199847, -0.765318174440196, -0.061319035471065625, -0.7594179911395084, -0.23327458552828415, 3.2519580379925577, 2.8608653460872153, 0.02026021814949698, -1.2346942135238606, -1.0783222912193688, 0.1479306948039243, -0.020912774735334514, 0.201495746928247, -0.22938839317721535, -0.37321378963398566, -0.18469721121190866, -0.15528919635359167, 2.6765252488301496, -0.17608947629854993, -0.35344358330611975, -0.5631626479020878, -1.0986740464826381, 0.08745721240079815, 3.244790618675556, -0.3546892409392198, -0.22186746621554274, 0.1347899610372388, 0.04288438633239313, 3.3217895632924668, -0.8012825246425773, -0.14750604602825027, -1.3834895093581392, -0.017042015661449444, 0.059011758270056745, 1.3559115405637017, 0.0668068364120928, 2.431345629188477, 2.8581698520779604, 0.004745067093532053, 0.02026021814949698, -0.12713079700590452, 2.953852635505016, -0.3546892409392198, 3.6338420722883282, -0.7655027601373255, -0.05862833028202092, -0.9096536046393898, 1.3659173623269367, -0.034154059229939915, 3.4447446417475454, 0.1434340516667011, -0.21946149977045998, -0.013316438225999103, -0.020912774735334514, -0.722825980402829, -0.3084315659354619, -0.3606140308862534, -0.26303504069785427, -0.009270558418727183, 2.2877895988551407, 3.8806120662348693, -0.07077116420237206, -0.6519640993293035, -0.69429790373298, 2.9120072183407775, 3.368136885833003, -0.6689599484591388, -0.020925089047025704, 0.0697716974795428, -0.12784413574645845, -0.13382335711138718, -0.8076373526169611, -0.07077116420237206, 0.17164225123953078, -0.136340130939766, -1.1532041226304872, 0.051985990945555005, 0.02026021814949698, -0.061319035471065625, 3.7566867523841174, -0.20216700062005372, -1.0050013347775386, 0.1375554187093773, 0.014419935096778988, -0.4352884155344741, -0.12951158477425248, -0.9818601468493129, -0.44821255578767744, -0.36042455890768105, 0.006955605606800056, -0.458956653152479, -0.04397460610418929, 3.010547153330345, -0.05862833028202092, 3.4450096233333505, -0.9115332129558938, -0.020912774735334514, 1.9813936260614595, 2.829215454650745, -1.1070153154962912, 9.550165181729938, 2.4016313024551157, -0.4630647181684974, 3.7367284688217692, 0.13881085431250284, -1.3074170782822299, -0.4828463783148235, 0.02026021814949698, 2.511212705924061, 2.7434217368316753, -0.07077116420237206, 0.201495746928247, 2.530240566128971, 0.06683029353853621, -0.10994434823341685, -1.05475030571904, -0.8773322561158307, -0.30776240044553593, -0.9617034149535248, 2.235909159254325, -0.01999353898352412, -0.058095948964240515, -0.2477333464813007, -0.2477333464813007, -0.08752688643940078, -0.9311822260880297, -0.2516869401186436, 3.603110931205056, -0.13418769399824232, -1.0315911586762248, -0.03251281544942448, -0.009270558418727183, -0.1878178107317524, 0.02026021814949698, -0.14750604602825027, -0.36751768252106753, 3.72617563375783, -0.45495575505581937, 2.188722053989703, -0.256884055749476, 0.010618308563104898, 3.520678770936879, 3.070854238116431, 0.03682417319771038, -0.020912774735334514, -0.6159466962787323, -0.5880196169010755, -0.13418769399824232, -1.0660681796406666, -0.14750604602825027, 4.014011861725616, -0.45087183366808725, 3.1410722952426378, -0.14750604602825027, -0.6050653880869402, -0.008649222511607126, -0.0826061935532619, -0.8381983096572241, 3.281712427270542, -0.560553696136251, 3.691000106456625, -0.2477333464813007, -0.06620064783017679, -0.0384142775166084, -0.10425918277642834, -0.979051887345116, -0.13418769399824232, -0.26836957665759525, -0.24166072799210583, -0.6607409230220123, -0.3215846456216355, 3.52599415868099, -0.11995269538671957, -0.10114278848028978, 0.059011758270056745, 0.027214946622555563, 0.11571758247229534, -0.03281736817449504, -0.10381537986662397, -0.13407153873699165], \"y\": [0.22155782932223417, 0.2232130373270123, 0.5753301650713354, 0.5692070886166513, -0.7453743159130961, -0.5830470877256071, 0.20604637559330347, 0.1900811354709459, 0.4818191901314727, 0.501178685221524, 0.2087716313103489, -0.3362021182626366, 0.5155196546868289, 0.6133579746098804, 0.5280834682041003, 0.10104249501461031, 0.026036001278507928, -0.6646351243487543, -0.30361270958920206, 0.3191599403141716, 0.5753301650713354, 0.1900811354709459, 0.08063385891211357, 0.10104249501461031, -0.10137804783703133, -0.4470650836831273, 2.6477033930056275, 0.5692070886166513, -0.2974712889378657, 0.5018578462339355, -2.147107225892668, -0.3705037723699746, 0.46023985029087067, -0.47240680994364825, 0.15307075048672084, -0.1011280175613499, -0.15040756085209295, 0.15810195270758964, -0.025191327936765245, 0.5753301650713354, -0.19227429640925273, -2.5147606508635025, 0.5753301650713354, -0.15002550238730447, -0.2179101066168538, 0.11253636169293318, -1.1347282558785359, 0.0343688523730764, -1.076725176205695, 1.2463345894581288, -0.017146822119867712, 0.4833263159427761, 0.6829963627388231, 0.4326770103211703, 3.230719765200451, -0.5074958800286734, 0.31404744539948903, 0.50639360654717, -0.3601141776972578, -0.2507619053000946, -0.12667762850578465, -1.7883375236446355, -0.14886704043242532, 4.904018558835499, 0.13653314536086947, -1.2063973742262417, -0.4097682492369597, 0.08537707504898623, 0.5489565532203724, 0.5686569811645187, -0.9465861598133691, 0.17469348719044056, 0.2885471535278475, -0.39231842493966923, 0.11253636169293318, 0.20604637559330347, 0.32322137308610865, -0.29228464959962025, 0.7295368285711684, 0.20580129085805288, 0.5558965891327206, -0.9721134488955208, 0.18645838620743752, -0.3789393341455578, 0.3973040771604559, 0.41294228018730855, 0.6451471372303608, 0.5753301650713354, 0.5765946126373839, 0.7620592473893358, -0.39959227293953103, -0.2962186294719946, 0.35103397207483183, -0.497529501562592, -0.4181426043017557, 0.19618672439620696, 0.08291442895692726, 0.740591226602179, -0.56329012697567, -0.2719335144738974, 0.22155782932223417, -0.4173302012759771, -0.193044695051673, -0.03716450506564597, 0.4927022266384418, 0.07188951192209754, 0.45469627052411365, -0.17388799497454982, 0.702117801404339, 0.16926939140415342, -1.2008759642548756, 0.5089636763235559, 0.4505612013855762, 0.31128393340844096, -0.6440605440900815, 0.10940696960941963, -0.5208341494085106, 0.5816516183278211, 0.13284082991277696, 0.17233951041036857, 0.6764548200673544, 0.519492789964919, -0.16792785890916187, 0.5753301650713354, -0.4709551527159137, 0.5489565532203724, 0.1585998549015455, 6.372744848665448, 0.40133455260261913, -0.3641088032672039, -0.5177568366642553, 0.1900811354709459, 0.22155782932223417, 0.501178685221524, -0.019661216950190494, 0.5816516183278211, 0.10510091836404165, -0.4392421559920352, 0.5820273441123502, -0.44198203920274837, 1.065489571157213, 0.09440339462610568, -0.3553161673791712, 0.14157354818380583, -0.3860191659117513, 0.05564663680295092, 0.4927022266384418, -0.3113800152691135, 0.000730348689702572, 0.47461096941602077, 0.006890339497926304, 0.37956892831572386, -4.779697482951092, 0.0193332633198844, 0.20604637559330347, 0.3249967912483354, -0.11803805212555696, -0.7211504436974095, -0.8680566827576344, 0.12080794267067933, 0.57199582171664, 0.11378715902249577, 0.5146863328954497, 0.6143342511644544, -0.37693587574878173, 0.20604637559330347, -0.07060042451616907, 0.3531482125452844, -0.27785693038653636, 0.49179765078990906, 0.22155782932223417, 0.19618672439620696, 0.7953144177677683, 0.4774090984577961, -0.3920894021782096, 0.22321512687275197, 0.377532794488322, -0.033694939329709545, 0.4597475736283295, -0.2372468680355365, 0.5582761507246597, 0.5013981710002441, 0.3890988691148013, 0.42856491695985266, 0.1013422241208158, 1.6202524000956624, 0.5820273441123502, -0.38708610027214646, -0.3887879423938707, 0.4927022266384418, 0.9628573274192589, -0.5640231431848237, -0.27431260909086286, -2.273175571644113, 3.9935772491114485, 0.37166279493206494, 0.009889083421561225, 0.535131508333737, -0.34122506117763024, -0.389632309834712, 0.22155782932223417, -1.120893164988943, -0.2977501759712483, 0.20604637559330347, 0.07188951192209754, 8.53456925494168, 0.11253636169293318, 0.5128868825662136, -0.38631306695954987, 0.2564917395790745, 0.5880146851755781, -0.026485149457336963, -2.3426586766935484, 0.3956078418354256, 0.1676157687417815, 0.5785867382799202, 0.5785867382799202, 0.4623537840711905, -0.17135493250268413, -0.08860244279216019, -0.5321041642202095, 0.7295368285711684, -0.04475255744102507, 0.45421657176821584, 0.37956892831572386, 0.7380756737351123, 0.22155782932223417, 0.5753301650713354, 0.4645965963450403, -0.07749157545019261, 0.5553579341305391, -0.6167820242628835, 0.07201798114033131, 0.473829731894052, -0.4832476763917297, -0.4117134130942719, 0.1431476233818323, 0.4927022266384418, 0.31963888609690705, -0.20645766523660256, 0.7295368285711684, -0.18640658473109797, 0.5753301650713354, -0.2902428699046519, 0.31606048013918053, -0.34229532748511315, 0.5753301650713354, 0.4331387376301266, 0.062366068360554555, 0.3805355479540277, -0.11611934273716468, 9.277032274662982, 0.1317904469306415, -0.44349179531413463, 0.5785867382799202, 0.5018578462339355, 0.5577827145445982, 0.48282636833200826, -0.37755057723071894, 0.7295368285711684, 0.5843606652167747, 0.5280834682041003, -0.23531827882543332, 0.6158875593587192, -0.24083326170539598, 0.7481219457660879, 0.6131975378433344, 0.1585998549015455, 0.34258304341133045, 0.3548157616483734, 0.4047134405469531, 0.3478502638114615, 0.3080572471782363]}, {\"marker\": {\"color\": \"rgba(128, 0, 128, 1.0)\", \"line\": {\"width\": 1.3}, \"opacity\": 0.8, \"size\": 12, \"symbol\": \"circle\"}, \"mode\": \"markers\", \"name\": \"ICML\", \"text\": [\"OptNet: Differentiable Optimization as a Layer in Neural Networks\", \"Input Convex Neural Networks\", \"Wasserstein Generative Adversarial Networks\", \"Synthesizing Robust Adversarial Examples\", \"Differentially Private Database Release via Kernel Mean Embeddings\", \"Optimizing the Latent Space of Generative Networks\", \"NetGAN: Generating Graphs via Random Walks\", \"Compressed Sensing using Generative Models\", \"Predict and Constrain: Modeling Cardinality in Deep Structured Prediction\", \"Path-Level Network Transformation for Efficient Architecture Search\", \"Adversarial Learning with Local Coordinate Coding\", \"Adversarial Time-to-Event Modeling\", \"Learning K-way D-dimensional Discrete Codes for Compact Embedding Representations\", \"DRACO: Byzantine-resilient Distributed Training via Redundant Gradients\", \"AdaNet: Adaptive Structural Learning of Artificial Neural Networks\", \"Inference Suboptimality in Variational Autoencoders\", \"Stochastic Generative Hashing\", \"Adversarial Attack on Graph Structured Data\", \"Language Modeling with Gated Convolutional Networks\", \"Stochastic Video Generation with a Learned Prior\", \"Dance Dance Convolution\", \"Model-Agnostic Meta-Learning for Fast Adaptation of Deep Networks\", \"Input Switched Affine Networks: An RNN Architecture Designed for Interpretability\", \"Bilevel Programming for Hyperparameter Optimization and Meta-Learning\", \"Convolutional Sequence to Sequence Learning\", \"Visualizing and Understanding Atari Agents\", \"On Calibration of Modern Neural Networks\", \"DeepBach: a Steerable Model for Bach Chorales Generation\", \"Learning unknown ODE models with Gaussian processes\", \"Toward Controlled Generation of Text\", \"Neural Autoregressive Flows\", \"Decoupled Parallel Backpropagation with Convergence Guarantee\", \"Attention-based Deep Multiple Instance Learning\", \"Black-box Adversarial Attacks with Limited Queries and Information\", \"Decoupled Neural Interfaces using Synthetic Gradients\", \"Efficient end-to-end learning for quantizable representations\", \"Composite Functional Gradient Learning of Generative  Adversarial Models\", \"Video Pixel Networks\", \"Efficient Neural Audio Synthesis\", \"Learning to Discover Cross-Domain Relations with Generative Adversarial Networks\", \"SplitNet: Learning to Semantically Split Deep Networks for Parameter Reduction and Model Parallelization\", \"Disentangling by Factorising\", \"Neural Relational Inference for Interacting Systems\", \"Grammar Variational Autoencoder\", \"Deep Spectral Clustering Learning\", \"Hierarchical Imitation and Reinforcement Learning\", \"Confident Multiple Choice Learning\", \"Gated Path Planning Networks\", \"Noise2Noise: Learning Image Restoration without Clean Data\", \"Dropout Inference in Bayesian Neural Networks with Alpha-divergences\", \"Explicit Inductive Bias for Transfer Learning with Convolutional Networks\", \"Towards Binary-Valued Gates for Robust LSTM Training\", \"Zero-Inflated Exponential Family Embeddings\", \"Dimensionality-Driven Learning with Noisy Labels\", \"Adversarial Variational Bayes: Unifying Variational Autoencoders and Generative Adversarial Networks\", \"Device Placement Optimization with Reinforcement Learning\", \"SparseMAP: Differentiable Sparse Structured Inference\", \"A Theoretical Explanation for Perplexing Behaviors of Backpropagation-based Visualizations\", \"The Statistical Recurrent Unit\", \"Count-Based Exploration with Neural Density Models\", \"Efficient Neural Architecture Search via Parameters Sharing\", \"Robust Adversarial Reinforcement Learning\", \"Neural Episodic Control\", \"Online and Linear-Time Attention by Enforcing Monotonic Alignments\", \"Learning to Reweight Examples for Robust Deep Learning\", \"Deep One-Class Classification\", \"First Order Generative Adversarial Networks\", \"Finding Influential Training Samples for Gradient Boosted Decision Trees\", \"A Spectral Approach to Gradient Estimation for Implicit Distributions\", \"Bottleneck Conditional Density Estimation\", \"Attentive Recurrent Comparators\", \"The Predictron:  End-To-End Learning and Planning\", \"Accelerating Natural Gradient with Higher-Order Invariance\", \"Exploiting the Potential of Standard Convolutional Autoencoders for Image Restoration by Evolutionary Search\", \"Neural Program Synthesis from Diverse Demonstration Videos\", \"Differentiable Compositional Kernel Learning for Gaussian Processes\", \"Axiomatic Attribution for Deep Networks\", \"Black Box FDR\", \"Learning Longer-term Dependencies in RNNs with Auxiliary Losses\", \"The Mirage of Action-Dependent Baselines in Reinforcement Learning\", \"Learning to Generate Long-term Future via Hierarchical Prediction\", \"PredRNN++: Towards A Resolution of the Deep-in-Time Dilemma in Spatiotemporal Predictive Learning\", \"Style Tokens: Unsupervised Style Modeling, Control and Transfer in End-to-End Speech Synthesis\", \"Transfer Learning via Learning to Transfer\", \"Hierarchical Long-term Video Prediction without Supervision\", \"Variance Regularized Counterfactual Risk Minimization via Variational Divergence Minimization\", \"Deep k-Means: Re-Training and Parameter Sharing with Harder Cluster Assignments for Compressing Deep Convolutions\", \"Learning Semantic Representations for Unsupervised Domain Adaptation\", \"Improved Variational Autoencoders for Text Modeling using Dilated Convolutions\", \"Mean Field Multi-Agent Reinforcement Learning\", \"Combined Group and Exclusive Sparsity for Deep Neural Networks\", \"GraphRNN: Generating Realistic Graphs with Deep Auto-regressive Models\", \"Continual Learning Through Synaptic Intelligence\", \"Adversarial Feature Matching for Text Generation\", \"Convexified Convolutional Neural Networks\", \"Noisy Natural Gradient as Variational Inference\", \"Follow the Moving Leader in Deep Learning\", \"Recurrent Highway Networks\"], \"textfont\": {\"color\": \"#4D5663\"}, \"type\": \"scatter\", \"x\": [-0.47065010909263644, 0.7555530752332094, -0.28335714548810126, -0.46038947699067795, -0.9000618158870837, -0.7136859186224561, -1.0830059999589894, -1.006762470990561, 0.4537383817785011, 0.9435793467715536, -1.0433423739455585, -1.2788655899508954, -0.9401726073664007, -1.1057369596173532, -0.6267639534197583, -0.5860544887299665, -1.160875862870758, -1.279502771622411, -1.1190645390733258, -1.0358740517899967, 3.2733311855235563, -1.2881202245780434, -0.8220731336590398, -1.0756410625608637, -1.0408113003242754, -0.900840355861538, -0.6920230444557639, -0.5708011346127212, -0.7897184108023061, -0.7621740212526672, -0.9987679110392057, -0.981003949238592, -0.86445270206308, -0.3616567084593277, -0.9075729139305946, -0.8530328608570147, -1.1256974105946673, 1.793230522737597, -1.1239206554959895, -0.7780356412397964, -1.173802753621391, -0.2877964687690191, -1.310221508579935, -1.4312436048025954, -0.7103031169849814, -1.1060625735767033, -0.5416043551998442, -1.1067546822596717, -0.802124876550704, -0.9271560702904836, -1.0463968730376456, -0.9958582709020204, -0.6245053071417357, -0.9450588562131869, -1.2163471789038922, 2.117694641913509, -0.8368483224359983, -1.013226424955159, -0.7747208102228983, -0.242766118311712, 3.229455799482995, -1.4531077376919588, -0.9043672973015906, -0.6668061770173981, -1.1221576857398172, -0.9667054948241145, -0.5339333645245737, -1.1124539429430085, -1.1547112419595977, -1.3854891160533422, 3.164481373976652, -0.6059427023774223, -1.3874977834300422, 1.517654782931796, -0.7071125658678828, -0.8332544992252634, -0.8702052846241743, -0.6439205077702775, -1.1024304662549258, -0.9755781521609039, -0.9210759944638693, -1.1053150979904236, 3.5614336733938683, -0.8046301991317981, -0.7196818653636208, -1.2099634858330774, -0.525469588274853, -1.0770304438013139, -0.7357799847112839, -1.201262066388037, -0.7192813396525599, -0.598887110219573, -0.7899211227180842, -1.0065096650020677, -1.1523879085059536, -1.4544269066134803, -0.33257172391692097, -1.0575049552888391], \"y\": [-0.09809819990394952, -2.51358553033358, 0.2730299326525716, 0.4531133065092901, -0.26313015267416107, -0.5676371265358936, -0.1827343182902011, -0.19220515158160664, 4.468529426291816, -2.627578760197941, -0.2544094943911119, -0.19551973219579832, -0.0267833893537395, -0.11994011067724959, -0.3608341924692838, -0.10082827477441861, -0.1313107957675059, -0.3093041045815304, -0.03847780657612819, -0.039431449953285645, -1.3969968448936205, -0.39690899290324266, 0.07896121342012932, 0.09958612136226781, -0.6008259187714805, 0.06217557704938981, -0.29814116289432463, -0.11849739428682662, 0.19858675735413633, -0.3108880618453898, -0.2906037570492921, -0.6051648989841459, -0.46863979843836473, 0.03134998136527313, -0.26550201664408757, -0.4330170012517265, -0.019241950699901464, 1.3069356061583597, -0.1806577865655812, -0.37518780383788203, -0.5495509239018588, 0.07616231431619092, -0.3935637776977687, -0.5175318354081901, -0.17884008007242796, 0.08565137875946045, -0.5779816342261348, -0.43316851165841036, 0.18123590541314533, -0.2967994576056513, 0.0950085228784313, -0.25541194150181257, 0.2131889604251502, -0.23387104712560478, -0.28206016465518446, -0.9801562544937132, -0.5993299956136385, -0.3585808028310967, -0.21558669260315866, 0.1956468664307874, -1.5687767216785702, -0.20606886990915765, -0.14370358186973714, -0.8638105999374787, -0.7200157289708576, -0.610714542281599, 0.043470980581042776, -0.03939235570706158, -0.2581034986207062, -0.3239497376005057, -0.7825781827686892, 0.18556143732408378, -0.3441642451384365, -2.6958152597352862, -0.11538325905849042, -0.3925870551151701, -0.11172386304194945, -0.06035686710273541, -0.4070515279868763, -0.25596210498668703, -0.035599615899111384, -0.18868918080727154, -0.5157375350599167, 0.30479929547279055, 0.2956828509742184, -0.36156900862284036, -0.63527781403503, -0.10462643242697531, -0.06101176519868654, -0.35854120730602046, 0.0489977969120659, -0.09494263789342063, 0.010625266678700049, -0.916632795353765, -0.4435128949222771, -0.4500193390067986, 0.37842353785755445, -0.23829882215587303]}, {\"marker\": {\"color\": \"rgba(219, 64, 82, 1.0)\", \"line\": {\"width\": 1.3}, \"opacity\": 0.8, \"size\": 12, \"symbol\": \"circle\"}, \"mode\": \"markers\", \"name\": \"ICCV\", \"text\": [\"VQA: Visual Question Answering\", \"CVAE-GAN: Fine-Grained Image Generation Through Asymmetric Training\", \"Convolutional Color Constancy\", \"Deep TextSpotter: An End-To-End Trainable Scene Text Localization and Recognition Framework\", \"SubUNets: End-To-End Hand Shape and Continuous Sign Language Recognition\", \"HashNet: Deep Learning to Hash by Continuation\", \"Deep Adaptive Image Clustering\", \"Deep Colorization\", \"Photographic Image Synthesis With Cascaded Refinement Networks\", \"Query-Guided Regression Network With Context Policy for Phrase Grounding\", \"Pixel Recursive Super Resolution\", \"Deformable Convolutional Networks\", \"Attributes2Classname: A Discriminative Model for Attribute-Based Unsupervised Zero-Shot Learning\", \"RPAN: An End-To-End Recurrent Pose-Attention Network for Action Recognition in Videos\", \"BlitzNet: A Real-Time Deep Network for Scene Understanding\", \"Predicting Depth, Surface Normals and Semantic Labels With a Common Multi-Scale Convolutional Architecture\", \"Interpretable Explanations of Black Boxes by Meaningful Perturbation\", \"Single Image 3D Without a Single 3D Image\", \"Associative Domain Adaptation\", \"Automatic Spatially-Aware Fashion Concept Discovery\", \"Mask R-CNN\", \"Beyond Face Rotation: Global and Local Perception GAN for Photorealistic and Identity Preserving Frontal View Synthesis\", \"Wavelet-SRNet: A Wavelet-Based CNN for Multi-Scale Face Super Resolution\", \"Learning to Reason: End-To-End Module Networks for Visual Question Answering\", \"DSLR-Quality Photos on Mobile Devices With Deep Convolutional Networks\", \"PoseNet: A Convolutional Network for Real-Time 6-DOF Camera Relocalization\", \"Escape From Cells: Deep Kd-Networks for the Recognition of 3D Point Cloud Models\", \"Learning to Push the Limits of Efficient FFT-Based Image Deconvolution\", \"Introspective Neural Networks for Generative Modeling\", \"RoomNet: End-To-End Room Layout Estimation\", \"Learning Efficient Convolutional Networks Through Network Slimming\", \"Raster-To-Vector: Revisiting Floorplan Transformation\", \"Rotation Equivariant Vector Field Networks\", \"Attentive Semantic Video Generation Using Captions\", \"Domain-Adaptive Deep Network Compression\", \"Learning Proximal Operators: Using Denoising Networks for Regularizing Inverse Imaging Problems\", \"Curriculum Dropout\", \"No Fuss Distance Metric Learning Using Proxies\", \"Video Frame Interpolation via Adaptive Separable Convolution\", \"Representation Learning by Learning to Count\", \"GANs for Biological Image Synthesis\", \"Following Gaze in Video\", \"EnhanceNet: Single Image Super-Resolution Through Automated Texture Synthesis\", \"Grad-CAM: Visual Explanations From Deep Networks via Gradient-Based Localization\", \"DSOD: Learning Deeply Supervised Object Detectors From Scratch\", \"Incremental Learning of Object Detectors Without Catastrophic Forgetting\", \"Hide-And-Seek: Forcing a Network to Be Meticulous for Weakly-Supervised Object and Action Localization\", \"Face Flow\", \"Multi-View Convolutional Neural Networks for 3D Shape Recognition\", \"Reasoning About Fine-Grained Attribute Phrases Using Reference Games\", \"Click Here: Human-Localized Keypoints as Guidance for Viewpoint Estimation\", \"MemNet: A Persistent Memory Network for Image Restoration\", \"Unsupervised Learning of Object Landmarks by Factorized Spatial Embeddings\", \"Image Super-Resolution Using Dense Skip Connections\", \"Unsupervised Adaptation for Deep Stereo\", \"Simultaneous Deep Transfer Across Domains and Tasks\", \"Sequence to Sequence - Video to Text\", \"Revisiting IM2GPS in the Deep Learning Era\", \"Multi-Label Image Recognition by Recurrently Discovering Attentional Regions\", \"Learning Blind Motion Deblurring\", \"Self-Organized Text Detection With Minimal Post-Processing via Border Learning\", \"Curriculum Domain Adaptation for Semantic Segmentation of Urban Scenes\", \"Learning Spread-Out Local Feature Descriptors\", \"Conditional Random Fields as Recurrent Neural Networks\", \"Unlabeled Samples Generated by GAN Improve the Person Re-Identification Baseline in Vitro\"], \"textfont\": {\"color\": \"#4D5663\"}, \"type\": \"scatter\", \"x\": [-0.6744029415731908, -0.19043705594378718, -0.9085717278105179, 1.6300358635131056, 3.164972441547218, 0.25124719906320603, -0.8270584611316155, -0.03616950300632938, -0.3537342985306732, 2.9578447207164476, -0.0812612314228092, -0.05782029110968302, -0.3313078184019225, -1.2807360908687704, -0.0812612314228092, -0.22418743227055532, -0.0819723658532885, -0.1389759096282807, -0.7475324062962819, -0.07223485414380348, -0.4380805003912448, -0.19043705594378718, 2.266130263125283, 3.19200967658024, 2.503222983953201, -0.5693634858062284, -0.2727199216031479, -0.0812612314228092, -0.24451728631688377, -0.07679190398637344, 2.2464709608402442, 0.025794381336780945, 0.14482134754439557, 3.3413577921917086, 0.00989497094628289, 0.00989497094628289, 0.046268679922574364, -0.2414663352326524, 0.15651380399816253, -0.0812612314228092, 2.873523850980571, -0.5045036604313667, -0.3823350667935582, -0.19043705594378718, 0.015133084640812049, 0.04438781824069089, -0.8271840258590543, -0.9068754454232248, -0.3230417995175868, -0.17894357024231364, -0.0812612314228092, 2.8810034890969654, -0.7102587869966009, -0.0812612314228092, -0.7870213458000238, 3.326490839000948, 2.2888880558057267, 2.911450929425397, -0.028902872836055506, -0.675027872831804, -0.16976690068644332, 0.8372579451745833, -0.1829033212350853, -0.3230417995175868, 1.0568294082861813], \"y\": [0.42971358214028027, 0.5493004435464403, 0.2173588651378266, 2.0862047329770443, -1.645312317755833, -0.15537016654548905, -0.43401252549999625, 0.40046185445392846, 0.2049134510844054, 3.294687069948729, 0.5384404403854417, -0.44589365429642164, 0.5162991798495961, -0.604467336236868, 0.5384404403854417, 0.7770277694929002, 0.11732534072358734, 0.6838894246552294, 0.12243303459262717, 0.48648988036284796, 0.1678731540861946, 0.5493004435464403, -1.0458791493706652, -0.36772242947520406, -1.705436122550856, 0.34669838784560447, 0.07967517119483086, 0.5384404403854417, -0.2180768004380677, 0.32703551394674907, -1.015228500868273, 0.04490335069482975, 0.07970119446348499, -0.1949884778589005, 0.45847929573566437, 0.45847929573566437, 0.4073954846355272, 0.0004073398937222833, 0.10548199774951748, 0.5384404403854417, -0.8217944144790361, -0.15965110721807935, 0.24806844551302734, 0.5493004435464403, 0.5170577774743079, 0.40037065138645045, 0.6676618394343464, 0.062319507388538475, 0.7886972157017655, 0.5382147647866975, 0.5384404403854417, -1.6461461834058528, -0.2620709469318295, 0.5384404403854417, -0.03813669441729118, -0.3448435380157544, 5.418877220894866, -0.4553728133741253, 0.3014765426325161, -0.16947026430802717, 0.5315097199675437, 0.4500478363136541, 0.49918922801591487, 0.7886972157017655, -1.877212097418774]}],\n",
       "                        {\"legend\": {\"bgcolor\": \"#F5F6F9\", \"font\": {\"color\": \"#4D5663\"}}, \"paper_bgcolor\": \"#F5F6F9\", \"plot_bgcolor\": \"#F5F6F9\", \"template\": {\"data\": {\"bar\": [{\"error_x\": {\"color\": \"#2a3f5f\"}, \"error_y\": {\"color\": \"#2a3f5f\"}, \"marker\": {\"line\": {\"color\": \"#E5ECF6\", \"width\": 0.5}}, \"type\": \"bar\"}], \"barpolar\": [{\"marker\": {\"line\": {\"color\": \"#E5ECF6\", \"width\": 0.5}}, \"type\": \"barpolar\"}], \"carpet\": [{\"aaxis\": {\"endlinecolor\": \"#2a3f5f\", \"gridcolor\": \"white\", \"linecolor\": \"white\", \"minorgridcolor\": \"white\", \"startlinecolor\": \"#2a3f5f\"}, \"baxis\": {\"endlinecolor\": \"#2a3f5f\", \"gridcolor\": \"white\", \"linecolor\": \"white\", \"minorgridcolor\": \"white\", \"startlinecolor\": \"#2a3f5f\"}, \"type\": \"carpet\"}], \"choropleth\": [{\"colorbar\": {\"outlinewidth\": 0, \"ticks\": \"\"}, \"type\": \"choropleth\"}], \"contour\": [{\"colorbar\": {\"outlinewidth\": 0, \"ticks\": \"\"}, \"colorscale\": [[0.0, \"#0d0887\"], [0.1111111111111111, \"#46039f\"], [0.2222222222222222, \"#7201a8\"], [0.3333333333333333, \"#9c179e\"], [0.4444444444444444, \"#bd3786\"], [0.5555555555555556, \"#d8576b\"], [0.6666666666666666, \"#ed7953\"], [0.7777777777777778, \"#fb9f3a\"], [0.8888888888888888, \"#fdca26\"], [1.0, \"#f0f921\"]], \"type\": \"contour\"}], \"contourcarpet\": [{\"colorbar\": {\"outlinewidth\": 0, \"ticks\": \"\"}, \"type\": \"contourcarpet\"}], \"heatmap\": [{\"colorbar\": {\"outlinewidth\": 0, \"ticks\": \"\"}, \"colorscale\": [[0.0, \"#0d0887\"], [0.1111111111111111, \"#46039f\"], [0.2222222222222222, \"#7201a8\"], [0.3333333333333333, \"#9c179e\"], [0.4444444444444444, \"#bd3786\"], [0.5555555555555556, \"#d8576b\"], [0.6666666666666666, \"#ed7953\"], [0.7777777777777778, \"#fb9f3a\"], [0.8888888888888888, \"#fdca26\"], [1.0, \"#f0f921\"]], \"type\": \"heatmap\"}], \"heatmapgl\": [{\"colorbar\": {\"outlinewidth\": 0, \"ticks\": \"\"}, \"colorscale\": [[0.0, \"#0d0887\"], [0.1111111111111111, \"#46039f\"], [0.2222222222222222, \"#7201a8\"], [0.3333333333333333, \"#9c179e\"], [0.4444444444444444, \"#bd3786\"], [0.5555555555555556, \"#d8576b\"], [0.6666666666666666, \"#ed7953\"], [0.7777777777777778, \"#fb9f3a\"], [0.8888888888888888, \"#fdca26\"], [1.0, \"#f0f921\"]], \"type\": \"heatmapgl\"}], \"histogram\": [{\"marker\": {\"colorbar\": {\"outlinewidth\": 0, \"ticks\": \"\"}}, \"type\": \"histogram\"}], \"histogram2d\": [{\"colorbar\": {\"outlinewidth\": 0, \"ticks\": \"\"}, \"colorscale\": [[0.0, \"#0d0887\"], [0.1111111111111111, \"#46039f\"], [0.2222222222222222, \"#7201a8\"], [0.3333333333333333, \"#9c179e\"], [0.4444444444444444, \"#bd3786\"], [0.5555555555555556, \"#d8576b\"], [0.6666666666666666, \"#ed7953\"], [0.7777777777777778, \"#fb9f3a\"], [0.8888888888888888, \"#fdca26\"], [1.0, \"#f0f921\"]], \"type\": \"histogram2d\"}], \"histogram2dcontour\": [{\"colorbar\": {\"outlinewidth\": 0, \"ticks\": \"\"}, \"colorscale\": [[0.0, \"#0d0887\"], [0.1111111111111111, \"#46039f\"], [0.2222222222222222, \"#7201a8\"], [0.3333333333333333, \"#9c179e\"], [0.4444444444444444, \"#bd3786\"], [0.5555555555555556, \"#d8576b\"], [0.6666666666666666, \"#ed7953\"], [0.7777777777777778, \"#fb9f3a\"], [0.8888888888888888, \"#fdca26\"], [1.0, \"#f0f921\"]], \"type\": \"histogram2dcontour\"}], \"mesh3d\": [{\"colorbar\": {\"outlinewidth\": 0, \"ticks\": \"\"}, \"type\": \"mesh3d\"}], \"parcoords\": [{\"line\": {\"colorbar\": {\"outlinewidth\": 0, \"ticks\": \"\"}}, \"type\": \"parcoords\"}], \"pie\": [{\"automargin\": true, \"type\": \"pie\"}], \"scatter\": [{\"marker\": {\"colorbar\": {\"outlinewidth\": 0, \"ticks\": \"\"}}, \"type\": \"scatter\"}], \"scatter3d\": [{\"line\": {\"colorbar\": {\"outlinewidth\": 0, \"ticks\": \"\"}}, \"marker\": {\"colorbar\": {\"outlinewidth\": 0, \"ticks\": \"\"}}, \"type\": \"scatter3d\"}], \"scattercarpet\": [{\"marker\": {\"colorbar\": {\"outlinewidth\": 0, \"ticks\": \"\"}}, \"type\": \"scattercarpet\"}], \"scattergeo\": [{\"marker\": {\"colorbar\": {\"outlinewidth\": 0, \"ticks\": \"\"}}, \"type\": \"scattergeo\"}], \"scattergl\": [{\"marker\": {\"colorbar\": {\"outlinewidth\": 0, \"ticks\": \"\"}}, \"type\": \"scattergl\"}], \"scattermapbox\": [{\"marker\": {\"colorbar\": {\"outlinewidth\": 0, \"ticks\": \"\"}}, \"type\": \"scattermapbox\"}], \"scatterpolar\": [{\"marker\": {\"colorbar\": {\"outlinewidth\": 0, \"ticks\": \"\"}}, \"type\": \"scatterpolar\"}], \"scatterpolargl\": [{\"marker\": {\"colorbar\": {\"outlinewidth\": 0, \"ticks\": \"\"}}, \"type\": \"scatterpolargl\"}], \"scatterternary\": [{\"marker\": {\"colorbar\": {\"outlinewidth\": 0, \"ticks\": \"\"}}, \"type\": \"scatterternary\"}], \"surface\": [{\"colorbar\": {\"outlinewidth\": 0, \"ticks\": \"\"}, \"colorscale\": [[0.0, \"#0d0887\"], [0.1111111111111111, \"#46039f\"], [0.2222222222222222, \"#7201a8\"], [0.3333333333333333, \"#9c179e\"], [0.4444444444444444, \"#bd3786\"], [0.5555555555555556, \"#d8576b\"], [0.6666666666666666, \"#ed7953\"], [0.7777777777777778, \"#fb9f3a\"], [0.8888888888888888, \"#fdca26\"], [1.0, \"#f0f921\"]], \"type\": \"surface\"}], \"table\": [{\"cells\": {\"fill\": {\"color\": \"#EBF0F8\"}, \"line\": {\"color\": \"white\"}}, \"header\": {\"fill\": {\"color\": \"#C8D4E3\"}, \"line\": {\"color\": \"white\"}}, \"type\": \"table\"}]}, \"layout\": {\"annotationdefaults\": {\"arrowcolor\": \"#2a3f5f\", \"arrowhead\": 0, \"arrowwidth\": 1}, \"coloraxis\": {\"colorbar\": {\"outlinewidth\": 0, \"ticks\": \"\"}}, \"colorscale\": {\"diverging\": [[0, \"#8e0152\"], [0.1, \"#c51b7d\"], [0.2, \"#de77ae\"], [0.3, \"#f1b6da\"], [0.4, \"#fde0ef\"], [0.5, \"#f7f7f7\"], [0.6, \"#e6f5d0\"], [0.7, \"#b8e186\"], [0.8, \"#7fbc41\"], [0.9, \"#4d9221\"], [1, \"#276419\"]], \"sequential\": [[0.0, \"#0d0887\"], [0.1111111111111111, \"#46039f\"], [0.2222222222222222, \"#7201a8\"], [0.3333333333333333, \"#9c179e\"], [0.4444444444444444, \"#bd3786\"], [0.5555555555555556, \"#d8576b\"], [0.6666666666666666, \"#ed7953\"], [0.7777777777777778, \"#fb9f3a\"], [0.8888888888888888, \"#fdca26\"], [1.0, \"#f0f921\"]], \"sequentialminus\": [[0.0, \"#0d0887\"], [0.1111111111111111, \"#46039f\"], [0.2222222222222222, \"#7201a8\"], [0.3333333333333333, \"#9c179e\"], [0.4444444444444444, \"#bd3786\"], [0.5555555555555556, \"#d8576b\"], [0.6666666666666666, \"#ed7953\"], [0.7777777777777778, \"#fb9f3a\"], [0.8888888888888888, \"#fdca26\"], [1.0, \"#f0f921\"]]}, \"colorway\": [\"#636efa\", \"#EF553B\", \"#00cc96\", \"#ab63fa\", \"#FFA15A\", \"#19d3f3\", \"#FF6692\", \"#B6E880\", \"#FF97FF\", \"#FECB52\"], \"font\": {\"color\": \"#2a3f5f\"}, \"geo\": {\"bgcolor\": \"white\", \"lakecolor\": \"white\", \"landcolor\": \"#E5ECF6\", \"showlakes\": true, \"showland\": true, \"subunitcolor\": \"white\"}, \"hoverlabel\": {\"align\": \"left\"}, \"hovermode\": \"closest\", \"mapbox\": {\"style\": \"light\"}, \"paper_bgcolor\": \"white\", \"plot_bgcolor\": \"#E5ECF6\", \"polar\": {\"angularaxis\": {\"gridcolor\": \"white\", \"linecolor\": \"white\", \"ticks\": \"\"}, \"bgcolor\": \"#E5ECF6\", \"radialaxis\": {\"gridcolor\": \"white\", \"linecolor\": \"white\", \"ticks\": \"\"}}, \"scene\": {\"xaxis\": {\"backgroundcolor\": \"#E5ECF6\", \"gridcolor\": \"white\", \"gridwidth\": 2, \"linecolor\": \"white\", \"showbackground\": true, \"ticks\": \"\", \"zerolinecolor\": \"white\"}, \"yaxis\": {\"backgroundcolor\": \"#E5ECF6\", \"gridcolor\": \"white\", \"gridwidth\": 2, \"linecolor\": \"white\", \"showbackground\": true, \"ticks\": \"\", \"zerolinecolor\": \"white\"}, \"zaxis\": {\"backgroundcolor\": \"#E5ECF6\", \"gridcolor\": \"white\", \"gridwidth\": 2, \"linecolor\": \"white\", \"showbackground\": true, \"ticks\": \"\", \"zerolinecolor\": \"white\"}}, \"shapedefaults\": {\"line\": {\"color\": \"#2a3f5f\"}}, \"ternary\": {\"aaxis\": {\"gridcolor\": \"white\", \"linecolor\": \"white\", \"ticks\": \"\"}, \"baxis\": {\"gridcolor\": \"white\", \"linecolor\": \"white\", \"ticks\": \"\"}, \"bgcolor\": \"#E5ECF6\", \"caxis\": {\"gridcolor\": \"white\", \"linecolor\": \"white\", \"ticks\": \"\"}}, \"title\": {\"x\": 0.05}, \"xaxis\": {\"automargin\": true, \"gridcolor\": \"white\", \"linecolor\": \"white\", \"ticks\": \"\", \"title\": {\"standoff\": 15}, \"zerolinecolor\": \"white\", \"zerolinewidth\": 2}, \"yaxis\": {\"automargin\": true, \"gridcolor\": \"white\", \"linecolor\": \"white\", \"ticks\": \"\", \"title\": {\"standoff\": 15}, \"zerolinecolor\": \"white\", \"zerolinewidth\": 2}}}, \"title\": {\"font\": {\"color\": \"#4D5663\"}}, \"xaxis\": {\"gridcolor\": \"#E1E5ED\", \"showgrid\": true, \"tickfont\": {\"color\": \"#4D5663\"}, \"title\": {\"font\": {\"color\": \"#4D5663\"}, \"text\": \"\"}, \"zerolinecolor\": \"#E1E5ED\"}, \"yaxis\": {\"gridcolor\": \"#E1E5ED\", \"showgrid\": true, \"tickfont\": {\"color\": \"#4D5663\"}, \"title\": {\"font\": {\"color\": \"#4D5663\"}, \"text\": \"\"}, \"zerolinecolor\": \"#E1E5ED\"}},\n",
       "                        {\"showLink\": true, \"linkText\": \"Export to plot.ly\", \"plotlyServerURL\": \"https://plot.ly\", \"responsive\": true}\n",
       "                    ).then(function(){\n",
       "                            \n",
       "var gd = document.getElementById('76e9b649-8f27-4efa-a0dd-6f93989016ee');\n",
       "var x = new MutationObserver(function (mutations, observer) {{\n",
       "        var display = window.getComputedStyle(gd).display;\n",
       "        if (!display || display === 'none') {{\n",
       "            console.log([gd, 'removed!']);\n",
       "            Plotly.purge(gd);\n",
       "            observer.disconnect();\n",
       "        }}\n",
       "}});\n",
       "\n",
       "// Listen for the removal of the full notebook cells\n",
       "var notebookContainer = gd.closest('#notebook-container');\n",
       "if (notebookContainer) {{\n",
       "    x.observe(notebookContainer, {childList: true});\n",
       "}}\n",
       "\n",
       "// Listen for the clearing of the current output cell\n",
       "var outputEl = gd.closest('.output');\n",
       "if (outputEl) {{\n",
       "    x.observe(outputEl, {childList: true});\n",
       "}}\n",
       "\n",
       "                        })\n",
       "                };\n",
       "                });\n",
       "            </script>\n",
       "        </div>"
      ]
     },
     "metadata": {},
     "output_type": "display_data"
    }
   ],
   "source": [
    "#visualize(emb,meta,method='SpectralEmbedding',dim=2)\n",
    "visualize(emb,meta,method='PCA',dim=2)"
   ]
  },
  {
   "cell_type": "code",
   "execution_count": null,
   "metadata": {},
   "outputs": [],
   "source": []
  }
 ],
 "metadata": {
  "kernelspec": {
   "display_name": "Python 3",
   "language": "python",
   "name": "python3"
  },
  "language_info": {
   "codemirror_mode": {
    "name": "ipython",
    "version": 3
   },
   "file_extension": ".py",
   "mimetype": "text/x-python",
   "name": "python",
   "nbconvert_exporter": "python",
   "pygments_lexer": "ipython3",
   "version": "3.7.3"
  }
 },
 "nbformat": 4,
 "nbformat_minor": 2
}
